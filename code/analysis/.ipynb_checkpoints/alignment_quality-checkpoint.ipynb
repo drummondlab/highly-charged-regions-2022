{
 "cells": [
  {
   "cell_type": "code",
   "execution_count": 1,
   "metadata": {},
   "outputs": [],
   "source": [
    "import sys\n",
    "sys.path.insert(1, '../scripts')"
   ]
  },
  {
   "cell_type": "code",
   "execution_count": 2,
   "metadata": {},
   "outputs": [],
   "source": [
    "# data processing\n",
    "import random\n",
    "from scipy import stats\n",
    "import pandas as pd\n",
    "from Bio import AlignIO\n",
    "import alignment_quality as aq\n",
    "import crutil as util\n",
    "\n",
    "# plotting\n",
    "import matplotlib.pyplot as plt\n",
    "import seaborn as sns"
   ]
  },
  {
   "cell_type": "code",
   "execution_count": 3,
   "metadata": {},
   "outputs": [],
   "source": [
    "import warnings\n",
    "warnings.filterwarnings('ignore')"
   ]
  },
  {
   "cell_type": "code",
   "execution_count": 4,
   "metadata": {},
   "outputs": [],
   "source": [
    "all_aa = ['A', 'C', 'D', 'E', 'F', 'G', 'H', 'I', 'K', 'L',\n",
    "          'M', 'N', 'P', 'Q', 'R', 'S', 'T', 'V', 'W', 'Y']"
   ]
  },
  {
   "cell_type": "markdown",
   "metadata": {},
   "source": [
    "## Functions"
   ]
  },
  {
   "cell_type": "code",
   "execution_count": 5,
   "metadata": {},
   "outputs": [],
   "source": [
    "def get_region_msa_from_df(row):\n",
    "    fdir = '/mnt/d/research/drummond-lab/data/aybrah-all/'\n",
    "    orf = row['orf']\n",
    "    refseq = row['region.seq']\n",
    "    left_bound = row['left.bound']\n",
    "    right_bound = row['right.bound']\n",
    "    msa = AlignIO.read(open(fdir+str(orf)+'-aybrah.fa'), \"fasta\")\n",
    "    region_msa = aq.extract_region_msa(msa, left_bound, right_bound, refseq=refseq)\n",
    "    return region_msa"
   ]
  },
  {
   "cell_type": "code",
   "execution_count": 6,
   "metadata": {},
   "outputs": [],
   "source": [
    "def append_alignment_quality(row):\n",
    "    region_msa = get_region_msa_from_df(row)\n",
    "    gappiness = aq.compute_alignment_quality(region_msa)\n",
    "    seq_div = aq.get_seq_divergence_from_region_msa(region_msa, all_aa)\n",
    "    return pd.Series(dict(gappiness=gappiness, seq_div=seq_div))"
   ]
  },
  {
   "cell_type": "code",
   "execution_count": 7,
   "metadata": {},
   "outputs": [],
   "source": [
    "def get_uncharged_region_ranges(charged_regions, msa_len):\n",
    "    uncharged_regions = []\n",
    "    \n",
    "    if charged_regions[0][0] != 0:\n",
    "        uncharged_regions.append((0, charged_regions[0][0] - 1))\n",
    "        \n",
    "    start = charged_regions[0][1] + 1\n",
    "    for region in charged_regions[1:]:\n",
    "        uncharged_regions.append((start, region[0]-1))\n",
    "        start = region[1] + 1\n",
    "\n",
    "    if charged_regions[-1][1] != (msa_len - 1):\n",
    "        uncharged_regions.append((charged_regions[-1][1], msa_len-1))\n",
    "        \n",
    "    return uncharged_regions"
   ]
  },
  {
   "cell_type": "code",
   "execution_count": 8,
   "metadata": {},
   "outputs": [],
   "source": [
    "def extract_uncharged_region_msa(msa, charged_regions):\n",
    "    uncharged_regions = get_uncharged_region_ranges(charged_regions, len(msa[0]))\n",
    "    for record in msa:\n",
    "        uncharged_seq = ''\n",
    "        for region in uncharged_regions:\n",
    "            uncharged_seq += record.seq[region[0]:(region[1]+1)]\n",
    "        record.seq = uncharged_seq\n",
    "    return msa"
   ]
  },
  {
   "cell_type": "code",
   "execution_count": 9,
   "metadata": {},
   "outputs": [],
   "source": [
    "def append_null_alignment_quality(row):\n",
    "    orf = row['orf']\n",
    "    refseq = row['region.seq']\n",
    "    left_bound = row['left.bound']\n",
    "    right_bound = row['right.bound']\n",
    "    charged_regions = ranges_dict[orf]\n",
    "    msa = AlignIO.read(open(fdir+str(orf)+'-aybrah.fa'), \"fasta\")\n",
    "    msa_left_bound, msa_right_bound = aq.get_region_range(msa, left_bound, right_bound, refseq=refseq)\n",
    "    regionlen = msa_right_bound - msa_left_bound\n",
    "    uncharged_region_msa = extract_uncharged_region_msa(msa, charged_regions)\n",
    "    random_region_msa = aq.extract_random_region_from_msa(uncharged_region_msa, regionlen)\n",
    "    \n",
    "    gappiness = aq.compute_alignment_quality(random_region_msa)\n",
    "    seq_div = aq.get_seq_divergence_from_region_msa(random_region_msa, all_aa)\n",
    "        \n",
    "    return pd.Series(dict(gappiness_null=gappiness, seq_div_null=seq_div))"
   ]
  },
  {
   "cell_type": "code",
   "execution_count": 10,
   "metadata": {},
   "outputs": [],
   "source": [
    "def extract_random_region_from_proteome(fdir, regionlen, valid_orfs):\n",
    "    msa = None\n",
    "    cnt = 0\n",
    "    while msa is None:\n",
    "        orf_i = random.randrange(len(valid_orfs))\n",
    "        orf = valid_orfs[orf_i]\n",
    "        msa = AlignIO.read(open(fdir+str(orf)+'-aybrah.fa'), \"fasta\")\n",
    "        if len(msa[0].seq) <= regionlen:\n",
    "            msa = None\n",
    "        cnt += 1\n",
    "        if cnt >= 20:\n",
    "            print(regionlen)\n",
    "    starti = random.randrange(len(msa[0].seq) - regionlen)\n",
    "    random_msa = msa[:, starti:(starti + regionlen)]    \n",
    "    return random_msa"
   ]
  },
  {
   "cell_type": "markdown",
   "metadata": {},
   "source": [
    "## Compute alignment quality for all hits - threshold 0.4"
   ]
  },
  {
   "cell_type": "code",
   "execution_count": 11,
   "metadata": {},
   "outputs": [],
   "source": [
    "df = pd.read_csv('../../data/charged_regions/cr_filtered.csv', comment='#')"
   ]
  },
  {
   "cell_type": "code",
   "execution_count": 12,
   "metadata": {},
   "outputs": [],
   "source": [
    "aybrah_path = '/mnt/d/research/drummond-lab/data/aybrah-all/'"
   ]
  },
  {
   "cell_type": "code",
   "execution_count": 13,
   "metadata": {},
   "outputs": [],
   "source": [
    "msa = AlignIO.read(open(aybrah_path+str('YCL011C')+'-aybrah.fa'), \"fasta\")"
   ]
  },
  {
   "cell_type": "code",
   "execution_count": 14,
   "metadata": {},
   "outputs": [],
   "source": [
    "df = df.join(df.apply(append_alignment_quality, axis=\"columns\"))"
   ]
  },
  {
   "cell_type": "code",
   "execution_count": 15,
   "metadata": {},
   "outputs": [
    {
     "data": {
      "text/html": [
       "<div>\n",
       "<style scoped>\n",
       "    .dataframe tbody tr th:only-of-type {\n",
       "        vertical-align: middle;\n",
       "    }\n",
       "\n",
       "    .dataframe tbody tr th {\n",
       "        vertical-align: top;\n",
       "    }\n",
       "\n",
       "    .dataframe thead th {\n",
       "        text-align: right;\n",
       "    }\n",
       "</style>\n",
       "<table border=\"1\" class=\"dataframe\">\n",
       "  <thead>\n",
       "    <tr style=\"text-align: right;\">\n",
       "      <th></th>\n",
       "      <th>orf</th>\n",
       "      <th>gene</th>\n",
       "      <th>seq.len</th>\n",
       "      <th>left.bound</th>\n",
       "      <th>right.bound</th>\n",
       "      <th>region.seq</th>\n",
       "      <th>region.len</th>\n",
       "      <th>charge.asymmetry</th>\n",
       "      <th>frac.charge</th>\n",
       "      <th>kappa1</th>\n",
       "      <th>kappa2</th>\n",
       "      <th>uni_id</th>\n",
       "      <th>orf_label</th>\n",
       "      <th>gappiness</th>\n",
       "      <th>seq_div</th>\n",
       "    </tr>\n",
       "  </thead>\n",
       "  <tbody>\n",
       "    <tr>\n",
       "      <th>62</th>\n",
       "      <td>YBR278W</td>\n",
       "      <td>DPB3</td>\n",
       "      <td>202</td>\n",
       "      <td>108</td>\n",
       "      <td>166</td>\n",
       "      <td>QPGRSDQEVVIEEPELHEDDGVEEEEEEDEVSEEEEPVHNEELLDD...</td>\n",
       "      <td>59</td>\n",
       "      <td>0.273446</td>\n",
       "      <td>0.508475</td>\n",
       "      <td>0.114140</td>\n",
       "      <td>0.416735</td>\n",
       "      <td>P27344</td>\n",
       "      <td>verified</td>\n",
       "      <td>NaN</td>\n",
       "      <td>NaN</td>\n",
       "    </tr>\n",
       "    <tr>\n",
       "      <th>433</th>\n",
       "      <td>YIL149C</td>\n",
       "      <td>MLP2</td>\n",
       "      <td>1680</td>\n",
       "      <td>60</td>\n",
       "      <td>106</td>\n",
       "      <td>KLKQLLDESSEQKNTAKEELNGLKDQLNEERSRYRREIDALKKQLHV</td>\n",
       "      <td>47</td>\n",
       "      <td>0.001013</td>\n",
       "      <td>0.446809</td>\n",
       "      <td>0.073132</td>\n",
       "      <td>0.185590</td>\n",
       "      <td>P40457</td>\n",
       "      <td>verified</td>\n",
       "      <td>NaN</td>\n",
       "      <td>NaN</td>\n",
       "    </tr>\n",
       "  </tbody>\n",
       "</table>\n",
       "</div>"
      ],
      "text/plain": [
       "         orf  gene  seq.len  left.bound  right.bound  \\\n",
       "62   YBR278W  DPB3      202         108          166   \n",
       "433  YIL149C  MLP2     1680          60          106   \n",
       "\n",
       "                                            region.seq  region.len  \\\n",
       "62   QPGRSDQEVVIEEPELHEDDGVEEEEEEDEVSEEEEPVHNEELLDD...          59   \n",
       "433    KLKQLLDESSEQKNTAKEELNGLKDQLNEERSRYRREIDALKKQLHV          47   \n",
       "\n",
       "     charge.asymmetry  frac.charge    kappa1    kappa2  uni_id orf_label  \\\n",
       "62           0.273446     0.508475  0.114140  0.416735  P27344  verified   \n",
       "433          0.001013     0.446809  0.073132  0.185590  P40457  verified   \n",
       "\n",
       "     gappiness  seq_div  \n",
       "62         NaN      NaN  \n",
       "433        NaN      NaN  "
      ]
     },
     "execution_count": 15,
     "metadata": {},
     "output_type": "execute_result"
    }
   ],
   "source": [
    "df[df['gappiness'].isna()]"
   ]
  },
  {
   "cell_type": "code",
   "execution_count": 16,
   "metadata": {},
   "outputs": [],
   "source": [
    "fdir = '/mnt/d/research/drummond-lab/data/aybrah-all/'\n",
    "ranges_dict = {}\n",
    "for index, row in df.iterrows():\n",
    "    orf = row['orf']\n",
    "    msa = AlignIO.read(open(fdir+str(orf)+'-aybrah.fa'), \"fasta\")\n",
    "    if orf not in ranges_dict:\n",
    "        ranges_dict[orf] = []\n",
    "    refseq = row['region.seq']\n",
    "    left_bound = row['left.bound']\n",
    "    right_bound = row['right.bound']\n",
    "    msa_left_bound, msa_right_bound = aq.get_region_range(msa, left_bound, right_bound, refseq=refseq)\n",
    "    ranges_dict[orf].append((msa_left_bound, msa_right_bound))"
   ]
  },
  {
   "cell_type": "code",
   "execution_count": 17,
   "metadata": {},
   "outputs": [],
   "source": [
    "df = df.join(df.apply(append_null_alignment_quality, axis=\"columns\"))"
   ]
  },
  {
   "cell_type": "code",
   "execution_count": 18,
   "metadata": {},
   "outputs": [],
   "source": [
    "verified_orfs_with_msa = pd.read_csv('../..//data/sc_orfs/verified_orfs_with_msa.csv')\n",
    "valid_orfs = verified_orfs_with_msa['systematic_name'].tolist()"
   ]
  },
  {
   "cell_type": "code",
   "execution_count": 19,
   "metadata": {},
   "outputs": [],
   "source": [
    "df = df.dropna(how='any')"
   ]
  },
  {
   "cell_type": "code",
   "execution_count": 20,
   "metadata": {},
   "outputs": [],
   "source": [
    "#df.to_csv('./data/charged-regions-aq.csv', index=False)"
   ]
  },
  {
   "cell_type": "code",
   "execution_count": 21,
   "metadata": {},
   "outputs": [],
   "source": [
    "fdir = '/mnt/d/research/drummond-lab/data/aybrah-all/'\n",
    "df_random = pd.DataFrame(columns = ['gappiness', 'seq_div'])\n",
    "for k,v in ranges_dict.items():\n",
    "    for charged_region in v:\n",
    "        regionlen = charged_region[1] - charged_region[0] + 1\n",
    "        random_msa = extract_random_region_from_proteome(fdir, regionlen, valid_orfs)\n",
    "        gappiness = aq.compute_alignment_quality(random_msa)\n",
    "        seq_div = aq.get_seq_divergence_from_region_msa(random_msa, all_aa)\n",
    "        df_random = df_random.append({'gappiness': gappiness, 'seq_div': seq_div}, ignore_index=True)"
   ]
  },
  {
   "cell_type": "code",
   "execution_count": 22,
   "metadata": {},
   "outputs": [],
   "source": [
    "df_random = df_random.dropna(how='any')"
   ]
  },
  {
   "cell_type": "markdown",
   "metadata": {},
   "source": [
    "## Alignment quality of IDRs"
   ]
  },
  {
   "cell_type": "code",
   "execution_count": 23,
   "metadata": {},
   "outputs": [],
   "source": [
    "df_disprot = pd.read_table('../../data/misc/search_in_disprot.tsv')"
   ]
  },
  {
   "cell_type": "code",
   "execution_count": 24,
   "metadata": {},
   "outputs": [],
   "source": [
    "with open('../../data/misc/uniprot-to-sgdid.txt') as f:\n",
    "    mappings = {}\n",
    "    for line in f:\n",
    "        uniprot = line[95:106].rstrip()\n",
    "        orf = line[75:95].rstrip()\n",
    "        mappings[uniprot] = orf"
   ]
  },
  {
   "cell_type": "code",
   "execution_count": 25,
   "metadata": {},
   "outputs": [],
   "source": [
    "verified_orfs_with_msa = pd.read_csv('../../data/sc_orfs/verified_orfs_with_msa.csv')\n",
    "valid_orfs = verified_orfs_with_msa['systematic_name'].tolist()"
   ]
  },
  {
   "cell_type": "code",
   "execution_count": 26,
   "metadata": {},
   "outputs": [],
   "source": [
    "def append_orf_name(row):\n",
    "    orf = mappings[row['acc']]\n",
    "    return orf"
   ]
  },
  {
   "cell_type": "code",
   "execution_count": 27,
   "metadata": {},
   "outputs": [],
   "source": [
    "df_disprot['orf'] = df_disprot.apply(lambda row:append_orf_name(row), axis=1)"
   ]
  },
  {
   "cell_type": "code",
   "execution_count": 28,
   "metadata": {},
   "outputs": [],
   "source": [
    "df_disprot = df_disprot[df_disprot['orf'].isin(valid_orfs)]"
   ]
  },
  {
   "cell_type": "code",
   "execution_count": 29,
   "metadata": {},
   "outputs": [],
   "source": [
    "def append_alignment_quality_disprot(row):\n",
    "    fdir = '/mnt/d/research/drummond-lab/data/aybrah-all/'\n",
    "    orf = row['orf']\n",
    "    refseq = row['region_sequence']\n",
    "    left_bound = row['start']\n",
    "    right_bound = row['end']\n",
    "    msa = AlignIO.read(open(fdir+str(orf)+'-aybrah.fa'), \"fasta\")\n",
    "    region_msa = aq.extract_region_msa(msa, left_bound, right_bound, refseq=refseq)\n",
    "    gappiness = aq.compute_alignment_quality(region_msa)\n",
    "    seq_div = aq.get_seq_divergence_from_region_msa(region_msa, all_aa)\n",
    "    return pd.Series(dict(gappiness=gappiness, seq_div=seq_div))"
   ]
  },
  {
   "cell_type": "code",
   "execution_count": 30,
   "metadata": {},
   "outputs": [],
   "source": [
    "df_disprot = df_disprot.join(df_disprot.apply(append_alignment_quality_disprot, axis=\"columns\"))"
   ]
  },
  {
   "cell_type": "code",
   "execution_count": 31,
   "metadata": {},
   "outputs": [],
   "source": [
    "df_disprot = df_disprot[df_disprot['gappiness'].notna()]"
   ]
  },
  {
   "cell_type": "markdown",
   "metadata": {},
   "source": [
    "## Summary plot for gappiness"
   ]
  },
  {
   "cell_type": "code",
   "execution_count": 32,
   "metadata": {},
   "outputs": [
    {
     "data": {
      "image/png": "[encoded data removed]",
      "text/plain": [
       "<Figure size 720x288 with 2 Axes>"
      ]
     },
     "metadata": {
      "needs_background": "light"
     },
     "output_type": "display_data"
    }
   ],
   "source": [
    "fig, axes = plt.subplots(1, 2, sharey=True, figsize=(10,4))\n",
    "ax1, ax2 = axes[0], axes[1]\n",
    "\n",
    "sns.kdeplot(data=df, x='gappiness', color='dodgerblue', ax=ax1)\n",
    "sns.kdeplot(data=df_disprot, x='gappiness', color='slateblue', ax=ax1)\n",
    "sns.kdeplot(data=df, x='gappiness_null', color='salmon', ax=ax1)\n",
    "sns.kdeplot(data=df_random, x='gappiness', color='forestgreen', ax=ax1)\n",
    "ax1.set_xlabel('Mean frequency of gaps', fontsize=12)\n",
    "ax1.set_ylabel('Density', fontsize=12)\n",
    "\n",
    "sns.kdeplot(data=df, x='seq_div', color='dodgerblue', ax=ax2)\n",
    "sns.kdeplot(data=df_disprot, x='seq_div', color='slateblue', ax=ax2)\n",
    "sns.kdeplot(data=df, x='seq_div_null', color='salmon', ax=ax2)\n",
    "sns.kdeplot(data=df_random, x='seq_div', color='forestgreen', ax=ax2)\n",
    "ax2.set_xlabel('Sequence divergence', fontsize=12)\n",
    "\n",
    "plt.legend(['Charged regions',\n",
    "            'IDRs from DisProt',\n",
    "            'Randomly selected regions,\\ncharged proteins',\n",
    "            'Randomly selected regions,\\nproteome-wide'],\n",
    "           bbox_to_anchor=(1.05, 0.65))\n",
    "plt.tight_layout()\n",
    "#plt.savefig('./figures/alignment-quality-medthreshold.png', dpi=500)\n",
    "plt.show()"
   ]
  },
  {
   "cell_type": "code",
   "execution_count": 33,
   "metadata": {},
   "outputs": [
    {
     "data": {
      "image/png": "[encoded data removed]",
      "text/plain": [
       "<Figure size 720x288 with 2 Axes>"
      ]
     },
     "metadata": {
      "needs_background": "light"
     },
     "output_type": "display_data"
    }
   ],
   "source": [
    "fig, axes = plt.subplots(1, 2, sharey=True, figsize=(10,4))\n",
    "ax1, ax2 = axes[0], axes[1]\n",
    "\n",
    "sns.ecdfplot(data=df, x='gappiness', color='dodgerblue', ax=ax1)\n",
    "sns.ecdfplot(data=df_disprot, x='gappiness', color='slateblue', ax=ax1)\n",
    "sns.ecdfplot(data=df, x='gappiness_null', color='salmon', ax=ax1)\n",
    "sns.ecdfplot(data=df_random, x='gappiness', color='forestgreen', ax=ax1)\n",
    "ax1.set_xlabel('Mean frequency of gaps', fontsize=12)\n",
    "ax1.set_ylabel('CDF', fontsize=12)\n",
    "\n",
    "sns.ecdfplot(data=df, x='seq_div', color='dodgerblue', ax=ax2)\n",
    "sns.ecdfplot(data=df_disprot, x='seq_div', color='slateblue', ax=ax2)\n",
    "sns.ecdfplot(data=df, x='seq_div_null', color='salmon', ax=ax2)\n",
    "sns.ecdfplot(data=df_random, x='seq_div', color='forestgreen', ax=ax2)\n",
    "ax2.set_xlabel('Sequence divergence', fontsize=12)\n",
    "\n",
    "plt.legend(['Charged regions',\n",
    "            'IDRs from DisProt',\n",
    "            'Randomly selected regions,\\ncharged proteins',\n",
    "            'Randomly selected regions,\\nproteome-wide'],\n",
    "           bbox_to_anchor=(1.05, 0.65))\n",
    "plt.tight_layout()\n",
    "#plt.savefig('./figures/alignment-quality-medthreshold.png', dpi=500)\n",
    "plt.show()"
   ]
  },
  {
   "cell_type": "markdown",
   "metadata": {},
   "source": [
    "### Statistical tests"
   ]
  },
  {
   "cell_type": "code",
   "execution_count": 34,
   "metadata": {},
   "outputs": [
    {
     "data": {
      "text/plain": [
       "Ks_2sampResult(statistic=0.13005464480874318, pvalue=3.66687471800144e-07)"
      ]
     },
     "execution_count": 34,
     "metadata": {},
     "output_type": "execute_result"
    }
   ],
   "source": [
    "stats.ks_2samp(df['gappiness'], df['gappiness_null'])"
   ]
  },
  {
   "cell_type": "code",
   "execution_count": 35,
   "metadata": {},
   "outputs": [
    {
     "data": {
      "text/plain": [
       "Ks_2sampResult(statistic=0.15247121389539423, pvalue=1.1669003541214806e-09)"
      ]
     },
     "execution_count": 35,
     "metadata": {},
     "output_type": "execute_result"
    }
   ],
   "source": [
    "stats.ks_2samp(df['gappiness'], df_random['gappiness'])"
   ]
  },
  {
   "cell_type": "code",
   "execution_count": 36,
   "metadata": {},
   "outputs": [
    {
     "data": {
      "text/plain": [
       "Ks_2sampResult(statistic=0.09764033780427223, pvalue=0.014375492767865539)"
      ]
     },
     "execution_count": 36,
     "metadata": {},
     "output_type": "execute_result"
    }
   ],
   "source": [
    "stats.ks_2samp(df['gappiness'], df_disprot['gappiness'])"
   ]
  },
  {
   "cell_type": "code",
   "execution_count": 37,
   "metadata": {},
   "outputs": [
    {
     "data": {
      "text/plain": [
       "Ks_2sampResult(statistic=0.05030127829820453, pvalue=0.1928497155802853)"
      ]
     },
     "execution_count": 37,
     "metadata": {},
     "output_type": "execute_result"
    }
   ],
   "source": [
    "stats.ks_2samp(df['gappiness_null'], df_random['gappiness'])"
   ]
  },
  {
   "cell_type": "code",
   "execution_count": 38,
   "metadata": {},
   "outputs": [
    {
     "data": {
      "text/plain": [
       "Ks_2sampResult(statistic=0.18032786885245902, pvalue=2.0663533724242306e-13)"
      ]
     },
     "execution_count": 38,
     "metadata": {},
     "output_type": "execute_result"
    }
   ],
   "source": [
    "stats.ks_2samp(df['seq_div'], df['seq_div_null'])"
   ]
  },
  {
   "cell_type": "code",
   "execution_count": 39,
   "metadata": {},
   "outputs": [
    {
     "data": {
      "text/plain": [
       "Ks_2sampResult(statistic=0.20357020882123342, pvalue=2.3314683517128287e-15)"
      ]
     },
     "execution_count": 39,
     "metadata": {},
     "output_type": "execute_result"
    }
   ],
   "source": [
    "stats.ks_2samp(df['seq_div'], df_random['seq_div'])"
   ]
  },
  {
   "cell_type": "code",
   "execution_count": 40,
   "metadata": {
    "scrolled": true
   },
   "outputs": [
    {
     "data": {
      "text/plain": [
       "Ks_2sampResult(statistic=0.09356681569796324, pvalue=0.021604769618255637)"
      ]
     },
     "execution_count": 40,
     "metadata": {},
     "output_type": "execute_result"
    }
   ],
   "source": [
    "stats.ks_2samp(df['seq_div'], df_disprot['seq_div'])"
   ]
  },
  {
   "cell_type": "markdown",
   "metadata": {},
   "source": [
    "## Clustering"
   ]
  },
  {
   "cell_type": "code",
   "execution_count": 41,
   "metadata": {},
   "outputs": [
    {
     "data": {
      "image/png": "[encoded data removed]",
      "text/plain": [
       "<Figure size 720x288 with 2 Axes>"
      ]
     },
     "metadata": {
      "needs_background": "light"
     },
     "output_type": "display_data"
    }
   ],
   "source": [
    "fig, axes = plt.subplots(1, 2, figsize=(10,4), sharex=True, sharey=True)\n",
    "ax1, ax2 = axes[0], axes[1]\n",
    "\n",
    "for ax in [ax1, ax2]:\n",
    "    ax.set_ylim(0, 1.05)\n",
    "    ax.set_xlabel(' ')\n",
    "    \n",
    "sns.ecdfplot(data=df[df.gappiness <= 0.2], x='seq_div', color='dodgerblue', ax=ax1)\n",
    "sns.ecdfplot(data=df_disprot[df_disprot.gappiness <= 0.2], x='seq_div', color='slateblue', ax=ax1)\n",
    "sns.ecdfplot(data=df[df.gappiness_null <= 0.2], x='seq_div_null', color='salmon', ax=ax1)\n",
    "sns.ecdfplot(data=df_random[df_random.gappiness <= 0.2], x='seq_div', color='forestgreen', ax=ax1)\n",
    "ax1.set_ylabel('ECDF', fontsize=12)\n",
    "ax1.set_title('Gappiness <= 0.2', fontsize=12)\n",
    "\n",
    "sns.ecdfplot(data=df[df.gappiness > 0.2], x='seq_div', color='dodgerblue', ax=ax2)\n",
    "sns.ecdfplot(data=df_disprot[df_disprot.gappiness > 0.2], x='seq_div', color='slateblue', ax=ax2)\n",
    "sns.ecdfplot(data=df[df.gappiness_null > 0.2], x='seq_div_null', color='salmon', ax=ax2)\n",
    "sns.ecdfplot(data=df_random[df_random.gappiness > 0.2], x='seq_div', color='forestgreen', ax=ax2)\n",
    "ax2.set_title('Gappiness > 0.2', fontsize=12)\n",
    "\n",
    "ax2.legend(['Charged regions',\n",
    "            'IDRs from DisProt',\n",
    "            'Randomly selected regions,\\ncharged proteins',\n",
    "            'Randomly selected regions,\\nproteome-wide'],\n",
    "           bbox_to_anchor=(2, 0.7))\n",
    "fig.text(0.38, 0.02, 'Sequence divergence', ha='center', fontsize=12)\n",
    "plt.tight_layout()\n",
    "#plt.savefig('./figures/alignment-quality-medthreshold.png', dpi=500)\n",
    "plt.show()"
   ]
  },
  {
   "cell_type": "code",
   "execution_count": null,
   "metadata": {},
   "outputs": [],
   "source": []
  }
 ],
 "metadata": {
  "kernelspec": {
   "display_name": "Python 3",
   "language": "python",
   "name": "python3"
  },
  "language_info": {
   "codemirror_mode": {
    "name": "ipython",
    "version": 3
   },
   "file_extension": ".py",
   "mimetype": "text/x-python",
   "name": "python",
   "nbconvert_exporter": "python",
   "pygments_lexer": "ipython3",
   "version": "3.7.5"
  },
  "toc": {
   "base_numbering": 1,
   "nav_menu": {},
   "number_sections": false,
   "sideBar": true,
   "skip_h1_title": true,
   "title_cell": "Table of Contents",
   "title_sidebar": "Contents",
   "toc_cell": true,
   "toc_position": {},
   "toc_section_display": true,
   "toc_window_display": false
  }
 },
 "nbformat": 4,
 "nbformat_minor": 2
}
