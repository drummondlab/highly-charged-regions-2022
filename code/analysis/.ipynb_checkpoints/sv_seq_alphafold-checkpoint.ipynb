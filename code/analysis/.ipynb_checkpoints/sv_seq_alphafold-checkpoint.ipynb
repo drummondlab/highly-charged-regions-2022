{
 "cells": [
  {
   "cell_type": "code",
   "execution_count": 1,
   "metadata": {},
   "outputs": [],
   "source": [
    "import sys\n",
    "sys.path.insert(1, '../scripts')"
   ]
  },
  {
   "cell_type": "code",
   "execution_count": 23,
   "metadata": {},
   "outputs": [],
   "source": [
    "from os import path\n",
    "import random\n",
    "import numpy as np\n",
    "import pandas as pd\n",
    "import collections\n",
    "import mdtraj as md\n",
    "import parseaf as pa"
   ]
  },
  {
   "cell_type": "markdown",
   "metadata": {},
   "source": [
    "## Functions"
   ]
  },
  {
   "cell_type": "code",
   "execution_count": 3,
   "metadata": {},
   "outputs": [],
   "source": [
    "def read_seq_from_pdb(filepath):\n",
    "    three_to_one_map =  {'ALA':'A', 'CYS':'C', 'ASP':'D', 'GLU':'E', 'PHE':'F', \\\n",
    "                         'GLY':'G', 'HIS':'H', 'ILE':'I', 'LYS':'K', 'LEU':'L', \\\n",
    "                         'MET':'M', 'ASN':'N', 'PRO':'P', 'GLN':'Q', 'ARG':'R', \\\n",
    "                         'SER':'S', 'THR':'T', 'VAL':'V', 'TRP':'W', 'TYR':'Y', '-':'-'}\n",
    "    with open(filepath) as file:\n",
    "        resids = []\n",
    "        pLDDTs = []\n",
    "        for line in file:\n",
    "            if line[0:4] == \"ATOM\" and line[13:15] == 'N ':\n",
    "                resids.append(line[17:20])\n",
    "                pLDDTs.append(float(line[61:67].strip()))\n",
    "    return ''.join([three_to_one_map[aa] for aa in resids]), np.mean(pLDDTs)"
   ]
  },
  {
   "cell_type": "code",
   "execution_count": 4,
   "metadata": {},
   "outputs": [],
   "source": [
    "def get_percent_helix(af_pdb):\n",
    "    if not af_pdb is None:\n",
    "        ss = md.compute_dssp(af_pdb, simplified=True)[0]\n",
    "        helix_cnt = collections.Counter(ss)['H']\n",
    "        helix_p = helix_cnt / 50\n",
    "    else:\n",
    "        helix_p = None\n",
    "    return helix_p"
   ]
  },
  {
   "cell_type": "markdown",
   "metadata": {},
   "source": [
    "## Polyampholytes"
   ]
  },
  {
   "cell_type": "code",
   "execution_count": 6,
   "metadata": {},
   "outputs": [],
   "source": [
    "sv_keys = ['seq' + str(x) for x in np.arange(1, 31)]"
   ]
  },
  {
   "cell_type": "code",
   "execution_count": 7,
   "metadata": {},
   "outputs": [],
   "source": [
    "sv_seqs = [\"EKEKEKEKEKEKEKEKEKEKEKEKEKEKEKEKEKEKEKEKEKEKEKEKEK\",\n",
    "\"EEEKKKEEEKKKEEEKKKEEEKKKEEEKKKEEEKKKEEEKKKEEEKKKEK\",\n",
    "\"KEKKKEKKEEKKEEKEKEKEKEEKKKEEKEKEKEKKKEEKEKEEKKEEEE\",\n",
    "\"KEKEKKEEKEKKEEEKKEKEKEKKKEEKKKEEKEEKKEEKKKEEKEEEKE\",\n",
    "\"KEKEEKEKKKEEEEKEKKKKEEKEKEKEKEEKKEEKKKKEEKEEKEKEKE\",\n",
    "\"EEEKKEKKEEKEEKKEKKEKEEEKKKEKEEKKEEEKKKEKEEEEKKKKEK\",\n",
    "\"EEEEKKKKEEEEKKKKEEEEKKKKEEEEKKKKEEEEKKKKEEEEKKKKEK\",\n",
    "\"KKKKEEEEKKKKEEEEKKKKEEEEKKKKEEEEKKKKEEEEKKKKEEEEKE\",\n",
    "\"EEKKEEEKEKEKEEEEEKKEKKEKKEKKKEEKEKEKKKEKKKKEKEEEKE\",\n",
    "\"EKKKKKKEEKKKEEEEEKKKEEEKKKEKKEEKEKEEKEKKEKKEEKEEEE\",\n",
    "\"EKEKKKKKEEEKKEKEEEEKEEEEKKKKKEKEEEKEEKKEEKEKKKEEKK\",\n",
    "\"EKKEEEEEEKEKKEEEEKEKEKKEKEEKEKKEKKKEKKEEEKEKKKKEKK\",\n",
    "\"KEKKKEKEKKEKKKEEEKKKEEEKEKKKEEKKEKKEKKEEEEEEEKEEKE\",\n",
    "\"EKKEKEEKEEEEKKKKKEEKEKKEKKKKEKKKKKEEEEEEKEEKEKEKEE\",\n",
    "\"KKEKKEKKKEKKEKKEEEKEKEKKEKKKKEKEKKEEEEEEEEKEEKKEEE\",\n",
    "\"EKEKEEKKKEEKKKKEKKEKEEKKEKEKEKKEEEEEEEEEKEKKEKKKKE\",\n",
    "\"EKEKKKKKKEKEKKKKEKEKKEKKEKEEEKEEKEKEKKEEKKEEEEEEEE\",\n",
    "\"KEEKKEEEEEEEKEEKKKKKEKKKEKKEEEKKKEEKKKEEEEEEKKKKEK\",\n",
    "\"EEEEEKKKKKEEEEEKKKKKEEEEEKKKKKEEEEEKKKKKEEEEEKKKKK\",\n",
    "\"EEKEEEEEEKEEEKEEKKEEEKEKKEKKEKEEKKEKKKKKKKKKKKKEEE\",\n",
    "\"EEEEEEEEEKEKKKKKEKEEKKKKKKEKKEKKKKEKKEEEEEEKEEEKKK\",\n",
    "\"KEEEEKEEKEEKKKKEKEEKEKKKKKKKKKKKKEKKEEEEEEEEKEKEEE\",\n",
    "\"EEEEEKEEEEEEEEEEEKEEKEKKKKKKEKKKKKKKEKEKKKKEKKEEKK\",\n",
    "\"EEEEKEEEEEKEEEEEEEEEEEEKKKEEKKKKKEKKKKKKKEKKKKKKKK\",\n",
    "\"EEEEEEEEEEEKEEEEKEEKEEKEKKKKKKKKKKKKKKKKKKEEKKEEKE\",\n",
    "\"KEEEEEEEKEEKEEEEEEEEEKEEEEKEEKKKKKKKKKKKKKKKKKKKKE\",\n",
    "\"KKEKKKEKKEEEEEEEEEEEEEEEEEEEEKEEKKKKKKKKKKKKKKKEKK\",\n",
    "\"EKKKKKKKKKKKKKKKKKKKKKEEEEEEEEEEEEEEEEEEKKEEEEEKEK\",\n",
    "\"KEEEEKEEEEEEEEEEEEEEEEEEEEEKKKKKKKKKKKKKKKKKKKKKKK\",\n",
    "\"EEEEEEEEEEEEEEEEEEEEEEEEEKKKKKKKKKKKKKKKKKKKKKKKKK\"]"
   ]
  },
  {
   "cell_type": "code",
   "execution_count": 8,
   "metadata": {},
   "outputs": [
    {
     "name": "stdout",
     "output_type": "stream",
     "text": [
      "('EKEKEKEKEKEKEKEKEKEKEKEKEKEKEKEKEKEKEKEKEKEKEKEKEK', 97.7094) 0.96\n",
      "('EEEKKKEEEKKKEEEKKKEEEKKKEEEKKKEEEKKKEEEKKKEEEKKKEK', 97.73) 0.96\n",
      "('KEKKKEKKEEKKEEKEKEKEKEEKKKEEKEKEKEKKKEEKEKEEKKEEEE', 97.68580000000001) 0.96\n",
      "('KEKEKKEEKEKKEEEKKEKEKEKKKEEKKKEEKEEKKEEKKKEEKEEEKE', 97.77400000000002) 0.96\n",
      "('KEKEEKEKKKEEEEKEKKKKEEKEKEKEKEEKKEEKKKKEEKEEKEKEKE', 97.7528) 0.96\n",
      "('EEEKKEKKEEKEEKKEKKEKEEEKKKEKEEKKEEEKKKEKEEEEKKKKEK', 97.8582) 0.96\n",
      "('EEEEKKKKEEEEKKKKEEEEKKKKEEEEKKKKEEEEKKKKEEEEKKKKEK', 97.86640000000001) 0.96\n",
      "('KKKKEEEEKKKKEEEEKKKKEEEEKKKKEEEEKKKKEEEEKKKKEEEEKE', 97.60840000000002) 0.96\n",
      "('EEKKEEEKEKEKEEEEEKKEKKEKKEKKKEEKEKEKKKEKKKKEKEEEKE', 97.8268) 0.96\n",
      "('EKKKKKKEEKKKEEEEEKKKEEEKKKEKKEEKEKEEKEKKEKKEEKEEEE', 97.75280000000001) 0.96\n",
      "('EKEKKKKKEEEKKEKEEEEKEEEEKKKKKEKEEEKEEKKEEKEKKKEEKK', 97.88799999999999) 0.96\n",
      "('EKKEEEEEEKEKKEEEEKEKEKKEKEEKEKKEKKKEKKEEEKEKKKKEKK', 97.65299999999999) 0.96\n",
      "('KEKKKEKEKKEKKKEEEKKKEEEKEKKKEEKKEKKEKKEEEEEEEKEEKE', 97.84240000000001) 0.96\n",
      "('EKKEKEEKEEEEKKKKKEEKEKKEKKKKEKKKKKEEEEEEKEEKEKEKEE', 97.6794) 0.96\n",
      "('KKEKKEKKKEKKEKKEEEKEKEKKEKKKKEKEKKEEEEEEEEKEEKKEEE', 97.77960000000002) 0.96\n",
      "('EKEKEEKKKEEKKKKEKKEKEEKKEKEKEKKEEEEEEEEEKEKKEKKKKE', 97.77419999999998) 0.96\n",
      "('EKEKKKKKKEKEKKKKEKEKKEKKEKEEEKEEKEKEKKEEKKEEEEEEEE', 97.81039999999999) 0.96\n",
      "('KEEKKEEEEEEEKEEKKKKKEKKKEKKEEEKKKEEKKKEEEEEEKKKKEK', 97.67739999999999) 0.96\n",
      "('EEEEEKKKKKEEEEEKKKKKEEEEEKKKKKEEEEEKKKKKEEEEEKKKKK', 97.7598) 0.96\n",
      "('EEKEEEEEEKEEEKEEKKEEEKEKKEKKEKEEKKEKKKKKKKKKKKKEEE', 97.501) 0.96\n",
      "('EEEEEEEEEKEKKKKKEKEEKKKKKKEKKEKKKKEKKEEEEEEKEEEKKK', 97.56200000000003) 0.96\n",
      "('KEEEEKEEKEEKKKKEKEEKEKKKKKKKKKKKKEKKEEEEEEEEKEKEEE', 97.48020000000002) 0.96\n",
      "('EEEEEKEEEEEEEEEEEKEEKEKKKKKKEKKKKKKKEKEKKKKEKKEEKK', 97.1974) 0.96\n",
      "('EEEEKEEEEEKEEEEEEEEEEEEKKKEEKKKKKEKKKKKKKEKKKKKKKK', 97.0156) 0.96\n",
      "('EEEEEEEEEEEKEEEEKEEKEEKEKKKKKKKKKKKKKKKKKKEEKKEEKE', 96.7526) 0.96\n",
      "('KEEEEEEEKEEKEEEEEEEEEKEEEEKEEKKKKKKKKKKKKKKKKKKKKE', 97.15099999999998) 0.96\n",
      "('KKEKKKEKKEEEEEEEEEEEEEEEEEEEEKEEKKKKKKKKKKKKKKKEKK', 97.0234) 0.96\n",
      "('EKKKKKKKKKKKKKKKKKKKKKEEEEEEEEEEEEEEEEEEKKEEEEEKEK', 97.14820000000002) 0.96\n",
      "('KEEEEKEEEEEEEEEEEEEEEEEEEEEKKKKKKKKKKKKKKKKKKKKKKK', 96.6782) 0.96\n",
      "('EEEEEEEEEEEEEEEEEEEEEEEEEKKKKKKKKKKKKKKKKKKKKKKKKK', 94.90140000000001) 0.96\n"
     ]
    }
   ],
   "source": [
    "fdir = '/mnt/d/research/drummond-lab/hcrpaper/sv_results/rank1/'\n",
    "phelix = []\n",
    "for i in range(1,31):\n",
    "    for j in range(1,6):\n",
    "        fpath = fdir + 'sv'+str(i)+'_unrelaxed_rank_1_model_' + str(int(j)) + '.pdb'\n",
    "        if path.exists(fpath):\n",
    "            pdb = md.load(fpath)\n",
    "            p = get_percent_helix(pdb)\n",
    "            print(read_seq_from_pdb(fpath), p)\n",
    "            phelix.append(p)"
   ]
  },
  {
   "cell_type": "markdown",
   "metadata": {},
   "source": [
    "## Polyampholytes - E to D"
   ]
  },
  {
   "cell_type": "code",
   "execution_count": 9,
   "metadata": {},
   "outputs": [],
   "source": [
    "sv_seqs2 = []\n",
    "for i, seq in enumerate(sv_seqs):\n",
    "    new_seq = ''\n",
    "    for AA in seq:\n",
    "        if AA == 'E':\n",
    "            new_seq += 'D'\n",
    "        elif AA == 'K':\n",
    "            new_seq += 'K'\n",
    "    sv_seqs2.append(new_seq)"
   ]
  },
  {
   "cell_type": "code",
   "execution_count": 10,
   "metadata": {},
   "outputs": [],
   "source": [
    "df = pd.DataFrame(columns=['key', 'seq'])\n",
    "for i in range(len(sv_seqs2)):\n",
    "    df = df.append({'key': sv_keys[i],\n",
    "                    'seq': sv_seqs2[i]},\n",
    "                   ignore_index=True)"
   ]
  },
  {
   "cell_type": "code",
   "execution_count": 11,
   "metadata": {},
   "outputs": [],
   "source": [
    "for index, row in df.iterrows():\n",
    "    key = row['key']\n",
    "    ofile = open(\"./sv_seqs_KD/\" + str(key) + \".fasta\", \"w\")\n",
    "    ofile.write(\">\" + key + \"\\n\" + row['seq'] + \"\\n\")\n",
    "    ofile.close()"
   ]
  },
  {
   "cell_type": "code",
   "execution_count": 13,
   "metadata": {},
   "outputs": [
    {
     "name": "stdout",
     "output_type": "stream",
     "text": [
      "('DKDKDKDKDKDKDKDKDKDKDKDKDKDKDKDKDKDKDKDKDKDKDKDKDK', 68.1948) 0.0\n",
      "('DDDKKKDDDKKKDDDKKKDDDKKKDDDKKKDDDKKKDDDKKKDDDKKKDK', 66.8868) 0.0\n",
      "('KDKKKDKKDDKKDDKDKDKDKDDKKKDDKDKDKDKKKDDKDKDDKKDDDD', 69.257) 0.0\n",
      "('KDKDKKDDKDKKDDDKKDKDKDKKKDDKKKDDKDDKKDDKKKDDKDDDKD', 68.2378) 0.0\n",
      "('KDKDDKDKKKDDDDKDKKKKDDKDKDKDKDDKKDDKKKKDDKDDKDKDKD', 66.9384) 0.0\n",
      "('DDDKKDKKDDKDDKKDKKDKDDDKKKDKDDKKDDDKKKDKDDDDKKKKDK', 67.8452) 0.0\n",
      "('DDDDKKKKDDDDKKKKDDDDKKKKDDDDKKKKDDDDKKKKDDDDKKKKDK', 95.54979999999999) 0.96\n",
      "('KKKKDDDDKKKKDDDDKKKKDDDDKKKKDDDDKKKKDDDDKKKKDDDDKD', 93.64980000000001) 0.96\n",
      "('DDKKDDDKDKDKDDDDDKKDKKDKKDKKKDDKDKDKKKDKKKKDKDDDKD', 67.5426) 0.0\n",
      "('DKKKKKKDDKKKDDDDDKKKDDDKKKDKKDDKDKDDKDKKDKKDDKDDDD', 70.4384) 0.0\n",
      "('DKDKKKKKDDDKKDKDDDDKDDDDKKKKKDKDDDKDDKKDDKDKKKDDKK', 68.32480000000001) 0.0\n",
      "('DKKDDDDDDKDKKDDDDKDKDKKDKDDKDKKDKKKDKKDDDKDKKKKDKK', 76.80279999999999) 0.68\n",
      "('KDKKKDKDKKDKKKDDDKKKDDDKDKKKDDKKDKKDKKDDDDDDDKDDKD', 68.3552) 0.0\n",
      "('DKKDKDDKDDDDKKKKKDDKDKKDKKKKDKKKKKDDDDDDKDDKDKDKDD', 77.7038) 0.66\n",
      "('KKDKKDKKKDKKDKKDDDKDKDKKDKKKKDKDKKDDDDDDDDKDDKKDDD', 67.34500000000001) 0.0\n",
      "('DKDKDDKKKDDKKKKDKKDKDDKKDKDKDKKDDDDDDDDDKDKKDKKKKD', 68.2386) 0.0\n",
      "('DKDKKKKKKDKDKKKKDKDKKDKKDKDDDKDDKDKDKKDDKKDDDDDDDD', 79.85079999999999) 0.74\n",
      "('KDDKKDDDDDDDKDDKKKKKDKKKDKKDDDKKKDDKKKDDDDDDKKKKDK', 67.4748) 0.0\n",
      "('DDDDDKKKKKDDDDDKKKKKDDDDDKKKKKDDDDDKKKKKDDDDDKKKKK', 64.7976) 0.0\n",
      "('DDKDDDDDDKDDDKDDKKDDDKDKKDKKDKDDKKDKKKKKKKKKKKKDDD', 76.5434) 0.6\n",
      "('DDDDDDDDDKDKKKKKDKDDKKKKKKDKKDKKKKDKKDDDDDDKDDDKKK', 82.3072) 0.76\n",
      "('KDDDDKDDKDDKKKKDKDDKDKKKKKKKKKKKKDKKDDDDDDDDKDKDDD', 79.521) 0.76\n",
      "('DDDDDKDDDDDDDDDDDKDDKDKKKKKKDKKKKKKKDKDKKKKDKKDDKK', 85.1772) 0.68\n",
      "('DDDDKDDDDDKDDDDDDDDDDDDKKKDDKKKKKDKKKKKKKDKKKKKKKK', 81.5146) 0.58\n",
      "('DDDDDDDDDDDKDDDDKDDKDDKDKKKKKKKKKKKKKKKKKKDDKKDDKD', 83.0114) 0.68\n",
      "('KDDDDDDDKDDKDDDDDDDDDKDDDDKDDKKKKKKKKKKKKKKKKKKKKD', 78.06139999999999) 0.52\n",
      "('KKDKKKDKKDDDDDDDDDDDDDDDDDDDDKDDKKKKKKKKKKKKKKKDKK', 80.01820000000001) 0.44\n",
      "('DKKKKKKKKKKKKKKKKKKKKKDDDDDDDDDDDDDDDDDDKKDDDDDKDK', 78.5482) 0.52\n",
      "('KDDDDKDDDDDDDDDDDDDDDDDDDDDKKKKKKKKKKKKKKKKKKKKKKK', 80.9978) 0.52\n",
      "('DDDDDDDDDDDDDDDDDDDDDDDDDKKKKKKKKKKKKKKKKKKKKKKKKK', 81.9542) 0.56\n"
     ]
    }
   ],
   "source": [
    "fdir = '/mnt/d/research/drummond-lab/hcrpaper/result_KD/'\n",
    "phelix = []\n",
    "for i in range(1,31):\n",
    "    for j in range(1,6):\n",
    "        fpath = fdir + 'seq'+str(i)+'_unrelaxed_rank_1_model_' + str(int(j)) + '.pdb'\n",
    "        if path.exists(fpath):\n",
    "            pdb = md.load(fpath)\n",
    "            p = get_percent_helix(pdb)\n",
    "            print(read_seq_from_pdb(fpath), p)\n",
    "            phelix.append(p)"
   ]
  },
  {
   "cell_type": "markdown",
   "metadata": {},
   "source": [
    "## charged regions with FCRs"
   ]
  },
  {
   "cell_type": "code",
   "execution_count": 21,
   "metadata": {},
   "outputs": [],
   "source": [
    "seqs = []\n",
    "for i in range(5, 26, 5):\n",
    "    seq = i * 'E' + (50 - i) * 'K'\n",
    "    seqs.append(seq)"
   ]
  },
  {
   "cell_type": "code",
   "execution_count": 24,
   "metadata": {},
   "outputs": [],
   "source": [
    "sv_keys = ['seq' + str(x) for x in np.arange(1, 6)]"
   ]
  },
  {
   "cell_type": "code",
   "execution_count": 26,
   "metadata": {},
   "outputs": [],
   "source": [
    "df = pd.DataFrame(columns=['key', 'seq'])\n",
    "for i in range(len(seqs)):\n",
    "    df = df.append({'key': sv_keys[i],\n",
    "                    'seq': seqs[i]},\n",
    "                   ignore_index=True)"
   ]
  },
  {
   "cell_type": "code",
   "execution_count": 30,
   "metadata": {},
   "outputs": [],
   "source": [
    "for index, row in df.iterrows():\n",
    "    key = row['key']\n",
    "    ofile = open(\"./testseqs/\" + str(key) + \".fasta\", \"w\")\n",
    "    ofile.write(\">\" + key + \"\\n\" + row['seq'] + \"\\n\")\n",
    "    ofile.close()"
   ]
  },
  {
   "cell_type": "code",
   "execution_count": 33,
   "metadata": {},
   "outputs": [
    {
     "name": "stdout",
     "output_type": "stream",
     "text": [
      "('EEEEEKKKKKKKKKKKKKKKKKKKKKKKKKKKKKKKKKKKKKKKKKKKKK', 98.0536) 0.96\n",
      "('EEEEEEEEEEKKKKKKKKKKKKKKKKKKKKKKKKKKKKKKKKKKKKKKKK', 97.75480000000002) 0.96\n",
      "('EEEEEEEEEEEEEEEKKKKKKKKKKKKKKKKKKKKKKKKKKKKKKKKKKK', 96.8962) 0.96\n",
      "('EEEEEEEEEEEEEEEEEEEEKKKKKKKKKKKKKKKKKKKKKKKKKKKKKK', 95.97059999999999) 0.96\n"
     ]
    }
   ],
   "source": [
    "fdir = '/mnt/d/research/drummond-lab/hcrpaper/testseqs_results/'\n",
    "phelix = []\n",
    "for i in range(1,5):\n",
    "    for j in range(1,6):\n",
    "        fpath = fdir + 'seq'+str(i)+'_unrelaxed_rank_1_model_' + str(int(j)) + '.pdb'\n",
    "        if path.exists(fpath):\n",
    "            pdb = md.load(fpath)\n",
    "            p = get_percent_helix(pdb)\n",
    "            print(read_seq_from_pdb(fpath), p)\n",
    "            phelix.append(p)"
   ]
  },
  {
   "cell_type": "markdown",
   "metadata": {},
   "source": [
    "## Reduced fractional charge - poly A"
   ]
  },
  {
   "cell_type": "code",
   "execution_count": 14,
   "metadata": {},
   "outputs": [],
   "source": [
    "seqs = []\n",
    "for i in range(5, 51, 5):\n",
    "    seq = i * 'A' + (50 - i) * 'K'\n",
    "    seqs.append(seq)"
   ]
  },
  {
   "cell_type": "code",
   "execution_count": 16,
   "metadata": {},
   "outputs": [],
   "source": [
    "sv_keys = ['seq' + str(x) for x in np.arange(1, len(seqs)+1)]"
   ]
  },
  {
   "cell_type": "code",
   "execution_count": 17,
   "metadata": {},
   "outputs": [],
   "source": [
    "df = pd.DataFrame(columns=['key', 'seq'])\n",
    "for i in range(len(seqs)):\n",
    "    df = df.append({'key': sv_keys[i],\n",
    "                    'seq': seqs[i]},\n",
    "                   ignore_index=True)"
   ]
  },
  {
   "cell_type": "code",
   "execution_count": 19,
   "metadata": {},
   "outputs": [],
   "source": [
    "for index, row in df.iterrows():\n",
    "    key = row['key']\n",
    "    ofile = open(\"./seqs_AK/\" + str(key) + \".fasta\", \"w\")\n",
    "    ofile.write(\">\" + key + \"\\n\" + row['seq'] + \"\\n\")\n",
    "    ofile.close()"
   ]
  },
  {
   "cell_type": "code",
   "execution_count": 21,
   "metadata": {},
   "outputs": [
    {
     "name": "stdout",
     "output_type": "stream",
     "text": [
      "('AAAAAKKKKKKKKKKKKKKKKKKKKKKKKKKKKKKKKKKKKKKKKKKKKK', 98.07879999999999) 0.96\n",
      "('AAAAAAAAAAKKKKKKKKKKKKKKKKKKKKKKKKKKKKKKKKKKKKKKKK', 96.6456) 0.96\n",
      "('AAAAAAAAAAAAAAAKKKKKKKKKKKKKKKKKKKKKKKKKKKKKKKKKKK', 96.1434) 0.96\n",
      "('AAAAAAAAAAAAAAAAAAAAKKKKKKKKKKKKKKKKKKKKKKKKKKKKKK', 94.93) 0.96\n",
      "('AAAAAAAAAAAAAAAAAAAAAAAAAKKKKKKKKKKKKKKKKKKKKKKKKK', 94.64440000000002) 0.96\n",
      "('AAAAAAAAAAAAAAAAAAAAAAAAAAAAAAKKKKKKKKKKKKKKKKKKKK', 93.97140000000002) 0.96\n",
      "('AAAAAAAAAAAAAAAAAAAAAAAAAAAAAAAAAAAKKKKKKKKKKKKKKK', 93.1692) 0.96\n",
      "('AAAAAAAAAAAAAAAAAAAAAAAAAAAAAAAAAAAAAAAAKKKKKKKKKK', 91.1574) 0.96\n",
      "('AAAAAAAAAAAAAAAAAAAAAAAAAAAAAAAAAAAAAAAAAAAAAKKKKK', 92.43860000000001) 0.96\n",
      "('AAAAAAAAAAAAAAAAAAAAAAAAAAAAAAAAAAAAAAAAAAAAAAAAAA', 96.2616) 0.96\n"
     ]
    }
   ],
   "source": [
    "fdir = '/mnt/d/research/drummond-lab/hcrpaper/result_AK/'\n",
    "phelix = []\n",
    "for i in range(1,len(df)+1):\n",
    "    for j in range(1,6):\n",
    "        fpath = fdir + 'seq'+str(i)+'_unrelaxed_rank_1_model_' + str(int(j)) + '.pdb'\n",
    "        if path.exists(fpath):\n",
    "            pdb = md.load(fpath)\n",
    "            p = get_percent_helix(pdb)\n",
    "            print(read_seq_from_pdb(fpath), p)\n",
    "            phelix.append(p)"
   ]
  },
  {
   "cell_type": "markdown",
   "metadata": {},
   "source": [
    "## Reduced fractional charge - random uncharged sequence"
   ]
  },
  {
   "cell_type": "code",
   "execution_count": 22,
   "metadata": {},
   "outputs": [],
   "source": [
    "all_aa = ['H', 'Q', 'N', 'S', 'T', 'G',\n",
    "          'M', 'V', 'I', 'L', 'F', 'Y', 'W', 'P', 'A', 'C']"
   ]
  },
  {
   "cell_type": "code",
   "execution_count": 25,
   "metadata": {},
   "outputs": [],
   "source": [
    "seqs = []\n",
    "for i in range(5, 51, 5):\n",
    "    seq = ''\n",
    "    for j in range(i):\n",
    "        seq += random.choices(all_aa)[0]\n",
    "    seq += (50 - i) * 'K'\n",
    "    seqs.append(seq)"
   ]
  },
  {
   "cell_type": "code",
   "execution_count": 28,
   "metadata": {},
   "outputs": [],
   "source": [
    "sv_keys = ['seq' + str(x) for x in np.arange(1, len(seqs)+1)]"
   ]
  },
  {
   "cell_type": "code",
   "execution_count": 29,
   "metadata": {},
   "outputs": [],
   "source": [
    "df = pd.DataFrame(columns=['key', 'seq'])\n",
    "for i in range(len(seqs)):\n",
    "    df = df.append({'key': sv_keys[i],\n",
    "                    'seq': seqs[i]},\n",
    "                   ignore_index=True)"
   ]
  },
  {
   "cell_type": "code",
   "execution_count": 30,
   "metadata": {},
   "outputs": [],
   "source": [
    "for index, row in df.iterrows():\n",
    "    key = row['key']\n",
    "    ofile = open(\"./seqs_XK/\" + str(key) + \".fasta\", \"w\")\n",
    "    ofile.write(\">\" + key + \"\\n\" + row['seq'] + \"\\n\")\n",
    "    ofile.close()"
   ]
  },
  {
   "cell_type": "code",
   "execution_count": 31,
   "metadata": {},
   "outputs": [
    {
     "name": "stdout",
     "output_type": "stream",
     "text": [
      "('VIFVFKKKKKKKKKKKKKKKKKKKKKKKKKKKKKKKKKKKKKKKKKKKKK', 98.1416) 0.96\n",
      "('FPVSVHPHPWKKKKKKKKKKKKKKKKKKKKKKKKKKKKKKKKKKKKKKKK', 95.24299999999998) 0.82\n",
      "('CWTQATVGYPTSILYKKKKKKKKKKKKKKKKKKKKKKKKKKKKKKKKKKK', 93.29539999999999) 0.74\n",
      "('HQNYMCMTALAVPTIWQFGMKKKKKKKKKKKKKKKKKKKKKKKKKKKKKK', 91.04299999999999) 0.7\n",
      "('SCSITMSYWITNSPWPSVNITIMWAKKKKKKKKKKKKKKKKKKKKKKKKK', 81.52300000000001) 0.84\n",
      "('WTCGWGCFGQIYGLMQNWISHWQYQAFTTCKKKKKKKKKKKKKKKKKKKK', 79.714) 0.84\n",
      "('PNTSPNNTCPINHQPPGCLNAWCHFGVNQYFIMTSKKKKKKKKKKKKKKK', 69.87399999999998) 0.48\n",
      "('HPQVHYHLSWHFFFVHHNQWQSVNQLCMFTMIGTVGTCSPKKKKKKKKKK', 71.373) 0.68\n",
      "('WCWAWCGCASAPVWHLGCTAHTHVLQTNLMNLSQHYYPTPCGHSMKKKKK', 61.0822) 0.42\n",
      "('GMAFHMVPQICAAFSNVCICYWVALWYNLSTTFAGLGYGACHYMWVQGII', 80.0964) 0.06\n"
     ]
    }
   ],
   "source": [
    "fdir = '/mnt/d/research/drummond-lab/hcrpaper/result_XK/'\n",
    "phelix = []\n",
    "for i in range(1,len(df)+1):\n",
    "    for j in range(1,6):\n",
    "        fpath = fdir + 'seq'+str(i)+'_unrelaxed_rank_1_model_' + str(int(j)) + '.pdb'\n",
    "        if path.exists(fpath):\n",
    "            pdb = md.load(fpath)\n",
    "            p = get_percent_helix(pdb)\n",
    "            print(read_seq_from_pdb(fpath), p)\n",
    "            phelix.append(p)"
   ]
  }
 ],
 "metadata": {
  "kernelspec": {
   "display_name": "Python 3",
   "language": "python",
   "name": "python3"
  },
  "language_info": {
   "codemirror_mode": {
    "name": "ipython",
    "version": 3
   },
   "file_extension": ".py",
   "mimetype": "text/x-python",
   "name": "python",
   "nbconvert_exporter": "python",
   "pygments_lexer": "ipython3",
   "version": "3.7.5"
  }
 },
 "nbformat": 4,
 "nbformat_minor": 2
}
