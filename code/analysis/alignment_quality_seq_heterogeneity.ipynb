{
 "cells": [
  {
   "cell_type": "code",
   "execution_count": 1,
   "metadata": {},
   "outputs": [],
   "source": [
    "import sys\n",
    "sys.path.insert(1, '../scripts')"
   ]
  },
  {
   "cell_type": "code",
   "execution_count": 2,
   "metadata": {},
   "outputs": [],
   "source": [
    "# data processing\n",
    "import random\n",
    "import numpy as np\n",
    "import pandas as pd\n",
    "from scipy import stats\n",
    "from Bio import AlignIO\n",
    "import alignment_quality as aq\n",
    "import crutil\n",
    "\n",
    "# plotting\n",
    "import matplotlib.pyplot as plt\n",
    "import seaborn as sns"
   ]
  },
  {
   "cell_type": "code",
   "execution_count": 3,
   "metadata": {},
   "outputs": [],
   "source": [
    "import warnings\n",
    "warnings.filterwarnings('ignore')"
   ]
  },
  {
   "cell_type": "code",
   "execution_count": 4,
   "metadata": {},
   "outputs": [],
   "source": [
    "all_aa = ['A', 'C', 'D', 'E', 'F', 'G', 'H', 'I', 'K', 'L',\n",
    "          'M', 'N', 'P', 'Q', 'R', 'S', 'T', 'V', 'W', 'Y']"
   ]
  },
  {
   "cell_type": "markdown",
   "metadata": {},
   "source": [
    "## Functions"
   ]
  },
  {
   "cell_type": "code",
   "execution_count": 5,
   "metadata": {},
   "outputs": [],
   "source": [
    "def get_region_msa_from_df(row):\n",
    "    fdir = '/mnt/d/research/drummond-lab/data/aybrah-all/'\n",
    "    orf = row['orf']\n",
    "    refseq = row['region.seq']\n",
    "    left_bound = row['left.bound']\n",
    "    right_bound = row['right.bound']\n",
    "    msa = AlignIO.read(open(fdir+str(orf)+'-aybrah.fa'), \"fasta\")\n",
    "    region_msa = aq.extract_region_msa(msa, left_bound, right_bound, refseq=refseq)\n",
    "    return region_msa"
   ]
  },
  {
   "cell_type": "code",
   "execution_count": 6,
   "metadata": {},
   "outputs": [],
   "source": [
    "def count_aas(msa, position, states):\n",
    "    aa_count = {}\n",
    "    for state in states:\n",
    "        aa_count[state] = 0\n",
    "    for seq in msa:\n",
    "        aa = seq.seq[position]\n",
    "        if aa in states:\n",
    "            aa_count[aa] += 1\n",
    "    return aa_count"
   ]
  },
  {
   "cell_type": "code",
   "execution_count": 7,
   "metadata": {},
   "outputs": [],
   "source": [
    "def get_column_aa_distribution(msa, position, states):\n",
    "    aa_cnt = count_aas(msa, position, states)\n",
    "    total_cnt = sum(aa_cnt.values())\n",
    "    if total_cnt != 0:\n",
    "        aa_dist = []\n",
    "        for k,v in aa_cnt.items():\n",
    "            aa_dist.append(v / total_cnt)\n",
    "    else:\n",
    "        aa_dist = None\n",
    "    return aa_dist"
   ]
  },
  {
   "cell_type": "code",
   "execution_count": 8,
   "metadata": {},
   "outputs": [],
   "source": [
    "def get_freq_nongaps(msa):\n",
    "    cntseqs = len(msa)\n",
    "    freq_nongaps = []\n",
    "    for i in range(len(msa[0].seq)):\n",
    "        cnt = 0\n",
    "        for record in msa:\n",
    "            if record.seq[i] != '-':\n",
    "                cnt += 1\n",
    "        freq_nongaps.append(cntseqs / cnt)\n",
    "    return freq_nongaps"
   ]
  },
  {
   "cell_type": "code",
   "execution_count": 9,
   "metadata": {},
   "outputs": [],
   "source": [
    "def get_seq_divergence(msa, states, weighted=True):\n",
    "    entropy_list = []\n",
    "    for p in range(len(msa[0].seq)):\n",
    "        aa_dist = get_column_aa_distribution(msa, p, states)\n",
    "        if not aa_dist is None:\n",
    "            entropy_list.append(stats.entropy(aa_dist))\n",
    "    if weighted:\n",
    "        weights = get_freq_nongaps(msa)\n",
    "        S = 0\n",
    "        for i, entropy in enumerate(entropy_list):\n",
    "            S += entropy * weights[i]\n",
    "    else:\n",
    "        S = sum(entropy_list)\n",
    "    return S / len(msa)"
   ]
  },
  {
   "cell_type": "code",
   "execution_count": 10,
   "metadata": {},
   "outputs": [],
   "source": [
    "def append_seq_divergence(row):\n",
    "    region_msa = get_region_msa_from_df(row)\n",
    "    filtered_msa = aq.filter_msa(region_msa)\n",
    "    if len(filtered_msa) >= 1:\n",
    "        aq.remove_gap_only_indices(filtered_msa)\n",
    "        seq_div = get_seq_divergence(filtered_msa, all_aa, weighted=True)\n",
    "    else:\n",
    "        seq_div = None\n",
    "    return seq_div"
   ]
  },
  {
   "cell_type": "code",
   "execution_count": 11,
   "metadata": {},
   "outputs": [],
   "source": [
    "def get_uncharged_region_ranges(charged_regions, msa_len):\n",
    "    uncharged_regions = []\n",
    "    \n",
    "    if charged_regions[0][0] != 0:\n",
    "        uncharged_regions.append((0, charged_regions[0][0] - 1))\n",
    "        \n",
    "    start = charged_regions[0][1] + 1\n",
    "    for region in charged_regions[1:]:\n",
    "        uncharged_regions.append((start, region[0]-1))\n",
    "        start = region[1] + 1\n",
    "\n",
    "    if charged_regions[-1][1] != (msa_len - 1):\n",
    "        uncharged_regions.append((charged_regions[-1][1], msa_len-1))\n",
    "        \n",
    "    return uncharged_regions"
   ]
  },
  {
   "cell_type": "code",
   "execution_count": 12,
   "metadata": {},
   "outputs": [],
   "source": [
    "def extract_uncharged_region_msa(msa, charged_regions):\n",
    "    uncharged_regions = get_uncharged_region_ranges(charged_regions, len(msa[0]))\n",
    "    for record in msa:\n",
    "        uncharged_seq = ''\n",
    "        for region in uncharged_regions:\n",
    "            uncharged_seq += record.seq[region[0]:(region[1]+1)]\n",
    "        record.seq = uncharged_seq\n",
    "    return msa"
   ]
  },
  {
   "cell_type": "code",
   "execution_count": 13,
   "metadata": {},
   "outputs": [],
   "source": [
    "def append_null_seq_divergence(row):\n",
    "    orf = row['orf']\n",
    "    refseq = row['region.seq']\n",
    "    left_bound = row['left.bound']\n",
    "    right_bound = row['right.bound']\n",
    "    charged_regions = ranges_dict[orf]\n",
    "    msa = AlignIO.read(open(fdir+str(orf)+'-aybrah.fa'), \"fasta\")\n",
    "    msa_left_bound, msa_right_bound = aq.get_region_range(msa, left_bound, right_bound, refseq=refseq)\n",
    "    regionlen = msa_right_bound - msa_left_bound\n",
    "    uncharged_region_msa = extract_uncharged_region_msa(msa, charged_regions)\n",
    "    random_region_msa = aq.extract_random_region_from_msa(uncharged_region_msa, regionlen)\n",
    "    filtered_msa = aq.filter_msa(random_region_msa)\n",
    "    if len(filtered_msa) >= 1:\n",
    "        aq.remove_gap_only_indices(filtered_msa)\n",
    "        seq_div = get_seq_divergence(filtered_msa, all_aa, weighted=True)\n",
    "    else:\n",
    "        seq_div = None\n",
    "    return seq_div"
   ]
  },
  {
   "cell_type": "code",
   "execution_count": 14,
   "metadata": {},
   "outputs": [],
   "source": [
    "def extract_random_region_from_proteome(fdir, regionlen, valid_orfs):\n",
    "    msa = None\n",
    "    cnt = 0\n",
    "    while msa is None:\n",
    "        orf_i = random.randrange(len(valid_orfs))\n",
    "        orf = valid_orfs[orf_i]\n",
    "        msa = AlignIO.read(open(fdir+str(orf)+'-aybrah.fa'), \"fasta\")\n",
    "        if len(msa[0].seq) <= regionlen:\n",
    "            msa = None\n",
    "        cnt += 1\n",
    "        if cnt >= 20:\n",
    "            print(regionlen)\n",
    "    starti = random.randrange(len(msa[0].seq) - regionlen)\n",
    "    random_msa = msa[:, starti:(starti + regionlen)]    \n",
    "    return random_msa"
   ]
  },
  {
   "cell_type": "markdown",
   "metadata": {},
   "source": [
    "## Compute alignment quality for all hits - threshold"
   ]
  },
  {
   "cell_type": "code",
   "execution_count": 15,
   "metadata": {},
   "outputs": [],
   "source": [
    "df = pd.read_csv('../../data/charged_regions/cr_filtered.csv', comment='#')"
   ]
  },
  {
   "cell_type": "code",
   "execution_count": 16,
   "metadata": {},
   "outputs": [],
   "source": [
    "df['seq.divergence'] = df.apply(lambda row: append_seq_divergence(row), axis=1)"
   ]
  },
  {
   "cell_type": "code",
   "execution_count": 17,
   "metadata": {},
   "outputs": [
    {
     "data": {
      "text/html": [
       "<div>\n",
       "<style scoped>\n",
       "    .dataframe tbody tr th:only-of-type {\n",
       "        vertical-align: middle;\n",
       "    }\n",
       "\n",
       "    .dataframe tbody tr th {\n",
       "        vertical-align: top;\n",
       "    }\n",
       "\n",
       "    .dataframe thead th {\n",
       "        text-align: right;\n",
       "    }\n",
       "</style>\n",
       "<table border=\"1\" class=\"dataframe\">\n",
       "  <thead>\n",
       "    <tr style=\"text-align: right;\">\n",
       "      <th></th>\n",
       "      <th>orf</th>\n",
       "      <th>gene</th>\n",
       "      <th>seq.len</th>\n",
       "      <th>left.bound</th>\n",
       "      <th>right.bound</th>\n",
       "      <th>region.seq</th>\n",
       "      <th>region.len</th>\n",
       "      <th>charge.asymmetry</th>\n",
       "      <th>frac.charge</th>\n",
       "      <th>kappa1</th>\n",
       "      <th>kappa2</th>\n",
       "      <th>uni_id</th>\n",
       "      <th>orf_label</th>\n",
       "      <th>seq.divergence</th>\n",
       "    </tr>\n",
       "  </thead>\n",
       "  <tbody>\n",
       "    <tr>\n",
       "      <th>62</th>\n",
       "      <td>YBR278W</td>\n",
       "      <td>DPB3</td>\n",
       "      <td>202</td>\n",
       "      <td>108</td>\n",
       "      <td>166</td>\n",
       "      <td>QPGRSDQEVVIEEPELHEDDGVEEEEEEDEVSEEEEPVHNEELLDD...</td>\n",
       "      <td>59</td>\n",
       "      <td>0.273446</td>\n",
       "      <td>0.508475</td>\n",
       "      <td>0.114140</td>\n",
       "      <td>0.416735</td>\n",
       "      <td>P27344</td>\n",
       "      <td>verified</td>\n",
       "      <td>NaN</td>\n",
       "    </tr>\n",
       "    <tr>\n",
       "      <th>433</th>\n",
       "      <td>YIL149C</td>\n",
       "      <td>MLP2</td>\n",
       "      <td>1680</td>\n",
       "      <td>60</td>\n",
       "      <td>106</td>\n",
       "      <td>KLKQLLDESSEQKNTAKEELNGLKDQLNEERSRYRREIDALKKQLHV</td>\n",
       "      <td>47</td>\n",
       "      <td>0.001013</td>\n",
       "      <td>0.446809</td>\n",
       "      <td>0.073132</td>\n",
       "      <td>0.185590</td>\n",
       "      <td>P40457</td>\n",
       "      <td>verified</td>\n",
       "      <td>NaN</td>\n",
       "    </tr>\n",
       "  </tbody>\n",
       "</table>\n",
       "</div>"
      ],
      "text/plain": [
       "         orf  gene  seq.len  left.bound  right.bound  \\\n",
       "62   YBR278W  DPB3      202         108          166   \n",
       "433  YIL149C  MLP2     1680          60          106   \n",
       "\n",
       "                                            region.seq  region.len  \\\n",
       "62   QPGRSDQEVVIEEPELHEDDGVEEEEEEDEVSEEEEPVHNEELLDD...          59   \n",
       "433    KLKQLLDESSEQKNTAKEELNGLKDQLNEERSRYRREIDALKKQLHV          47   \n",
       "\n",
       "     charge.asymmetry  frac.charge    kappa1    kappa2  uni_id orf_label  \\\n",
       "62           0.273446     0.508475  0.114140  0.416735  P27344  verified   \n",
       "433          0.001013     0.446809  0.073132  0.185590  P40457  verified   \n",
       "\n",
       "     seq.divergence  \n",
       "62              NaN  \n",
       "433             NaN  "
      ]
     },
     "execution_count": 17,
     "metadata": {},
     "output_type": "execute_result"
    }
   ],
   "source": [
    "df[df['seq.divergence'].isna()]"
   ]
  },
  {
   "cell_type": "code",
   "execution_count": 18,
   "metadata": {},
   "outputs": [],
   "source": [
    "fdir = '/mnt/d/research/drummond-lab/data/aybrah-all/'\n",
    "ranges_dict = {}\n",
    "for index, row in df.iterrows():\n",
    "    orf = row['orf']\n",
    "    msa = AlignIO.read(open(fdir+str(orf)+'-aybrah.fa'), \"fasta\")\n",
    "    if orf not in ranges_dict:\n",
    "        ranges_dict[orf] = []\n",
    "    refseq = row['region.seq']\n",
    "    left_bound = row['left.bound']\n",
    "    right_bound = row['right.bound']\n",
    "    msa_left_bound, msa_right_bound = aq.get_region_range(msa, left_bound, right_bound, refseq=refseq)\n",
    "    ranges_dict[orf].append((msa_left_bound, msa_right_bound))"
   ]
  },
  {
   "cell_type": "code",
   "execution_count": 19,
   "metadata": {},
   "outputs": [],
   "source": [
    "df['seq.divergence.random'] = df.apply(lambda row: append_null_seq_divergence(row), axis=1)"
   ]
  },
  {
   "cell_type": "code",
   "execution_count": 20,
   "metadata": {},
   "outputs": [],
   "source": [
    "verified_orfs_with_msa = pd.read_csv('../../data/sc_orfs/verified_orfs_with_msa.csv')\n",
    "valid_orfs = verified_orfs_with_msa['systematic_name'].tolist()"
   ]
  },
  {
   "cell_type": "code",
   "execution_count": 21,
   "metadata": {},
   "outputs": [],
   "source": [
    "fdir = '/mnt/d/research/drummond-lab/data/aybrah-all/'\n",
    "sd_random = []\n",
    "for k,v in ranges_dict.items():\n",
    "    for charged_region in v:\n",
    "        regionlen = charged_region[1] - charged_region[0] + 1\n",
    "        random_msa = extract_random_region_from_proteome(fdir, regionlen, valid_orfs)\n",
    "        filtered_msa = aq.filter_msa(random_msa)\n",
    "        if len(filtered_msa) >= 1:\n",
    "            aq.remove_gap_only_indices(filtered_msa)\n",
    "            seq_div = get_seq_divergence(filtered_msa, all_aa, weighted=True)\n",
    "        else:\n",
    "            seq_div = None\n",
    "        sd_random.append(seq_div)"
   ]
  },
  {
   "cell_type": "code",
   "execution_count": 22,
   "metadata": {},
   "outputs": [],
   "source": [
    "df = df.dropna(how='any')"
   ]
  },
  {
   "cell_type": "code",
   "execution_count": 23,
   "metadata": {},
   "outputs": [],
   "source": [
    "bins = np.arange(0, 150, 5)"
   ]
  },
  {
   "cell_type": "markdown",
   "metadata": {},
   "source": [
    "## Alignment quality of IDRs"
   ]
  },
  {
   "cell_type": "code",
   "execution_count": 24,
   "metadata": {},
   "outputs": [],
   "source": [
    "df_disprot = pd.read_table('../../data/misc/search_in_disprot.tsv')"
   ]
  },
  {
   "cell_type": "code",
   "execution_count": 25,
   "metadata": {},
   "outputs": [],
   "source": [
    "with open('../../data/misc/uniprot-to-sgdid.txt') as f:\n",
    "    mappings = {}\n",
    "    for line in f:\n",
    "        uniprot = line[95:106].rstrip()\n",
    "        orf = line[75:95].rstrip()\n",
    "        mappings[uniprot] = orf"
   ]
  },
  {
   "cell_type": "code",
   "execution_count": 26,
   "metadata": {},
   "outputs": [
    {
     "data": {
      "text/html": [
       "<div>\n",
       "<style scoped>\n",
       "    .dataframe tbody tr th:only-of-type {\n",
       "        vertical-align: middle;\n",
       "    }\n",
       "\n",
       "    .dataframe tbody tr th {\n",
       "        vertical-align: top;\n",
       "    }\n",
       "\n",
       "    .dataframe thead th {\n",
       "        text-align: right;\n",
       "    }\n",
       "</style>\n",
       "<table border=\"1\" class=\"dataframe\">\n",
       "  <thead>\n",
       "    <tr style=\"text-align: right;\">\n",
       "      <th></th>\n",
       "      <th>acc</th>\n",
       "      <th>name</th>\n",
       "      <th>organism</th>\n",
       "      <th>ncbi_taxon_id</th>\n",
       "      <th>disprot_id</th>\n",
       "      <th>region_id</th>\n",
       "      <th>start</th>\n",
       "      <th>end</th>\n",
       "      <th>term_namespace</th>\n",
       "      <th>term</th>\n",
       "      <th>ec</th>\n",
       "      <th>reference</th>\n",
       "      <th>region_sequence</th>\n",
       "      <th>confidence</th>\n",
       "      <th>obsolete</th>\n",
       "    </tr>\n",
       "  </thead>\n",
       "  <tbody>\n",
       "    <tr>\n",
       "      <th>0</th>\n",
       "      <td>P32774</td>\n",
       "      <td>Transcription initiation factor IIA subunit 2</td>\n",
       "      <td>Saccharomyces cerevisiae (strain ATCC 204508 /...</td>\n",
       "      <td>559292</td>\n",
       "      <td>DP00009</td>\n",
       "      <td>DP00009r001</td>\n",
       "      <td>89</td>\n",
       "      <td>104</td>\n",
       "      <td>Structural state</td>\n",
       "      <td>IDPO:00076</td>\n",
       "      <td>IDPO:00130</td>\n",
       "      <td>pmid:8610010</td>\n",
       "      <td>DSHRDASQNGSGDSQS</td>\n",
       "      <td>NaN</td>\n",
       "      <td>NaN</td>\n",
       "    </tr>\n",
       "    <tr>\n",
       "      <th>1</th>\n",
       "      <td>P11938</td>\n",
       "      <td>DNA-binding protein RAP1</td>\n",
       "      <td>Saccharomyces cerevisiae (strain ATCC 204508 /...</td>\n",
       "      <td>559292</td>\n",
       "      <td>DP00020</td>\n",
       "      <td>DP00020r001</td>\n",
       "      <td>1</td>\n",
       "      <td>123</td>\n",
       "      <td>Structural state</td>\n",
       "      <td>IDPO:00076</td>\n",
       "      <td>IDPO:00120</td>\n",
       "      <td>pmid:21187076</td>\n",
       "      <td>MSSPDDFETAPAEYVDALDPSMVVVDSGSAAVTAPSDSAAEVKANQ...</td>\n",
       "      <td>NaN</td>\n",
       "      <td>NaN</td>\n",
       "    </tr>\n",
       "    <tr>\n",
       "      <th>2</th>\n",
       "      <td>P11938</td>\n",
       "      <td>DNA-binding protein RAP1</td>\n",
       "      <td>Saccharomyces cerevisiae (strain ATCC 204508 /...</td>\n",
       "      <td>559292</td>\n",
       "      <td>DP00020</td>\n",
       "      <td>DP00020r003</td>\n",
       "      <td>210</td>\n",
       "      <td>359</td>\n",
       "      <td>Structural state</td>\n",
       "      <td>IDPO:00076</td>\n",
       "      <td>IDPO:00120</td>\n",
       "      <td>pmid:21187076</td>\n",
       "      <td>YDNFREVVDSRLQEESHSNGVDNSNSNSDNKDSIRPKTEIISTNTN...</td>\n",
       "      <td>NaN</td>\n",
       "      <td>NaN</td>\n",
       "    </tr>\n",
       "    <tr>\n",
       "      <th>3</th>\n",
       "      <td>P11938</td>\n",
       "      <td>DNA-binding protein RAP1</td>\n",
       "      <td>Saccharomyces cerevisiae (strain ATCC 204508 /...</td>\n",
       "      <td>559292</td>\n",
       "      <td>DP00020</td>\n",
       "      <td>DP00020r005</td>\n",
       "      <td>210</td>\n",
       "      <td>359</td>\n",
       "      <td>Structural state</td>\n",
       "      <td>IDPO:00076</td>\n",
       "      <td>IDPO:00120</td>\n",
       "      <td>pmid:8620531</td>\n",
       "      <td>YDNFREVVDSRLQEESHSNGVDNSNSNSDNKDSIRPKTEIISTNTN...</td>\n",
       "      <td>NaN</td>\n",
       "      <td>NaN</td>\n",
       "    </tr>\n",
       "    <tr>\n",
       "      <th>4</th>\n",
       "      <td>P11938</td>\n",
       "      <td>DNA-binding protein RAP1</td>\n",
       "      <td>Saccharomyces cerevisiae (strain ATCC 204508 /...</td>\n",
       "      <td>559292</td>\n",
       "      <td>DP00020</td>\n",
       "      <td>DP00020r007</td>\n",
       "      <td>481</td>\n",
       "      <td>511</td>\n",
       "      <td>Structural state</td>\n",
       "      <td>IDPO:00076</td>\n",
       "      <td>IDPO:00130</td>\n",
       "      <td>pmid:8620531</td>\n",
       "      <td>ITDEDTPTAIARRNMTMDPNHVPGSEPNFAA</td>\n",
       "      <td>NaN</td>\n",
       "      <td>NaN</td>\n",
       "    </tr>\n",
       "  </tbody>\n",
       "</table>\n",
       "</div>"
      ],
      "text/plain": [
       "      acc                                           name  \\\n",
       "0  P32774  Transcription initiation factor IIA subunit 2   \n",
       "1  P11938                       DNA-binding protein RAP1   \n",
       "2  P11938                       DNA-binding protein RAP1   \n",
       "3  P11938                       DNA-binding protein RAP1   \n",
       "4  P11938                       DNA-binding protein RAP1   \n",
       "\n",
       "                                            organism  ncbi_taxon_id  \\\n",
       "0  Saccharomyces cerevisiae (strain ATCC 204508 /...         559292   \n",
       "1  Saccharomyces cerevisiae (strain ATCC 204508 /...         559292   \n",
       "2  Saccharomyces cerevisiae (strain ATCC 204508 /...         559292   \n",
       "3  Saccharomyces cerevisiae (strain ATCC 204508 /...         559292   \n",
       "4  Saccharomyces cerevisiae (strain ATCC 204508 /...         559292   \n",
       "\n",
       "  disprot_id    region_id  start  end    term_namespace        term  \\\n",
       "0    DP00009  DP00009r001     89  104  Structural state  IDPO:00076   \n",
       "1    DP00020  DP00020r001      1  123  Structural state  IDPO:00076   \n",
       "2    DP00020  DP00020r003    210  359  Structural state  IDPO:00076   \n",
       "3    DP00020  DP00020r005    210  359  Structural state  IDPO:00076   \n",
       "4    DP00020  DP00020r007    481  511  Structural state  IDPO:00076   \n",
       "\n",
       "           ec      reference  \\\n",
       "0  IDPO:00130   pmid:8610010   \n",
       "1  IDPO:00120  pmid:21187076   \n",
       "2  IDPO:00120  pmid:21187076   \n",
       "3  IDPO:00120   pmid:8620531   \n",
       "4  IDPO:00130   pmid:8620531   \n",
       "\n",
       "                                     region_sequence confidence  obsolete  \n",
       "0                                   DSHRDASQNGSGDSQS        NaN       NaN  \n",
       "1  MSSPDDFETAPAEYVDALDPSMVVVDSGSAAVTAPSDSAAEVKANQ...        NaN       NaN  \n",
       "2  YDNFREVVDSRLQEESHSNGVDNSNSNSDNKDSIRPKTEIISTNTN...        NaN       NaN  \n",
       "3  YDNFREVVDSRLQEESHSNGVDNSNSNSDNKDSIRPKTEIISTNTN...        NaN       NaN  \n",
       "4                    ITDEDTPTAIARRNMTMDPNHVPGSEPNFAA        NaN       NaN  "
      ]
     },
     "execution_count": 26,
     "metadata": {},
     "output_type": "execute_result"
    }
   ],
   "source": [
    "df_disprot.head(5)"
   ]
  },
  {
   "cell_type": "code",
   "execution_count": 27,
   "metadata": {},
   "outputs": [],
   "source": [
    "verified_orfs_with_msa = pd.read_csv('../../data/sc_orfs/verified_orfs_with_msa.csv')\n",
    "valid_orfs = verified_orfs_with_msa['systematic_name'].tolist()"
   ]
  },
  {
   "cell_type": "code",
   "execution_count": 28,
   "metadata": {},
   "outputs": [],
   "source": [
    "def append_orf_name(row):\n",
    "    orf = mappings[row['acc']]\n",
    "    return orf"
   ]
  },
  {
   "cell_type": "code",
   "execution_count": 29,
   "metadata": {},
   "outputs": [],
   "source": [
    "df_disprot['orf'] = df_disprot.apply(lambda row:append_orf_name(row), axis=1)"
   ]
  },
  {
   "cell_type": "code",
   "execution_count": 30,
   "metadata": {},
   "outputs": [],
   "source": [
    "df_disprot = df_disprot[df_disprot['orf'].isin(valid_orfs)]"
   ]
  },
  {
   "cell_type": "code",
   "execution_count": 31,
   "metadata": {},
   "outputs": [],
   "source": [
    "df_disprot = df_disprot.rename(columns={'start': 'left.bound', 'end': 'right.bound', 'region_sequence': 'region.seq'})"
   ]
  },
  {
   "cell_type": "code",
   "execution_count": 32,
   "metadata": {},
   "outputs": [],
   "source": [
    "df_disprot['seq.divergence'] = df_disprot.apply(lambda row: append_seq_divergence(row), axis=1)"
   ]
  },
  {
   "cell_type": "markdown",
   "metadata": {},
   "source": [
    "## Summary plots"
   ]
  },
  {
   "cell_type": "code",
   "execution_count": 33,
   "metadata": {},
   "outputs": [
    {
     "data": {
      "image/png": "[encoded data removed]",
      "text/plain": [
       "<Figure size 468x288 with 1 Axes>"
      ]
     },
     "metadata": {
      "needs_background": "light"
     },
     "output_type": "display_data"
    }
   ],
   "source": [
    "plt.figure(figsize=(6.5,4))\n",
    "sns.histplot(data=df, x='seq.divergence', color='dodgerblue', common_norm=True, bins=bins)\n",
    "sns.histplot(data=df_disprot, x='seq.divergence', color='slateblue', common_norm=True, bins=bins)\n",
    "sns.histplot(data=df, x='seq.divergence.random', color='salmon', common_norm=True, bins=bins)\n",
    "sns.histplot(sd_random, color='forestgreen', common_norm=True, bins=bins)\n",
    "plt.xlabel('Sequence divergence', fontsize=12)\n",
    "plt.ylabel('Density', fontsize=12)\n",
    "plt.legend(['Charged regions',\n",
    "            'IDRs from disprot',\n",
    "            'Randomly selected regions,\\ncharged proteins',\n",
    "            'Randomly selected regions,\\nproteome-wide'])\n",
    "plt.tight_layout()\n",
    "#plt.savefig('./figures/alignment-quality-medthreshold.png', dpi=500)\n",
    "plt.show()"
   ]
  },
  {
   "cell_type": "code",
   "execution_count": 34,
   "metadata": {},
   "outputs": [
    {
     "data": {
      "image/png": "[encoded data removed]",
      "text/plain": [
       "<Figure size 468x288 with 1 Axes>"
      ]
     },
     "metadata": {
      "needs_background": "light"
     },
     "output_type": "display_data"
    }
   ],
   "source": [
    "plt.figure(figsize=(6.5,4))\n",
    "sns.kdeplot(data=df, x='seq.divergence', color='dodgerblue', cut=0, bw_adjust=.3)\n",
    "sns.kdeplot(data=df_disprot, x='seq.divergence', color='slateblue', cut=0, bw_adjust=.3)\n",
    "sns.kdeplot(data=df, x='seq.divergence.random', color='salmon', cut=0, bw_adjust=.3)\n",
    "sns.kdeplot(sd_random, color='forestgreen', cut=0, bw_adjust=.3)\n",
    "plt.xlabel('Sequence divergence', fontsize=12)\n",
    "plt.ylabel('Density', fontsize=12)\n",
    "plt.legend(['Charged regions',\n",
    "            'IDRs from disprot',\n",
    "            'Randomly selected regions,\\ncharged proteins',\n",
    "            'Randomly selected regions,\\nproteome-wide'])\n",
    "plt.xlim(-5, 80)\n",
    "plt.tight_layout()\n",
    "plt.show()"
   ]
  },
  {
   "cell_type": "code",
   "execution_count": null,
   "metadata": {},
   "outputs": [],
   "source": []
  }
 ],
 "metadata": {
  "kernelspec": {
   "display_name": "Python 3",
   "language": "python",
   "name": "python3"
  },
  "language_info": {
   "codemirror_mode": {
    "name": "ipython",
    "version": 3
   },
   "file_extension": ".py",
   "mimetype": "text/x-python",
   "name": "python",
   "nbconvert_exporter": "python",
   "pygments_lexer": "ipython3",
   "version": "3.7.5"
  },
  "toc": {
   "base_numbering": 1,
   "nav_menu": {},
   "number_sections": false,
   "sideBar": true,
   "skip_h1_title": true,
   "title_cell": "Table of Contents",
   "title_sidebar": "Contents",
   "toc_cell": true,
   "toc_position": {},
   "toc_section_display": true,
   "toc_window_display": false
  }
 },
 "nbformat": 4,
 "nbformat_minor": 2
}
