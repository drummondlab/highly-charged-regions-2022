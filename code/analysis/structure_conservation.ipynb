{
 "cells": [
  {
   "cell_type": "code",
   "execution_count": 1,
   "metadata": {},
   "outputs": [],
   "source": [
    "import sys\n",
    "sys.path.insert(1, '../../scripts')"
   ]
  },
  {
   "cell_type": "code",
   "execution_count": 2,
   "metadata": {},
   "outputs": [],
   "source": [
    "import os.path\n",
    "from os import path"
   ]
  },
  {
   "cell_type": "code",
   "execution_count": 3,
   "metadata": {},
   "outputs": [],
   "source": [
    "import random\n",
    "import numpy as np\n",
    "import pandas as pd\n",
    "from scipy import stats\n",
    "from itertools import groupby\n",
    "from operator import itemgetter\n",
    "import matplotlib.pyplot as plt\n",
    "import seaborn as sns\n",
    "import parseaf as pa\n",
    "import mdtraj as md\n",
    "import alignment_quality as aq\n",
    "import crutil"
   ]
  },
  {
   "cell_type": "code",
   "execution_count": 4,
   "metadata": {},
   "outputs": [],
   "source": [
    "from Bio import SeqIO\n",
    "from Bio import AlignIO\n",
    "from Bio.Seq import Seq\n",
    "from Bio import SeqIO\n",
    "from Bio.SeqRecord import SeqRecord"
   ]
  },
  {
   "cell_type": "code",
   "execution_count": 5,
   "metadata": {},
   "outputs": [],
   "source": [
    "from sklearn import metrics\n",
    "from sklearn.model_selection import train_test_split\n",
    "from sklearn.linear_model import LogisticRegression"
   ]
  },
  {
   "cell_type": "code",
   "execution_count": 6,
   "metadata": {},
   "outputs": [],
   "source": [
    "import warnings\n",
    "warnings.filterwarnings('ignore')"
   ]
  },
  {
   "cell_type": "code",
   "execution_count": 7,
   "metadata": {},
   "outputs": [],
   "source": [
    "states = ['A', 'C', 'D', 'E', 'F', 'G', 'H', 'I', 'K', 'L',\n",
    "          'M', 'N', 'P', 'Q', 'R', 'S', 'T', 'V', 'W', 'Y']"
   ]
  },
  {
   "cell_type": "markdown",
   "metadata": {},
   "source": [
    "## Functions"
   ]
  },
  {
   "cell_type": "code",
   "execution_count": 8,
   "metadata": {},
   "outputs": [],
   "source": [
    "def get_aa_freq(seq, aa):\n",
    "    cnt = 0\n",
    "    for i in seq:\n",
    "        if i == aa:\n",
    "            cnt += 1\n",
    "    aa_freq = cnt / len(seq)\n",
    "    return aa_freq"
   ]
  },
  {
   "cell_type": "code",
   "execution_count": 9,
   "metadata": {},
   "outputs": [],
   "source": [
    "def append_percent_aa(row, aa):\n",
    "    seq = row['region_seq']\n",
    "    if len(seq) == 0:\n",
    "        print(row['uni_id'])\n",
    "    return get_aa_freq(seq, aa)"
   ]
  },
  {
   "cell_type": "markdown",
   "metadata": {},
   "source": [
    "## Training logistic regression model using AlphaFold data"
   ]
  },
  {
   "cell_type": "code",
   "execution_count": 10,
   "metadata": {},
   "outputs": [],
   "source": [
    "df = pd.read_csv('./data/sc-all-helical-and-disordered-regions.csv')"
   ]
  },
  {
   "cell_type": "code",
   "execution_count": 11,
   "metadata": {},
   "outputs": [],
   "source": [
    "for aa in states:\n",
    "    df['freq_'+aa] = df.apply(lambda row: append_percent_aa(row, aa), axis=1)"
   ]
  },
  {
   "cell_type": "code",
   "execution_count": 12,
   "metadata": {},
   "outputs": [
    {
     "data": {
      "text/plain": [
       "LogisticRegression()"
      ]
     },
     "execution_count": 12,
     "metadata": {},
     "output_type": "execute_result"
    }
   ],
   "source": [
    "featurecol = []\n",
    "for aa in states:\n",
    "    featurecol.append('freq_'+aa)\n",
    "X = df[featurecol]\n",
    "y = df['label']\n",
    "X_train, X_test, y_train, y_test = train_test_split(X, y, test_size=0.25, random_state=0)\n",
    "logreg = LogisticRegression()\n",
    "logreg.fit(X_train, y_train)"
   ]
  },
  {
   "cell_type": "markdown",
   "metadata": {},
   "source": [
    "## Conservation of labels in highly charged regions"
   ]
  },
  {
   "cell_type": "code",
   "execution_count": 13,
   "metadata": {},
   "outputs": [],
   "source": [
    "df_hc = pd.read_csv('./data/charged-regions-with-structure-labels-low-thresh.csv')"
   ]
  },
  {
   "cell_type": "code",
   "execution_count": 14,
   "metadata": {},
   "outputs": [],
   "source": [
    "fdir = '/mnt/d/research/drummond-lab/data/aybrah-all/'\n",
    "wrong_seq = []\n",
    "for index, row in df_hc.iterrows():\n",
    "    orf = row['orf']\n",
    "    msa = AlignIO.read(open(fdir+str(orf)+'-aybrah.fa'), \"fasta\")\n",
    "    contains_seq = False\n",
    "    for record in msa:\n",
    "        seq = crutil.remove_gaps(record.seq)\n",
    "        if row['region.seq'] in seq:\n",
    "            contains_seq = True\n",
    "    if not contains_seq:\n",
    "        wrong_seq.append(index)"
   ]
  },
  {
   "cell_type": "code",
   "execution_count": 15,
   "metadata": {},
   "outputs": [],
   "source": [
    "df_hc.drop(df_hc.index[wrong_seq], inplace=True)"
   ]
  },
  {
   "cell_type": "code",
   "execution_count": 16,
   "metadata": {},
   "outputs": [],
   "source": [
    "def append_percent_aa(row, aa):\n",
    "    seq = row['seq']\n",
    "    return get_aa_freq(seq, aa)"
   ]
  },
  {
   "cell_type": "code",
   "execution_count": 17,
   "metadata": {},
   "outputs": [],
   "source": [
    "def append_structure_conservation(row):\n",
    "    fdir = '/mnt/d/research/drummond-lab/data/aybrah-all/'\n",
    "    orf = row['orf']  \n",
    "    refseq = row['region.seq']\n",
    "    left_bound = row['left.bound']\n",
    "    right_bound = row['right.bound']\n",
    "    sc_label = row['label']\n",
    "    \n",
    "    msa = AlignIO.read(open(fdir+str(orf)+'-aybrah.fa'), \"fasta\")\n",
    "    if len(msa) >= 15:\n",
    "        region_msa = aq.extract_region_msa(msa, left_bound, right_bound, refseq=refseq)\n",
    "        tmpdf = pd.DataFrame(columns=['seq', 'is_sc'])\n",
    "        for seq in region_msa:\n",
    "            s = crutil.remove_gaps(seq.seq)\n",
    "            name = seq.id\n",
    "            if len(s) >= 25 and name != 'Saccharomyces':\n",
    "                tmpdf = tmpdf.append({'seq': s, 'is_sc': 0}, ignore_index=True)\n",
    "            elif refseq in s and name == 'Saccharomyces':\n",
    "                tmpdf = tmpdf.append({'seq': refseq, 'is_sc': 1}, ignore_index=True)\n",
    "        if len(tmpdf) >= 15 and len(tmpdf[tmpdf.is_sc == 1]) >= 1:\n",
    "            for aa in states:\n",
    "                tmpdf['freq_'+aa] = tmpdf.apply(lambda r: append_percent_aa(r, aa), axis=1)\n",
    "            featurecol = []\n",
    "            for aa in states:\n",
    "                featurecol.append('freq_'+aa)\n",
    "            X = tmpdf[tmpdf.is_sc == 0][featurecol]\n",
    "            y = logreg.predict(X).tolist()\n",
    "            sc_X = tmpdf[tmpdf.is_sc == 1][featurecol]\n",
    "            sc_y = logreg.predict(sc_X).tolist()[0]\n",
    "            if sc_y == sc_label:\n",
    "                return y.count(sc_label) / len(y)\n",
    "            else:\n",
    "                return -y.count(sc_label) / len(y)\n",
    "        elif len(tmpdf[tmpdf.is_sc == 1]) == 0:\n",
    "            print(orf)\n",
    "    else:\n",
    "        return None"
   ]
  },
  {
   "cell_type": "code",
   "execution_count": 18,
   "metadata": {},
   "outputs": [],
   "source": [
    "df_hc['cons'] = df_hc.apply(lambda row: append_structure_conservation(row), axis=1)"
   ]
  },
  {
   "cell_type": "markdown",
   "metadata": {},
   "source": [
    "## Conservation of secondary structure in randomly selected regions"
   ]
  },
  {
   "cell_type": "code",
   "execution_count": 19,
   "metadata": {},
   "outputs": [],
   "source": [
    "df_random = pd.read_csv('./data/random-non-highly-charged-regions-from-AF-low-thresh.csv')"
   ]
  },
  {
   "cell_type": "code",
   "execution_count": 20,
   "metadata": {},
   "outputs": [],
   "source": [
    "with open('../../../alignment-free/data/yeast.txt') as f:\n",
    "    mappings = {}\n",
    "    for line in f:\n",
    "        uniprot = line[95:106].rstrip()\n",
    "        orf = line[75:95].rstrip()\n",
    "        mappings[uniprot] = orf"
   ]
  },
  {
   "cell_type": "code",
   "execution_count": 22,
   "metadata": {},
   "outputs": [],
   "source": [
    "fdir = '/mnt/d/research/drummond-lab/data/aybrah-all/'\n",
    "bad_seq = []\n",
    "for index, row in df_random.iterrows():\n",
    "    orf = mappings[row['uni_id']]\n",
    "    try:\n",
    "        msa = AlignIO.read(open(fdir+str(orf)+'-aybrah.fa'), \"fasta\")\n",
    "        contains_seq = False\n",
    "        for record in msa:\n",
    "            seq = crutil.remove_gaps(record.seq)\n",
    "            if row['seq'] in seq:\n",
    "                contains_seq = True\n",
    "        if not contains_seq:\n",
    "            bad_seq.append(index)\n",
    "    except:\n",
    "        bad_seq.append(index)"
   ]
  },
  {
   "cell_type": "code",
   "execution_count": 23,
   "metadata": {},
   "outputs": [],
   "source": [
    "df_random.drop(df_random.index[bad_seq], inplace=True)"
   ]
  },
  {
   "cell_type": "code",
   "execution_count": 24,
   "metadata": {},
   "outputs": [],
   "source": [
    "def append_structure_conservation2(row):\n",
    "    fdir = '/mnt/d/research/drummond-lab/data/aybrah-all/'\n",
    "    orf = mappings[row['uni_id']]\n",
    "    refseq = row['seq']\n",
    "    left_bound = row['left_bound']\n",
    "    right_bound = row['right_bound']\n",
    "    sc_label = row['label']\n",
    "    msa = AlignIO.read(open(fdir+str(orf)+'-aybrah.fa'), \"fasta\")\n",
    "    if len(msa) >= 15:\n",
    "        region_msa = aq.extract_region_msa(msa, left_bound, right_bound, refseq=refseq)\n",
    "        tmpdf = pd.DataFrame(columns=['seq', 'is_sc'])\n",
    "        for seq in region_msa:\n",
    "            s = crutil.remove_gaps(seq.seq)\n",
    "            name = seq.id\n",
    "            if len(s) >= 25 and name != 'Saccharomyces':\n",
    "                tmpdf = tmpdf.append({'seq': s, 'is_sc': 0}, ignore_index=True)\n",
    "            elif refseq in s and name == 'Saccharomyces':\n",
    "                tmpdf = tmpdf.append({'seq': refseq, 'is_sc': 1}, ignore_index=True)\n",
    "        if len(tmpdf) >= 15 and len(tmpdf[tmpdf.is_sc == 1]) >= 1:\n",
    "            for aa in states:\n",
    "                tmpdf['freq_'+aa] = tmpdf.apply(lambda r: append_percent_aa(r, aa), axis=1)\n",
    "            featurecol = []\n",
    "            for aa in states:\n",
    "                featurecol.append('freq_'+aa)\n",
    "            X = tmpdf[tmpdf.is_sc == 0][featurecol]\n",
    "            y = logreg.predict(X).tolist()\n",
    "            sc_X = tmpdf[tmpdf.is_sc == 1][featurecol]\n",
    "            sc_y = logreg.predict(sc_X).tolist()[0]\n",
    "            if sc_y == sc_label:\n",
    "                return y.count(sc_label) / len(y)\n",
    "            else:\n",
    "\n",
    "                return -y.count(sc_label) / len(y)\n",
    "    else:\n",
    "        return None"
   ]
  },
  {
   "cell_type": "code",
   "execution_count": 25,
   "metadata": {},
   "outputs": [],
   "source": [
    "df_random['cons'] = df_random.apply(lambda row: append_structure_conservation2(row), axis=1)"
   ]
  },
  {
   "cell_type": "markdown",
   "metadata": {},
   "source": [
    "## Summary plot"
   ]
  },
  {
   "cell_type": "code",
   "execution_count": 26,
   "metadata": {},
   "outputs": [],
   "source": [
    "df_hc['abs_cons'] = df_hc['cons'].abs()\n",
    "df_random['abs_cons'] = df_random['cons'].abs()"
   ]
  },
  {
   "cell_type": "code",
   "execution_count": 27,
   "metadata": {},
   "outputs": [],
   "source": [
    "df_hc_matched = df_hc[df_hc.cons >= 0]\n",
    "df_random_matched = df_random[df_random.cons >= 0]"
   ]
  },
  {
   "cell_type": "code",
   "execution_count": 28,
   "metadata": {},
   "outputs": [
    {
     "data": {
      "image/png": "[encoded data removed]",
      "text/plain": [
       "<Figure size 288x288 with 1 Axes>"
      ]
     },
     "metadata": {
      "needs_background": "light"
     },
     "output_type": "display_data"
    }
   ],
   "source": [
    "plt.figure(figsize=(4,4))\n",
    "bw = 0.5\n",
    "sns.ecdfplot(data=df_hc[df_hc.label == 'helix'], x='abs_cons')\n",
    "sns.ecdfplot(data=df_hc[df_hc.label == 'disordered'], x='abs_cons')\n",
    "sns.ecdfplot(data=df_random[df_random.label == 'helix'], x='abs_cons')\n",
    "sns.ecdfplot(data=df_random[df_random.label == 'disordered'], x='abs_cons')\n",
    "plt.legend(['Disorder - highly charged', 'Helical - highly charged',\n",
    "            'Disorder - random', 'Helical - random'])\n",
    "plt.xlabel('Percentage conservation')\n",
    "plt.show()"
   ]
  },
  {
   "cell_type": "code",
   "execution_count": 29,
   "metadata": {},
   "outputs": [
    {
     "data": {
      "image/png": "[encoded data removed]",
      "text/plain": [
       "<Figure size 288x288 with 1 Axes>"
      ]
     },
     "metadata": {
      "needs_background": "light"
     },
     "output_type": "display_data"
    }
   ],
   "source": [
    "plt.figure(figsize=(4,4))\n",
    "bw = 0.5\n",
    "sns.ecdfplot(data=df_hc_matched[df_hc_matched.label == 'helix'], x='cons')\n",
    "sns.ecdfplot(data=df_hc_matched[df_hc_matched.label == 'disordered'], x='cons')\n",
    "sns.ecdfplot(data=df_random_matched[df_random_matched.label == 'helix'], x='cons')\n",
    "sns.ecdfplot(data=df_random_matched[df_random_matched.label == 'disordered'], x='cons')\n",
    "plt.legend(['Disorder - highly charged', 'Helical - highly charged',\n",
    "            'Disorder - random', 'Helical - random'])\n",
    "plt.xlabel('Percentage conservation')\n",
    "plt.show()"
   ]
  },
  {
   "cell_type": "code",
   "execution_count": null,
   "metadata": {},
   "outputs": [],
   "source": [
    "YER177W"
   ]
  },
  {
   "cell_type": "markdown",
   "metadata": {},
   "source": [
    "## Spot checking outliers"
   ]
  },
  {
   "cell_type": "code",
   "execution_count": 26,
   "metadata": {},
   "outputs": [],
   "source": [
    "def prediction_viewer(orf, left_bound):\n",
    "    fdir = '/mnt/d/research/drummond-lab/data/aybrah-all/'\n",
    "    row = df_hc[(df_hc.orf == orf) & (df_hc['left.bound'] == left_bound)].iloc[0]\n",
    "    orf = row['orf']  \n",
    "    refseq = row['region.seq']\n",
    "    left_bound = row['left.bound']\n",
    "    right_bound = row['right.bound']\n",
    "    sc_label = row['label']\n",
    "\n",
    "    msa = AlignIO.read(open(fdir+str(orf)+'-aybrah.fa'), \"fasta\")\n",
    "    region_msa = aq.extract_region_msa(msa, left_bound, right_bound, refseq=refseq)\n",
    "\n",
    "    tmpdf = pd.DataFrame(columns=['seq'])\n",
    "    for seq in region_msa:\n",
    "        s = crutil.remove_gaps(seq.seq)\n",
    "        if len(s) >= 25:\n",
    "            tmpdf = tmpdf.append({'seq': s}, ignore_index=True)\n",
    "\n",
    "    for aa in states:\n",
    "        tmpdf['freq_'+aa] = tmpdf.apply(lambda r: append_percent_aa(r, aa), axis=1)\n",
    "    featurecol = []\n",
    "    for aa in states:\n",
    "        featurecol.append('freq_'+aa)\n",
    "    X = tmpdf[featurecol]\n",
    "    y = logreg.predict(X).tolist()\n",
    "    for index,row in tmpdf.iterrows():\n",
    "        print(row['seq'], y[index])\n",
    "        "
   ]
  },
  {
   "cell_type": "code",
   "execution_count": 27,
   "metadata": {},
   "outputs": [
    {
     "data": {
      "text/html": [
       "<div>\n",
       "<style scoped>\n",
       "    .dataframe tbody tr th:only-of-type {\n",
       "        vertical-align: middle;\n",
       "    }\n",
       "\n",
       "    .dataframe tbody tr th {\n",
       "        vertical-align: top;\n",
       "    }\n",
       "\n",
       "    .dataframe thead th {\n",
       "        text-align: right;\n",
       "    }\n",
       "</style>\n",
       "<table border=\"1\" class=\"dataframe\">\n",
       "  <thead>\n",
       "    <tr style=\"text-align: right;\">\n",
       "      <th></th>\n",
       "      <th>orf</th>\n",
       "      <th>gene</th>\n",
       "      <th>seq.len</th>\n",
       "      <th>left.bound</th>\n",
       "      <th>right.bound</th>\n",
       "      <th>region.seq</th>\n",
       "      <th>region.len</th>\n",
       "      <th>charge.asymmetry</th>\n",
       "      <th>frac.charge</th>\n",
       "      <th>kappa1</th>\n",
       "      <th>kappa2</th>\n",
       "      <th>uni_id</th>\n",
       "      <th>label</th>\n",
       "      <th>cons</th>\n",
       "    </tr>\n",
       "  </thead>\n",
       "  <tbody>\n",
       "    <tr>\n",
       "      <th>131</th>\n",
       "      <td>YER164W</td>\n",
       "      <td>CHD1</td>\n",
       "      <td>1469</td>\n",
       "      <td>911</td>\n",
       "      <td>964</td>\n",
       "      <td>LGGEEFLKQFEVTDYKADIDWDDIIPEEELKKLQDEEQKRKDEEYV...</td>\n",
       "      <td>54</td>\n",
       "      <td>0.082990</td>\n",
       "      <td>0.500000</td>\n",
       "      <td>0.063532</td>\n",
       "      <td>0.164148</td>\n",
       "      <td>P32657</td>\n",
       "      <td>disordered</td>\n",
       "      <td>0.030303</td>\n",
       "    </tr>\n",
       "    <tr>\n",
       "      <th>476</th>\n",
       "      <td>YOR326W</td>\n",
       "      <td>MYO2</td>\n",
       "      <td>1575</td>\n",
       "      <td>1016</td>\n",
       "      <td>1058</td>\n",
       "      <td>TEQTLKDAQLELEDMVKQHDELKEESKKQLEELEQTKKTLVEY</td>\n",
       "      <td>43</td>\n",
       "      <td>0.041860</td>\n",
       "      <td>0.465116</td>\n",
       "      <td>0.064220</td>\n",
       "      <td>0.171847</td>\n",
       "      <td>P19524</td>\n",
       "      <td>disordered</td>\n",
       "      <td>0.088235</td>\n",
       "    </tr>\n",
       "    <tr>\n",
       "      <th>56</th>\n",
       "      <td>YDL058W</td>\n",
       "      <td>USO1</td>\n",
       "      <td>1791</td>\n",
       "      <td>1074</td>\n",
       "      <td>1140</td>\n",
       "      <td>NKISELTKTREELEAELAAYKNLKNELETKLETSEKALKEVKENEE...</td>\n",
       "      <td>67</td>\n",
       "      <td>0.012037</td>\n",
       "      <td>0.462687</td>\n",
       "      <td>0.038101</td>\n",
       "      <td>0.090771</td>\n",
       "      <td>P25386</td>\n",
       "      <td>disordered</td>\n",
       "      <td>0.526316</td>\n",
       "    </tr>\n",
       "    <tr>\n",
       "      <th>24</th>\n",
       "      <td>YBR081C</td>\n",
       "      <td>SPT7</td>\n",
       "      <td>1333</td>\n",
       "      <td>306</td>\n",
       "      <td>364</td>\n",
       "      <td>IYHSFEYDKETMIKRLKLEESDKMIEKGKKKRSRSDLEAATDEQDR...</td>\n",
       "      <td>59</td>\n",
       "      <td>0.005260</td>\n",
       "      <td>0.491525</td>\n",
       "      <td>0.128023</td>\n",
       "      <td>0.282015</td>\n",
       "      <td>P35177</td>\n",
       "      <td>disordered</td>\n",
       "      <td>0.531250</td>\n",
       "    </tr>\n",
       "    <tr>\n",
       "      <th>283</th>\n",
       "      <td>YKL195W</td>\n",
       "      <td>MIA40</td>\n",
       "      <td>404</td>\n",
       "      <td>69</td>\n",
       "      <td>124</td>\n",
       "      <td>PLFASRKVESDKTAEEELSSGGEQSPENEDDNNSKSDENGDDNDSK...</td>\n",
       "      <td>56</td>\n",
       "      <td>0.131211</td>\n",
       "      <td>0.410714</td>\n",
       "      <td>0.072573</td>\n",
       "      <td>0.266881</td>\n",
       "      <td>P36046</td>\n",
       "      <td>disordered</td>\n",
       "      <td>0.571429</td>\n",
       "    </tr>\n",
       "    <tr>\n",
       "      <th>126</th>\n",
       "      <td>YER036C</td>\n",
       "      <td>ARB1</td>\n",
       "      <td>611</td>\n",
       "      <td>2</td>\n",
       "      <td>58</td>\n",
       "      <td>PVSASKAKRDAKKAEREAKKAAAGKTIRKLGRKKEAAAEESEVDAA...</td>\n",
       "      <td>57</td>\n",
       "      <td>0.043185</td>\n",
       "      <td>0.456140</td>\n",
       "      <td>0.089035</td>\n",
       "      <td>0.235717</td>\n",
       "      <td>P40024</td>\n",
       "      <td>disordered</td>\n",
       "      <td>0.593750</td>\n",
       "    </tr>\n",
       "    <tr>\n",
       "      <th>405</th>\n",
       "      <td>YNL102W</td>\n",
       "      <td>POL1</td>\n",
       "      <td>1469</td>\n",
       "      <td>0</td>\n",
       "      <td>57</td>\n",
       "      <td>MSSKSEKLEKLRKLQAARNGTSIDDYEGDESDGDRIYDEIDEKEYR...</td>\n",
       "      <td>58</td>\n",
       "      <td>0.014863</td>\n",
       "      <td>0.500000</td>\n",
       "      <td>0.130725</td>\n",
       "      <td>0.288834</td>\n",
       "      <td>P13382</td>\n",
       "      <td>disordered</td>\n",
       "      <td>0.677419</td>\n",
       "    </tr>\n",
       "    <tr>\n",
       "      <th>11</th>\n",
       "      <td>YAR003W</td>\n",
       "      <td>SWD1</td>\n",
       "      <td>427</td>\n",
       "      <td>348</td>\n",
       "      <td>405</td>\n",
       "      <td>SALAPDFEEVEENVDYLEKEDEFDEVDEAEQQQGLEQEEEIAIDLR...</td>\n",
       "      <td>58</td>\n",
       "      <td>0.214854</td>\n",
       "      <td>0.448276</td>\n",
       "      <td>0.084773</td>\n",
       "      <td>0.322094</td>\n",
       "      <td>P39706</td>\n",
       "      <td>disordered</td>\n",
       "      <td>0.727273</td>\n",
       "    </tr>\n",
       "    <tr>\n",
       "      <th>433</th>\n",
       "      <td>YNL286W</td>\n",
       "      <td>CUS2</td>\n",
       "      <td>286</td>\n",
       "      <td>135</td>\n",
       "      <td>187</td>\n",
       "      <td>DNMHGKENDLKEFNGPEPPIKRLKKAKSEGEGEVIDYNDDESLAKA...</td>\n",
       "      <td>53</td>\n",
       "      <td>0.013722</td>\n",
       "      <td>0.415094</td>\n",
       "      <td>0.113279</td>\n",
       "      <td>0.321812</td>\n",
       "      <td>P53830</td>\n",
       "      <td>disordered</td>\n",
       "      <td>0.730769</td>\n",
       "    </tr>\n",
       "    <tr>\n",
       "      <th>335</th>\n",
       "      <td>YLR277C</td>\n",
       "      <td>YSH1</td>\n",
       "      <td>780</td>\n",
       "      <td>482</td>\n",
       "      <td>536</td>\n",
       "      <td>NIVNEIYKEENVEIKEEIAAKIEPIKEENEDNLDSQAEKGLVDEEE...</td>\n",
       "      <td>55</td>\n",
       "      <td>0.109091</td>\n",
       "      <td>0.436364</td>\n",
       "      <td>0.057312</td>\n",
       "      <td>0.186142</td>\n",
       "      <td>Q06224</td>\n",
       "      <td>disordered</td>\n",
       "      <td>0.750000</td>\n",
       "    </tr>\n",
       "    <tr>\n",
       "      <th>407</th>\n",
       "      <td>YNL132W</td>\n",
       "      <td>KRE33</td>\n",
       "      <td>1057</td>\n",
       "      <td>651</td>\n",
       "      <td>707</td>\n",
       "      <td>RAIELLRDYFEGKFTDMSEDVRPKDYSIKRVSDKELAKTNLLKDDV...</td>\n",
       "      <td>57</td>\n",
       "      <td>0.000702</td>\n",
       "      <td>0.438596</td>\n",
       "      <td>0.029889</td>\n",
       "      <td>0.075637</td>\n",
       "      <td>P53914</td>\n",
       "      <td>disordered</td>\n",
       "      <td>0.750000</td>\n",
       "    </tr>\n",
       "    <tr>\n",
       "      <th>158</th>\n",
       "      <td>YGL203C</td>\n",
       "      <td>KEX1</td>\n",
       "      <td>730</td>\n",
       "      <td>499</td>\n",
       "      <td>586</td>\n",
       "      <td>NVMITTDDDSDQDATTESGDKPKENLEEEEQEAQNEEGKEKEGNKD...</td>\n",
       "      <td>88</td>\n",
       "      <td>0.305036</td>\n",
       "      <td>0.579545</td>\n",
       "      <td>0.141533</td>\n",
       "      <td>0.470082</td>\n",
       "      <td>P09620</td>\n",
       "      <td>disordered</td>\n",
       "      <td>0.793103</td>\n",
       "    </tr>\n",
       "  </tbody>\n",
       "</table>\n",
       "</div>"
      ],
      "text/plain": [
       "         orf   gene  seq.len  left.bound  right.bound  \\\n",
       "131  YER164W   CHD1     1469         911          964   \n",
       "476  YOR326W   MYO2     1575        1016         1058   \n",
       "56   YDL058W   USO1     1791        1074         1140   \n",
       "24   YBR081C   SPT7     1333         306          364   \n",
       "283  YKL195W  MIA40      404          69          124   \n",
       "126  YER036C   ARB1      611           2           58   \n",
       "405  YNL102W   POL1     1469           0           57   \n",
       "11   YAR003W   SWD1      427         348          405   \n",
       "433  YNL286W   CUS2      286         135          187   \n",
       "335  YLR277C   YSH1      780         482          536   \n",
       "407  YNL132W  KRE33     1057         651          707   \n",
       "158  YGL203C   KEX1      730         499          586   \n",
       "\n",
       "                                            region.seq  region.len  \\\n",
       "131  LGGEEFLKQFEVTDYKADIDWDDIIPEEELKKLQDEEQKRKDEEYV...          54   \n",
       "476        TEQTLKDAQLELEDMVKQHDELKEESKKQLEELEQTKKTLVEY          43   \n",
       "56   NKISELTKTREELEAELAAYKNLKNELETKLETSEKALKEVKENEE...          67   \n",
       "24   IYHSFEYDKETMIKRLKLEESDKMIEKGKKKRSRSDLEAATDEQDR...          59   \n",
       "283  PLFASRKVESDKTAEEELSSGGEQSPENEDDNNSKSDENGDDNDSK...          56   \n",
       "126  PVSASKAKRDAKKAEREAKKAAAGKTIRKLGRKKEAAAEESEVDAA...          57   \n",
       "405  MSSKSEKLEKLRKLQAARNGTSIDDYEGDESDGDRIYDEIDEKEYR...          58   \n",
       "11   SALAPDFEEVEENVDYLEKEDEFDEVDEAEQQQGLEQEEEIAIDLR...          58   \n",
       "433  DNMHGKENDLKEFNGPEPPIKRLKKAKSEGEGEVIDYNDDESLAKA...          53   \n",
       "335  NIVNEIYKEENVEIKEEIAAKIEPIKEENEDNLDSQAEKGLVDEEE...          55   \n",
       "407  RAIELLRDYFEGKFTDMSEDVRPKDYSIKRVSDKELAKTNLLKDDV...          57   \n",
       "158  NVMITTDDDSDQDATTESGDKPKENLEEEEQEAQNEEGKEKEGNKD...          88   \n",
       "\n",
       "     charge.asymmetry  frac.charge    kappa1    kappa2  uni_id       label  \\\n",
       "131          0.082990     0.500000  0.063532  0.164148  P32657  disordered   \n",
       "476          0.041860     0.465116  0.064220  0.171847  P19524  disordered   \n",
       "56           0.012037     0.462687  0.038101  0.090771  P25386  disordered   \n",
       "24           0.005260     0.491525  0.128023  0.282015  P35177  disordered   \n",
       "283          0.131211     0.410714  0.072573  0.266881  P36046  disordered   \n",
       "126          0.043185     0.456140  0.089035  0.235717  P40024  disordered   \n",
       "405          0.014863     0.500000  0.130725  0.288834  P13382  disordered   \n",
       "11           0.214854     0.448276  0.084773  0.322094  P39706  disordered   \n",
       "433          0.013722     0.415094  0.113279  0.321812  P53830  disordered   \n",
       "335          0.109091     0.436364  0.057312  0.186142  Q06224  disordered   \n",
       "407          0.000702     0.438596  0.029889  0.075637  P53914  disordered   \n",
       "158          0.305036     0.579545  0.141533  0.470082  P09620  disordered   \n",
       "\n",
       "         cons  \n",
       "131  0.030303  \n",
       "476  0.088235  \n",
       "56   0.526316  \n",
       "24   0.531250  \n",
       "283  0.571429  \n",
       "126  0.593750  \n",
       "405  0.677419  \n",
       "11   0.727273  \n",
       "433  0.730769  \n",
       "335  0.750000  \n",
       "407  0.750000  \n",
       "158  0.793103  "
      ]
     },
     "execution_count": 27,
     "metadata": {},
     "output_type": "execute_result"
    }
   ],
   "source": [
    "df_hc[(df_hc.label == 'disordered') & (df_hc.cons < 0.8)].sort_values(by='cons')"
   ]
  },
  {
   "cell_type": "code",
   "execution_count": 28,
   "metadata": {},
   "outputs": [
    {
     "name": "stdout",
     "output_type": "stream",
     "text": [
      "TSAASFNRAHGLPPAEAIEPVVEVDERNPGPRAGVPPPPKALGGARPLV disordered\n",
      "AEVSDLKKTIETLQSELDSSNEQNATEVS disordered\n",
      "SDLASSEKDLASKTKDVSAKDTEIEKLKSELETANSKLASTAKEVEILTSELKAAKSDACDSETKIKAVESELVEQKSKVEHLNAELA disordered\n",
      "EKVESIEKALESEKSSNKSLSEEKKLAEEKLEKLGNDLQQHQSSHESVVQEKTALTKKIE helix\n",
      "DPSQEHKNVLVLSASSTVPPDQQIEEEISNGKEPDSQAVVRELEEKLAQTTKHLL disordered\n",
      "SQKKKLENELSSLKQKHSDFSNQSETLTRELSDLKSSHEQLLGEKIIHDSAKAELDSQIASLNAKIAEFEASQAADKKDSD disordered\n",
      "EEKRALENEKSELQKRWEEEKQKLEQEKDAQIKEYE helix\n",
      "DENKTLKQQVEKIKDSSASAENQKSAVLSEFAQLREEKENKIS disordered\n",
      "AANLELRNQIQNMQKKYDETVAKYKEEIENLKRQHTVEIELLKNNLNISEGQQSELESKLGKANEEIVKLAKTVEEKSACFK helix\n",
      "EEKTGLEGQIASLSTEVAKLTEDMEVSSKAVKYELEELKKENERLKAELDASSELVAAKGEELNQNEQ helix\n",
      "SRVQELREEISVLRSNLQDSEETHKLEISAYTDELDILKTDHSSVLAEYEHLKELYEKAVEGRSSQEADPSVSSNKEQIAKIIEDKETELKTSSKRVK disordered\n",
      "EEKNKLKKQVEELEAKISSLKEDHESKSLSGVQEKESLTKELQVAKEQLKKLQKEVSTKESQVLEKSKELEEATKLSDSKAT helix\n",
      "CENEKLKKDLEDIDNSKENAEAKQKSVEEELSNFKTKHSKVREELEKSLDAKTGEYNDAIEKLKNKDISIASLKETHSKKVS disordered\n",
      "TKNKNLQEKLDSTVSTAPDNNDSEELSQQLHDALKKFDDIRKIRDYEKSKFEVKLAEIQ disordered\n",
      "VKCIELESSLESAKQSTDNSDETIEELNDSVIAINDELQSVLAEKDELLKQNNKINEELCNYQQELQEKADSCQ helix\n",
      "NTFNKARNELESLNKTLAEANDKLRSRESTIESLEEKLQELKKSSDEKIASLEKSRKDLEKFQQKFRDLELEKSKTQDALT helix\n",
      "KELNKLKKDLEGKEQKLKSITERAQELEKTLDEQRNSNADSERKLKENIKALEHQKKEAISNSKELENELDQLKNKHKSLDEQNTKSVEELKTRVLEVEKERDEKHNNVQKIENKLQ helix\n",
      "NKISELTKTREELEAELAAYKNLKNELETKLETSEKALKEVKENEEHLKEEKIQLEKEATETKQQLN helix\n",
      "LEVEKLENEITEIKNSHKSAQKETDTLQTKLDETELLLQSSKEEILSLKNEYSSTLSDKENLENSEKKSSEKIEELEKNFSNLQEQFENITAENKSLKEECSGTEEKFKDVNEKLDQYGETISSLSDEKDKLNGIIDDKEKIIS disordered\n"
     ]
    }
   ],
   "source": [
    "prediction_viewer('YDL058W', 1074)"
   ]
  },
  {
   "cell_type": "code",
   "execution_count": 29,
   "metadata": {},
   "outputs": [
    {
     "name": "stdout",
     "output_type": "stream",
     "text": [
      "LGGEEFLNQFAVQDVKADMTSWEDIIPADDRERALAKLEEEAKEAKAKAQADSTR helix\n",
      "LGGEEFLKQFEVTDFKADVTWDDIIPEDDRKRIKEEEDERRNDEYLQQQMAASS disordered\n",
      "MGGEEFLKQFEVTDYKADVSWDDIIPLTEREKFEEEDRLREEEEALKQEIELSS helix\n",
      "MGGEEFLKQFEVTDYKAEDLNWDDIIPEEEMERIEEEERMLAAQRAKEEERERRE helix\n",
      "SGGIDWDNWMQVTDVKVDDLALDWDQIIPAEQLAAIKAEENRKKEEEYLAKTIEENA helix\n",
      "SGGIDWDNFMQITDVKVDDINLDWDQIIPAEKLAEIKAEEEKKQHEDYLAQVAAESA helix\n",
      "DGGEEFLRAFEYVDIKVDDLSWDDIIPKEQLEEIKAEEKKKADERYLAEVIEQNR helix\n",
      "LGGEEFLKQFEVTDYKADVSWDDIIPASELQRIKEEEQKRKNDEFLQEQIKMNS helix\n",
      "LGGEEFLKQFEVTDYKADVDWDDIIPANELAKIKADDLRRKDEEYVKEQMDLMN helix\n",
      "LGGEEFLKQFEVTDYKADMTWDDIIPADELAKIKEEEQKRKDDEYLQEQIAMFA helix\n",
      "LGGEEFLKQFEVTDYKADVSWDDIIPPEELARLKDEEKKRRDELYLQEQIQMSS helix\n",
      "LGGEEFLRQFEVTDYKANVEWDDIIPEEELQKIKEEEKKRKDEIFLQEQIEMSS helix\n",
      "LGGEEFLKQFEVTDYKADVDWDDIIPEDELKKLKEEEKKREDDAYLQQQIQMYS helix\n",
      "LGGEEFLKQFEVTDYKADVDWDDIIPEDELKKLKEEEKKRQDEEYLKEQIEMFS helix\n",
      "LGGEEFLKQFEVTDYKADVDWDDIIPEEELKKLKEDEKKRQDEQYLQQQIEMYS helix\n",
      "LGGEEFLRQFEVTDYKADVDWDDIIPEEDLKRIKEEEEKRKEETFLQEQIEMSS helix\n",
      "LGGEEFLKQFEVTDYKADVDWDDIIPEDELKKIKEEEEKRKEEAFLQEQIEMAS helix\n",
      "FGSEDFLKQFEVTDYKADVDWDDIIPDDELVKIKEEEKKEKEEEFLQKQIEMAK helix\n",
      "LGSEEFLKQFEVTDYKADIDWDDIIPEDELKKIKEEEQKRKEEAFLKEQIEMSS helix\n",
      "LGSEEFLRQFEVTDYKADVDWDDIIPEEELKKLKAEEAQKQEEEYLQEQIAMYS helix\n",
      "LGSEEFLKQFEVTDYKADVEWDDIIPQDELTKLKEEEKKRAEETYLNDQIAIYS helix\n",
      "LGSEEFLKQFEVTDYKADVEWDDIIPQEELAKLKDDEKKKADEQFLQEQIAMYS helix\n",
      "LGSEEFLKQFEVTDYKADIEWDDIIPQEELSKLKEDEKKKADDEFLQEQISMYS helix\n",
      "LGSEEFLKQFEVTDYKADVEWDDIIPQEELAKLKDEEKKKADEIYLEEQIAMYS helix\n",
      "LGSEEFLKQFEVTDYKADVEWDDIIPEEELIKLKDEEKRKADEEYLQQQIAMYS helix\n",
      "LGGEEFLKQFEVTDYKADVDWDDIIPAEELAKLKEDEKKRLEEQYIQEQMQMYS helix\n",
      "LGGEEFLKQFEVTDYKADVDWDDIIPAEELAKLKEEEKKRLEEQYLQEQIDMYS helix\n",
      "LGGEEFLKQFEVTDVNTNFEWDDIIPEEDLVQIKKDEEKAKDDMFVEEQMRILA helix\n",
      "LGGEEFLRQFEVTDYKADVDWDDIIPEDELKKLKDEEQRRIDEEYVREQLDIMN helix\n",
      "LGGEEFLRQFEVTDYKADVEWDDIIPEEELKKLKDEEQKRMDEEYVQEQLQLMN helix\n",
      "LGGEEFLKQFEVTDYKADVDWDDIIPEDELKKLQDEDQKRRDDEYVQEQLQLMN helix\n",
      "LGGEEFLKQFEVTDYKADIDWDDIIPEEELKKLQDEEQKRKDEEYVKEQLEMMN helix\n",
      "LGGEEFLKQFEVTDYKADVDWDDIIPKDELKKLQDEEQRRKDEEYVQEQLQMMN helix\n"
     ]
    }
   ],
   "source": [
    "prediction_viewer('YER164W', 911)"
   ]
  },
  {
   "cell_type": "code",
   "execution_count": 30,
   "metadata": {},
   "outputs": [
    {
     "name": "stdout",
     "output_type": "stream",
     "text": [
      "SWRSFEYADKDVAEGADSRDEKRHQEKKNKAERDRKKKEDNTRRRTLVDQGLALDPRIKQFRAAEKAAREAKRRGGAGVPAQLDPAEKAEQEKKAKELAEAEAAAAAAKEAADKADREVQKKAKAAAAKEVKKNKKAISNAVS disordered\n",
      "SWRTFEYLDKDIPDDSDNRDQKRYQEKKNKADRAKRKTEDTARLRKLVDDVLAQDPRIKMFKQAEKEAKEKAKWERERGAREAAEAAKRAEEEEAARKQKEEDEAKLAAVDKKAQKEKAKKESKKNKKTIKNALK disordered\n",
      "SWRSFEYLDKDIPDDGESRDNKRFQEKKNRSERQKNKARDNARLRNLVDTALASDPRIKLFKEQEKAAKAARKWEREAGAREAAAAAQKKKEEEERRAAEEAAAKASAAAANKKAKEDKKKAQKRDKKVVKNALK disordered\n",
      "SWRSFEYLDEDVPDDSESRDQRRHTERKNLNTRKKRKAEDNARLRKLLDDCSAADERIKKFRQEANAAKNKKRLEKEAAEKKAAEEAAAKKAAEEAAAKEAEEKAKADREASKKAKEAAKNAVKKNKRVLRGSVK disordered\n",
      "SWRSFEYLDEDVPDDGESRDHKRHVERKNANSRKKKKAEDNARLRKLLDDASAGDERIKRFRQEANAAKNKKKLEKEAAEKKAAEEAQAKKEAEEKAKAEAEAAAKADREAGKKAKEAAKNALKKNKRVLKGSVK disordered\n",
      "SWRTFEYLDEDVPDDNENRDQKRHMEKKNANARRKRKTEDTTRLRHLVDDCAAGDERIKKFRKAARADKDRKRLEKEAEIKRLAEEKEKARLEEEQRKKDAEEAAKAEREQNKKAKEAAKNAAKKNKRVLKGSVK disordered\n",
      "SWRSFEYLDEDVPDDSDNRDNKRHTERKNKTARQKRKTEDTARLRKSVDDCLTSDPRVKVFKEAERMAKEQRKWEREADARKASEQAKKAKEEEERRRKEEEERSKEERSNSKKAKESAKNAKKKNRRAVKAAVK disordered\n",
      "SWRTFEYLDEDVPDDSSNRDHKRYIEKKNKAQRQKHKTEDTARFREAVDLALSLDPRIKMFKEADKKAKEAKKWEKEAGAREAAAKAAKEAEEAAAKAKKEAEEAAANKENAKKSKEAAKSAKKKNKRAVRNAAK disordered\n",
      "SWRSFEYLDEDVPDDTSNRDNKRYIEKKNRNARNKRKTEDTARLRKLVDDALNADPRIKLFKEAERKAKEQKKWEREAGAREAAEAAKRAKEEAEKKKAEEEAAAKAAKESAKKNKEAAKNAKKKNKRTIRGSVK disordered\n",
      "SWRTFEFLDEDVPDDTSNRDNKRYIEKKNFAARKKRKTEELARLRKLIDTAIASDPRIKLFKENEKAAKEKAKWDREADTRKAAEDAKKAAEEAAAAKEAEEKAAKEAKEGAKKNKEAAKNAKKKNKRTIRGSVK disordered\n",
      "SWRTFEWLDEDVPDDSSNRDHKRYIERKNKTQRDKKKKEDNKRLLSLVDRAFSEDPRIKLFKKKEKEEKVKRKWEREAGSRKALEEARLKKEAEEKAKKEAEEKAKSLKQNSKKAKEALKSAKKKNKRIIRNSVK disordered\n",
      "SWRSFEFLDEDVPDDTANRDHKRYIERKNVAARKKKKTEDNKRLIELVKRASSEDPRIKLFKEAEKKEKERKKWEREAGSRKAAEEAAAKKAAEEKAKAEAEEQAKNLKESSKKAKEAAKNAKKKNKRVVRNSVK disordered\n",
      "SWRTFEFLDEDVPDDTSNRYHKRMIEKKNKAARQKRKTEDNKRLSELVRRAANEDPRLKAFRDKEKEEKNKKKQEREAEAAKAAEEVKAKREAVERARAEAAKARAKSKAKPSYQPIQTQSKGKGKGKGKGKGKKSTVSKEQRTESKINIRNSVK disordered\n",
      "SWRSFEFLDEDVPDDTANRDHKRYIERKNKAARQKKKNEDNKRLAELVKRALSEDPRIKLFKQQEKDEKARKKWEREAGARQAAEEAKLKQEAEEKAKAEAELNAKASKENSKKAKEAAKNAKKKNKRSIRASVK disordered\n",
      "SWKTFEFLDEDVPDDTANRDHKRYIEKKNNNARKKRKTEDTKRLADLVKRANAEDPRIKKFKEDEKAEKAKKKWEREAGARKAAEEAKAKEEAEAKAKKEAELAAQQSKESGKKAKEAAKNAKKKNKRTVRSAVK disordered\n",
      "SWRTFEFLDEDVPDDTANRDHKRYIEKKNNNARKKRKVEDNKRLADLVKRANSEDPRIKKFKEEEKAEKARKKWEREAGARKAAEEARIKAEAEAKAKAEAEAKAKLEKENAKKAKEAAKSAKKKNKRAIRAAAK helix\n",
      "SWRSFEFLDEDVPDDTSNRDHKRYIEKKNHSARRKRKTDDNKRLDALVKRAHSEDPRIKKFKQLEKEEKARKKWEREAGARQAAAEAKEKAEKEAAEKAKKEAEQKQKREKNKKSKEAKKSAKKKSKRTIRAAVK disordered\n",
      "SWRSFEWSDEDVPDDTSNRDHKRYIEKKNNNSRKKKKNDDNKRLSDSVKRAQAEDPRIKKFKDEEKAEKARKKWEREAGSRKAEEEAKAKAEAEAKAKAEAEASAKAEKENSKKSKEAAKSAKKKNKRTIRGAAK disordered\n",
      "SWRTFEWLDEDVPDDSANRDHKRYIEKKNNNSRKKKKTEDNKRLSDLVKRAQSEDPRIKAFKEAEKEEKARKKWEREAGARKAAEDAKAKAEAEAKAKADAEAAAKAEKENAKKAKEAAKAAKKKNKRAIRAAAK disordered\n",
      "SWRTFEFLDDDVPDDSANRDHKRYIERKNIAARKKHKVEDNRRLIALIQRAQSEDPRIKNFKDAEKAEKAARKWEREAGARKAAEEAAAAKAAAEAAAAEAEAAAKIAKEGGKKAKEAAKAAKKKNKRAVRASAK helix\n",
      "SWKTFEFKDDDVPDDTANRDHKRYIERKNISNRKKLKQEDNKALIELVSRAQAEDPRIKAFKEAAKKEKERLKWEKEAGARAEAEKKAAEEAAKSAKKKNKRAIRGAAK disordered\n",
      "SWKTFEFKDEDVPDDTANRDHKRYIERKNVSNRKKLKQEDNKRIIDLVERAYSEDPRIKLFKDAAKKEKERKKWEREAGSRKAAEEAAAKKAAEEEAAKKAAEEAASSKVNAKKAKEAAKAAKKKNKRAIRGSAK disordered\n",
      "SWKTFEFKDEDVPDDTANRDHKRYIERKNIATRKKFKQEDNKRVIDLVERAYSEDPRIKLFKDTAKKEKERKKWEREAGSRQAAEEAAAKKAAEEEAAKKAAEDAAASKVSSKKAKEAAKAAKKKQKRSIRSAPK disordered\n",
      "SWKTFEFKDEDVPDDTANRDHKRYIERKNISNRKKLKQEDNKRLIDLVERAFSEDPRIKQFKEAAKKEKERKKWERDSGSREAAEAAAAKKAAEEEAAKKAAEEAANAKANSKKAKEAAKAAKKKNKRSIRGSVK disordered\n",
      "SWKTFEFKDEDVPDDTANRDHKRYIERKNIATRKKLKQEDNKRFIELVERAYSEDPRIKMFKDQAKKEKAAKKWEREAGSRKAAEEEAAKKAAEEEAAKKAAEAEASKKADSKKAKEAAKAAKKKNKRSVRNSAK disordered\n",
      "SWRTFEFLDEDVPDDSSNRDHKRYIERKNVAARKKRKTEDNARLLALVDRVKAEDPRIKLFKEADKKEKERKKWERDAGAREAAAKAKKEAEEAAAKKEAEEAAAAAAKADSKKAKEAAKSAKKKNKRAVRGAAK helix\n",
      "SWRTFEFLDEDVPDDSSNRDHKRYVERKNVAARKKAKTEDNRRLLELVERAFKEDPRMKLFKEAEKKEKERIKWEREAGARAEAEAKAKKEAEEAAAKKAAEEAAASAKAEAKKSKEAAKSAKKKNKRAIRNAAK helix\n",
      "SWRTFEFLDEDVPDDSSNRDHKRYIEKKNKAARDKKKTLDNTRLAKLVERAFSEDPRIRAYKEEEKKAKEQKKWEAGAAARAAEEAKAKAEEEAKKAAEEETKKAADSKANSKKAKEAAKSAKKKNKRAIRGSGK disordered\n",
      "SWRTFEFLDEEVPDDSSNRDHKRYIERKNKAARDKKKTADNARLVKLVERAMNEDPRIKQFKEEEKKEKERKKWEREAGARAEAEAKAKAEAEAKAKAEADAAQAASAKVDKKKAKEAAKAAKKKNKRSIRNAPK disordered\n",
      "SWRTFEFADEEVPDDSSNRDHKRYIERKNKAARDKKKTADNARLAKLVERASNEDPRIKQFKEAEKKEKEKKKWEREAGARAEAEAKAKAEAEAKAKAEAEAAAAAGAKVDKKKAKEAAKAAKKKNKRAVRNAPK disordered\n",
      "SWRSFEFADEDVPDDSSNRDHKRYIERKNKAARDKKKTADNARLVKLVERAVNEDPRIRKFKEEEKQERERKKWERDAGARAEAEAKKKAEEEAKKQAEADAVAKEAAKVDKKKLKEAAKAAKKKNKRTIRGSAK disordered\n",
      "SWRTFEFLDEDVPDDSSNRDHKRYIERKNKAARDKKKTADNARLVKLVERAVSEDPRIKMFKEEEKKEKERRKWEREAGARAEAEAKAKAEAEAKAKAESEAKANASAKADKKKAKEAAKAAKKKNKRAIRNSAK disordered\n",
      "SWRTFEFLDEDVPDDSSNRDHKRYIEKKNKAARDKKKTADNSRLVKLVERAMSEDPRIKLFKEQEKKEKEQRKWEREAGARAEAEAKAKAEVEAKAKAEADASAAANAKADKKKAKEAAKAAKKKNKRAIRSSAK disordered\n"
     ]
    }
   ],
   "source": [
    "prediction_viewer('YGR285C', 228)"
   ]
  },
  {
   "cell_type": "markdown",
   "metadata": {},
   "source": [
    "## Conservation vs. abundance"
   ]
  },
  {
   "cell_type": "code",
   "execution_count": 31,
   "metadata": {},
   "outputs": [],
   "source": [
    "df_abundance = pd.read_table('./data/4932-Yeast_GeneName_Intensity_Breker_2103.txt', comment='#')"
   ]
  },
  {
   "cell_type": "code",
   "execution_count": 32,
   "metadata": {},
   "outputs": [],
   "source": [
    "abundance_dict = {}\n",
    "for index,row in df_abundance.iterrows():\n",
    "    orf = row['string_external_id'].split('.')[1]\n",
    "    abundance = row['abundance']\n",
    "    abundance_dict[orf] = abundance"
   ]
  },
  {
   "cell_type": "code",
   "execution_count": 33,
   "metadata": {},
   "outputs": [],
   "source": [
    "df_hc['abundance'] = df_hc['orf'].map(abundance_dict)"
   ]
  },
  {
   "cell_type": "code",
   "execution_count": 34,
   "metadata": {},
   "outputs": [
    {
     "data": {
      "image/png": "[encoded data removed]",
      "text/plain": [
       "<Figure size 288x288 with 1 Axes>"
      ]
     },
     "metadata": {
      "needs_background": "light"
     },
     "output_type": "display_data"
    }
   ],
   "source": [
    "plt.figure(figsize=(4,4))\n",
    "sns.scatterplot(data=df_hc, x='abundance', y='cons',\n",
    "                alpha=0.5)\n",
    "plt.xlabel('Abundance', fontsize=12)\n",
    "plt.ylabel('Percentage conservation', fontsize=12)\n",
    "plt.show()"
   ]
  },
  {
   "cell_type": "code",
   "execution_count": 35,
   "metadata": {},
   "outputs": [
    {
     "data": {
      "text/html": [
       "<div>\n",
       "<style scoped>\n",
       "    .dataframe tbody tr th:only-of-type {\n",
       "        vertical-align: middle;\n",
       "    }\n",
       "\n",
       "    .dataframe tbody tr th {\n",
       "        vertical-align: top;\n",
       "    }\n",
       "\n",
       "    .dataframe thead th {\n",
       "        text-align: right;\n",
       "    }\n",
       "</style>\n",
       "<table border=\"1\" class=\"dataframe\">\n",
       "  <thead>\n",
       "    <tr style=\"text-align: right;\">\n",
       "      <th></th>\n",
       "      <th>orf</th>\n",
       "      <th>gene</th>\n",
       "      <th>seq.len</th>\n",
       "      <th>left.bound</th>\n",
       "      <th>right.bound</th>\n",
       "      <th>region.seq</th>\n",
       "      <th>region.len</th>\n",
       "      <th>charge.asymmetry</th>\n",
       "      <th>frac.charge</th>\n",
       "      <th>kappa1</th>\n",
       "      <th>kappa2</th>\n",
       "      <th>uni_id</th>\n",
       "      <th>label</th>\n",
       "      <th>cons</th>\n",
       "      <th>abundance</th>\n",
       "    </tr>\n",
       "  </thead>\n",
       "  <tbody>\n",
       "    <tr>\n",
       "      <th>196</th>\n",
       "      <td>YGR285C</td>\n",
       "      <td>ZUO1</td>\n",
       "      <td>434</td>\n",
       "      <td>228</td>\n",
       "      <td>362</td>\n",
       "      <td>SWRTFEFLDEDVPDDSSNRDHKRYIERKNKAARDKKKTADNARLVK...</td>\n",
       "      <td>135</td>\n",
       "      <td>0.023474</td>\n",
       "      <td>0.525926</td>\n",
       "      <td>0.072776</td>\n",
       "      <td>0.148288</td>\n",
       "      <td>P32527</td>\n",
       "      <td>helix</td>\n",
       "      <td>0.121212</td>\n",
       "      <td>1743.0</td>\n",
       "    </tr>\n",
       "  </tbody>\n",
       "</table>\n",
       "</div>"
      ],
      "text/plain": [
       "         orf  gene  seq.len  left.bound  right.bound  \\\n",
       "196  YGR285C  ZUO1      434         228          362   \n",
       "\n",
       "                                            region.seq  region.len  \\\n",
       "196  SWRTFEFLDEDVPDDSSNRDHKRYIERKNKAARDKKKTADNARLVK...         135   \n",
       "\n",
       "     charge.asymmetry  frac.charge    kappa1    kappa2  uni_id  label  \\\n",
       "196          0.023474     0.525926  0.072776  0.148288  P32527  helix   \n",
       "\n",
       "         cons  abundance  \n",
       "196  0.121212     1743.0  "
      ]
     },
     "execution_count": 35,
     "metadata": {},
     "output_type": "execute_result"
    }
   ],
   "source": [
    "df_hc[(df_hc.abundance > 1500) & (df_hc.cons <= 0.2)]"
   ]
  },
  {
   "cell_type": "code",
   "execution_count": null,
   "metadata": {},
   "outputs": [],
   "source": []
  }
 ],
 "metadata": {
  "kernelspec": {
   "display_name": "Python 3",
   "language": "python",
   "name": "python3"
  },
  "language_info": {
   "codemirror_mode": {
    "name": "ipython",
    "version": 3
   },
   "file_extension": ".py",
   "mimetype": "text/x-python",
   "name": "python",
   "nbconvert_exporter": "python",
   "pygments_lexer": "ipython3",
   "version": "3.7.5"
  }
 },
 "nbformat": 4,
 "nbformat_minor": 2
}
