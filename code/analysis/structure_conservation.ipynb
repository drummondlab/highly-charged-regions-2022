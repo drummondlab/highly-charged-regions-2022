{
 "cells": [
  {
   "cell_type": "code",
   "execution_count": 1,
   "metadata": {},
   "outputs": [],
   "source": [
    "import sys\n",
    "sys.path.insert(1, '../scripts')"
   ]
  },
  {
   "cell_type": "code",
   "execution_count": 3,
   "metadata": {},
   "outputs": [],
   "source": [
    "# data processing\n",
    "import numpy as np\n",
    "import pandas as pd\n",
    "from Bio import AlignIO\n",
    "import alignment_quality as aq\n",
    "import crutil\n",
    "\n",
    "# logistic regression model\n",
    "from sklearn import metrics\n",
    "from sklearn.model_selection import train_test_split\n",
    "from sklearn.linear_model import LogisticRegression\n",
    "from sklearn.linear_model import LinearRegression\n",
    "\n",
    "# plotting\n",
    "import matplotlib.pyplot as plt\n",
    "import seaborn as sns\n",
    "plt.rcParams.update({'font.size': 14})\n",
    "plt.rcParams['font.family'] = 'sans-serif'\n",
    "plt.rcParams['font.sans-serif'] = \"Arial\"\n",
    "\n",
    "## Colors\n",
    "cscheme = {'pos':'#0177BB', 'neg':'#CB3627', 'dis':'#828282', 'helix':'#009988', 'sheet':'#EE7733', 'cr':'#AA4499',\n",
    "          'null':\"black\"}"
   ]
  },
  {
   "cell_type": "code",
   "execution_count": 4,
   "metadata": {},
   "outputs": [],
   "source": [
    "import warnings\n",
    "warnings.filterwarnings('ignore')"
   ]
  },
  {
   "cell_type": "code",
   "execution_count": 5,
   "metadata": {},
   "outputs": [],
   "source": [
    "states = ['A', 'C', 'D', 'E', 'F', 'G', 'H', 'I', 'K', 'L',\n",
    "          'M', 'N', 'P', 'Q', 'R', 'S', 'T', 'V', 'W', 'Y']"
   ]
  },
  {
   "cell_type": "markdown",
   "metadata": {},
   "source": [
    "## Functions"
   ]
  },
  {
   "cell_type": "code",
   "execution_count": 6,
   "metadata": {},
   "outputs": [],
   "source": [
    "def get_aa_freq(seq, aa):\n",
    "    cnt = 0\n",
    "    for i in seq:\n",
    "        if i == aa:\n",
    "            cnt += 1\n",
    "    aa_freq = cnt / len(seq)\n",
    "    return aa_freq"
   ]
  },
  {
   "cell_type": "code",
   "execution_count": 7,
   "metadata": {},
   "outputs": [],
   "source": [
    "def append_percent_aa(row, aa):\n",
    "    seq = row['region_seq']\n",
    "    if len(seq) == 0:\n",
    "        print(row['uni_id'])\n",
    "    return get_aa_freq(seq, aa)"
   ]
  },
  {
   "cell_type": "markdown",
   "metadata": {},
   "source": [
    "## Training logistic regression model using AlphaFold data"
   ]
  },
  {
   "cell_type": "code",
   "execution_count": 8,
   "metadata": {},
   "outputs": [],
   "source": [
    "df = pd.read_csv('../../data/af_regions/sc_af_regions_all.csv')"
   ]
  },
  {
   "cell_type": "code",
   "execution_count": 9,
   "metadata": {},
   "outputs": [],
   "source": [
    "for aa in states:\n",
    "    df['freq_'+aa] = df.apply(lambda row: append_percent_aa(row, aa), axis=1)"
   ]
  },
  {
   "cell_type": "code",
   "execution_count": 10,
   "metadata": {},
   "outputs": [
    {
     "data": {
      "text/plain": [
       "LogisticRegression()"
      ]
     },
     "execution_count": 10,
     "metadata": {},
     "output_type": "execute_result"
    }
   ],
   "source": [
    "featurecol = []\n",
    "for aa in states:\n",
    "    featurecol.append('freq_'+aa)\n",
    "X = df[featurecol]\n",
    "y = df['label']\n",
    "#X_train, X_test, y_train, y_test = train_test_split(X, y, test_size=0.25, random_state=0)\n",
    "logreg = LogisticRegression()\n",
    "logreg.fit(X, y)"
   ]
  },
  {
   "cell_type": "markdown",
   "metadata": {},
   "source": [
    "## Conservation of labels in highly charged regions"
   ]
  },
  {
   "cell_type": "code",
   "execution_count": 11,
   "metadata": {},
   "outputs": [],
   "source": [
    "df_hc = pd.read_csv('../../data/charged_regions/cr_filtered_aflabel.csv')"
   ]
  },
  {
   "cell_type": "code",
   "execution_count": 12,
   "metadata": {},
   "outputs": [],
   "source": [
    "fdir = '/mnt/d/research/drummond-lab/data/aybrah-all/'\n",
    "wrong_seq = []\n",
    "for index, row in df_hc.iterrows():\n",
    "    orf = row['orf']\n",
    "    msa = AlignIO.read(open(fdir+str(orf)+'-aybrah.fa'), \"fasta\")\n",
    "    contains_seq = False\n",
    "    for record in msa:\n",
    "        seq = crutil.remove_gaps(record.seq)\n",
    "        if row['region.seq'] in seq:\n",
    "            contains_seq = True\n",
    "    if not contains_seq:\n",
    "        wrong_seq.append(index)"
   ]
  },
  {
   "cell_type": "code",
   "execution_count": 13,
   "metadata": {},
   "outputs": [],
   "source": [
    "df_hc.drop(df_hc.index[wrong_seq], inplace=True)"
   ]
  },
  {
   "cell_type": "code",
   "execution_count": 14,
   "metadata": {},
   "outputs": [],
   "source": [
    "featcol = []\n",
    "for aa in states:\n",
    "    featcol.append('freq_'+aa)"
   ]
  },
  {
   "cell_type": "code",
   "execution_count": 15,
   "metadata": {},
   "outputs": [],
   "source": [
    "def get_conservation(tmpdf, model, featcol):\n",
    "    X = tmpdf[featcol]\n",
    "    y = model.predict(X).tolist()\n",
    "    predp = model.predict_proba(X)\n",
    "    d_cons = y.count('disordered') / len(y)\n",
    "    h_cons = y.count('helix') / len(y)\n",
    "    \n",
    "    if d_cons > h_cons:\n",
    "        label = 'disordered'\n",
    "        cons = d_cons\n",
    "        confidence = np.mean(predp[:,0])\n",
    "    else:\n",
    "        label = 'helix'\n",
    "        cons = h_cons\n",
    "        confidence = np.mean(predp[:,1])\n",
    "        \n",
    "    return label, cons, confidence"
   ]
  },
  {
   "cell_type": "code",
   "execution_count": 16,
   "metadata": {},
   "outputs": [],
   "source": [
    "def get_featdf(region_msa):\n",
    "    df = pd.DataFrame(columns=['seq'] + featcol)\n",
    "    for seq in region_msa:\n",
    "        s = crutil.remove_gaps(seq.seq)\n",
    "        name = seq.id\n",
    "        if len(s) >= 30:\n",
    "            rv = {}\n",
    "            rv['seq'] = s\n",
    "            for aa in states:\n",
    "                rv['freq_' + aa] = get_aa_freq(s, aa)\n",
    "            df = df.append(rv, ignore_index=True)\n",
    "    return df"
   ]
  },
  {
   "cell_type": "code",
   "execution_count": 17,
   "metadata": {},
   "outputs": [],
   "source": [
    "def append_structcons(row, model, featcol):\n",
    "    fdir = '/mnt/d/research/drummond-lab/data/aybrah-all/'\n",
    "    orf = row['orf']  \n",
    "    refseq = row['region.seq']\n",
    "    left_bound = row['left.bound']\n",
    "    right_bound = row['right.bound']\n",
    "    \n",
    "    msa = AlignIO.read(open(fdir+str(orf)+'-aybrah.fa'), \"fasta\")\n",
    "    if len(msa) >= 15:\n",
    "        region_msa = aq.extract_region_msa(msa, left_bound, right_bound, refseq=refseq)\n",
    "        featdf = get_featdf(region_msa)\n",
    "        if len(featdf) >= 15:\n",
    "            label, cons, confidence = get_conservation(featdf, model, featcol)\n",
    "            return pd.Series(dict(pred_label=label, cons=cons, confidence=confidence))\n",
    "    else:\n",
    "        return None"
   ]
  },
  {
   "cell_type": "code",
   "execution_count": 18,
   "metadata": {},
   "outputs": [],
   "source": [
    "df_hc = df_hc.join(df_hc.apply(append_structcons, featcol=featcol, model=logreg, axis=\"columns\"))"
   ]
  },
  {
   "cell_type": "code",
   "execution_count": 22,
   "metadata": {},
   "outputs": [
    {
     "data": {
      "image/png": "[encoded data removed]",
      "text/plain": [
       "<Figure size 288x288 with 1 Axes>"
      ]
     },
     "metadata": {
      "needs_background": "light"
     },
     "output_type": "display_data"
    }
   ],
   "source": [
    "fig, ax = plt.subplots(figsize=(4,4))\n",
    "sns.scatterplot(data=df_hc, x='cons', y='confidence', hue='pred_label', \n",
    "                alpha=0.8, ax=ax)\n",
    "\n",
    "x = np.arange(0.5, 1.02, 0.01).reshape(-1, 1)\n",
    "reg_h = LinearRegression().fit(np.asarray(df_hc[df_hc.pred_label == 'disordered']['cons'].tolist()).reshape(-1, 1),\n",
    "                               np.asarray(df_hc[df_hc.pred_label == 'disordered']['confidence'].tolist()).reshape(-1, 1))\n",
    "ax.plot(x, reg_h.predict(x), color='darkblue')\n",
    "reg_d = LinearRegression().fit(np.asarray(df_hc[df_hc.pred_label == 'helix']['cons'].tolist()).reshape(-1, 1),\n",
    "                             np.asarray(df_hc[df_hc.pred_label == 'helix']['confidence'].tolist()).reshape(-1, 1))\n",
    "ax.plot(x, reg_d.predict(x), color='red')\n",
    "\n",
    "plt.show()"
   ]
  },
  {
   "cell_type": "markdown",
   "metadata": {},
   "source": [
    "## Conservation of secondary structure in randomly selected regions"
   ]
  },
  {
   "cell_type": "code",
   "execution_count": 23,
   "metadata": {},
   "outputs": [],
   "source": [
    "df_random = pd.read_csv('../../data/af_regions/random_af_regions_low_thresh.csv')"
   ]
  },
  {
   "cell_type": "code",
   "execution_count": 24,
   "metadata": {},
   "outputs": [],
   "source": [
    "with open('../../data/misc/uniprot-to-sgdid.txt') as f:\n",
    "    mappings = {}\n",
    "    for line in f:\n",
    "        uniprot = line[95:106].rstrip()\n",
    "        orf = line[75:95].rstrip()\n",
    "        mappings[uniprot] = orf"
   ]
  },
  {
   "cell_type": "code",
   "execution_count": 25,
   "metadata": {},
   "outputs": [],
   "source": [
    "fdir = '/mnt/d/research/drummond-lab/data/aybrah-all/'\n",
    "bad_seq = []\n",
    "for index, row in df_random.iterrows():\n",
    "    orf = mappings[row['uni_id']]\n",
    "    try:\n",
    "        msa = AlignIO.read(open(fdir+str(orf)+'-aybrah.fa'), \"fasta\")\n",
    "        contains_seq = False\n",
    "        for record in msa:\n",
    "            seq = crutil.remove_gaps(record.seq)\n",
    "            if row['seq'] in seq:\n",
    "                contains_seq = True\n",
    "        if not contains_seq:\n",
    "            bad_seq.append(index)\n",
    "    except:\n",
    "        bad_seq.append(index)"
   ]
  },
  {
   "cell_type": "code",
   "execution_count": 26,
   "metadata": {},
   "outputs": [],
   "source": [
    "df_random.drop(df_random.index[bad_seq], inplace=True)"
   ]
  },
  {
   "cell_type": "code",
   "execution_count": 27,
   "metadata": {},
   "outputs": [],
   "source": [
    "def append_structcons_rand(row, model, featcol, mappings):\n",
    "    fdir = '/mnt/d/research/drummond-lab/data/aybrah-all/'\n",
    "    orf = mappings[row['uni_id']]\n",
    "    refseq = row['seq']\n",
    "    left_bound = row['left_bound']\n",
    "    right_bound = row['right_bound']\n",
    "    \n",
    "    msa = AlignIO.read(open(fdir+str(orf)+'-aybrah.fa'), \"fasta\")\n",
    "    if len(msa) >= 15:\n",
    "        region_msa = aq.extract_region_msa(msa, left_bound, right_bound, refseq=refseq)\n",
    "        featdf = get_featdf(region_msa)\n",
    "        if len(featdf) >= 15:\n",
    "            label, cons, confidence = get_conservation(featdf, model, featcol)\n",
    "            return pd.Series(dict(pred_label=label, cons=cons, confidence=confidence))\n",
    "    else:\n",
    "        return None"
   ]
  },
  {
   "cell_type": "code",
   "execution_count": 28,
   "metadata": {},
   "outputs": [],
   "source": [
    "df_random = df_random.join(df_random.apply(append_structcons_rand,\n",
    "                                           featcol=featcol, model=logreg, mappings=mappings,\n",
    "                                           axis=\"columns\"))"
   ]
  },
  {
   "cell_type": "code",
   "execution_count": 30,
   "metadata": {},
   "outputs": [
    {
     "data": {
      "image/png": "[encoded data removed]",
      "text/plain": [
       "<Figure size 288x288 with 1 Axes>"
      ]
     },
     "metadata": {
      "needs_background": "light"
     },
     "output_type": "display_data"
    }
   ],
   "source": [
    "fig, ax = plt.subplots(figsize=(4,4))\n",
    "sns.scatterplot(data=df_random, x='cons', y='confidence', hue='pred_label', \n",
    "                alpha=0.8, ax=ax)\n",
    "\n",
    "x = np.arange(0.5, 1.02, 0.01).reshape(-1, 1)\n",
    "reg_h = LinearRegression().fit(np.asarray(df_random[df_random.pred_label == 'disordered']['cons'].tolist()).reshape(-1, 1),\n",
    "                               np.asarray(df_random[df_random.pred_label == 'disordered']['confidence'].tolist()).reshape(-1, 1))\n",
    "ax.plot(x, reg_h.predict(x), color='darkblue')\n",
    "reg_d = LinearRegression().fit(np.asarray(df_random[df_random.pred_label == 'helix']['cons'].tolist()).reshape(-1, 1),\n",
    "                               np.asarray(df_random[df_random.pred_label == 'helix']['confidence'].tolist()).reshape(-1, 1))\n",
    "ax.plot(x, reg_d.predict(x), color='red')\n",
    "\n",
    "plt.show()"
   ]
  },
  {
   "cell_type": "markdown",
   "metadata": {},
   "source": [
    "## Summary plot"
   ]
  },
  {
   "cell_type": "code",
   "execution_count": 31,
   "metadata": {},
   "outputs": [],
   "source": [
    "df_hc_filt = df_hc[df_hc.confidence >= 0.7]\n",
    "df_random_filt = df_random[df_random.confidence >= 0.7]"
   ]
  },
  {
   "cell_type": "code",
   "execution_count": 32,
   "metadata": {},
   "outputs": [
    {
     "data": {
      "image/png": "[encoded data removed]",
      "text/plain": [
       "<Figure size 360x273.6 with 1 Axes>"
      ]
     },
     "metadata": {
      "needs_background": "light"
     },
     "output_type": "display_data"
    }
   ],
   "source": [
    "plt.figure(figsize=(5,3.8))\n",
    "bw = 0.5\n",
    "sns.ecdfplot(data=df_hc_filt, x='cons', color='#AA4499', zorder=2)\n",
    "sns.ecdfplot(data=df_random_filt, x='cons', color='black', zorder=1)\n",
    "plt.legend(['Highly charged regions',\n",
    "            'Randomly drawn regions'])\n",
    "plt.xlabel('Percentage conservation')\n",
    "plt.tight_layout()\n",
    "#plt.savefig('../../figures/plots/Figure3.4F.png', dpi=300)\n",
    "plt.show()"
   ]
  },
  {
   "cell_type": "code",
   "execution_count": 33,
   "metadata": {},
   "outputs": [
    {
     "data": {
      "image/png": "[encoded data removed]",
      "text/plain": [
       "<Figure size 288x273.6 with 1 Axes>"
      ]
     },
     "metadata": {
      "needs_background": "light"
     },
     "output_type": "display_data"
    }
   ],
   "source": [
    "plt.figure(figsize=(4,3.8))\n",
    "bw = 0.5\n",
    "sns.ecdfplot(data=df_hc_filt[df_hc_filt.pred_label == 'helix'], x='cons',\n",
    "             color=cscheme['helix'], zorder=3,\n",
    "             label='Highly charged, helical')\n",
    "sns.ecdfplot(data=df_hc_filt[df_hc_filt.pred_label == 'disordered'], x='cons',\n",
    "             color=cscheme['dis'], zorder=4,\n",
    "             label='Highly charged, disordered')\n",
    "sns.ecdfplot(data=df_random_filt[df_random_filt.pred_label == 'helix'], x='cons',\n",
    "             color=cscheme['helix'], linestyle='--', zorder=1,\n",
    "             label='Random, helical')\n",
    "sns.ecdfplot(data=df_random_filt[df_random_filt.pred_label == 'disordered'], x='cons',\n",
    "             color=cscheme['dis'], linestyle='--', zorder=2,\n",
    "             label='Random, disordered')\n",
    "plt.legend(bbox_to_anchor=(1.05, 0.75),\n",
    "           frameon=False)\n",
    "plt.xlabel('Percentage conservation')\n",
    "\n",
    "plt.tight_layout()\n",
    "#plt.savefig('../../figures/plots/Figure3.4F.png', dpi=300)\n",
    "plt.show()"
   ]
  },
  {
   "cell_type": "markdown",
   "metadata": {},
   "source": [
    "## Spot checking outliers"
   ]
  },
  {
   "cell_type": "code",
   "execution_count": 19,
   "metadata": {},
   "outputs": [],
   "source": [
    "def prediction_viewer(orf, left_bound):\n",
    "    fdir = '/mnt/d/research/drummond-lab/data/aybrah-all/'\n",
    "    row = df_hc[(df_hc.orf == orf) & (df_hc['left.bound'] == left_bound)].iloc[0]\n",
    "    orf = row['orf']  \n",
    "    refseq = row['region.seq']\n",
    "    left_bound = row['left.bound']\n",
    "    right_bound = row['right.bound']\n",
    "    sc_label = row['label']\n",
    "\n",
    "    msa = AlignIO.read(open(fdir+str(orf)+'-aybrah.fa'), \"fasta\")\n",
    "    region_msa = aq.extract_region_msa(msa, left_bound, right_bound, refseq=refseq)\n",
    "\n",
    "    tmpdf = pd.DataFrame(columns=['species', 'seq'])\n",
    "    for seq in region_msa:\n",
    "        s = crutil.remove_gaps(seq.seq)\n",
    "        if len(s) >= 30:\n",
    "            tmpdf = tmpdf.append({'species': seq.description, 'seq': s}, ignore_index=True)\n",
    "\n",
    "    for aa in states:\n",
    "        tmpdf['freq_'+aa] = tmpdf.apply(lambda r: append_percent_aa(r, aa), axis=1)\n",
    "    featurecol = []\n",
    "    for aa in states:\n",
    "        featurecol.append('freq_'+aa)\n",
    "    X = tmpdf[featurecol]\n",
    "    y = logreg.predict(X).tolist()\n",
    "    for index,row in tmpdf.iterrows():\n",
    "        print(row['species'], row['seq'], y[index])    "
   ]
  },
  {
   "cell_type": "code",
   "execution_count": 38,
   "metadata": {},
   "outputs": [
    {
     "data": {
      "text/html": [
       "<div>\n",
       "<style scoped>\n",
       "    .dataframe tbody tr th:only-of-type {\n",
       "        vertical-align: middle;\n",
       "    }\n",
       "\n",
       "    .dataframe tbody tr th {\n",
       "        vertical-align: top;\n",
       "    }\n",
       "\n",
       "    .dataframe thead th {\n",
       "        text-align: right;\n",
       "    }\n",
       "</style>\n",
       "<table border=\"1\" class=\"dataframe\">\n",
       "  <thead>\n",
       "    <tr style=\"text-align: right;\">\n",
       "      <th></th>\n",
       "      <th>orf</th>\n",
       "      <th>gene</th>\n",
       "      <th>seq.len</th>\n",
       "      <th>left.bound</th>\n",
       "      <th>right.bound</th>\n",
       "      <th>region.seq</th>\n",
       "      <th>region.len</th>\n",
       "      <th>charge.asymmetry</th>\n",
       "      <th>frac.charge</th>\n",
       "      <th>kappa1</th>\n",
       "      <th>kappa2</th>\n",
       "      <th>uni_id</th>\n",
       "      <th>orf_label</th>\n",
       "      <th>label</th>\n",
       "      <th>cons</th>\n",
       "      <th>main_label</th>\n",
       "      <th>abs_cons</th>\n",
       "    </tr>\n",
       "  </thead>\n",
       "  <tbody>\n",
       "    <tr>\n",
       "      <th>682</th>\n",
       "      <td>YOR086C</td>\n",
       "      <td>TCB1</td>\n",
       "      <td>1187</td>\n",
       "      <td>791</td>\n",
       "      <td>856</td>\n",
       "      <td>VLTLEEIQDLDKVNKKKKALELRKSAIDEKKISKEDKAKFDQEWNE...</td>\n",
       "      <td>66</td>\n",
       "      <td>0.001894</td>\n",
       "      <td>0.484848</td>\n",
       "      <td>0.097280</td>\n",
       "      <td>0.214663</td>\n",
       "      <td>Q12466</td>\n",
       "      <td>verified</td>\n",
       "      <td>helix</td>\n",
       "      <td>-0.500000</td>\n",
       "      <td>helix</td>\n",
       "      <td>0.500000</td>\n",
       "    </tr>\n",
       "    <tr>\n",
       "      <th>73</th>\n",
       "      <td>YDL058W</td>\n",
       "      <td>USO1</td>\n",
       "      <td>1791</td>\n",
       "      <td>1074</td>\n",
       "      <td>1140</td>\n",
       "      <td>NKISELTKTREELEAELAAYKNLKNELETKLETSEKALKEVKENEE...</td>\n",
       "      <td>67</td>\n",
       "      <td>0.012037</td>\n",
       "      <td>0.462687</td>\n",
       "      <td>0.038101</td>\n",
       "      <td>0.090771</td>\n",
       "      <td>P25386</td>\n",
       "      <td>verified</td>\n",
       "      <td>disordered</td>\n",
       "      <td>-0.500000</td>\n",
       "      <td>helix</td>\n",
       "      <td>0.500000</td>\n",
       "    </tr>\n",
       "    <tr>\n",
       "      <th>384</th>\n",
       "      <td>YJL109C</td>\n",
       "      <td>UTP10</td>\n",
       "      <td>1770</td>\n",
       "      <td>1137</td>\n",
       "      <td>1186</td>\n",
       "      <td>EFINKITEETDQDYYDVRRNLRLKVYSVLLDETSDKKLIRNIREEF...</td>\n",
       "      <td>50</td>\n",
       "      <td>0.004000</td>\n",
       "      <td>0.400000</td>\n",
       "      <td>0.108860</td>\n",
       "      <td>0.322665</td>\n",
       "      <td>P42945</td>\n",
       "      <td>verified</td>\n",
       "      <td>helix</td>\n",
       "      <td>-0.515152</td>\n",
       "      <td>helix</td>\n",
       "      <td>0.515152</td>\n",
       "    </tr>\n",
       "    <tr>\n",
       "      <th>205</th>\n",
       "      <td>YER164W</td>\n",
       "      <td>CHD1</td>\n",
       "      <td>1469</td>\n",
       "      <td>1040</td>\n",
       "      <td>1102</td>\n",
       "      <td>LPVKSFEKYGETYDEMMEAAKDCVHEEEKNRKEILEKLEKHATAYR...</td>\n",
       "      <td>63</td>\n",
       "      <td>0.002268</td>\n",
       "      <td>0.444444</td>\n",
       "      <td>0.058872</td>\n",
       "      <td>0.145417</td>\n",
       "      <td>P32657</td>\n",
       "      <td>verified</td>\n",
       "      <td>helix</td>\n",
       "      <td>-0.515152</td>\n",
       "      <td>helix</td>\n",
       "      <td>0.515152</td>\n",
       "    </tr>\n",
       "    <tr>\n",
       "      <th>769</th>\n",
       "      <td>YPR133C</td>\n",
       "      <td>SPN1</td>\n",
       "      <td>411</td>\n",
       "      <td>118</td>\n",
       "      <td>169</td>\n",
       "      <td>ATPSSRQELEEKLDRILKKPKVRRTRRDEDDLEQYLDEKILRLKDE...</td>\n",
       "      <td>52</td>\n",
       "      <td>0.000000</td>\n",
       "      <td>0.500000</td>\n",
       "      <td>0.140362</td>\n",
       "      <td>0.302989</td>\n",
       "      <td>Q06505</td>\n",
       "      <td>verified</td>\n",
       "      <td>helix</td>\n",
       "      <td>-0.516129</td>\n",
       "      <td>helix</td>\n",
       "      <td>0.516129</td>\n",
       "    </tr>\n",
       "    <tr>\n",
       "      <th>655</th>\n",
       "      <td>YNR007C</td>\n",
       "      <td>ATG3</td>\n",
       "      <td>311</td>\n",
       "      <td>238</td>\n",
       "      <td>287</td>\n",
       "      <td>VMKILLDKVRVVRQRRRKELQEEQELDGVGDWEDLQDDIDDSLRVD...</td>\n",
       "      <td>50</td>\n",
       "      <td>0.021739</td>\n",
       "      <td>0.460000</td>\n",
       "      <td>0.173253</td>\n",
       "      <td>0.440934</td>\n",
       "      <td>P40344</td>\n",
       "      <td>verified</td>\n",
       "      <td>helix</td>\n",
       "      <td>-0.517241</td>\n",
       "      <td>helix</td>\n",
       "      <td>0.517241</td>\n",
       "    </tr>\n",
       "    <tr>\n",
       "      <th>325</th>\n",
       "      <td>YHR088W</td>\n",
       "      <td>RPF1</td>\n",
       "      <td>296</td>\n",
       "      <td>6</td>\n",
       "      <td>58</td>\n",
       "      <td>INITNKLKRQEIFADIKHEKNKERHTMRRKRAKEERENPELREQRL...</td>\n",
       "      <td>53</td>\n",
       "      <td>0.026125</td>\n",
       "      <td>0.490566</td>\n",
       "      <td>0.075383</td>\n",
       "      <td>0.176116</td>\n",
       "      <td>P38805</td>\n",
       "      <td>verified</td>\n",
       "      <td>helix</td>\n",
       "      <td>-0.531250</td>\n",
       "      <td>helix</td>\n",
       "      <td>0.531250</td>\n",
       "    </tr>\n",
       "    <tr>\n",
       "      <th>505</th>\n",
       "      <td>YLR309C</td>\n",
       "      <td>IMH1</td>\n",
       "      <td>912</td>\n",
       "      <td>128</td>\n",
       "      <td>180</td>\n",
       "      <td>SASSETLKDKEEEFLKKEQNYKNDIDDLKKKMEALNIELDTVQKEK...</td>\n",
       "      <td>53</td>\n",
       "      <td>0.012579</td>\n",
       "      <td>0.452830</td>\n",
       "      <td>0.041063</td>\n",
       "      <td>0.103084</td>\n",
       "      <td>Q06704</td>\n",
       "      <td>verified</td>\n",
       "      <td>helix</td>\n",
       "      <td>-0.545455</td>\n",
       "      <td>helix</td>\n",
       "      <td>0.545455</td>\n",
       "    </tr>\n",
       "    <tr>\n",
       "      <th>710</th>\n",
       "      <td>YOR262W</td>\n",
       "      <td>GPN2</td>\n",
       "      <td>348</td>\n",
       "      <td>284</td>\n",
       "      <td>336</td>\n",
       "      <td>ANYDIQDRWIDNKEKYDKEEEEKRTALLKEQELQNKAVDVNEEDEW...</td>\n",
       "      <td>53</td>\n",
       "      <td>0.056604</td>\n",
       "      <td>0.509434</td>\n",
       "      <td>0.077914</td>\n",
       "      <td>0.185665</td>\n",
       "      <td>Q08726</td>\n",
       "      <td>verified</td>\n",
       "      <td>helix</td>\n",
       "      <td>-0.545455</td>\n",
       "      <td>helix</td>\n",
       "      <td>0.545455</td>\n",
       "    </tr>\n",
       "    <tr>\n",
       "      <th>706</th>\n",
       "      <td>YOR217W</td>\n",
       "      <td>RFC1</td>\n",
       "      <td>862</td>\n",
       "      <td>233</td>\n",
       "      <td>279</td>\n",
       "      <td>PAEGGDGEAAEKARRKLEEQHNIATKEAELLVKKEEERSKKLAATRV</td>\n",
       "      <td>47</td>\n",
       "      <td>0.000000</td>\n",
       "      <td>0.468085</td>\n",
       "      <td>0.082648</td>\n",
       "      <td>0.196386</td>\n",
       "      <td>P38630</td>\n",
       "      <td>verified</td>\n",
       "      <td>helix</td>\n",
       "      <td>-0.545455</td>\n",
       "      <td>helix</td>\n",
       "      <td>0.545455</td>\n",
       "    </tr>\n",
       "  </tbody>\n",
       "</table>\n",
       "</div>"
      ],
      "text/plain": [
       "         orf   gene  seq.len  left.bound  right.bound  \\\n",
       "682  YOR086C   TCB1     1187         791          856   \n",
       "73   YDL058W   USO1     1791        1074         1140   \n",
       "384  YJL109C  UTP10     1770        1137         1186   \n",
       "205  YER164W   CHD1     1469        1040         1102   \n",
       "769  YPR133C   SPN1      411         118          169   \n",
       "655  YNR007C   ATG3      311         238          287   \n",
       "325  YHR088W   RPF1      296           6           58   \n",
       "505  YLR309C   IMH1      912         128          180   \n",
       "710  YOR262W   GPN2      348         284          336   \n",
       "706  YOR217W   RFC1      862         233          279   \n",
       "\n",
       "                                            region.seq  region.len  \\\n",
       "682  VLTLEEIQDLDKVNKKKKALELRKSAIDEKKISKEDKAKFDQEWNE...          66   \n",
       "73   NKISELTKTREELEAELAAYKNLKNELETKLETSEKALKEVKENEE...          67   \n",
       "384  EFINKITEETDQDYYDVRRNLRLKVYSVLLDETSDKKLIRNIREEF...          50   \n",
       "205  LPVKSFEKYGETYDEMMEAAKDCVHEEEKNRKEILEKLEKHATAYR...          63   \n",
       "769  ATPSSRQELEEKLDRILKKPKVRRTRRDEDDLEQYLDEKILRLKDE...          52   \n",
       "655  VMKILLDKVRVVRQRRRKELQEEQELDGVGDWEDLQDDIDDSLRVD...          50   \n",
       "325  INITNKLKRQEIFADIKHEKNKERHTMRRKRAKEERENPELREQRL...          53   \n",
       "505  SASSETLKDKEEEFLKKEQNYKNDIDDLKKKMEALNIELDTVQKEK...          53   \n",
       "710  ANYDIQDRWIDNKEKYDKEEEEKRTALLKEQELQNKAVDVNEEDEW...          53   \n",
       "706    PAEGGDGEAAEKARRKLEEQHNIATKEAELLVKKEEERSKKLAATRV          47   \n",
       "\n",
       "     charge.asymmetry  frac.charge    kappa1    kappa2  uni_id orf_label  \\\n",
       "682          0.001894     0.484848  0.097280  0.214663  Q12466  verified   \n",
       "73           0.012037     0.462687  0.038101  0.090771  P25386  verified   \n",
       "384          0.004000     0.400000  0.108860  0.322665  P42945  verified   \n",
       "205          0.002268     0.444444  0.058872  0.145417  P32657  verified   \n",
       "769          0.000000     0.500000  0.140362  0.302989  Q06505  verified   \n",
       "655          0.021739     0.460000  0.173253  0.440934  P40344  verified   \n",
       "325          0.026125     0.490566  0.075383  0.176116  P38805  verified   \n",
       "505          0.012579     0.452830  0.041063  0.103084  Q06704  verified   \n",
       "710          0.056604     0.509434  0.077914  0.185665  Q08726  verified   \n",
       "706          0.000000     0.468085  0.082648  0.196386  P38630  verified   \n",
       "\n",
       "          label      cons main_label  abs_cons  \n",
       "682       helix -0.500000      helix  0.500000  \n",
       "73   disordered -0.500000      helix  0.500000  \n",
       "384       helix -0.515152      helix  0.515152  \n",
       "205       helix -0.515152      helix  0.515152  \n",
       "769       helix -0.516129      helix  0.516129  \n",
       "655       helix -0.517241      helix  0.517241  \n",
       "325       helix -0.531250      helix  0.531250  \n",
       "505       helix -0.545455      helix  0.545455  \n",
       "710       helix -0.545455      helix  0.545455  \n",
       "706       helix -0.545455      helix  0.545455  "
      ]
     },
     "execution_count": 38,
     "metadata": {},
     "output_type": "execute_result"
    }
   ],
   "source": [
    "df_hc[(df_hc.main_label == 'helix')].sort_values(by='abs_cons').head(10)"
   ]
  },
  {
   "cell_type": "code",
   "execution_count": 39,
   "metadata": {},
   "outputs": [
    {
     "name": "stdout",
     "output_type": "stream",
     "text": [
      "LSNVSFTPSDWVPGATAKITEVDEDAAASTDDDEESIAPTVTTTTESFAVPSGGTSVNGAGANGKKSTKESDGVTIPRDELL disordered\n",
      "IEDGEWDGTGAAQEAAEKKARQMAGDVTEDEGPVSSVVNGRSRTTTMESLPEPRSDVPAPVPGAGAPAMKVDSVVVVPGTALPAITVAPAVPAQTANYWGGLGTPVNETAYTVPPVTAGGTAPPWRPATATASVPATESSMPSAYPSDDTEALLEPSDPFVEPTAAQKQAAENAHNLDVTEAEAVVDAQQPDVLEANAALNDAMPEPSGPPKMRITPEELL disordered\n",
      "TTSLSPDVTPAPKASSTVATDKVNIEVLPESQKTPTAVDNTSTSRGSTSVKTSKPKKISELLMPSEAVNAAL disordered\n",
      "VADPEDDEKDEQSDQSSEPKQSLDVPRSSDAGQFSSTLERTNSIKPENGGTSRPITPKTPVTPTSIAPSRKSRDEKEPPKLHLNPQELL disordered\n",
      "IADPEEEEEEAAEDAANAEMDGDEPKASLDRPRSSASPTVAKASLDVSRKSVDVSRKSVDTAKLSASTGEDGRPISPASMRSSMSVEKRGPPKIRLSPEELL disordered\n",
      "VVNPEDEEKEEENLNGDAEGTDLSRKSTDSKRVGGHSKTASVDSKATTALNGTSTNGVTPEAQSSRASLDTNGTRPQTAKDSETMSVKSIKEVPKTYISAEDLT disordered\n",
      "IMDAEEIEAEQKAKDEAAAAAAAAAPSQANNQKDEKKTVNGDKPDGTAAARAVDAEGKEVVPAKLKLSPEELF disordered\n",
      "VMSPAEQKKKAEIDEKKAAQAKEKGVAASVKSGASKQEGGGGWWGGGAAKEDPQADLKAASNDNDDTAKGSDSGAIDSTGLDGSEGDSTLKADTPKAMTPEEQKAKIKADTKAKAAAAKDKTKAAKAADKAGAQSDNVNPKSKGVDEDTTEEADHPVGGVDESSGGDAFEGKLDWPFDKIV disordered\n",
      "IMDPEEVEEKRKEREKKEKERQAAIERGEDPDKDEKEEKGEENEEDDDDSDKDQGTGGDSIEMSLEDQM disordered\n",
      "ISDPEESAEKKKTEEEAAKKAEEEATKNAEEEAAENTKNNSAKKPKDKASSSVSVNDKNGDENFVDTVGKVDDEIIEPEKLDLSFDELT disordered\n",
      "IMSPEEIKQQKEVAEKEGKEDTKKIEELNDEPLKEAENKEISKKSEATEKPKGPKKLNLSLEELL disordered\n",
      "VMDLDEIAEEDEATALKLQKEKEKEKENPTNKSDKDAKINKEIDLAELDKSHKLRLNLNELM helix\n",
      "VFGPIELAQLDEQKELKQLEEQRDFEENYHLYEENPNEYEIVEVTDDEDEEELQFNQKNKVRMSLDELA helix\n",
      "VYGPIEIKKLKEEEMLKKEEEAKELEIQKELEELMKNNPNEYEIIEVEDVSEEISTEKIRMDFSELV helix\n",
      "IYSPTELEELEEKKKQKAEKEKKELEEQKELEKLYEKNPKEYEWYTDEEEDSIDEQKQVVPLQQLI helix\n",
      "VMDVKEIEQYEKEQAEKKRIEKEIAEAEAKGEKGKKTKKETAEETLFDDQPKLKLSLEELL helix\n",
      "VYTNTELEELERTKEERKEKELQEQKKLEQMEELFKKNPKKYEWVEVDDDLDEIPKQKLSLEQLL helix\n",
      "VVSQNELNKKAAREKEKEEQKKKLEEESEGKAEELKKAEKEKAKTLALLEELEKEQEEHKLNLSFDELI helix\n",
      "TRSQEEILEEAAIREKKAAAAESESDPKAKKQESSEEDDLDADIYGHKIILPIEKVT disordered\n",
      "SMTIKEVETANEKAREAREKELEEEKAQQEMAEDFKKNPKKYEWYVPEEDEEETRKPTKLQLSPSELL disordered\n",
      "VLSVDDIAEMKERQAKKAQLELEKQSGEKKSDAKIEPLEDDEADEDSKPKIDLPLSEVP disordered\n",
      "VYSKKELMELHQEKKLDKEAELEELNEQAKLMEEYKKKPNDFEWYTEDDDETDANKKEMTLDQLC helix\n",
      "VMTPDDILEKKKVEEKKAKYNGESHKETAEEKKDKEEEEEMEDAKPKLDLPLDKVR disordered\n",
      "VYSQKELKERKKAKEVDREAELEELNEQAKMMEDYKKHPNEYEWYSDNEDEEVGVHKKEMSFEQLV helix\n",
      "VHTPMEAKERSDRISEIKETIKVKEAEREKEEKDVGSKEKKKTAKFSKKVKKAKEHLVEDSEQIAELQDELEEIEDEKASEKLTVDQLK helix\n",
      "VQSRREKSAQAQEKRREEAAAGGAGGAAGQHSSKDLEQQAAMLKDYAKHPDKYEWVDEKQPSASSSKPVKASSTLEQLA disordered\n",
      "VFSHQEIVQIKQKKAEAAEKAEDLDELEEQAKYLEDYKKHPDDYEWVDIDEEANELIQFETNKDKVILSLPEIL helix\n",
      "SATPAEIEEKIDAEEKKMKSKATEAQKAKVIDSAALTVDTKPRHELTLADLP disordered\n",
      "VFSHNEIKQIQMLQQEESEKSEDLDELEEQARFLEDYKKHPDDYEWVDDDDNGAKQILEANKNKVIMSLDEVV disordered\n",
      "VVTPEEAETEKKEAAELQAKIDAEEKKASNDKKDRSTEELSEQNNLALDTLHKDILPIEDIA disordered\n",
      "VYTRDELTALERAAVKQAEQDEKDAEEQARMEKLYKENPKDYEWYEHVQEDEMIGPKKQSMTFDEVT disordered\n",
      "VMTLQDIKEEADEEAKRAEEAKKKAEEEAKNPPKEDAAAETETTEVAAVSRKKNLSLAQLL helix\n",
      "VMTLEEIEEEKEMRKKFAEEKAGKEKKAAEDKAKGKKEKKDQEEEEDESEFDSSNKLKLSLEELQ helix\n",
      "VYTRAQLENLAELERLKAEQQREEEARASRDKKLITDHPDDYEWVDMQEDQLPEPPKIQMPVEKAI disordered\n",
      "VMTHEEIREQEEEKEQAEKQAKQKEQEKAEGKNSKKEKSDQSPKHHAKAEKEEGKEEEEEDAGNEDESEHSTKLQLSLDQLS disordered\n",
      "LYTLSQKEDKAGYQRHLDKLKKDEEEKQKRQENLFKKHPDEYEWVDVAEDNLPEPPKIDMPLDKSI disordered\n",
      "VYTLSQMNNKDKYLEHLKKKEADEAEQRRKDEKKFKEHPDEYQWVDIEDDELPEVERIHMPLETAI disordered\n",
      "VMSLEDIKEEEADAEEARKEAEEKAAKSAGEDEKTKVEEADVEEKNADDSESDNREDEEEESIRASKLRLSLDELV disordered\n",
      "VYSLSQIKNKEAYLEEVKEKEAAAIAKQAADEKLFKEKPNEYEWIEVEEEEVVEPKKVQMGLDSSI helix\n",
      "VMTLEECKEEEEFKKQKEEEKAKKLAESQKEGKEAPVEEEEEEVNEFSSKLKLTLPELL helix\n",
      "VYSLSQIEDKQGYLEDIENAKRKNLEKYRRDKQRFEENPKEFEWLDLNTQDDANKEPPPKIELTLDEAI disordered\n",
      "VMSLSEIKEEEEEKKKAEQEAAAAAEAAKAEGKEPGAKPAAKEDDDEGFGDVMEAKEKLTLEQLI helix\n",
      "VYSLTELEQLEQEREKKAAREKKYQAQLKDWEEVYKKNPKDYEWVDVEDQDEFDEDAKEKLSLEQLL helix\n",
      "VKTLGDIQEEQEEKSKKEAEAAKKAEEDAKSGKKDNKKDNKKDNKKDTKKEGEKEKVEGEDDFDETNKVQLSLPELL disordered\n",
      "VKSVEDIKEELMAKQAREAKYQREREAGKTKEEIEKEKKEEEKEKDEELDDIADTSKAEMPLTELI helix\n",
      "VYSLAELNELEEQEKTLALTKKQREEEAKGWEELYKKSPNDYEWIEIEDKEQAMLSKKEKMSLDQLL helix\n",
      "ILSLEEIQEVDALNERAAQFKEKYAHIDLEKGITDKDEREAIKAEQSEIEELQDLYSHKLKLDLDELL helix\n",
      "IFTPTEMPLVKFWENKLQESKEQLQKEQEKYKEDMKKNPDDYEVVPLSESSNDNIFVKNLTSKKIMPINDIV disordered\n",
      "VLSLEEIQEMDEISKKKANWEKSKAEFEKIGDKKNVELKAKLDEEEEELKELEDMYSSKMKLDLDELL helix\n",
      "VYYPHELPAVDQLAERVEKKKQEFEEEQIELKKEMDKNPKEYEVVEAEDKFEKDIKKLNRKERMNIDQLM helix\n",
      "VYSPDELGKVEQLEAKIQERKEKFAKDQEELKKKMEKDPDLYEVVEIDVDDEDEKALKKKEKRSVTELL helix\n",
      "VLSLEEIQEVDELNERKKRLQIQESEKSDDELSKQAEQKRKEEEFEVKELEDLFSNKLKLDLDELL helix\n",
      "VYTPNEYQTVLEKDAELQQQRKEFWQKQDELKKEMEKTPDQYEIINKQDPFEEEEKKLHKKERLSLEQLL helix\n",
      "ILTLDEMQEIDESRQKGEDLQKRQEEMKDKTITEEEQNKMDEEFAQISDIKTVYSNKMKLELEELL helix\n",
      "VLSLEEAKEVDEINEKKDKLEKQKSTLDDKNISKEEKERIKKEEFRLTEKYDMYSYKMKLDLDELL helix\n",
      "VYSPEELVNVEKLEKELKEKKKKFEATQEENEQEMEKNPKEWEVAEIEDPFDSDEKKINRKAKLSLNELI helix\n",
      "VLTLEEIQDLDKVNKKKKALELRKSAIDEKKISKEDKAKFDQEWNEVKELEDMYSNRQKLDLPELL helix\n",
      "VFSPTELEHVNELEKEMREKKEAMDKEQSKLKEEMEKKPSDYEIVEIPYPFEDTEKEIASKKKYTYDELV disordered\n"
     ]
    }
   ],
   "source": [
    "prediction_viewer('YOR086C', 791)"
   ]
  },
  {
   "cell_type": "code",
   "execution_count": 43,
   "metadata": {},
   "outputs": [
    {
     "name": "stdout",
     "output_type": "stream",
     "text": [
      "TSAASFNRAHGLPPAEAIEPVVEVDERNPGPRAGVPPPPKALGGARPLV disordered\n",
      "SDLASSEKDLASKTKDVSAKDTEIEKLKSELETANSKLASTAKEVEILTSELKAAKSDACDSETKIKAVESELVEQKSKVEHLNAELA disordered\n",
      "EKVESIEKALESEKSSNKSLSEEKKLAEEKLEKLGNDLQQHQSSHESVVQEKTALTKKIE helix\n",
      "DPSQEHKNVLVLSASSTVPPDQQIEEEISNGKEPDSQAVVRELEEKLAQTTKHLL disordered\n",
      "SQKKKLENELSSLKQKHSDFSNQSETLTRELSDLKSSHEQLLGEKIIHDSAKAELDSQIASLNAKIAEFEASQAADKKDSD disordered\n",
      "EEKRALENEKSELQKRWEEEKQKLEQEKDAQIKEYE helix\n",
      "DENKTLKQQVEKIKDSSASAENQKSAVLSEFAQLREEKENKIS disordered\n",
      "AANLELRNQIQNMQKKYDETVAKYKEEIENLKRQHTVEIELLKNNLNISEGQQSELESKLGKANEEIVKLAKTVEEKSACFK helix\n",
      "EEKTGLEGQIASLSTEVAKLTEDMEVSSKAVKYELEELKKENERLKAELDASSELVAAKGEELNQNEQ helix\n",
      "SRVQELREEISVLRSNLQDSEETHKLEISAYTDELDILKTDHSSVLAEYEHLKELYEKAVEGRSSQEADPSVSSNKEQIAKIIEDKETELKTSSKRVK disordered\n",
      "EEKNKLKKQVEELEAKISSLKEDHESKSLSGVQEKESLTKELQVAKEQLKKLQKEVSTKESQVLEKSKELEEATKLSDSKAT helix\n",
      "CENEKLKKDLEDIDNSKENAEAKQKSVEEELSNFKTKHSKVREELEKSLDAKTGEYNDAIEKLKNKDISIASLKETHSKKVS disordered\n",
      "TKNKNLQEKLDSTVSTAPDNNDSEELSQQLHDALKKFDDIRKIRDYEKSKFEVKLAEIQ disordered\n",
      "VKCIELESSLESAKQSTDNSDETIEELNDSVIAINDELQSVLAEKDELLKQNNKINEELCNYQQELQEKADSCQ helix\n",
      "NTFNKARNELESLNKTLAEANDKLRSRESTIESLEEKLQELKKSSDEKIASLEKSRKDLEKFQQKFRDLELEKSKTQDALT helix\n",
      "KELNKLKKDLEGKEQKLKSITERAQELEKTLDEQRNSNADSERKLKENIKALEHQKKEAISNSKELENELDQLKNKHKSLDEQNTKSVEELKTRVLEVEKERDEKHNNVQKIENKLQ helix\n",
      "NKISELTKTREELEAELAAYKNLKNELETKLETSEKALKEVKENEEHLKEEKIQLEKEATETKQQLN helix\n",
      "LEVEKLENEITEIKNSHKSAQKETDTLQTKLDETELLLQSSKEEILSLKNEYSSTLSDKENLENSEKKSSEKIEELEKNFSNLQEQFENITAENKSLKEECSGTEEKFKDVNEKLDQYGETISSLSDEKDKLNGIIDDKEKIIS disordered\n"
     ]
    }
   ],
   "source": [
    "prediction_viewer('YDL058W', 1074)"
   ]
  },
  {
   "cell_type": "code",
   "execution_count": 20,
   "metadata": {},
   "outputs": [
    {
     "name": "stdout",
     "output_type": "stream",
     "text": [
      "Rhodotorula graminis rgm rgm|Rhoba1_1_56147 NFVAFALETKQLVSKVDAARTATVASAVDISLTELVRALL helix\n",
      "Saitoella complicata sai sai|Saico1_18071 NLASLILGSKQFRVDLASYARAAGVEAPFQDRLASVV helix\n",
      "Schizosaccharomyces pombe spo spo|UTP10_SCHPO ELISLVSKAKNFAFDLAKIMENSVDSFVEIQAGLFESI helix\n",
      "Neurospora crassa ncr ncr|UTP10_NEUCR TLLPKLLVNRRLRHEISGLAEKDDMESVKIRELYAQLL helix\n",
      "Trichoderma reesei tre tre|G0RD17_HYPJQ SVLPSLLANRKLKAQISKLANRDDMETSEVRQLYATLL helix\n",
      "Aspergillus niger ang ang|UTP10_ASPNC RALAYLFKHSSLKVKMAKDFATEGDKVVGQIRTLFSRIL helix\n",
      "Lipomyces starkeyi lst lst|Lipst1_1_2913 RFFRVIVSGPSLRSEIAEIFRGTAAEISHSDIDAFQASIGGCV disordered\n",
      "Blastobotrys adeninivorans arx arx|Arxad1_5368 TFISGVIGSEDSFKTRLLVQLGSDDEETTKAMKSNLSNII disordered\n",
      "Nadsonia fulvescens nfu nfu|Nadfu1_53059 EFISSIIGGEDVISGIQSLRIRIISSIKKGEQDEISAIREQTSKSI helix\n",
      "Ascoidea rubescens aru aru|Ascru1_79120 KYIDGSLFNSLDYAANSHTSFIKLGVAKLFLTSKPSDEIFKTLLTSFKNLI helix\n",
      "Pachysolen tannophilus pta pta|Pacta1_2_48956 SFLNQSLIGNNDLSSLPRLKIKIATLLLDPESNVVEVEQINNSFGEVV disordered\n",
      "Komagataella phaffii ppa ppa|C4R315_PICPG AFIDKALTNDDSLTGSSVPSLRLKIASVLCSQNRQEEIDNILSSFGALL disordered\n",
      "Kuraishia capsulata kcp kcp|W6MIL8_9ASCO NFLHSCLVPSEAKSGISNLKLKIVALFLDQSSPDSIKEVLGSFGSNV disordered\n",
      "Ogataea arabinofermentans car car|Canar1_9557 SFLKHSIVDSRSSAGIPRLRLKIASLILQGEDTENLSTNFAAVV helix\n",
      "Ogataea parapolymorpha opm opm|W1QA71_OGAPD SFLRHTISDAKDINGISRLRLKIASACLQGGDPQPLLNSFAKLV disordered\n",
      "Dekkera bruxellensis dbx dbx|Dekbr2_5981 SYLRHSLVDFKGSNGYSRLRIVIASEFLHEENVDRNLKVFSALI helix\n",
      "Pichia membranifaciens pme pme|Picme2_31202 SFIRHALTDSQGTNGVPKLRSKIASQILEDRNTNDLLSSFSETI disordered\n",
      "Pichia kudriavzevii pku pku|A0A099NTT5_PICKU SFIRHALTDAKSGSDIPKLRLKVASLILEDKNTDILLNSFSSLI helix\n",
      "Pichia kudriavzevii pku pku|A0A099NTU5_PICKU SFIRHALTDAKSGSDIPKLRLKVASLILEDKNTDILLNSFSSLI helix\n",
      "Babjeviella inositovora bin bin|Babin1_160414 TFIDLAVTAEHNAVPSLRLKIASILLDMRSSDEQLEHISAAFRDVI helix\n",
      "Metschnikowia bicuspidata mbi mbi|Metbi1_38153 RFLNKTLAADEDTAFSSSVVSLKMKVALTLFDDESEQKDKDALLRSTSRLT disordered\n",
      "Meyerozyma guilliermondii mgu mgu|UTP10_PICGU TFIDSLLQTDEESVGYLQLRVNQLLLDSHSTDGEKTIIIDGCKNVA helix\n",
      "Debaryomyces hansenii dha dha|UTP10_DEBHA NFIDKVLDSDTQNDFSNLPSLKLKIALILLDPKKPAEDKSDLLNYFRKVT disordered\n",
      "Scheffersomyces stipitis pic pic|UTP10_PICST KYISSVVATENSNFDANTLKTKVAMVLLDSSINDDDEEKKSILGSFRNVA disordered\n",
      "Spathaspora passalidarum spa spa|G3AP77_SPAPN SFLISVLEADSGYDASSLKTKVAVVVLDSNIANDNKESVLNKFRNIT disordered\n",
      "Wickerhamomyces anomalus wan wan|Wican1_64160 EFIDSSLNGGESVAIPPLQLKITSILYDESETELQSADIFQTFGDLV disordered\n",
      "Cyberlindnera jadinii cut cut|Cybja1_165291 NFVDTTIMGVDSSSVSPLQLKISYSLLDSEAQHEKKAILDSFGTLI disordered\n",
      "Hanseniaspora valbyensis hva hva|Hanva1_1_53918 NFLSGIISETDADYYNNGSLKLRIMGSLLEGNENIKHIVSTITKSV disordered\n",
      "Kluyveromyces lactis kla kla|UTP10_KLULA DFIDKVIGESKSDYYNTSSNLKLRILSTLLDPNIEIEVKNQVRNEFSILL helix\n",
      "Lachancea thermotolerans lth lth|C5DIV0_LACTC EFLDKIVGGDEVDYQSSVSLKLKMVGALWDSNLDKTFSEKVKENFGNML disordered\n",
      "Zygosaccharomyces rouxii zro zro|C5E110_ZYGRC TFMNKVIEESEVGYSDVSNSFRVGLYSALLDPTTDKTYVDQVKSRFGVLL disordered\n",
      "Saccharomyces cerevisiae sce sce|UTP10_YEAST EFINKITEETDQDYYDVRRNLRLKVYSVLLDETSDKKLIRNIREEFGTLL helix\n",
      "Vanderwaltozyma polyspora vpo vpo|A7TGN8_VANPO NFVNNVIKENYMDYYDINASLKVRIYSMLLDVRTDGDIIKSVKSNFASVI helix\n"
     ]
    }
   ],
   "source": [
    "prediction_viewer('YJL109C', 1137)"
   ]
  },
  {
   "cell_type": "code",
   "execution_count": null,
   "metadata": {},
   "outputs": [],
   "source": []
  }
 ],
 "metadata": {
  "kernelspec": {
   "display_name": "Python 3",
   "language": "python",
   "name": "python3"
  },
  "language_info": {
   "codemirror_mode": {
    "name": "ipython",
    "version": 3
   },
   "file_extension": ".py",
   "mimetype": "text/x-python",
   "name": "python",
   "nbconvert_exporter": "python",
   "pygments_lexer": "ipython3",
   "version": "3.7.5"
  }
 },
 "nbformat": 4,
 "nbformat_minor": 2
}
