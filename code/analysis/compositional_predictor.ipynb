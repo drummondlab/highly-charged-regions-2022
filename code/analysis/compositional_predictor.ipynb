{
 "cells": [
  {
   "cell_type": "code",
   "execution_count": 1,
   "metadata": {},
   "outputs": [],
   "source": [
    "import sys\n",
    "sys.path.insert(1, '../scripts')"
   ]
  },
  {
   "cell_type": "code",
   "execution_count": 2,
   "metadata": {},
   "outputs": [],
   "source": [
    "# data processing\n",
    "import os.path\n",
    "from os import path\n",
    "from scipy import stats\n",
    "import numpy as np\n",
    "import pandas as pd\n",
    "import seaborn as sns\n",
    "import mdtraj as md\n",
    "import parseaf as pa\n",
    "\n",
    "# logistic regression\n",
    "from sklearn import metrics\n",
    "from sklearn.model_selection import train_test_split\n",
    "from sklearn.linear_model import LogisticRegression\n",
    "\n",
    "# figure making\n",
    "import matplotlib.pyplot as plt\n",
    "from matplotlib.lines import Line2D"
   ]
  },
  {
   "cell_type": "code",
   "execution_count": 3,
   "metadata": {},
   "outputs": [],
   "source": [
    "import warnings\n",
    "warnings.filterwarnings('ignore')"
   ]
  },
  {
   "cell_type": "code",
   "execution_count": 4,
   "metadata": {},
   "outputs": [],
   "source": [
    "states = ['A', 'C', 'D', 'E', 'F', 'G', 'H', 'I', 'K', 'L',\n",
    "          'M', 'N', 'P', 'Q', 'R', 'S', 'T', 'V', 'W', 'Y']"
   ]
  },
  {
   "cell_type": "markdown",
   "metadata": {},
   "source": [
    "## Functions"
   ]
  },
  {
   "cell_type": "code",
   "execution_count": 5,
   "metadata": {},
   "outputs": [],
   "source": [
    "def get_aa_freq(seq, aa):\n",
    "    cnt = 0\n",
    "    for i in seq:\n",
    "        if i == aa:\n",
    "            cnt += 1\n",
    "    aa_freq = cnt / len(seq)\n",
    "    return aa_freq"
   ]
  },
  {
   "cell_type": "code",
   "execution_count": 6,
   "metadata": {},
   "outputs": [],
   "source": [
    "def append_percent_aa(row, aa):\n",
    "    seq = row['region_seq']\n",
    "    if len(seq) == 0:\n",
    "        print(row['uni_id'])\n",
    "    return get_aa_freq(seq, aa)"
   ]
  },
  {
   "cell_type": "markdown",
   "metadata": {},
   "source": [
    "## Training logistic regression model using AlphaFold data"
   ]
  },
  {
   "cell_type": "code",
   "execution_count": 7,
   "metadata": {},
   "outputs": [],
   "source": [
    "df = pd.read_csv('../../data/af_regions/sc_af_regions_all.csv')"
   ]
  },
  {
   "cell_type": "code",
   "execution_count": 8,
   "metadata": {},
   "outputs": [],
   "source": [
    "for aa in states:\n",
    "    df['freq_'+aa] = df.apply(lambda row: append_percent_aa(row, aa), axis=1)"
   ]
  },
  {
   "cell_type": "code",
   "execution_count": 9,
   "metadata": {},
   "outputs": [
    {
     "data": {
      "text/plain": [
       "0.9246841593780369"
      ]
     },
     "execution_count": 9,
     "metadata": {},
     "output_type": "execute_result"
    }
   ],
   "source": [
    "featurecol = []\n",
    "for aa in states:\n",
    "    featurecol.append('freq_'+aa)\n",
    "X = df[featurecol]\n",
    "y = df['label']\n",
    "X_train, X_test, y_train, y_test = train_test_split(X, y, test_size=0.25, random_state=0)\n",
    "logreg = LogisticRegression()\n",
    "logreg.fit(X_train, y_train)\n",
    "y_pred = logreg.predict(X_test)\n",
    "cnf_all = metrics.confusion_matrix(y_test, y_pred)\n",
    "metrics.accuracy_score(y_test, y_pred)"
   ]
  },
  {
   "cell_type": "code",
   "execution_count": 10,
   "metadata": {},
   "outputs": [
    {
     "data": {
      "text/plain": [
       "0.9279033041788144"
      ]
     },
     "execution_count": 10,
     "metadata": {},
     "output_type": "execute_result"
    }
   ],
   "source": [
    "logreg.score(X, y)"
   ]
  },
  {
   "cell_type": "code",
   "execution_count": 11,
   "metadata": {},
   "outputs": [
    {
     "data": {
      "text/plain": [
       "array([[  5.7975161 ,   0.86276564, -10.35312711,   1.44558562,\n",
       "          6.7005998 ,  -6.87920526,  -4.12201391,  12.87533155,\n",
       "          0.54584577,  14.81381289,   3.1715153 ,  -8.7484139 ,\n",
       "        -21.42989215,   2.72749466,   0.86247885, -10.79848695,\n",
       "         -5.03842816,   5.93401894,   4.67349266,   6.9277776 ]])"
      ]
     },
     "execution_count": 11,
     "metadata": {},
     "output_type": "execute_result"
    }
   ],
   "source": [
    "logreg.coef_"
   ]
  },
  {
   "cell_type": "code",
   "execution_count": 12,
   "metadata": {},
   "outputs": [],
   "source": [
    "df_lr = pd.DataFrame(columns=['aa','coef'])\n",
    "for i in range(20):\n",
    "    df_lr = df_lr.append({'aa': states[i], 'coef': logreg.coef_[0][i]}, ignore_index=True)"
   ]
  },
  {
   "cell_type": "code",
   "execution_count": 13,
   "metadata": {},
   "outputs": [],
   "source": [
    "df_lr = df_lr.sort_values(by='coef', ascending=False, key=abs)"
   ]
  },
  {
   "cell_type": "code",
   "execution_count": 14,
   "metadata": {},
   "outputs": [
    {
     "data": {
      "image/png": "[encoded data removed]",
      "text/plain": [
       "<Figure size 576x216 with 1 Axes>"
      ]
     },
     "metadata": {
      "needs_background": "light"
     },
     "output_type": "display_data"
    }
   ],
   "source": [
    "plt.figure(figsize=(8,3))\n",
    "plt.stem(df_lr['aa'], df_lr['coef'])\n",
    "plt.ylabel('Helical tendency', fontsize=12)\n",
    "plt.tight_layout()\n",
    "#plt.savefig('./fig.png', dpi=300)\n",
    "plt.show()"
   ]
  },
  {
   "cell_type": "markdown",
   "metadata": {},
   "source": [
    "## Helical propensity scale"
   ]
  },
  {
   "cell_type": "code",
   "execution_count": 15,
   "metadata": {},
   "outputs": [],
   "source": [
    "df_hp = pd.read_csv('../../data/misc/helix_propensity_pace1998.txt')"
   ]
  },
  {
   "cell_type": "code",
   "execution_count": 16,
   "metadata": {},
   "outputs": [],
   "source": [
    "h_propensity = {}\n",
    "for index, row in df_hp.iterrows():\n",
    "    h_propensity[row['aa']] = row['hp']"
   ]
  },
  {
   "cell_type": "code",
   "execution_count": 17,
   "metadata": {},
   "outputs": [
    {
     "data": {
      "image/png": "[encoded data removed]",
      "text/plain": [
       "<Figure size 432x288 with 1 Axes>"
      ]
     },
     "metadata": {
      "needs_background": "light"
     },
     "output_type": "display_data"
    }
   ],
   "source": [
    "plt.figure()\n",
    "plt.bar(h_propensity.keys(), h_propensity.values())\n",
    "plt.ylabel('Helix propensity (kcal/mol),\\nPace and Scholtz', fontsize=12)\n",
    "plt.tight_layout()\n",
    "#plt.savefig('./fig.png', dpi=300)\n",
    "plt.show()"
   ]
  },
  {
   "cell_type": "code",
   "execution_count": 18,
   "metadata": {},
   "outputs": [
    {
     "data": {
      "image/png": "[encoded data removed]",
      "text/plain": [
       "<Figure size 324x288 with 1 Axes>"
      ]
     },
     "metadata": {
      "needs_background": "light"
     },
     "output_type": "display_data"
    }
   ],
   "source": [
    "plt.figure(figsize=(4.5,4))\n",
    "plt.scatter(h_propensity.values(), logreg.coef_.tolist())\n",
    "plt.xlabel('Helix propensity (kcal/mol), Pace and Scholtz', fontsize=12)\n",
    "plt.ylabel('Coefficient in LR model', fontsize=12)\n",
    "corr = stats.spearmanr(list(h_propensity.values()), logreg.coef_[0].tolist())\n",
    "plt.text(1.6, 13, \"Spearman r = \" + '{0:.3g}'.format(corr.correlation))\n",
    "plt.tight_layout()\n",
    "#plt.savefig('./fig.png', dpi=300)\n",
    "plt.show()"
   ]
  },
  {
   "cell_type": "markdown",
   "metadata": {},
   "source": [
    "## Re-train model using residues with top coefficients as predictors"
   ]
  },
  {
   "cell_type": "code",
   "execution_count": 19,
   "metadata": {},
   "outputs": [],
   "source": [
    "def get_logreg_accuracy(df, aa_list):\n",
    "    featurecol = []\n",
    "    for aa in aa_list:\n",
    "        featurecol.append('freq_'+aa)\n",
    "    X = df[featurecol]\n",
    "    y = df['label']\n",
    "    X_train, X_test, y_train, y_test=train_test_split(X, y, test_size=0.25, random_state=0)\n",
    "    logreg = LogisticRegression()\n",
    "    logreg.fit(X_train, y_train)\n",
    "    y_pred = logreg.predict(X_test)\n",
    "    cnf_matrix = metrics.confusion_matrix(y_test, y_pred)\n",
    "    accuracy = metrics.accuracy_score(y_test, y_pred)\n",
    "    return cnf_matrix, accuracy"
   ]
  },
  {
   "cell_type": "code",
   "execution_count": 20,
   "metadata": {},
   "outputs": [],
   "source": [
    "states_ranked = df_lr['aa'].tolist()"
   ]
  },
  {
   "cell_type": "code",
   "execution_count": 21,
   "metadata": {},
   "outputs": [],
   "source": [
    "acc_list = []\n",
    "pred_aas = []\n",
    "for i in range(1,21):\n",
    "    aa_list = states_ranked[:i]\n",
    "    accuracy = get_logreg_accuracy(df, aa_list)[1]\n",
    "    acc_list.append(accuracy)\n",
    "    pred_aas.append('top '+ str(i))"
   ]
  },
  {
   "cell_type": "code",
   "execution_count": 22,
   "metadata": {},
   "outputs": [
    {
     "data": {
      "image/png": "[encoded data removed]",
      "text/plain": [
       "<Figure size 576x216 with 1 Axes>"
      ]
     },
     "metadata": {
      "needs_background": "light"
     },
     "output_type": "display_data"
    }
   ],
   "source": [
    "plt.figure(figsize=(8, 3))\n",
    "plt.stem(pred_aas, acc_list)\n",
    "plt.ylabel('Prediction accuracy', fontsize=12)\n",
    "plt.xlabel('Number of AAs used as predictors', fontsize=12)\n",
    "plt.xticks(rotation=45)\n",
    "plt.ylim(0.7, 1.0)\n",
    "plt.tight_layout()\n",
    "#plt.savefig('./fig.png', dpi=300)\n",
    "plt.show()"
   ]
  },
  {
   "cell_type": "markdown",
   "metadata": {},
   "source": [
    "## Using only P or using only P and G"
   ]
  },
  {
   "cell_type": "code",
   "execution_count": 23,
   "metadata": {},
   "outputs": [
    {
     "data": {
      "text/plain": [
       "[0.7468415937803693,\n",
       " 0.8275024295432458,\n",
       " 0.8559280855199223,\n",
       " 0.8768221574344023,\n",
       " 0.8965014577259475,\n",
       " 0.9088921282798834,\n",
       " 0.9132653061224489,\n",
       " 0.9183673469387755,\n",
       " 0.9161807580174927,\n",
       " 0.9198250728862973,\n",
       " 0.9207968901846453,\n",
       " 0.92444120505345,\n",
       " 0.924198250728863,\n",
       " 0.9256559766763849,\n",
       " 0.9258989310009719,\n",
       " 0.92444120505345,\n",
       " 0.9258989310009719,\n",
       " 0.9256559766763849,\n",
       " 0.9246841593780369,\n",
       " 0.9246841593780369]"
      ]
     },
     "execution_count": 23,
     "metadata": {},
     "output_type": "execute_result"
    }
   ],
   "source": [
    "acc_list"
   ]
  },
  {
   "cell_type": "code",
   "execution_count": 24,
   "metadata": {},
   "outputs": [],
   "source": [
    "d_acc = {}"
   ]
  },
  {
   "cell_type": "code",
   "execution_count": 25,
   "metadata": {},
   "outputs": [],
   "source": [
    "d_acc['sc_top5'] = acc_list[4]"
   ]
  },
  {
   "cell_type": "code",
   "execution_count": 26,
   "metadata": {},
   "outputs": [],
   "source": [
    "d_acc['sc_onlyP'] = acc_list[0]"
   ]
  },
  {
   "cell_type": "code",
   "execution_count": 27,
   "metadata": {},
   "outputs": [],
   "source": [
    "d_acc['sc_onlyPG'] = get_logreg_accuracy(df, ['P', 'G'])[1]"
   ]
  },
  {
   "cell_type": "code",
   "execution_count": 28,
   "metadata": {},
   "outputs": [],
   "source": [
    "d_acc['sc_onlyG'] = get_logreg_accuracy(df, ['G'])[1]"
   ]
  },
  {
   "cell_type": "code",
   "execution_count": 29,
   "metadata": {},
   "outputs": [
    {
     "data": {
      "text/plain": [
       "0.7468415937803693"
      ]
     },
     "execution_count": 29,
     "metadata": {},
     "output_type": "execute_result"
    }
   ],
   "source": [
    "get_logreg_accuracy(df, ['P'])[1]"
   ]
  },
  {
   "cell_type": "code",
   "execution_count": 30,
   "metadata": {},
   "outputs": [
    {
     "data": {
      "text/plain": [
       "{'sc_top5': 0.8965014577259475,\n",
       " 'sc_onlyP': 0.7468415937803693,\n",
       " 'sc_onlyPG': 0.7560738581146744,\n",
       " 'sc_onlyG': 0.5930515063168125}"
      ]
     },
     "execution_count": 30,
     "metadata": {},
     "output_type": "execute_result"
    }
   ],
   "source": [
    "d_acc"
   ]
  },
  {
   "cell_type": "markdown",
   "metadata": {},
   "source": [
    "## Using model trained on all AF output to classify random non-highly-charged regions"
   ]
  },
  {
   "cell_type": "code",
   "execution_count": 31,
   "metadata": {},
   "outputs": [],
   "source": [
    "df_random = pd.read_csv('../../data/af_regions/random_af_regions_low_thresh.csv')"
   ]
  },
  {
   "cell_type": "code",
   "execution_count": 32,
   "metadata": {},
   "outputs": [],
   "source": [
    "def append_percent_aa(row, aa):\n",
    "    seq = row['seq']\n",
    "    return get_aa_freq(seq, aa)"
   ]
  },
  {
   "cell_type": "code",
   "execution_count": 33,
   "metadata": {},
   "outputs": [],
   "source": [
    "for aa in states:\n",
    "    df_random['freq_'+aa] = df_random.apply(lambda row: append_percent_aa(row, aa), axis=1)"
   ]
  },
  {
   "cell_type": "code",
   "execution_count": 34,
   "metadata": {},
   "outputs": [
    {
     "data": {
      "text/plain": [
       "0.8689655172413793"
      ]
     },
     "execution_count": 34,
     "metadata": {},
     "output_type": "execute_result"
    }
   ],
   "source": [
    "featurecol = []\n",
    "for aa in states:\n",
    "    featurecol.append('freq_'+aa)\n",
    "X_rd = df_random[featurecol]\n",
    "y_rd = df_random['label']\n",
    "y_pred_rd = logreg.predict(X_rd)\n",
    "cnf_rd = metrics.confusion_matrix(y_rd, y_pred_rd)\n",
    "accuracy = metrics.accuracy_score(y_rd, y_pred_rd)\n",
    "accuracy"
   ]
  },
  {
   "cell_type": "code",
   "execution_count": 35,
   "metadata": {},
   "outputs": [
    {
     "data": {
      "text/plain": [
       "array([[2422,  128],\n",
       "       [ 385,  980]])"
      ]
     },
     "execution_count": 35,
     "metadata": {},
     "output_type": "execute_result"
    }
   ],
   "source": [
    "cnf_rd"
   ]
  },
  {
   "cell_type": "markdown",
   "metadata": {},
   "source": [
    "## Labelling highly charged regions based on AlphaFold output"
   ]
  },
  {
   "cell_type": "code",
   "execution_count": 36,
   "metadata": {},
   "outputs": [],
   "source": [
    "def append_structure_label(row):\n",
    "    fdir = '/mnt/d/research/drummond-lab/data/cerevisiae-alphafold-output/'\n",
    "    uni_id = row['uni_id']\n",
    "    left_bound = row['left.bound']\n",
    "    right_bound = row['right.bound']\n",
    "    label = pa.get_structure_label(fdir, uni_id, left_bound, right_bound)\n",
    "    return label"
   ]
  },
  {
   "cell_type": "code",
   "execution_count": 37,
   "metadata": {},
   "outputs": [],
   "source": [
    "def append_percent_structure(row):\n",
    "    uniprot_id = row['uni_id']\n",
    "    left_bound = row['left.bound']\n",
    "    right_bound = row['right.bound']\n",
    "    fdir = '/mnt/d/research/drummond-lab/data/cerevisiae-alphafold-output/'\n",
    "    fpath = fdir + 'AF-' + str(uniprot_id) + '-F1-model_v1.pdb'\n",
    "    if path.exists(fpath):\n",
    "        af_pdb = pa.read_af_output(fdir, uniprot_id)\n",
    "        ss = md.compute_dssp(af_pdb, simplified=True)[0]\n",
    "        region_ss = ss[left_bound:(right_bound+1)]\n",
    "        bfactor = pa.read_bfactor_from_pdb(fpath)[left_bound:(right_bound+1)]\n",
    "        len_region = right_bound - left_bound + 1\n",
    "\n",
    "        p_helix = pa.get_percent_helix(region_ss, bfactor, len_region)\n",
    "        p_disorder = pa.get_percent_disorder(region_ss, bfactor, len_region)\n",
    "        \n",
    "        cnt_sheets = 0\n",
    "        for i, label in enumerate(region_ss):\n",
    "            if (label == 'E') and (bfactor[i] >= 70):\n",
    "                cnt_sheets += 1\n",
    "        p_sheets = cnt_sheets / len_region\n",
    "    return pd.Series(dict(p_helix=p_helix, p_disorder=p_disorder, p_sheets=p_sheets))"
   ]
  },
  {
   "cell_type": "code",
   "execution_count": 38,
   "metadata": {},
   "outputs": [],
   "source": [
    "#df_hc = pd.read_csv('../../data/charged_regions/cr_filtered.csv', comment='#')\n",
    "#df_hc['label'] = df_hc.apply(lambda row: append_structure_label(row), axis=1)\n",
    "#unlabeled = df_hc[df_hc.label == 'unclassified']\n",
    "#unlabeled = unlabeled.join(unlabeled.apply(append_percent_structure, axis=\"columns\"))\n",
    "#unlabeled.to_csv('../../data/charged_regions/cr_filtered_unlabeled.csv', index=False)"
   ]
  },
  {
   "cell_type": "code",
   "execution_count": 39,
   "metadata": {},
   "outputs": [],
   "source": [
    "unlabeled = pd.read_csv('../../data/charged_regions/cr_filtered_unlabeled.csv')"
   ]
  },
  {
   "cell_type": "code",
   "execution_count": 40,
   "metadata": {},
   "outputs": [
    {
     "data": {
      "text/html": [
       "<div>\n",
       "<style scoped>\n",
       "    .dataframe tbody tr th:only-of-type {\n",
       "        vertical-align: middle;\n",
       "    }\n",
       "\n",
       "    .dataframe tbody tr th {\n",
       "        vertical-align: top;\n",
       "    }\n",
       "\n",
       "    .dataframe thead th {\n",
       "        text-align: right;\n",
       "    }\n",
       "</style>\n",
       "<table border=\"1\" class=\"dataframe\">\n",
       "  <thead>\n",
       "    <tr style=\"text-align: right;\">\n",
       "      <th></th>\n",
       "      <th>orf</th>\n",
       "      <th>gene</th>\n",
       "      <th>seq.len</th>\n",
       "      <th>left.bound</th>\n",
       "      <th>right.bound</th>\n",
       "      <th>region.seq</th>\n",
       "      <th>region.len</th>\n",
       "      <th>charge.asymmetry</th>\n",
       "      <th>frac.charge</th>\n",
       "      <th>kappa1</th>\n",
       "      <th>kappa2</th>\n",
       "      <th>uni_id</th>\n",
       "      <th>orf_label</th>\n",
       "      <th>label</th>\n",
       "      <th>p_helix</th>\n",
       "      <th>p_disorder</th>\n",
       "      <th>p_sheets</th>\n",
       "    </tr>\n",
       "  </thead>\n",
       "  <tbody>\n",
       "    <tr>\n",
       "      <th>0</th>\n",
       "      <td>YAL011W</td>\n",
       "      <td>SWC3</td>\n",
       "      <td>626</td>\n",
       "      <td>470</td>\n",
       "      <td>525</td>\n",
       "      <td>KSVVEFLEDTDEIIISWIVIHNSKEIEKFKTKKIKAKLKADQKLNK...</td>\n",
       "      <td>56</td>\n",
       "      <td>0.000000</td>\n",
       "      <td>0.428571</td>\n",
       "      <td>0.114622</td>\n",
       "      <td>0.300249</td>\n",
       "      <td>P31376</td>\n",
       "      <td>verified</td>\n",
       "      <td>unclassified</td>\n",
       "      <td>0.339286</td>\n",
       "      <td>0.392857</td>\n",
       "      <td>0.267857</td>\n",
       "    </tr>\n",
       "    <tr>\n",
       "      <th>1</th>\n",
       "      <td>YAR042W</td>\n",
       "      <td>SWH1</td>\n",
       "      <td>1189</td>\n",
       "      <td>1100</td>\n",
       "      <td>1155</td>\n",
       "      <td>LAPTDSRLRPDQRAMENGEYDKAAAEKHRVEVKQRAAKKEREQKGE...</td>\n",
       "      <td>56</td>\n",
       "      <td>0.002747</td>\n",
       "      <td>0.464286</td>\n",
       "      <td>0.038024</td>\n",
       "      <td>0.090131</td>\n",
       "      <td>P35845</td>\n",
       "      <td>verified</td>\n",
       "      <td>unclassified</td>\n",
       "      <td>0.589286</td>\n",
       "      <td>0.321429</td>\n",
       "      <td>0.089286</td>\n",
       "    </tr>\n",
       "    <tr>\n",
       "      <th>2</th>\n",
       "      <td>YBL007C</td>\n",
       "      <td>SLA1</td>\n",
       "      <td>1245</td>\n",
       "      <td>549</td>\n",
       "      <td>624</td>\n",
       "      <td>TGFSLEKFKANDGSSSRGTDSRDSERERRRRLKEQEEKERDRRLKE...</td>\n",
       "      <td>76</td>\n",
       "      <td>0.002754</td>\n",
       "      <td>0.565789</td>\n",
       "      <td>0.046616</td>\n",
       "      <td>0.085134</td>\n",
       "      <td>P32790</td>\n",
       "      <td>verified</td>\n",
       "      <td>unclassified</td>\n",
       "      <td>0.592105</td>\n",
       "      <td>0.407895</td>\n",
       "      <td>0.000000</td>\n",
       "    </tr>\n",
       "    <tr>\n",
       "      <th>3</th>\n",
       "      <td>YBL078C</td>\n",
       "      <td>ATG8</td>\n",
       "      <td>118</td>\n",
       "      <td>3</td>\n",
       "      <td>53</td>\n",
       "      <td>TFKSEYPFEKRKAESERIADRFKNRIPVICEKAEKSDIPEIDKRKY...</td>\n",
       "      <td>51</td>\n",
       "      <td>0.003268</td>\n",
       "      <td>0.470588</td>\n",
       "      <td>0.046144</td>\n",
       "      <td>0.108555</td>\n",
       "      <td>P38182</td>\n",
       "      <td>verified</td>\n",
       "      <td>unclassified</td>\n",
       "      <td>0.372549</td>\n",
       "      <td>0.372549</td>\n",
       "      <td>0.254902</td>\n",
       "    </tr>\n",
       "    <tr>\n",
       "      <th>4</th>\n",
       "      <td>YBR023C</td>\n",
       "      <td>CHS3</td>\n",
       "      <td>1166</td>\n",
       "      <td>1119</td>\n",
       "      <td>1164</td>\n",
       "      <td>IAGGNKKAQDENEGEFDHSKIKMRTWREFEREDILNRKEESDSFVA</td>\n",
       "      <td>46</td>\n",
       "      <td>0.009317</td>\n",
       "      <td>0.456522</td>\n",
       "      <td>0.109843</td>\n",
       "      <td>0.277843</td>\n",
       "      <td>P29465</td>\n",
       "      <td>verified</td>\n",
       "      <td>unclassified</td>\n",
       "      <td>0.456522</td>\n",
       "      <td>0.500000</td>\n",
       "      <td>0.043478</td>\n",
       "    </tr>\n",
       "    <tr>\n",
       "      <th>...</th>\n",
       "      <td>...</td>\n",
       "      <td>...</td>\n",
       "      <td>...</td>\n",
       "      <td>...</td>\n",
       "      <td>...</td>\n",
       "      <td>...</td>\n",
       "      <td>...</td>\n",
       "      <td>...</td>\n",
       "      <td>...</td>\n",
       "      <td>...</td>\n",
       "      <td>...</td>\n",
       "      <td>...</td>\n",
       "      <td>...</td>\n",
       "      <td>...</td>\n",
       "      <td>...</td>\n",
       "      <td>...</td>\n",
       "      <td>...</td>\n",
       "    </tr>\n",
       "    <tr>\n",
       "      <th>144</th>\n",
       "      <td>YPL226W</td>\n",
       "      <td>NEW1</td>\n",
       "      <td>1197</td>\n",
       "      <td>1134</td>\n",
       "      <td>1179</td>\n",
       "      <td>NLAKPSVDDDDSPANIKVKQRKKRLTRNEKKLQAERRRLRYIEWLS</td>\n",
       "      <td>46</td>\n",
       "      <td>0.050725</td>\n",
       "      <td>0.456522</td>\n",
       "      <td>0.161465</td>\n",
       "      <td>0.449582</td>\n",
       "      <td>Q08972</td>\n",
       "      <td>verified</td>\n",
       "      <td>unclassified</td>\n",
       "      <td>0.434783</td>\n",
       "      <td>0.565217</td>\n",
       "      <td>0.000000</td>\n",
       "    </tr>\n",
       "    <tr>\n",
       "      <th>145</th>\n",
       "      <td>YPR107C</td>\n",
       "      <td>YTH1</td>\n",
       "      <td>209</td>\n",
       "      <td>153</td>\n",
       "      <td>204</td>\n",
       "      <td>GFCPLGKDECDMEHPQFIIPDEGSKLRIKRDDEINTRKMDEEKERR...</td>\n",
       "      <td>52</td>\n",
       "      <td>0.007525</td>\n",
       "      <td>0.442308</td>\n",
       "      <td>0.078459</td>\n",
       "      <td>0.202338</td>\n",
       "      <td>Q06102</td>\n",
       "      <td>verified</td>\n",
       "      <td>unclassified</td>\n",
       "      <td>0.500000</td>\n",
       "      <td>0.480769</td>\n",
       "      <td>0.019231</td>\n",
       "    </tr>\n",
       "    <tr>\n",
       "      <th>146</th>\n",
       "      <td>YPR110C</td>\n",
       "      <td>RPC40</td>\n",
       "      <td>336</td>\n",
       "      <td>253</td>\n",
       "      <td>296</td>\n",
       "      <td>GVIGIDEGSDEAYVKDARKDTVSREVLRYEEFADKVKLGRVRNH</td>\n",
       "      <td>44</td>\n",
       "      <td>0.001196</td>\n",
       "      <td>0.431818</td>\n",
       "      <td>0.084225</td>\n",
       "      <td>0.228311</td>\n",
       "      <td>P07703</td>\n",
       "      <td>verified</td>\n",
       "      <td>unclassified</td>\n",
       "      <td>0.227273</td>\n",
       "      <td>0.409091</td>\n",
       "      <td>0.363636</td>\n",
       "    </tr>\n",
       "    <tr>\n",
       "      <th>147</th>\n",
       "      <td>YPR112C</td>\n",
       "      <td>MRD1</td>\n",
       "      <td>888</td>\n",
       "      <td>98</td>\n",
       "      <td>153</td>\n",
       "      <td>RVPQPMKEKRREALKRFREKEEKLLQEENRKKKKVDENKHSNIDDE...</td>\n",
       "      <td>56</td>\n",
       "      <td>0.020089</td>\n",
       "      <td>0.571429</td>\n",
       "      <td>0.089393</td>\n",
       "      <td>0.169530</td>\n",
       "      <td>Q06106</td>\n",
       "      <td>verified</td>\n",
       "      <td>unclassified</td>\n",
       "      <td>0.535714</td>\n",
       "      <td>0.464286</td>\n",
       "      <td>0.000000</td>\n",
       "    </tr>\n",
       "    <tr>\n",
       "      <th>148</th>\n",
       "      <td>YPR125W</td>\n",
       "      <td>YLH47</td>\n",
       "      <td>455</td>\n",
       "      <td>375</td>\n",
       "      <td>434</td>\n",
       "      <td>EVKVNVVKEDEASAKQKLKQLREQEEIMKEEEQQEENAIVSVKDEL...</td>\n",
       "      <td>60</td>\n",
       "      <td>0.050000</td>\n",
       "      <td>0.450000</td>\n",
       "      <td>0.074571</td>\n",
       "      <td>0.202865</td>\n",
       "      <td>Q06493</td>\n",
       "      <td>verified</td>\n",
       "      <td>unclassified</td>\n",
       "      <td>0.450000</td>\n",
       "      <td>0.550000</td>\n",
       "      <td>0.000000</td>\n",
       "    </tr>\n",
       "  </tbody>\n",
       "</table>\n",
       "<p>149 rows × 17 columns</p>\n",
       "</div>"
      ],
      "text/plain": [
       "         orf   gene  seq.len  left.bound  right.bound  \\\n",
       "0    YAL011W   SWC3      626         470          525   \n",
       "1    YAR042W   SWH1     1189        1100         1155   \n",
       "2    YBL007C   SLA1     1245         549          624   \n",
       "3    YBL078C   ATG8      118           3           53   \n",
       "4    YBR023C   CHS3     1166        1119         1164   \n",
       "..       ...    ...      ...         ...          ...   \n",
       "144  YPL226W   NEW1     1197        1134         1179   \n",
       "145  YPR107C   YTH1      209         153          204   \n",
       "146  YPR110C  RPC40      336         253          296   \n",
       "147  YPR112C   MRD1      888          98          153   \n",
       "148  YPR125W  YLH47      455         375          434   \n",
       "\n",
       "                                            region.seq  region.len  \\\n",
       "0    KSVVEFLEDTDEIIISWIVIHNSKEIEKFKTKKIKAKLKADQKLNK...          56   \n",
       "1    LAPTDSRLRPDQRAMENGEYDKAAAEKHRVEVKQRAAKKEREQKGE...          56   \n",
       "2    TGFSLEKFKANDGSSSRGTDSRDSERERRRRLKEQEEKERDRRLKE...          76   \n",
       "3    TFKSEYPFEKRKAESERIADRFKNRIPVICEKAEKSDIPEIDKRKY...          51   \n",
       "4       IAGGNKKAQDENEGEFDHSKIKMRTWREFEREDILNRKEESDSFVA          46   \n",
       "..                                                 ...         ...   \n",
       "144     NLAKPSVDDDDSPANIKVKQRKKRLTRNEKKLQAERRRLRYIEWLS          46   \n",
       "145  GFCPLGKDECDMEHPQFIIPDEGSKLRIKRDDEINTRKMDEEKERR...          52   \n",
       "146       GVIGIDEGSDEAYVKDARKDTVSREVLRYEEFADKVKLGRVRNH          44   \n",
       "147  RVPQPMKEKRREALKRFREKEEKLLQEENRKKKKVDENKHSNIDDE...          56   \n",
       "148  EVKVNVVKEDEASAKQKLKQLREQEEIMKEEEQQEENAIVSVKDEL...          60   \n",
       "\n",
       "     charge.asymmetry  frac.charge    kappa1    kappa2  uni_id orf_label  \\\n",
       "0            0.000000     0.428571  0.114622  0.300249  P31376  verified   \n",
       "1            0.002747     0.464286  0.038024  0.090131  P35845  verified   \n",
       "2            0.002754     0.565789  0.046616  0.085134  P32790  verified   \n",
       "3            0.003268     0.470588  0.046144  0.108555  P38182  verified   \n",
       "4            0.009317     0.456522  0.109843  0.277843  P29465  verified   \n",
       "..                ...          ...       ...       ...     ...       ...   \n",
       "144          0.050725     0.456522  0.161465  0.449582  Q08972  verified   \n",
       "145          0.007525     0.442308  0.078459  0.202338  Q06102  verified   \n",
       "146          0.001196     0.431818  0.084225  0.228311  P07703  verified   \n",
       "147          0.020089     0.571429  0.089393  0.169530  Q06106  verified   \n",
       "148          0.050000     0.450000  0.074571  0.202865  Q06493  verified   \n",
       "\n",
       "            label   p_helix  p_disorder  p_sheets  \n",
       "0    unclassified  0.339286    0.392857  0.267857  \n",
       "1    unclassified  0.589286    0.321429  0.089286  \n",
       "2    unclassified  0.592105    0.407895  0.000000  \n",
       "3    unclassified  0.372549    0.372549  0.254902  \n",
       "4    unclassified  0.456522    0.500000  0.043478  \n",
       "..            ...       ...         ...       ...  \n",
       "144  unclassified  0.434783    0.565217  0.000000  \n",
       "145  unclassified  0.500000    0.480769  0.019231  \n",
       "146  unclassified  0.227273    0.409091  0.363636  \n",
       "147  unclassified  0.535714    0.464286  0.000000  \n",
       "148  unclassified  0.450000    0.550000  0.000000  \n",
       "\n",
       "[149 rows x 17 columns]"
      ]
     },
     "execution_count": 40,
     "metadata": {},
     "output_type": "execute_result"
    }
   ],
   "source": [
    "unlabeled"
   ]
  },
  {
   "cell_type": "code",
   "execution_count": 41,
   "metadata": {},
   "outputs": [
    {
     "data": {
      "image/png": "[encoded data removed]",
      "text/plain": [
       "<Figure size 1080x288 with 3 Axes>"
      ]
     },
     "metadata": {
      "needs_background": "light"
     },
     "output_type": "display_data"
    }
   ],
   "source": [
    "fig, axes = plt.subplots(1, 3, figsize=(15,4), sharey=True)\n",
    "sns.histplot(unlabeled['p_helix'], ax=axes[0])\n",
    "sns.histplot(unlabeled['p_disorder'], ax=axes[1])\n",
    "sns.histplot(unlabeled['p_sheets'], ax=axes[2])\n",
    "plt.show()"
   ]
  },
  {
   "cell_type": "code",
   "execution_count": 42,
   "metadata": {},
   "outputs": [
    {
     "data": {
      "text/html": [
       "<div>\n",
       "<style scoped>\n",
       "    .dataframe tbody tr th:only-of-type {\n",
       "        vertical-align: middle;\n",
       "    }\n",
       "\n",
       "    .dataframe tbody tr th {\n",
       "        vertical-align: top;\n",
       "    }\n",
       "\n",
       "    .dataframe thead th {\n",
       "        text-align: right;\n",
       "    }\n",
       "</style>\n",
       "<table border=\"1\" class=\"dataframe\">\n",
       "  <thead>\n",
       "    <tr style=\"text-align: right;\">\n",
       "      <th></th>\n",
       "      <th>orf</th>\n",
       "      <th>gene</th>\n",
       "      <th>seq.len</th>\n",
       "      <th>left.bound</th>\n",
       "      <th>right.bound</th>\n",
       "      <th>region.seq</th>\n",
       "      <th>region.len</th>\n",
       "      <th>charge.asymmetry</th>\n",
       "      <th>frac.charge</th>\n",
       "      <th>kappa1</th>\n",
       "      <th>kappa2</th>\n",
       "      <th>uni_id</th>\n",
       "      <th>orf_label</th>\n",
       "      <th>label</th>\n",
       "      <th>p_helix</th>\n",
       "      <th>p_disorder</th>\n",
       "      <th>p_sheets</th>\n",
       "    </tr>\n",
       "  </thead>\n",
       "  <tbody>\n",
       "    <tr>\n",
       "      <th>87</th>\n",
       "      <td>YKL021C</td>\n",
       "      <td>MAK11</td>\n",
       "      <td>469</td>\n",
       "      <td>409</td>\n",
       "      <td>466</td>\n",
       "      <td>IEKYNTMKKRDAETADIGDQSEVESDTEELKKIMFGEKKKLNKKKR...</td>\n",
       "      <td>58</td>\n",
       "      <td>0.014863</td>\n",
       "      <td>0.5</td>\n",
       "      <td>0.186732</td>\n",
       "      <td>0.412716</td>\n",
       "      <td>P20484</td>\n",
       "      <td>verified</td>\n",
       "      <td>unclassified</td>\n",
       "      <td>0.0</td>\n",
       "      <td>0.086207</td>\n",
       "      <td>0.0</td>\n",
       "    </tr>\n",
       "  </tbody>\n",
       "</table>\n",
       "</div>"
      ],
      "text/plain": [
       "        orf   gene  seq.len  left.bound  right.bound  \\\n",
       "87  YKL021C  MAK11      469         409          466   \n",
       "\n",
       "                                           region.seq  region.len  \\\n",
       "87  IEKYNTMKKRDAETADIGDQSEVESDTEELKKIMFGEKKKLNKKKR...          58   \n",
       "\n",
       "    charge.asymmetry  frac.charge    kappa1    kappa2  uni_id orf_label  \\\n",
       "87          0.014863          0.5  0.186732  0.412716  P20484  verified   \n",
       "\n",
       "           label  p_helix  p_disorder  p_sheets  \n",
       "87  unclassified      0.0    0.086207       0.0  "
      ]
     },
     "execution_count": 42,
     "metadata": {},
     "output_type": "execute_result"
    }
   ],
   "source": [
    "unlabeled[(unlabeled.p_helix < 0.1) & (unlabeled.p_disorder < 0.1)]"
   ]
  },
  {
   "cell_type": "code",
   "execution_count": 43,
   "metadata": {},
   "outputs": [
    {
     "data": {
      "image/png": "[encoded data removed]",
      "text/plain": [
       "<Figure size 432x288 with 1 Axes>"
      ]
     },
     "metadata": {
      "needs_background": "light"
     },
     "output_type": "display_data"
    }
   ],
   "source": [
    "plt.figure()\n",
    "sns.scatterplot(unlabeled['p_helix'], unlabeled['p_disorder'], hue=unlabeled['p_sheets'])\n",
    "x = np.linspace(0, 1, 1000)\n",
    "y = np.linspace(1, 0, 1000)\n",
    "plt.plot(x, y)\n",
    "plt.show()"
   ]
  },
  {
   "cell_type": "code",
   "execution_count": 44,
   "metadata": {},
   "outputs": [],
   "source": [
    "#df_hc = df_hc[df_hc.label != 'unclassified']\n",
    "#df_hc = df_hc.dropna(how='any')\n",
    "#df_hc.to_csv('../../data/charged_regions/cr_filtered_aflabel.csv', index=False)"
   ]
  },
  {
   "cell_type": "markdown",
   "metadata": {},
   "source": [
    "## Using model trained on all AF output to classify highly charged regions"
   ]
  },
  {
   "cell_type": "code",
   "execution_count": 45,
   "metadata": {},
   "outputs": [],
   "source": [
    "def append_percent_aa(row, aa):\n",
    "    seq = row['region.seq']\n",
    "    return get_aa_freq(seq, aa)"
   ]
  },
  {
   "cell_type": "code",
   "execution_count": 46,
   "metadata": {},
   "outputs": [],
   "source": [
    "df_hc = pd.read_csv('../../data/charged_regions/cr_filtered_aflabel.csv')"
   ]
  },
  {
   "cell_type": "code",
   "execution_count": 47,
   "metadata": {},
   "outputs": [],
   "source": [
    "for aa in states:\n",
    "    df_hc['freq_'+aa] = df_hc.apply(lambda row: append_percent_aa(row, aa), axis=1)"
   ]
  },
  {
   "cell_type": "code",
   "execution_count": 48,
   "metadata": {},
   "outputs": [
    {
     "data": {
      "text/plain": [
       "0.8786717752234994"
      ]
     },
     "execution_count": 48,
     "metadata": {},
     "output_type": "execute_result"
    }
   ],
   "source": [
    "featurecol = []\n",
    "for aa in states:\n",
    "    featurecol.append('freq_'+aa)\n",
    "X_hc = df_hc[featurecol]\n",
    "y_hc = df_hc['label']\n",
    "y_pred_hc = logreg.predict(X_hc)\n",
    "cnf_hc = metrics.confusion_matrix(y_hc, y_pred_hc)\n",
    "accuracy = metrics.accuracy_score(y_hc, y_pred_hc)\n",
    "accuracy"
   ]
  },
  {
   "cell_type": "code",
   "execution_count": 49,
   "metadata": {},
   "outputs": [
    {
     "data": {
      "text/plain": [
       "array([[489,  21],\n",
       "       [ 74, 199]])"
      ]
     },
     "execution_count": 49,
     "metadata": {},
     "output_type": "execute_result"
    }
   ],
   "source": [
    "cnf_hc"
   ]
  },
  {
   "cell_type": "code",
   "execution_count": 50,
   "metadata": {},
   "outputs": [],
   "source": [
    "df_hc['lr_label'] = y_pred_hc"
   ]
  },
  {
   "cell_type": "code",
   "execution_count": 51,
   "metadata": {},
   "outputs": [
    {
     "data": {
      "text/plain": [
       "783"
      ]
     },
     "execution_count": 51,
     "metadata": {},
     "output_type": "execute_result"
    }
   ],
   "source": [
    "len(df_hc)"
   ]
  },
  {
   "cell_type": "code",
   "execution_count": 52,
   "metadata": {},
   "outputs": [
    {
     "data": {
      "text/plain": [
       "688"
      ]
     },
     "execution_count": 52,
     "metadata": {},
     "output_type": "execute_result"
    }
   ],
   "source": [
    "len(df_hc[((df_hc.label == 'disordered') & (df_hc.lr_label == 'disordered')) |\\\n",
    "          ((df_hc.label == 'helix') & (df_hc.lr_label == 'helix'))])"
   ]
  },
  {
   "cell_type": "code",
   "execution_count": 53,
   "metadata": {},
   "outputs": [],
   "source": [
    "df_hc.to_csv('../../data/charged_regions/cr_filtered_lrlabel.csv')"
   ]
  },
  {
   "cell_type": "code",
   "execution_count": 54,
   "metadata": {},
   "outputs": [
    {
     "data": {
      "text/html": [
       "<div>\n",
       "<style scoped>\n",
       "    .dataframe tbody tr th:only-of-type {\n",
       "        vertical-align: middle;\n",
       "    }\n",
       "\n",
       "    .dataframe tbody tr th {\n",
       "        vertical-align: top;\n",
       "    }\n",
       "\n",
       "    .dataframe thead th {\n",
       "        text-align: right;\n",
       "    }\n",
       "</style>\n",
       "<table border=\"1\" class=\"dataframe\">\n",
       "  <thead>\n",
       "    <tr style=\"text-align: right;\">\n",
       "      <th></th>\n",
       "      <th>orf</th>\n",
       "      <th>gene</th>\n",
       "      <th>seq.len</th>\n",
       "      <th>left.bound</th>\n",
       "      <th>right.bound</th>\n",
       "      <th>region.seq</th>\n",
       "      <th>region.len</th>\n",
       "      <th>charge.asymmetry</th>\n",
       "      <th>frac.charge</th>\n",
       "      <th>kappa1</th>\n",
       "      <th>kappa2</th>\n",
       "      <th>uni_id</th>\n",
       "      <th>orf_label</th>\n",
       "      <th>label</th>\n",
       "      <th>lr_label</th>\n",
       "    </tr>\n",
       "  </thead>\n",
       "  <tbody>\n",
       "    <tr>\n",
       "      <th>0</th>\n",
       "      <td>YAL011W</td>\n",
       "      <td>SWC3</td>\n",
       "      <td>626</td>\n",
       "      <td>0</td>\n",
       "      <td>54</td>\n",
       "      <td>MPAVLRTRSKESSIEQKPASRTRTRSRRGKRGRDDDDDDDDEESDD...</td>\n",
       "      <td>55</td>\n",
       "      <td>0.015674</td>\n",
       "      <td>0.527273</td>\n",
       "      <td>0.297167</td>\n",
       "      <td>0.616928</td>\n",
       "      <td>P31376</td>\n",
       "      <td>verified</td>\n",
       "      <td>disordered</td>\n",
       "      <td>disordered</td>\n",
       "    </tr>\n",
       "    <tr>\n",
       "      <th>1</th>\n",
       "      <td>YAL011W</td>\n",
       "      <td>SWC3</td>\n",
       "      <td>626</td>\n",
       "      <td>169</td>\n",
       "      <td>265</td>\n",
       "      <td>RLFILKNDKIEQKWQDEQELKKKEKELKRKNDAEAKRLRMEERKRQ...</td>\n",
       "      <td>97</td>\n",
       "      <td>0.050753</td>\n",
       "      <td>0.536082</td>\n",
       "      <td>0.051716</td>\n",
       "      <td>0.110243</td>\n",
       "      <td>P31376</td>\n",
       "      <td>verified</td>\n",
       "      <td>helix</td>\n",
       "      <td>helix</td>\n",
       "    </tr>\n",
       "    <tr>\n",
       "      <th>2</th>\n",
       "      <td>YAL011W</td>\n",
       "      <td>SWC3</td>\n",
       "      <td>626</td>\n",
       "      <td>361</td>\n",
       "      <td>424</td>\n",
       "      <td>KTAATEPEPKKADDENAEKQQSKEAKTTAESTQVDVKKEEEDVKEK...</td>\n",
       "      <td>64</td>\n",
       "      <td>0.007812</td>\n",
       "      <td>0.500000</td>\n",
       "      <td>0.044964</td>\n",
       "      <td>0.096912</td>\n",
       "      <td>P31376</td>\n",
       "      <td>verified</td>\n",
       "      <td>disordered</td>\n",
       "      <td>disordered</td>\n",
       "    </tr>\n",
       "    <tr>\n",
       "      <th>3</th>\n",
       "      <td>YAL013W</td>\n",
       "      <td>DEP1</td>\n",
       "      <td>406</td>\n",
       "      <td>81</td>\n",
       "      <td>163</td>\n",
       "      <td>TLTESLKRPHEDEKEAIDEAKKMKVPGENEDESKEEEKSQELEEAI...</td>\n",
       "      <td>83</td>\n",
       "      <td>0.141633</td>\n",
       "      <td>0.542169</td>\n",
       "      <td>0.093375</td>\n",
       "      <td>0.239955</td>\n",
       "      <td>P31385</td>\n",
       "      <td>verified</td>\n",
       "      <td>disordered</td>\n",
       "      <td>disordered</td>\n",
       "    </tr>\n",
       "    <tr>\n",
       "      <th>4</th>\n",
       "      <td>YAL019W</td>\n",
       "      <td>FUN30</td>\n",
       "      <td>1132</td>\n",
       "      <td>457</td>\n",
       "      <td>539</td>\n",
       "      <td>PAPAPVERETKRIRNTTKPKVVEDEDDDVDLEAIDDELPQSEHEDD...</td>\n",
       "      <td>83</td>\n",
       "      <td>0.267765</td>\n",
       "      <td>0.590361</td>\n",
       "      <td>0.175213</td>\n",
       "      <td>0.534439</td>\n",
       "      <td>P31380</td>\n",
       "      <td>verified</td>\n",
       "      <td>disordered</td>\n",
       "      <td>disordered</td>\n",
       "    </tr>\n",
       "    <tr>\n",
       "      <th>...</th>\n",
       "      <td>...</td>\n",
       "      <td>...</td>\n",
       "      <td>...</td>\n",
       "      <td>...</td>\n",
       "      <td>...</td>\n",
       "      <td>...</td>\n",
       "      <td>...</td>\n",
       "      <td>...</td>\n",
       "      <td>...</td>\n",
       "      <td>...</td>\n",
       "      <td>...</td>\n",
       "      <td>...</td>\n",
       "      <td>...</td>\n",
       "      <td>...</td>\n",
       "      <td>...</td>\n",
       "    </tr>\n",
       "    <tr>\n",
       "      <th>778</th>\n",
       "      <td>YPR163C</td>\n",
       "      <td>TIF3</td>\n",
       "      <td>437</td>\n",
       "      <td>379</td>\n",
       "      <td>433</td>\n",
       "      <td>SVYDVLRTEDDDEDEEAEKQNGDAKENKVDAAVEKLQDKTAQLTVE...</td>\n",
       "      <td>55</td>\n",
       "      <td>0.122909</td>\n",
       "      <td>0.454545</td>\n",
       "      <td>0.115449</td>\n",
       "      <td>0.366767</td>\n",
       "      <td>P34167</td>\n",
       "      <td>verified</td>\n",
       "      <td>disordered</td>\n",
       "      <td>disordered</td>\n",
       "    </tr>\n",
       "    <tr>\n",
       "      <th>779</th>\n",
       "      <td>YPR169W</td>\n",
       "      <td>JIP5</td>\n",
       "      <td>493</td>\n",
       "      <td>434</td>\n",
       "      <td>491</td>\n",
       "      <td>LVGLSKEELLDELDKDLKEDHQEEKESNSKSVKKRKIMKENNKKKD...</td>\n",
       "      <td>58</td>\n",
       "      <td>0.000556</td>\n",
       "      <td>0.534483</td>\n",
       "      <td>0.111450</td>\n",
       "      <td>0.219531</td>\n",
       "      <td>Q06214</td>\n",
       "      <td>verified</td>\n",
       "      <td>disordered</td>\n",
       "      <td>disordered</td>\n",
       "    </tr>\n",
       "    <tr>\n",
       "      <th>780</th>\n",
       "      <td>YPR179C</td>\n",
       "      <td>HDA3</td>\n",
       "      <td>656</td>\n",
       "      <td>512</td>\n",
       "      <td>577</td>\n",
       "      <td>GETLSKLKDAFVKTDNVQDEIEKEERVSVSRDTEKKYMEQEIKRAV...</td>\n",
       "      <td>66</td>\n",
       "      <td>0.012219</td>\n",
       "      <td>0.469697</td>\n",
       "      <td>0.045506</td>\n",
       "      <td>0.106750</td>\n",
       "      <td>Q06623</td>\n",
       "      <td>verified</td>\n",
       "      <td>helix</td>\n",
       "      <td>disordered</td>\n",
       "    </tr>\n",
       "    <tr>\n",
       "      <th>781</th>\n",
       "      <td>YPR186C</td>\n",
       "      <td>PZF1</td>\n",
       "      <td>430</td>\n",
       "      <td>370</td>\n",
       "      <td>411</td>\n",
       "      <td>NCSRTFKTKEKYEKHIDKHKVHELKLKILQEKEENKTLVDQN</td>\n",
       "      <td>42</td>\n",
       "      <td>0.011278</td>\n",
       "      <td>0.452381</td>\n",
       "      <td>0.031155</td>\n",
       "      <td>0.081428</td>\n",
       "      <td>P39933</td>\n",
       "      <td>verified</td>\n",
       "      <td>helix</td>\n",
       "      <td>helix</td>\n",
       "    </tr>\n",
       "    <tr>\n",
       "      <th>782</th>\n",
       "      <td>YPR189W</td>\n",
       "      <td>SKI3</td>\n",
       "      <td>1433</td>\n",
       "      <td>340</td>\n",
       "      <td>413</td>\n",
       "      <td>NKPPEGHKKTEKETDIKDVDETNEDEVKDRVEDEVKDRVEDEVKDQ...</td>\n",
       "      <td>74</td>\n",
       "      <td>0.158859</td>\n",
       "      <td>0.608108</td>\n",
       "      <td>0.088979</td>\n",
       "      <td>0.210191</td>\n",
       "      <td>P17883</td>\n",
       "      <td>verified</td>\n",
       "      <td>disordered</td>\n",
       "      <td>disordered</td>\n",
       "    </tr>\n",
       "  </tbody>\n",
       "</table>\n",
       "<p>783 rows × 15 columns</p>\n",
       "</div>"
      ],
      "text/plain": [
       "         orf   gene  seq.len  left.bound  right.bound  \\\n",
       "0    YAL011W   SWC3      626           0           54   \n",
       "1    YAL011W   SWC3      626         169          265   \n",
       "2    YAL011W   SWC3      626         361          424   \n",
       "3    YAL013W   DEP1      406          81          163   \n",
       "4    YAL019W  FUN30     1132         457          539   \n",
       "..       ...    ...      ...         ...          ...   \n",
       "778  YPR163C   TIF3      437         379          433   \n",
       "779  YPR169W   JIP5      493         434          491   \n",
       "780  YPR179C   HDA3      656         512          577   \n",
       "781  YPR186C   PZF1      430         370          411   \n",
       "782  YPR189W   SKI3     1433         340          413   \n",
       "\n",
       "                                            region.seq  region.len  \\\n",
       "0    MPAVLRTRSKESSIEQKPASRTRTRSRRGKRGRDDDDDDDDEESDD...          55   \n",
       "1    RLFILKNDKIEQKWQDEQELKKKEKELKRKNDAEAKRLRMEERKRQ...          97   \n",
       "2    KTAATEPEPKKADDENAEKQQSKEAKTTAESTQVDVKKEEEDVKEK...          64   \n",
       "3    TLTESLKRPHEDEKEAIDEAKKMKVPGENEDESKEEEKSQELEEAI...          83   \n",
       "4    PAPAPVERETKRIRNTTKPKVVEDEDDDVDLEAIDDELPQSEHEDD...          83   \n",
       "..                                                 ...         ...   \n",
       "778  SVYDVLRTEDDDEDEEAEKQNGDAKENKVDAAVEKLQDKTAQLTVE...          55   \n",
       "779  LVGLSKEELLDELDKDLKEDHQEEKESNSKSVKKRKIMKENNKKKD...          58   \n",
       "780  GETLSKLKDAFVKTDNVQDEIEKEERVSVSRDTEKKYMEQEIKRAV...          66   \n",
       "781         NCSRTFKTKEKYEKHIDKHKVHELKLKILQEKEENKTLVDQN          42   \n",
       "782  NKPPEGHKKTEKETDIKDVDETNEDEVKDRVEDEVKDRVEDEVKDQ...          74   \n",
       "\n",
       "     charge.asymmetry  frac.charge    kappa1    kappa2  uni_id orf_label  \\\n",
       "0            0.015674     0.527273  0.297167  0.616928  P31376  verified   \n",
       "1            0.050753     0.536082  0.051716  0.110243  P31376  verified   \n",
       "2            0.007812     0.500000  0.044964  0.096912  P31376  verified   \n",
       "3            0.141633     0.542169  0.093375  0.239955  P31385  verified   \n",
       "4            0.267765     0.590361  0.175213  0.534439  P31380  verified   \n",
       "..                ...          ...       ...       ...     ...       ...   \n",
       "778          0.122909     0.454545  0.115449  0.366767  P34167  verified   \n",
       "779          0.000556     0.534483  0.111450  0.219531  Q06214  verified   \n",
       "780          0.012219     0.469697  0.045506  0.106750  Q06623  verified   \n",
       "781          0.011278     0.452381  0.031155  0.081428  P39933  verified   \n",
       "782          0.158859     0.608108  0.088979  0.210191  P17883  verified   \n",
       "\n",
       "          label    lr_label  \n",
       "0    disordered  disordered  \n",
       "1         helix       helix  \n",
       "2    disordered  disordered  \n",
       "3    disordered  disordered  \n",
       "4    disordered  disordered  \n",
       "..          ...         ...  \n",
       "778  disordered  disordered  \n",
       "779  disordered  disordered  \n",
       "780       helix  disordered  \n",
       "781       helix       helix  \n",
       "782  disordered  disordered  \n",
       "\n",
       "[783 rows x 15 columns]"
      ]
     },
     "execution_count": 54,
     "metadata": {},
     "output_type": "execute_result"
    }
   ],
   "source": [
    "df_hc.drop(columns=featurecol)"
   ]
  },
  {
   "cell_type": "markdown",
   "metadata": {},
   "source": [
    "## Confusion matrices summary figure"
   ]
  },
  {
   "cell_type": "code",
   "execution_count": 55,
   "metadata": {},
   "outputs": [],
   "source": [
    "uv_all = pd.read_csv('../../data/uversky/uversky_all.csv')\n",
    "uv_rd = pd.read_csv('../../data/uversky/uversky_random.csv')\n",
    "uv_hc = pd.read_csv('../../data/uversky/uversky_hc.csv')\n",
    "df_uv = [uv_all, uv_rd, uv_hc]"
   ]
  },
  {
   "cell_type": "code",
   "execution_count": 56,
   "metadata": {},
   "outputs": [],
   "source": [
    "cnf_uv_all = np.array([[0, 0], [0, 0]])\n",
    "cnf_uv_rd = np.array([[0, 0], [0, 0]])\n",
    "cnf_uv_hc = np.array([[0, 0], [0, 0]])\n",
    "cnf_uv = [cnf_uv_all, cnf_uv_rd, cnf_uv_hc]"
   ]
  },
  {
   "cell_type": "code",
   "execution_count": 57,
   "metadata": {},
   "outputs": [],
   "source": [
    "for i in range(3):\n",
    "    df = df_uv[i]\n",
    "    cnf = cnf_uv[i]\n",
    "    cnf[0, 0] = len(df[(df.label == 'disordered') & (df.uversky_pred == 'disordered')])\n",
    "    cnf[0, 1] = len(df[(df.label == 'disordered') & (df.uversky_pred == 'helix')])\n",
    "    cnf[1, 0] = len(df[(df.label == 'helix') & (df.uversky_pred == 'disordered')])\n",
    "    cnf[1, 1] = len(df[(df.label == 'helix') & (df.uversky_pred == 'helix')])"
   ]
  },
  {
   "cell_type": "code",
   "execution_count": 58,
   "metadata": {},
   "outputs": [],
   "source": [
    "sample_size = []\n",
    "for df in df_uv:\n",
    "    sample_size.append(len(df))"
   ]
  },
  {
   "cell_type": "code",
   "execution_count": 59,
   "metadata": {},
   "outputs": [],
   "source": [
    "def get_cnf_freq(cnf_mat):\n",
    "    cnf_freq = cnf_mat / cnf_mat.sum(axis=1)[:, np.newaxis]\n",
    "    return cnf_freq"
   ]
  },
  {
   "cell_type": "code",
   "execution_count": 60,
   "metadata": {},
   "outputs": [],
   "source": [
    "titles = ['All regions\\nlabelled under\\nstringent conditions',\n",
    "          'Random regions\\nlabelled under\\nrelaxed conditions',\n",
    "          'Highly charged regions\\nlabelled under\\nrelaxed conditions']\n",
    "for i, title in enumerate(titles):\n",
    "    titles[i] = title + '\\nn = ' + str(sample_size[i])"
   ]
  },
  {
   "cell_type": "code",
   "execution_count": 61,
   "metadata": {},
   "outputs": [],
   "source": [
    "cnf_matrices = [cnf_all, cnf_rd, cnf_hc] + cnf_uv"
   ]
  },
  {
   "cell_type": "code",
   "execution_count": 62,
   "metadata": {},
   "outputs": [
    {
     "ename": "NameError",
     "evalue": "name 'ss' is not defined",
     "output_type": "error",
     "traceback": [
      "\u001b[0;31m---------------------------------------------------------------------------\u001b[0m",
      "\u001b[0;31mNameError\u001b[0m                                 Traceback (most recent call last)",
      "\u001b[0;32m<ipython-input-62-6365bdbddb5a>\u001b[0m in \u001b[0;36m<module>\u001b[0;34m\u001b[0m\n\u001b[1;32m      7\u001b[0m     \u001b[0mrv\u001b[0m\u001b[0;34m[\u001b[0m\u001b[0;34m'FN'\u001b[0m\u001b[0;34m]\u001b[0m \u001b[0;34m=\u001b[0m \u001b[0mmat\u001b[0m\u001b[0;34m[\u001b[0m\u001b[0;36m1\u001b[0m\u001b[0;34m]\u001b[0m\u001b[0;34m[\u001b[0m\u001b[0;36m0\u001b[0m\u001b[0;34m]\u001b[0m\u001b[0;34m\u001b[0m\u001b[0;34m\u001b[0m\u001b[0m\n\u001b[1;32m      8\u001b[0m     \u001b[0mrv\u001b[0m\u001b[0;34m[\u001b[0m\u001b[0;34m'TP'\u001b[0m\u001b[0;34m]\u001b[0m \u001b[0;34m=\u001b[0m \u001b[0mmat\u001b[0m\u001b[0;34m[\u001b[0m\u001b[0;36m1\u001b[0m\u001b[0;34m]\u001b[0m\u001b[0;34m[\u001b[0m\u001b[0;36m1\u001b[0m\u001b[0;34m]\u001b[0m\u001b[0;34m\u001b[0m\u001b[0;34m\u001b[0m\u001b[0m\n\u001b[0;32m----> 9\u001b[0;31m     \u001b[0mrv\u001b[0m\u001b[0;34m[\u001b[0m\u001b[0;34m'n'\u001b[0m\u001b[0;34m]\u001b[0m \u001b[0;34m=\u001b[0m \u001b[0mss\u001b[0m\u001b[0;34m[\u001b[0m\u001b[0mi\u001b[0m\u001b[0;34m]\u001b[0m\u001b[0;34m\u001b[0m\u001b[0;34m\u001b[0m\u001b[0m\n\u001b[0m\u001b[1;32m     10\u001b[0m     \u001b[0mcnf_df\u001b[0m \u001b[0;34m=\u001b[0m \u001b[0mcnf_df\u001b[0m\u001b[0;34m.\u001b[0m\u001b[0mappend\u001b[0m\u001b[0;34m(\u001b[0m\u001b[0mrv\u001b[0m\u001b[0;34m,\u001b[0m \u001b[0mignore_index\u001b[0m\u001b[0;34m=\u001b[0m\u001b[0;32mTrue\u001b[0m\u001b[0;34m)\u001b[0m\u001b[0;34m\u001b[0m\u001b[0;34m\u001b[0m\u001b[0m\n\u001b[1;32m     11\u001b[0m     \u001b[0mi\u001b[0m \u001b[0;34m+=\u001b[0m \u001b[0;36m1\u001b[0m\u001b[0;34m\u001b[0m\u001b[0;34m\u001b[0m\u001b[0m\n",
      "\u001b[0;31mNameError\u001b[0m: name 'ss' is not defined"
     ]
    }
   ],
   "source": [
    "cnf_df = pd.DataFrame(columns={'TN', 'FP', 'FN', 'TP', 'n'})\n",
    "i = 0\n",
    "for mat in cnf_matrices:\n",
    "    rv = {}\n",
    "    rv['TN'] = mat[0][0]\n",
    "    rv['FP'] = mat[0][1]\n",
    "    rv['FN'] = mat[1][0]\n",
    "    rv['TP'] = mat[1][1]\n",
    "    rv['n'] = ss[i]\n",
    "    cnf_df = cnf_df.append(rv, ignore_index=True)\n",
    "    i += 1"
   ]
  },
  {
   "cell_type": "code",
   "execution_count": null,
   "metadata": {},
   "outputs": [],
   "source": [
    "#cnf_df.to_csv('../../misc/cp_cnf_matrices.csv', index=False)"
   ]
  },
  {
   "cell_type": "code",
   "execution_count": null,
   "metadata": {},
   "outputs": [],
   "source": [
    "fig, axes = plt.subplots(2,3, figsize=(7, 4.5))\n",
    "cbar_ax = fig.add_axes([1, .25, .03, .45])\n",
    "\n",
    "for i, ax in enumerate(axes.flat):\n",
    "    g = sns.heatmap(pd.DataFrame(get_cnf_freq(cnf_matrices[i])), ax=ax,\n",
    "                    square=True, annot=True, fmt=\".2\",\n",
    "                    xticklabels=['', ''], yticklabels=['', ''],\n",
    "                    cmap=\"YlGnBu\", cbar= (i == 0),\n",
    "                    vmin=0, vmax=1,\n",
    "                    cbar_ax=None if i else cbar_ax)\n",
    "    g.tick_params(left=False, bottom=False)\n",
    "    if i < 3:\n",
    "        g.set_title(titles[i], y=1.2)\n",
    "    #ax.title.set_position([.5, 0.8])\n",
    "    if i == 0:\n",
    "        ax.set_ylabel('Classified using\\nlog reg model', fontsize=12)\n",
    "        ax.yaxis.labelpad = 5\n",
    "    elif i == 3:\n",
    "        ax.set_ylabel('Classified using\\nUversky plot', fontsize=12)\n",
    "        ax.yaxis.labelpad = 5\n",
    "    bottom, top = ax.get_ylim()\n",
    "    ax.set_ylim(bottom + 0.5, top - 0.5)\n",
    "\n",
    "plt.tight_layout()"
   ]
  },
  {
   "cell_type": "markdown",
   "metadata": {},
   "source": [
    "## Summary plot for accuracy score"
   ]
  },
  {
   "cell_type": "code",
   "execution_count": null,
   "metadata": {},
   "outputs": [],
   "source": [
    "l_acc = []\n",
    "for i in range(6):\n",
    "    cnf = cnf_matrices[i]\n",
    "    accuracy = (cnf[0, 0] + cnf[1, 1]) / np.sum(cnf)\n",
    "    l_acc.append(accuracy)"
   ]
  },
  {
   "cell_type": "code",
   "execution_count": null,
   "metadata": {},
   "outputs": [],
   "source": [
    "ticks = ['Using LR model\\nto classify all regions',\n",
    "         'Using LR model\\nto classify random regions',\n",
    "         'Using LR model\\nto classify highly charged regions',\n",
    "         'Using Uverskey plot\\nto classify all regions',\n",
    "         'Using Uverskey plot\\nto classify random regions',\n",
    "         'Using Uverskey plot\\nto classify highly charged regions']"
   ]
  },
  {
   "cell_type": "code",
   "execution_count": null,
   "metadata": {},
   "outputs": [],
   "source": [
    "fig, ax = plt.subplots(figsize=(3,5))\n",
    "ax = sns.barplot(y=ticks, x=l_acc,\n",
    "                 palette=['royalblue', 'royalblue', 'royalblue', 'salmon', 'salmon', 'salmon'])\n",
    "ax.set_xticklabels([0, 0.2, 0.4, 0.6, 0.8, 1])\n",
    "ax.set_xlim(0, 1)\n",
    "ax.set_xlabel('Accuracy of classification')\n",
    "plt.show()"
   ]
  },
  {
   "cell_type": "code",
   "execution_count": null,
   "metadata": {},
   "outputs": [],
   "source": [
    "sc_acc = np.mean(l_acc[:3])\n",
    "sc_acc"
   ]
  },
  {
   "cell_type": "markdown",
   "metadata": {},
   "source": [
    "## Using model trained on all AF output to classify pombe regions"
   ]
  },
  {
   "cell_type": "code",
   "execution_count": null,
   "metadata": {},
   "outputs": [],
   "source": [
    "df_pombe = pd.read_csv('../../data/af_regions/pombe_af_regions.csv')"
   ]
  },
  {
   "cell_type": "code",
   "execution_count": null,
   "metadata": {},
   "outputs": [],
   "source": [
    "def append_percent_aa(row, aa):\n",
    "    seq = row['region_seq']\n",
    "    return get_aa_freq(seq, aa)"
   ]
  },
  {
   "cell_type": "code",
   "execution_count": null,
   "metadata": {},
   "outputs": [],
   "source": [
    "for aa in states:\n",
    "    df_pombe['freq_'+aa] = df_pombe.apply(lambda row: append_percent_aa(row, aa), axis=1)"
   ]
  },
  {
   "cell_type": "code",
   "execution_count": null,
   "metadata": {},
   "outputs": [],
   "source": [
    "featurecol = []\n",
    "for aa in states:\n",
    "    featurecol.append('freq_'+aa)"
   ]
  },
  {
   "cell_type": "code",
   "execution_count": null,
   "metadata": {},
   "outputs": [],
   "source": [
    "X_p = df_pombe[featurecol]\n",
    "y_p = df_pombe['label']"
   ]
  },
  {
   "cell_type": "code",
   "execution_count": null,
   "metadata": {},
   "outputs": [],
   "source": [
    "y_pred_p = logreg.predict(X_p)\n",
    "cnf_matrix_p = metrics.confusion_matrix(y_p, y_pred_p)\n",
    "accuracy = metrics.accuracy_score(y_p, y_pred_p)"
   ]
  },
  {
   "cell_type": "code",
   "execution_count": null,
   "metadata": {},
   "outputs": [],
   "source": [
    "cnf_freq_p = cnf_matrix_p / cnf_matrix_p.sum(axis=1)[:, np.newaxis]\n",
    "cnf_freq_p"
   ]
  },
  {
   "cell_type": "code",
   "execution_count": null,
   "metadata": {},
   "outputs": [],
   "source": [
    "accuracy"
   ]
  },
  {
   "cell_type": "code",
   "execution_count": null,
   "metadata": {},
   "outputs": [],
   "source": [
    "d_acc['pombe'] = accuracy"
   ]
  },
  {
   "cell_type": "markdown",
   "metadata": {},
   "source": [
    "## Using model trained on all AF output to classify human regions"
   ]
  },
  {
   "cell_type": "code",
   "execution_count": null,
   "metadata": {},
   "outputs": [],
   "source": [
    "df_hs = pd.read_csv('../../data/af_regions/hsapiens_af_regions.csv')"
   ]
  },
  {
   "cell_type": "code",
   "execution_count": null,
   "metadata": {},
   "outputs": [],
   "source": [
    "def append_percent_aa(row, aa):\n",
    "    seq = row['region_seq']\n",
    "    return get_aa_freq(seq, aa)"
   ]
  },
  {
   "cell_type": "code",
   "execution_count": null,
   "metadata": {},
   "outputs": [],
   "source": [
    "for aa in states:\n",
    "    df_hs['freq_'+aa] = df_hs.apply(lambda row: append_percent_aa(row, aa), axis=1)"
   ]
  },
  {
   "cell_type": "code",
   "execution_count": null,
   "metadata": {},
   "outputs": [],
   "source": [
    "featurecol = []\n",
    "for aa in states:\n",
    "    featurecol.append('freq_'+aa)"
   ]
  },
  {
   "cell_type": "code",
   "execution_count": null,
   "metadata": {},
   "outputs": [],
   "source": [
    "X_h = df_hs[featurecol]\n",
    "y_h = df_hs['label']"
   ]
  },
  {
   "cell_type": "code",
   "execution_count": null,
   "metadata": {},
   "outputs": [],
   "source": [
    "y_pred_h = logreg.predict(X_h)\n",
    "cnf_matrix_h = metrics.confusion_matrix(y_h, y_pred_h)\n",
    "accuracy = metrics.accuracy_score(y_h, y_pred_h)"
   ]
  },
  {
   "cell_type": "code",
   "execution_count": null,
   "metadata": {},
   "outputs": [],
   "source": [
    "accuracy"
   ]
  },
  {
   "cell_type": "code",
   "execution_count": null,
   "metadata": {},
   "outputs": [],
   "source": [
    "d_acc['human'] = accuracy"
   ]
  },
  {
   "cell_type": "markdown",
   "metadata": {},
   "source": [
    "## Using model trained on all AF output to classify c elegans regions"
   ]
  },
  {
   "cell_type": "code",
   "execution_count": 63,
   "metadata": {},
   "outputs": [],
   "source": [
    "df_ce = pd.read_csv('../../data/af_regions/celegans_af_regions.csv')"
   ]
  },
  {
   "cell_type": "code",
   "execution_count": 64,
   "metadata": {},
   "outputs": [],
   "source": [
    "def append_percent_aa(row, aa):\n",
    "    seq = row['region_seq']\n",
    "    return get_aa_freq(seq, aa)"
   ]
  },
  {
   "cell_type": "code",
   "execution_count": 67,
   "metadata": {},
   "outputs": [],
   "source": [
    "for aa in states:\n",
    "    df_ce['freq_'+aa] = df_ce.apply(lambda row: append_percent_aa(row, aa), axis=1)"
   ]
  },
  {
   "cell_type": "code",
   "execution_count": 66,
   "metadata": {},
   "outputs": [],
   "source": [
    "featurecol = []\n",
    "for aa in states:\n",
    "    featurecol.append('freq_'+aa)"
   ]
  },
  {
   "cell_type": "code",
   "execution_count": 68,
   "metadata": {},
   "outputs": [],
   "source": [
    "X_h = df_ce[featurecol]\n",
    "y_h = df_ce['label']"
   ]
  },
  {
   "cell_type": "code",
   "execution_count": 69,
   "metadata": {},
   "outputs": [],
   "source": [
    "y_pred_h = logreg.predict(X_h)\n",
    "cnf_matrix_h = metrics.confusion_matrix(y_h, y_pred_h)\n",
    "accuracy = metrics.accuracy_score(y_h, y_pred_h)"
   ]
  },
  {
   "cell_type": "code",
   "execution_count": 70,
   "metadata": {},
   "outputs": [
    {
     "data": {
      "text/plain": [
       "0.9142884449966548"
      ]
     },
     "execution_count": 70,
     "metadata": {},
     "output_type": "execute_result"
    }
   ],
   "source": [
    "accuracy"
   ]
  },
  {
   "cell_type": "code",
   "execution_count": 71,
   "metadata": {},
   "outputs": [],
   "source": [
    "d_acc['celegans'] = accuracy"
   ]
  },
  {
   "cell_type": "markdown",
   "metadata": {},
   "source": [
    "## Summary figure for accuracy"
   ]
  },
  {
   "cell_type": "code",
   "execution_count": 72,
   "metadata": {},
   "outputs": [
    {
     "data": {
      "text/plain": [
       "{'sc_top5': 0.8965014577259475,\n",
       " 'sc_onlyP': 0.7468415937803693,\n",
       " 'sc_onlyPG': 0.7560738581146744,\n",
       " 'sc_onlyG': 0.5930515063168125,\n",
       " 'celegans': 0.9142884449966548}"
      ]
     },
     "execution_count": 72,
     "metadata": {},
     "output_type": "execute_result"
    }
   ],
   "source": [
    "d_acc"
   ]
  },
  {
   "cell_type": "code",
   "execution_count": 81,
   "metadata": {},
   "outputs": [
    {
     "data": {
      "image/png": "[encoded data removed]",
      "text/plain": [
       "<Figure size 216x324 with 1 Axes>"
      ]
     },
     "metadata": {
      "needs_background": "light"
     },
     "output_type": "display_data"
    }
   ],
   "source": [
    "fig, ax = plt.subplots(figsize=(3,4.5))\n",
    "keys = list(d_acc.keys())\n",
    "vals = [d_acc[k] for k in keys]\n",
    "ax = sns.barplot(y=keys, x=vals, palette=\"hls\")\n",
    "ax.set_yticklabels(['Using P, L, S, I, N', 'Using only P', 'Using P and G',\n",
    "                    'Classifying S. pombe\\nregions using\\nS. cerevisiae model',\n",
    "                    'Classifying H. sapiens\\nregions using\\nS. cerevisiae model'])\n",
    "ax.set_xlabel('Accuracy of classification', fontsize=12)\n",
    "ax.set_xlim(0, 1)\n",
    "plt.axvline(sc_acc, color='black', linestyle='dashed')\n",
    "plt.legend([Line2D([0], [0], color='black', lw=2, ls='dashed')],\n",
    "           ['Average accuracy\\nfor S. cerevisiae\\nregions using model\\ntrained on all AAs'],\n",
    "          bbox_to_anchor=(1.05, 0.62), frameon=False)\n",
    "plt.show()"
   ]
  },
  {
   "cell_type": "markdown",
   "metadata": {},
   "source": [
    "## Special cases"
   ]
  },
  {
   "cell_type": "code",
   "execution_count": 15,
   "metadata": {},
   "outputs": [],
   "source": [
    "def classify(seq, states, model):\n",
    "    featurecol = []\n",
    "    for aa in states:\n",
    "        featurecol.append('freq_'+aa)\n",
    "    df = pd.DataFrame(columns=featurecol)\n",
    "    rv = {}\n",
    "    for aa in states:\n",
    "        rv['freq_'+aa] = get_aa_freq(seq, aa)\n",
    "    df = df.append(rv, ignore_index=True)\n",
    "    return logreg.predict(df)[0], logreg.predict_proba(df)"
   ]
  },
  {
   "cell_type": "code",
   "execution_count": 16,
   "metadata": {},
   "outputs": [],
   "source": [
    "seq = 'EEEEKKKKEEEEKKKKEEEEKKKK'"
   ]
  },
  {
   "cell_type": "code",
   "execution_count": 17,
   "metadata": {},
   "outputs": [
    {
     "data": {
      "text/plain": [
       "('helix', array([[0.45846665, 0.54153335]]))"
      ]
     },
     "execution_count": 17,
     "metadata": {},
     "output_type": "execute_result"
    }
   ],
   "source": [
    "classify(seq, states, logreg)"
   ]
  },
  {
   "cell_type": "code",
   "execution_count": null,
   "metadata": {},
   "outputs": [],
   "source": []
  }
 ],
 "metadata": {
  "kernelspec": {
   "display_name": "Python 3.8.9 64-bit",
   "language": "python",
   "name": "python3"
  },
  "language_info": {
   "codemirror_mode": {
    "name": "ipython",
    "version": 3
   },
   "file_extension": ".py",
   "mimetype": "text/x-python",
   "name": "python",
   "nbconvert_exporter": "python",
   "pygments_lexer": "ipython3",
   "version": "3.8.9"
  },
  "vscode": {
   "interpreter": {
    "hash": "31f2aee4e71d21fbe5cf8b01ff0e069b9275f58929596ceb00d14d90e3e16cd6"
   }
  }
 },
 "nbformat": 4,
 "nbformat_minor": 2
}
