{
 "cells": [
  {
   "cell_type": "code",
   "execution_count": 1,
   "metadata": {},
   "outputs": [],
   "source": [
    "import sys\n",
    "sys.path.insert(1, '../../code/scripts')"
   ]
  },
  {
   "cell_type": "code",
   "execution_count": 2,
   "metadata": {},
   "outputs": [],
   "source": [
    "# analysis\n",
    "import numpy as np\n",
    "from scipy.stats import mannwhitneyu\n",
    "import pandas as pd\n",
    "import tempparse as paf\n",
    "\n",
    "# plotting\n",
    "import matplotlib.pyplot as plt\n",
    "import seaborn as sns\n",
    "plt.rcParams.update({'font.size': 14})\n",
    "plt.rcParams['font.family'] = 'sans-serif'\n",
    "plt.rcParams['font.sans-serif'] = \"Arial\""
   ]
  },
  {
   "cell_type": "code",
   "execution_count": 3,
   "metadata": {},
   "outputs": [],
   "source": [
    "import warnings\n",
    "warnings.filterwarnings('ignore')"
   ]
  },
  {
   "cell_type": "markdown",
   "metadata": {},
   "source": [
    "## Setting up"
   ]
  },
  {
   "cell_type": "code",
   "execution_count": 4,
   "metadata": {},
   "outputs": [],
   "source": [
    "# Calculate scaled hydropathy\n",
    "kd_scale = {\"A\": 1.8, \"R\": -4.5, \"N\": -3.5, \"D\": -3.5, \"C\": 2.5, \"E\": -3.5,\n",
    "                      \"Q\": -3.5, \"G\": -0.4, \"H\": -3.2, \"I\": 4.5, \"L\": 3.8, \"K\": -3.9,\n",
    "                      \"M\": 1.9, \"F\": 2.8, \"P\": -1.6, \"S\": -0.8, \"T\": -0.7, \"W\": -0.9,\n",
    "                      \"Y\": -1.3, \"V\": 4.2}\n",
    "\n",
    "vals = list(kd_scale.values())\n",
    "scaled_vals = [v-np.min(vals) for v in vals]\n",
    "\n",
    "\n",
    "kd_scale_norm = {}\n",
    "for k in kd_scale.keys():\n",
    "    kd_scale_norm[k] = (kd_scale[k] - np.min(vals)) / np.max(scaled_vals)"
   ]
  },
  {
   "cell_type": "code",
   "execution_count": 5,
   "metadata": {},
   "outputs": [],
   "source": [
    "def append_hydropathy(row):\n",
    "    seq = row['region_seq']\n",
    "    return paf.calculate_hydropathy(seq, scale=kd_scale_norm)"
   ]
  },
  {
   "cell_type": "code",
   "execution_count": 6,
   "metadata": {},
   "outputs": [],
   "source": [
    "def append_norm_nc(row):\n",
    "    seq = row['region_seq']\n",
    "    nc = np.abs((seq.count('R') + seq.count('K') - seq.count('E') + seq.count('D'))) / row['len_region']\n",
    "    return nc"
   ]
  },
  {
   "cell_type": "code",
   "execution_count": 7,
   "metadata": {},
   "outputs": [],
   "source": [
    "def append_uversky_pred(row):\n",
    "    norm_hydrop = row['norm_hydrop']\n",
    "    norm_nc = row['norm_nc']\n",
    "    if norm_nc > (2.785 * norm_hydrop - 1.151):\n",
    "        return \"disordered\"\n",
    "    else:\n",
    "        return \"helix\""
   ]
  },
  {
   "cell_type": "code",
   "execution_count": 8,
   "metadata": {},
   "outputs": [],
   "source": [
    "def append_uversky_correctness(row):\n",
    "    if row['label'] == row['uversky_pred']:\n",
    "        return 1\n",
    "    else:\n",
    "        return 0"
   ]
  },
  {
   "cell_type": "markdown",
   "metadata": {},
   "source": [
    "## Test dataset of LR Model"
   ]
  },
  {
   "cell_type": "code",
   "execution_count": 9,
   "metadata": {},
   "outputs": [
    {
     "data": {
      "text/html": [
       "<div>\n",
       "<style scoped>\n",
       "    .dataframe tbody tr th:only-of-type {\n",
       "        vertical-align: middle;\n",
       "    }\n",
       "\n",
       "    .dataframe tbody tr th {\n",
       "        vertical-align: top;\n",
       "    }\n",
       "\n",
       "    .dataframe thead th {\n",
       "        text-align: right;\n",
       "    }\n",
       "</style>\n",
       "<table border=\"1\" class=\"dataframe\">\n",
       "  <thead>\n",
       "    <tr style=\"text-align: right;\">\n",
       "      <th></th>\n",
       "      <th>region_seq</th>\n",
       "      <th>start</th>\n",
       "      <th>end</th>\n",
       "      <th>uni_id</th>\n",
       "      <th>len_region</th>\n",
       "      <th>label</th>\n",
       "      <th>freq_A</th>\n",
       "      <th>freq_C</th>\n",
       "      <th>freq_D</th>\n",
       "      <th>freq_E</th>\n",
       "      <th>...</th>\n",
       "      <th>freq_M</th>\n",
       "      <th>freq_N</th>\n",
       "      <th>freq_P</th>\n",
       "      <th>freq_Q</th>\n",
       "      <th>freq_R</th>\n",
       "      <th>freq_S</th>\n",
       "      <th>freq_T</th>\n",
       "      <th>freq_V</th>\n",
       "      <th>freq_W</th>\n",
       "      <th>freq_Y</th>\n",
       "    </tr>\n",
       "  </thead>\n",
       "  <tbody>\n",
       "    <tr>\n",
       "      <th>0</th>\n",
       "      <td>VHKQKLLNDLTYAFSSSLRKIDEERSTIEKFDNKIN</td>\n",
       "      <td>372</td>\n",
       "      <td>407</td>\n",
       "      <td>P18409</td>\n",
       "      <td>36</td>\n",
       "      <td>helix</td>\n",
       "      <td>0.027778</td>\n",
       "      <td>0.000000</td>\n",
       "      <td>0.083333</td>\n",
       "      <td>0.083333</td>\n",
       "      <td>...</td>\n",
       "      <td>0.000000</td>\n",
       "      <td>0.083333</td>\n",
       "      <td>0.000000</td>\n",
       "      <td>0.027778</td>\n",
       "      <td>0.055556</td>\n",
       "      <td>0.111111</td>\n",
       "      <td>0.055556</td>\n",
       "      <td>0.027778</td>\n",
       "      <td>0.000000</td>\n",
       "      <td>0.027778</td>\n",
       "    </tr>\n",
       "    <tr>\n",
       "      <th>1</th>\n",
       "      <td>DKIEQKWQDEQELKKKEKELKRKNDAEAKRLRMEERKRQQMQKKIA...</td>\n",
       "      <td>176</td>\n",
       "      <td>249</td>\n",
       "      <td>P31376</td>\n",
       "      <td>74</td>\n",
       "      <td>helix</td>\n",
       "      <td>0.067568</td>\n",
       "      <td>0.000000</td>\n",
       "      <td>0.040541</td>\n",
       "      <td>0.175676</td>\n",
       "      <td>...</td>\n",
       "      <td>0.027027</td>\n",
       "      <td>0.027027</td>\n",
       "      <td>0.000000</td>\n",
       "      <td>0.148649</td>\n",
       "      <td>0.081081</td>\n",
       "      <td>0.000000</td>\n",
       "      <td>0.000000</td>\n",
       "      <td>0.000000</td>\n",
       "      <td>0.013514</td>\n",
       "      <td>0.000000</td>\n",
       "    </tr>\n",
       "    <tr>\n",
       "      <th>2</th>\n",
       "      <td>PIEMEEQRMTALKEITDIEYKFAQLRQKLYDNQLVRLQTELQMCLE</td>\n",
       "      <td>171</td>\n",
       "      <td>216</td>\n",
       "      <td>P31385</td>\n",
       "      <td>46</td>\n",
       "      <td>helix</td>\n",
       "      <td>0.043478</td>\n",
       "      <td>0.021739</td>\n",
       "      <td>0.043478</td>\n",
       "      <td>0.152174</td>\n",
       "      <td>...</td>\n",
       "      <td>0.065217</td>\n",
       "      <td>0.021739</td>\n",
       "      <td>0.021739</td>\n",
       "      <td>0.130435</td>\n",
       "      <td>0.065217</td>\n",
       "      <td>0.000000</td>\n",
       "      <td>0.065217</td>\n",
       "      <td>0.021739</td>\n",
       "      <td>0.000000</td>\n",
       "      <td>0.043478</td>\n",
       "    </tr>\n",
       "    <tr>\n",
       "      <th>3</th>\n",
       "      <td>YSIREAAVNNLKRLTEIFGSDWCRDEIISRLL</td>\n",
       "      <td>490</td>\n",
       "      <td>521</td>\n",
       "      <td>P31383</td>\n",
       "      <td>32</td>\n",
       "      <td>helix</td>\n",
       "      <td>0.062500</td>\n",
       "      <td>0.031250</td>\n",
       "      <td>0.062500</td>\n",
       "      <td>0.093750</td>\n",
       "      <td>...</td>\n",
       "      <td>0.000000</td>\n",
       "      <td>0.062500</td>\n",
       "      <td>0.000000</td>\n",
       "      <td>0.000000</td>\n",
       "      <td>0.125000</td>\n",
       "      <td>0.093750</td>\n",
       "      <td>0.031250</td>\n",
       "      <td>0.031250</td>\n",
       "      <td>0.031250</td>\n",
       "      <td>0.031250</td>\n",
       "    </tr>\n",
       "    <tr>\n",
       "      <th>4</th>\n",
       "      <td>FNQYLDKVYKKHFSKVMSRTRYVLMNFFKDAFTGGAFMYPFKGFLEFNT</td>\n",
       "      <td>34</td>\n",
       "      <td>82</td>\n",
       "      <td>P31379</td>\n",
       "      <td>49</td>\n",
       "      <td>helix</td>\n",
       "      <td>0.040816</td>\n",
       "      <td>0.000000</td>\n",
       "      <td>0.040816</td>\n",
       "      <td>0.020408</td>\n",
       "      <td>...</td>\n",
       "      <td>0.061224</td>\n",
       "      <td>0.061224</td>\n",
       "      <td>0.020408</td>\n",
       "      <td>0.020408</td>\n",
       "      <td>0.040816</td>\n",
       "      <td>0.040816</td>\n",
       "      <td>0.061224</td>\n",
       "      <td>0.061224</td>\n",
       "      <td>0.000000</td>\n",
       "      <td>0.081633</td>\n",
       "    </tr>\n",
       "  </tbody>\n",
       "</table>\n",
       "<p>5 rows × 26 columns</p>\n",
       "</div>"
      ],
      "text/plain": [
       "                                          region_seq  start  end  uni_id  \\\n",
       "0               VHKQKLLNDLTYAFSSSLRKIDEERSTIEKFDNKIN    372  407  P18409   \n",
       "1  DKIEQKWQDEQELKKKEKELKRKNDAEAKRLRMEERKRQQMQKKIA...    176  249  P31376   \n",
       "2     PIEMEEQRMTALKEITDIEYKFAQLRQKLYDNQLVRLQTELQMCLE    171  216  P31385   \n",
       "3                   YSIREAAVNNLKRLTEIFGSDWCRDEIISRLL    490  521  P31383   \n",
       "4  FNQYLDKVYKKHFSKVMSRTRYVLMNFFKDAFTGGAFMYPFKGFLEFNT     34   82  P31379   \n",
       "\n",
       "   len_region  label    freq_A    freq_C    freq_D    freq_E  ...    freq_M  \\\n",
       "0          36  helix  0.027778  0.000000  0.083333  0.083333  ...  0.000000   \n",
       "1          74  helix  0.067568  0.000000  0.040541  0.175676  ...  0.027027   \n",
       "2          46  helix  0.043478  0.021739  0.043478  0.152174  ...  0.065217   \n",
       "3          32  helix  0.062500  0.031250  0.062500  0.093750  ...  0.000000   \n",
       "4          49  helix  0.040816  0.000000  0.040816  0.020408  ...  0.061224   \n",
       "\n",
       "     freq_N    freq_P    freq_Q    freq_R    freq_S    freq_T    freq_V  \\\n",
       "0  0.083333  0.000000  0.027778  0.055556  0.111111  0.055556  0.027778   \n",
       "1  0.027027  0.000000  0.148649  0.081081  0.000000  0.000000  0.000000   \n",
       "2  0.021739  0.021739  0.130435  0.065217  0.000000  0.065217  0.021739   \n",
       "3  0.062500  0.000000  0.000000  0.125000  0.093750  0.031250  0.031250   \n",
       "4  0.061224  0.020408  0.020408  0.040816  0.040816  0.061224  0.061224   \n",
       "\n",
       "     freq_W    freq_Y  \n",
       "0  0.000000  0.027778  \n",
       "1  0.013514  0.000000  \n",
       "2  0.000000  0.043478  \n",
       "3  0.031250  0.031250  \n",
       "4  0.000000  0.081633  \n",
       "\n",
       "[5 rows x 26 columns]"
      ]
     },
     "execution_count": 9,
     "metadata": {},
     "output_type": "execute_result"
    }
   ],
   "source": [
    "df = pd.read_csv('../../data/af_regions/sc_af_regions_testing.csv')\n",
    "df.head()"
   ]
  },
  {
   "cell_type": "code",
   "execution_count": 10,
   "metadata": {},
   "outputs": [],
   "source": [
    "df['norm_hydrop'] = df.apply(lambda row: append_hydropathy(row), axis=1)\n",
    "df['norm_nc'] = df.apply(lambda row: append_norm_nc(row), axis=1)\n",
    "df['uversky_pred'] = df.apply(lambda row: append_uversky_pred(row), axis=1)\n",
    "df['uversky_correctness'] = df.apply(lambda row:append_uversky_correctness(row), axis=1)"
   ]
  },
  {
   "cell_type": "code",
   "execution_count": 11,
   "metadata": {},
   "outputs": [],
   "source": [
    "df.to_csv('../../data/uversky/uversky_all.csv', index=False)"
   ]
  },
  {
   "cell_type": "code",
   "execution_count": 12,
   "metadata": {},
   "outputs": [],
   "source": [
    "df = df.sort_values(by='label', ascending=False)"
   ]
  },
  {
   "cell_type": "markdown",
   "metadata": {},
   "source": [
    "## Random non-highly-charged regions"
   ]
  },
  {
   "cell_type": "code",
   "execution_count": 13,
   "metadata": {},
   "outputs": [
    {
     "data": {
      "text/html": [
       "<div>\n",
       "<style scoped>\n",
       "    .dataframe tbody tr th:only-of-type {\n",
       "        vertical-align: middle;\n",
       "    }\n",
       "\n",
       "    .dataframe tbody tr th {\n",
       "        vertical-align: top;\n",
       "    }\n",
       "\n",
       "    .dataframe thead th {\n",
       "        text-align: right;\n",
       "    }\n",
       "</style>\n",
       "<table border=\"1\" class=\"dataframe\">\n",
       "  <thead>\n",
       "    <tr style=\"text-align: right;\">\n",
       "      <th></th>\n",
       "      <th>uni_id</th>\n",
       "      <th>seq</th>\n",
       "      <th>left_bound</th>\n",
       "      <th>right_bound</th>\n",
       "      <th>label</th>\n",
       "    </tr>\n",
       "  </thead>\n",
       "  <tbody>\n",
       "    <tr>\n",
       "      <th>0</th>\n",
       "      <td>P53258</td>\n",
       "      <td>DSFTPTLTRDEKFRLKYKLPANENILEDTNAEVSFATSIKDGKGHS...</td>\n",
       "      <td>18</td>\n",
       "      <td>73</td>\n",
       "      <td>disordered</td>\n",
       "    </tr>\n",
       "    <tr>\n",
       "      <th>1</th>\n",
       "      <td>P47154</td>\n",
       "      <td>AHEIGHWQKNHIVNMVIFSQLHTFLIFSLFTSIYRNTSFYNTFGFF...</td>\n",
       "      <td>295</td>\n",
       "      <td>392</td>\n",
       "      <td>helix</td>\n",
       "    </tr>\n",
       "    <tr>\n",
       "      <th>2</th>\n",
       "      <td>P46973</td>\n",
       "      <td>LKCYKDAAKHVHKESEQPRAGTEANVEVVNNDKIINSSLAMNKTLK...</td>\n",
       "      <td>29</td>\n",
       "      <td>93</td>\n",
       "      <td>disordered</td>\n",
       "    </tr>\n",
       "    <tr>\n",
       "      <th>3</th>\n",
       "      <td>P32849</td>\n",
       "      <td>ILQLDCFLTSLIFEERNDGESLMKRRRTEGGNKREKDNGNFGRTLT...</td>\n",
       "      <td>279</td>\n",
       "      <td>362</td>\n",
       "      <td>disordered</td>\n",
       "    </tr>\n",
       "    <tr>\n",
       "      <th>4</th>\n",
       "      <td>P49687</td>\n",
       "      <td>LAQSKPSDKEVILKTDGTFGTLSGKDDSIVEEKAYEPDLSDADFEG...</td>\n",
       "      <td>639</td>\n",
       "      <td>722</td>\n",
       "      <td>disordered</td>\n",
       "    </tr>\n",
       "  </tbody>\n",
       "</table>\n",
       "</div>"
      ],
      "text/plain": [
       "   uni_id                                                seq  left_bound  \\\n",
       "0  P53258  DSFTPTLTRDEKFRLKYKLPANENILEDTNAEVSFATSIKDGKGHS...          18   \n",
       "1  P47154  AHEIGHWQKNHIVNMVIFSQLHTFLIFSLFTSIYRNTSFYNTFGFF...         295   \n",
       "2  P46973  LKCYKDAAKHVHKESEQPRAGTEANVEVVNNDKIINSSLAMNKTLK...          29   \n",
       "3  P32849  ILQLDCFLTSLIFEERNDGESLMKRRRTEGGNKREKDNGNFGRTLT...         279   \n",
       "4  P49687  LAQSKPSDKEVILKTDGTFGTLSGKDDSIVEEKAYEPDLSDADFEG...         639   \n",
       "\n",
       "   right_bound       label  \n",
       "0           73  disordered  \n",
       "1          392       helix  \n",
       "2           93  disordered  \n",
       "3          362  disordered  \n",
       "4          722  disordered  "
      ]
     },
     "execution_count": 13,
     "metadata": {},
     "output_type": "execute_result"
    }
   ],
   "source": [
    "df_rd = pd.read_csv('../../data/af_regions/random_af_regions_low_thresh.csv')\n",
    "df_rd.head()"
   ]
  },
  {
   "cell_type": "code",
   "execution_count": 14,
   "metadata": {},
   "outputs": [],
   "source": [
    "df_rd = df_rd.rename(columns={'seq': 'region_seq'})"
   ]
  },
  {
   "cell_type": "code",
   "execution_count": 15,
   "metadata": {},
   "outputs": [],
   "source": [
    "def append_region_len(row):\n",
    "    return len(row['region_seq'])"
   ]
  },
  {
   "cell_type": "code",
   "execution_count": 16,
   "metadata": {},
   "outputs": [],
   "source": [
    "df_rd['len_region'] = df_rd.apply(lambda row: append_region_len(row), axis=1)"
   ]
  },
  {
   "cell_type": "code",
   "execution_count": 17,
   "metadata": {},
   "outputs": [],
   "source": [
    "df_rd['norm_hydrop'] = df_rd.apply(lambda row: append_hydropathy(row), axis=1)\n",
    "df_rd['norm_nc'] = df_rd.apply(lambda row: append_norm_nc(row), axis=1)\n",
    "df_rd['uversky_pred'] = df_rd.apply(lambda row: append_uversky_pred(row), axis=1)\n",
    "df_rd['uversky_correctness'] = df_rd.apply(lambda row:append_uversky_correctness(row), axis=1)"
   ]
  },
  {
   "cell_type": "code",
   "execution_count": 18,
   "metadata": {},
   "outputs": [],
   "source": [
    "df_rd.to_csv('../../data/uversky/uversky_random.csv', index=False)"
   ]
  },
  {
   "cell_type": "markdown",
   "metadata": {},
   "source": [
    "## Highly charged regions - trimmed"
   ]
  },
  {
   "cell_type": "code",
   "execution_count": 19,
   "metadata": {},
   "outputs": [
    {
     "data": {
      "text/html": [
       "<div>\n",
       "<style scoped>\n",
       "    .dataframe tbody tr th:only-of-type {\n",
       "        vertical-align: middle;\n",
       "    }\n",
       "\n",
       "    .dataframe tbody tr th {\n",
       "        vertical-align: top;\n",
       "    }\n",
       "\n",
       "    .dataframe thead th {\n",
       "        text-align: right;\n",
       "    }\n",
       "</style>\n",
       "<table border=\"1\" class=\"dataframe\">\n",
       "  <thead>\n",
       "    <tr style=\"text-align: right;\">\n",
       "      <th></th>\n",
       "      <th>orf</th>\n",
       "      <th>gene</th>\n",
       "      <th>seq.len</th>\n",
       "      <th>left.bound</th>\n",
       "      <th>right.bound</th>\n",
       "      <th>region.seq</th>\n",
       "      <th>region.len</th>\n",
       "      <th>charge.asymmetry</th>\n",
       "      <th>frac.charge</th>\n",
       "      <th>uni_id</th>\n",
       "      <th>orf_label</th>\n",
       "      <th>kappa</th>\n",
       "      <th>label</th>\n",
       "    </tr>\n",
       "  </thead>\n",
       "  <tbody>\n",
       "    <tr>\n",
       "      <th>0</th>\n",
       "      <td>YAL011W</td>\n",
       "      <td>SWC3</td>\n",
       "      <td>626</td>\n",
       "      <td>5</td>\n",
       "      <td>53</td>\n",
       "      <td>RTRSKESSIEQKPASRTRTRSRRGKRGRDDDDDDDDEESDDAYDEVGND</td>\n",
       "      <td>49</td>\n",
       "      <td>0.017593</td>\n",
       "      <td>0.591837</td>\n",
       "      <td>P31376</td>\n",
       "      <td>verified</td>\n",
       "      <td>0.539053</td>\n",
       "      <td>disordered</td>\n",
       "    </tr>\n",
       "    <tr>\n",
       "      <th>1</th>\n",
       "      <td>YAL011W</td>\n",
       "      <td>SWC3</td>\n",
       "      <td>626</td>\n",
       "      <td>169</td>\n",
       "      <td>261</td>\n",
       "      <td>RLFILKNDKIEQKWQDEQELKKKEKELKRKNDAEAKRLRMEERKRQ...</td>\n",
       "      <td>93</td>\n",
       "      <td>0.052936</td>\n",
       "      <td>0.559140</td>\n",
       "      <td>P31376</td>\n",
       "      <td>verified</td>\n",
       "      <td>0.098538</td>\n",
       "      <td>helix</td>\n",
       "    </tr>\n",
       "    <tr>\n",
       "      <th>2</th>\n",
       "      <td>YAL011W</td>\n",
       "      <td>SWC3</td>\n",
       "      <td>626</td>\n",
       "      <td>361</td>\n",
       "      <td>424</td>\n",
       "      <td>KTAATEPEPKKADDENAEKQQSKEAKTTAESTQVDVKKEEEDVKEK...</td>\n",
       "      <td>64</td>\n",
       "      <td>0.007812</td>\n",
       "      <td>0.500000</td>\n",
       "      <td>P31376</td>\n",
       "      <td>verified</td>\n",
       "      <td>0.089231</td>\n",
       "      <td>disordered</td>\n",
       "    </tr>\n",
       "    <tr>\n",
       "      <th>3</th>\n",
       "      <td>YAL013W</td>\n",
       "      <td>DEP1</td>\n",
       "      <td>406</td>\n",
       "      <td>84</td>\n",
       "      <td>159</td>\n",
       "      <td>ESLKRPHEDEKEAIDEAKKMKVPGENEDESKEEEKSQELEEAIDSK...</td>\n",
       "      <td>76</td>\n",
       "      <td>0.138444</td>\n",
       "      <td>0.592105</td>\n",
       "      <td>P31385</td>\n",
       "      <td>verified</td>\n",
       "      <td>0.219047</td>\n",
       "      <td>disordered</td>\n",
       "    </tr>\n",
       "    <tr>\n",
       "      <th>4</th>\n",
       "      <td>YAL019W</td>\n",
       "      <td>FUN30</td>\n",
       "      <td>1132</td>\n",
       "      <td>463</td>\n",
       "      <td>538</td>\n",
       "      <td>ERETKRIRNTTKPKVVEDEDDDVDLEAIDDELPQSEHEDDDYEEED...</td>\n",
       "      <td>76</td>\n",
       "      <td>0.269474</td>\n",
       "      <td>0.644737</td>\n",
       "      <td>P31380</td>\n",
       "      <td>verified</td>\n",
       "      <td>0.498598</td>\n",
       "      <td>disordered</td>\n",
       "    </tr>\n",
       "  </tbody>\n",
       "</table>\n",
       "</div>"
      ],
      "text/plain": [
       "       orf   gene  seq.len  left.bound  right.bound  \\\n",
       "0  YAL011W   SWC3      626           5           53   \n",
       "1  YAL011W   SWC3      626         169          261   \n",
       "2  YAL011W   SWC3      626         361          424   \n",
       "3  YAL013W   DEP1      406          84          159   \n",
       "4  YAL019W  FUN30     1132         463          538   \n",
       "\n",
       "                                          region.seq  region.len  \\\n",
       "0  RTRSKESSIEQKPASRTRTRSRRGKRGRDDDDDDDDEESDDAYDEVGND          49   \n",
       "1  RLFILKNDKIEQKWQDEQELKKKEKELKRKNDAEAKRLRMEERKRQ...          93   \n",
       "2  KTAATEPEPKKADDENAEKQQSKEAKTTAESTQVDVKKEEEDVKEK...          64   \n",
       "3  ESLKRPHEDEKEAIDEAKKMKVPGENEDESKEEEKSQELEEAIDSK...          76   \n",
       "4  ERETKRIRNTTKPKVVEDEDDDVDLEAIDDELPQSEHEDDDYEEED...          76   \n",
       "\n",
       "   charge.asymmetry  frac.charge  uni_id orf_label     kappa       label  \n",
       "0          0.017593     0.591837  P31376  verified  0.539053  disordered  \n",
       "1          0.052936     0.559140  P31376  verified  0.098538       helix  \n",
       "2          0.007812     0.500000  P31376  verified  0.089231  disordered  \n",
       "3          0.138444     0.592105  P31385  verified  0.219047  disordered  \n",
       "4          0.269474     0.644737  P31380  verified  0.498598  disordered  "
      ]
     },
     "execution_count": 19,
     "metadata": {},
     "output_type": "execute_result"
    }
   ],
   "source": [
    "df_hc = pd.read_csv('../../data/charged_regions/cr_trimmed_filtered_aflabel.csv')\n",
    "df_hc.head()"
   ]
  },
  {
   "cell_type": "code",
   "execution_count": 20,
   "metadata": {},
   "outputs": [],
   "source": [
    "df_hc = df_hc.rename(columns={'region.seq': 'region_seq', 'region.len': 'len_region'})"
   ]
  },
  {
   "cell_type": "code",
   "execution_count": 21,
   "metadata": {},
   "outputs": [],
   "source": [
    "df_hc['norm_hydrop'] = df_hc.apply(lambda row: append_hydropathy(row), axis=1)\n",
    "df_hc['norm_nc'] = df_hc.apply(lambda row: append_norm_nc(row), axis=1)\n",
    "df_hc['uversky_pred'] = df_hc.apply(lambda row: append_uversky_pred(row), axis=1)\n",
    "df_hc['uversky_correctness'] = df_hc.apply(lambda row:append_uversky_correctness(row), axis=1)"
   ]
  },
  {
   "cell_type": "code",
   "execution_count": 22,
   "metadata": {},
   "outputs": [],
   "source": [
    "df_hc.to_csv('../../data/uversky/uversky_hc_trimmed.csv', index=False)"
   ]
  },
  {
   "cell_type": "markdown",
   "metadata": {},
   "source": [
    "## Accuracy"
   ]
  },
  {
   "cell_type": "code",
   "execution_count": 23,
   "metadata": {},
   "outputs": [],
   "source": [
    "cnf_matrix = np.array([[0, 0], [0, 0]])\n",
    "cnf_matrix[0, 0] = len(df_hc[(df_hc.label == 'disordered') & (df_hc.uversky_pred == 'disordered')])\n",
    "cnf_matrix[0, 1] = len(df_hc[(df_hc.label == 'disordered') & (df_hc.uversky_pred == 'helix')])\n",
    "cnf_matrix[1, 0] = len(df_hc[(df_hc.label == 'helix') & (df_hc.uversky_pred == 'disordered')])\n",
    "cnf_matrix[1, 1] = len(df_hc[(df_hc.label == 'helix') & (df_hc.uversky_pred == 'helix')])"
   ]
  },
  {
   "cell_type": "code",
   "execution_count": 24,
   "metadata": {},
   "outputs": [
    {
     "data": {
      "text/plain": [
       "array([[382,   0],\n",
       "       [237,   0]])"
      ]
     },
     "execution_count": 24,
     "metadata": {},
     "output_type": "execute_result"
    }
   ],
   "source": [
    "cnf_matrix"
   ]
  },
  {
   "cell_type": "code",
   "execution_count": 30,
   "metadata": {},
   "outputs": [
    {
     "data": {
      "text/plain": [
       "0.382875605815832"
      ]
     },
     "execution_count": 30,
     "metadata": {},
     "output_type": "execute_result"
    }
   ],
   "source": [
    "1 - np.sum(df_hc['uversky_correctness']) / len(df_hc)"
   ]
  },
  {
   "cell_type": "code",
   "execution_count": 27,
   "metadata": {},
   "outputs": [
    {
     "data": {
      "text/plain": [
       "1.0"
      ]
     },
     "execution_count": 27,
     "metadata": {},
     "output_type": "execute_result"
    }
   ],
   "source": [
    "len(df_hc[(df_hc.label == 'helix') & (df_hc.uversky_pred == 'disordered')]) / len(df_hc[df_hc.label == 'helix'])"
   ]
  },
  {
   "cell_type": "code",
   "execution_count": 60,
   "metadata": {},
   "outputs": [
    {
     "data": {
      "text/plain": [
       "0.7138952164009111"
      ]
     },
     "execution_count": 60,
     "metadata": {},
     "output_type": "execute_result"
    }
   ],
   "source": [
    "len(df[(df.label == 'helix') & (df.uversky_pred == 'helix')]) / len(df[df.uversky_pred == 'helix'])"
   ]
  },
  {
   "cell_type": "code",
   "execution_count": 64,
   "metadata": {},
   "outputs": [
    {
     "data": {
      "text/plain": [
       "0.7792286668691163"
      ]
     },
     "execution_count": 64,
     "metadata": {},
     "output_type": "execute_result"
    }
   ],
   "source": [
    "len(df[(df.label == 'disordered') & (df.uversky_pred == 'disordered')]) / len(df[df.uversky_pred == 'disordered'])"
   ]
  },
  {
   "cell_type": "code",
   "execution_count": 65,
   "metadata": {},
   "outputs": [
    {
     "data": {
      "text/plain": [
       "0.28610478359908886"
      ]
     },
     "execution_count": 65,
     "metadata": {},
     "output_type": "execute_result"
    }
   ],
   "source": [
    "len(df[(df.label == 'disordered') & (df.uversky_pred == 'helix')]) / len(df[df.uversky_pred == 'helix'])"
   ]
  }
 ],
 "metadata": {
  "kernelspec": {
   "display_name": "Python 3.9.12 ('env_hcr')",
   "language": "python",
   "name": "python3"
  },
  "language_info": {
   "codemirror_mode": {
    "name": "ipython",
    "version": 3
   },
   "file_extension": ".py",
   "mimetype": "text/x-python",
   "name": "python",
   "nbconvert_exporter": "python",
   "pygments_lexer": "ipython3",
   "version": "3.9.12"
  },
  "toc": {
   "base_numbering": 1,
   "nav_menu": {},
   "number_sections": false,
   "sideBar": true,
   "skip_h1_title": true,
   "title_cell": "Table of Contents",
   "title_sidebar": "Contents",
   "toc_cell": true,
   "toc_position": {},
   "toc_section_display": true,
   "toc_window_display": false
  },
  "vscode": {
   "interpreter": {
    "hash": "cf9c92407ea329efb8c9016a715d7811f432985378f61b50691b48c8c409138b"
   }
  }
 },
 "nbformat": 4,
 "nbformat_minor": 2
}
