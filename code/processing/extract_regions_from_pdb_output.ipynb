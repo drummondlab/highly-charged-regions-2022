{
 "cells": [
  {
   "cell_type": "code",
   "execution_count": 1,
   "metadata": {},
   "outputs": [],
   "source": [
    "import os\n",
    "from os import path\n",
    "os.environ['QT_QPA_PLATFORM'] = 'offscreen'"
   ]
  },
  {
   "cell_type": "code",
   "execution_count": 2,
   "metadata": {},
   "outputs": [],
   "source": [
    "import sys\n",
    "sys.path.insert(1, '../scripts')"
   ]
  },
  {
   "cell_type": "code",
   "execution_count": 6,
   "metadata": {},
   "outputs": [],
   "source": [
    "import random\n",
    "import pandas as pd\n",
    "from itertools import groupby\n",
    "from operator import itemgetter\n",
    "from Bio import SeqIO\n",
    "import parseaf as pa\n",
    "import mdtraj as md"
   ]
  },
  {
   "cell_type": "code",
   "execution_count": 4,
   "metadata": {},
   "outputs": [],
   "source": [
    "import warnings\n",
    "warnings.filterwarnings('ignore')"
   ]
  },
  {
   "cell_type": "markdown",
   "metadata": {},
   "source": [
    "## Functions"
   ]
  },
  {
   "cell_type": "code",
   "execution_count": 47,
   "metadata": {},
   "outputs": [],
   "source": [
    "def find_helix_indices(secstr):\n",
    "    helix_indices = []\n",
    "    for i, label in enumerate(secstr):\n",
    "        if label == 'H':\n",
    "            helix_indices.append(i)\n",
    "    return helix_indices"
   ]
  },
  {
   "cell_type": "code",
   "execution_count": 58,
   "metadata": {},
   "outputs": [],
   "source": [
    "def find_disordered_indices(ss):\n",
    "    disordered_indices = []\n",
    "    for i, label in enumerate(ss):\n",
    "        if label == 'C':\n",
    "            disordered_indices.append(i)\n",
    "    return disordered_indices"
   ]
  },
  {
   "cell_type": "code",
   "execution_count": 48,
   "metadata": {},
   "outputs": [],
   "source": [
    "def list_to_regions(indices, minlen=25):\n",
    "    ranges = []\n",
    "    for k, g in groupby(enumerate(indices), lambda x:x[0]-x[1]):\n",
    "        group = list(map(itemgetter(1), g))\n",
    "        if group[-1] - group[0] + 1 >= minlen:\n",
    "            ranges.append((group[0], group[-1]))\n",
    "    return ranges"
   ]
  },
  {
   "cell_type": "code",
   "execution_count": 8,
   "metadata": {},
   "outputs": [],
   "source": [
    "def append_sequence(row):\n",
    "    fdir = '/mnt/d/research/drummond-lab/data/yeast-alphafold-output-unzipped/'\n",
    "    fpath = fdir + 'AF-' + str(row['uni_id']) + '-F1-model_v1.pdb'\n",
    "    seq = pa.read_seq_from_pdb(fpath)\n",
    "    start = row['start']\n",
    "    end = row['end']\n",
    "    return seq[start:(end+1)]"
   ]
  },
  {
   "cell_type": "code",
   "execution_count": 52,
   "metadata": {},
   "outputs": [],
   "source": [
    "def append_len_region(row):\n",
    "    return len(row['region_seq'])"
   ]
  },
  {
   "cell_type": "markdown",
   "metadata": {},
   "source": [
    "## Load PDB data"
   ]
  },
  {
   "cell_type": "code",
   "execution_count": 31,
   "metadata": {},
   "outputs": [],
   "source": [
    "seqs = {}\n",
    "secstr = {}\n",
    "with open(\"../../data/ss_dis.txt\") as file:\n",
    "    for line in file:\n",
    "        line = line[:-1]\n",
    "        if not line:\n",
    "            continue\n",
    "        if line.startswith(\">\"):\n",
    "            name = line[1:].split(':')\n",
    "            id = name[0]\n",
    "            type = name[-1]\n",
    "            if type == 'sequence':\n",
    "                seqs[id] = []\n",
    "            if type == 'secstr':\n",
    "                secstr[id] = []\n",
    "            continue\n",
    "        data = line\n",
    "        if type == 'sequence':\n",
    "            seqs[id].append(data)\n",
    "        if type == 'secstr':\n",
    "            secstr[id].append(data)"
   ]
  },
  {
   "cell_type": "code",
   "execution_count": 33,
   "metadata": {},
   "outputs": [],
   "source": [
    "for k,v in seqs.items():\n",
    "    seq = ''.join(v)\n",
    "    seqs[k] = seq"
   ]
  },
  {
   "cell_type": "code",
   "execution_count": 34,
   "metadata": {},
   "outputs": [],
   "source": [
    "for k,v in secstr.items():\n",
    "    str = ''.join(v).replace(\" \", \"C\")\n",
    "    secstr[k] = str"
   ]
  },
  {
   "cell_type": "markdown",
   "metadata": {},
   "source": [
    "## Extracting pure helices & pure disordered regions"
   ]
  },
  {
   "cell_type": "code",
   "execution_count": 53,
   "metadata": {
    "scrolled": true
   },
   "outputs": [],
   "source": [
    "fdir = '/mnt/d/research/drummond-lab/data/cerevisiae-alphafold-output/'\n",
    "df = pd.DataFrame(columns={'id', 'region_seq', 'label'})\n",
    "for id,seq in seqs.items():\n",
    "    helix_indices = find_helix_indices(secstr[id])\n",
    "    regions = list_to_regions(helix_indices, minlen=25)\n",
    "    for r in regions:\n",
    "        df = df.append({'id': id, 'region_seq': seq[r[0]:(r[1]+1)], 'label': 'helix'}, ignore_index=True)"
   ]
  },
  {
   "cell_type": "code",
   "execution_count": 54,
   "metadata": {},
   "outputs": [],
   "source": [
    "df['len_region'] = df.apply(lambda row: append_len_region(row), axis=1)"
   ]
  },
  {
   "cell_type": "code",
   "execution_count": 55,
   "metadata": {},
   "outputs": [
    {
     "data": {
      "text/html": [
       "<div>\n",
       "<style scoped>\n",
       "    .dataframe tbody tr th:only-of-type {\n",
       "        vertical-align: middle;\n",
       "    }\n",
       "\n",
       "    .dataframe tbody tr th {\n",
       "        vertical-align: top;\n",
       "    }\n",
       "\n",
       "    .dataframe thead th {\n",
       "        text-align: right;\n",
       "    }\n",
       "</style>\n",
       "<table border=\"1\" class=\"dataframe\">\n",
       "  <thead>\n",
       "    <tr style=\"text-align: right;\">\n",
       "      <th></th>\n",
       "      <th>label</th>\n",
       "      <th>region_seq</th>\n",
       "      <th>id</th>\n",
       "      <th>len_region</th>\n",
       "    </tr>\n",
       "  </thead>\n",
       "  <tbody>\n",
       "    <tr>\n",
       "      <th>0</th>\n",
       "      <td>helix</td>\n",
       "      <td>ADAQGAMNKALELFRKDIAAKYKEL</td>\n",
       "      <td>102M</td>\n",
       "      <td>25</td>\n",
       "    </tr>\n",
       "    <tr>\n",
       "      <th>1</th>\n",
       "      <td>helix</td>\n",
       "      <td>ADAQGAMNKALELFRKDIAAKYKEL</td>\n",
       "      <td>104M</td>\n",
       "      <td>25</td>\n",
       "    </tr>\n",
       "    <tr>\n",
       "      <th>2</th>\n",
       "      <td>helix</td>\n",
       "      <td>ADAQGAMNKALELFRKDIAAKYKEL</td>\n",
       "      <td>105M</td>\n",
       "      <td>25</td>\n",
       "    </tr>\n",
       "    <tr>\n",
       "      <th>3</th>\n",
       "      <td>helix</td>\n",
       "      <td>ADAQGAMNKALELFRKDIAAKYKEL</td>\n",
       "      <td>106M</td>\n",
       "      <td>25</td>\n",
       "    </tr>\n",
       "    <tr>\n",
       "      <th>4</th>\n",
       "      <td>helix</td>\n",
       "      <td>ADAQGAMNKALELFRKDIAAKYKEL</td>\n",
       "      <td>107M</td>\n",
       "      <td>25</td>\n",
       "    </tr>\n",
       "    <tr>\n",
       "      <th>5</th>\n",
       "      <td>helix</td>\n",
       "      <td>ADAQGAMNKALELFRKDIAAKYKEL</td>\n",
       "      <td>109M</td>\n",
       "      <td>25</td>\n",
       "    </tr>\n",
       "    <tr>\n",
       "      <th>6</th>\n",
       "      <td>helix</td>\n",
       "      <td>QQEAALVDMVNDGVEDLRCKYISLIYT</td>\n",
       "      <td>10GS</td>\n",
       "      <td>27</td>\n",
       "    </tr>\n",
       "    <tr>\n",
       "      <th>7</th>\n",
       "      <td>helix</td>\n",
       "      <td>ADAQGAMNKALELFRKDIAAKYKEL</td>\n",
       "      <td>110M</td>\n",
       "      <td>25</td>\n",
       "    </tr>\n",
       "    <tr>\n",
       "      <th>8</th>\n",
       "      <td>helix</td>\n",
       "      <td>ADAQGAMNKALELFRKDIAAKYKEL</td>\n",
       "      <td>112M</td>\n",
       "      <td>25</td>\n",
       "    </tr>\n",
       "    <tr>\n",
       "      <th>9</th>\n",
       "      <td>helix</td>\n",
       "      <td>FSTLKSTVEAIWAGIKATEAAVSEE</td>\n",
       "      <td>11AS</td>\n",
       "      <td>25</td>\n",
       "    </tr>\n",
       "  </tbody>\n",
       "</table>\n",
       "</div>"
      ],
      "text/plain": [
       "   label                   region_seq    id  len_region\n",
       "0  helix    ADAQGAMNKALELFRKDIAAKYKEL  102M          25\n",
       "1  helix    ADAQGAMNKALELFRKDIAAKYKEL  104M          25\n",
       "2  helix    ADAQGAMNKALELFRKDIAAKYKEL  105M          25\n",
       "3  helix    ADAQGAMNKALELFRKDIAAKYKEL  106M          25\n",
       "4  helix    ADAQGAMNKALELFRKDIAAKYKEL  107M          25\n",
       "5  helix    ADAQGAMNKALELFRKDIAAKYKEL  109M          25\n",
       "6  helix  QQEAALVDMVNDGVEDLRCKYISLIYT  10GS          27\n",
       "7  helix    ADAQGAMNKALELFRKDIAAKYKEL  110M          25\n",
       "8  helix    ADAQGAMNKALELFRKDIAAKYKEL  112M          25\n",
       "9  helix    FSTLKSTVEAIWAGIKATEAAVSEE  11AS          25"
      ]
     },
     "execution_count": 55,
     "metadata": {},
     "output_type": "execute_result"
    }
   ],
   "source": [
    "df.head(10)"
   ]
  },
  {
   "cell_type": "code",
   "execution_count": 59,
   "metadata": {},
   "outputs": [],
   "source": [
    "fdir = '/mnt/d/research/drummond-lab/data/cerevisiae-alphafold-output/'\n",
    "disdf = pd.DataFrame(columns={'id', 'region_seq', 'label'})\n",
    "for id,seq in seqs.items():\n",
    "    dis_indices = find_disordered_indices(secstr[id])\n",
    "    regions = list_to_regions(dis_indices, minlen=25)\n",
    "    for r in regions:\n",
    "        disdf = disdf.append({'id': id, 'region_seq': seq[r[0]:(r[1]+1)], 'label': 'disordered'}, ignore_index=True)"
   ]
  },
  {
   "cell_type": "code",
   "execution_count": 60,
   "metadata": {},
   "outputs": [],
   "source": [
    "disdf['len_region'] = disdf.apply(lambda row: append_len_region(row), axis=1)"
   ]
  },
  {
   "cell_type": "code",
   "execution_count": 64,
   "metadata": {},
   "outputs": [
    {
     "data": {
      "text/html": [
       "<div>\n",
       "<style scoped>\n",
       "    .dataframe tbody tr th:only-of-type {\n",
       "        vertical-align: middle;\n",
       "    }\n",
       "\n",
       "    .dataframe tbody tr th {\n",
       "        vertical-align: top;\n",
       "    }\n",
       "\n",
       "    .dataframe thead th {\n",
       "        text-align: right;\n",
       "    }\n",
       "</style>\n",
       "<table border=\"1\" class=\"dataframe\">\n",
       "  <thead>\n",
       "    <tr style=\"text-align: right;\">\n",
       "      <th></th>\n",
       "      <th>label</th>\n",
       "      <th>region_seq</th>\n",
       "      <th>id</th>\n",
       "      <th>len_region</th>\n",
       "    </tr>\n",
       "  </thead>\n",
       "  <tbody>\n",
       "    <tr>\n",
       "      <th>0</th>\n",
       "      <td>helix</td>\n",
       "      <td>ADAQGAMNKALELFRKDIAAKYKEL</td>\n",
       "      <td>102M</td>\n",
       "      <td>25</td>\n",
       "    </tr>\n",
       "    <tr>\n",
       "      <th>1</th>\n",
       "      <td>helix</td>\n",
       "      <td>ADAQGAMNKALELFRKDIAAKYKEL</td>\n",
       "      <td>104M</td>\n",
       "      <td>25</td>\n",
       "    </tr>\n",
       "    <tr>\n",
       "      <th>2</th>\n",
       "      <td>helix</td>\n",
       "      <td>ADAQGAMNKALELFRKDIAAKYKEL</td>\n",
       "      <td>105M</td>\n",
       "      <td>25</td>\n",
       "    </tr>\n",
       "    <tr>\n",
       "      <th>3</th>\n",
       "      <td>helix</td>\n",
       "      <td>ADAQGAMNKALELFRKDIAAKYKEL</td>\n",
       "      <td>106M</td>\n",
       "      <td>25</td>\n",
       "    </tr>\n",
       "    <tr>\n",
       "      <th>4</th>\n",
       "      <td>helix</td>\n",
       "      <td>ADAQGAMNKALELFRKDIAAKYKEL</td>\n",
       "      <td>107M</td>\n",
       "      <td>25</td>\n",
       "    </tr>\n",
       "    <tr>\n",
       "      <th>5</th>\n",
       "      <td>helix</td>\n",
       "      <td>ADAQGAMNKALELFRKDIAAKYKEL</td>\n",
       "      <td>109M</td>\n",
       "      <td>25</td>\n",
       "    </tr>\n",
       "    <tr>\n",
       "      <th>6</th>\n",
       "      <td>helix</td>\n",
       "      <td>QQEAALVDMVNDGVEDLRCKYISLIYT</td>\n",
       "      <td>10GS</td>\n",
       "      <td>27</td>\n",
       "    </tr>\n",
       "    <tr>\n",
       "      <th>7</th>\n",
       "      <td>helix</td>\n",
       "      <td>ADAQGAMNKALELFRKDIAAKYKEL</td>\n",
       "      <td>110M</td>\n",
       "      <td>25</td>\n",
       "    </tr>\n",
       "    <tr>\n",
       "      <th>8</th>\n",
       "      <td>helix</td>\n",
       "      <td>ADAQGAMNKALELFRKDIAAKYKEL</td>\n",
       "      <td>112M</td>\n",
       "      <td>25</td>\n",
       "    </tr>\n",
       "    <tr>\n",
       "      <th>9</th>\n",
       "      <td>helix</td>\n",
       "      <td>FSTLKSTVEAIWAGIKATEAAVSEE</td>\n",
       "      <td>11AS</td>\n",
       "      <td>25</td>\n",
       "    </tr>\n",
       "  </tbody>\n",
       "</table>\n",
       "</div>"
      ],
      "text/plain": [
       "   label                   region_seq    id  len_region\n",
       "0  helix    ADAQGAMNKALELFRKDIAAKYKEL  102M          25\n",
       "1  helix    ADAQGAMNKALELFRKDIAAKYKEL  104M          25\n",
       "2  helix    ADAQGAMNKALELFRKDIAAKYKEL  105M          25\n",
       "3  helix    ADAQGAMNKALELFRKDIAAKYKEL  106M          25\n",
       "4  helix    ADAQGAMNKALELFRKDIAAKYKEL  107M          25\n",
       "5  helix    ADAQGAMNKALELFRKDIAAKYKEL  109M          25\n",
       "6  helix  QQEAALVDMVNDGVEDLRCKYISLIYT  10GS          27\n",
       "7  helix    ADAQGAMNKALELFRKDIAAKYKEL  110M          25\n",
       "8  helix    ADAQGAMNKALELFRKDIAAKYKEL  112M          25\n",
       "9  helix    FSTLKSTVEAIWAGIKATEAAVSEE  11AS          25"
      ]
     },
     "execution_count": 64,
     "metadata": {},
     "output_type": "execute_result"
    }
   ],
   "source": [
    "df_all = pd.concat([df, disdf], axis=0)\n",
    "df_all.head(10)"
   ]
  },
  {
   "cell_type": "code",
   "execution_count": 65,
   "metadata": {},
   "outputs": [],
   "source": [
    "df_all.to_csv('../../data/pdb_regions.csv', index=False)"
   ]
  },
  {
   "cell_type": "code",
   "execution_count": null,
   "metadata": {},
   "outputs": [],
   "source": []
  }
 ],
 "metadata": {
  "kernelspec": {
   "display_name": "Python 3.9.12 ('env_hcr')",
   "language": "python",
   "name": "python3"
  },
  "language_info": {
   "codemirror_mode": {
    "name": "ipython",
    "version": 3
   },
   "file_extension": ".py",
   "mimetype": "text/x-python",
   "name": "python",
   "nbconvert_exporter": "python",
   "pygments_lexer": "ipython3",
   "version": "3.9.12"
  },
  "vscode": {
   "interpreter": {
    "hash": "cf9c92407ea329efb8c9016a715d7811f432985378f61b50691b48c8c409138b"
   }
  }
 },
 "nbformat": 4,
 "nbformat_minor": 2
}
