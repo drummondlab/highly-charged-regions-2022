{
 "cells": [
  {
   "cell_type": "code",
   "execution_count": 1,
   "metadata": {},
   "outputs": [],
   "source": [
    "import localcider\n",
    "from localcider.sequenceParameters import SequenceParameters"
   ]
  },
  {
   "cell_type": "code",
   "execution_count": 2,
   "metadata": {},
   "outputs": [],
   "source": [
    "seqs = ['KNNEEEDDDEDEEEDDDEEEDTEDKNENNNDDDDDDDDDDDDDDDDDDDDDDDDEDEDEAE',\n",
    "'DLLQSKFDDLEVDDFEEVDSEDEEGEDEEDEDEDEKLEEIETERLEKELLEVQVDDLAERLAETEIK',\n",
    "'EEPLGEENFNDEDIGEDEGAWDLGDEDLDVGEELPEEVEQGE',\n",
    "'EEFSDDEEDGSSGSEEDDEEEGEYYDDDEPKVLKGKKHEDKDLKKLRKQEAKDAKREKRKTKVKKHIKKKLVKKTKSKK',\n",
    "'EVNKRYELEQQQQQEEAELRRLEEQKRLQLQKENEMKRLEEERRIKQEERKRQMELEHQRQLEEEERKRQMELEAKKQMELKRQRQFEEEQRLKKERELLEIQRKQREQETAERLKKEEQEALAKKEEEEKSKRNKVDNE',\n",
    "'KLLEERKRREKKKKEEEEKKKKEEEEKKKKEEEEKKKKEEEEKKKKEEEEKKKKEEEEKKKQEEEEKKKKEEEEKKKQEEGEKMKNEDEENKKNEDEEKKKNEEEEKKKQEEKNKKNEDEEKKKQEEEEKKKNEEEEKKKQEE',\n",
    "'KGKKRRRRDEDDNKVKRKKLKKDKKTSNDSESKKKKKKKSKKESKKGKKSKHSSDEGDKSKHKKSKKSKKHKKEESSARRDRKE',\n",
    "'KKNSLEKRLAKLFKRKQHNGTCKSDVKVIKKSVKKELKKK',\n",
    "'KVKKGQFRKIESTYKKDIERRIGGSIKARDKEKATKRERGLK']"
   ]
  },
  {
   "cell_type": "code",
   "execution_count": 7,
   "metadata": {},
   "outputs": [
    {
     "name": "stdout",
     "output_type": "stream",
     "text": [
      "KNNEEEDDDEDEEEDDDEEEDTEDKNENNNDDDDDDDDDDDDDDDDDDDDDDDDEDEDEAE 0.756\n",
      "DLLQSKFDDLEVDDFEEVDSEDEEGEDEEDEDEDEKLEEIETERLEKELLEVQVDDLAERLAETEIK 0.393\n",
      "EEPLGEENFNDEDIGEDEGAWDLGDEDLDVGEELPEEVEQGE 0.064\n",
      "EEFSDDEEDGSSGSEEDDEEEGEYYDDDEPKVLKGKKHEDKDLKKLRKQEAKDAKREKRKTKVKKHIKKKLVKKTKSKK 0.433\n",
      "EVNKRYELEQQQQQEEAELRRLEEQKRLQLQKENEMKRLEEERRIKQEERKRQMELEHQRQLEEEERKRQMELEAKKQMELKRQRQFEEEQRLKKERELLEIQRKQREQETAERLKKEEQEALAKKEEEEKSKRNKVDNE 0.106\n",
      "KLLEERKRREKKKKEEEEKKKKEEEEKKKKEEEEKKKKEEEEKKKKEEEEKKKKEEEEKKKQEEEEKKKKEEEEKKKQEEGEKMKNEDEENKKNEDEEKKKNEEEEKKKQEEKNKKNEDEEKKKQEEEEKKKNEEEEKKKQEE 0.061\n",
      "KGKKRRRRDEDDNKVKRKKLKKDKKTSNDSESKKKKKKKSKKESKKGKKSKHSSDEGDKSKHKKSKKSKKHKKEESSARRDRKE 0.317\n",
      "KKNSLEKRLAKLFKRKQHNGTCKSDVKVIKKSVKKELKKK 0.185\n",
      "KVKKGQFRKIESTYKKDIERRIGGSIKARDKEKATKRERGLK 0.071\n"
     ]
    }
   ],
   "source": [
    "for seq in seqs:\n",
    "    SeqOb = SequenceParameters(seq)\n",
    "    print(seq, \"{:.3f}\".format(SeqOb.get_kappa()))"
   ]
  },
  {
   "cell_type": "code",
   "execution_count": null,
   "metadata": {},
   "outputs": [],
   "source": []
  }
 ],
 "metadata": {
  "kernelspec": {
   "display_name": "Python 3.9.12 ('env_hcr')",
   "language": "python",
   "name": "python3"
  },
  "language_info": {
   "codemirror_mode": {
    "name": "ipython",
    "version": 3
   },
   "file_extension": ".py",
   "mimetype": "text/x-python",
   "name": "python",
   "nbconvert_exporter": "python",
   "pygments_lexer": "ipython3",
   "version": "3.9.12"
  },
  "orig_nbformat": 4,
  "vscode": {
   "interpreter": {
    "hash": "cf9c92407ea329efb8c9016a715d7811f432985378f61b50691b48c8c409138b"
   }
  }
 },
 "nbformat": 4,
 "nbformat_minor": 2
}
