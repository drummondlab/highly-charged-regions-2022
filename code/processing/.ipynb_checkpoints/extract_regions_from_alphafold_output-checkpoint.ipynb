{
 "cells": [
  {
   "cell_type": "code",
   "execution_count": 1,
   "metadata": {},
   "outputs": [],
   "source": [
    "import os\n",
    "from os import path\n",
    "os.environ['QT_QPA_PLATFORM'] = 'offscreen'"
   ]
  },
  {
   "cell_type": "code",
   "execution_count": 2,
   "metadata": {},
   "outputs": [],
   "source": [
    "import sys\n",
    "sys.path.insert(1, '../scripts')"
   ]
  },
  {
   "cell_type": "code",
   "execution_count": 38,
   "metadata": {},
   "outputs": [],
   "source": [
    "import random\n",
    "#import numpy as np\n",
    "import pandas as pd\n",
    "#from scipy import stats\n",
    "from itertools import groupby\n",
    "from operator import itemgetter\n",
    "#import matplotlib.pyplot as plt\n",
    "#import seaborn as sns\n",
    "import parseaf as pa\n",
    "import mdtraj as md\n",
    "#import alignment_quality as aq\n",
    "#import crutil"
   ]
  },
  {
   "cell_type": "code",
   "execution_count": 4,
   "metadata": {},
   "outputs": [],
   "source": [
    "#from Bio import SeqIO\n",
    "#from Bio import AlignIO\n",
    "#from Bio.Seq import Seq\n",
    "#from Bio import SeqIO\n",
    "#from Bio.SeqRecord import SeqRecord"
   ]
  },
  {
   "cell_type": "code",
   "execution_count": 5,
   "metadata": {},
   "outputs": [],
   "source": [
    "#from sklearn import metrics\n",
    "#from sklearn.model_selection import train_test_split\n",
    "#from sklearn.linear_model import LogisticRegression"
   ]
  },
  {
   "cell_type": "code",
   "execution_count": 6,
   "metadata": {},
   "outputs": [],
   "source": [
    "import warnings\n",
    "warnings.filterwarnings('ignore')"
   ]
  },
  {
   "cell_type": "markdown",
   "metadata": {},
   "source": [
    "## Functions"
   ]
  },
  {
   "cell_type": "code",
   "execution_count": 8,
   "metadata": {},
   "outputs": [],
   "source": [
    "def find_helix_indices(ss, bfactor):\n",
    "    helix_indices = []\n",
    "    for i, label in enumerate(ss):\n",
    "        if (label == 'H') and (bfactor[i] >= 70):\n",
    "            helix_indices.append(i)\n",
    "    return helix_indices"
   ]
  },
  {
   "cell_type": "code",
   "execution_count": 9,
   "metadata": {},
   "outputs": [],
   "source": [
    "def find_disordered_indices(ss, bfactor):\n",
    "    disordered_indices = []\n",
    "    for i, label in enumerate(ss):\n",
    "        if ((label == 'C') and (bfactor[i] >= 70)) or (bfactor[i] < 70):\n",
    "            disordered_indices.append(i)\n",
    "    return disordered_indices"
   ]
  },
  {
   "cell_type": "code",
   "execution_count": 10,
   "metadata": {},
   "outputs": [],
   "source": [
    "def list_to_regions(indices, minlen=25):\n",
    "    ranges = []\n",
    "    for k, g in groupby(enumerate(indices), lambda x:x[0]-x[1]):\n",
    "        group = list(map(itemgetter(1), g))\n",
    "        if group[-1] - group[0] + 1 >= minlen:\n",
    "            ranges.append((group[0], group[-1]))\n",
    "    return ranges"
   ]
  },
  {
   "cell_type": "code",
   "execution_count": 11,
   "metadata": {},
   "outputs": [],
   "source": [
    "def append_sequence(row):\n",
    "    fdir = '/mnt/d/research/drummond-lab/data/yeast-alphafold-output-unzipped/'\n",
    "    fpath = fdir + 'AF-' + str(row['uni_id']) + '-F1-model_v1.pdb'\n",
    "    seq = pa.read_seq_from_pdb(fpath)\n",
    "    start = row['start']\n",
    "    end = row['end']\n",
    "    return seq[start:(end+1)]"
   ]
  },
  {
   "cell_type": "code",
   "execution_count": 12,
   "metadata": {},
   "outputs": [],
   "source": [
    "def append_len_region(row):\n",
    "    return len(row['region_seq'])"
   ]
  },
  {
   "cell_type": "markdown",
   "metadata": {},
   "source": [
    "## Extracting pure helices & pure disordered regions based on AlphaFold output"
   ]
  },
  {
   "cell_type": "code",
   "execution_count": 15,
   "metadata": {},
   "outputs": [],
   "source": [
    "df_all_orfs = pd.read_table('../../data/sc_orfs/yeast-all-orfs.txt', header=None, names=['orf'])"
   ]
  },
  {
   "cell_type": "code",
   "execution_count": 16,
   "metadata": {},
   "outputs": [],
   "source": [
    "all_orfs = df_all_orfs['orf'].tolist()"
   ]
  },
  {
   "cell_type": "code",
   "execution_count": 17,
   "metadata": {},
   "outputs": [],
   "source": [
    "with open('../../data/uniprot-to-sgdid.txt') as f:\n",
    "    mappings = {}\n",
    "    for line in f:\n",
    "        uniprot = line[95:106].rstrip()\n",
    "        orf = line[75:95].rstrip()\n",
    "        mappings[orf] = uniprot"
   ]
  },
  {
   "cell_type": "code",
   "execution_count": 18,
   "metadata": {},
   "outputs": [],
   "source": [
    "uni_id_with_pdb = []\n",
    "fdir = '/mnt/d/research/drummond-lab/data/cerevisiae-alphafold-output/'\n",
    "for orf in all_orfs:\n",
    "    uni_id = mappings[orf]\n",
    "    fpath = fdir + 'AF-' + str(uni_id) + '-F1-model_v1.pdb'\n",
    "    if path.exists(fpath):\n",
    "        uni_id_with_pdb.append(uni_id)"
   ]
  },
  {
   "cell_type": "code",
   "execution_count": 27,
   "metadata": {
    "scrolled": true
   },
   "outputs": [],
   "source": [
    "fdir = '/mnt/d/research/drummond-lab/data/cerevisiae-alphafold-output/'\n",
    "df = pd.DataFrame(columns={'uni_id', 'start', 'end', 'region_seq'})\n",
    "for uni_id in uni_id_with_pdb:\n",
    "    fpath = fdir + 'AF-' + str(uni_id) + '-F1-model_v1.pdb'\n",
    "    pdb = pa.read_af_output(fdir, uni_id)\n",
    "    ss = md.compute_dssp(pdb, simplified=True)[0]\n",
    "    bfactor = pa.read_bfactor_from_pdb(fpath)\n",
    "    helix_indices = find_helix_indices(ss, bfactor)\n",
    "    regions = list_to_regions(helix_indices)\n",
    "    seq = pa.read_seq_from_pdb(fpath)\n",
    "    for r in regions:\n",
    "        df = df.append({'uni_id': uni_id, 'start': r[0], 'end': r[1], 'region_seq': seq[r[0]:(r[1]+1)]}, ignore_index=True)"
   ]
  },
  {
   "cell_type": "code",
   "execution_count": 28,
   "metadata": {},
   "outputs": [
    {
     "data": {
      "text/html": [
       "<div>\n",
       "<style scoped>\n",
       "    .dataframe tbody tr th:only-of-type {\n",
       "        vertical-align: middle;\n",
       "    }\n",
       "\n",
       "    .dataframe tbody tr th {\n",
       "        vertical-align: top;\n",
       "    }\n",
       "\n",
       "    .dataframe thead th {\n",
       "        text-align: right;\n",
       "    }\n",
       "</style>\n",
       "<table border=\"1\" class=\"dataframe\">\n",
       "  <thead>\n",
       "    <tr style=\"text-align: right;\">\n",
       "      <th></th>\n",
       "      <th>region_seq</th>\n",
       "      <th>start</th>\n",
       "      <th>end</th>\n",
       "      <th>uni_id</th>\n",
       "    </tr>\n",
       "  </thead>\n",
       "  <tbody>\n",
       "    <tr>\n",
       "      <th>0</th>\n",
       "      <td>VQDLKQLLLNVFNTYKLERSLSELIQKIIEDSSQDLVQQYRKF</td>\n",
       "      <td>1143</td>\n",
       "      <td>1185</td>\n",
       "      <td>P39702</td>\n",
       "    </tr>\n",
       "    <tr>\n",
       "      <th>1</th>\n",
       "      <td>KEDIEKMVAEAEKFKEEDEKESQRIASKNQLESIAYSLKNTISE</td>\n",
       "      <td>508</td>\n",
       "      <td>551</td>\n",
       "      <td>P10591</td>\n",
       "    </tr>\n",
       "    <tr>\n",
       "      <th>2</th>\n",
       "      <td>DIIANNAVEEIDRNLNKITKTLNYLRAREWRNMSTVNSTESRLTWL...</td>\n",
       "      <td>138</td>\n",
       "      <td>208</td>\n",
       "      <td>P39704</td>\n",
       "    </tr>\n",
       "    <tr>\n",
       "      <th>3</th>\n",
       "      <td>KQMFLGSLFGVVLGVTVAKISILFMYVGITSMLLCEWLRY</td>\n",
       "      <td>103</td>\n",
       "      <td>142</td>\n",
       "      <td>P18411</td>\n",
       "    </tr>\n",
       "    <tr>\n",
       "      <th>4</th>\n",
       "      <td>PASMIFRNLLILEDDLRRQAHEQKILKWQFTLFLASMAGVGAFTFYELY</td>\n",
       "      <td>45</td>\n",
       "      <td>93</td>\n",
       "      <td>P18410</td>\n",
       "    </tr>\n",
       "    <tr>\n",
       "      <th>...</th>\n",
       "      <td>...</td>\n",
       "      <td>...</td>\n",
       "      <td>...</td>\n",
       "      <td>...</td>\n",
       "    </tr>\n",
       "    <tr>\n",
       "      <th>6877</th>\n",
       "      <td>GVYGSVFYAGTGLHFLHMVMLAAMLGVNYWRMR</td>\n",
       "      <td>198</td>\n",
       "      <td>230</td>\n",
       "      <td>P00420</td>\n",
       "    </tr>\n",
       "    <tr>\n",
       "      <th>6878</th>\n",
       "      <td>VGYETTIIYTHVLDVIWLFLYVVFYWW</td>\n",
       "      <td>240</td>\n",
       "      <td>266</td>\n",
       "      <td>P00420</td>\n",
       "    </tr>\n",
       "    <tr>\n",
       "      <th>6879</th>\n",
       "      <td>NFSALKNVIRCSIIHEYISKFVEREQD</td>\n",
       "      <td>184</td>\n",
       "      <td>210</td>\n",
       "      <td>P03871</td>\n",
       "    </tr>\n",
       "    <tr>\n",
       "      <th>6880</th>\n",
       "      <td>SQRMANLKIRRTKFKSVLYHILKEL</td>\n",
       "      <td>282</td>\n",
       "      <td>306</td>\n",
       "      <td>P03871</td>\n",
       "    </tr>\n",
       "    <tr>\n",
       "      <th>6881</th>\n",
       "      <td>ESLKDIFNSFNELAAENRLQQKKSE</td>\n",
       "      <td>204</td>\n",
       "      <td>228</td>\n",
       "      <td>P03872</td>\n",
       "    </tr>\n",
       "  </tbody>\n",
       "</table>\n",
       "<p>6882 rows × 4 columns</p>\n",
       "</div>"
      ],
      "text/plain": [
       "                                             region_seq start   end  uni_id\n",
       "0           VQDLKQLLLNVFNTYKLERSLSELIQKIIEDSSQDLVQQYRKF  1143  1185  P39702\n",
       "1          KEDIEKMVAEAEKFKEEDEKESQRIASKNQLESIAYSLKNTISE   508   551  P10591\n",
       "2     DIIANNAVEEIDRNLNKITKTLNYLRAREWRNMSTVNSTESRLTWL...   138   208  P39704\n",
       "3              KQMFLGSLFGVVLGVTVAKISILFMYVGITSMLLCEWLRY   103   142  P18411\n",
       "4     PASMIFRNLLILEDDLRRQAHEQKILKWQFTLFLASMAGVGAFTFYELY    45    93  P18410\n",
       "...                                                 ...   ...   ...     ...\n",
       "6877                  GVYGSVFYAGTGLHFLHMVMLAAMLGVNYWRMR   198   230  P00420\n",
       "6878                        VGYETTIIYTHVLDVIWLFLYVVFYWW   240   266  P00420\n",
       "6879                        NFSALKNVIRCSIIHEYISKFVEREQD   184   210  P03871\n",
       "6880                          SQRMANLKIRRTKFKSVLYHILKEL   282   306  P03871\n",
       "6881                          ESLKDIFNSFNELAAENRLQQKKSE   204   228  P03872\n",
       "\n",
       "[6882 rows x 4 columns]"
      ]
     },
     "execution_count": 28,
     "metadata": {},
     "output_type": "execute_result"
    }
   ],
   "source": [
    "df"
   ]
  },
  {
   "cell_type": "code",
   "execution_count": 29,
   "metadata": {},
   "outputs": [],
   "source": [
    "df['len_region'] = df.apply(lambda row: append_len_region(row), axis=1)\n",
    "df['label'] = 'helix'"
   ]
  },
  {
   "cell_type": "code",
   "execution_count": 30,
   "metadata": {},
   "outputs": [],
   "source": [
    "fdir = '/mnt/d/research/drummond-lab/data/cerevisiae-alphafold-output/'\n",
    "disdf = pd.DataFrame(columns={'uni_id', 'start', 'end', 'region_seq'})\n",
    "for uni_id in uni_id_with_pdb:\n",
    "    fpath = fdir + 'AF-' + str(uni_id) + '-F1-model_v1.pdb'\n",
    "    pdb = pa.read_af_output(fdir, uni_id)\n",
    "    ss = md.compute_dssp(pdb, simplified=True)[0]\n",
    "    bfactor = pa.read_bfactor_from_pdb(fpath)\n",
    "    disorder_indices = find_disordered_indices(ss, bfactor)\n",
    "    regions = list_to_regions(disorder_indices)\n",
    "    seq = pa.read_seq_from_pdb(fpath)\n",
    "    for r in regions:\n",
    "        disdf = disdf.append({'uni_id': uni_id, 'start': r[0], 'end': r[1], 'region_seq': seq[r[0]:(r[1]+1)]}, ignore_index=True)"
   ]
  },
  {
   "cell_type": "code",
   "execution_count": 31,
   "metadata": {},
   "outputs": [],
   "source": [
    "disdf['len_region'] = disdf.apply(lambda row: append_len_region(row), axis=1)\n",
    "disdf['label'] = 'disordered'"
   ]
  },
  {
   "cell_type": "code",
   "execution_count": 32,
   "metadata": {},
   "outputs": [
    {
     "data": {
      "text/html": [
       "<div>\n",
       "<style scoped>\n",
       "    .dataframe tbody tr th:only-of-type {\n",
       "        vertical-align: middle;\n",
       "    }\n",
       "\n",
       "    .dataframe tbody tr th {\n",
       "        vertical-align: top;\n",
       "    }\n",
       "\n",
       "    .dataframe thead th {\n",
       "        text-align: right;\n",
       "    }\n",
       "</style>\n",
       "<table border=\"1\" class=\"dataframe\">\n",
       "  <thead>\n",
       "    <tr style=\"text-align: right;\">\n",
       "      <th></th>\n",
       "      <th>region_seq</th>\n",
       "      <th>start</th>\n",
       "      <th>end</th>\n",
       "      <th>uni_id</th>\n",
       "      <th>len_region</th>\n",
       "      <th>label</th>\n",
       "    </tr>\n",
       "  </thead>\n",
       "  <tbody>\n",
       "    <tr>\n",
       "      <th>0</th>\n",
       "      <td>VQDLKQLLLNVFNTYKLERSLSELIQKIIEDSSQDLVQQYRKF</td>\n",
       "      <td>1143</td>\n",
       "      <td>1185</td>\n",
       "      <td>P39702</td>\n",
       "      <td>43</td>\n",
       "      <td>helix</td>\n",
       "    </tr>\n",
       "    <tr>\n",
       "      <th>1</th>\n",
       "      <td>KEDIEKMVAEAEKFKEEDEKESQRIASKNQLESIAYSLKNTISE</td>\n",
       "      <td>508</td>\n",
       "      <td>551</td>\n",
       "      <td>P10591</td>\n",
       "      <td>44</td>\n",
       "      <td>helix</td>\n",
       "    </tr>\n",
       "    <tr>\n",
       "      <th>2</th>\n",
       "      <td>DIIANNAVEEIDRNLNKITKTLNYLRAREWRNMSTVNSTESRLTWL...</td>\n",
       "      <td>138</td>\n",
       "      <td>208</td>\n",
       "      <td>P39704</td>\n",
       "      <td>71</td>\n",
       "      <td>helix</td>\n",
       "    </tr>\n",
       "    <tr>\n",
       "      <th>3</th>\n",
       "      <td>KQMFLGSLFGVVLGVTVAKISILFMYVGITSMLLCEWLRY</td>\n",
       "      <td>103</td>\n",
       "      <td>142</td>\n",
       "      <td>P18411</td>\n",
       "      <td>40</td>\n",
       "      <td>helix</td>\n",
       "    </tr>\n",
       "    <tr>\n",
       "      <th>4</th>\n",
       "      <td>PASMIFRNLLILEDDLRRQAHEQKILKWQFTLFLASMAGVGAFTFYELY</td>\n",
       "      <td>45</td>\n",
       "      <td>93</td>\n",
       "      <td>P18410</td>\n",
       "      <td>49</td>\n",
       "      <td>helix</td>\n",
       "    </tr>\n",
       "    <tr>\n",
       "      <th>5</th>\n",
       "      <td>WDEKYTDSVRFVSRTIAYCNIYCLKK</td>\n",
       "      <td>159</td>\n",
       "      <td>184</td>\n",
       "      <td>P18410</td>\n",
       "      <td>26</td>\n",
       "      <td>helix</td>\n",
       "    </tr>\n",
       "    <tr>\n",
       "      <th>6</th>\n",
       "      <td>AEIREGWEIYRDEFWAREGARRRKQAHE</td>\n",
       "      <td>225</td>\n",
       "      <td>252</td>\n",
       "      <td>P18410</td>\n",
       "      <td>28</td>\n",
       "      <td>helix</td>\n",
       "    </tr>\n",
       "    <tr>\n",
       "      <th>7</th>\n",
       "      <td>VHKQKLLNDLTYAFSSSLRKIDEERSTIEKFDNKIN</td>\n",
       "      <td>372</td>\n",
       "      <td>407</td>\n",
       "      <td>P18409</td>\n",
       "      <td>36</td>\n",
       "      <td>helix</td>\n",
       "    </tr>\n",
       "    <tr>\n",
       "      <th>8</th>\n",
       "      <td>DKIEQKWQDEQELKKKEKELKRKNDAEAKRLRMEERKRQQMQKKIA...</td>\n",
       "      <td>176</td>\n",
       "      <td>249</td>\n",
       "      <td>P31376</td>\n",
       "      <td>74</td>\n",
       "      <td>helix</td>\n",
       "    </tr>\n",
       "    <tr>\n",
       "      <th>9</th>\n",
       "      <td>PIEMEEQRMTALKEITDIEYKFAQLRQKLYDNQLVRLQTELQMCLE</td>\n",
       "      <td>171</td>\n",
       "      <td>216</td>\n",
       "      <td>P31385</td>\n",
       "      <td>46</td>\n",
       "      <td>helix</td>\n",
       "    </tr>\n",
       "  </tbody>\n",
       "</table>\n",
       "</div>"
      ],
      "text/plain": [
       "                                          region_seq start   end  uni_id  \\\n",
       "0        VQDLKQLLLNVFNTYKLERSLSELIQKIIEDSSQDLVQQYRKF  1143  1185  P39702   \n",
       "1       KEDIEKMVAEAEKFKEEDEKESQRIASKNQLESIAYSLKNTISE   508   551  P10591   \n",
       "2  DIIANNAVEEIDRNLNKITKTLNYLRAREWRNMSTVNSTESRLTWL...   138   208  P39704   \n",
       "3           KQMFLGSLFGVVLGVTVAKISILFMYVGITSMLLCEWLRY   103   142  P18411   \n",
       "4  PASMIFRNLLILEDDLRRQAHEQKILKWQFTLFLASMAGVGAFTFYELY    45    93  P18410   \n",
       "5                         WDEKYTDSVRFVSRTIAYCNIYCLKK   159   184  P18410   \n",
       "6                       AEIREGWEIYRDEFWAREGARRRKQAHE   225   252  P18410   \n",
       "7               VHKQKLLNDLTYAFSSSLRKIDEERSTIEKFDNKIN   372   407  P18409   \n",
       "8  DKIEQKWQDEQELKKKEKELKRKNDAEAKRLRMEERKRQQMQKKIA...   176   249  P31376   \n",
       "9     PIEMEEQRMTALKEITDIEYKFAQLRQKLYDNQLVRLQTELQMCLE   171   216  P31385   \n",
       "\n",
       "   len_region  label  \n",
       "0          43  helix  \n",
       "1          44  helix  \n",
       "2          71  helix  \n",
       "3          40  helix  \n",
       "4          49  helix  \n",
       "5          26  helix  \n",
       "6          28  helix  \n",
       "7          36  helix  \n",
       "8          74  helix  \n",
       "9          46  helix  "
      ]
     },
     "execution_count": 32,
     "metadata": {},
     "output_type": "execute_result"
    }
   ],
   "source": [
    "df_all = pd.concat([df, disdf], axis=0)\n",
    "df_all.head(10)"
   ]
  },
  {
   "cell_type": "code",
   "execution_count": 33,
   "metadata": {},
   "outputs": [],
   "source": [
    "df_all.to_csv('../../data/af_regions/sc_af_regions_all.csv', index=False)"
   ]
  },
  {
   "cell_type": "markdown",
   "metadata": {},
   "source": [
    "## Doing it again for fission yeast"
   ]
  },
  {
   "cell_type": "code",
   "execution_count": 10,
   "metadata": {},
   "outputs": [],
   "source": [
    "fdir = '/mnt/d/research/drummond-lab/data/pombe-alphafold-output/'\n",
    "directory = os.fsencode(fdir)\n",
    "df = pd.DataFrame(columns={'uni_id', 'start', 'end', 'region_seq'})\n",
    "for file in os.listdir(directory):\n",
    "    filename = os.fsdecode(file)\n",
    "    if filename.endswith(\".pdb\"):\n",
    "        fpath = fdir + filename\n",
    "        uni_id = filename.split('-')[1]\n",
    "        pdb = pa.read_af_output(fdir, uni_id)\n",
    "        ss = md.compute_dssp(pdb, simplified=True)[0]\n",
    "        bfactor = pa.read_bfactor_from_pdb(fpath)\n",
    "        helix_indices = find_helix_indices(ss, bfactor)\n",
    "        regions = list_to_regions(helix_indices)\n",
    "        seq = pa.read_seq_from_pdb(fpath)\n",
    "        for r in regions:\n",
    "            df = df.append({'uni_id': uni_id,\n",
    "                            'start': r[0],\n",
    "                            'end': r[1],\n",
    "                            'region_seq': seq[r[0]:(r[1]+1)]},\n",
    "                           ignore_index=True)\n",
    "        continue"
   ]
  },
  {
   "cell_type": "code",
   "execution_count": 11,
   "metadata": {},
   "outputs": [],
   "source": [
    "df['len_region'] = df.apply(lambda row: append_len_region(row), axis=1)\n",
    "df['label'] = 'helix'"
   ]
  },
  {
   "cell_type": "code",
   "execution_count": 12,
   "metadata": {},
   "outputs": [],
   "source": [
    "fdir = '/mnt/d/research/drummond-lab/data/pombe-alphafold-output/'\n",
    "directory = os.fsencode(fdir)\n",
    "disdf = pd.DataFrame(columns={'uni_id', 'start', 'end', 'region_seq'})\n",
    "for file in os.listdir(directory):\n",
    "    filename = os.fsdecode(file)\n",
    "    if filename.endswith(\".pdb\"):\n",
    "        fpath = fdir + filename\n",
    "        uni_id = filename.split('-')[1]\n",
    "        pdb = pa.read_af_output(fdir, uni_id)\n",
    "        ss = md.compute_dssp(pdb, simplified=True)[0]\n",
    "        bfactor = pa.read_bfactor_from_pdb(fpath)\n",
    "        disorder_indices = find_disordered_indices(ss, bfactor)\n",
    "        regions = list_to_regions(disorder_indices)\n",
    "        seq = pa.read_seq_from_pdb(fpath)\n",
    "        for r in regions:\n",
    "            disdf = disdf.append({'uni_id': uni_id,\n",
    "                            'start': r[0],\n",
    "                            'end': r[1],\n",
    "                            'region_seq': seq[r[0]:(r[1]+1)]},\n",
    "                            ignore_index=True)\n",
    "        continue"
   ]
  },
  {
   "cell_type": "code",
   "execution_count": 13,
   "metadata": {},
   "outputs": [],
   "source": [
    "disdf['len_region'] = disdf.apply(lambda row: append_len_region(row), axis=1)\n",
    "disdf['label'] = 'disordered'"
   ]
  },
  {
   "cell_type": "code",
   "execution_count": 14,
   "metadata": {},
   "outputs": [],
   "source": [
    "df_pombe = pd.concat([df, disdf], axis=0)"
   ]
  },
  {
   "cell_type": "code",
   "execution_count": 15,
   "metadata": {},
   "outputs": [],
   "source": [
    "df_pombe.to_csv('../../data/af_regions/pombe_af_regions.csv', index=False)"
   ]
  },
  {
   "cell_type": "markdown",
   "metadata": {},
   "source": [
    "## Doing it one more time for homo sapiens"
   ]
  },
  {
   "cell_type": "code",
   "execution_count": 13,
   "metadata": {},
   "outputs": [],
   "source": [
    "fdir = '/mnt/d/research/drummond-lab/data/human-alphafold-output/'\n",
    "directory = os.fsencode(fdir)\n",
    "df = pd.DataFrame(columns={'uni_id', 'start', 'end', 'region_seq'})\n",
    "for file in os.listdir(directory):\n",
    "    filename = os.fsdecode(file)\n",
    "    if filename.endswith(\"F1-model_v1.pdb\"):\n",
    "        fpath = fdir + filename\n",
    "        uni_id = filename.split('-')[1]\n",
    "        pdb = pa.read_af_output(fdir, uni_id)\n",
    "        ss = md.compute_dssp(pdb, simplified=True)[0]\n",
    "        bfactor = pa.read_bfactor_from_pdb(fpath)\n",
    "        helix_indices = find_helix_indices(ss, bfactor)\n",
    "        regions = list_to_regions(helix_indices)\n",
    "        seq = pa.read_seq_from_pdb(fpath)\n",
    "        for r in regions:\n",
    "            df = df.append({'uni_id': uni_id,\n",
    "                            'start': r[0],\n",
    "                            'end': r[1],\n",
    "                            'region_seq': seq[r[0]:(r[1]+1)]},\n",
    "                           ignore_index=True)\n",
    "        continue"
   ]
  },
  {
   "cell_type": "code",
   "execution_count": 14,
   "metadata": {},
   "outputs": [],
   "source": [
    "df['len_region'] = df.apply(lambda row: append_len_region(row), axis=1)\n",
    "df['label'] = 'helix'"
   ]
  },
  {
   "cell_type": "code",
   "execution_count": 15,
   "metadata": {},
   "outputs": [],
   "source": [
    "fdir = '/mnt/d/research/drummond-lab/data/human-alphafold-output/'\n",
    "directory = os.fsencode(fdir)\n",
    "disdf = pd.DataFrame(columns={'uni_id', 'start', 'end', 'region_seq'})\n",
    "for file in os.listdir(directory):\n",
    "    filename = os.fsdecode(file)\n",
    "    if filename.endswith(\"F1-model_v1.pdb\"):\n",
    "        fpath = fdir + filename\n",
    "        uni_id = filename.split('-')[1]\n",
    "        pdb = pa.read_af_output(fdir, uni_id)\n",
    "        ss = md.compute_dssp(pdb, simplified=True)[0]\n",
    "        bfactor = pa.read_bfactor_from_pdb(fpath)\n",
    "        disorder_indices = find_disordered_indices(ss, bfactor)\n",
    "        regions = list_to_regions(disorder_indices)\n",
    "        seq = pa.read_seq_from_pdb(fpath)\n",
    "        for r in regions:\n",
    "            disdf = disdf.append({'uni_id': uni_id,\n",
    "                            'start': r[0],\n",
    "                            'end': r[1],\n",
    "                            'region_seq': seq[r[0]:(r[1]+1)]},\n",
    "                            ignore_index=True)\n",
    "        continue"
   ]
  },
  {
   "cell_type": "code",
   "execution_count": 16,
   "metadata": {},
   "outputs": [],
   "source": [
    "disdf['len_region'] = disdf.apply(lambda row: append_len_region(row), axis=1)\n",
    "disdf['label'] = 'disordered'"
   ]
  },
  {
   "cell_type": "code",
   "execution_count": 17,
   "metadata": {},
   "outputs": [],
   "source": [
    "df_human = pd.concat([df, disdf], axis=0)"
   ]
  },
  {
   "cell_type": "code",
   "execution_count": 18,
   "metadata": {},
   "outputs": [],
   "source": [
    "df_human.to_csv('../../data/af_regions/hsapiens_af_regions.csv', index=False)"
   ]
  },
  {
   "cell_type": "markdown",
   "metadata": {},
   "source": [
    "## Extracting random non-highly-charged regions from yeast AlphaFold output"
   ]
  },
  {
   "cell_type": "code",
   "execution_count": 19,
   "metadata": {},
   "outputs": [],
   "source": [
    "def append_structure_label(row):\n",
    "    fdir = '/mnt/d/research/drummond-lab/data/cerevisiae-alphafold-output/'\n",
    "    uni_id = row['uni_id']\n",
    "    left_bound = row['left.bound']\n",
    "    right_bound = row['right.bound']\n",
    "    label = pa.get_structure_label(fdir, uni_id, left_bound, right_bound)\n",
    "    return label"
   ]
  },
  {
   "cell_type": "code",
   "execution_count": 20,
   "metadata": {},
   "outputs": [],
   "source": [
    "df_hc = pd.read_csv('../../data/charged_regions/cr_filtered.csv', comment='#')"
   ]
  },
  {
   "cell_type": "code",
   "execution_count": 21,
   "metadata": {},
   "outputs": [],
   "source": [
    "df_hc['label'] = df_hc.apply(lambda row: append_structure_label(row), axis=1)"
   ]
  },
  {
   "cell_type": "code",
   "execution_count": 23,
   "metadata": {},
   "outputs": [],
   "source": [
    "df_all_orfs = pd.read_table('../../data/sc_orfs/yeast-all-orfs.txt', header=None, names=['orf'])"
   ]
  },
  {
   "cell_type": "code",
   "execution_count": 24,
   "metadata": {},
   "outputs": [],
   "source": [
    "all_orfs = df_all_orfs['orf'].tolist()"
   ]
  },
  {
   "cell_type": "code",
   "execution_count": 26,
   "metadata": {},
   "outputs": [],
   "source": [
    "with open('../../data/misc/uniprot-to-sgdid.txt') as f:\n",
    "    mappings = {}\n",
    "    for line in f:\n",
    "        uniprot = line[95:106].rstrip()\n",
    "        orf = line[75:95].rstrip()\n",
    "        mappings[orf] = uniprot"
   ]
  },
  {
   "cell_type": "code",
   "execution_count": 27,
   "metadata": {},
   "outputs": [],
   "source": [
    "uni_id_with_pdb = []\n",
    "fdir = '/mnt/d/research/drummond-lab/data/cerevisiae-alphafold-output/'\n",
    "for orf in all_orfs:\n",
    "    uni_id = mappings[orf]\n",
    "    fpath = fdir + 'AF-' + str(uni_id) + '-F1-model_v1.pdb'\n",
    "    if path.exists(fpath):\n",
    "        uni_id_with_pdb.append(uni_id)"
   ]
  },
  {
   "cell_type": "code",
   "execution_count": 28,
   "metadata": {},
   "outputs": [],
   "source": [
    "df_valid_orfs = pd.read_csv('../../data/sc_orfs/verified_orfs_with_msa.csv')"
   ]
  },
  {
   "cell_type": "code",
   "execution_count": 29,
   "metadata": {},
   "outputs": [],
   "source": [
    "valid_orfs = df_valid_orfs['systematic_name'].to_list()"
   ]
  },
  {
   "cell_type": "code",
   "execution_count": 30,
   "metadata": {},
   "outputs": [],
   "source": [
    "with open('../../data/misc/uniprot-to-sgdid.txt') as f:\n",
    "    mappings = {}\n",
    "    for line in f:\n",
    "        uniprot = line[95:106].rstrip()\n",
    "        orf = line[75:95].rstrip()\n",
    "        mappings[orf] = uniprot"
   ]
  },
  {
   "cell_type": "code",
   "execution_count": 31,
   "metadata": {},
   "outputs": [],
   "source": [
    "valid_orfs_uniid = []\n",
    "for i in valid_orfs:\n",
    "    valid_orfs_uniid.append(mappings[i])"
   ]
  },
  {
   "cell_type": "code",
   "execution_count": 32,
   "metadata": {},
   "outputs": [],
   "source": [
    "valid_uniid = list(set(uni_id_with_pdb) & set(valid_orfs_uniid))"
   ]
  },
  {
   "cell_type": "code",
   "execution_count": 33,
   "metadata": {},
   "outputs": [
    {
     "data": {
      "text/plain": [
       "4660"
      ]
     },
     "execution_count": 33,
     "metadata": {},
     "output_type": "execute_result"
    }
   ],
   "source": [
    "len(valid_uniid)"
   ]
  },
  {
   "cell_type": "code",
   "execution_count": 34,
   "metadata": {},
   "outputs": [],
   "source": [
    "def extract_random_region_from_proteome(uni_id_with_pdb, regionlen, label):\n",
    "    fdir = '/mnt/d/research/drummond-lab/data/cerevisiae-alphafold-output/'\n",
    "    random_region = None\n",
    "    cnt = 0\n",
    "    while random_region is None:\n",
    "        randomi = random.randrange(len(valid_uniid))\n",
    "        uni_id = valid_uniid[randomi]\n",
    "        fpath = fdir + 'AF-' + str(uni_id) + '-F1-model_v1.pdb'\n",
    "        seq = pa.read_seq_from_pdb(fpath)\n",
    "        if len(seq) > regionlen:\n",
    "            starti = random.randrange(len(seq) - regionlen)\n",
    "            region_label = pa.get_structure_label(fdir, uni_id, starti, starti + regionlen)\n",
    "            if region_label == label:\n",
    "                random_region = seq[starti:(starti + regionlen + 1)] \n",
    "        cnt += 1\n",
    "        if cnt >= 500:\n",
    "            print(regionlen)\n",
    "    return uni_id, random_region, starti, (starti + regionlen)"
   ]
  },
  {
   "cell_type": "code",
   "execution_count": 35,
   "metadata": {},
   "outputs": [],
   "source": [
    "df_hc = df_hc[df_hc.label != 'unclassified']"
   ]
  },
  {
   "cell_type": "code",
   "execution_count": 36,
   "metadata": {},
   "outputs": [],
   "source": [
    "df_hc = df_hc.dropna(how='any')"
   ]
  },
  {
   "cell_type": "code",
   "execution_count": 39,
   "metadata": {},
   "outputs": [],
   "source": [
    "df_relaxed = pd.DataFrame(columns = ['uni_id', 'seq', 'left_bound', 'right_bound', 'label'])\n",
    "for i in range(5):\n",
    "    for index, row in df_hc.iterrows():\n",
    "        rv = {}\n",
    "        regionlen = row['region.len']\n",
    "        label = row['label']\n",
    "        params = extract_random_region_from_proteome(uni_id_with_pdb, regionlen, label)\n",
    "        rv['uni_id'] = params[0]\n",
    "        rv['seq'] = params[1]\n",
    "        rv['left_bound'] = params[2]\n",
    "        rv['right_bound'] = params[3]\n",
    "        rv['label'] = label\n",
    "        df_relaxed = df_relaxed.append(rv, ignore_index=True)"
   ]
  },
  {
   "cell_type": "code",
   "execution_count": 40,
   "metadata": {},
   "outputs": [
    {
     "data": {
      "text/plain": [
       "3915"
      ]
     },
     "execution_count": 40,
     "metadata": {},
     "output_type": "execute_result"
    }
   ],
   "source": [
    "len(df_relaxed)"
   ]
  },
  {
   "cell_type": "code",
   "execution_count": 42,
   "metadata": {},
   "outputs": [],
   "source": [
    "df_relaxed.to_csv('../../data/af_regions/random_af_regions_low_thresh.csv', index=False)"
   ]
  },
  {
   "cell_type": "markdown",
   "metadata": {},
   "source": [
    "## Timetree"
   ]
  },
  {
   "cell_type": "code",
   "execution_count": 3,
   "metadata": {},
   "outputs": [],
   "source": [
    "from Bio import Phylo\n",
    "from ete3 import Tree, NodeStyle, TreeStyle"
   ]
  },
  {
   "cell_type": "code",
   "execution_count": 4,
   "metadata": {},
   "outputs": [],
   "source": [
    "t = Tree('./data/timetree.nwk', format=1)"
   ]
  },
  {
   "cell_type": "code",
   "execution_count": 11,
   "metadata": {},
   "outputs": [],
   "source": [
    "for n in t.traverse(\"postorder\"):\n",
    "    if len(n.name) > 4:\n",
    "        n.name = n.name.replace(\"_\", \" \")"
   ]
  },
  {
   "cell_type": "code",
   "execution_count": 12,
   "metadata": {},
   "outputs": [],
   "source": [
    "ts = TreeStyle()\n",
    "ts.show_leaf_name = True\n",
    "ts.scale_length = 300"
   ]
  },
  {
   "cell_type": "code",
   "execution_count": 13,
   "metadata": {},
   "outputs": [
    {
     "data": {
      "text/plain": [
       "{'nodes': [[0.7750015492125985,\n",
       "   210.80042138582678,\n",
       "   6.975013942913386,\n",
       "   217.00043377952755,\n",
       "   0,\n",
       "   None],\n",
       "  [135.46491950931025,\n",
       "   75.95015182283464,\n",
       "   141.66493190301105,\n",
       "   82.15016421653543,\n",
       "   1,\n",
       "   None],\n",
       "  [289.0755778562992,\n",
       "   10.850021688976378,\n",
       "   295.27559025,\n",
       "   17.050034082677165,\n",
       "   2,\n",
       "   None],\n",
       "  [140.11492880458584,\n",
       "   141.0502819566929,\n",
       "   146.31494119828662,\n",
       "   147.25029435039372,\n",
       "   3,\n",
       "   None],\n",
       "  [194.25017066619336,\n",
       "   66.65013323228347,\n",
       "   200.45018305989416,\n",
       "   72.85014562598425,\n",
       "   4,\n",
       "   None],\n",
       "  [206.47445025223405,\n",
       "   48.05009605118111,\n",
       "   212.67446264593485,\n",
       "   54.25010844488189,\n",
       "   5,\n",
       "   None],\n",
       "  [303.02560574212606,\n",
       "   35.65007126377953,\n",
       "   309.22561813582683,\n",
       "   41.85008365748032,\n",
       "   6,\n",
       "   None],\n",
       "  [303.02560574212606,\n",
       "   60.45012083858268,\n",
       "   309.22561813582683,\n",
       "   66.65013323228347,\n",
       "   7,\n",
       "   None],\n",
       "  [298.37559644685047,\n",
       "   85.25017041338583,\n",
       "   304.57560884055124,\n",
       "   91.45018280708662,\n",
       "   8,\n",
       "   None],\n",
       "  [216.9711147333376,\n",
       "   215.45043068110238,\n",
       "   223.17112712703837,\n",
       "   221.65044307480315,\n",
       "   9,\n",
       "   None],\n",
       "  [244.07060321882832,\n",
       "   162.75032533464568,\n",
       "   250.27061561252913,\n",
       "   168.95033772834645,\n",
       "   10,\n",
       "   None],\n",
       "  [272.223573226348,\n",
       "   141.0502819566929,\n",
       "   278.4235856200488,\n",
       "   147.25029435039372,\n",
       "   11,\n",
       "   None],\n",
       "  [291.80499402148513,\n",
       "   122.45024477559056,\n",
       "   298.00500641518596,\n",
       "   128.65025716929134,\n",
       "   12,\n",
       "   None],\n",
       "  [312.3256243326772,\n",
       "   110.05021998818899,\n",
       "   318.52563672637797,\n",
       "   116.25023238188977,\n",
       "   13,\n",
       "   None],\n",
       "  [312.3256243326772,\n",
       "   134.85026956299214,\n",
       "   318.52563672637797,\n",
       "   141.0502819566929,\n",
       "   14,\n",
       "   None],\n",
       "  [307.67561503740166,\n",
       "   159.6503191377953,\n",
       "   313.87562743110243,\n",
       "   165.85033153149607,\n",
       "   15,\n",
       "   None],\n",
       "  [303.02560574212606,\n",
       "   184.45036871259842,\n",
       "   309.22561813582683,\n",
       "   190.65038110629922,\n",
       "   16,\n",
       "   None],\n",
       "  [269.48624542731807,\n",
       "   268.15053602755904,\n",
       "   275.68625782101884,\n",
       "   274.3505484212599,\n",
       "   17,\n",
       "   None],\n",
       "  [278.6061583246994,\n",
       "   240.25048025590553,\n",
       "   284.80617071840015,\n",
       "   246.4504926496063,\n",
       "   18,\n",
       "   None],\n",
       "  [284.23829800101083,\n",
       "   221.65044307480315,\n",
       "   290.4383103947116,\n",
       "   227.85045546850395,\n",
       "   19,\n",
       "   None],\n",
       "  [312.3256243326772,\n",
       "   209.25041828740157,\n",
       "   318.52563672637797,\n",
       "   215.45043068110238,\n",
       "   20,\n",
       "   None],\n",
       "  [312.3256243326772,\n",
       "   234.05046786220473,\n",
       "   318.52563672637797,\n",
       "   240.25048025590553,\n",
       "   21,\n",
       "   None],\n",
       "  [307.6756150374016,\n",
       "   258.8505174370079,\n",
       "   313.8756274311024,\n",
       "   265.0505298307087,\n",
       "   22,\n",
       "   None],\n",
       "  [276.83344454638916,\n",
       "   296.0505917992126,\n",
       "   283.03345694008993,\n",
       "   302.2506041929134,\n",
       "   23,\n",
       "   None],\n",
       "  [307.6756150374016,\n",
       "   283.650567011811,\n",
       "   313.8756274311024,\n",
       "   289.85057940551184,\n",
       "   24,\n",
       "   None],\n",
       "  [307.6756150374016,\n",
       "   308.45061658661416,\n",
       "   313.8756274311024,\n",
       "   314.650628980315,\n",
       "   25,\n",
       "   None],\n",
       "  [282.7463768227503,\n",
       "   345.6506909488189,\n",
       "   288.94638921645105,\n",
       "   351.8507033425197,\n",
       "   26,\n",
       "   None],\n",
       "  [289.0755778562992,\n",
       "   333.2506661614173,\n",
       "   295.27559025,\n",
       "   339.45067855511815,\n",
       "   27,\n",
       "   None],\n",
       "  [289.0755778562992,\n",
       "   358.05071573622047,\n",
       "   295.27559025,\n",
       "   364.2507281299213,\n",
       "   28,\n",
       "   None]],\n",
       " 'faces': [[294.50058870078743,\n",
       "   1.550003098425197,\n",
       "   582.801165007874,\n",
       "   26.350052673228348,\n",
       "   2,\n",
       "   'Schizosaccharomyces pombe'],\n",
       "  [308.4506165866142,\n",
       "   26.350052673228348,\n",
       "   492.9009852992126,\n",
       "   51.150102248031494,\n",
       "   6,\n",
       "   'Neurospora crassa'],\n",
       "  [308.4506165866142,\n",
       "   51.150102248031494,\n",
       "   494.4509883976378,\n",
       "   75.95015182283464,\n",
       "   7,\n",
       "   'Trichoderma reesei'],\n",
       "  [303.8006072913386,\n",
       "   75.95015182283464,\n",
       "   465.0009295275591,\n",
       "   100.7502013976378,\n",
       "   8,\n",
       "   'Aspergillus niger'],\n",
       "  [317.75063517716535,\n",
       "   100.7502013976378,\n",
       "   550.2510999409449,\n",
       "   125.55025097244095,\n",
       "   13,\n",
       "   'Debaryomyces hansenii'],\n",
       "  [317.75063517716535,\n",
       "   125.55025097244095,\n",
       "   575.0511495157481,\n",
       "   150.3503005472441,\n",
       "   14,\n",
       "   'Meyerozyma guilliermondii'],\n",
       "  [313.1006258818898,\n",
       "   150.3503005472441,\n",
       "   545.6010906456693,\n",
       "   175.15035012204726,\n",
       "   15,\n",
       "   'Scheffersomyces stipitis'],\n",
       "  [308.4506165866142,\n",
       "   175.15035012204726,\n",
       "   575.0511495157481,\n",
       "   199.9503996968504,\n",
       "   16,\n",
       "   'Brettanomyces bruxellensis'],\n",
       "  [317.75063517716535,\n",
       "   199.9503996968504,\n",
       "   576.6011526141732,\n",
       "   224.75044927165354,\n",
       "   20,\n",
       "   'Saccharomyces cerevisiae'],\n",
       "  [317.75063517716535,\n",
       "   224.75044927165354,\n",
       "   589.0011774015749,\n",
       "   249.5504988464567,\n",
       "   21,\n",
       "   'Vanderwaltozyma polyspora'],\n",
       "  [313.10062588188975,\n",
       "   249.5504988464567,\n",
       "   570.4011402204725,\n",
       "   274.3505484212599,\n",
       "   22,\n",
       "   'Zygosaccharomyces rouxii'],\n",
       "  [313.10062588188975,\n",
       "   274.3505484212599,\n",
       "   516.1510317755906,\n",
       "   299.150597996063,\n",
       "   24,\n",
       "   'Kluyveromyces lactis'],\n",
       "  [313.10062588188975,\n",
       "   299.150597996063,\n",
       "   570.4011402204725,\n",
       "   323.9506475708661,\n",
       "   25,\n",
       "   'Lachancea thermotolerans'],\n",
       "  [294.50058870078743,\n",
       "   323.9506475708661,\n",
       "   446.4008923464567,\n",
       "   348.7506971456693,\n",
       "   27,\n",
       "   'Pan troglodytes'],\n",
       "  [294.50058870078743,\n",
       "   348.7506971456693,\n",
       "   434.0008675590551,\n",
       "   373.55074672047243,\n",
       "   28,\n",
       "   'Homo sapiens']],\n",
       " 'node_areas': {0: [1.550003098425197,\n",
       "   1.550003098425197,\n",
       "   589.0011774015749,\n",
       "   373.55074672047243],\n",
       "  1: [6.200012393700788,\n",
       "   1.550003098425197,\n",
       "   589.0011774015749,\n",
       "   323.9506475708661],\n",
       "  2: [140.88993035379843,\n",
       "   1.550003098425197,\n",
       "   582.801165007874,\n",
       "   26.350052673228348],\n",
       "  3: [140.88993035379843,\n",
       "   26.350052673228348,\n",
       "   589.0011774015749,\n",
       "   323.9506475708661],\n",
       "  4: [145.53993964907403,\n",
       "   26.350052673228348,\n",
       "   494.4509883976378,\n",
       "   100.7502013976378],\n",
       "  5: [199.67518151068157,\n",
       "   26.350052673228348,\n",
       "   494.4509883976378,\n",
       "   75.95015182283464],\n",
       "  6: [211.89946109672223,\n",
       "   26.350052673228348,\n",
       "   492.9009852992126,\n",
       "   51.150102248031494],\n",
       "  7: [211.89946109672223,\n",
       "   51.150102248031494,\n",
       "   494.4509883976378,\n",
       "   75.95015182283464],\n",
       "  8: [199.67518151068157,\n",
       "   75.95015182283464,\n",
       "   465.0009295275591,\n",
       "   100.7502013976378],\n",
       "  9: [145.53993964907403,\n",
       "   100.7502013976378,\n",
       "   589.0011774015749,\n",
       "   323.9506475708661],\n",
       "  10: [222.39612557782579,\n",
       "   100.7502013976378,\n",
       "   575.0511495157481,\n",
       "   199.9503996968504],\n",
       "  11: [249.49561406331654,\n",
       "   100.7502013976378,\n",
       "   575.0511495157481,\n",
       "   175.15035012204726],\n",
       "  12: [277.6485840708362,\n",
       "   100.7502013976378,\n",
       "   575.0511495157481,\n",
       "   150.3503005472441],\n",
       "  13: [297.23000486597334,\n",
       "   100.7502013976378,\n",
       "   550.2510999409449,\n",
       "   125.55025097244095],\n",
       "  14: [297.23000486597334,\n",
       "   125.55025097244095,\n",
       "   575.0511495157481,\n",
       "   150.3503005472441],\n",
       "  15: [277.6485840708362,\n",
       "   150.3503005472441,\n",
       "   545.6010906456693,\n",
       "   175.15035012204726],\n",
       "  16: [249.49561406331654,\n",
       "   175.15035012204726,\n",
       "   575.0511495157481,\n",
       "   199.9503996968504],\n",
       "  17: [222.39612557782579,\n",
       "   199.9503996968504,\n",
       "   589.0011774015749,\n",
       "   323.9506475708661],\n",
       "  18: [274.9112562718062,\n",
       "   199.9503996968504,\n",
       "   589.0011774015749,\n",
       "   274.3505484212599],\n",
       "  19: [284.03116916918754,\n",
       "   199.9503996968504,\n",
       "   589.0011774015749,\n",
       "   249.5504988464567],\n",
       "  20: [289.663308845499,\n",
       "   199.9503996968504,\n",
       "   576.6011526141732,\n",
       "   224.75044927165354],\n",
       "  21: [289.663308845499,\n",
       "   224.75044927165354,\n",
       "   589.0011774015749,\n",
       "   249.5504988464567],\n",
       "  22: [284.03116916918754,\n",
       "   249.5504988464567,\n",
       "   570.4011402204725,\n",
       "   274.3505484212599],\n",
       "  23: [274.9112562718062,\n",
       "   274.3505484212599,\n",
       "   570.4011402204725,\n",
       "   323.9506475708661],\n",
       "  24: [282.2584553908774,\n",
       "   274.3505484212599,\n",
       "   516.1510317755906,\n",
       "   299.150597996063],\n",
       "  25: [282.2584553908774,\n",
       "   299.150597996063,\n",
       "   570.4011402204725,\n",
       "   323.9506475708661],\n",
       "  26: [6.200012393700788,\n",
       "   323.9506475708661,\n",
       "   446.4008923464567,\n",
       "   373.55074672047243],\n",
       "  27: [288.17138766723843,\n",
       "   323.9506475708661,\n",
       "   446.4008923464567,\n",
       "   348.7506971456693],\n",
       "  28: [288.17138766723843,\n",
       "   348.7506971456693,\n",
       "   434.0008675590551,\n",
       "   373.55074672047243]}}"
      ]
     },
     "execution_count": 13,
     "metadata": {},
     "output_type": "execute_result"
    }
   ],
   "source": [
    "t.render(\"./timetree.png\", tree_style=ts, w=50, units='mm', dpi=300)"
   ]
  },
  {
   "cell_type": "code",
   "execution_count": null,
   "metadata": {},
   "outputs": [],
   "source": []
  }
 ],
 "metadata": {
  "kernelspec": {
   "display_name": "Python 3",
   "language": "python",
   "name": "python3"
  },
  "language_info": {
   "codemirror_mode": {
    "name": "ipython",
    "version": 3
   },
   "file_extension": ".py",
   "mimetype": "text/x-python",
   "name": "python",
   "nbconvert_exporter": "python",
   "pygments_lexer": "ipython3",
   "version": "3.7.5"
  }
 },
 "nbformat": 4,
 "nbformat_minor": 2
}
