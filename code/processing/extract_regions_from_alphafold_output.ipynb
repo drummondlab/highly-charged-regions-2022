{
 "cells": [
  {
   "cell_type": "code",
   "execution_count": 1,
   "metadata": {},
   "outputs": [],
   "source": [
    "import sys\n",
    "sys.path.insert(1, '../scripts')"
   ]
  },
  {
   "cell_type": "code",
   "execution_count": 2,
   "metadata": {},
   "outputs": [],
   "source": [
    "import os\n",
    "import random\n",
    "import pandas as pd\n",
    "from itertools import groupby\n",
    "from operator import itemgetter\n",
    "import parseaf as pa\n",
    "import mdtraj as md"
   ]
  },
  {
   "cell_type": "code",
   "execution_count": 3,
   "metadata": {},
   "outputs": [],
   "source": [
    "import warnings\n",
    "warnings.filterwarnings('ignore')"
   ]
  },
  {
   "cell_type": "markdown",
   "metadata": {},
   "source": [
    "## Functions"
   ]
  },
  {
   "cell_type": "code",
   "execution_count": 5,
   "metadata": {},
   "outputs": [],
   "source": [
    "def find_helix_indices(ss, bfactor):\n",
    "    helix_indices = []\n",
    "    for i, label in enumerate(ss):\n",
    "        if (label == 'H') and (bfactor[i] >= 70):\n",
    "            helix_indices.append(i)\n",
    "    return helix_indices"
   ]
  },
  {
   "cell_type": "code",
   "execution_count": 6,
   "metadata": {},
   "outputs": [],
   "source": [
    "def find_disordered_indices(ss, bfactor):\n",
    "    disordered_indices = []\n",
    "    for i, label in enumerate(ss):\n",
    "        if ((label == 'C') and (bfactor[i] >= 70)) or (bfactor[i] < 50):\n",
    "            disordered_indices.append(i)\n",
    "    return disordered_indices"
   ]
  },
  {
   "cell_type": "code",
   "execution_count": 7,
   "metadata": {},
   "outputs": [],
   "source": [
    "def list_to_regions(indices, minlen=25):\n",
    "    ranges = []\n",
    "    for k, g in groupby(enumerate(indices), lambda x:x[0]-x[1]):\n",
    "        group = list(map(itemgetter(1), g))\n",
    "        if group[-1] - group[0] + 1 >= minlen:\n",
    "            ranges.append((group[0], group[-1]))\n",
    "    return ranges"
   ]
  },
  {
   "cell_type": "code",
   "execution_count": 9,
   "metadata": {},
   "outputs": [],
   "source": [
    "def append_len_region(row):\n",
    "    return len(row['region_seq'])"
   ]
  },
  {
   "cell_type": "markdown",
   "metadata": {},
   "source": [
    "## Extracting pure helices & pure disordered regions based on AlphaFold output"
   ]
  },
  {
   "cell_type": "code",
   "execution_count": 9,
   "metadata": {},
   "outputs": [],
   "source": [
    "df_all_orfs = pd.read_table('../../data/sc_orfs/yeast-all-orfs.txt', header=None, names=['orf'])"
   ]
  },
  {
   "cell_type": "code",
   "execution_count": 10,
   "metadata": {},
   "outputs": [],
   "source": [
    "all_orfs = df_all_orfs['orf'].tolist()"
   ]
  },
  {
   "cell_type": "code",
   "execution_count": 11,
   "metadata": {},
   "outputs": [],
   "source": [
    "with open('../../data/misc/uniprot-to-sgdid.txt') as f:\n",
    "    mappings = {}\n",
    "    for line in f:\n",
    "        uniprot = line[95:106].rstrip()\n",
    "        orf = line[75:95].rstrip()\n",
    "        mappings[orf] = uniprot"
   ]
  },
  {
   "cell_type": "code",
   "execution_count": 13,
   "metadata": {},
   "outputs": [],
   "source": [
    "uni_id_with_pdb = []\n",
    "fdir = '/Users/rosalindpan/drummondlab/hcrpaper_data/scerevisiae_alphafold/'\n",
    "for orf in all_orfs:\n",
    "    uni_id = mappings[orf]\n",
    "    fpath = fdir + 'AF-' + str(uni_id) + '-F1-model_v2.pdb'\n",
    "    if os.path.exists(fpath):\n",
    "        uni_id_with_pdb.append(uni_id)"
   ]
  },
  {
   "cell_type": "code",
   "execution_count": 14,
   "metadata": {
    "scrolled": true
   },
   "outputs": [],
   "source": [
    "fdir = '/Users/rosalindpan/drummondlab/hcrpaper_data/scerevisiae_alphafold/'\n",
    "df = pd.DataFrame(columns={'uni_id', 'start', 'end', 'region_seq'})\n",
    "for uni_id in uni_id_with_pdb:\n",
    "    fpath = fdir + 'AF-' + str(uni_id) + '-F1-model_v2.pdb'\n",
    "    pdb = pa.read_af_output(fdir, uni_id)\n",
    "    ss = md.compute_dssp(pdb, simplified=True)[0]\n",
    "    bfactor = pa.read_bfactor_from_pdb(fpath)\n",
    "    helix_indices = find_helix_indices(ss, bfactor)\n",
    "    regions = list_to_regions(helix_indices)\n",
    "    seq = pa.read_seq_from_pdb(fpath)\n",
    "    for r in regions:\n",
    "        df = df.append({'uni_id': uni_id, 'start': r[0], 'end': r[1], 'region_seq': seq[r[0]:(r[1]+1)]}, ignore_index=True)"
   ]
  },
  {
   "cell_type": "code",
   "execution_count": 15,
   "metadata": {},
   "outputs": [
    {
     "data": {
      "text/html": [
       "<div>\n",
       "<style scoped>\n",
       "    .dataframe tbody tr th:only-of-type {\n",
       "        vertical-align: middle;\n",
       "    }\n",
       "\n",
       "    .dataframe tbody tr th {\n",
       "        vertical-align: top;\n",
       "    }\n",
       "\n",
       "    .dataframe thead th {\n",
       "        text-align: right;\n",
       "    }\n",
       "</style>\n",
       "<table border=\"1\" class=\"dataframe\">\n",
       "  <thead>\n",
       "    <tr style=\"text-align: right;\">\n",
       "      <th></th>\n",
       "      <th>start</th>\n",
       "      <th>end</th>\n",
       "      <th>uni_id</th>\n",
       "      <th>region_seq</th>\n",
       "    </tr>\n",
       "  </thead>\n",
       "  <tbody>\n",
       "    <tr>\n",
       "      <th>0</th>\n",
       "      <td>1143</td>\n",
       "      <td>1185</td>\n",
       "      <td>P39702</td>\n",
       "      <td>VQDLKQLLLNVFNTYKLERSLSELIQKIIEDSSQDLVQQYRKF</td>\n",
       "    </tr>\n",
       "    <tr>\n",
       "      <th>1</th>\n",
       "      <td>508</td>\n",
       "      <td>551</td>\n",
       "      <td>P10591</td>\n",
       "      <td>KEDIEKMVAEAEKFKEEDEKESQRIASKNQLESIAYSLKNTISE</td>\n",
       "    </tr>\n",
       "    <tr>\n",
       "      <th>2</th>\n",
       "      <td>138</td>\n",
       "      <td>208</td>\n",
       "      <td>P39704</td>\n",
       "      <td>DIIANNAVEEIDRNLNKITKTLNYLRAREWRNMSTVNSTESRLTWL...</td>\n",
       "    </tr>\n",
       "    <tr>\n",
       "      <th>3</th>\n",
       "      <td>103</td>\n",
       "      <td>142</td>\n",
       "      <td>P18411</td>\n",
       "      <td>KQMFLGSLFGVVLGVTVAKISILFMYVGITSMLLCEWLRY</td>\n",
       "    </tr>\n",
       "    <tr>\n",
       "      <th>4</th>\n",
       "      <td>45</td>\n",
       "      <td>93</td>\n",
       "      <td>P18410</td>\n",
       "      <td>PASMIFRNLLILEDDLRRQAHEQKILKWQFTLFLASMAGVGAFTFYELY</td>\n",
       "    </tr>\n",
       "  </tbody>\n",
       "</table>\n",
       "</div>"
      ],
      "text/plain": [
       "  start   end  uni_id                                         region_seq\n",
       "0  1143  1185  P39702        VQDLKQLLLNVFNTYKLERSLSELIQKIIEDSSQDLVQQYRKF\n",
       "1   508   551  P10591       KEDIEKMVAEAEKFKEEDEKESQRIASKNQLESIAYSLKNTISE\n",
       "2   138   208  P39704  DIIANNAVEEIDRNLNKITKTLNYLRAREWRNMSTVNSTESRLTWL...\n",
       "3   103   142  P18411           KQMFLGSLFGVVLGVTVAKISILFMYVGITSMLLCEWLRY\n",
       "4    45    93  P18410  PASMIFRNLLILEDDLRRQAHEQKILKWQFTLFLASMAGVGAFTFYELY"
      ]
     },
     "execution_count": 15,
     "metadata": {},
     "output_type": "execute_result"
    }
   ],
   "source": [
    "df.head()"
   ]
  },
  {
   "cell_type": "code",
   "execution_count": 16,
   "metadata": {},
   "outputs": [],
   "source": [
    "df['len_region'] = df.apply(lambda row: append_len_region(row), axis=1)\n",
    "df['label'] = 'helix'"
   ]
  },
  {
   "cell_type": "code",
   "execution_count": 17,
   "metadata": {},
   "outputs": [],
   "source": [
    "fdir = '/Users/rosalindpan/drummondlab/hcrpaper_data/scerevisiae_alphafold/'\n",
    "disdf = pd.DataFrame(columns={'uni_id', 'start', 'end', 'region_seq'})\n",
    "for uni_id in uni_id_with_pdb:\n",
    "    fpath = fdir + 'AF-' + str(uni_id) + '-F1-model_v2.pdb'\n",
    "    pdb = pa.read_af_output(fdir, uni_id)\n",
    "    ss = md.compute_dssp(pdb, simplified=True)[0]\n",
    "    bfactor = pa.read_bfactor_from_pdb(fpath)\n",
    "    disorder_indices = find_disordered_indices(ss, bfactor)\n",
    "    regions = list_to_regions(disorder_indices)\n",
    "    seq = pa.read_seq_from_pdb(fpath)\n",
    "    for r in regions:\n",
    "        disdf = disdf.append({'uni_id': uni_id, 'start': r[0], 'end': r[1], 'region_seq': seq[r[0]:(r[1]+1)]}, ignore_index=True)"
   ]
  },
  {
   "cell_type": "code",
   "execution_count": 18,
   "metadata": {},
   "outputs": [],
   "source": [
    "disdf['len_region'] = disdf.apply(lambda row: append_len_region(row), axis=1)\n",
    "disdf['label'] = 'disordered'"
   ]
  },
  {
   "cell_type": "code",
   "execution_count": 19,
   "metadata": {},
   "outputs": [
    {
     "data": {
      "text/html": [
       "<div>\n",
       "<style scoped>\n",
       "    .dataframe tbody tr th:only-of-type {\n",
       "        vertical-align: middle;\n",
       "    }\n",
       "\n",
       "    .dataframe tbody tr th {\n",
       "        vertical-align: top;\n",
       "    }\n",
       "\n",
       "    .dataframe thead th {\n",
       "        text-align: right;\n",
       "    }\n",
       "</style>\n",
       "<table border=\"1\" class=\"dataframe\">\n",
       "  <thead>\n",
       "    <tr style=\"text-align: right;\">\n",
       "      <th></th>\n",
       "      <th>start</th>\n",
       "      <th>end</th>\n",
       "      <th>uni_id</th>\n",
       "      <th>region_seq</th>\n",
       "      <th>len_region</th>\n",
       "      <th>label</th>\n",
       "    </tr>\n",
       "  </thead>\n",
       "  <tbody>\n",
       "    <tr>\n",
       "      <th>0</th>\n",
       "      <td>1143</td>\n",
       "      <td>1185</td>\n",
       "      <td>P39702</td>\n",
       "      <td>VQDLKQLLLNVFNTYKLERSLSELIQKIIEDSSQDLVQQYRKF</td>\n",
       "      <td>43</td>\n",
       "      <td>helix</td>\n",
       "    </tr>\n",
       "    <tr>\n",
       "      <th>1</th>\n",
       "      <td>508</td>\n",
       "      <td>551</td>\n",
       "      <td>P10591</td>\n",
       "      <td>KEDIEKMVAEAEKFKEEDEKESQRIASKNQLESIAYSLKNTISE</td>\n",
       "      <td>44</td>\n",
       "      <td>helix</td>\n",
       "    </tr>\n",
       "    <tr>\n",
       "      <th>2</th>\n",
       "      <td>138</td>\n",
       "      <td>208</td>\n",
       "      <td>P39704</td>\n",
       "      <td>DIIANNAVEEIDRNLNKITKTLNYLRAREWRNMSTVNSTESRLTWL...</td>\n",
       "      <td>71</td>\n",
       "      <td>helix</td>\n",
       "    </tr>\n",
       "    <tr>\n",
       "      <th>3</th>\n",
       "      <td>103</td>\n",
       "      <td>142</td>\n",
       "      <td>P18411</td>\n",
       "      <td>KQMFLGSLFGVVLGVTVAKISILFMYVGITSMLLCEWLRY</td>\n",
       "      <td>40</td>\n",
       "      <td>helix</td>\n",
       "    </tr>\n",
       "    <tr>\n",
       "      <th>4</th>\n",
       "      <td>45</td>\n",
       "      <td>93</td>\n",
       "      <td>P18410</td>\n",
       "      <td>PASMIFRNLLILEDDLRRQAHEQKILKWQFTLFLASMAGVGAFTFYELY</td>\n",
       "      <td>49</td>\n",
       "      <td>helix</td>\n",
       "    </tr>\n",
       "    <tr>\n",
       "      <th>5</th>\n",
       "      <td>159</td>\n",
       "      <td>184</td>\n",
       "      <td>P18410</td>\n",
       "      <td>WDEKYTDSVRFVSRTIAYCNIYCLKK</td>\n",
       "      <td>26</td>\n",
       "      <td>helix</td>\n",
       "    </tr>\n",
       "    <tr>\n",
       "      <th>6</th>\n",
       "      <td>225</td>\n",
       "      <td>252</td>\n",
       "      <td>P18410</td>\n",
       "      <td>AEIREGWEIYRDEFWAREGARRRKQAHE</td>\n",
       "      <td>28</td>\n",
       "      <td>helix</td>\n",
       "    </tr>\n",
       "    <tr>\n",
       "      <th>7</th>\n",
       "      <td>372</td>\n",
       "      <td>407</td>\n",
       "      <td>P18409</td>\n",
       "      <td>VHKQKLLNDLTYAFSSSLRKIDEERSTIEKFDNKIN</td>\n",
       "      <td>36</td>\n",
       "      <td>helix</td>\n",
       "    </tr>\n",
       "    <tr>\n",
       "      <th>8</th>\n",
       "      <td>176</td>\n",
       "      <td>249</td>\n",
       "      <td>P31376</td>\n",
       "      <td>DKIEQKWQDEQELKKKEKELKRKNDAEAKRLRMEERKRQQMQKKIA...</td>\n",
       "      <td>74</td>\n",
       "      <td>helix</td>\n",
       "    </tr>\n",
       "    <tr>\n",
       "      <th>9</th>\n",
       "      <td>171</td>\n",
       "      <td>216</td>\n",
       "      <td>P31385</td>\n",
       "      <td>PIEMEEQRMTALKEITDIEYKFAQLRQKLYDNQLVRLQTELQMCLE</td>\n",
       "      <td>46</td>\n",
       "      <td>helix</td>\n",
       "    </tr>\n",
       "  </tbody>\n",
       "</table>\n",
       "</div>"
      ],
      "text/plain": [
       "  start   end  uni_id                                         region_seq  \\\n",
       "0  1143  1185  P39702        VQDLKQLLLNVFNTYKLERSLSELIQKIIEDSSQDLVQQYRKF   \n",
       "1   508   551  P10591       KEDIEKMVAEAEKFKEEDEKESQRIASKNQLESIAYSLKNTISE   \n",
       "2   138   208  P39704  DIIANNAVEEIDRNLNKITKTLNYLRAREWRNMSTVNSTESRLTWL...   \n",
       "3   103   142  P18411           KQMFLGSLFGVVLGVTVAKISILFMYVGITSMLLCEWLRY   \n",
       "4    45    93  P18410  PASMIFRNLLILEDDLRRQAHEQKILKWQFTLFLASMAGVGAFTFYELY   \n",
       "5   159   184  P18410                         WDEKYTDSVRFVSRTIAYCNIYCLKK   \n",
       "6   225   252  P18410                       AEIREGWEIYRDEFWAREGARRRKQAHE   \n",
       "7   372   407  P18409               VHKQKLLNDLTYAFSSSLRKIDEERSTIEKFDNKIN   \n",
       "8   176   249  P31376  DKIEQKWQDEQELKKKEKELKRKNDAEAKRLRMEERKRQQMQKKIA...   \n",
       "9   171   216  P31385     PIEMEEQRMTALKEITDIEYKFAQLRQKLYDNQLVRLQTELQMCLE   \n",
       "\n",
       "   len_region  label  \n",
       "0          43  helix  \n",
       "1          44  helix  \n",
       "2          71  helix  \n",
       "3          40  helix  \n",
       "4          49  helix  \n",
       "5          26  helix  \n",
       "6          28  helix  \n",
       "7          36  helix  \n",
       "8          74  helix  \n",
       "9          46  helix  "
      ]
     },
     "execution_count": 19,
     "metadata": {},
     "output_type": "execute_result"
    }
   ],
   "source": [
    "df_all = pd.concat([df, disdf], axis=0)\n",
    "df_all.head(10)"
   ]
  },
  {
   "cell_type": "code",
   "execution_count": 20,
   "metadata": {},
   "outputs": [],
   "source": [
    "df_all.to_csv('../../data/af_regions/sc_af_regions_all.csv', index=False)"
   ]
  },
  {
   "cell_type": "markdown",
   "metadata": {},
   "source": [
    "## Doing it again for fission yeast"
   ]
  },
  {
   "cell_type": "code",
   "execution_count": 11,
   "metadata": {},
   "outputs": [],
   "source": [
    "fdir = '/Users/rosalindpan/drummondlab/hcrpaper_data/pombe_alphafold/'\n",
    "directory = os.fsencode(fdir)\n",
    "df = pd.DataFrame(columns={'uni_id', 'start', 'end', 'region_seq'})\n",
    "for file in os.listdir(directory):\n",
    "    filename = os.fsdecode(file)\n",
    "    if filename.endswith(\".pdb\"):\n",
    "        fpath = fdir + filename\n",
    "        uni_id = filename.split('-')[1]\n",
    "        pdb = pa.read_af_output(fdir, uni_id)\n",
    "        ss = md.compute_dssp(pdb, simplified=True)[0]\n",
    "        bfactor = pa.read_bfactor_from_pdb(fpath)\n",
    "        helix_indices = find_helix_indices(ss, bfactor)\n",
    "        regions = list_to_regions(helix_indices)\n",
    "        seq = pa.read_seq_from_pdb(fpath)\n",
    "        for r in regions:\n",
    "            df = df.append({'uni_id': uni_id,\n",
    "                            'start': r[0],\n",
    "                            'end': r[1],\n",
    "                            'region_seq': seq[r[0]:(r[1]+1)]},\n",
    "                           ignore_index=True)\n",
    "        continue"
   ]
  },
  {
   "cell_type": "code",
   "execution_count": 12,
   "metadata": {},
   "outputs": [],
   "source": [
    "df['len_region'] = df.apply(lambda row: append_len_region(row), axis=1)\n",
    "df['label'] = 'helix'"
   ]
  },
  {
   "cell_type": "code",
   "execution_count": 13,
   "metadata": {},
   "outputs": [],
   "source": [
    "fdir = '/Users/rosalindpan/drummondlab/hcrpaper_data/pombe_alphafold/'\n",
    "directory = os.fsencode(fdir)\n",
    "disdf = pd.DataFrame(columns={'uni_id', 'start', 'end', 'region_seq'})\n",
    "for file in os.listdir(directory):\n",
    "    filename = os.fsdecode(file)\n",
    "    if filename.endswith(\".pdb\"):\n",
    "        fpath = fdir + filename\n",
    "        uni_id = filename.split('-')[1]\n",
    "        pdb = pa.read_af_output(fdir, uni_id)\n",
    "        ss = md.compute_dssp(pdb, simplified=True)[0]\n",
    "        bfactor = pa.read_bfactor_from_pdb(fpath)\n",
    "        disorder_indices = find_disordered_indices(ss, bfactor)\n",
    "        regions = list_to_regions(disorder_indices)\n",
    "        seq = pa.read_seq_from_pdb(fpath)\n",
    "        for r in regions:\n",
    "            disdf = disdf.append({'uni_id': uni_id,\n",
    "                            'start': r[0],\n",
    "                            'end': r[1],\n",
    "                            'region_seq': seq[r[0]:(r[1]+1)]},\n",
    "                            ignore_index=True)\n",
    "        continue"
   ]
  },
  {
   "cell_type": "code",
   "execution_count": 14,
   "metadata": {},
   "outputs": [],
   "source": [
    "disdf['len_region'] = disdf.apply(lambda row: append_len_region(row), axis=1)\n",
    "disdf['label'] = 'disordered'"
   ]
  },
  {
   "cell_type": "code",
   "execution_count": 15,
   "metadata": {},
   "outputs": [],
   "source": [
    "df_pombe = pd.concat([df, disdf], axis=0)"
   ]
  },
  {
   "cell_type": "code",
   "execution_count": 16,
   "metadata": {},
   "outputs": [],
   "source": [
    "df_pombe.to_csv('../../data/af_regions/pombe_af_regions.csv', index=False)"
   ]
  },
  {
   "cell_type": "markdown",
   "metadata": {},
   "source": [
    "## Doing it one more time for homo sapiens"
   ]
  },
  {
   "cell_type": "code",
   "execution_count": 18,
   "metadata": {},
   "outputs": [],
   "source": [
    "fdir = '/Users/rosalindpan/drummondlab/hcrpaper_data/hsapiens_alphafold/'\n",
    "directory = os.fsencode(fdir)\n",
    "df = pd.DataFrame(columns={'uni_id', 'start', 'end', 'region_seq'})\n",
    "for file in os.listdir(directory):\n",
    "    filename = os.fsdecode(file)\n",
    "    if filename.endswith(\"F1-model_v3.pdb\"):\n",
    "        fpath = fdir + filename\n",
    "        uni_id = filename.split('-')[1]\n",
    "        pdb = pa.read_af_output(fdir, uni_id)\n",
    "        ss = md.compute_dssp(pdb, simplified=True)[0]\n",
    "        bfactor = pa.read_bfactor_from_pdb(fpath)\n",
    "        helix_indices = find_helix_indices(ss, bfactor)\n",
    "        regions = list_to_regions(helix_indices)\n",
    "        seq = pa.read_seq_from_pdb(fpath)\n",
    "        for r in regions:\n",
    "            df = df.append({'uni_id': uni_id,\n",
    "                            'start': r[0],\n",
    "                            'end': r[1],\n",
    "                            'region_seq': seq[r[0]:(r[1]+1)]},\n",
    "                           ignore_index=True)\n",
    "        continue"
   ]
  },
  {
   "cell_type": "code",
   "execution_count": 19,
   "metadata": {},
   "outputs": [],
   "source": [
    "df['len_region'] = df.apply(lambda row: append_len_region(row), axis=1)\n",
    "df['label'] = 'helix'"
   ]
  },
  {
   "cell_type": "code",
   "execution_count": 20,
   "metadata": {},
   "outputs": [],
   "source": [
    "fdir = '/Users/rosalindpan/drummondlab/hcrpaper_data/hsapiens_alphafold/'\n",
    "directory = os.fsencode(fdir)\n",
    "disdf = pd.DataFrame(columns={'uni_id', 'start', 'end', 'region_seq'})\n",
    "for file in os.listdir(directory):\n",
    "    filename = os.fsdecode(file)\n",
    "    if filename.endswith(\"F1-model_v3.pdb\"):\n",
    "        fpath = fdir + filename\n",
    "        uni_id = filename.split('-')[1]\n",
    "        pdb = pa.read_af_output(fdir, uni_id)\n",
    "        ss = md.compute_dssp(pdb, simplified=True)[0]\n",
    "        bfactor = pa.read_bfactor_from_pdb(fpath)\n",
    "        disorder_indices = find_disordered_indices(ss, bfactor)\n",
    "        regions = list_to_regions(disorder_indices)\n",
    "        seq = pa.read_seq_from_pdb(fpath)\n",
    "        for r in regions:\n",
    "            disdf = disdf.append({'uni_id': uni_id,\n",
    "                            'start': r[0],\n",
    "                            'end': r[1],\n",
    "                            'region_seq': seq[r[0]:(r[1]+1)]},\n",
    "                            ignore_index=True)\n",
    "        continue"
   ]
  },
  {
   "cell_type": "code",
   "execution_count": 21,
   "metadata": {},
   "outputs": [],
   "source": [
    "disdf['len_region'] = disdf.apply(lambda row: append_len_region(row), axis=1)\n",
    "disdf['label'] = 'disordered'"
   ]
  },
  {
   "cell_type": "code",
   "execution_count": 22,
   "metadata": {},
   "outputs": [],
   "source": [
    "df_human = pd.concat([df, disdf], axis=0)"
   ]
  },
  {
   "cell_type": "code",
   "execution_count": 23,
   "metadata": {},
   "outputs": [],
   "source": [
    "df_human.to_csv('../../data/af_regions/hsapiens_af_regions.csv', index=False)"
   ]
  },
  {
   "cell_type": "markdown",
   "metadata": {},
   "source": [
    "## Doing it one more time for c elegans"
   ]
  },
  {
   "cell_type": "code",
   "execution_count": 25,
   "metadata": {},
   "outputs": [],
   "source": [
    "fdir = '/Users/rosalindpan/drummondlab/hcrpaper_data/celegans_alphafold/'\n",
    "directory = os.fsencode(fdir)\n",
    "df = pd.DataFrame(columns={'uni_id', 'start', 'end', 'region_seq'})\n",
    "for file in os.listdir(directory):\n",
    "    filename = os.fsdecode(file)\n",
    "    if filename.endswith(\"F1-model_v3.pdb\"):\n",
    "        fpath = fdir + filename\n",
    "        uni_id = filename.split('-')[1]\n",
    "        pdb = md.load(fpath)\n",
    "        ss = md.compute_dssp(pdb, simplified=True)[0]\n",
    "        bfactor = pa.read_bfactor_from_pdb(fpath)\n",
    "        helix_indices = find_helix_indices(ss, bfactor)\n",
    "        regions = list_to_regions(helix_indices)\n",
    "        seq = pa.read_seq_from_pdb(fpath)\n",
    "        for r in regions:\n",
    "            df = df.append({'uni_id': uni_id,\n",
    "                            'start': r[0],\n",
    "                            'end': r[1],\n",
    "                            'region_seq': seq[r[0]:(r[1]+1)]},\n",
    "                           ignore_index=True)\n",
    "        continue"
   ]
  },
  {
   "cell_type": "code",
   "execution_count": 26,
   "metadata": {},
   "outputs": [],
   "source": [
    "df['len_region'] = df.apply(lambda row: append_len_region(row), axis=1)\n",
    "df['label'] = 'helix'"
   ]
  },
  {
   "cell_type": "code",
   "execution_count": 27,
   "metadata": {},
   "outputs": [],
   "source": [
    "fdir = '/Users/rosalindpan/drummondlab/hcrpaper_data/celegans_alphafold/'\n",
    "directory = os.fsencode(fdir)\n",
    "disdf = pd.DataFrame(columns={'uni_id', 'start', 'end', 'region_seq'})\n",
    "for file in os.listdir(directory):\n",
    "    filename = os.fsdecode(file)\n",
    "    if filename.endswith(\"F1-model_v3.pdb\"):\n",
    "        fpath = fdir + filename\n",
    "        uni_id = filename.split('-')[1]\n",
    "        pdb = md.load(fpath)\n",
    "        ss = md.compute_dssp(pdb, simplified=True)[0]\n",
    "        bfactor = pa.read_bfactor_from_pdb(fpath)\n",
    "        disorder_indices = find_disordered_indices(ss, bfactor)\n",
    "        regions = list_to_regions(disorder_indices)\n",
    "        seq = pa.read_seq_from_pdb(fpath)\n",
    "        for r in regions:\n",
    "            disdf = disdf.append({'uni_id': uni_id,\n",
    "                            'start': r[0],\n",
    "                            'end': r[1],\n",
    "                            'region_seq': seq[r[0]:(r[1]+1)]},\n",
    "                            ignore_index=True)\n",
    "        continue"
   ]
  },
  {
   "cell_type": "code",
   "execution_count": 28,
   "metadata": {},
   "outputs": [],
   "source": [
    "disdf['len_region'] = disdf.apply(lambda row: append_len_region(row), axis=1)\n",
    "disdf['label'] = 'disordered'"
   ]
  },
  {
   "cell_type": "code",
   "execution_count": 29,
   "metadata": {},
   "outputs": [],
   "source": [
    "df_celegans = pd.concat([df, disdf], axis=0)"
   ]
  },
  {
   "cell_type": "code",
   "execution_count": 30,
   "metadata": {},
   "outputs": [],
   "source": [
    "df_celegans.to_csv('../../data/af_regions/celegans_af_regions.csv', index=False)"
   ]
  },
  {
   "cell_type": "markdown",
   "metadata": {},
   "source": [
    "## Extracting random non-highly-charged regions from yeast AlphaFold output"
   ]
  },
  {
   "cell_type": "code",
   "execution_count": 4,
   "metadata": {},
   "outputs": [],
   "source": [
    "def append_structure_label(row):\n",
    "    fdir = '/Users/rosalindpan/drummondlab/hcrpaper_data/scerevisiae_alphafold/'\n",
    "    uni_id = row['uni_id']\n",
    "    left_bound = row['left.bound']\n",
    "    right_bound = row['right.bound']\n",
    "    label = pa.get_structure_label(fdir, uni_id, left_bound, right_bound)\n",
    "    return label"
   ]
  },
  {
   "cell_type": "code",
   "execution_count": 5,
   "metadata": {},
   "outputs": [],
   "source": [
    "df_all_orfs = pd.read_table('../../data/sc_orfs/yeast-all-orfs.txt', header=None, names=['orf'])"
   ]
  },
  {
   "cell_type": "code",
   "execution_count": 6,
   "metadata": {},
   "outputs": [],
   "source": [
    "all_orfs = df_all_orfs['orf'].tolist()"
   ]
  },
  {
   "cell_type": "code",
   "execution_count": 7,
   "metadata": {},
   "outputs": [],
   "source": [
    "with open('../../data/misc/uniprot-to-sgdid.txt') as f:\n",
    "    mappings = {}\n",
    "    for line in f:\n",
    "        uniprot = line[95:106].rstrip()\n",
    "        orf = line[75:95].rstrip()\n",
    "        mappings[orf] = uniprot"
   ]
  },
  {
   "cell_type": "code",
   "execution_count": 8,
   "metadata": {},
   "outputs": [],
   "source": [
    "uni_id_with_pdb = []\n",
    "fdir = '/Users/rosalindpan/drummondlab/hcrpaper_data/scerevisiae_alphafold/'\n",
    "for orf in all_orfs:\n",
    "    uni_id = mappings[orf]\n",
    "    fpath = fdir + 'AF-' + str(uni_id) + '-F1-model_v2.pdb'\n",
    "    if os.path.exists(fpath):\n",
    "        uni_id_with_pdb.append(uni_id)"
   ]
  },
  {
   "cell_type": "code",
   "execution_count": 9,
   "metadata": {},
   "outputs": [],
   "source": [
    "df_valid_orfs = pd.read_csv('../../data/sc_orfs/verified_orfs_with_msa.csv')"
   ]
  },
  {
   "cell_type": "code",
   "execution_count": 10,
   "metadata": {},
   "outputs": [],
   "source": [
    "valid_orfs = df_valid_orfs['systematic_name'].to_list()"
   ]
  },
  {
   "cell_type": "code",
   "execution_count": 11,
   "metadata": {},
   "outputs": [],
   "source": [
    "with open('../../data/misc/uniprot-to-sgdid.txt') as f:\n",
    "    mappings = {}\n",
    "    for line in f:\n",
    "        uniprot = line[95:106].rstrip()\n",
    "        orf = line[75:95].rstrip()\n",
    "        mappings[orf] = uniprot"
   ]
  },
  {
   "cell_type": "code",
   "execution_count": 12,
   "metadata": {},
   "outputs": [],
   "source": [
    "valid_orfs_uniid = []\n",
    "for i in valid_orfs:\n",
    "    valid_orfs_uniid.append(mappings[i])"
   ]
  },
  {
   "cell_type": "code",
   "execution_count": 13,
   "metadata": {},
   "outputs": [],
   "source": [
    "valid_uniid = list(set(uni_id_with_pdb) & set(valid_orfs_uniid))"
   ]
  },
  {
   "cell_type": "code",
   "execution_count": 14,
   "metadata": {},
   "outputs": [
    {
     "data": {
      "text/plain": [
       "4660"
      ]
     },
     "execution_count": 14,
     "metadata": {},
     "output_type": "execute_result"
    }
   ],
   "source": [
    "len(valid_uniid)"
   ]
  },
  {
   "cell_type": "code",
   "execution_count": 15,
   "metadata": {},
   "outputs": [],
   "source": [
    "def extract_random_region_from_proteome(uni_id_with_pdb, regionlen, label):\n",
    "    fdir = '/Users/rosalindpan/drummondlab/hcrpaper_data/scerevisiae_alphafold/'\n",
    "    random_region = None\n",
    "    cnt = 0\n",
    "    while random_region is None:\n",
    "        randomi = random.randrange(len(valid_uniid))\n",
    "        uni_id = valid_uniid[randomi]\n",
    "        fpath = fdir + 'AF-' + str(uni_id) + '-F1-model_v2.pdb'\n",
    "        seq = pa.read_seq_from_pdb(fpath)\n",
    "        if len(seq) > regionlen:\n",
    "            starti = random.randrange(len(seq) - regionlen)\n",
    "            region_label = pa.get_structure_label(fdir, uni_id, starti, starti + regionlen)\n",
    "            if region_label == label:\n",
    "                random_region = seq[starti:(starti + regionlen + 1)] \n",
    "        cnt += 1\n",
    "        if cnt >= 500:\n",
    "            print(regionlen)\n",
    "    return uni_id, random_region, starti, (starti + regionlen)"
   ]
  },
  {
   "cell_type": "code",
   "execution_count": 16,
   "metadata": {},
   "outputs": [],
   "source": [
    "df_hc = pd.read_csv('../../data/charged_regions/cr_trimmed_filtered_aflabel.csv')"
   ]
  },
  {
   "cell_type": "code",
   "execution_count": 17,
   "metadata": {},
   "outputs": [],
   "source": [
    "df_hc = df_hc[df_hc.label != 'unclassified']"
   ]
  },
  {
   "cell_type": "code",
   "execution_count": 18,
   "metadata": {},
   "outputs": [],
   "source": [
    "df_hc = df_hc.dropna(how='any')"
   ]
  },
  {
   "cell_type": "code",
   "execution_count": 21,
   "metadata": {},
   "outputs": [],
   "source": [
    "df_relaxed = pd.DataFrame(columns = ['uni_id', 'seq', 'left_bound', 'right_bound', 'label'])\n",
    "for i in range(5):\n",
    "    for index, row in df_hc.iterrows():\n",
    "        rv = {}\n",
    "        regionlen = row['region.len']\n",
    "        label = row['label']\n",
    "        params = extract_random_region_from_proteome(uni_id_with_pdb, regionlen, label)\n",
    "        rv['uni_id'] = params[0]\n",
    "        rv['seq'] = params[1]\n",
    "        rv['left_bound'] = params[2]\n",
    "        rv['right_bound'] = params[3]\n",
    "        rv['label'] = label\n",
    "        df_relaxed = df_relaxed.append(rv, ignore_index=True)"
   ]
  },
  {
   "cell_type": "code",
   "execution_count": 20,
   "metadata": {},
   "outputs": [
    {
     "data": {
      "text/plain": [
       "1826"
      ]
     },
     "execution_count": 20,
     "metadata": {},
     "output_type": "execute_result"
    }
   ],
   "source": [
    "len(df_relaxed)"
   ]
  },
  {
   "cell_type": "code",
   "execution_count": 22,
   "metadata": {},
   "outputs": [],
   "source": [
    "df_relaxed.to_csv('../../data/af_regions/random_af_regions_low_thresh.csv', index=False)"
   ]
  }
 ],
 "metadata": {
  "kernelspec": {
   "display_name": "Python 3.9.12 ('env_hcr')",
   "language": "python",
   "name": "python3"
  },
  "language_info": {
   "codemirror_mode": {
    "name": "ipython",
    "version": 3
   },
   "file_extension": ".py",
   "mimetype": "text/x-python",
   "name": "python",
   "nbconvert_exporter": "python",
   "pygments_lexer": "ipython3",
   "version": "3.9.12"
  },
  "vscode": {
   "interpreter": {
    "hash": "cf9c92407ea329efb8c9016a715d7811f432985378f61b50691b48c8c409138b"
   }
  }
 },
 "nbformat": 4,
 "nbformat_minor": 2
}
