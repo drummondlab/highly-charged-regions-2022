{
 "cells": [
  {
   "cell_type": "markdown",
   "metadata": {
    "toc": true
   },
   "source": [
    "<h1>Table of Contents<span class=\"tocSkip\"></span></h1>\n",
    "<div class=\"toc\"><ul class=\"toc-item\"><li><span><a href=\"#Low-charge-asymmetry-sequences\" data-toc-modified-id=\"Low-charge-asymmetry-sequences-1\">Low charge asymmetry sequences</a></span></li><li><span><a href=\"#High-charge-asymmetry-sequences\" data-toc-modified-id=\"High-charge-asymmetry-sequences-2\">High charge asymmetry sequences</a></span></li></ul></div>"
   ]
  },
  {
   "cell_type": "code",
   "execution_count": 2,
   "metadata": {},
   "outputs": [
    {
     "data": {
      "text/html": [
       "<style>.container { width:500px; }</style>"
      ],
      "text/plain": [
       "<IPython.core.display.HTML object>"
      ]
     },
     "metadata": {},
     "output_type": "display_data"
    }
   ],
   "source": [
    "import matplotlib.colors as mcolors\n",
    "from matplotlib import cm\n",
    "import numpy as np\n",
    "from string import ascii_uppercase\n",
    "\n",
    "from IPython.core.display import display, HTML, Image\n",
    "\n",
    "display(HTML(\"<style>.container { width:500px; }</style>\"))"
   ]
  },
  {
   "cell_type": "code",
   "execution_count": 3,
   "metadata": {},
   "outputs": [],
   "source": [
    "def print_aas(seq, colormap=None):\n",
    "    \"\"\"\n",
    "    Given a sequence, print the sequence with a given colormap, which should be a dictionary with every amino acid\n",
    "    single letter code as the keys, and the values hexidecimal codes specifying the desired color.\n",
    "    \"\"\"\n",
    "    seq = list(seq)\n",
    "    \n",
    "    forbidden = ['B', 'J', 'O', 'U', 'X', 'Z']\n",
    "    aas = []\n",
    "    for a in ascii_uppercase:\n",
    "        if a not in forbidden:\n",
    "            aas.append(a)\n",
    "    if not colormap:\n",
    "        colors = [\"#2F2B2B\", \"#2F2B2B\", \"#BC3227\", \"#BC3227\", \"#2F2B2B\", \"#2F2B2B\", \"#66606A\", \"#2F2B2B\", \"#0B44BD\", \\\n",
    "                  \"#2F2B2B\", \"#2F2B2B\", \"#2F2B2B\", \"#2F2B2B\", \"#2F2B2B\", \"#0B44BD\", \"#2F2B2B\", \"#2F2B2B\", \"#2F2B2B\", \\\n",
    "                  \"#2F2B2B\", \"#2F2B2B\"]\n",
    "        colormap = dict(zip(aas, colors))\n",
    "    hexcolor = [colormap[aa] for aa in seq]\n",
    "    letter = lambda x: \"<span style='color:{};'>{}</span>\".format(x[1],x[0])\n",
    "    text = \" \".join(list(map(letter, zip(seq,hexcolor))))\n",
    "    text = \"<div style='font-size:14pt;font-weight:bold;font-family:Courier;letter-spacing: -4px;'>\" + text + \"</div>\"\n",
    "    display(HTML(text))\n",
    "    #return(colors)"
   ]
  },
  {
   "cell_type": "markdown",
   "metadata": {},
   "source": [
    "## Low charge asymmetry sequences"
   ]
  },
  {
   "cell_type": "markdown",
   "metadata": {},
   "source": [
    "**MODEL SEQUENCE (sv1)**\n",
    "\n",
    "$\\kappa$=0.0009"
   ]
  },
  {
   "cell_type": "code",
   "execution_count": 4,
   "metadata": {},
   "outputs": [
    {
     "data": {
      "text/html": [
       "<div style='font-size:14pt;font-weight:bold;font-family:Courier;letter-spacing: -4px;'><span style='color:#BC3227;'>E</span> <span style='color:#0B44BD;'>K</span> <span style='color:#BC3227;'>E</span> <span style='color:#0B44BD;'>K</span> <span style='color:#BC3227;'>E</span> <span style='color:#0B44BD;'>K</span> <span style='color:#BC3227;'>E</span> <span style='color:#0B44BD;'>K</span> <span style='color:#BC3227;'>E</span> <span style='color:#0B44BD;'>K</span> <span style='color:#BC3227;'>E</span> <span style='color:#0B44BD;'>K</span> <span style='color:#BC3227;'>E</span> <span style='color:#0B44BD;'>K</span> <span style='color:#BC3227;'>E</span> <span style='color:#0B44BD;'>K</span> <span style='color:#BC3227;'>E</span> <span style='color:#0B44BD;'>K</span> <span style='color:#BC3227;'>E</span> <span style='color:#0B44BD;'>K</span> <span style='color:#BC3227;'>E</span> <span style='color:#0B44BD;'>K</span> <span style='color:#BC3227;'>E</span> <span style='color:#0B44BD;'>K</span> <span style='color:#BC3227;'>E</span> <span style='color:#0B44BD;'>K</span> <span style='color:#BC3227;'>E</span> <span style='color:#0B44BD;'>K</span> <span style='color:#BC3227;'>E</span> <span style='color:#0B44BD;'>K</span> <span style='color:#BC3227;'>E</span> <span style='color:#0B44BD;'>K</span> <span style='color:#BC3227;'>E</span> <span style='color:#0B44BD;'>K</span> <span style='color:#BC3227;'>E</span> <span style='color:#0B44BD;'>K</span> <span style='color:#BC3227;'>E</span> <span style='color:#0B44BD;'>K</span> <span style='color:#BC3227;'>E</span> <span style='color:#0B44BD;'>K</span></div>"
      ],
      "text/plain": [
       "<IPython.core.display.HTML object>"
      ]
     },
     "metadata": {},
     "output_type": "display_data"
    }
   ],
   "source": [
    "print_aas('EK'*20)"
   ]
  },
  {
   "cell_type": "markdown",
   "metadata": {},
   "source": [
    "**MODEL SEQUENCE (sv4)**\n",
    "\n",
    "$\\kappa$=0.0140"
   ]
  },
  {
   "cell_type": "code",
   "execution_count": 5,
   "metadata": {},
   "outputs": [
    {
     "data": {
      "text/html": [
       "<div style='font-size:14pt;font-weight:bold;font-family:Courier;letter-spacing: -4px;'><span style='color:#0B44BD;'>K</span> <span style='color:#BC3227;'>E</span> <span style='color:#0B44BD;'>K</span> <span style='color:#BC3227;'>E</span> <span style='color:#0B44BD;'>K</span> <span style='color:#0B44BD;'>K</span> <span style='color:#BC3227;'>E</span> <span style='color:#BC3227;'>E</span> <span style='color:#0B44BD;'>K</span> <span style='color:#BC3227;'>E</span> <span style='color:#0B44BD;'>K</span> <span style='color:#0B44BD;'>K</span> <span style='color:#BC3227;'>E</span> <span style='color:#BC3227;'>E</span> <span style='color:#BC3227;'>E</span> <span style='color:#0B44BD;'>K</span> <span style='color:#0B44BD;'>K</span> <span style='color:#BC3227;'>E</span> <span style='color:#0B44BD;'>K</span> <span style='color:#BC3227;'>E</span> <span style='color:#0B44BD;'>K</span> <span style='color:#BC3227;'>E</span> <span style='color:#0B44BD;'>K</span> <span style='color:#0B44BD;'>K</span> <span style='color:#0B44BD;'>K</span> <span style='color:#BC3227;'>E</span> <span style='color:#BC3227;'>E</span> <span style='color:#0B44BD;'>K</span> <span style='color:#0B44BD;'>K</span> <span style='color:#0B44BD;'>K</span> <span style='color:#BC3227;'>E</span> <span style='color:#BC3227;'>E</span> <span style='color:#0B44BD;'>K</span> <span style='color:#BC3227;'>E</span> <span style='color:#BC3227;'>E</span> <span style='color:#0B44BD;'>K</span> <span style='color:#0B44BD;'>K</span> <span style='color:#BC3227;'>E</span> <span style='color:#BC3227;'>E</span> <span style='color:#0B44BD;'>K</span> <span style='color:#0B44BD;'>K</span> <span style='color:#0B44BD;'>K</span> <span style='color:#BC3227;'>E</span> <span style='color:#BC3227;'>E</span> <span style='color:#0B44BD;'>K</span> <span style='color:#BC3227;'>E</span> <span style='color:#BC3227;'>E</span> <span style='color:#BC3227;'>E</span> <span style='color:#0B44BD;'>K</span> <span style='color:#BC3227;'>E</span></div>"
      ],
      "text/plain": [
       "<IPython.core.display.HTML object>"
      ]
     },
     "metadata": {},
     "output_type": "display_data"
    }
   ],
   "source": [
    "print_aas('KEKEKKEEKEKKEEEKKEKEKEKKKEEKKKEEKEEKKEEKKKEEKEEEKE')"
   ]
  },
  {
   "cell_type": "markdown",
   "metadata": {},
   "source": [
    "**Sup35**\n",
    "\n",
    "$\\kappa$=0.0227"
   ]
  },
  {
   "cell_type": "code",
   "execution_count": 26,
   "metadata": {},
   "outputs": [
    {
     "data": {
      "text/html": [
       "<div style='font-size:14pt;font-weight:bold;font-family:Courier;letter-spacing: -4px;'><span style='color:#2F2B2B;'>G</span> <span style='color:#2F2B2B;'>T</span> <span style='color:#0B44BD;'>K</span> <span style='color:#2F2B2B;'>P</span> <span style='color:#2F2B2B;'>A</span> <span style='color:#BC3227;'>E</span> <span style='color:#2F2B2B;'>S</span> <span style='color:#BC3227;'>D</span> <span style='color:#0B44BD;'>K</span> <span style='color:#0B44BD;'>K</span> <span style='color:#BC3227;'>E</span> <span style='color:#BC3227;'>E</span> <span style='color:#BC3227;'>E</span> <span style='color:#0B44BD;'>K</span> <span style='color:#2F2B2B;'>S</span> <span style='color:#2F2B2B;'>A</span> <span style='color:#BC3227;'>E</span> <span style='color:#2F2B2B;'>T</span> <span style='color:#0B44BD;'>K</span> <span style='color:#BC3227;'>E</span> <span style='color:#2F2B2B;'>P</span> <span style='color:#2F2B2B;'>T</span> <span style='color:#0B44BD;'>K</span> <span style='color:#BC3227;'>E</span> <span style='color:#2F2B2B;'>P</span> <span style='color:#2F2B2B;'>T</span> <span style='color:#0B44BD;'>K</span> <span style='color:#2F2B2B;'>V</span> <span style='color:#BC3227;'>E</span> <span style='color:#BC3227;'>E</span> <span style='color:#2F2B2B;'>P</span> <span style='color:#2F2B2B;'>V</span> <span style='color:#0B44BD;'>K</span> <span style='color:#0B44BD;'>K</span> <span style='color:#BC3227;'>E</span> <span style='color:#BC3227;'>E</span> <span style='color:#0B44BD;'>K</span> <span style='color:#2F2B2B;'>P</span> <span style='color:#2F2B2B;'>V</span> <span style='color:#2F2B2B;'>Q</span> <span style='color:#2F2B2B;'>T</span> <span style='color:#BC3227;'>E</span> <span style='color:#BC3227;'>E</span> <span style='color:#0B44BD;'>K</span> <span style='color:#2F2B2B;'>T</span> <span style='color:#BC3227;'>E</span> <span style='color:#BC3227;'>E</span> <span style='color:#0B44BD;'>K</span> <span style='color:#2F2B2B;'>S</span> <span style='color:#BC3227;'>E</span> <span style='color:#2F2B2B;'>L</span> <span style='color:#2F2B2B;'>P</span> <span style='color:#0B44BD;'>K</span> <span style='color:#2F2B2B;'>V</span> <span style='color:#BC3227;'>E</span> <span style='color:#BC3227;'>D</span> <span style='color:#2F2B2B;'>L</span> <span style='color:#0B44BD;'>K</span> <span style='color:#2F2B2B;'>I</span> <span style='color:#2F2B2B;'>S</span> <span style='color:#BC3227;'>E</span> <span style='color:#2F2B2B;'>S</span> <span style='color:#2F2B2B;'>T</span></div>"
      ],
      "text/plain": [
       "<IPython.core.display.HTML object>"
      ]
     },
     "metadata": {},
     "output_type": "display_data"
    }
   ],
   "source": [
    "print_aas('GTKPAESDKKEEEKSAETKEPTKEPTKVEEPVKKEEKPVQTEEKTEEKSELPKVEDLKISEST')"
   ]
  },
  {
   "cell_type": "markdown",
   "metadata": {},
   "source": [
    "**MODEL SEQUENCE (sv8)**\n",
    "\n",
    "**$\\kappa$=0.045**"
   ]
  },
  {
   "cell_type": "code",
   "execution_count": 27,
   "metadata": {},
   "outputs": [
    {
     "data": {
      "text/html": [
       "<div style='font-size:14pt;font-weight:bold;font-family:Courier;letter-spacing: -4px;'><span style='color:#0B44BD;'>K</span> <span style='color:#0B44BD;'>K</span> <span style='color:#0B44BD;'>K</span> <span style='color:#0B44BD;'>K</span> <span style='color:#BC3227;'>E</span> <span style='color:#BC3227;'>E</span> <span style='color:#BC3227;'>E</span> <span style='color:#BC3227;'>E</span> <span style='color:#0B44BD;'>K</span> <span style='color:#0B44BD;'>K</span> <span style='color:#0B44BD;'>K</span> <span style='color:#0B44BD;'>K</span> <span style='color:#BC3227;'>E</span> <span style='color:#BC3227;'>E</span> <span style='color:#BC3227;'>E</span> <span style='color:#BC3227;'>E</span> <span style='color:#0B44BD;'>K</span> <span style='color:#0B44BD;'>K</span> <span style='color:#0B44BD;'>K</span> <span style='color:#0B44BD;'>K</span> <span style='color:#BC3227;'>E</span> <span style='color:#BC3227;'>E</span> <span style='color:#BC3227;'>E</span> <span style='color:#BC3227;'>E</span> <span style='color:#0B44BD;'>K</span> <span style='color:#0B44BD;'>K</span> <span style='color:#0B44BD;'>K</span> <span style='color:#0B44BD;'>K</span> <span style='color:#BC3227;'>E</span> <span style='color:#BC3227;'>E</span> <span style='color:#BC3227;'>E</span> <span style='color:#BC3227;'>E</span> <span style='color:#0B44BD;'>K</span> <span style='color:#0B44BD;'>K</span> <span style='color:#0B44BD;'>K</span> <span style='color:#0B44BD;'>K</span> <span style='color:#BC3227;'>E</span> <span style='color:#BC3227;'>E</span> <span style='color:#BC3227;'>E</span> <span style='color:#BC3227;'>E</span> <span style='color:#0B44BD;'>K</span> <span style='color:#0B44BD;'>K</span> <span style='color:#0B44BD;'>K</span> <span style='color:#0B44BD;'>K</span> <span style='color:#BC3227;'>E</span> <span style='color:#BC3227;'>E</span> <span style='color:#BC3227;'>E</span> <span style='color:#BC3227;'>E</span> <span style='color:#0B44BD;'>K</span> <span style='color:#BC3227;'>E</span></div>"
      ],
      "text/plain": [
       "<IPython.core.display.HTML object>"
      ]
     },
     "metadata": {},
     "output_type": "display_data"
    }
   ],
   "source": [
    "print_aas('KKKKEEEEKKKKEEEEKKKKEEEEKKKKEEEEKKKKEEEEKKKKEEEEKE')"
   ]
  },
  {
   "cell_type": "markdown",
   "metadata": {},
   "source": [
    "**MNN4**\n",
    "\n",
    "$\\kappa$=0.0658"
   ]
  },
  {
   "cell_type": "code",
   "execution_count": 28,
   "metadata": {},
   "outputs": [
    {
     "data": {
      "text/html": [
       "<div style='font-size:14pt;font-weight:bold;font-family:Courier;letter-spacing: -4px;'><span style='color:#2F2B2B;'>Y</span> <span style='color:#2F2B2B;'>A</span> <span style='color:#2F2B2B;'>Y</span> <span style='color:#2F2B2B;'>A</span> <span style='color:#0B44BD;'>K</span> <span style='color:#2F2B2B;'>L</span> <span style='color:#2F2B2B;'>L</span> <span style='color:#BC3227;'>E</span> <span style='color:#BC3227;'>E</span> <span style='color:#0B44BD;'>R</span> <span style='color:#0B44BD;'>K</span> <span style='color:#0B44BD;'>R</span> <span style='color:#0B44BD;'>R</span> <span style='color:#BC3227;'>E</span> <span style='color:#0B44BD;'>K</span> <span style='color:#0B44BD;'>K</span> <span style='color:#0B44BD;'>K</span> <span style='color:#0B44BD;'>K</span> <span style='color:#BC3227;'>E</span> <span style='color:#BC3227;'>E</span> <span style='color:#BC3227;'>E</span> <span style='color:#BC3227;'>E</span> <span style='color:#0B44BD;'>K</span> <span style='color:#0B44BD;'>K</span> <span style='color:#0B44BD;'>K</span> <span style='color:#0B44BD;'>K</span> <span style='color:#BC3227;'>E</span> <span style='color:#BC3227;'>E</span> <span style='color:#BC3227;'>E</span> <span style='color:#BC3227;'>E</span> <span style='color:#0B44BD;'>K</span> <span style='color:#0B44BD;'>K</span> <span style='color:#0B44BD;'>K</span> <span style='color:#0B44BD;'>K</span> <span style='color:#BC3227;'>E</span> <span style='color:#BC3227;'>E</span> <span style='color:#BC3227;'>E</span> <span style='color:#BC3227;'>E</span> <span style='color:#0B44BD;'>K</span> <span style='color:#0B44BD;'>K</span> <span style='color:#0B44BD;'>K</span> <span style='color:#0B44BD;'>K</span> <span style='color:#BC3227;'>E</span> <span style='color:#BC3227;'>E</span> <span style='color:#BC3227;'>E</span> <span style='color:#BC3227;'>E</span> <span style='color:#0B44BD;'>K</span> <span style='color:#0B44BD;'>K</span> <span style='color:#0B44BD;'>K</span> <span style='color:#0B44BD;'>K</span> <span style='color:#BC3227;'>E</span> <span style='color:#BC3227;'>E</span> <span style='color:#BC3227;'>E</span> <span style='color:#BC3227;'>E</span> <span style='color:#0B44BD;'>K</span> <span style='color:#0B44BD;'>K</span> <span style='color:#0B44BD;'>K</span> <span style='color:#0B44BD;'>K</span> <span style='color:#BC3227;'>E</span> <span style='color:#BC3227;'>E</span> <span style='color:#BC3227;'>E</span> <span style='color:#BC3227;'>E</span> <span style='color:#0B44BD;'>K</span> <span style='color:#0B44BD;'>K</span> <span style='color:#0B44BD;'>K</span> <span style='color:#2F2B2B;'>Q</span> <span style='color:#BC3227;'>E</span> <span style='color:#BC3227;'>E</span> <span style='color:#BC3227;'>E</span> <span style='color:#BC3227;'>E</span> <span style='color:#0B44BD;'>K</span> <span style='color:#0B44BD;'>K</span> <span style='color:#0B44BD;'>K</span> <span style='color:#0B44BD;'>K</span> <span style='color:#BC3227;'>E</span> <span style='color:#BC3227;'>E</span> <span style='color:#BC3227;'>E</span> <span style='color:#BC3227;'>E</span> <span style='color:#0B44BD;'>K</span> <span style='color:#0B44BD;'>K</span> <span style='color:#0B44BD;'>K</span> <span style='color:#2F2B2B;'>Q</span> <span style='color:#BC3227;'>E</span> <span style='color:#BC3227;'>E</span> <span style='color:#2F2B2B;'>G</span> <span style='color:#BC3227;'>E</span> <span style='color:#0B44BD;'>K</span> <span style='color:#2F2B2B;'>M</span> <span style='color:#0B44BD;'>K</span> <span style='color:#2F2B2B;'>N</span> <span style='color:#BC3227;'>E</span> <span style='color:#BC3227;'>D</span> <span style='color:#BC3227;'>E</span> <span style='color:#BC3227;'>E</span> <span style='color:#2F2B2B;'>N</span> <span style='color:#0B44BD;'>K</span> <span style='color:#0B44BD;'>K</span> <span style='color:#2F2B2B;'>N</span> <span style='color:#BC3227;'>E</span> <span style='color:#BC3227;'>D</span> <span style='color:#BC3227;'>E</span> <span style='color:#BC3227;'>E</span> <span style='color:#0B44BD;'>K</span> <span style='color:#0B44BD;'>K</span> <span style='color:#0B44BD;'>K</span> <span style='color:#2F2B2B;'>N</span> <span style='color:#BC3227;'>E</span> <span style='color:#BC3227;'>E</span> <span style='color:#BC3227;'>E</span> <span style='color:#BC3227;'>E</span> <span style='color:#0B44BD;'>K</span> <span style='color:#0B44BD;'>K</span> <span style='color:#0B44BD;'>K</span> <span style='color:#2F2B2B;'>Q</span> <span style='color:#BC3227;'>E</span> <span style='color:#BC3227;'>E</span> <span style='color:#0B44BD;'>K</span> <span style='color:#2F2B2B;'>N</span> <span style='color:#0B44BD;'>K</span> <span style='color:#0B44BD;'>K</span> <span style='color:#2F2B2B;'>N</span> <span style='color:#BC3227;'>E</span> <span style='color:#BC3227;'>D</span> <span style='color:#BC3227;'>E</span> <span style='color:#BC3227;'>E</span> <span style='color:#0B44BD;'>K</span> <span style='color:#0B44BD;'>K</span> <span style='color:#0B44BD;'>K</span> <span style='color:#2F2B2B;'>Q</span> <span style='color:#BC3227;'>E</span> <span style='color:#BC3227;'>E</span> <span style='color:#BC3227;'>E</span> <span style='color:#BC3227;'>E</span> <span style='color:#0B44BD;'>K</span> <span style='color:#0B44BD;'>K</span> <span style='color:#0B44BD;'>K</span> <span style='color:#2F2B2B;'>N</span> <span style='color:#BC3227;'>E</span> <span style='color:#BC3227;'>E</span> <span style='color:#BC3227;'>E</span> <span style='color:#BC3227;'>E</span> <span style='color:#0B44BD;'>K</span> <span style='color:#0B44BD;'>K</span> <span style='color:#0B44BD;'>K</span> <span style='color:#2F2B2B;'>Q</span> <span style='color:#BC3227;'>E</span> <span style='color:#BC3227;'>E</span> <span style='color:#2F2B2B;'>G</span> <span style='color:#66606A;'>H</span> <span style='color:#2F2B2B;'>S</span> <span style='color:#2F2B2B;'>N</span></div>"
      ],
      "text/plain": [
       "<IPython.core.display.HTML object>"
      ]
     },
     "metadata": {},
     "output_type": "display_data"
    }
   ],
   "source": [
    "print_aas('YAYAKLLEERKRREKKKKEEEEKKKKEEEEKKKKEEEEKKKKEEEEKKKKEEEEKKKKEEEEKKKQEEEEKKKKEEEEKKKQEEGEKMKNEDEENKKNEDEEKKKNEEEEKKKQEEKNKKNEDEEKKKQEEEEKKKNEEEEKKKQEEGHSN')"
   ]
  },
  {
   "cell_type": "markdown",
   "metadata": {},
   "source": [
    "The sv sequence that has the most similar kappa value (0.0658) is **sv9** (kappa = 0.0624)"
   ]
  },
  {
   "cell_type": "markdown",
   "metadata": {},
   "source": [
    "**sv15**\n",
    "\n",
    "$\\kappa$=0.1354"
   ]
  },
  {
   "cell_type": "code",
   "execution_count": 31,
   "metadata": {},
   "outputs": [
    {
     "data": {
      "text/html": [
       "<div style='font-size:14pt;font-weight:bold;font-family:Courier;letter-spacing: -4px;'><span style='color:#0B44BD;'>K</span> <span style='color:#0B44BD;'>K</span> <span style='color:#BC3227;'>E</span> <span style='color:#0B44BD;'>K</span> <span style='color:#0B44BD;'>K</span> <span style='color:#BC3227;'>E</span> <span style='color:#0B44BD;'>K</span> <span style='color:#0B44BD;'>K</span> <span style='color:#0B44BD;'>K</span> <span style='color:#BC3227;'>E</span> <span style='color:#0B44BD;'>K</span> <span style='color:#0B44BD;'>K</span> <span style='color:#BC3227;'>E</span> <span style='color:#0B44BD;'>K</span> <span style='color:#0B44BD;'>K</span> <span style='color:#BC3227;'>E</span> <span style='color:#BC3227;'>E</span> <span style='color:#BC3227;'>E</span> <span style='color:#0B44BD;'>K</span> <span style='color:#BC3227;'>E</span> <span style='color:#0B44BD;'>K</span> <span style='color:#BC3227;'>E</span> <span style='color:#0B44BD;'>K</span> <span style='color:#0B44BD;'>K</span> <span style='color:#BC3227;'>E</span> <span style='color:#0B44BD;'>K</span> <span style='color:#0B44BD;'>K</span> <span style='color:#0B44BD;'>K</span> <span style='color:#0B44BD;'>K</span> <span style='color:#BC3227;'>E</span> <span style='color:#0B44BD;'>K</span> <span style='color:#BC3227;'>E</span> <span style='color:#0B44BD;'>K</span> <span style='color:#0B44BD;'>K</span> <span style='color:#BC3227;'>E</span> <span style='color:#BC3227;'>E</span> <span style='color:#BC3227;'>E</span> <span style='color:#BC3227;'>E</span> <span style='color:#BC3227;'>E</span> <span style='color:#BC3227;'>E</span> <span style='color:#BC3227;'>E</span> <span style='color:#BC3227;'>E</span> <span style='color:#0B44BD;'>K</span> <span style='color:#BC3227;'>E</span> <span style='color:#BC3227;'>E</span> <span style='color:#0B44BD;'>K</span> <span style='color:#0B44BD;'>K</span> <span style='color:#BC3227;'>E</span> <span style='color:#BC3227;'>E</span> <span style='color:#BC3227;'>E</span></div>"
      ],
      "text/plain": [
       "<IPython.core.display.HTML object>"
      ]
     },
     "metadata": {},
     "output_type": "display_data"
    }
   ],
   "source": [
    "print_aas('KKEKKEKKKEKKEKKEEEKEKEKKEKKKKEKEKKEEEEEEEEKEEKKEEE')"
   ]
  },
  {
   "cell_type": "markdown",
   "metadata": {},
   "source": [
    "**BTN2**\n",
    "\n",
    "$\\kappa$=0.134"
   ]
  },
  {
   "cell_type": "code",
   "execution_count": 32,
   "metadata": {},
   "outputs": [
    {
     "data": {
      "text/html": [
       "<div style='font-size:14pt;font-weight:bold;font-family:Courier;letter-spacing: -4px;'><span style='color:#0B44BD;'>K</span> <span style='color:#2F2B2B;'>M</span> <span style='color:#2F2B2B;'>P</span> <span style='color:#2F2B2B;'>I</span> <span style='color:#2F2B2B;'>I</span> <span style='color:#BC3227;'>E</span> <span style='color:#2F2B2B;'>S</span> <span style='color:#0B44BD;'>K</span> <span style='color:#2F2B2B;'>I</span> <span style='color:#BC3227;'>D</span> <span style='color:#BC3227;'>E</span> <span style='color:#2F2B2B;'>S</span> <span style='color:#66606A;'>H</span> <span style='color:#BC3227;'>D</span> <span style='color:#BC3227;'>D</span> <span style='color:#2F2B2B;'>V</span> <span style='color:#2F2B2B;'>N</span> <span style='color:#2F2B2B;'>M</span> <span style='color:#2F2B2B;'>S</span> <span style='color:#BC3227;'>E</span> <span style='color:#2F2B2B;'>S</span> <span style='color:#2F2B2B;'>L</span> <span style='color:#0B44BD;'>K</span> <span style='color:#BC3227;'>E</span> <span style='color:#BC3227;'>E</span> <span style='color:#BC3227;'>E</span> <span style='color:#2F2B2B;'>A</span> <span style='color:#BC3227;'>E</span> <span style='color:#0B44BD;'>K</span> <span style='color:#2F2B2B;'>A</span> <span style='color:#0B44BD;'>K</span> <span style='color:#BC3227;'>E</span> <span style='color:#2F2B2B;'>P</span> <span style='color:#2F2B2B;'>L</span> <span style='color:#2F2B2B;'>T</span> <span style='color:#0B44BD;'>K</span> <span style='color:#BC3227;'>E</span> <span style='color:#BC3227;'>D</span> <span style='color:#2F2B2B;'>Q</span> <span style='color:#2F2B2B;'>I</span> <span style='color:#0B44BD;'>K</span> <span style='color:#0B44BD;'>K</span> <span style='color:#2F2B2B;'>W</span> <span style='color:#2F2B2B;'>I</span> <span style='color:#BC3227;'>E</span> <span style='color:#BC3227;'>E</span> <span style='color:#BC3227;'>E</span> <span style='color:#0B44BD;'>R</span> <span style='color:#2F2B2B;'>L</span> <span style='color:#2F2B2B;'>M</span> <span style='color:#2F2B2B;'>Q</span> <span style='color:#BC3227;'>E</span> <span style='color:#BC3227;'>E</span> <span style='color:#2F2B2B;'>S</span> <span style='color:#0B44BD;'>R</span> <span style='color:#0B44BD;'>K</span> <span style='color:#2F2B2B;'>S</span> <span style='color:#BC3227;'>E</span> <span style='color:#2F2B2B;'>Q</span> <span style='color:#BC3227;'>E</span> <span style='color:#0B44BD;'>K</span> <span style='color:#2F2B2B;'>A</span> <span style='color:#2F2B2B;'>A</span> <span style='color:#0B44BD;'>K</span> <span style='color:#BC3227;'>E</span> <span style='color:#BC3227;'>D</span> <span style='color:#BC3227;'>E</span> <span style='color:#BC3227;'>E</span> <span style='color:#0B44BD;'>R</span> <span style='color:#2F2B2B;'>Q</span> <span style='color:#0B44BD;'>K</span> <span style='color:#0B44BD;'>K</span> <span style='color:#BC3227;'>E</span> <span style='color:#0B44BD;'>K</span> <span style='color:#BC3227;'>E</span> <span style='color:#2F2B2B;'>A</span> <span style='color:#0B44BD;'>R</span> <span style='color:#2F2B2B;'>L</span> <span style='color:#0B44BD;'>K</span> <span style='color:#2F2B2B;'>A</span> <span style='color:#0B44BD;'>R</span> <span style='color:#0B44BD;'>K</span> <span style='color:#BC3227;'>E</span> <span style='color:#2F2B2B;'>S</span> <span style='color:#2F2B2B;'>L</span> <span style='color:#2F2B2B;'>I</span> <span style='color:#2F2B2B;'>N</span> <span style='color:#0B44BD;'>K</span> <span style='color:#2F2B2B;'>Q</span> <span style='color:#0B44BD;'>K</span> <span style='color:#2F2B2B;'>T</span> <span style='color:#0B44BD;'>K</span> <span style='color:#0B44BD;'>R</span> <span style='color:#2F2B2B;'>S</span> <span style='color:#2F2B2B;'>Q</span> <span style='color:#2F2B2B;'>Q</span> <span style='color:#0B44BD;'>K</span> <span style='color:#0B44BD;'>K</span> <span style='color:#2F2B2B;'>L</span> <span style='color:#2F2B2B;'>Q</span></div>"
      ],
      "text/plain": [
       "<IPython.core.display.HTML object>"
      ]
     },
     "metadata": {},
     "output_type": "display_data"
    }
   ],
   "source": [
    "print_aas('KMPIIESKIDESHDDVNMSESLKEEEAEKAKEPLTKEDQIKKWIEEERLMQEESRKSEQEKAAKEDEERQKKEKEARLKARKESLINKQKTKRSQQKKLQ')"
   ]
  },
  {
   "cell_type": "markdown",
   "metadata": {},
   "source": [
    "**MODEL SEQUENCE (sv22)**\n",
    "\n",
    "$\\kappa$=0.3218"
   ]
  },
  {
   "cell_type": "code",
   "execution_count": 35,
   "metadata": {
    "scrolled": true
   },
   "outputs": [
    {
     "data": {
      "text/html": [
       "<div style='font-size:14pt;font-weight:bold;font-family:Courier;letter-spacing: -4px;'><span style='color:#0B44BD;'>K</span> <span style='color:#BC3227;'>E</span> <span style='color:#BC3227;'>E</span> <span style='color:#BC3227;'>E</span> <span style='color:#BC3227;'>E</span> <span style='color:#0B44BD;'>K</span> <span style='color:#BC3227;'>E</span> <span style='color:#BC3227;'>E</span> <span style='color:#0B44BD;'>K</span> <span style='color:#BC3227;'>E</span> <span style='color:#BC3227;'>E</span> <span style='color:#0B44BD;'>K</span> <span style='color:#0B44BD;'>K</span> <span style='color:#0B44BD;'>K</span> <span style='color:#0B44BD;'>K</span> <span style='color:#BC3227;'>E</span> <span style='color:#0B44BD;'>K</span> <span style='color:#BC3227;'>E</span> <span style='color:#BC3227;'>E</span> <span style='color:#0B44BD;'>K</span> <span style='color:#BC3227;'>E</span> <span style='color:#0B44BD;'>K</span> <span style='color:#0B44BD;'>K</span> <span style='color:#0B44BD;'>K</span> <span style='color:#0B44BD;'>K</span> <span style='color:#0B44BD;'>K</span> <span style='color:#0B44BD;'>K</span> <span style='color:#0B44BD;'>K</span> <span style='color:#0B44BD;'>K</span> <span style='color:#0B44BD;'>K</span> <span style='color:#0B44BD;'>K</span> <span style='color:#0B44BD;'>K</span> <span style='color:#0B44BD;'>K</span> <span style='color:#BC3227;'>E</span> <span style='color:#0B44BD;'>K</span> <span style='color:#0B44BD;'>K</span> <span style='color:#BC3227;'>E</span> <span style='color:#BC3227;'>E</span> <span style='color:#BC3227;'>E</span> <span style='color:#BC3227;'>E</span> <span style='color:#BC3227;'>E</span> <span style='color:#BC3227;'>E</span> <span style='color:#BC3227;'>E</span> <span style='color:#BC3227;'>E</span> <span style='color:#0B44BD;'>K</span> <span style='color:#BC3227;'>E</span> <span style='color:#0B44BD;'>K</span> <span style='color:#BC3227;'>E</span> <span style='color:#BC3227;'>E</span> <span style='color:#BC3227;'>E</span></div>"
      ],
      "text/plain": [
       "<IPython.core.display.HTML object>"
      ]
     },
     "metadata": {},
     "output_type": "display_data"
    }
   ],
   "source": [
    "print_aas('KEEEEKEEKEEKKKKEKEEKEKKKKKKKKKKKKEKKEEEEEEEEKEKEEE')"
   ]
  },
  {
   "cell_type": "markdown",
   "metadata": {},
   "source": [
    "**MODEL SEQUENCE (sv26)**\n",
    "\n",
    "$\\kappa$=0.6101"
   ]
  },
  {
   "cell_type": "code",
   "execution_count": 33,
   "metadata": {},
   "outputs": [
    {
     "data": {
      "text/html": [
       "<div style='font-size:14pt;font-weight:bold;font-family:Courier;letter-spacing: -4px;'><span style='color:#0B44BD;'>K</span> <span style='color:#BC3227;'>E</span> <span style='color:#BC3227;'>E</span> <span style='color:#BC3227;'>E</span> <span style='color:#BC3227;'>E</span> <span style='color:#BC3227;'>E</span> <span style='color:#BC3227;'>E</span> <span style='color:#BC3227;'>E</span> <span style='color:#0B44BD;'>K</span> <span style='color:#BC3227;'>E</span> <span style='color:#BC3227;'>E</span> <span style='color:#0B44BD;'>K</span> <span style='color:#BC3227;'>E</span> <span style='color:#BC3227;'>E</span> <span style='color:#BC3227;'>E</span> <span style='color:#BC3227;'>E</span> <span style='color:#BC3227;'>E</span> <span style='color:#BC3227;'>E</span> <span style='color:#BC3227;'>E</span> <span style='color:#BC3227;'>E</span> <span style='color:#BC3227;'>E</span> <span style='color:#0B44BD;'>K</span> <span style='color:#BC3227;'>E</span> <span style='color:#BC3227;'>E</span> <span style='color:#BC3227;'>E</span> <span style='color:#BC3227;'>E</span> <span style='color:#0B44BD;'>K</span> <span style='color:#BC3227;'>E</span> <span style='color:#BC3227;'>E</span> <span style='color:#0B44BD;'>K</span> <span style='color:#0B44BD;'>K</span> <span style='color:#0B44BD;'>K</span> <span style='color:#0B44BD;'>K</span> <span style='color:#0B44BD;'>K</span> <span style='color:#0B44BD;'>K</span> <span style='color:#0B44BD;'>K</span> <span style='color:#0B44BD;'>K</span> <span style='color:#0B44BD;'>K</span> <span style='color:#0B44BD;'>K</span> <span style='color:#0B44BD;'>K</span> <span style='color:#0B44BD;'>K</span> <span style='color:#0B44BD;'>K</span> <span style='color:#0B44BD;'>K</span> <span style='color:#0B44BD;'>K</span> <span style='color:#0B44BD;'>K</span> <span style='color:#0B44BD;'>K</span> <span style='color:#0B44BD;'>K</span> <span style='color:#0B44BD;'>K</span> <span style='color:#0B44BD;'>K</span> <span style='color:#BC3227;'>E</span></div>"
      ],
      "text/plain": [
       "<IPython.core.display.HTML object>"
      ]
     },
     "metadata": {},
     "output_type": "display_data"
    }
   ],
   "source": [
    "print_aas('KEEEEEEEKEEKEEEEEEEEEKEEEEKEEKKKKKKKKKKKKKKKKKKKKE')"
   ]
  },
  {
   "cell_type": "markdown",
   "metadata": {},
   "source": [
    "**SAC7**\n",
    "\n",
    "$\\kappa$=0.314232"
   ]
  },
  {
   "cell_type": "code",
   "execution_count": 34,
   "metadata": {},
   "outputs": [
    {
     "data": {
      "text/html": [
       "<div style='font-size:14pt;font-weight:bold;font-family:Courier;letter-spacing: -4px;'><span style='color:#2F2B2B;'>N</span> <span style='color:#BC3227;'>D</span> <span style='color:#BC3227;'>D</span> <span style='color:#2F2B2B;'>G</span> <span style='color:#2F2B2B;'>A</span> <span style='color:#2F2B2B;'>N</span> <span style='color:#BC3227;'>D</span> <span style='color:#2F2B2B;'>G</span> <span style='color:#BC3227;'>D</span> <span style='color:#2F2B2B;'>I</span> <span style='color:#BC3227;'>E</span> <span style='color:#0B44BD;'>K</span> <span style='color:#BC3227;'>E</span> <span style='color:#BC3227;'>D</span> <span style='color:#2F2B2B;'>A</span> <span style='color:#0B44BD;'>K</span> <span style='color:#BC3227;'>D</span> <span style='color:#BC3227;'>D</span> <span style='color:#BC3227;'>E</span> <span style='color:#BC3227;'>E</span> <span style='color:#0B44BD;'>K</span> <span style='color:#0B44BD;'>R</span> <span style='color:#0B44BD;'>R</span> <span style='color:#0B44BD;'>R</span> <span style='color:#0B44BD;'>K</span> <span style='color:#2F2B2B;'>I</span> <span style='color:#0B44BD;'>R</span> <span style='color:#66606A;'>H</span> <span style='color:#0B44BD;'>K</span> <span style='color:#0B44BD;'>R</span> <span style='color:#0B44BD;'>R</span> <span style='color:#2F2B2B;'>L</span> <span style='color:#2F2B2B;'>T</span> <span style='color:#0B44BD;'>R</span> <span style='color:#BC3227;'>D</span> <span style='color:#2F2B2B;'>I</span> <span style='color:#0B44BD;'>R</span> <span style='color:#2F2B2B;'>A</span> <span style='color:#2F2B2B;'>A</span> <span style='color:#2F2B2B;'>I</span> <span style='color:#0B44BD;'>K</span> <span style='color:#BC3227;'>E</span> <span style='color:#2F2B2B;'>Y</span> <span style='color:#BC3227;'>E</span> <span style='color:#BC3227;'>E</span> <span style='color:#2F2B2B;'>L</span> <span style='color:#2F2B2B;'>F</span> <span style='color:#2F2B2B;'>V</span> <span style='color:#2F2B2B;'>T</span> <span style='color:#2F2B2B;'>L</span> <span style='color:#2F2B2B;'>S</span></div>"
      ],
      "text/plain": [
       "<IPython.core.display.HTML object>"
      ]
     },
     "metadata": {},
     "output_type": "display_data"
    }
   ],
   "source": [
    "print_aas('NDDGANDGDIEKEDAKDDEEKRRRKIRHKRRLTRDIRAAIKEYEELFVTLS')"
   ]
  },
  {
   "cell_type": "markdown",
   "metadata": {},
   "source": [
    "## High charge asymmetry sequences\n",
    "\n",
    "\n",
    "\n",
    "\n",
    "\n",
    "**SMI1**\n",
    "\n",
    "$\\kappa$=0.06\n",
    "\n",
    "$\\sigma$>0.06"
   ]
  },
  {
   "cell_type": "code",
   "execution_count": 36,
   "metadata": {},
   "outputs": [
    {
     "data": {
      "text/html": [
       "<div style='font-size:14pt;font-weight:bold;font-family:Courier;letter-spacing: -4px;'><span style='color:#2F2B2B;'>L</span> <span style='color:#2F2B2B;'>G</span> <span style='color:#2F2B2B;'>Q</span> <span style='color:#2F2B2B;'>A</span> <span style='color:#BC3227;'>E</span> <span style='color:#66606A;'>H</span> <span style='color:#BC3227;'>E</span> <span style='color:#2F2B2B;'>I</span> <span style='color:#0B44BD;'>K</span> <span style='color:#2F2B2B;'>A</span> <span style='color:#BC3227;'>D</span> <span style='color:#2F2B2B;'>N</span> <span style='color:#2F2B2B;'>V</span> <span style='color:#BC3227;'>D</span> <span style='color:#2F2B2B;'>I</span> <span style='color:#0B44BD;'>K</span> <span style='color:#2F2B2B;'>Q</span> <span style='color:#BC3227;'>E</span> <span style='color:#2F2B2B;'>S</span> <span style='color:#BC3227;'>E</span> <span style='color:#0B44BD;'>R</span> <span style='color:#0B44BD;'>K</span> <span style='color:#BC3227;'>E</span> <span style='color:#BC3227;'>D</span> <span style='color:#BC3227;'>E</span> <span style='color:#0B44BD;'>K</span> <span style='color:#2F2B2B;'>Q</span> <span style='color:#2F2B2B;'>P</span> <span style='color:#0B44BD;'>K</span> <span style='color:#2F2B2B;'>V</span> <span style='color:#BC3227;'>E</span> <span style='color:#BC3227;'>E</span> <span style='color:#0B44BD;'>K</span> <span style='color:#BC3227;'>E</span> <span style='color:#66606A;'>H</span> <span style='color:#2F2B2B;'>V</span> <span style='color:#BC3227;'>E</span> <span style='color:#2F2B2B;'>N</span> <span style='color:#BC3227;'>E</span> <span style='color:#66606A;'>H</span> <span style='color:#2F2B2B;'>V</span> <span style='color:#2F2B2B;'>T</span> <span style='color:#BC3227;'>E</span> <span style='color:#2F2B2B;'>S</span> <span style='color:#2F2B2B;'>A</span> <span style='color:#0B44BD;'>K</span> <span style='color:#0B44BD;'>K</span> <span style='color:#BC3227;'>D</span> <span style='color:#BC3227;'>D</span> <span style='color:#BC3227;'>D</span> <span style='color:#2F2B2B;'>V</span> <span style='color:#2F2B2B;'>N</span> <span style='color:#0B44BD;'>K</span> <span style='color:#2F2B2B;'>Q</span> <span style='color:#2F2B2B;'>T</span> <span style='color:#BC3227;'>E</span> <span style='color:#BC3227;'>E</span> <span style='color:#2F2B2B;'>M</span> <span style='color:#2F2B2B;'>N</span> <span style='color:#0B44BD;'>K</span> <span style='color:#0B44BD;'>K</span> <span style='color:#BC3227;'>E</span> <span style='color:#BC3227;'>E</span> <span style='color:#2F2B2B;'>N</span> <span style='color:#BC3227;'>E</span> <span style='color:#2F2B2B;'>I</span> <span style='color:#0B44BD;'>R</span> <span style='color:#2F2B2B;'>S</span> <span style='color:#BC3227;'>D</span> <span style='color:#BC3227;'>D</span> <span style='color:#2F2B2B;'>A</span> <span style='color:#0B44BD;'>K</span> <span style='color:#2F2B2B;'>V</span> <span style='color:#BC3227;'>E</span> <span style='color:#BC3227;'>E</span> <span style='color:#2F2B2B;'>A</span> <span style='color:#0B44BD;'>R</span> <span style='color:#BC3227;'>E</span> <span style='color:#BC3227;'>E</span> <span style='color:#2F2B2B;'>F</span> <span style='color:#BC3227;'>E</span> <span style='color:#2F2B2B;'>N</span> <span style='color:#2F2B2B;'>I</span> <span style='color:#2F2B2B;'>A</span> <span style='color:#2F2B2B;'>L</span></div>"
      ],
      "text/plain": [
       "<IPython.core.display.HTML object>"
      ]
     },
     "metadata": {},
     "output_type": "display_data"
    }
   ],
   "source": [
    "print_aas('LGQAEHEIKADNVDIKQESERKEDEKQPKVEEKEHVENEHVTESAKKDDDVNKQTEEMNKKEENEIRSDDAKVEEAREEFENIAL')"
   ]
  },
  {
   "cell_type": "markdown",
   "metadata": {},
   "source": [
    "**INO80**\n",
    "\n",
    "$\\kappa$=0.35\n",
    "\n",
    "$\\sigma$>0.35"
   ]
  },
  {
   "cell_type": "code",
   "execution_count": 38,
   "metadata": {
    "scrolled": false
   },
   "outputs": [
    {
     "data": {
      "text/html": [
       "<div style='font-size:14pt;font-weight:bold;font-family:Courier;letter-spacing: -4px;'><span style='color:#2F2B2B;'>V</span> <span style='color:#2F2B2B;'>V</span> <span style='color:#2F2B2B;'>T</span> <span style='color:#2F2B2B;'>V</span> <span style='color:#2F2B2B;'>N</span> <span style='color:#2F2B2B;'>G</span> <span style='color:#BC3227;'>D</span> <span style='color:#BC3227;'>E</span> <span style='color:#2F2B2B;'>N</span> <span style='color:#BC3227;'>E</span> <span style='color:#BC3227;'>D</span> <span style='color:#2F2B2B;'>G</span> <span style='color:#2F2B2B;'>N</span> <span style='color:#2F2B2B;'>N</span> <span style='color:#2F2B2B;'>G</span> <span style='color:#BC3227;'>E</span> <span style='color:#BC3227;'>D</span> <span style='color:#BC3227;'>E</span> <span style='color:#BC3227;'>D</span> <span style='color:#2F2B2B;'>N</span> <span style='color:#BC3227;'>D</span> <span style='color:#2F2B2B;'>N</span> <span style='color:#BC3227;'>D</span> <span style='color:#2F2B2B;'>N</span> <span style='color:#BC3227;'>E</span> <span style='color:#2F2B2B;'>N</span> <span style='color:#2F2B2B;'>N</span> <span style='color:#2F2B2B;'>N</span> <span style='color:#BC3227;'>D</span> <span style='color:#2F2B2B;'>N</span> <span style='color:#BC3227;'>D</span> <span style='color:#2F2B2B;'>N</span> <span style='color:#BC3227;'>D</span> <span style='color:#2F2B2B;'>N</span> <span style='color:#BC3227;'>E</span> <span style='color:#2F2B2B;'>N</span> <span style='color:#BC3227;'>E</span> <span style='color:#2F2B2B;'>N</span> <span style='color:#BC3227;'>D</span> <span style='color:#2F2B2B;'>N</span> <span style='color:#BC3227;'>D</span> <span style='color:#2F2B2B;'>S</span> <span style='color:#BC3227;'>D</span> <span style='color:#2F2B2B;'>N</span> <span style='color:#BC3227;'>D</span> <span style='color:#BC3227;'>D</span> <span style='color:#BC3227;'>E</span> <span style='color:#BC3227;'>E</span> <span style='color:#BC3227;'>E</span> <span style='color:#2F2B2B;'>N</span> <span style='color:#2F2B2B;'>G</span> <span style='color:#BC3227;'>E</span> <span style='color:#BC3227;'>E</span> <span style='color:#BC3227;'>D</span> <span style='color:#BC3227;'>E</span> <span style='color:#BC3227;'>E</span> <span style='color:#BC3227;'>E</span> <span style='color:#BC3227;'>E</span> <span style='color:#BC3227;'>E</span> <span style='color:#2F2B2B;'>I</span> <span style='color:#BC3227;'>E</span> <span style='color:#BC3227;'>D</span> <span style='color:#2F2B2B;'>L</span> <span style='color:#BC3227;'>D</span> <span style='color:#BC3227;'>E</span> <span style='color:#BC3227;'>E</span> <span style='color:#BC3227;'>D</span> <span style='color:#2F2B2B;'>F</span> <span style='color:#2F2B2B;'>A</span> <span style='color:#2F2B2B;'>A</span> <span style='color:#2F2B2B;'>F</span> <span style='color:#BC3227;'>E</span> <span style='color:#BC3227;'>E</span> <span style='color:#2F2B2B;'>Q</span> <span style='color:#BC3227;'>D</span> <span style='color:#BC3227;'>D</span> <span style='color:#2F2B2B;'>N</span> <span style='color:#BC3227;'>D</span> <span style='color:#BC3227;'>D</span> <span style='color:#BC3227;'>E</span> <span style='color:#BC3227;'>D</span> <span style='color:#2F2B2B;'>F</span> <span style='color:#2F2B2B;'>N</span> <span style='color:#2F2B2B;'>P</span> <span style='color:#BC3227;'>D</span> <span style='color:#2F2B2B;'>V</span> <span style='color:#BC3227;'>E</span> <span style='color:#0B44BD;'>K</span> <span style='color:#0B44BD;'>R</span> <span style='color:#0B44BD;'>R</span> <span style='color:#0B44BD;'>K</span> <span style='color:#0B44BD;'>R</span> <span style='color:#2F2B2B;'>S</span> <span style='color:#2F2B2B;'>S</span> <span style='color:#2F2B2B;'>S</span> <span style='color:#2F2B2B;'>S</span> <span style='color:#2F2B2B;'>S</span> <span style='color:#2F2B2B;'>S</span></div>"
      ],
      "text/plain": [
       "<IPython.core.display.HTML object>"
      ]
     },
     "metadata": {},
     "output_type": "display_data"
    }
   ],
   "source": [
    "print_aas('VVTVNGDENEDGNNGEDEDNDNDNENNNDNDNDNENENDNDSDNDDEEENGEEDEEEEEIEDLDEEDFAAFEEQDDNDDEDFNPDVEKRRKRSSSSSS')"
   ]
  },
  {
   "cell_type": "markdown",
   "metadata": {},
   "source": [
    "**NAB3**\n",
    "\n",
    "$\\kappa$=0.5119468\n",
    "\n",
    "$\\sigma$=0.516"
   ]
  },
  {
   "cell_type": "code",
   "execution_count": 39,
   "metadata": {},
   "outputs": [
    {
     "data": {
      "text/html": [
       "<div style='font-size:14pt;font-weight:bold;font-family:Courier;letter-spacing: -4px;'><span style='color:#2F2B2B;'>N</span> <span style='color:#2F2B2B;'>S</span> <span style='color:#2F2B2B;'>S</span> <span style='color:#2F2B2B;'>A</span> <span style='color:#BC3227;'>D</span> <span style='color:#BC3227;'>D</span> <span style='color:#2F2B2B;'>G</span> <span style='color:#2F2B2B;'>I</span> <span style='color:#BC3227;'>E</span> <span style='color:#2F2B2B;'>F</span> <span style='color:#BC3227;'>D</span> <span style='color:#2F2B2B;'>A</span> <span style='color:#2F2B2B;'>P</span> <span style='color:#BC3227;'>E</span> <span style='color:#BC3227;'>E</span> <span style='color:#BC3227;'>E</span> <span style='color:#0B44BD;'>R</span> <span style='color:#BC3227;'>E</span> <span style='color:#2F2B2B;'>A</span> <span style='color:#BC3227;'>E</span> <span style='color:#0B44BD;'>R</span> <span style='color:#BC3227;'>E</span> <span style='color:#BC3227;'>E</span> <span style='color:#BC3227;'>E</span> <span style='color:#2F2B2B;'>N</span> <span style='color:#BC3227;'>E</span> <span style='color:#BC3227;'>E</span> <span style='color:#2F2B2B;'>Q</span> <span style='color:#66606A;'>H</span> <span style='color:#BC3227;'>E</span> <span style='color:#2F2B2B;'>L</span> <span style='color:#BC3227;'>E</span> <span style='color:#BC3227;'>D</span> <span style='color:#2F2B2B;'>V</span> <span style='color:#2F2B2B;'>N</span> <span style='color:#BC3227;'>D</span> <span style='color:#BC3227;'>E</span> <span style='color:#BC3227;'>E</span> <span style='color:#BC3227;'>E</span> <span style='color:#BC3227;'>E</span> <span style='color:#BC3227;'>D</span> <span style='color:#0B44BD;'>K</span> <span style='color:#BC3227;'>E</span> <span style='color:#BC3227;'>E</span> <span style='color:#0B44BD;'>K</span> <span style='color:#2F2B2B;'>G</span> <span style='color:#BC3227;'>E</span> <span style='color:#BC3227;'>E</span> <span style='color:#2F2B2B;'>N</span> <span style='color:#2F2B2B;'>G</span> <span style='color:#BC3227;'>E</span> <span style='color:#2F2B2B;'>V</span> <span style='color:#2F2B2B;'>I</span> <span style='color:#2F2B2B;'>N</span> <span style='color:#2F2B2B;'>T</span> <span style='color:#BC3227;'>E</span> <span style='color:#BC3227;'>E</span> <span style='color:#BC3227;'>E</span> <span style='color:#BC3227;'>E</span> <span style='color:#BC3227;'>E</span> <span style='color:#BC3227;'>E</span> <span style='color:#BC3227;'>E</span> <span style='color:#66606A;'>H</span> <span style='color:#2F2B2B;'>Q</span> <span style='color:#2F2B2B;'>Q</span> <span style='color:#0B44BD;'>K</span> <span style='color:#2F2B2B;'>G</span> <span style='color:#2F2B2B;'>G</span> <span style='color:#2F2B2B;'>N</span> <span style='color:#BC3227;'>D</span> <span style='color:#BC3227;'>D</span> <span style='color:#BC3227;'>D</span> <span style='color:#BC3227;'>D</span> <span style='color:#BC3227;'>D</span> <span style='color:#BC3227;'>D</span> <span style='color:#2F2B2B;'>N</span> <span style='color:#BC3227;'>E</span> <span style='color:#BC3227;'>E</span> <span style='color:#BC3227;'>E</span> <span style='color:#BC3227;'>E</span> <span style='color:#BC3227;'>E</span> <span style='color:#BC3227;'>E</span> <span style='color:#BC3227;'>E</span> <span style='color:#BC3227;'>E</span> <span style='color:#BC3227;'>D</span> <span style='color:#BC3227;'>D</span> <span style='color:#BC3227;'>D</span> <span style='color:#BC3227;'>D</span> <span style='color:#BC3227;'>D</span> <span style='color:#BC3227;'>D</span> <span style='color:#BC3227;'>D</span> <span style='color:#BC3227;'>D</span> <span style='color:#BC3227;'>D</span> <span style='color:#BC3227;'>D</span> <span style='color:#BC3227;'>D</span> <span style='color:#BC3227;'>D</span> <span style='color:#BC3227;'>E</span> <span style='color:#BC3227;'>E</span> <span style='color:#BC3227;'>E</span> <span style='color:#BC3227;'>E</span> <span style='color:#BC3227;'>E</span> <span style='color:#BC3227;'>E</span> <span style='color:#BC3227;'>E</span> <span style='color:#BC3227;'>E</span> <span style='color:#BC3227;'>E</span> <span style='color:#BC3227;'>E</span> <span style='color:#2F2B2B;'>G</span> <span style='color:#2F2B2B;'>N</span> <span style='color:#BC3227;'>D</span> <span style='color:#2F2B2B;'>N</span> <span style='color:#2F2B2B;'>S</span> <span style='color:#2F2B2B;'>S</span> <span style='color:#2F2B2B;'>V</span></div>"
      ],
      "text/plain": [
       "<IPython.core.display.HTML object>"
      ]
     },
     "metadata": {},
     "output_type": "display_data"
    }
   ],
   "source": [
    "print_aas('NSSADDGIEFDAPEEEREAEREEENEEQHELEDVNDEEEEDKEEKGEENGEVINTEEEEEEEHQQKGGNDDDDDDNEEEEEEEEDDDDDDDDDDDDEEEEEEEEEEGNDNSSV')"
   ]
  },
  {
   "cell_type": "code",
   "execution_count": null,
   "metadata": {},
   "outputs": [],
   "source": []
  },
  {
   "cell_type": "markdown",
   "metadata": {
    "toc": true
   },
   "source": [
    "<h1>Table of Contents<span class=\"tocSkip\"></span></h1>\n",
    "<div class=\"toc\"><ul class=\"toc-item\"><li><span><a href=\"#Low-charge-asymmetry-sequences\" data-toc-modified-id=\"Low-charge-asymmetry-sequences-1\">Low charge asymmetry sequences</a></span></li><li><span><a href=\"#High-charge-asymmetry-sequences\" data-toc-modified-id=\"High-charge-asymmetry-sequences-2\">High charge asymmetry sequences</a></span></li></ul></div>"
   ]
  }
 ],
 "metadata": {
  "kernelspec": {
   "display_name": "Python 3.8.5 ('base')",
   "language": "python",
   "name": "python3"
  },
  "language_info": {
   "codemirror_mode": {
    "name": "ipython",
    "version": 3
   },
   "file_extension": ".py",
   "mimetype": "text/x-python",
   "name": "python",
   "nbconvert_exporter": "python",
   "pygments_lexer": "ipython3",
   "version": "3.8.5"
  },
  "toc": {
   "base_numbering": 1,
   "nav_menu": {},
   "number_sections": false,
   "sideBar": true,
   "skip_h1_title": true,
   "title_cell": "Table of Contents",
   "title_sidebar": "Contents",
   "toc_cell": true,
   "toc_position": {},
   "toc_section_display": true,
   "toc_window_display": false
  },
  "vscode": {
   "interpreter": {
    "hash": "14a6de5b5f41fe9ef9ae83e6c1ae493095aeba749050cf0994e4083d1b5a4d7a"
   }
  }
 },
 "nbformat": 4,
 "nbformat_minor": 2
}
