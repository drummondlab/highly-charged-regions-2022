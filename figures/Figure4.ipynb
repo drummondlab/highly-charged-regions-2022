{
 "cells": [
  {
   "cell_type": "markdown",
   "metadata": {},
   "source": [
    "# Figure 4"
   ]
  },
  {
   "cell_type": "code",
   "execution_count": 1,
   "metadata": {},
   "outputs": [],
   "source": [
    "import sys\n",
    "sys.path.insert(1, '../code/scripts')"
   ]
  },
  {
   "cell_type": "code",
   "execution_count": 2,
   "metadata": {},
   "outputs": [],
   "source": [
    "## Basics\n",
    "from scipy import stats\n",
    "import numpy as np\n",
    "import pandas as pd\n",
    "import seaborn as sns\n",
    "import mdtraj as md\n",
    "import parseaf as pa\n",
    "#import tempparse as paf\n",
    "\n",
    "## Logistic regression\n",
    "from sklearn import metrics\n",
    "from sklearn.model_selection import train_test_split\n",
    "from sklearn.linear_model import LogisticRegression\n",
    "\n",
    "## Plotting\n",
    "import matplotlib.pyplot as plt\n",
    "from matplotlib.lines import Line2D\n",
    "import seaborn as sns\n",
    "plt.rcParams.update({'font.size': 14})\n",
    "plt.rcParams['font.family'] = 'sans-serif'\n",
    "plt.rcParams['font.sans-serif'] = \"Arial\"\n",
    "\n",
    "## Colors\n",
    "cscheme = {'pos':'#0177BB', 'neg':'#CB3627', 'dis':'#828282', 'helix':'#009988', 'sheet':'#EE7733', 'cr':'#AA4499'}"
   ]
  },
  {
   "cell_type": "code",
   "execution_count": 3,
   "metadata": {},
   "outputs": [],
   "source": [
    "import warnings\n",
    "warnings.filterwarnings('ignore')"
   ]
  },
  {
   "cell_type": "markdown",
   "metadata": {},
   "source": [
    "## Functions"
   ]
  },
  {
   "cell_type": "code",
   "execution_count": 4,
   "metadata": {},
   "outputs": [],
   "source": [
    "def get_aa_freq(seq, aa):\n",
    "    cnt = 0\n",
    "    for i in seq:\n",
    "        if i == aa:\n",
    "            cnt += 1\n",
    "    aa_freq = cnt / len(seq)\n",
    "    return aa_freq"
   ]
  },
  {
   "cell_type": "code",
   "execution_count": 5,
   "metadata": {},
   "outputs": [],
   "source": [
    "def append_percent_aa(row, aa):\n",
    "    seq = row['region_seq']\n",
    "    if len(seq) == 0:\n",
    "        print(row['uni_id'])\n",
    "    return get_aa_freq(seq, aa)"
   ]
  },
  {
   "cell_type": "code",
   "execution_count": 6,
   "metadata": {},
   "outputs": [],
   "source": [
    "def get_cnf_freq(cnf_mat):\n",
    "    cnf_freq = cnf_mat / cnf_mat.sum(axis=1)[:, np.newaxis]\n",
    "    return cnf_freq"
   ]
  },
  {
   "cell_type": "markdown",
   "metadata": {},
   "source": [
    "## Data"
   ]
  },
  {
   "cell_type": "code",
   "execution_count": 7,
   "metadata": {},
   "outputs": [],
   "source": [
    "allregions = pd.read_csv('../data/af_regions/sc_af_regions_all.csv')"
   ]
  },
  {
   "cell_type": "code",
   "execution_count": 12,
   "metadata": {},
   "outputs": [],
   "source": [
    "df_all_orfs = pd.read_table('../data/sc_orfs/yeast-all-orfs.txt', header=None, names=['orf'])"
   ]
  },
  {
   "cell_type": "code",
   "execution_count": 13,
   "metadata": {},
   "outputs": [],
   "source": [
    "all_orfs = df_all_orfs['orf'].tolist()"
   ]
  },
  {
   "cell_type": "code",
   "execution_count": 15,
   "metadata": {},
   "outputs": [],
   "source": [
    "with open('../data/misc/uniprot-to-sgdid.txt') as f:\n",
    "    mappings = {}\n",
    "    for line in f:\n",
    "        uniprot = line[95:106].rstrip()\n",
    "        orf = line[75:95].rstrip()\n",
    "        mappings[orf] = uniprot"
   ]
  },
  {
   "cell_type": "code",
   "execution_count": 18,
   "metadata": {},
   "outputs": [
    {
     "data": {
      "text/plain": [
       "0.7463574189711567"
      ]
     },
     "execution_count": 18,
     "metadata": {},
     "output_type": "execute_result"
    }
   ],
   "source": [
    "len(allregions['uni_id'].unique()) / len(mappings)"
   ]
  },
  {
   "cell_type": "code",
   "execution_count": 8,
   "metadata": {},
   "outputs": [
    {
     "data": {
      "text/plain": [
       "16464"
      ]
     },
     "execution_count": 8,
     "metadata": {},
     "output_type": "execute_result"
    }
   ],
   "source": [
    "len(allregions)"
   ]
  },
  {
   "cell_type": "code",
   "execution_count": 9,
   "metadata": {},
   "outputs": [],
   "source": [
    "cnf_df = pd.read_csv('../misc/cp_cnf_matrices_posttrim.csv')"
   ]
  },
  {
   "cell_type": "code",
   "execution_count": 10,
   "metadata": {},
   "outputs": [
    {
     "data": {
      "text/html": [
       "<div>\n",
       "<style scoped>\n",
       "    .dataframe tbody tr th:only-of-type {\n",
       "        vertical-align: middle;\n",
       "    }\n",
       "\n",
       "    .dataframe tbody tr th {\n",
       "        vertical-align: top;\n",
       "    }\n",
       "\n",
       "    .dataframe thead th {\n",
       "        text-align: right;\n",
       "    }\n",
       "</style>\n",
       "<table border=\"1\" class=\"dataframe\">\n",
       "  <thead>\n",
       "    <tr style=\"text-align: right;\">\n",
       "      <th></th>\n",
       "      <th>FN</th>\n",
       "      <th>n</th>\n",
       "      <th>FP</th>\n",
       "      <th>TN</th>\n",
       "      <th>TP</th>\n",
       "    </tr>\n",
       "  </thead>\n",
       "  <tbody>\n",
       "    <tr>\n",
       "      <th>0</th>\n",
       "      <td>127</td>\n",
       "      <td>4116</td>\n",
       "      <td>183</td>\n",
       "      <td>2258</td>\n",
       "      <td>1548</td>\n",
       "    </tr>\n",
       "    <tr>\n",
       "      <th>1</th>\n",
       "      <td>385</td>\n",
       "      <td>3915</td>\n",
       "      <td>128</td>\n",
       "      <td>2422</td>\n",
       "      <td>980</td>\n",
       "    </tr>\n",
       "    <tr>\n",
       "      <th>2</th>\n",
       "      <td>48</td>\n",
       "      <td>619</td>\n",
       "      <td>9</td>\n",
       "      <td>373</td>\n",
       "      <td>189</td>\n",
       "    </tr>\n",
       "    <tr>\n",
       "      <th>3</th>\n",
       "      <td>524</td>\n",
       "      <td>4116</td>\n",
       "      <td>486</td>\n",
       "      <td>1955</td>\n",
       "      <td>1151</td>\n",
       "    </tr>\n",
       "    <tr>\n",
       "      <th>4</th>\n",
       "      <td>529</td>\n",
       "      <td>3915</td>\n",
       "      <td>602</td>\n",
       "      <td>1948</td>\n",
       "      <td>836</td>\n",
       "    </tr>\n",
       "  </tbody>\n",
       "</table>\n",
       "</div>"
      ],
      "text/plain": [
       "    FN     n   FP    TN    TP\n",
       "0  127  4116  183  2258  1548\n",
       "1  385  3915  128  2422   980\n",
       "2   48   619    9   373   189\n",
       "3  524  4116  486  1955  1151\n",
       "4  529  3915  602  1948   836"
      ]
     },
     "execution_count": 10,
     "metadata": {},
     "output_type": "execute_result"
    }
   ],
   "source": [
    "cnf_df.head(5)"
   ]
  },
  {
   "cell_type": "markdown",
   "metadata": {},
   "source": [
    "## 3A: Logistic regression model coefficients"
   ]
  },
  {
   "cell_type": "code",
   "execution_count": 11,
   "metadata": {},
   "outputs": [],
   "source": [
    "states = ['A', 'C', 'D', 'E', 'F', 'G', 'H', 'I', 'K', 'L',\n",
    "          'M', 'N', 'P', 'Q', 'R', 'S', 'T', 'V', 'W', 'Y']"
   ]
  },
  {
   "cell_type": "code",
   "execution_count": 12,
   "metadata": {},
   "outputs": [],
   "source": [
    "for aa in states:\n",
    "    allregions['freq_'+aa] = allregions.apply(lambda row: append_percent_aa(row, aa), axis=1)"
   ]
  },
  {
   "cell_type": "code",
   "execution_count": 13,
   "metadata": {},
   "outputs": [
    {
     "data": {
      "text/plain": [
       "0.9246841593780369"
      ]
     },
     "execution_count": 13,
     "metadata": {},
     "output_type": "execute_result"
    }
   ],
   "source": [
    "featurecol = []\n",
    "for aa in states:\n",
    "    featurecol.append('freq_'+aa)\n",
    "X = allregions[featurecol]\n",
    "y = allregions['label']\n",
    "X_train, X_test, y_train, y_test = train_test_split(X, y, test_size=0.25, random_state=0)\n",
    "logreg = LogisticRegression()\n",
    "logreg.fit(X_train, y_train)\n",
    "y_pred = logreg.predict(X_test)\n",
    "cnf_all = metrics.confusion_matrix(y_test, y_pred)\n",
    "metrics.accuracy_score(y_test, y_pred)"
   ]
  },
  {
   "cell_type": "code",
   "execution_count": 14,
   "metadata": {},
   "outputs": [],
   "source": [
    "indices = list(y_test.index)\n",
    "df_test = allregions[allregions.index.isin(indices)]\n",
    "df_test.to_csv('../data/af_regions/sc_af_regions_testing.csv', index=False)"
   ]
  },
  {
   "cell_type": "code",
   "execution_count": 15,
   "metadata": {},
   "outputs": [],
   "source": [
    "df_lr = pd.DataFrame(columns=['aa','coef'])\n",
    "for i in range(20):\n",
    "    df_lr = df_lr.append({'aa': states[i], 'coef': logreg.coef_[0][i]}, ignore_index=True)\n",
    "df_lr = df_lr.sort_values(by='coef', ascending=False, key=abs)"
   ]
  },
  {
   "cell_type": "code",
   "execution_count": 16,
   "metadata": {},
   "outputs": [
    {
     "data": {
      "image/png": "[encoded data removed]",
      "text/plain": [
       "<Figure size 417.6x201.6 with 1 Axes>"
      ]
     },
     "metadata": {
      "needs_background": "light"
     },
     "output_type": "display_data"
    }
   ],
   "source": [
    "plt.figure(figsize=(5.8,2.8))\n",
    "plt.stem(df_lr['aa'], df_lr['coef'],\n",
    "         linefmt='dimgrey')\n",
    "\n",
    "for index,row in df_lr.iterrows():\n",
    "    aa = row['aa']\n",
    "    if aa == 'K' or aa == 'R':\n",
    "        color = cscheme['pos']\n",
    "    elif aa == 'D' or aa == 'E':\n",
    "        color = cscheme['neg']\n",
    "    else:\n",
    "        color = 'dimgrey'\n",
    "    plt.scatter(aa, row['coef'], marker='o', color=color, zorder=3)\n",
    "    \n",
    "plt.ylabel('Coefficients in\\nLR model')\n",
    "plt.tight_layout()\n",
    "plt.savefig('./plots/Figure3A.png', dpi=300)\n",
    "plt.show()"
   ]
  },
  {
   "cell_type": "markdown",
   "metadata": {},
   "source": [
    "## 3B: LR coefficients against helix propensity"
   ]
  },
  {
   "cell_type": "code",
   "execution_count": 17,
   "metadata": {},
   "outputs": [],
   "source": [
    "df_hp = pd.read_csv('../data/misc/helix_propensity_pace1998.txt')\n",
    "h_propensity = {}\n",
    "for index, row in df_hp.iterrows():\n",
    "    h_propensity[row['aa']] = row['hp']"
   ]
  },
  {
   "cell_type": "code",
   "execution_count": 18,
   "metadata": {},
   "outputs": [],
   "source": [
    "from sklearn.linear_model import LinearRegression\n",
    "from sklearn.metrics import r2_score"
   ]
  },
  {
   "cell_type": "code",
   "execution_count": 19,
   "metadata": {},
   "outputs": [
    {
     "data": {
      "image/png": "[encoded data removed]",
      "text/plain": [
       "<Figure size 244.8x217.44 with 1 Axes>"
      ]
     },
     "metadata": {
      "needs_background": "light"
     },
     "output_type": "display_data"
    }
   ],
   "source": [
    "plt.figure(figsize=(3.4,3.02))\n",
    "\n",
    "coefs = logreg.coef_.tolist()[0]\n",
    "for i in range(20):\n",
    "    aa = states[i]\n",
    "    if aa == 'K' or aa == 'R':\n",
    "        color = cscheme['pos']\n",
    "    elif aa == 'D' or aa == 'E':\n",
    "        color = cscheme['neg']\n",
    "    else:\n",
    "        color = 'dimgrey'\n",
    "    plt.scatter(h_propensity[aa], coefs[i],\n",
    "                color=color, zorder=3)\n",
    "\n",
    "plt.xlabel('Helix propensity (kcal/mol)')\n",
    "plt.ylabel('Coefficient in\\nLR model')\n",
    "corr = stats.spearmanr(list(h_propensity.values()), logreg.coef_[0].tolist())\n",
    "reg = LinearRegression().fit(np.asarray(list(h_propensity.values())).reshape(-1, 1),\n",
    "                             np.asarray(logreg.coef_[0].tolist()).reshape(-1, 1))\n",
    "x = np.arange(0, 3.5, 0.01).reshape(-1, 1)\n",
    "plt.plot(x, reg.predict(x), color='black', linestyle='--')\n",
    "\n",
    "plt.text(1.5, 7, \"Spearman r\\n = \" + '{0:.3g}'.format(corr.correlation))\n",
    "plt.tight_layout()\n",
    "#plt.savefig('./fig.png', dpi=300)\n",
    "plt.savefig('./plots/Figure3B.png', dpi=300)\n",
    "plt.show()"
   ]
  },
  {
   "cell_type": "code",
   "execution_count": 20,
   "metadata": {},
   "outputs": [
    {
     "data": {
      "text/plain": [
       "0.4848926200472864"
      ]
     },
     "execution_count": 20,
     "metadata": {},
     "output_type": "execute_result"
    }
   ],
   "source": [
    "r2_score(np.asarray(logreg.coef_[0].tolist()).reshape(-1, 1),\n",
    "         reg.predict(np.asarray(list(h_propensity.values())).reshape(-1, 1)))"
   ]
  },
  {
   "cell_type": "markdown",
   "metadata": {},
   "source": [
    "## 3C: Uversky plot for all regions"
   ]
  },
  {
   "cell_type": "code",
   "execution_count": 21,
   "metadata": {},
   "outputs": [],
   "source": [
    "df = pd.read_csv('../data/uversky/uversky_all.csv')"
   ]
  },
  {
   "cell_type": "code",
   "execution_count": 22,
   "metadata": {},
   "outputs": [],
   "source": [
    "from matplotlib.lines import Line2D\n",
    "\n",
    "legend_elements = [Line2D([0], [0], marker='o', color='w', label='Helix',\n",
    "                          markerfacecolor=cscheme['helix'], markersize=10),\n",
    "                   Line2D([0], [0], marker='o', color='w', label='Disordered',\n",
    "                          markerfacecolor=cscheme['dis'], markersize=10)]"
   ]
  },
  {
   "cell_type": "code",
   "execution_count": 23,
   "metadata": {},
   "outputs": [],
   "source": [
    "X = np.asarray(df['norm_hydrop'].tolist())\n",
    "Y = np.asarray(df['norm_nc'].tolist())"
   ]
  },
  {
   "cell_type": "code",
   "execution_count": 24,
   "metadata": {},
   "outputs": [],
   "source": [
    "plot_idx = np.random.permutation(len(df))\n",
    "labels = np.asarray(df['label'].tolist())\n",
    "colors = pd.factorize(labels)"
   ]
  },
  {
   "cell_type": "code",
   "execution_count": 25,
   "metadata": {},
   "outputs": [
    {
     "data": {
      "text/plain": [
       "<Figure size 432x288 with 0 Axes>"
      ]
     },
     "metadata": {},
     "output_type": "display_data"
    },
    {
     "data": {
      "image/png": "[encoded data removed]",
      "text/plain": [
       "<Figure size 180x180 with 3 Axes>"
      ]
     },
     "metadata": {
      "needs_background": "light"
     },
     "output_type": "display_data"
    }
   ],
   "source": [
    "plt.figure()\n",
    "g = sns.jointplot(X[plot_idx], Y[plot_idx], hue=labels[plot_idx],\n",
    "                  palette={'disordered': cscheme['dis'], 'helix': cscheme['helix']},\n",
    "                  alpha=0.2, s=7, height=2.5, legend=False)\n",
    "x = np.linspace(0.4,0.65,100)\n",
    "y = 2.785*x - 1.151\n",
    "g.ax_joint.plot(x, y, 'black', linewidth = 1)\n",
    "g.ax_joint.set_xlabel('Norm mean hydropathy')\n",
    "g.ax_joint.set_ylabel('Norm net charge')\n",
    "g.ax_joint.set_xlim(0, 0.9)\n",
    "#g.legend.set_title(None)\n",
    "\n",
    "#h,l = g.get_legend_handles_labels()\n",
    "#plt.legend(h[1:],l[1:])\n",
    "\n",
    "plt.legend(handles=legend_elements,handletextpad=0, columnspacing=0.5, ncol=2,\n",
    "           bbox_to_anchor=(1.5, 1.45), frameon=False)\n",
    "plt.savefig('./plots/Figure3C.png', dpi=300, bbox_inches = \"tight\")\n",
    "plt.show()"
   ]
  },
  {
   "cell_type": "markdown",
   "metadata": {},
   "source": [
    "## 3D: Accuracy of logistic regression model"
   ]
  },
  {
   "cell_type": "code",
   "execution_count": 26,
   "metadata": {},
   "outputs": [],
   "source": [
    "cnf_matrices = []\n",
    "sample_size = []\n",
    "for index, row in cnf_df.iterrows():\n",
    "    mat = np.array([[row['TN'], row['FP']], [row['FN'], row['TP']]])\n",
    "    cnf_matrices.append(mat)\n",
    "    if index < 3:\n",
    "        sample_size.append(row['n'])"
   ]
  },
  {
   "cell_type": "code",
   "execution_count": 27,
   "metadata": {},
   "outputs": [],
   "source": [
    "titles = ['Purely helical\\nand disordered\\nregions',\n",
    "          'Randomly\\ndrawn\\nregions',\n",
    "          'Highly\\ncharged\\nregions']"
   ]
  },
  {
   "cell_type": "code",
   "execution_count": 42,
   "metadata": {},
   "outputs": [
    {
     "data": {
      "image/png": "[encoded data removed]",
      "text/plain": [
       "<Figure size 360x252 with 7 Axes>"
      ]
     },
     "metadata": {
      "needs_background": "light"
     },
     "output_type": "display_data"
    }
   ],
   "source": [
    "fig, axes = plt.subplots(2, 3, figsize=(5, 3.5), constrained_layout=False)\n",
    "cbar_ax = fig.add_axes([0.95, .35, .03, .45])\n",
    "\n",
    "for i, ax in enumerate(axes.flat):\n",
    "    g = sns.heatmap(pd.DataFrame(get_cnf_freq(cnf_matrices[i])), ax=ax,\n",
    "                    annot=True, fmt=\".2f\",\n",
    "                    xticklabels=['', ''], yticklabels=['', ''],\n",
    "                    cmap=\"Greys\", cbar= (i == 0),\n",
    "                    vmin=0, vmax=1,\n",
    "                    cbar_ax=None if i else cbar_ax)\n",
    "    g.tick_params(left=False, bottom=False)\n",
    "    if i < 3:\n",
    "        g.set_title(titles[i], fontsize=14.5, pad=5)\n",
    "    #ax.title.set_position([.5, 0.8])\n",
    "    if i == 0:\n",
    "        ax.set_ylabel('LR model')\n",
    "        ax.yaxis.labelpad = 5\n",
    "    elif i == 3:\n",
    "        ax.set_ylabel('Uversky')\n",
    "        ax.yaxis.labelpad = 5\n",
    "    bottom, top = ax.get_ylim()\n",
    "    ax.set_aspect('equal', adjustable=\"datalim\")\n",
    "    #ax.set_ylim(bottom + 0.5, top - 0.5)\n",
    "\n",
    "#plt.tight_layout()\n",
    "plt.subplots_adjust(wspace=0.2, hspace=0.01)\n",
    "plt.savefig('./plots/Figure3D.png', dpi=300, bbox_inches='tight')"
   ]
  },
  {
   "cell_type": "markdown",
   "metadata": {},
   "source": [
    "## 3E: Summary of prediction accuracy for 3D"
   ]
  },
  {
   "cell_type": "code",
   "execution_count": 29,
   "metadata": {},
   "outputs": [],
   "source": [
    "l_acc = []\n",
    "for i in range(6):\n",
    "    cnf = cnf_matrices[i]\n",
    "    accuracy = (cnf[0, 0] + cnf[1, 1]) / np.sum(cnf)\n",
    "    l_acc.append(accuracy)\n",
    "sc_acc = np.mean(l_acc[:3])"
   ]
  },
  {
   "cell_type": "code",
   "execution_count": 30,
   "metadata": {},
   "outputs": [],
   "source": [
    "ticks = ['LR model,\\nall regions',\n",
    "         'LR model,\\nrandomly drawn regions',\n",
    "         'LR model,\\nhighly charged regions',\n",
    "         'Uversky plot,\\nall regions',\n",
    "         'Uversky plot,\\nrandomly drawn regions',\n",
    "         'Uversky plot,\\nhighly charged regions']"
   ]
  },
  {
   "cell_type": "code",
   "execution_count": 31,
   "metadata": {},
   "outputs": [],
   "source": [
    "df_cnf = pd.DataFrame(columns=['model', 'dataset', 'l_acc'])"
   ]
  },
  {
   "cell_type": "code",
   "execution_count": 32,
   "metadata": {},
   "outputs": [],
   "source": [
    "datasets = ['All regions', 'Random', 'Highly\\ncharged']"
   ]
  },
  {
   "cell_type": "code",
   "execution_count": 33,
   "metadata": {},
   "outputs": [],
   "source": [
    "for i in range(3):\n",
    "    df_cnf = df_cnf.append({'model': 'LR', 'dataset':datasets[i], 'l_acc': l_acc[i]},\n",
    "                           ignore_index=True)"
   ]
  },
  {
   "cell_type": "code",
   "execution_count": 34,
   "metadata": {},
   "outputs": [],
   "source": [
    "for i in range(3):\n",
    "    df_cnf = df_cnf.append({'model': 'Uversky', 'dataset':datasets[i], 'l_acc': l_acc[i+3]},\n",
    "                           ignore_index=True)"
   ]
  },
  {
   "cell_type": "code",
   "execution_count": 43,
   "metadata": {},
   "outputs": [
    {
     "data": {
      "image/png": "[encoded data removed]",
      "text/plain": [
       "<Figure size 288x273.6 with 1 Axes>"
      ]
     },
     "metadata": {
      "needs_background": "light"
     },
     "output_type": "display_data"
    }
   ],
   "source": [
    "fig, ax = plt.subplots(figsize=(4,3.8))\n",
    "\n",
    "sns.barplot(data=df_cnf, y='dataset', x='l_acc', hue='model',\n",
    "            palette=['black', 'darkgrey'], edgecolor='white')\n",
    "ax.set_xlabel('Accuracy of classification')\n",
    "ax.set_ylabel('')\n",
    "ax.set_xlim(0, 1)\n",
    "ax.set_xticks(np.arange(0, 1.05, 0.2))\n",
    "ax.set_xticklabels([0, 0.2, 0.4, 0.6, 0.8, 1])\n",
    "ax.set_xticks([0.1, 0.3, 0.5, 0.7, 0.9], minor=True)\n",
    "#ax.xaxis.set_minor_locator(tck.AutoMinorLocator())\n",
    "#ax.set_xlabel('Accuracy of classification')\n",
    "plt.legend(title=None, ncol = 2, frameon=False, columnspacing=1.5,\n",
    "           bbox_to_anchor=(1.05, 1.2))\n",
    "plt.tight_layout()\n",
    "plt.savefig('./plots/Figure3E.png', dpi=300)\n",
    "plt.show()"
   ]
  },
  {
   "cell_type": "markdown",
   "metadata": {},
   "source": [
    "## 3F: Prediction accuracy for other training or testing data"
   ]
  },
  {
   "cell_type": "code",
   "execution_count": 36,
   "metadata": {},
   "outputs": [],
   "source": [
    "d_acc = {'sc_onlyP': 0.7468415937803693,\n",
    "'sc_onlyG': 0.5930515063168125,\n",
    " 'sc_onlyPG': 0.7560738581146744,\n",
    " 'sc_top5': 0.8965014577259475}"
   ]
  },
  {
   "cell_type": "code",
   "execution_count": 37,
   "metadata": {},
   "outputs": [],
   "source": [
    "d_acc2 = {'sc': sc_acc,\n",
    "'pombe': 0.9080121057661675,\n",
    "'human': 0.9397504456327985,\n",
    "'celegans': 0.9142884449966548}"
   ]
  },
  {
   "cell_type": "code",
   "execution_count": 38,
   "metadata": {},
   "outputs": [],
   "source": [
    "def change_width(ax, new_value) :\n",
    "    #https://stackoverflow.com/questions/34888058/changing-width-of-bars-in-bar-chart-created-using-seaborn-factorplot\n",
    "    for patch in ax.patches :\n",
    "        \n",
    "        current_height = patch.get_height()\n",
    "        diff = current_height - new_value\n",
    "\n",
    "        # we change the bar width\n",
    "        patch.set_height(new_value)\n",
    "\n",
    "        # we recenter the bar\n",
    "        patch.set_y(patch.get_y() + diff * .5)"
   ]
  },
  {
   "cell_type": "code",
   "execution_count": 44,
   "metadata": {},
   "outputs": [
    {
     "data": {
      "image/png": "[encoded data removed]",
      "text/plain": [
       "<Figure size 252x230.4 with 1 Axes>"
      ]
     },
     "metadata": {
      "needs_background": "light"
     },
     "output_type": "display_data"
    }
   ],
   "source": [
    "fig, ax = plt.subplots(figsize=(3.5,3.2))\n",
    "keys = list(d_acc.keys())\n",
    "vals = [d_acc[k] for k in keys]\n",
    "ax = sns.barplot(y=keys, x=vals, color='dimgrey', ax=ax)\n",
    "ax.set_yticklabels(['P only', 'G only', 'P and G','P, L, I, S, D\\n(Top 5)'])\n",
    "ax.set_xlabel('Accuracy of classification')\n",
    "ax.set_xlim(0,1)\n",
    "ax.set_xticks(np.arange(0, 1.05, 0.2))\n",
    "ax.set_xticklabels([0, 0.2, 0.4, 0.6, 0.8, 1])\n",
    "ax.set_xticks([0.1, 0.3, 0.5, 0.7, 0.9], minor=True)\n",
    "ax.axvline(sc_acc, color='red', linestyle='dashed')\n",
    "ax.legend([Line2D([0], [0], color='red', lw=2, ls='dashed')],\n",
    "           ['All AAs'],\n",
    "          bbox_to_anchor=(0.9, 1.3), frameon=False)\n",
    "change_width(ax, .75)\n",
    "plt.tight_layout()\n",
    "plt.savefig('./plots/Figure3F.png', dpi=300, bbox_inches='tight')\n",
    "plt.show()"
   ]
  },
  {
   "cell_type": "markdown",
   "metadata": {},
   "source": [
    "## 3G"
   ]
  },
  {
   "cell_type": "code",
   "execution_count": 45,
   "metadata": {},
   "outputs": [
    {
     "data": {
      "image/png": "[encoded data removed]",
      "text/plain": [
       "<Figure size 172.8x187.2 with 1 Axes>"
      ]
     },
     "metadata": {
      "needs_background": "light"
     },
     "output_type": "display_data"
    }
   ],
   "source": [
    "fig, ax = plt.subplots(figsize=(2.4,2.6))\n",
    "keys = list(d_acc2.keys())\n",
    "vals = [d_acc2[k] for k in keys]\n",
    "sns.barplot(y=keys, x=vals, color='dimgrey')\n",
    "ax.set_yticklabels(['Saccharomyces\\ncerevisiae', 'Schizosaccharomyces\\npombe', 'Homo sapiens', 'Caenorhabditis\\nelegans'])\n",
    "ax.spines['right'].set_visible(False)\n",
    "ax.spines['top'].set_visible(False)\n",
    "ax.set_xlim(0,1)\n",
    "ax.set_xticks(np.arange(0, 1.05, 0.2))\n",
    "ax.set_xticklabels([0, 0.2, 0.4, 0.6, 0.8, 1])\n",
    "ax.set_xticks([0.1, 0.3, 0.5, 0.7, 0.9], minor=True)\n",
    "ax.set_xlabel('Accuracy of classification')\n",
    "change_width(ax, .7)\n",
    "\n",
    "plt.savefig('./plots/Figure3G.png', dpi=300, bbox_inches='tight')\n",
    "plt.show()"
   ]
  }
 ],
 "metadata": {
  "kernelspec": {
   "display_name": "Python 3.9.12 ('env_hcr')",
   "language": "python",
   "name": "python3"
  },
  "language_info": {
   "codemirror_mode": {
    "name": "ipython",
    "version": 3
   },
   "file_extension": ".py",
   "mimetype": "text/x-python",
   "name": "python",
   "nbconvert_exporter": "python",
   "pygments_lexer": "ipython3",
   "version": "3.9.12"
  },
  "vscode": {
   "interpreter": {
    "hash": "cf9c92407ea329efb8c9016a715d7811f432985378f61b50691b48c8c409138b"
   }
  }
 },
 "nbformat": 4,
 "nbformat_minor": 4
}
