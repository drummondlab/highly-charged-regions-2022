{
 "cells": [
  {
   "cell_type": "code",
   "execution_count": 1,
   "metadata": {},
   "outputs": [],
   "source": [
    "import sys\n",
    "sys.path.insert(1, '../code/scripts')"
   ]
  },
  {
   "cell_type": "code",
   "execution_count": 2,
   "metadata": {},
   "outputs": [],
   "source": [
    "## Basics\n",
    "from scipy import stats\n",
    "import numpy as np\n",
    "import pandas as pd\n",
    "import seaborn as sns\n",
    "import mdtraj as md\n",
    "import parseaf as pa\n",
    "#import tempparse as paf\n",
    "\n",
    "## Logistic regression\n",
    "from sklearn import metrics\n",
    "from sklearn.model_selection import train_test_split\n",
    "from sklearn.linear_model import LogisticRegression\n",
    "from sklearn.linear_model import LinearRegression\n",
    "from sklearn.metrics import r2_score\n",
    "\n",
    "## Plotting\n",
    "import matplotlib.pyplot as plt\n",
    "from matplotlib.lines import Line2D\n",
    "import seaborn as sns\n",
    "plt.rcParams.update({'font.size': 12})\n",
    "plt.rcParams['font.family'] = 'sans-serif'\n",
    "plt.rcParams['font.sans-serif'] = \"Arial\"\n",
    "\n",
    "## Colors\n",
    "cscheme = {'pos':'#0177BB', 'neg':'#CB3627', 'dis':'#828282', 'helix':'#009988', 'sheet':'#EE7733', 'cr':'#AA4499'}"
   ]
  },
  {
   "cell_type": "code",
   "execution_count": 3,
   "metadata": {},
   "outputs": [],
   "source": [
    "import warnings\n",
    "warnings.filterwarnings('ignore')"
   ]
  },
  {
   "cell_type": "markdown",
   "metadata": {},
   "source": [
    "## Functions"
   ]
  },
  {
   "cell_type": "code",
   "execution_count": 4,
   "metadata": {},
   "outputs": [],
   "source": [
    "def get_aa_freq(seq, aa):\n",
    "    cnt = 0\n",
    "    for i in seq:\n",
    "        if i == aa:\n",
    "            cnt += 1\n",
    "    aa_freq = cnt / len(seq)\n",
    "    return aa_freq"
   ]
  },
  {
   "cell_type": "code",
   "execution_count": 5,
   "metadata": {},
   "outputs": [],
   "source": [
    "def append_percent_aa(row, aa):\n",
    "    seq = row['region_seq']\n",
    "    if len(seq) == 0:\n",
    "        print(row['uni_id'])\n",
    "    return get_aa_freq(seq, aa)"
   ]
  },
  {
   "cell_type": "code",
   "execution_count": 6,
   "metadata": {},
   "outputs": [],
   "source": [
    "def get_cnf_freq(cnf_mat):\n",
    "    cnf_freq = cnf_mat / cnf_mat.sum(axis=1)[:, np.newaxis]\n",
    "    return cnf_freq"
   ]
  },
  {
   "cell_type": "code",
   "execution_count": 7,
   "metadata": {},
   "outputs": [],
   "source": [
    "states = ['A', 'C', 'D', 'E', 'F', 'G', 'H', 'I', 'K', 'L',\n",
    "          'M', 'N', 'P', 'Q', 'R', 'S', 'T', 'V', 'W', 'Y']"
   ]
  },
  {
   "cell_type": "markdown",
   "metadata": {},
   "source": [
    "## Logistic regression with AlphaFold data"
   ]
  },
  {
   "cell_type": "code",
   "execution_count": 9,
   "metadata": {},
   "outputs": [],
   "source": [
    "allregions = pd.read_csv('../data/af_regions/sc_af_regions_all.csv')"
   ]
  },
  {
   "cell_type": "code",
   "execution_count": 10,
   "metadata": {},
   "outputs": [],
   "source": [
    "for aa in states:\n",
    "    allregions['freq_'+aa] = allregions.apply(lambda row: append_percent_aa(row, aa), axis=1)"
   ]
  },
  {
   "cell_type": "code",
   "execution_count": 11,
   "metadata": {},
   "outputs": [
    {
     "data": {
      "text/plain": [
       "0.9544642857142858"
      ]
     },
     "execution_count": 11,
     "metadata": {},
     "output_type": "execute_result"
    }
   ],
   "source": [
    "featurecol = []\n",
    "for aa in states:\n",
    "    featurecol.append('freq_'+aa)\n",
    "X = allregions[featurecol]\n",
    "y = allregions['label']\n",
    "X_train, X_test, y_train, y_test = train_test_split(X, y, test_size=0.25, random_state=0)\n",
    "logreg = LogisticRegression()\n",
    "logreg.fit(X_train, y_train)\n",
    "y_pred = logreg.predict(X_test)\n",
    "cnf_all = metrics.confusion_matrix(y_test, y_pred)\n",
    "metrics.accuracy_score(y_test, y_pred)"
   ]
  },
  {
   "cell_type": "code",
   "execution_count": 12,
   "metadata": {},
   "outputs": [],
   "source": [
    "df_lr = pd.DataFrame(columns=['aa','coef'])\n",
    "for i in range(20):\n",
    "    df_lr = df_lr.append({'aa': states[i], 'coef': logreg.coef_[0][i]}, ignore_index=True)\n",
    "df_lr = df_lr.sort_values(by='coef', ascending=False, key=abs)"
   ]
  },
  {
   "cell_type": "markdown",
   "metadata": {},
   "source": [
    "## Logistic regression model with PDB data"
   ]
  },
  {
   "cell_type": "code",
   "execution_count": 14,
   "metadata": {},
   "outputs": [],
   "source": [
    "allregions = pd.read_csv('../data/pdb_regions.csv')"
   ]
  },
  {
   "cell_type": "code",
   "execution_count": 15,
   "metadata": {},
   "outputs": [],
   "source": [
    "for aa in states:\n",
    "    allregions['freq_'+aa] = allregions.apply(lambda row: append_percent_aa(row, aa), axis=1)"
   ]
  },
  {
   "cell_type": "code",
   "execution_count": 16,
   "metadata": {},
   "outputs": [
    {
     "data": {
      "text/plain": [
       "0.9304981174001605"
      ]
     },
     "execution_count": 16,
     "metadata": {},
     "output_type": "execute_result"
    }
   ],
   "source": [
    "featurecol = []\n",
    "for aa in states:\n",
    "    featurecol.append('freq_'+aa)\n",
    "X = allregions[featurecol]\n",
    "y = allregions['label']\n",
    "X_train, X_test, y_train, y_test = train_test_split(X, y, test_size=0.25, random_state=0)\n",
    "logreg_pdb = LogisticRegression()\n",
    "logreg_pdb.fit(X_train, y_train)\n",
    "y_pred = logreg_pdb.predict(X_test)\n",
    "cnf_all = metrics.confusion_matrix(y_test, y_pred)\n",
    "metrics.accuracy_score(y_test, y_pred)"
   ]
  },
  {
   "cell_type": "code",
   "execution_count": 17,
   "metadata": {},
   "outputs": [],
   "source": [
    "df_lr_pdb = pd.DataFrame(columns=['aa','coef'])\n",
    "for i in range(20):\n",
    "    df_lr_pdb = df_lr_pdb.append({'aa': states[i], 'coef': logreg_pdb.coef_[0][i]}, ignore_index=True)\n",
    "df_lr_pdb = df_lr_pdb.sort_values(by='coef', ascending=False, key=abs)"
   ]
  },
  {
   "cell_type": "code",
   "execution_count": 19,
   "metadata": {},
   "outputs": [
    {
     "data": {
      "image/png": "[encoded data removed]",
      "text/plain": [
       "<Figure size 345.6x201.6 with 1 Axes>"
      ]
     },
     "metadata": {
      "needs_background": "light"
     },
     "output_type": "display_data"
    }
   ],
   "source": [
    "plt.figure(figsize=(4.8,2.8))\n",
    "plt.stem(df_lr_pdb['aa'], df_lr_pdb['coef'],\n",
    "         linefmt='dimgrey')\n",
    "\n",
    "for index,row in df_lr_pdb.iterrows():\n",
    "    aa = row['aa']\n",
    "    if aa == 'K' or aa == 'R':\n",
    "        color = cscheme['pos']\n",
    "    elif aa == 'D' or aa == 'E':\n",
    "        color = cscheme['neg']\n",
    "    else:\n",
    "        color = 'dimgrey'\n",
    "    plt.scatter(aa, row['coef'], marker='o', color=color, zorder=3)\n",
    "    \n",
    "plt.ylabel('Coefficients in LR model')\n",
    "plt.savefig('./plots/FigureS4A.png', dpi=300, bbox_inches='tight')\n",
    "plt.show()"
   ]
  },
  {
   "cell_type": "markdown",
   "metadata": {},
   "source": [
    "## S4B"
   ]
  },
  {
   "cell_type": "code",
   "execution_count": 48,
   "metadata": {},
   "outputs": [
    {
     "data": {
      "image/png": "[encoded data removed]",
      "text/plain": [
       "<Figure size 201.6x201.6 with 1 Axes>"
      ]
     },
     "metadata": {
      "needs_background": "light"
     },
     "output_type": "display_data"
    }
   ],
   "source": [
    "plt.figure(figsize=(2.8, 2.8))\n",
    "\n",
    "coefs1 = logreg.coef_.tolist()[0]\n",
    "coefs2 = logreg_pdb.coef_.tolist()[0]\n",
    "for i in range(20):\n",
    "    aa = states[i]\n",
    "    if aa == 'K' or aa == 'R':\n",
    "        color = cscheme['pos']\n",
    "    elif aa == 'D' or aa == 'E':\n",
    "        color = cscheme['neg']\n",
    "    else:\n",
    "        color = 'dimgrey'\n",
    "    plt.scatter(coefs1[i], coefs2[i],\n",
    "                color=color, zorder=3, s=50)\n",
    "\n",
    "plt.annotate(text='P', xy=(min(coefs1)+2.5, min(coefs2)))\n",
    "plt.annotate(text='G', xy=(-4, -18))\n",
    "plt.xlim(-40, 20)\n",
    "plt.ylim(-40, 20)\n",
    "plt.xticks(np.arange(-40, 21, 10))\n",
    "plt.yticks(np.arange(-40, 21, 10))\n",
    "plt.plot(np.arange(-40, 21, 10), np.arange(-40, 21, 10), color='black', linestyle='--')\n",
    "plt.xlabel('LR model with AlphaFold data')\n",
    "plt.ylabel('LR model with PDB data')\n",
    "plt.savefig('./plots/FigureS4B.png', dpi=300, bbox_inches='tight')\n",
    "plt.show()"
   ]
  },
  {
   "cell_type": "code",
   "execution_count": null,
   "metadata": {},
   "outputs": [],
   "source": []
  }
 ],
 "metadata": {
  "kernelspec": {
   "display_name": "Python 3.9.12 ('env_hcr')",
   "language": "python",
   "name": "python3"
  },
  "language_info": {
   "codemirror_mode": {
    "name": "ipython",
    "version": 3
   },
   "file_extension": ".py",
   "mimetype": "text/x-python",
   "name": "python",
   "nbconvert_exporter": "python",
   "pygments_lexer": "ipython3",
   "version": "3.9.12"
  },
  "orig_nbformat": 4,
  "vscode": {
   "interpreter": {
    "hash": "cf9c92407ea329efb8c9016a715d7811f432985378f61b50691b48c8c409138b"
   }
  }
 },
 "nbformat": 4,
 "nbformat_minor": 2
}
