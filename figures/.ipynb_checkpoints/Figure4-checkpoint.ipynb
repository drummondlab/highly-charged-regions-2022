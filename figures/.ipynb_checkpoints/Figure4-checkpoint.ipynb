{
 "cells": [
  {
   "cell_type": "markdown",
   "metadata": {},
   "source": [
    "# Figure 4"
   ]
  },
  {
   "cell_type": "code",
   "execution_count": 74,
   "metadata": {},
   "outputs": [],
   "source": [
    "## Basics\n",
    "import numpy as np\n",
    "import pandas as pd\n",
    "import glob\n",
    "import mdtraj as md\n",
    "import random\n",
    "from scipy import stats\n",
    "\n",
    "## Bio functions\n",
    "from Bio import AlignIO\n",
    "from Bio import SeqIO\n",
    "\n",
    "## Local functions\n",
    "import sys\n",
    "sys.path.append(\"../code/scripts\")\n",
    "import alignment_quality as aq\n",
    "import chargepatterns as cp\n",
    "import composition as comp\n",
    "import crutil\n",
    "import fractional_charge as fc\n",
    "\n",
    "\n",
    "## Plotting\n",
    "import matplotlib.pyplot as plt\n",
    "import seaborn as sns\n",
    "plt.rcParams.update({'font.size': 14})\n",
    "plt.rcParams['font.family'] = 'sans-serif'\n",
    "plt.rcParams['font.sans-serif'] = \"Arial\"\n",
    "\n",
    "## Colors\n",
    "cscheme = {'pos':'#0177BB', 'neg':'#CB3627', 'dis':'#828282', 'helix':'#009988', 'sheet':'#EE7733', 'cr':'#AA4499',\n",
    "          'null':\"black\"}"
   ]
  },
  {
   "cell_type": "markdown",
   "metadata": {},
   "source": [
    "## A"
   ]
  },
  {
   "cell_type": "markdown",
   "metadata": {},
   "source": [
    "## B"
   ]
  },
  {
   "cell_type": "markdown",
   "metadata": {},
   "source": [
    "## C"
   ]
  },
  {
   "cell_type": "code",
   "execution_count": 3,
   "metadata": {},
   "outputs": [],
   "source": [
    "# Data and filepaths\n",
    "df = pd.read_csv(\"../data/charged_regions/cr_filtered.csv\", comment='#')\n",
    "\n",
    "aybrah_path = '/Volumes/DATA/aybrah/hits_outputs/20210218/'\n",
    "\n",
    "fdir = \"/Volumes/DATA/aybrah/aybrah-all/\""
   ]
  },
  {
   "cell_type": "code",
   "execution_count": 4,
   "metadata": {},
   "outputs": [],
   "source": [
    "# Helper functions\n",
    "\n",
    "def filter_msa(msa, cutoff, how=\"length\"):\n",
    "    \"\"\"\n",
    "    Given an msa, filter out all the entries that are less than a certain length.\n",
    "    \"\"\"\n",
    "    filtered_msa = []\n",
    "    for record in msa:\n",
    "        rlen = len(str(record.seq).replace('-', ''))\n",
    "        if rlen > cutoff:\n",
    "            filtered_msa.append(record)\n",
    "            \n",
    "    return(filtered_msa)\n",
    "\n",
    "def COV(x, absolute=True):\n",
    "    \"\"\"\n",
    "    Given a interable of values, return the coefficient of variation of those values.\n",
    "    \"\"\"\n",
    "    std = np.sqrt(np.nanvar(x))\n",
    "    if not absolute:\n",
    "        return(std / np.nanmean(x))\n",
    "    else:\n",
    "        return(std / np.abs(np.nanmean(x)))"
   ]
  },
  {
   "cell_type": "code",
   "execution_count": 14,
   "metadata": {},
   "outputs": [],
   "source": [
    "def compute_region_fcr(msa):\n",
    "    \"\"\"\n",
    "    Given an msa, extract the mean fraction of charged residues (FCR) of all the sequences in the msa\n",
    "    \"\"\"\n",
    "    fcrs = []\n",
    "    for record in msa:\n",
    "        seq = str(record.seq).replace('-',\"\")\n",
    "        fcrs.append(cp.fraction_charged(seq))\n",
    "    return np.mean(fcrs)\n",
    "\n",
    "def compute_region_fcr_var(msa, cov=False):\n",
    "    \"\"\"\n",
    "    Given an msa, extract the variance in the fraction of charged residues (FCR) of all the sequences in the msa\n",
    "    \"\"\"\n",
    "    fcrs = []\n",
    "    for record in msa:\n",
    "        seq = str(record.seq).replace('-',\"\")\n",
    "        fcrs.append(cp.fraction_charged(seq))\n",
    "    if not cov:\n",
    "        return np.var(fcrs)\n",
    "    else:\n",
    "        return COV(fcrs)\n",
    "    \n",
    "def get_row_charge_props(row, filter_cutoff=25):\n",
    "    orf = row['orf']  \n",
    "    refseq = row['region.seq']\n",
    "    left_bound = row['left.bound']\n",
    "    right_bound = row['right.bound']\n",
    "    # Read MSA for the orf in question\n",
    "    msa = AlignIO.read(open(aybrah_path+str(orf)+'_aybrah.fa'), \"fasta\")\n",
    "    # Get just the region in question\n",
    "    region_msa = aq.extract_region_msa(msa, left_bound, right_bound, refseq=refseq)\n",
    "    # Filter the msa for very short and empty regions\n",
    "    region_msa = filter_msa(region_msa, cutoff=filter_cutoff)\n",
    "    msa_len = len(region_msa)\n",
    "    if msa_len < 10:\n",
    "        out = np.empty(3)\n",
    "        out[:] = np.NaN\n",
    "        return pd.Series(out)\n",
    "    \n",
    "    # Calculate charge properties\n",
    "    region_mean_fcr = compute_region_fcr(region_msa)\n",
    "    region_fcr_var = compute_region_fcr_var(region_msa)\n",
    "    region_fcr_cov = compute_region_fcr_var(region_msa, cov=True)\n",
    "    \n",
    "    return pd.Series([region_mean_fcr, region_fcr_var, region_fcr_cov])"
   ]
  },
  {
   "cell_type": "code",
   "execution_count": 16,
   "metadata": {},
   "outputs": [
    {
     "data": {
      "text/html": [
       "<div>\n",
       "<style scoped>\n",
       "    .dataframe tbody tr th:only-of-type {\n",
       "        vertical-align: middle;\n",
       "    }\n",
       "\n",
       "    .dataframe tbody tr th {\n",
       "        vertical-align: top;\n",
       "    }\n",
       "\n",
       "    .dataframe thead th {\n",
       "        text-align: right;\n",
       "    }\n",
       "</style>\n",
       "<table border=\"1\" class=\"dataframe\">\n",
       "  <thead>\n",
       "    <tr style=\"text-align: right;\">\n",
       "      <th></th>\n",
       "      <th>orf</th>\n",
       "      <th>gene</th>\n",
       "      <th>seq.len</th>\n",
       "      <th>left.bound</th>\n",
       "      <th>right.bound</th>\n",
       "      <th>region.seq</th>\n",
       "      <th>region.len</th>\n",
       "      <th>charge.asymmetry</th>\n",
       "      <th>frac.charge</th>\n",
       "      <th>kappa1</th>\n",
       "      <th>kappa2</th>\n",
       "      <th>uni_id</th>\n",
       "      <th>orf_label</th>\n",
       "      <th>aybrah.mean.fcr</th>\n",
       "      <th>aybrah.fcr.var</th>\n",
       "      <th>aybrah.fcr.cov</th>\n",
       "    </tr>\n",
       "  </thead>\n",
       "  <tbody>\n",
       "    <tr>\n",
       "      <th>0</th>\n",
       "      <td>YAL011W</td>\n",
       "      <td>SWC3</td>\n",
       "      <td>626</td>\n",
       "      <td>0</td>\n",
       "      <td>54</td>\n",
       "      <td>MPAVLRTRSKESSIEQKPASRTRTRSRRGKRGRDDDDDDDDEESDD...</td>\n",
       "      <td>55</td>\n",
       "      <td>0.015674</td>\n",
       "      <td>0.527273</td>\n",
       "      <td>0.297167</td>\n",
       "      <td>0.616928</td>\n",
       "      <td>P31376</td>\n",
       "      <td>verified</td>\n",
       "      <td>0.347395</td>\n",
       "      <td>0.010558</td>\n",
       "      <td>0.295775</td>\n",
       "    </tr>\n",
       "    <tr>\n",
       "      <th>1</th>\n",
       "      <td>YAL011W</td>\n",
       "      <td>SWC3</td>\n",
       "      <td>626</td>\n",
       "      <td>169</td>\n",
       "      <td>265</td>\n",
       "      <td>RLFILKNDKIEQKWQDEQELKKKEKELKRKNDAEAKRLRMEERKRQ...</td>\n",
       "      <td>97</td>\n",
       "      <td>0.050753</td>\n",
       "      <td>0.536082</td>\n",
       "      <td>0.051716</td>\n",
       "      <td>0.110243</td>\n",
       "      <td>P31376</td>\n",
       "      <td>verified</td>\n",
       "      <td>0.406444</td>\n",
       "      <td>0.019036</td>\n",
       "      <td>0.339458</td>\n",
       "    </tr>\n",
       "    <tr>\n",
       "      <th>2</th>\n",
       "      <td>YAL011W</td>\n",
       "      <td>SWC3</td>\n",
       "      <td>626</td>\n",
       "      <td>361</td>\n",
       "      <td>424</td>\n",
       "      <td>KTAATEPEPKKADDENAEKQQSKEAKTTAESTQVDVKKEEEDVKEK...</td>\n",
       "      <td>64</td>\n",
       "      <td>0.007812</td>\n",
       "      <td>0.500000</td>\n",
       "      <td>0.044964</td>\n",
       "      <td>0.096912</td>\n",
       "      <td>P31376</td>\n",
       "      <td>verified</td>\n",
       "      <td>0.391627</td>\n",
       "      <td>0.016703</td>\n",
       "      <td>0.330008</td>\n",
       "    </tr>\n",
       "    <tr>\n",
       "      <th>3</th>\n",
       "      <td>YAL011W</td>\n",
       "      <td>SWC3</td>\n",
       "      <td>626</td>\n",
       "      <td>470</td>\n",
       "      <td>525</td>\n",
       "      <td>KSVVEFLEDTDEIIISWIVIHNSKEIEKFKTKKIKAKLKADQKLNK...</td>\n",
       "      <td>56</td>\n",
       "      <td>0.000000</td>\n",
       "      <td>0.428571</td>\n",
       "      <td>0.114622</td>\n",
       "      <td>0.300249</td>\n",
       "      <td>P31376</td>\n",
       "      <td>verified</td>\n",
       "      <td>0.461596</td>\n",
       "      <td>0.007704</td>\n",
       "      <td>0.190149</td>\n",
       "    </tr>\n",
       "    <tr>\n",
       "      <th>4</th>\n",
       "      <td>YAL013W</td>\n",
       "      <td>DEP1</td>\n",
       "      <td>406</td>\n",
       "      <td>81</td>\n",
       "      <td>163</td>\n",
       "      <td>TLTESLKRPHEDEKEAIDEAKKMKVPGENEDESKEEEKSQELEEAI...</td>\n",
       "      <td>83</td>\n",
       "      <td>0.141633</td>\n",
       "      <td>0.542169</td>\n",
       "      <td>0.093375</td>\n",
       "      <td>0.239955</td>\n",
       "      <td>P31385</td>\n",
       "      <td>verified</td>\n",
       "      <td>0.499872</td>\n",
       "      <td>0.008329</td>\n",
       "      <td>0.182575</td>\n",
       "    </tr>\n",
       "  </tbody>\n",
       "</table>\n",
       "</div>"
      ],
      "text/plain": [
       "       orf  gene  seq.len  left.bound  right.bound  \\\n",
       "0  YAL011W  SWC3      626           0           54   \n",
       "1  YAL011W  SWC3      626         169          265   \n",
       "2  YAL011W  SWC3      626         361          424   \n",
       "3  YAL011W  SWC3      626         470          525   \n",
       "4  YAL013W  DEP1      406          81          163   \n",
       "\n",
       "                                          region.seq  region.len  \\\n",
       "0  MPAVLRTRSKESSIEQKPASRTRTRSRRGKRGRDDDDDDDDEESDD...          55   \n",
       "1  RLFILKNDKIEQKWQDEQELKKKEKELKRKNDAEAKRLRMEERKRQ...          97   \n",
       "2  KTAATEPEPKKADDENAEKQQSKEAKTTAESTQVDVKKEEEDVKEK...          64   \n",
       "3  KSVVEFLEDTDEIIISWIVIHNSKEIEKFKTKKIKAKLKADQKLNK...          56   \n",
       "4  TLTESLKRPHEDEKEAIDEAKKMKVPGENEDESKEEEKSQELEEAI...          83   \n",
       "\n",
       "   charge.asymmetry  frac.charge    kappa1    kappa2  uni_id orf_label  \\\n",
       "0          0.015674     0.527273  0.297167  0.616928  P31376  verified   \n",
       "1          0.050753     0.536082  0.051716  0.110243  P31376  verified   \n",
       "2          0.007812     0.500000  0.044964  0.096912  P31376  verified   \n",
       "3          0.000000     0.428571  0.114622  0.300249  P31376  verified   \n",
       "4          0.141633     0.542169  0.093375  0.239955  P31385  verified   \n",
       "\n",
       "   aybrah.mean.fcr  aybrah.fcr.var  aybrah.fcr.cov  \n",
       "0         0.347395        0.010558        0.295775  \n",
       "1         0.406444        0.019036        0.339458  \n",
       "2         0.391627        0.016703        0.330008  \n",
       "3         0.461596        0.007704        0.190149  \n",
       "4         0.499872        0.008329        0.182575  "
      ]
     },
     "execution_count": 16,
     "metadata": {},
     "output_type": "execute_result"
    }
   ],
   "source": [
    "newcols = df.apply(get_row_charge_props, axis=1)\n",
    "newcols.columns = ['aybrah.mean.fcr', 'aybrah.fcr.var', 'aybrah.fcr.cov']\n",
    "newdf = df.join(newcols)\n",
    "newdf.head()"
   ]
  },
  {
   "cell_type": "code",
   "execution_count": 18,
   "metadata": {},
   "outputs": [],
   "source": [
    "verified_orfs_with_msa = pd.read_csv('../data/sc_orfs/verified_orfs_with_msa.csv')\n",
    "valid_orfs = verified_orfs_with_msa['systematic_name'].tolist()\n",
    "\n",
    "def extract_random_region_from_proteome(fdir, regionlen, valid_orfs):\n",
    "    msa = None\n",
    "    cnt = 0\n",
    "    while msa is None:\n",
    "        orf_i = random.randrange(len(valid_orfs))\n",
    "        orf = valid_orfs[orf_i]\n",
    "        msa = AlignIO.read(open(fdir+str(orf)+'-aybrah.fa'), \"fasta\")\n",
    "        if len(msa[0].seq) <= regionlen:\n",
    "            msa = None\n",
    "        cnt += 1\n",
    "        if cnt >= 20:\n",
    "            print(regionlen)\n",
    "    starti = random.randrange(len(msa[0].seq) - regionlen)\n",
    "    random_msa = msa[:, starti:(starti + regionlen)]    \n",
    "    return random_msa\n",
    "\n",
    "ranges_dict = {}\n",
    "for index, row in df.iterrows():\n",
    "    orf = row['orf']\n",
    "    msa = AlignIO.read(open(aybrah_path+str(orf)+'_aybrah.fa'), \"fasta\")\n",
    "    if orf not in ranges_dict:\n",
    "        ranges_dict[orf] = []\n",
    "    refseq = row['region.seq']\n",
    "    left_bound = row['left.bound']\n",
    "    right_bound = row['right.bound']\n",
    "    msa_left_bound, msa_right_bound = aq.get_region_range(msa, left_bound, right_bound, refseq=refseq)\n",
    "    ranges_dict[orf].append((msa_left_bound, msa_right_bound))"
   ]
  },
  {
   "cell_type": "code",
   "execution_count": 21,
   "metadata": {},
   "outputs": [],
   "source": [
    "# add dist of randomly draw regions msas to above\n",
    "fcr_random = []\n",
    "\n",
    "for k,v in ranges_dict.items():\n",
    "    for charged_region in v:\n",
    "        regionlen = charged_region[1] - charged_region[0] + 1\n",
    "        \n",
    "        # Draw a random msa and ensure there is an S. cer sequence in it\n",
    "        redraw = True\n",
    "        while redraw:\n",
    "            #random_msa = extract_random_region_from_proteome(fdir, regionlen, valid_orfs)\n",
    "            length = 0\n",
    "            while length < 10:\n",
    "                random_msa = extract_random_region_from_proteome(fdir, regionlen, valid_orfs)\n",
    "                # Filter out empty and very short sequences as we did for the charged regions themselves\n",
    "                random_msa = filter_msa(random_msa, 25)\n",
    "                # Calculate how many sequences are in the resulting alignment and redraw if there are fewer than the cutoff\n",
    "                length = len(random_msa)\n",
    "            for record in random_msa:\n",
    "                if record.id == \"Saccharomyces\":\n",
    "                    redraw=False\n",
    "                    refseq=str(record.seq).replace(\"-\", \"\")\n",
    "        \n",
    "        random_fcr = compute_region_fcr(random_msa)\n",
    "        fcr_random.append(random_fcr)"
   ]
  },
  {
   "cell_type": "code",
   "execution_count": 22,
   "metadata": {},
   "outputs": [
    {
     "data": {
      "image/png": "[encoded data removed]",
      "text/plain": [
       "<Figure size 432x288 with 1 Axes>"
      ]
     },
     "metadata": {
      "needs_background": "light"
     },
     "output_type": "display_data"
    }
   ],
   "source": [
    "random_2sigma = np.mean(fcr_random) + (2*np.sqrt(np.var(fcr_random)))\n",
    "\n",
    "plt.hist(newdf['aybrah.mean.fcr'], bins=25, label = 'Charged\\nregions')\n",
    "plt.hist(fcr_random, bins=25, label='Randomly\\ndrawn regions')\n",
    "plt.vlines(x=np.mean(newdf['aybrah.mean.fcr']), ymin=0, ymax=200, color='blue')\n",
    "plt.vlines(x=random_2sigma, ymin=0, ymax=200, color='chocolate')\n",
    "plt.xlabel(\"FCR (mean across alignment)\")\n",
    "plt.ylabel(\"Count\")\n",
    "plt.ylim((0, 200))\n",
    "plt.legend()\n",
    "plt.show()"
   ]
  },
  {
   "cell_type": "markdown",
   "metadata": {},
   "source": [
    "## D"
   ]
  },
  {
   "cell_type": "code",
   "execution_count": 61,
   "metadata": {},
   "outputs": [],
   "source": [
    "enriched_data_path = \"../data/null-regions-output/\""
   ]
  },
  {
   "cell_type": "code",
   "execution_count": 63,
   "metadata": {},
   "outputs": [],
   "source": [
    "def compute_region_enriched_fraction(msa, target_aas):\n",
    "    \"\"\"\n",
    "    Given an msa, extract the mean fraction of amino acids in a subset (target_aaas)\n",
    "    for each sequences in the msa and return the mean\n",
    "    \"\"\"\n",
    "    fracs = []\n",
    "    for record in msa:\n",
    "        seq = str(record.seq).replace('-',\"\")\n",
    "        fracs.append(fc.get_enriched_fraction(seq, target_aas))\n",
    "    return np.mean(fracs)\n",
    "\n",
    "def read_and_filter_enrichment_data(file):\n",
    "    data = pd.read_csv(file, comment=\"#\")\n",
    "    \n",
    "    # # Filter MSA\n",
    "    wrong_seq = []\n",
    "    for index, row in data.iterrows():\n",
    "        orf = row['orf']\n",
    "        try:\n",
    "            msa = AlignIO.read(open(fdir+str(orf)+'-aybrah.fa'), \"fasta\")\n",
    "        # These are all empty / not in the Aybrah database\n",
    "        except ValueError:\n",
    "            wrong_seq.append(index)\n",
    "            continue       \n",
    "        contains_seq = False\n",
    "        for record in msa:\n",
    "            seq = crutil.remove_gaps(record.seq)\n",
    "            if row['region.seq'] in seq:\n",
    "                contains_seq = True\n",
    "        if not contains_seq:\n",
    "            wrong_seq.append(index)\n",
    "\n",
    "    data.drop(data.index[wrong_seq], inplace=True)\n",
    "    return data\n",
    "\n",
    "def get_row_comp_conservation(row, target_aas, filter_cutoff=25):\n",
    "    orf = row['orf']  \n",
    "    refseq = row['region.seq']\n",
    "    left_bound = row['left.bound']\n",
    "    right_bound = row['right.bound']\n",
    "    # Read MSA for the orf in question\n",
    "    msa = AlignIO.read(open(fdir+str(orf)+'-aybrah.fa'), \"fasta\")\n",
    "    # Get just the region in question\n",
    "    # There are a small number of problematic sequences where the alignment boundaries are incorrect\n",
    "    # This skips these; I still don't understand why they happen\n",
    "    try:\n",
    "        region_msa = aq.extract_region_msa(msa, left_bound, right_bound, refseq=refseq)\n",
    "    except KeyError:\n",
    "        return(np.nan)\n",
    "    # Filter the msa for very short and empty regions\n",
    "    region_msa = filter_msa(region_msa, cutoff=filter_cutoff)\n",
    "\n",
    "    region_enrichment = compute_region_enriched_fraction(region_msa, target_aas)\n",
    "    \n",
    "    return pd.Series(region_enrichment)\n",
    "\n",
    "def get_comp(seq, states):\n",
    "    dcomp = {}\n",
    "    for state in states:\n",
    "        dcomp[state] = 0\n",
    "    for aa in seq:\n",
    "        dcomp[aa] += 1\n",
    "    comp = []\n",
    "    for k,v in dcomp.items():\n",
    "        comp.append(v / len(seq))\n",
    "    return comp\n",
    "\n",
    "def get_proteome_freqs(prot_filepath):\n",
    "    \"\"\"\n",
    "    Given a .fa formattted proteome file (located at prot_filepath), generate a frequency vector of the natural 20 amino acids (in alphabetical order)\n",
    "    \"\"\"\n",
    "    scerprot = []\n",
    "    for record in SeqIO.parse(prot_filepath, \"fasta\"):\n",
    "        scerprot.append(record)\n",
    "    \n",
    "    scercomp = np.zeros(20)\n",
    "    for orf in scerprot:\n",
    "        seq = str(orf.seq).replace('*', '')\n",
    "        scercomp = np.add(scercomp, get_comp(seq, comp.aas))\n",
    "    scercomp = np.divide(scercomp, len(scerprot))\n",
    "\n",
    "    return(dict(zip(comp.aas, scercomp)))\n",
    "\n",
    "def scale_to_unit(value, zer_val, one_val):\n",
    "    \"\"\"\n",
    "    Given a value (float), convert to a scaled value within a given range onto the 0->1 scale.\n",
    "    \"\"\"\n",
    "    span = one_val - zer_val\n",
    "    scaled_value = (value-zer_val) / span\n",
    "    return scaled_value"
   ]
  },
  {
   "cell_type": "code",
   "execution_count": 68,
   "metadata": {},
   "outputs": [],
   "source": [
    "aa_freqs = get_proteome_freqs(\"../data/ref_proteomes/Saccharomyces_cerevisiae.fasta\")"
   ]
  },
  {
   "cell_type": "code",
   "execution_count": 75,
   "metadata": {},
   "outputs": [
    {
     "ename": "KeyboardInterrupt",
     "evalue": "",
     "output_type": "error",
     "traceback": [
      "\u001b[0;31m---------------------------------------------------------------------------\u001b[0m",
      "\u001b[0;31mKeyboardInterrupt\u001b[0m                         Traceback (most recent call last)",
      "\u001b[0;32m<ipython-input-75-5ea43b16475d>\u001b[0m in \u001b[0;36m<module>\u001b[0;34m\u001b[0m\n\u001b[1;32m      7\u001b[0m     \u001b[0mtargets\u001b[0m \u001b[0;34m=\u001b[0m \u001b[0mlist\u001b[0m\u001b[0;34m(\u001b[0m\u001b[0mdata\u001b[0m\u001b[0;34m.\u001b[0m\u001b[0mkeys\u001b[0m\u001b[0;34m(\u001b[0m\u001b[0;34m)\u001b[0m\u001b[0;34m[\u001b[0m\u001b[0;34m-\u001b[0m\u001b[0;36m1\u001b[0m\u001b[0;34m]\u001b[0m\u001b[0;34m[\u001b[0m\u001b[0;34m-\u001b[0m\u001b[0;36m4\u001b[0m\u001b[0;34m:\u001b[0m\u001b[0;34m]\u001b[0m\u001b[0;34m)\u001b[0m\u001b[0;34m\u001b[0m\u001b[0;34m\u001b[0m\u001b[0m\n\u001b[1;32m      8\u001b[0m     \u001b[0;32mtry\u001b[0m\u001b[0;34m:\u001b[0m\u001b[0;34m\u001b[0m\u001b[0;34m\u001b[0m\u001b[0m\n\u001b[0;32m----> 9\u001b[0;31m         \u001b[0mdata\u001b[0m\u001b[0;34m[\u001b[0m\u001b[0;34m\"aybrah.avg.enrichment\"\u001b[0m\u001b[0;34m]\u001b[0m \u001b[0;34m=\u001b[0m \u001b[0mdata\u001b[0m\u001b[0;34m.\u001b[0m\u001b[0mapply\u001b[0m\u001b[0;34m(\u001b[0m\u001b[0mget_row_comp_conservation\u001b[0m\u001b[0;34m,\u001b[0m \u001b[0margs\u001b[0m\u001b[0;34m=\u001b[0m\u001b[0;34m(\u001b[0m\u001b[0mtargets\u001b[0m\u001b[0;34m,\u001b[0m \u001b[0;34m)\u001b[0m\u001b[0;34m,\u001b[0m \u001b[0maxis\u001b[0m\u001b[0;34m=\u001b[0m\u001b[0;36m1\u001b[0m\u001b[0;34m)\u001b[0m\u001b[0;34m\u001b[0m\u001b[0;34m\u001b[0m\u001b[0m\n\u001b[0m\u001b[1;32m     10\u001b[0m     \u001b[0;32mexcept\u001b[0m \u001b[0mKeyError\u001b[0m\u001b[0;34m:\u001b[0m\u001b[0;34m\u001b[0m\u001b[0;34m\u001b[0m\u001b[0m\n\u001b[1;32m     11\u001b[0m         \u001b[0mprint\u001b[0m\u001b[0;34m(\u001b[0m\u001b[0mfile\u001b[0m\u001b[0;34m)\u001b[0m\u001b[0;34m\u001b[0m\u001b[0;34m\u001b[0m\u001b[0m\n",
      "\u001b[0;32m~/opt/anaconda3/lib/python3.8/site-packages/pandas/core/frame.py\u001b[0m in \u001b[0;36mapply\u001b[0;34m(self, func, axis, raw, result_type, args, **kwds)\u001b[0m\n\u001b[1;32m   7546\u001b[0m             \u001b[0mkwds\u001b[0m\u001b[0;34m=\u001b[0m\u001b[0mkwds\u001b[0m\u001b[0;34m,\u001b[0m\u001b[0;34m\u001b[0m\u001b[0;34m\u001b[0m\u001b[0m\n\u001b[1;32m   7547\u001b[0m         )\n\u001b[0;32m-> 7548\u001b[0;31m         \u001b[0;32mreturn\u001b[0m \u001b[0mop\u001b[0m\u001b[0;34m.\u001b[0m\u001b[0mget_result\u001b[0m\u001b[0;34m(\u001b[0m\u001b[0;34m)\u001b[0m\u001b[0;34m\u001b[0m\u001b[0;34m\u001b[0m\u001b[0m\n\u001b[0m\u001b[1;32m   7549\u001b[0m \u001b[0;34m\u001b[0m\u001b[0m\n\u001b[1;32m   7550\u001b[0m     \u001b[0;32mdef\u001b[0m \u001b[0mapplymap\u001b[0m\u001b[0;34m(\u001b[0m\u001b[0mself\u001b[0m\u001b[0;34m,\u001b[0m \u001b[0mfunc\u001b[0m\u001b[0;34m)\u001b[0m \u001b[0;34m->\u001b[0m \u001b[0;34m\"DataFrame\"\u001b[0m\u001b[0;34m:\u001b[0m\u001b[0;34m\u001b[0m\u001b[0;34m\u001b[0m\u001b[0m\n",
      "\u001b[0;32m~/opt/anaconda3/lib/python3.8/site-packages/pandas/core/apply.py\u001b[0m in \u001b[0;36mget_result\u001b[0;34m(self)\u001b[0m\n\u001b[1;32m    178\u001b[0m             \u001b[0;32mreturn\u001b[0m \u001b[0mself\u001b[0m\u001b[0;34m.\u001b[0m\u001b[0mapply_raw\u001b[0m\u001b[0;34m(\u001b[0m\u001b[0;34m)\u001b[0m\u001b[0;34m\u001b[0m\u001b[0;34m\u001b[0m\u001b[0m\n\u001b[1;32m    179\u001b[0m \u001b[0;34m\u001b[0m\u001b[0m\n\u001b[0;32m--> 180\u001b[0;31m         \u001b[0;32mreturn\u001b[0m \u001b[0mself\u001b[0m\u001b[0;34m.\u001b[0m\u001b[0mapply_standard\u001b[0m\u001b[0;34m(\u001b[0m\u001b[0;34m)\u001b[0m\u001b[0;34m\u001b[0m\u001b[0;34m\u001b[0m\u001b[0m\n\u001b[0m\u001b[1;32m    181\u001b[0m \u001b[0;34m\u001b[0m\u001b[0m\n\u001b[1;32m    182\u001b[0m     \u001b[0;32mdef\u001b[0m \u001b[0mapply_empty_result\u001b[0m\u001b[0;34m(\u001b[0m\u001b[0mself\u001b[0m\u001b[0;34m)\u001b[0m\u001b[0;34m:\u001b[0m\u001b[0;34m\u001b[0m\u001b[0;34m\u001b[0m\u001b[0m\n",
      "\u001b[0;32m~/opt/anaconda3/lib/python3.8/site-packages/pandas/core/apply.py\u001b[0m in \u001b[0;36mapply_standard\u001b[0;34m(self)\u001b[0m\n\u001b[1;32m    269\u001b[0m \u001b[0;34m\u001b[0m\u001b[0m\n\u001b[1;32m    270\u001b[0m     \u001b[0;32mdef\u001b[0m \u001b[0mapply_standard\u001b[0m\u001b[0;34m(\u001b[0m\u001b[0mself\u001b[0m\u001b[0;34m)\u001b[0m\u001b[0;34m:\u001b[0m\u001b[0;34m\u001b[0m\u001b[0;34m\u001b[0m\u001b[0m\n\u001b[0;32m--> 271\u001b[0;31m         \u001b[0mresults\u001b[0m\u001b[0;34m,\u001b[0m \u001b[0mres_index\u001b[0m \u001b[0;34m=\u001b[0m \u001b[0mself\u001b[0m\u001b[0;34m.\u001b[0m\u001b[0mapply_series_generator\u001b[0m\u001b[0;34m(\u001b[0m\u001b[0;34m)\u001b[0m\u001b[0;34m\u001b[0m\u001b[0;34m\u001b[0m\u001b[0m\n\u001b[0m\u001b[1;32m    272\u001b[0m \u001b[0;34m\u001b[0m\u001b[0m\n\u001b[1;32m    273\u001b[0m         \u001b[0;31m# wrap results\u001b[0m\u001b[0;34m\u001b[0m\u001b[0;34m\u001b[0m\u001b[0;34m\u001b[0m\u001b[0m\n",
      "\u001b[0;32m~/opt/anaconda3/lib/python3.8/site-packages/pandas/core/apply.py\u001b[0m in \u001b[0;36mapply_series_generator\u001b[0;34m(self)\u001b[0m\n\u001b[1;32m    298\u001b[0m                 \u001b[0;32mfor\u001b[0m \u001b[0mi\u001b[0m\u001b[0;34m,\u001b[0m \u001b[0mv\u001b[0m \u001b[0;32min\u001b[0m \u001b[0menumerate\u001b[0m\u001b[0;34m(\u001b[0m\u001b[0mseries_gen\u001b[0m\u001b[0;34m)\u001b[0m\u001b[0;34m:\u001b[0m\u001b[0;34m\u001b[0m\u001b[0;34m\u001b[0m\u001b[0m\n\u001b[1;32m    299\u001b[0m                     \u001b[0;31m# ignore SettingWithCopy here in case the user mutates\u001b[0m\u001b[0;34m\u001b[0m\u001b[0;34m\u001b[0m\u001b[0;34m\u001b[0m\u001b[0m\n\u001b[0;32m--> 300\u001b[0;31m                     \u001b[0mresults\u001b[0m\u001b[0;34m[\u001b[0m\u001b[0mi\u001b[0m\u001b[0;34m]\u001b[0m \u001b[0;34m=\u001b[0m \u001b[0mself\u001b[0m\u001b[0;34m.\u001b[0m\u001b[0mf\u001b[0m\u001b[0;34m(\u001b[0m\u001b[0mv\u001b[0m\u001b[0;34m)\u001b[0m\u001b[0;34m\u001b[0m\u001b[0;34m\u001b[0m\u001b[0m\n\u001b[0m\u001b[1;32m    301\u001b[0m                     \u001b[0;32mif\u001b[0m \u001b[0misinstance\u001b[0m\u001b[0;34m(\u001b[0m\u001b[0mresults\u001b[0m\u001b[0;34m[\u001b[0m\u001b[0mi\u001b[0m\u001b[0;34m]\u001b[0m\u001b[0;34m,\u001b[0m \u001b[0mABCSeries\u001b[0m\u001b[0;34m)\u001b[0m\u001b[0;34m:\u001b[0m\u001b[0;34m\u001b[0m\u001b[0;34m\u001b[0m\u001b[0m\n\u001b[1;32m    302\u001b[0m                         \u001b[0;31m# If we have a view on v, we need to make a copy because\u001b[0m\u001b[0;34m\u001b[0m\u001b[0;34m\u001b[0m\u001b[0;34m\u001b[0m\u001b[0m\n",
      "\u001b[0;32m~/opt/anaconda3/lib/python3.8/site-packages/pandas/core/apply.py\u001b[0m in \u001b[0;36mf\u001b[0;34m(x)\u001b[0m\n\u001b[1;32m    107\u001b[0m \u001b[0;34m\u001b[0m\u001b[0m\n\u001b[1;32m    108\u001b[0m             \u001b[0;32mdef\u001b[0m \u001b[0mf\u001b[0m\u001b[0;34m(\u001b[0m\u001b[0mx\u001b[0m\u001b[0;34m)\u001b[0m\u001b[0;34m:\u001b[0m\u001b[0;34m\u001b[0m\u001b[0;34m\u001b[0m\u001b[0m\n\u001b[0;32m--> 109\u001b[0;31m                 \u001b[0;32mreturn\u001b[0m \u001b[0mfunc\u001b[0m\u001b[0;34m(\u001b[0m\u001b[0mx\u001b[0m\u001b[0;34m,\u001b[0m \u001b[0;34m*\u001b[0m\u001b[0margs\u001b[0m\u001b[0;34m,\u001b[0m \u001b[0;34m**\u001b[0m\u001b[0mkwds\u001b[0m\u001b[0;34m)\u001b[0m\u001b[0;34m\u001b[0m\u001b[0;34m\u001b[0m\u001b[0m\n\u001b[0m\u001b[1;32m    110\u001b[0m \u001b[0;34m\u001b[0m\u001b[0m\n\u001b[1;32m    111\u001b[0m         \u001b[0;32melse\u001b[0m\u001b[0;34m:\u001b[0m\u001b[0;34m\u001b[0m\u001b[0;34m\u001b[0m\u001b[0m\n",
      "\u001b[0;32m<ipython-input-63-f575770c6e12>\u001b[0m in \u001b[0;36mget_row_comp_conservation\u001b[0;34m(row, target_aas, filter_cutoff)\u001b[0m\n\u001b[1;32m     45\u001b[0m     \u001b[0;31m# This skips these; I still don't understand why they happen\u001b[0m\u001b[0;34m\u001b[0m\u001b[0;34m\u001b[0m\u001b[0;34m\u001b[0m\u001b[0m\n\u001b[1;32m     46\u001b[0m     \u001b[0;32mtry\u001b[0m\u001b[0;34m:\u001b[0m\u001b[0;34m\u001b[0m\u001b[0;34m\u001b[0m\u001b[0m\n\u001b[0;32m---> 47\u001b[0;31m         \u001b[0mregion_msa\u001b[0m \u001b[0;34m=\u001b[0m \u001b[0maq\u001b[0m\u001b[0;34m.\u001b[0m\u001b[0mextract_region_msa\u001b[0m\u001b[0;34m(\u001b[0m\u001b[0mmsa\u001b[0m\u001b[0;34m,\u001b[0m \u001b[0mleft_bound\u001b[0m\u001b[0;34m,\u001b[0m \u001b[0mright_bound\u001b[0m\u001b[0;34m,\u001b[0m \u001b[0mrefseq\u001b[0m\u001b[0;34m=\u001b[0m\u001b[0mrefseq\u001b[0m\u001b[0;34m)\u001b[0m\u001b[0;34m\u001b[0m\u001b[0;34m\u001b[0m\u001b[0m\n\u001b[0m\u001b[1;32m     48\u001b[0m     \u001b[0;32mexcept\u001b[0m \u001b[0mKeyError\u001b[0m\u001b[0;34m:\u001b[0m\u001b[0;34m\u001b[0m\u001b[0;34m\u001b[0m\u001b[0m\n\u001b[1;32m     49\u001b[0m         \u001b[0;32mreturn\u001b[0m\u001b[0;34m(\u001b[0m\u001b[0mnp\u001b[0m\u001b[0;34m.\u001b[0m\u001b[0mnan\u001b[0m\u001b[0;34m)\u001b[0m\u001b[0;34m\u001b[0m\u001b[0;34m\u001b[0m\u001b[0m\n",
      "\u001b[0;32m~/hcrpaper/code/scripts/alignment_quality.py\u001b[0m in \u001b[0;36mextract_region_msa\u001b[0;34m(msa, left_bound, right_bound, refseq)\u001b[0m\n\u001b[1;32m     87\u001b[0m     \u001b[0mregion_msa\u001b[0m \u001b[0;34m-\u001b[0m \u001b[0;34m(\u001b[0m\u001b[0malignIO\u001b[0m \u001b[0mobject\u001b[0m\u001b[0;34m)\u001b[0m \u001b[0mmsa\u001b[0m \u001b[0mof\u001b[0m \u001b[0mtarget\u001b[0m \u001b[0mregion\u001b[0m\u001b[0;34m\u001b[0m\u001b[0;34m\u001b[0m\u001b[0m\n\u001b[1;32m     88\u001b[0m     '''\n\u001b[0;32m---> 89\u001b[0;31m     msa_left_bound, msa_right_bound = get_region_range(msa, left_bound, right_bound,\n\u001b[0m\u001b[1;32m     90\u001b[0m                                         refseq=refseq)\n\u001b[1;32m     91\u001b[0m     \u001b[0mregion_msa\u001b[0m \u001b[0;34m=\u001b[0m \u001b[0mmsa\u001b[0m\u001b[0;34m[\u001b[0m\u001b[0;34m:\u001b[0m\u001b[0;34m,\u001b[0m \u001b[0mmsa_left_bound\u001b[0m\u001b[0;34m:\u001b[0m\u001b[0;34m(\u001b[0m\u001b[0mmsa_right_bound\u001b[0m\u001b[0;34m+\u001b[0m\u001b[0;36m1\u001b[0m\u001b[0;34m)\u001b[0m\u001b[0;34m]\u001b[0m\u001b[0;34m\u001b[0m\u001b[0;34m\u001b[0m\u001b[0m\n",
      "\u001b[0;32m~/hcrpaper/code/scripts/alignment_quality.py\u001b[0m in \u001b[0;36mget_region_range\u001b[0;34m(msa, left_bound, right_bound, refseq)\u001b[0m\n\u001b[1;32m     68\u001b[0m \u001b[0;34m\u001b[0m\u001b[0m\n\u001b[1;32m     69\u001b[0m     \u001b[0;31m# converting sequence boundary to alignment boundary\u001b[0m\u001b[0;34m\u001b[0m\u001b[0;34m\u001b[0m\u001b[0;34m\u001b[0m\u001b[0m\n\u001b[0;32m---> 70\u001b[0;31m     \u001b[0mmapping\u001b[0m \u001b[0;34m=\u001b[0m \u001b[0mcrutil\u001b[0m\u001b[0;34m.\u001b[0m\u001b[0mget_mapping\u001b[0m\u001b[0;34m(\u001b[0m\u001b[0mrefseq\u001b[0m\u001b[0;34m)\u001b[0m\u001b[0;34m\u001b[0m\u001b[0;34m\u001b[0m\u001b[0m\n\u001b[0m\u001b[1;32m     71\u001b[0m     \u001b[0mmsa_left_bound\u001b[0m \u001b[0;34m=\u001b[0m \u001b[0mmapping\u001b[0m\u001b[0;34m[\u001b[0m\u001b[0mleft_bound\u001b[0m\u001b[0;34m]\u001b[0m\u001b[0;34m\u001b[0m\u001b[0;34m\u001b[0m\u001b[0m\n\u001b[1;32m     72\u001b[0m     \u001b[0mmsa_right_bound\u001b[0m \u001b[0;34m=\u001b[0m \u001b[0mmapping\u001b[0m\u001b[0;34m[\u001b[0m\u001b[0mright_bound\u001b[0m\u001b[0;34m]\u001b[0m\u001b[0;34m\u001b[0m\u001b[0;34m\u001b[0m\u001b[0m\n",
      "\u001b[0;32m~/hcrpaper/code/scripts/crutil.py\u001b[0m in \u001b[0;36mget_mapping\u001b[0;34m(seq)\u001b[0m\n\u001b[1;32m     26\u001b[0m     \u001b[0mmappings\u001b[0m \u001b[0;34m=\u001b[0m \u001b[0;34m{\u001b[0m\u001b[0;34m}\u001b[0m\u001b[0;34m\u001b[0m\u001b[0;34m\u001b[0m\u001b[0m\n\u001b[1;32m     27\u001b[0m     \u001b[0mcounter\u001b[0m \u001b[0;34m=\u001b[0m \u001b[0;36m0\u001b[0m\u001b[0;34m\u001b[0m\u001b[0;34m\u001b[0m\u001b[0m\n\u001b[0;32m---> 28\u001b[0;31m     \u001b[0;32mfor\u001b[0m \u001b[0;34m(\u001b[0m\u001b[0mi\u001b[0m\u001b[0;34m,\u001b[0m\u001b[0maa\u001b[0m\u001b[0;34m)\u001b[0m \u001b[0;32min\u001b[0m \u001b[0menumerate\u001b[0m\u001b[0;34m(\u001b[0m\u001b[0mseq\u001b[0m\u001b[0;34m)\u001b[0m\u001b[0;34m:\u001b[0m\u001b[0;34m\u001b[0m\u001b[0;34m\u001b[0m\u001b[0m\n\u001b[0m\u001b[1;32m     29\u001b[0m         \u001b[0;32mif\u001b[0m \u001b[0maa\u001b[0m \u001b[0;34m!=\u001b[0m \u001b[0;34m'-'\u001b[0m\u001b[0;34m:\u001b[0m\u001b[0;34m\u001b[0m\u001b[0;34m\u001b[0m\u001b[0m\n\u001b[1;32m     30\u001b[0m             \u001b[0mmappings\u001b[0m\u001b[0;34m[\u001b[0m\u001b[0mcounter\u001b[0m\u001b[0;34m]\u001b[0m \u001b[0;34m=\u001b[0m \u001b[0mi\u001b[0m\u001b[0;34m\u001b[0m\u001b[0;34m\u001b[0m\u001b[0m\n",
      "\u001b[0;32m~/opt/anaconda3/lib/python3.8/site-packages/Bio/Seq.py\u001b[0m in \u001b[0;36m__getitem__\u001b[0;34m(self, index)\u001b[0m\n\u001b[1;32m    428\u001b[0m         \u001b[0;32mif\u001b[0m \u001b[0misinstance\u001b[0m\u001b[0;34m(\u001b[0m\u001b[0mindex\u001b[0m\u001b[0;34m,\u001b[0m \u001b[0mint\u001b[0m\u001b[0;34m)\u001b[0m\u001b[0;34m:\u001b[0m\u001b[0;34m\u001b[0m\u001b[0;34m\u001b[0m\u001b[0m\n\u001b[1;32m    429\u001b[0m             \u001b[0;31m# Return a single letter as a string\u001b[0m\u001b[0;34m\u001b[0m\u001b[0;34m\u001b[0m\u001b[0;34m\u001b[0m\u001b[0m\n\u001b[0;32m--> 430\u001b[0;31m             \u001b[0;32mreturn\u001b[0m \u001b[0mchr\u001b[0m\u001b[0;34m(\u001b[0m\u001b[0mself\u001b[0m\u001b[0;34m.\u001b[0m\u001b[0m_data\u001b[0m\u001b[0;34m[\u001b[0m\u001b[0mindex\u001b[0m\u001b[0;34m]\u001b[0m\u001b[0;34m)\u001b[0m\u001b[0;34m\u001b[0m\u001b[0;34m\u001b[0m\u001b[0m\n\u001b[0m\u001b[1;32m    431\u001b[0m         \u001b[0;32melse\u001b[0m\u001b[0;34m:\u001b[0m\u001b[0;34m\u001b[0m\u001b[0;34m\u001b[0m\u001b[0m\n\u001b[1;32m    432\u001b[0m             \u001b[0;31m# Return the (sub)sequence as another Seq/MutableSeq object\u001b[0m\u001b[0;34m\u001b[0m\u001b[0;34m\u001b[0m\u001b[0;34m\u001b[0m\u001b[0m\n",
      "\u001b[0;31mKeyboardInterrupt\u001b[0m: "
     ]
    }
   ],
   "source": [
    "files = glob.glob(enriched_data_path+\"*_enriched.csv\")\n",
    "\n",
    "all_drifts = []\n",
    "\n",
    "for file in files:\n",
    "    data = read_and_filter_enrichment_data(file)\n",
    "    targets = list(data.keys()[-1][-4:])\n",
    "    try:\n",
    "        data[\"aybrah.avg.enrichment\"] = data.apply(get_row_comp_conservation, args=(targets, ), axis=1)\n",
    "    except KeyError:\n",
    "        print(file)\n",
    "        continue\n",
    "\n",
    "    proteome_freq = np.sum([aa_freqs[aa] for aa in targets])\n",
    "    enriched_freq = np.nanmean(data[\"fraction.enriched.{}\".format(''.join(targets))])\n",
    "    scaled_drift = scale_to_unit(np.nanmean(data['aybrah.avg.enrichment']), proteome_freq, enriched_freq)\n",
    "    all_drifts.append(1-scaled_drift)"
   ]
  },
  {
   "cell_type": "code",
   "execution_count": 77,
   "metadata": {},
   "outputs": [],
   "source": [
    "to_plot = np.loadtxt(\"../data/null-regions-output/all_mean_drift_values.npy\")"
   ]
  },
  {
   "cell_type": "code",
   "execution_count": 78,
   "metadata": {},
   "outputs": [
    {
     "data": {
      "image/png": "[encoded data removed]",
      "text/plain": [
       "<Figure size 432x288 with 1 Axes>"
      ]
     },
     "metadata": {
      "needs_background": "light"
     },
     "output_type": "display_data"
    }
   ],
   "source": [
    "sns.kdeplot(to_plot)\n",
    "plt.vlines(x=(1-0.7627), ymax=4, ymin=0, color='purple')\n",
    "plt.vlines(np.mean(all_drifts), ymax=4, ymin=0)\n",
    "plt.vlines((np.mean(all_drifts)+np.std(all_drifts)), ymax=4, ymin=0)\n",
    "plt.vlines((np.mean(all_drifts)-np.std(all_drifts)), ymax=4, ymin=0)\n",
    "plt.vlines((np.mean(all_drifts)+2*np.std(all_drifts)), ymax=4, ymin=0)\n",
    "plt.vlines((np.mean(all_drifts)-2*np.std(all_drifts)), ymax=4, ymin=0)\n",
    "plt.ylim(0, 3.5)\n",
    "plt.show()"
   ]
  },
  {
   "cell_type": "code",
   "execution_count": 128,
   "metadata": {},
   "outputs": [
    {
     "data": {
      "image/png": "[encoded data removed]",
      "text/plain": [
       "<Figure size 432x288 with 1 Axes>"
      ]
     },
     "metadata": {
      "needs_background": "light"
     },
     "output_type": "display_data"
    }
   ],
   "source": [
    "plt.figure(figsize=(6,4))\n",
    "sns.kdeplot(to_plot, color='black')\n",
    "#sns.histplot(to_plot, color='white', bins=20)\n",
    "plt.vlines(x=(1-0.7627), ymax=5, ymin=0, color=cscheme[\"cr\"])\n",
    "#plt.vlines(np.mean(to_plot), ymax=5, ymin=0)\n",
    "plt.vlines((np.mean(to_plot)+np.std(to_plot)), ymax=5, ymin=0, color='gray', linestyle=\"dashed\", alpha=0.5)\n",
    "plt.vlines((np.mean(to_plot)-np.std(to_plot)), ymax=5, ymin=0, color='gray', linestyle=\"dashed\", alpha=0.5)\n",
    "plt.vlines((np.mean(to_plot)+2*np.std(to_plot)), ymax=5, ymin=0, color='gray', linestyle=\"dashed\", alpha=0.5)\n",
    "plt.vlines((np.mean(to_plot)-2*np.std(to_plot)), ymax=5, ymin=0, color='gray', linestyle=\"dashed\", alpha=0.5)\n",
    "plt.annotate('ERKD',\n",
    "            xy=(0.24, 2.5), xycoords='data', size=14, weight='bold',\n",
    "            xytext=(0.1, 3.5), textcoords='data',\n",
    "            arrowprops=dict(color=\"black\", arrowstyle='-|>', connectionstyle=\"arc3,rad=0.1\"),\n",
    "            horizontalalignment='center', verticalalignment='top', color=cscheme[\"cr\"], )\n",
    "plt.ylim(0, 4)\n",
    "plt.xlabel(\"Average distance from S. cerevisiae frequency\\nacross MSA\")\n",
    "plt.ylabel(\"Number of 4-aa combinations\")\n",
    "#plt.tight_layout()\n",
    "plt.show()"
   ]
  },
  {
   "cell_type": "markdown",
   "metadata": {},
   "source": [
    "## E"
   ]
  },
  {
   "cell_type": "code",
   "execution_count": 23,
   "metadata": {},
   "outputs": [],
   "source": [
    "ranges_dict = {}\n",
    "for index, row in df.iterrows():\n",
    "    orf = row['orf']\n",
    "    msa = AlignIO.read(open(aybrah_path+str(orf)+'_aybrah.fa'), \"fasta\")\n",
    "    if orf not in ranges_dict:\n",
    "        ranges_dict[orf] = []\n",
    "    refseq = row['region.seq']\n",
    "    left_bound = row['left.bound']\n",
    "    right_bound = row['right.bound']\n",
    "    msa_left_bound, msa_right_bound = aq.get_region_range(msa, left_bound, right_bound, refseq=refseq)\n",
    "    ranges_dict[orf].append((msa_left_bound, msa_right_bound))"
   ]
  },
  {
   "cell_type": "code",
   "execution_count": 24,
   "metadata": {},
   "outputs": [],
   "source": [
    "def get_uncharged_region_ranges(charged_regions, msa_len):\n",
    "    uncharged_regions = []\n",
    "    \n",
    "    if charged_regions[0][0] != 0:\n",
    "        uncharged_regions.append((0, charged_regions[0][0] - 1))\n",
    "        \n",
    "    start = charged_regions[0][1] + 1\n",
    "    for region in charged_regions[1:]:\n",
    "        uncharged_regions.append((start, region[0]-1))\n",
    "        start = region[1] + 1\n",
    "\n",
    "    if charged_regions[-1][1] != (msa_len - 1):\n",
    "        uncharged_regions.append((charged_regions[-1][1], msa_len-1))\n",
    "        \n",
    "    return uncharged_regions"
   ]
  },
  {
   "cell_type": "code",
   "execution_count": 25,
   "metadata": {},
   "outputs": [],
   "source": [
    "def extract_uncharged_region_msa(msa, charged_regions):\n",
    "    uncharged_regions = get_uncharged_region_ranges(charged_regions, len(msa[0]))\n",
    "    for record in msa:\n",
    "        uncharged_seq = ''\n",
    "        for region in uncharged_regions:\n",
    "            uncharged_seq += record.seq[region[0]:(region[1]+1)]\n",
    "        record.seq = uncharged_seq\n",
    "    return msa"
   ]
  },
  {
   "cell_type": "code",
   "execution_count": 53,
   "metadata": {},
   "outputs": [],
   "source": [
    "# Robust versions of functions to handle empty and short strings when looking at the rest of the protein\n",
    "def fraction_charged2(sequence):\n",
    "    \"\"\"\n",
    "    Given a string of single-letter amino acids (sequence), return the fraction of charged residues.\n",
    "    \"\"\"\n",
    "    sequence = sequence.upper()\n",
    "    n = len(sequence)\n",
    "    try:\n",
    "        fc = (sequence.count('E') + sequence.count('K') + sequence.count('R') + sequence.count('D')) / n\n",
    "    except ZeroDivisionError:\n",
    "        return(np.nan)\n",
    "\n",
    "    return(fc)\n",
    "\n",
    "def compute_region_fcr2(msa):\n",
    "    \"\"\"\n",
    "    Given an msa, extract the mean fraction of charged residues (FCR) of all the sequences in the msa\n",
    "    \"\"\"\n",
    "    fcrs = []\n",
    "    for record in msa:\n",
    "        seq = str(record.seq).replace('-',\"\")\n",
    "        if len(seq) == 0:\n",
    "            continue\n",
    "        fcrs.append(fraction_charged2(seq))\n",
    "    return np.nanmean(fcrs)"
   ]
  },
  {
   "cell_type": "code",
   "execution_count": 54,
   "metadata": {},
   "outputs": [],
   "source": [
    "def append_null_fcr(row):\n",
    "    orf = row['orf']\n",
    "    refseq = row['region.seq']\n",
    "    left_bound = row['left.bound']\n",
    "    right_bound = row['right.bound']\n",
    "    charged_regions = ranges_dict[orf]\n",
    "    msa = AlignIO.read(open(aybrah_path+str(orf)+'_aybrah.fa'), \"fasta\")\n",
    "    msa_left_bound, msa_right_bound = aq.get_region_range(msa, left_bound, right_bound, refseq=refseq)\n",
    "    regionlen = msa_right_bound - msa_left_bound\n",
    "    uncharged_region_msa = extract_uncharged_region_msa(msa, charged_regions)\n",
    "    random_region_msa = aq.extract_random_region_from_msa(uncharged_region_msa, regionlen)\n",
    "    \n",
    "    # Here I should filter with the same criteria as the charged regions but I'm not sure how to do that yet\n",
    "    mean_fcr = compute_region_fcr2(random_region_msa)\n",
    "    return mean_fcr"
   ]
  },
  {
   "cell_type": "code",
   "execution_count": 55,
   "metadata": {},
   "outputs": [],
   "source": [
    "newdf['nonregion.aybrah.fcr'] = df.apply(lambda row: append_null_fcr(row), axis=1)"
   ]
  },
  {
   "cell_type": "code",
   "execution_count": 56,
   "metadata": {},
   "outputs": [],
   "source": [
    "def p_to_logodds(p):\n",
    "    o = p / (1-p)\n",
    "    lo = np.log(o)\n",
    "    if np.isinf(lo):\n",
    "        return(np.nan)\n",
    "    else:\n",
    "        return lo\n",
    "\n",
    "region_logodds = [p_to_logodds(i) for i in newdf['aybrah.mean.fcr'].dropna()]\n",
    "rest_logodds = [p_to_logodds(i) for i in newdf['nonregion.aybrah.fcr'].dropna()]"
   ]
  },
  {
   "cell_type": "code",
   "execution_count": 57,
   "metadata": {},
   "outputs": [
    {
     "name": "stdout",
     "output_type": "stream",
     "text": [
      "Standard deviation of log odds:\n",
      "Regions: 0.32974165859039023\n",
      "Rest:    0.46121050204386327\n"
     ]
    }
   ],
   "source": [
    "print('Standard deviation of log odds:')\n",
    "print(\"Regions: {}\".format(np.sqrt(np.nanvar([p_to_logodds(i) for i in newdf['aybrah.mean.fcr']]))))\n",
    "print(\"Rest:    {}\".format(np.sqrt(np.nanvar([p_to_logodds(i) for i in newdf['nonregion.aybrah.fcr']]))))"
   ]
  },
  {
   "cell_type": "code",
   "execution_count": 58,
   "metadata": {},
   "outputs": [
    {
     "data": {
      "image/png": "[encoded data removed]",
      "text/plain": [
       "<Figure size 432x288 with 1 Axes>"
      ]
     },
     "metadata": {
      "needs_background": "light"
     },
     "output_type": "display_data"
    }
   ],
   "source": [
    "plt.hist(region_logodds, bins=24, alpha = 0.5, label = 'Charged regions')\n",
    "plt.hist(rest_logodds, bins=25, alpha = 0.5, color = 'grey', label = 'Rest of the protein')\n",
    "plt.xlabel(\"FCR (mean across alignment) log odds\")\n",
    "plt.ylabel(\"Count\")\n",
    "plt.legend()\n",
    "plt.show()"
   ]
  },
  {
   "cell_type": "code",
   "execution_count": 59,
   "metadata": {},
   "outputs": [
    {
     "data": {
      "text/plain": [
       "BartlettResult(statistic=92.34631946713255, pvalue=7.276120582620625e-22)"
      ]
     },
     "execution_count": 59,
     "metadata": {},
     "output_type": "execute_result"
    }
   ],
   "source": [
    "stats.bartlett(region_logodds, rest_logodds)"
   ]
  },
  {
   "cell_type": "code",
   "execution_count": 60,
   "metadata": {},
   "outputs": [
    {
     "data": {
      "text/plain": [
       "LeveneResult(statistic=35.24159192017224, pvalue=3.515140585118998e-09)"
      ]
     },
     "execution_count": 60,
     "metadata": {},
     "output_type": "execute_result"
    }
   ],
   "source": [
    "stats.levene(region_logodds, rest_logodds, center=\"mean\")"
   ]
  }
 ],
 "metadata": {
  "kernelspec": {
   "display_name": "Python 3",
   "language": "python",
   "name": "python3"
  },
  "language_info": {
   "codemirror_mode": {
    "name": "ipython",
    "version": 3
   },
   "file_extension": ".py",
   "mimetype": "text/x-python",
   "name": "python",
   "nbconvert_exporter": "python",
   "pygments_lexer": "ipython3",
   "version": "3.8.5"
  }
 },
 "nbformat": 4,
 "nbformat_minor": 4
}
