{
 "cells": [
  {
   "cell_type": "markdown",
   "metadata": {},
   "source": [
    "# Figure 2"
   ]
  },
  {
   "cell_type": "code",
   "execution_count": 2,
   "metadata": {},
   "outputs": [],
   "source": [
    "## Basics\n",
    "import numpy as np\n",
    "import pandas as pd\n",
    "import glob\n",
    "import mdtraj as md\n",
    "\n",
    "## Local functions\n",
    "import sys\n",
    "sys.path.append(\"../code/scripts\")\n",
    "import parseaf as paf\n",
    "import composition as comp\n",
    "\n",
    "## Plotting\n",
    "import matplotlib.pyplot as plt\n",
    "import seaborn as sns\n",
    "plt.rcParams.update({'font.size': 14})\n",
    "plt.rcParams['font.family'] = 'sans-serif'\n",
    "plt.rcParams['font.sans-serif'] = \"Arial\"\n",
    "\n",
    "## Colors\n",
    "cscheme = {'pos':'#0177BB', 'neg':'#CB3627', 'dis':'#828282', 'helix':'#009988', 'sheet':'#EE7733', 'cr':'#AA4499',\n",
    "          'null':\"black\"}\n",
    "\n",
    "## Set seed for consistency\n",
    "### In the future when writing code with random remember to use new methods which explicitly create generators\n",
    "seed = 212121"
   ]
  },
  {
   "cell_type": "code",
   "execution_count": 3,
   "metadata": {},
   "outputs": [],
   "source": [
    "# Filepaths\n",
    "#path_to_af_data = \"/Volumes/DATA/alphafold/UP000002311_559292_YEAST/\"\n",
    "path_to_af_data = '/mnt/d/research/drummond-lab/data/UP000002311_559292_YEAST_v2/'"
   ]
  },
  {
   "cell_type": "code",
   "execution_count": 4,
   "metadata": {},
   "outputs": [],
   "source": [
    "import warnings\n",
    "warnings.filterwarnings('ignore')"
   ]
  },
  {
   "cell_type": "markdown",
   "metadata": {},
   "source": [
    "### Local functions"
   ]
  },
  {
   "cell_type": "code",
   "execution_count": 5,
   "metadata": {},
   "outputs": [],
   "source": [
    "def get_ss_freqs(seq, counts = False, sort_output = True, gaps = False):\n",
    "    ss_types = ['C', 'E', 'H']\n",
    "    \n",
    "    all_seq_ss = []\n",
    "    all_seq_freqs = []\n",
    "    \n",
    "    # Parse sequence\n",
    "    seq = list(seq)\n",
    "    seq_ss, seq_counts = np.unique(seq, return_counts=True)\n",
    "    zero_freq_ss = np.setxor1d(ss_types, seq_ss)\n",
    "\n",
    "    seq_ss = np.append(seq_ss, zero_freq_ss)\n",
    "    seq_freqs = np.append(seq_counts, np.zeros(zero_freq_ss.size))\n",
    "    if not counts:\n",
    "        seq_freqs = seq_freqs / len(seq)\n",
    "\n",
    "    if sort_output:\n",
    "        seq_freqs_sorted = seq_freqs[seq_ss.argsort()]\n",
    "        all_seq_freqs.append(seq_freqs_sorted)\n",
    "\n",
    "    else:\n",
    "        all_seq_ss.append(seq_ss)\n",
    "        all_seq_freqs.append(seq_freqs)\n",
    "    \n",
    "    if sort_output:\n",
    "        return(all_seq_freqs)\n",
    "    else:\n",
    "        return(all_seq_ss, all_seq_freqs)\n",
    "    \n",
    "    \n",
    "def subcategorybar(X, vals, labs, width=0.8, colors=None):\n",
    "    n = len(vals)\n",
    "    _X = np.arange(len(X))\n",
    "    if colors:\n",
    "        for i in range(n):\n",
    "            plt.bar(_X - width/2. + i/float(n)*width, vals[i], \n",
    "                    width=width/float(n), align=\"edge\", label=labs[i], color=colors[i])\n",
    "    else:\n",
    "        for i in range(n):\n",
    "            plt.bar(_X - width/2. + i/float(n)*width, vals[i], \n",
    "                    width=width/float(n), align=\"edge\", label=labs[i])\n",
    "    plt.xticks(_X, X)\n",
    "    plt.legend()"
   ]
  },
  {
   "cell_type": "markdown",
   "metadata": {},
   "source": [
    "## A"
   ]
  },
  {
   "cell_type": "code",
   "execution_count": 6,
   "metadata": {},
   "outputs": [],
   "source": [
    "df = pd.read_csv('../data/charged_regions/cr_raw.csv',\n",
    "                comment=\"#\")"
   ]
  },
  {
   "cell_type": "code",
   "execution_count": 7,
   "metadata": {},
   "outputs": [
    {
     "data": {
      "text/plain": [
       "'/mnt/d/research/drummond-lab/data/UP000002311_559292_YEAST_v2/AF-P31385-F1-model_v2.pdb'"
      ]
     },
     "execution_count": 7,
     "metadata": {},
     "output_type": "execute_result"
    }
   ],
   "source": [
    "# testing filepaths; this should return an accessible filepath and real file\n",
    "paf.get_alphafold_fp(df.iloc[4][\"uni_id\"], path_to_af_data, version='2')"
   ]
  },
  {
   "cell_type": "code",
   "execution_count": null,
   "metadata": {},
   "outputs": [
    {
     "name": "stderr",
     "output_type": "stream",
     "text": [
      "/home/rosalindpan/.local/lib/python3.7/site-packages/mdtraj/formats/pdb/pdbfile.py:198: UserWarning: Unlikely unit cell vectors detected in PDB file likely resulting from a dummy CRYST1 record. Discarding unit cell vectors.\n",
      "  'cell vectors.', category=UserWarning)\n"
     ]
    }
   ],
   "source": [
    "# Calculate normalized hydropathy, net charge, and percent disordered for each sequence\n",
    "hits_disordered_frac = []\n",
    "hits_conf = []\n",
    "hits_ss = []\n",
    "\n",
    "for index, row in df.iterrows():\n",
    "    orf = row['orf']\n",
    "    uid = row['uni_id']\n",
    "    seq = row['region.seq']\n",
    "    \n",
    "    # Read alphafold pLDDT scoress for the sequence\n",
    "    af_fp = paf.get_alphafold_fp(uid, path_to_af_data)+'.gz'\n",
    "    try:\n",
    "        pLDDTs = paf.read_bfactor_from_pdb(af_fp)[row['left.bound']:row['right.bound']+1]\n",
    "    except FileNotFoundError:\n",
    "        print(af_fp)\n",
    "        continue\n",
    "    \n",
    "    \n",
    "    #disordered = np.sum([1 for i in pLDDTs if i < 70.])\n",
    "    \n",
    "    # Get confidence scores mask\n",
    "    conf = [True if i > 70. else False for i in pLDDTs]\n",
    "    \n",
    "    # Secondary structure prediction for each region\n",
    "    structure = md.load(af_fp)\n",
    "    ss = md.compute_dssp(structure, simplified=True)\n",
    "    region_ss = ss[0][row['left.bound']:row['right.bound']+1]\n",
    "    hits_ss.append(region_ss)\n",
    "    \n",
    "    # Score each residue as disordered or ordered based on pLDDT value\n",
    "    ### UPDATE\n",
    "    disordered = 0\n",
    "    for r, resid in enumerate(pLDDTs):\n",
    "        if resid < 50.:\n",
    "            disordered += 1\n",
    "        elif region_ss[r] == 'C':\n",
    "            disordered += 1\n",
    "        \n",
    "    # Calculate fraction disorder for the region\n",
    "    hits_disordered_frac.append(disordered / row['region.len'])\n",
    "    hits_conf.append(conf)\n",
    "    \n",
    "# Saving the above data because it is slow to run\n",
    "# np.savetxt(\"../data/af_ss_processed/hits_disordered_frac.txt\", hits_disordered_frac)\n",
    "# np.save(\"../data/af_ss_processed/hits_conf.npy\", hits_conf, allow_pickle=True)\n",
    "# np.save(\"../data/af_ss_processed/hits_ss.npy\", hits_ss, allow_pickle=True)"
   ]
  },
  {
   "cell_type": "code",
   "execution_count": 8,
   "metadata": {},
   "outputs": [],
   "source": [
    "# Compare to random regions of the same length\n",
    "np.random.seed(seed)\n",
    "all_af_predictions = glob.glob(path_to_af_data+'*.pdb.gz')\n",
    "\n",
    "rand_disordered_frac = []\n",
    "rand_conf = []\n",
    "rand_ss = []\n",
    "\n",
    "\n",
    "for index, row in df.iterrows():\n",
    "    # Choose random alphafold output\n",
    "    rfile = np.random.choice(all_af_predictions)\n",
    "    raf = paf.read_bfactor_from_pdb(rfile)\n",
    "    # If the length of the protein is less than the region, redraw\n",
    "    while row['region.len'] > len(raf):\n",
    "        rfile = np.random.choice(all_af_predictions)\n",
    "        raf = paf.read_bfactor_from_pdb(rfile)\n",
    "    \n",
    "    rstart = np.random.choice(np.arange(len(raf) - row['region.len']+1))\n",
    "    rend = rstart+row['region.len']+1\n",
    "    \n",
    "    # Get the sequence of this random region\n",
    "    rseq = paf.read_seq_from_pdb(rfile)[rstart:rend]\n",
    "    if len(rseq) == 0:\n",
    "        continue\n",
    "    rpLDDTs = raf[rstart:rend]\n",
    "    \n",
    "    \n",
    "    # Score each residue as disordered or ordered based on pLDDT value\n",
    "    #disordered = np.sum([1 for i in rpLDDTs if i < 70.])\n",
    "    conf = [True if i > 70. else False for i in rpLDDTs]\n",
    "    \n",
    "\n",
    "    \n",
    "    # Secondary structure prediction for each region\n",
    "    structure = md.load(rfile)\n",
    "    ss = md.compute_dssp(structure, simplified=True)\n",
    "    region_ss = ss[0][rstart:rend]\n",
    "    rand_ss.append(region_ss)\n",
    "    \n",
    "    # Score each residue as disordered or ordered based on pLDDT value\n",
    "    ### UPDATE\n",
    "    disordered = 0\n",
    "    for r, resid in enumerate(rpLDDTs):\n",
    "        if resid < 50.:\n",
    "            disordered += 1\n",
    "        elif region_ss[r] == 'C':\n",
    "            disordered += 1\n",
    "            \n",
    "    # Calculate fraction disorder for the region\n",
    "    rand_disordered_frac.append(disordered / row['region.len'])\n",
    "    rand_conf.append(conf)\n",
    "\n",
    "# Saving the above data because it is slow to run\n",
    "# np.savetxt(\"../data/af_ss_processed/rand_disordered_frac.txt\", rand_disordered_frac)\n",
    "# np.save(\"../data/af_ss_processed/rand_conf.npy\", rand_conf, allow_pickle=True)\n",
    "# np.save(\"../data/af_ss_processed/rand_ss.npy\", rand_ss, allow_pickle=True)"
   ]
  },
  {
   "cell_type": "code",
   "execution_count": 9,
   "metadata": {},
   "outputs": [],
   "source": [
    "# Compare to regions from disprot:\n",
    "yeast_disprot = pd.read_csv(\"../data/misc/search_in_disprot.tsv\", sep = \"\\t\")\n",
    "uniprot_to_sgid = pd.read_table(\"../data/misc/uniprot-acc_to_sgid.txt\", sep = \"\\t\")\n",
    "sgid_to_orf_names = [\"SGID\", \"orf\", \"gene\", \"gene_name\", \"sgd_alias\", \"brief_description\", \"organism\", \"gene_type\"]\n",
    "sgid_to_orf = pd.read_csv(\"../data/misc/all-sgd-orfs-w-sgid-and-systematic.tsv\", sep = \"\\t\", names=sgid_to_orf_names)"
   ]
  },
  {
   "cell_type": "code",
   "execution_count": 10,
   "metadata": {},
   "outputs": [],
   "source": [
    "mapping = pd.merge(uniprot_to_sgid, sgid_to_orf, how=\"left\", on=\"SGID\")\n",
    "mapping = mapping.drop([\"gene_name\", \"sgd_alias\", \"brief_description\", \"organism\", \"gene_type\"], axis=1)\n",
    "yeast_disprot_w_orfs = pd.merge(yeast_disprot, mapping, how='left', on=[\"acc\"])\n",
    "#yeast_disprot_w_orfs.head()"
   ]
  },
  {
   "cell_type": "code",
   "execution_count": 11,
   "metadata": {},
   "outputs": [],
   "source": [
    "idr_disordered_frac = []\n",
    "idr_conf = []\n",
    "idr_ss = []\n",
    "\n",
    "\n",
    "for index, row in yeast_disprot_w_orfs.iterrows():\n",
    "    orf = row['orf']\n",
    "    uid = row['acc']\n",
    "    seq = row['region_sequence']\n",
    "    start = row['start']\n",
    "    end = row['end']\n",
    "\n",
    "    # Pull the alphafold prediction for this region\n",
    "    af_fp = paf.get_alphafold_fp(uid, path_to_af_data)+'.gz'\n",
    "    try:\n",
    "        pLDDTs = paf.read_bfactor_from_pdb(af_fp)[start:end]\n",
    "    except FileNotFoundError:\n",
    "        print(\"File {} not found\".format(af_fp))\n",
    "        continue\n",
    "        \n",
    "    # Check that region matches af prediction\n",
    "    af_seq = paf.read_seq_from_pdb(af_fp)[start-1:end]\n",
    "    if af_seq != seq:\n",
    "        print(\"Sequences don't match for Uniprot ID {} (orf {})\".format(uid,orf))\n",
    "        continue\n",
    "\n",
    "    # Binarize confidence scores\n",
    "    conf = [True if i > 70. else False for i in pLDDTs]\n",
    "    \n",
    "    # Secondary structure prediction for each region\n",
    "    structure = md.load(af_fp)\n",
    "    ss = md.compute_dssp(structure, simplified=True)\n",
    "    region_ss = ss[0][start:end]\n",
    "    idr_ss.append(region_ss)\n",
    "    \n",
    "    # Score each residue as disordered or ordered based on pLDDT value\n",
    "    ### UPDATE\n",
    "    disordered = 0\n",
    "    for r, resid in enumerate(pLDDTs):\n",
    "        if resid < 50.:\n",
    "            disordered += 1\n",
    "        elif region_ss[r] == 'C':\n",
    "            disordered += 1\n",
    "    \n",
    "    # Calculate fraction disorder for the region\n",
    "    idr_disordered_frac.append(disordered / len(seq))\n",
    "    idr_conf.append(conf)\n",
    "\n",
    "# Saving the above data because it is slow to run\n",
    "# np.savetxt(\"../data/af_ss_processed/idr_disordered_frac.txt\", idr_disordered_frac)\n",
    "# np.save(\"../data/af_ss_processed/idr_conf.npy\", idr_conf, allow_pickle=True)\n",
    "# np.save(\"../data/af_ss_processed/idr_ss.npy\", idr_ss, allow_pickle=True)"
   ]
  },
  {
   "cell_type": "code",
   "execution_count": 8,
   "metadata": {},
   "outputs": [],
   "source": [
    "# Load data\n",
    "hits_disordered_frac = np.loadtxt(\"../data/af_ss_processed/hits_disordered_frac.txt\")\n",
    "rand_disordered_frac = np.loadtxt(\"../data/af_ss_processed/rand_disordered_frac.txt\")\n",
    "idr_disordered_frac = np.loadtxt(\"../data/af_ss_processed/idr_disordered_frac.txt\")\n",
    "\n",
    "hits_conf = np.load(\"../data/af_ss_processed/hits_conf.npy\", allow_pickle=True)\n",
    "rand_conf = np.load(\"../data/af_ss_processed/rand_conf.npy\", allow_pickle=True)\n",
    "idr_conf = np.load(\"../data/af_ss_processed/idr_conf.npy\", allow_pickle=True)\n",
    "\n",
    "hits_ss = np.load(\"../data/af_ss_processed/hits_ss.npy\", allow_pickle=True)\n",
    "rand_ss = np.load(\"../data/af_ss_processed/rand_ss.npy\", allow_pickle=True)\n",
    "idr_ss = np.load(\"../data/af_ss_processed/idr_ss.npy\", allow_pickle=True)"
   ]
  },
  {
   "cell_type": "code",
   "execution_count": 10,
   "metadata": {},
   "outputs": [],
   "source": [
    "from sklearn.neighbors import KernelDensity"
   ]
  },
  {
   "cell_type": "code",
   "execution_count": 40,
   "metadata": {},
   "outputs": [
    {
     "data": {
      "image/png": "[encoded data removed]",
      "text/plain": [
       "<Figure size 396x291.6 with 1 Axes>"
      ]
     },
     "metadata": {
      "needs_background": "light"
     },
     "output_type": "display_data"
    }
   ],
   "source": [
    "fig, ax = plt.subplots(figsize=(5.5,4.05))\n",
    "\n",
    "X_plot = np.linspace(0, 1, 1000).reshape(-1, 1)\n",
    "kde = KernelDensity(kernel=\"tophat\", bandwidth=0.07309).fit(idr_disordered_frac.reshape(-1, 1))\n",
    "dens = kde.score_samples(X_plot)\n",
    "ax.plot(X_plot, np.exp(dens), label='DisProt', color=cscheme['dis'], linewidth=1)\n",
    "\n",
    "kde = KernelDensity(kernel=\"tophat\", bandwidth=0.04767).fit(rand_disordered_frac.reshape(-1, 1))\n",
    "dens = kde.score_samples(X_plot)\n",
    "ax.plot(X_plot, np.exp(dens), label='Random', color=cscheme['null'], linewidth=1)\n",
    "\n",
    "kde = KernelDensity(kernel=\"tophat\", bandwidth=0.07546).fit(hits_disordered_frac.reshape(-1, 1))\n",
    "dens = kde.score_samples(X_plot)\n",
    "ax.plot(X_plot, np.exp(dens), label='Highly charged', color=cscheme['cr'], linewidth=1)\n",
    "\n",
    "plt.xlabel('Fraction of disordered residues in region')\n",
    "plt.ylabel('Density')\n",
    "plt.legend(bbox_to_anchor=(1.05, 1.2), ncol=3, columnspacing=1, frameon=False, handlelength=1.5)\n",
    "plt.tight_layout()\n",
    "plt.savefig('./plots/Figure2A.png', dpi=300)\n",
    "plt.show()"
   ]
  },
  {
   "cell_type": "code",
   "execution_count": 9,
   "metadata": {},
   "outputs": [],
   "source": [
    "#fig, ax = plt.subplots(figsize=(6,4))\n",
    "#sns.kdeplot(idr_disordered_frac, label='DisProt', color=cscheme['dis'], linewidth=2)\n",
    "#sns.kdeplot(rand_disordered_frac, label='Random', color=cscheme['null'], linewidth=2)\n",
    "#sns.kdeplot(hits_disordered_frac, label='Highly charged', color=cscheme['cr'], linewidth=2)\n",
    "#plt.xlabel('Fraction of disordered residues in region')\n",
    "#plt.ylabel('Density')\n",
    "#plt.legend(bbox_to_anchor=(0.5, 1.2), ncol=3, frameon=False)\n",
    "#plt.savefig('./plots/Figure3.2A.png', dpi=300, bbox_inches='tight')\n",
    "#plt.show()"
   ]
  },
  {
   "cell_type": "markdown",
   "metadata": {},
   "source": [
    "## B"
   ]
  },
  {
   "cell_type": "code",
   "execution_count": 22,
   "metadata": {},
   "outputs": [],
   "source": [
    "data_dict = {\"DisProt\\nregions\":None, \"Random\\nregions\":None, \"Highly charged\\nregions\":None}\n",
    "labs = [\"DisProt\\nregions\", \"Random\\nregions\", \"Highly charged\\nregions\"]\n",
    "datums = [idr_ss, rand_ss, hits_ss]\n",
    "confs = [idr_conf, rand_conf, hits_conf]\n",
    "\n",
    "for i in range(3):\n",
    "    out = {\"Helix\":0, \"Sheet\":0, \"Disordered\":0}\n",
    "    for s, seq in enumerate(datums[i]):\n",
    "        for aa in seq[confs[i][s]]:\n",
    "            if aa == \"C\":\n",
    "                out[\"Disordered\"]+=1\n",
    "            elif aa == \"H\":\n",
    "                out[\"Helix\"]+=1\n",
    "            elif aa == \"E\":\n",
    "                out[\"Sheet\"]+=1\n",
    "            else:\n",
    "                pass\n",
    "        diso = len(confs[i][s]) - len(seq[confs[i][s]])\n",
    "        assert diso >= 0\n",
    "        out[\"Disordered\"] += diso\n",
    "    data_dict[labs[i]] = out\n",
    "\n",
    "\n",
    "allssdf = pd.DataFrame(data_dict)\n",
    "allssdf.reset_index(inplace=True)\n",
    "allssdf.rename(columns={'index':\"ss_type\"}, inplace=True)\n",
    "allssdf = allssdf.melt(id_vars='ss_type', var_name=\"prot_type\", value_name='n_aas')"
   ]
  },
  {
   "cell_type": "code",
   "execution_count": 23,
   "metadata": {},
   "outputs": [],
   "source": [
    "allssdf = pd.DataFrame(data_dict)\n",
    "allssdf.reset_index(inplace=True)\n",
    "allssdf.rename(columns={'index':\"ss_type\"}, inplace=True)\n",
    "allssdf = allssdf.melt(id_vars='ss_type', var_name=\"prot_type\", value_name='n_aas')"
   ]
  },
  {
   "cell_type": "code",
   "execution_count": 24,
   "metadata": {},
   "outputs": [
    {
     "data": {
      "text/html": [
       "<div>\n",
       "<style scoped>\n",
       "    .dataframe tbody tr th:only-of-type {\n",
       "        vertical-align: middle;\n",
       "    }\n",
       "\n",
       "    .dataframe tbody tr th {\n",
       "        vertical-align: top;\n",
       "    }\n",
       "\n",
       "    .dataframe thead th {\n",
       "        text-align: right;\n",
       "    }\n",
       "</style>\n",
       "<table border=\"1\" class=\"dataframe\">\n",
       "  <thead>\n",
       "    <tr style=\"text-align: right;\">\n",
       "      <th></th>\n",
       "      <th>ss_type</th>\n",
       "      <th>prot_type</th>\n",
       "      <th>n_aas</th>\n",
       "    </tr>\n",
       "  </thead>\n",
       "  <tbody>\n",
       "    <tr>\n",
       "      <th>0</th>\n",
       "      <td>Helix</td>\n",
       "      <td>DisProt\\nregions</td>\n",
       "      <td>6457</td>\n",
       "    </tr>\n",
       "    <tr>\n",
       "      <th>1</th>\n",
       "      <td>Sheet</td>\n",
       "      <td>DisProt\\nregions</td>\n",
       "      <td>1618</td>\n",
       "    </tr>\n",
       "    <tr>\n",
       "      <th>2</th>\n",
       "      <td>Disordered</td>\n",
       "      <td>DisProt\\nregions</td>\n",
       "      <td>35240</td>\n",
       "    </tr>\n",
       "    <tr>\n",
       "      <th>3</th>\n",
       "      <td>Helix</td>\n",
       "      <td>Random\\nregions</td>\n",
       "      <td>24261</td>\n",
       "    </tr>\n",
       "    <tr>\n",
       "      <th>4</th>\n",
       "      <td>Sheet</td>\n",
       "      <td>Random\\nregions</td>\n",
       "      <td>7584</td>\n",
       "    </tr>\n",
       "    <tr>\n",
       "      <th>5</th>\n",
       "      <td>Disordered</td>\n",
       "      <td>Random\\nregions</td>\n",
       "      <td>32884</td>\n",
       "    </tr>\n",
       "    <tr>\n",
       "      <th>6</th>\n",
       "      <td>Helix</td>\n",
       "      <td>Highly charged\\nregions</td>\n",
       "      <td>22709</td>\n",
       "    </tr>\n",
       "    <tr>\n",
       "      <th>7</th>\n",
       "      <td>Sheet</td>\n",
       "      <td>Highly charged\\nregions</td>\n",
       "      <td>1151</td>\n",
       "    </tr>\n",
       "    <tr>\n",
       "      <th>8</th>\n",
       "      <td>Disordered</td>\n",
       "      <td>Highly charged\\nregions</td>\n",
       "      <td>38910</td>\n",
       "    </tr>\n",
       "  </tbody>\n",
       "</table>\n",
       "</div>"
      ],
      "text/plain": [
       "      ss_type                prot_type  n_aas\n",
       "0       Helix         DisProt\\nregions   6457\n",
       "1       Sheet         DisProt\\nregions   1618\n",
       "2  Disordered         DisProt\\nregions  35240\n",
       "3       Helix          Random\\nregions  24261\n",
       "4       Sheet          Random\\nregions   7584\n",
       "5  Disordered          Random\\nregions  32884\n",
       "6       Helix  Highly charged\\nregions  22709\n",
       "7       Sheet  Highly charged\\nregions   1151\n",
       "8  Disordered  Highly charged\\nregions  38910"
      ]
     },
     "execution_count": 24,
     "metadata": {},
     "output_type": "execute_result"
    }
   ],
   "source": [
    "allssdf"
   ]
  },
  {
   "cell_type": "code",
   "execution_count": 48,
   "metadata": {},
   "outputs": [
    {
     "data": {
      "image/png": "[encoded data removed]",
      "text/plain": [
       "<Figure size 396x288 with 1 Axes>"
      ]
     },
     "metadata": {
      "needs_background": "light"
     },
     "output_type": "display_data"
    }
   ],
   "source": [
    "plt.figure(figsize=(5.5,4))\n",
    "sns.barplot(data=allssdf, x=\"prot_type\", y=\"n_aas\", hue='ss_type',\n",
    "            palette=[cscheme['helix'], cscheme['sheet'], cscheme['dis']],\n",
    "            edgecolor=\"white\")\n",
    "plt.xlabel(None)\n",
    "plt.ylabel(\"Number of residues\")\n",
    "plt.legend(title=None, ncol=3, bbox_to_anchor=(1.05, 1.2), frameon=False,\n",
    "           columnspacing=1.5)\n",
    "plt.ylim(0,45000)\n",
    "plt.tight_layout()\n",
    "plt.savefig('./plots/Figure2B.png', dpi=300)\n",
    "plt.show()"
   ]
  },
  {
   "cell_type": "markdown",
   "metadata": {},
   "source": [
    "## C"
   ]
  },
  {
   "cell_type": "code",
   "execution_count": 6,
   "metadata": {},
   "outputs": [],
   "source": [
    "import chargepatterns as cp"
   ]
  },
  {
   "cell_type": "code",
   "execution_count": 7,
   "metadata": {},
   "outputs": [],
   "source": [
    "sv_keys = ['sv' + str(x) for x in np.arange(1, 31)]\n",
    "sv_seqs = [\"EKEKEKEKEKEKEKEKEKEKEKEKEKEKEKEKEKEKEKEKEKEKEKEKEK\",\n",
    "\"EEEKKKEEEKKKEEEKKKEEEKKKEEEKKKEEEKKKEEEKKKEEEKKKEK\",\n",
    "\"KEKKKEKKEEKKEEKEKEKEKEEKKKEEKEKEKEKKKEEKEKEEKKEEEE\",\n",
    "\"KEKEKKEEKEKKEEEKKEKEKEKKKEEKKKEEKEEKKEEKKKEEKEEEKE\",\n",
    "\"KEKEEKEKKKEEEEKEKKKKEEKEKEKEKEEKKEEKKKKEEKEEKEKEKE\",\n",
    "\"EEEKKEKKEEKEEKKEKKEKEEEKKKEKEEKKEEEKKKEKEEEEKKKKEK\",\n",
    "\"EEEEKKKKEEEEKKKKEEEEKKKKEEEEKKKKEEEEKKKKEEEEKKKKEK\",\n",
    "\"KKKKEEEEKKKKEEEEKKKKEEEEKKKKEEEEKKKKEEEEKKKKEEEEKE\",\n",
    "\"EEKKEEEKEKEKEEEEEKKEKKEKKEKKKEEKEKEKKKEKKKKEKEEEKE\",\n",
    "\"EKKKKKKEEKKKEEEEEKKKEEEKKKEKKEEKEKEEKEKKEKKEEKEEEE\",\n",
    "\"EKEKKKKKEEEKKEKEEEEKEEEEKKKKKEKEEEKEEKKEEKEKKKEEKK\",\n",
    "\"EKKEEEEEEKEKKEEEEKEKEKKEKEEKEKKEKKKEKKEEEKEKKKKEKK\",\n",
    "\"KEKKKEKEKKEKKKEEEKKKEEEKEKKKEEKKEKKEKKEEEEEEEKEEKE\",\n",
    "\"EKKEKEEKEEEEKKKKKEEKEKKEKKKKEKKKKKEEEEEEKEEKEKEKEE\",\n",
    "\"KKEKKEKKKEKKEKKEEEKEKEKKEKKKKEKEKKEEEEEEEEKEEKKEEE\",\n",
    "\"EKEKEEKKKEEKKKKEKKEKEEKKEKEKEKKEEEEEEEEEKEKKEKKKKE\",\n",
    "\"EKEKKKKKKEKEKKKKEKEKKEKKEKEEEKEEKEKEKKEEKKEEEEEEEE\",\n",
    "\"KEEKKEEEEEEEKEEKKKKKEKKKEKKEEEKKKEEKKKEEEEEEKKKKEK\",\n",
    "\"EEEEEKKKKKEEEEEKKKKKEEEEEKKKKKEEEEEKKKKKEEEEEKKKKK\",\n",
    "\"EEKEEEEEEKEEEKEEKKEEEKEKKEKKEKEEKKEKKKKKKKKKKKKEEE\",\n",
    "\"EEEEEEEEEKEKKKKKEKEEKKKKKKEKKEKKKKEKKEEEEEEKEEEKKK\",\n",
    "\"KEEEEKEEKEEKKKKEKEEKEKKKKKKKKKKKKEKKEEEEEEEEKEKEEE\",\n",
    "\"EEEEEKEEEEEEEEEEEKEEKEKKKKKKEKKKKKKKEKEKKKKEKKEEKK\",\n",
    "\"EEEEKEEEEEKEEEEEEEEEEEEKKKEEKKKKKEKKKKKKKEKKKKKKKK\",\n",
    "\"EEEEEEEEEEEKEEEEKEEKEEKEKKKKKKKKKKKKKKKKKKEEKKEEKE\",\n",
    "\"KEEEEEEEKEEKEEEEEEEEEKEEEEKEEKKKKKKKKKKKKKKKKKKKKE\",\n",
    "\"KKEKKKEKKEEEEEEEEEEEEEEEEEEEEKEEKKKKKKKKKKKKKKKEKK\",\n",
    "\"EKKKKKKKKKKKKKKKKKKKKKEEEEEEEEEEEEEEEEEEKKEEEEEKEK\",\n",
    "\"KEEEEKEEEEEEEEEEEEEEEEEEEEEKKKKKKKKKKKKKKKKKKKKKKK\",\n",
    "\"EEEEEEEEEEEEEEEEEEEEEEEEEKKKKKKKKKKKKKKKKKKKKKKKKK\"]\n",
    "svs = dict(zip(sv_keys, sv_seqs))"
   ]
  },
  {
   "cell_type": "code",
   "execution_count": 8,
   "metadata": {},
   "outputs": [],
   "source": [
    "sv_kappas = [cp.kappa(x) for x in sv_seqs]\n",
    "sv_helix_data = np.genfromtxt(\"../data/agadir/2021-02-04_sv-series_pH-7.txt\", skip_header=11)[:, 1::2]\n",
    "sv_helix_probs = sv_helix_data[:,-1]"
   ]
  },
  {
   "cell_type": "code",
   "execution_count": 10,
   "metadata": {},
   "outputs": [],
   "source": [
    "df = pd.DataFrame(columns=['key', 'seq', 'kappa', 'p_helix'])\n",
    "for i in range(len(sv_seqs)):\n",
    "    df = df.append({'key': sv_keys[i],\n",
    "                    'seq': sv_seqs[i],\n",
    "                    'kappa': sv_kappas[i],\n",
    "                    'p_helix': sv_helix_probs[i]},\n",
    "                   ignore_index=True)"
   ]
  },
  {
   "cell_type": "code",
   "execution_count": 138,
   "metadata": {},
   "outputs": [
    {
     "data": {
      "image/png": "[encoded data removed]",
      "text/plain": [
       "<Figure size 216x280.8 with 1 Axes>"
      ]
     },
     "metadata": {
      "needs_background": "light"
     },
     "output_type": "display_data"
    }
   ],
   "source": [
    "plt.figure(figsize=(3, 3.9))\n",
    "plt.scatter(sv_kappas, sv_helix_probs, color='black', s=20)\n",
    "plt.xlabel(\"Degree of charge mixing, $\\kappa$\")\n",
    "plt.ylabel(\"p(helix) (from Agadir)\")\n",
    "plt.tight_layout()\n",
    "plt.savefig('./plots/Figure2C.png', dpi=300)\n",
    "plt.show()"
   ]
  },
  {
   "cell_type": "code",
   "execution_count": 122,
   "metadata": {},
   "outputs": [],
   "source": [
    "tops_df = pd.read_csv(\"../data/top-structured-and-unstructured/2021-11-04_highly-structured_scored.csv\")\n",
    "tops_df = tops_df[tops_df[\"gene\"] != \"NPA3\"] # I mislabeled this protein because the indexes in PDB were different than SGD"
   ]
  },
  {
   "cell_type": "code",
   "execution_count": 123,
   "metadata": {},
   "outputs": [],
   "source": [
    "prot_counts = tops_df[[\"orf\",\"structure.in.pdb\"]]\n",
    "prot_counts.drop_duplicates(inplace=True)\n",
    "prot_counts = prot_counts['structure.in.pdb'].value_counts()\n",
    "prot_freqs = prot_counts/np.sum(prot_counts)"
   ]
  },
  {
   "cell_type": "code",
   "execution_count": 130,
   "metadata": {},
   "outputs": [
    {
     "data": {
      "image/png": "[encoded data removed]",
      "text/plain": [
       "<Figure size 57.6x237.6 with 1 Axes>"
      ]
     },
     "metadata": {
      "needs_background": "light"
     },
     "output_type": "display_data"
    }
   ],
   "source": [
    "plt.figure(figsize=(0.8,3.3))\n",
    "plt.bar(\" \",prot_freqs[\"y\"], label = \"yes\", color=cscheme['null'])\n",
    "plt.bar(\" \",prot_freqs[\"n\"], bottom=prot_freqs[\"y\"], label = \"no\", color=\"#D9D7CF\")\n",
    "plt.legend(bbox_to_anchor=(1.5, -0.01), title=\"In PDB\", frameon=False)\n",
    "plt.ylabel(\"Fraction of proteins\")\n",
    "plt.tick_params(bottom=False)\n",
    "#plt.tight_layout()\n",
    "plt.savefig('./plots/Figure2D-left.png', dpi=300, bbox_inches='tight')\n",
    "plt.show()"
   ]
  },
  {
   "cell_type": "code",
   "execution_count": 126,
   "metadata": {},
   "outputs": [],
   "source": [
    "y_prots = tops_df[[\"orf\", \"left.bound\", \"structure.in.pdb\", \"region.in.pdb\", \"helix\"]]\n",
    "y_prots = y_prots[y_prots[\"structure.in.pdb\"] == 'y']"
   ]
  },
  {
   "cell_type": "code",
   "execution_count": 127,
   "metadata": {},
   "outputs": [],
   "source": [
    "def make_region_label(row):\n",
    "    if row[\"region.in.pdb\"] == \"n\":\n",
    "        return(\"Region absent\")\n",
    "    else:\n",
    "        if row[\"helix\"] == \"y\":\n",
    "            return(\"Resolved helix\")\n",
    "        elif row[\"helix\"] == \"partial\":\n",
    "            return(\"Resolved helix\")\n",
    "        else:\n",
    "            return(\"Resolved other\")\n",
    "\n",
    "y_prots[\"label\"] = y_prots.apply(make_region_label, axis=1)\n",
    "region_label_counts = y_prots[\"label\"].value_counts()\n",
    "region_label_freqs = region_label_counts / np.sum(region_label_counts)"
   ]
  },
  {
   "cell_type": "code",
   "execution_count": 128,
   "metadata": {},
   "outputs": [
    {
     "data": {
      "text/plain": [
       "Resolved helix    0.645161\n",
       "Region absent     0.306452\n",
       "Resolved other    0.048387\n",
       "Name: label, dtype: float64"
      ]
     },
     "execution_count": 128,
     "metadata": {},
     "output_type": "execute_result"
    }
   ],
   "source": [
    "region_label_freqs"
   ]
  },
  {
   "cell_type": "code",
   "execution_count": 134,
   "metadata": {},
   "outputs": [
    {
     "data": {
      "image/png": "[encoded data removed]",
      "text/plain": [
       "<Figure size 57.6x237.6 with 1 Axes>"
      ]
     },
     "metadata": {
      "needs_background": "light"
     },
     "output_type": "display_data"
    }
   ],
   "source": [
    "fig, ax = plt.subplots(figsize=(0.8,3.3))\n",
    "ax.bar(\" \",region_label_freqs[\"Resolved other\"], label = \"Resolved other\", color=cscheme[\"sheet\"])\n",
    "ax.bar(\" \",region_label_freqs[\"Resolved helix\"], bottom=region_label_freqs[\"Resolved other\"],\n",
    "        label = \"Resolved helix\", color=cscheme[\"helix\"])\n",
    "ax.bar(\" \",region_label_freqs[\"Region absent\"], bottom=region_label_freqs[\"Resolved helix\"],\n",
    "        label = \"Region absent\", color=\"#D9D7CF\")\n",
    "ax.yaxis.set_label_position(\"right\")\n",
    "ax.yaxis.tick_right()\n",
    "plt.legend(bbox_to_anchor=(2.4, -0.01), frameon=False)\n",
    "plt.ylabel(\"Fraction of regions\", rotation=270, labelpad=20)\n",
    "plt.tick_params(bottom=False)\n",
    "plt.savefig('./plots/Figure2D-right.png', dpi=300, bbox_inches = \"tight\")\n",
    "plt.show()"
   ]
  },
  {
   "cell_type": "markdown",
   "metadata": {},
   "source": [
    "## E"
   ]
  },
  {
   "cell_type": "code",
   "execution_count": 53,
   "metadata": {},
   "outputs": [],
   "source": [
    "path_to_af_data = '/mnt/d/research/drummond-lab/data/UP000002311_559292_YEAST_v2/'"
   ]
  },
  {
   "cell_type": "code",
   "execution_count": 54,
   "metadata": {},
   "outputs": [
    {
     "name": "stdout",
     "output_type": "stream",
     "text": [
      "/mnt/d/research/drummond-lab/data/UP000002311_559292_YEAST_v2/AF-P53288-F1-model_v2.pdb.gz\n",
      "/mnt/d/research/drummond-lab/data/UP000002311_559292_YEAST_v2/AF-P38811-F1-model_v2.pdb.gz\n",
      "/mnt/d/research/drummond-lab/data/UP000002311_559292_YEAST_v2/AF-P38811-F1-model_v2.pdb.gz\n",
      "/mnt/d/research/drummond-lab/data/UP000002311_559292_YEAST_v2/AF-P36022-F1-model_v2.pdb.gz\n",
      "/mnt/d/research/drummond-lab/data/UP000002311_559292_YEAST_v2/AF-Q12019-F1-model_v2.pdb.gz\n",
      "/mnt/d/research/drummond-lab/data/UP000002311_559292_YEAST_v2/AF-Q12019-F1-model_v2.pdb.gz\n",
      "/mnt/d/research/drummond-lab/data/UP000002311_559292_YEAST_v2/AF-Q12019-F1-model_v2.pdb.gz\n",
      "/mnt/d/research/drummond-lab/data/UP000002311_559292_YEAST_v2/AF-Q12019-F1-model_v2.pdb.gz\n",
      "/mnt/d/research/drummond-lab/data/UP000002311_559292_YEAST_v2/AF-Q6B0X1-F1-model_v2.pdb.gz\n",
      "/mnt/d/research/drummond-lab/data/UP000002311_559292_YEAST_v2/AF-Q08428-F1-model_v2.pdb.gz\n",
      "/mnt/d/research/drummond-lab/data/UP000002311_559292_YEAST_v2/AF-Q12444-F1-model_v2.pdb.gz\n"
     ]
    }
   ],
   "source": [
    "# Calculate normalized hydropathy, net charge, and percent disordered for each sequence\n",
    "hits_norm_hydrop = []\n",
    "hits_norm_nc = []\n",
    "hits_disordered = []\n",
    "\n",
    "for index, row in df.iterrows():\n",
    "    orf = row['orf']\n",
    "    uid = row['uni_id']\n",
    "    seq = row['region.seq']\n",
    "    \n",
    "    # Read alphafold pLDDT scoress for the sequence\n",
    "    af_fp = paf.get_alphafold_fp(uid, path_to_af_data, version='2')+'.gz'\n",
    "    try:\n",
    "        pLDDTs = paf.read_bfactor_from_pdb(af_fp)[row['left.bound']:row['right.bound']]\n",
    "    except FileNotFoundError:\n",
    "        print(af_fp)\n",
    "        continue\n",
    "    \n",
    "    # Calculate region hydropathy according to the normalized kyte-doolittle scale\n",
    "    #hits_norm_hydrop.append(paf.calculate_hydropathy(seq, scale=\"kd\"))\n",
    "    hits_norm_hydrop.append(comp.calculate_hydropathy(seq, scale=\"kd_norm\"))\n",
    "    \n",
    "    # Calculate normalized net charge\n",
    "    nc = np.abs((seq.count('R') + seq.count('K') - seq.count('E') + seq.count('D'))) / row['region.len']\n",
    "    hits_norm_nc.append(nc)\n",
    "    \n",
    "    # Read secondary structure\n",
    "    structure = md.load(af_fp)\n",
    "    ss = md.compute_dssp(structure, simplified=True)[0][row['left.bound']:row['right.bound']]\n",
    "    \n",
    "    # Score each residue as disordered or ordered based on pLDDT value\n",
    "    #disordered = np.sum([1 for i in pLDDTs if i < 70.])\n",
    "    disordered = 0\n",
    "    for r, resid in enumerate(pLDDTs):\n",
    "        if resid < 70.:\n",
    "            disordered += 1\n",
    "        elif ss[r] == 'C':\n",
    "            disordered += 1\n",
    "        \n",
    "    # Calculate fraction disorder for the region\n",
    "    hits_disordered.append(disordered / row['region.len'])"
   ]
  },
  {
   "cell_type": "code",
   "execution_count": 55,
   "metadata": {},
   "outputs": [],
   "source": [
    "import matplotlib as mpl"
   ]
  },
  {
   "cell_type": "code",
   "execution_count": 99,
   "metadata": {},
   "outputs": [],
   "source": [
    "df_uversky = pd.DataFrame(columns=['hydrop', 'nc', 'disorder', 'label'])\n",
    "for i in range(len(hits_disordered)):\n",
    "    disorder = hits_disordered[i]\n",
    "    if disorder >= 0.5:\n",
    "        label = 'Above 0.5'\n",
    "    if disorder < 0.5:\n",
    "        label = 'Below 0.5'\n",
    "    df_uversky = df_uversky.append({'hydrop': hits_norm_hydrop[i], 'nc': hits_norm_nc[i], 'disorder': disorder, 'label': label},\n",
    "                      ignore_index=True)"
   ]
  },
  {
   "cell_type": "code",
   "execution_count": 65,
   "metadata": {},
   "outputs": [],
   "source": [
    "cmap = mpl.colors.ListedColormap([\"lightgrey\", \"dimgrey\"])\n",
    "norm = mpl.colors.BoundaryNorm(np.arange(0, 1.1, 0.5), cmap.N) "
   ]
  },
  {
   "cell_type": "code",
   "execution_count": 100,
   "metadata": {},
   "outputs": [],
   "source": [
    "colors = {'Above 0.5': 'dimgrey', 'Below 0.5': 'lightgrey'}"
   ]
  },
  {
   "cell_type": "code",
   "execution_count": 95,
   "metadata": {},
   "outputs": [],
   "source": [
    "from matplotlib.lines import Line2D  "
   ]
  },
  {
   "cell_type": "code",
   "execution_count": 120,
   "metadata": {},
   "outputs": [
    {
     "data": {
      "image/png": "[encoded data removed]",
      "text/plain": [
       "<Figure size 244.8x237.6 with 1 Axes>"
      ]
     },
     "metadata": {
      "needs_background": "light"
     },
     "output_type": "display_data"
    }
   ],
   "source": [
    "# Values for this diving line from the original paper by Uversky:\n",
    "# Uversky, V. N., Gillespie, J. R., & Fink, A. L. (2000). Why are “natively unfolded” proteins unstructured under physiologic conditions? Proteins: Structure, Function and Genetics, 41(3), 415–427.\n",
    "# https://doi.org/10.1002/1097-0134(20001115)41:3<415::AID-PROT130>3.0.CO;2-7\n",
    "x = np.linspace(0.4,0.6,100)\n",
    "y = 2.785*x - 1.151\n",
    "\n",
    "fig,ax = plt.subplots(figsize=(3.4,3.3))\n",
    "ax.scatter(data=df_uversky, x='hydrop', y='nc', c=df_uversky['label'].map(colors),\n",
    "            s=10)\n",
    "ax.plot(x, y, color = 'black')\n",
    "#cbar = plt.colorbar(sc)\n",
    "#cbar.set_label('Fraction of disorder')\n",
    "ax.set_xlabel('Normalized mean hydropathy')\n",
    "ax.set_ylabel('Normalized net charge')\n",
    "\n",
    "handles = [Line2D([0], [0], marker='o', color='w', markerfacecolor=v, label=k, markersize=8) for k, v in colors.items()]\n",
    "ax.legend(title='Fraction disorder', handles=handles, columnspacing=1.5, handletextpad=0,\n",
    "          bbox_to_anchor=(1.07, 1.3), ncol=2, frameon=False)\n",
    "\n",
    "plt.savefig('./plots/Figure2E.png', dpi=300, bbox_inches = \"tight\")\n",
    "plt.show()"
   ]
  },
  {
   "cell_type": "code",
   "execution_count": null,
   "metadata": {},
   "outputs": [
    {
     "name": "stdout",
     "output_type": "stream",
     "text": [
      "Q99207\n"
     ]
    }
   ],
   "source": [
    "# Calculate normalized hydropathy, net charge, and percent disordered for each sequence\n",
    "hits_norm_hydrop = []\n",
    "hits_norm_nc = []\n",
    "hits_label = []\n",
    "\n",
    "for index, row in df.iterrows():\n",
    "    orf = row['orf']\n",
    "    uid = row['uni_id']\n",
    "    seq = row['region.seq']\n",
    "    \n",
    "    # Score each residue as disordered or ordered based on pLDDT value\n",
    "    fdir = '/mnt/d/research/drummond-lab/data/cerevisiae-alphafold-output/'\n",
    "    try:\n",
    "        label = paf.get_structure_label(fdir, uid, row['left.bound'], row['right.bound'],\n",
    "                        helical_cutoff=0.8, bfactor_cutoff=0.5)\n",
    "        hits_label.append(label)\n",
    "        \n",
    "        # Calculate region hydropathy according to the normalized kyte-doolittle scale\n",
    "        #hits_norm_hydrop.append(paf.calculate_hydropathy(seq, scale=\"kd\"))\n",
    "        hits_norm_hydrop.append(comp.calculate_hydropathy(seq, scale=\"kd_norm\"))\n",
    "    \n",
    "        # Calculate normalized net charge\n",
    "        nc = np.abs((seq.count('R') + seq.count('K') - seq.count('E') + seq.count('D'))) / row['region.len']\n",
    "        hits_norm_nc.append(nc)\n",
    "    except:\n",
    "        print(uid)"
   ]
  },
  {
   "cell_type": "code",
   "execution_count": 17,
   "metadata": {},
   "outputs": [
    {
     "ename": "ValueError",
     "evalue": "All arrays must be of the same length",
     "output_type": "error",
     "traceback": [
      "\u001b[0;31m---------------------------------------------------------------------------\u001b[0m",
      "\u001b[0;31mValueError\u001b[0m                                Traceback (most recent call last)",
      "\u001b[0;32m<ipython-input-17-68763df719c5>\u001b[0m in \u001b[0;36m<module>\u001b[0;34m\u001b[0m\n\u001b[1;32m      3\u001b[0m \u001b[0;34m\u001b[0m\u001b[0m\n\u001b[1;32m      4\u001b[0m \u001b[0mfig\u001b[0m\u001b[0;34m,\u001b[0m\u001b[0max\u001b[0m \u001b[0;34m=\u001b[0m \u001b[0mplt\u001b[0m\u001b[0;34m.\u001b[0m\u001b[0msubplots\u001b[0m\u001b[0;34m(\u001b[0m\u001b[0mfigsize\u001b[0m\u001b[0;34m=\u001b[0m\u001b[0;34m(\u001b[0m\u001b[0;36m5\u001b[0m\u001b[0;34m,\u001b[0m\u001b[0;36m4\u001b[0m\u001b[0;34m)\u001b[0m\u001b[0;34m)\u001b[0m\u001b[0;34m\u001b[0m\u001b[0;34m\u001b[0m\u001b[0m\n\u001b[0;32m----> 5\u001b[0;31m \u001b[0msc\u001b[0m \u001b[0;34m=\u001b[0m \u001b[0msns\u001b[0m\u001b[0;34m.\u001b[0m\u001b[0mscatterplot\u001b[0m\u001b[0;34m(\u001b[0m\u001b[0mhits_norm_hydrop\u001b[0m\u001b[0;34m,\u001b[0m \u001b[0mhits_norm_nc\u001b[0m\u001b[0;34m,\u001b[0m \u001b[0mhue\u001b[0m\u001b[0;34m=\u001b[0m\u001b[0mhits_label\u001b[0m\u001b[0;34m,\u001b[0m \u001b[0malpha\u001b[0m\u001b[0;34m=\u001b[0m\u001b[0;36m0.5\u001b[0m\u001b[0;34m,\u001b[0m \u001b[0ms\u001b[0m\u001b[0;34m=\u001b[0m\u001b[0;36m20\u001b[0m\u001b[0;34m)\u001b[0m\u001b[0;34m\u001b[0m\u001b[0;34m\u001b[0m\u001b[0m\n\u001b[0m\u001b[1;32m      6\u001b[0m \u001b[0max\u001b[0m\u001b[0;34m.\u001b[0m\u001b[0mplot\u001b[0m\u001b[0;34m(\u001b[0m\u001b[0mx\u001b[0m\u001b[0;34m,\u001b[0m \u001b[0my\u001b[0m\u001b[0;34m,\u001b[0m \u001b[0mcolor\u001b[0m \u001b[0;34m=\u001b[0m \u001b[0;34m'black'\u001b[0m\u001b[0;34m)\u001b[0m\u001b[0;34m\u001b[0m\u001b[0;34m\u001b[0m\u001b[0m\n\u001b[1;32m      7\u001b[0m \u001b[0mcbar\u001b[0m \u001b[0;34m=\u001b[0m \u001b[0mplt\u001b[0m\u001b[0;34m.\u001b[0m\u001b[0mcolorbar\u001b[0m\u001b[0;34m(\u001b[0m\u001b[0msc\u001b[0m\u001b[0;34m)\u001b[0m\u001b[0;34m\u001b[0m\u001b[0;34m\u001b[0m\u001b[0m\n",
      "\u001b[0;32m~/.local/lib/python3.7/site-packages/seaborn/_decorators.py\u001b[0m in \u001b[0;36minner_f\u001b[0;34m(*args, **kwargs)\u001b[0m\n\u001b[1;32m     44\u001b[0m             )\n\u001b[1;32m     45\u001b[0m         \u001b[0mkwargs\u001b[0m\u001b[0;34m.\u001b[0m\u001b[0mupdate\u001b[0m\u001b[0;34m(\u001b[0m\u001b[0;34m{\u001b[0m\u001b[0mk\u001b[0m\u001b[0;34m:\u001b[0m \u001b[0marg\u001b[0m \u001b[0;32mfor\u001b[0m \u001b[0mk\u001b[0m\u001b[0;34m,\u001b[0m \u001b[0marg\u001b[0m \u001b[0;32min\u001b[0m \u001b[0mzip\u001b[0m\u001b[0;34m(\u001b[0m\u001b[0msig\u001b[0m\u001b[0;34m.\u001b[0m\u001b[0mparameters\u001b[0m\u001b[0;34m,\u001b[0m \u001b[0margs\u001b[0m\u001b[0;34m)\u001b[0m\u001b[0;34m}\u001b[0m\u001b[0;34m)\u001b[0m\u001b[0;34m\u001b[0m\u001b[0;34m\u001b[0m\u001b[0m\n\u001b[0;32m---> 46\u001b[0;31m         \u001b[0;32mreturn\u001b[0m \u001b[0mf\u001b[0m\u001b[0;34m(\u001b[0m\u001b[0;34m**\u001b[0m\u001b[0mkwargs\u001b[0m\u001b[0;34m)\u001b[0m\u001b[0;34m\u001b[0m\u001b[0;34m\u001b[0m\u001b[0m\n\u001b[0m\u001b[1;32m     47\u001b[0m     \u001b[0;32mreturn\u001b[0m \u001b[0minner_f\u001b[0m\u001b[0;34m\u001b[0m\u001b[0;34m\u001b[0m\u001b[0m\n\u001b[1;32m     48\u001b[0m \u001b[0;34m\u001b[0m\u001b[0m\n",
      "\u001b[0;32m~/.local/lib/python3.7/site-packages/seaborn/relational.py\u001b[0m in \u001b[0;36mscatterplot\u001b[0;34m(x, y, hue, style, size, data, palette, hue_order, hue_norm, sizes, size_order, size_norm, markers, style_order, x_bins, y_bins, units, estimator, ci, n_boot, alpha, x_jitter, y_jitter, legend, ax, **kwargs)\u001b[0m\n\u001b[1;32m    803\u001b[0m         \u001b[0mx_bins\u001b[0m\u001b[0;34m=\u001b[0m\u001b[0mx_bins\u001b[0m\u001b[0;34m,\u001b[0m \u001b[0my_bins\u001b[0m\u001b[0;34m=\u001b[0m\u001b[0my_bins\u001b[0m\u001b[0;34m,\u001b[0m\u001b[0;34m\u001b[0m\u001b[0;34m\u001b[0m\u001b[0m\n\u001b[1;32m    804\u001b[0m         \u001b[0mestimator\u001b[0m\u001b[0;34m=\u001b[0m\u001b[0mestimator\u001b[0m\u001b[0;34m,\u001b[0m \u001b[0mci\u001b[0m\u001b[0;34m=\u001b[0m\u001b[0mci\u001b[0m\u001b[0;34m,\u001b[0m \u001b[0mn_boot\u001b[0m\u001b[0;34m=\u001b[0m\u001b[0mn_boot\u001b[0m\u001b[0;34m,\u001b[0m\u001b[0;34m\u001b[0m\u001b[0;34m\u001b[0m\u001b[0m\n\u001b[0;32m--> 805\u001b[0;31m         \u001b[0malpha\u001b[0m\u001b[0;34m=\u001b[0m\u001b[0malpha\u001b[0m\u001b[0;34m,\u001b[0m \u001b[0mx_jitter\u001b[0m\u001b[0;34m=\u001b[0m\u001b[0mx_jitter\u001b[0m\u001b[0;34m,\u001b[0m \u001b[0my_jitter\u001b[0m\u001b[0;34m=\u001b[0m\u001b[0my_jitter\u001b[0m\u001b[0;34m,\u001b[0m \u001b[0mlegend\u001b[0m\u001b[0;34m=\u001b[0m\u001b[0mlegend\u001b[0m\u001b[0;34m,\u001b[0m\u001b[0;34m\u001b[0m\u001b[0;34m\u001b[0m\u001b[0m\n\u001b[0m\u001b[1;32m    806\u001b[0m     )\n\u001b[1;32m    807\u001b[0m \u001b[0;34m\u001b[0m\u001b[0m\n",
      "\u001b[0;32m~/.local/lib/python3.7/site-packages/seaborn/relational.py\u001b[0m in \u001b[0;36m__init__\u001b[0;34m(self, data, variables, x_bins, y_bins, estimator, ci, n_boot, alpha, x_jitter, y_jitter, legend)\u001b[0m\n\u001b[1;32m    585\u001b[0m         )\n\u001b[1;32m    586\u001b[0m \u001b[0;34m\u001b[0m\u001b[0m\n\u001b[0;32m--> 587\u001b[0;31m         \u001b[0msuper\u001b[0m\u001b[0;34m(\u001b[0m\u001b[0;34m)\u001b[0m\u001b[0;34m.\u001b[0m\u001b[0m__init__\u001b[0m\u001b[0;34m(\u001b[0m\u001b[0mdata\u001b[0m\u001b[0;34m=\u001b[0m\u001b[0mdata\u001b[0m\u001b[0;34m,\u001b[0m \u001b[0mvariables\u001b[0m\u001b[0;34m=\u001b[0m\u001b[0mvariables\u001b[0m\u001b[0;34m)\u001b[0m\u001b[0;34m\u001b[0m\u001b[0;34m\u001b[0m\u001b[0m\n\u001b[0m\u001b[1;32m    588\u001b[0m \u001b[0;34m\u001b[0m\u001b[0m\n\u001b[1;32m    589\u001b[0m         \u001b[0mself\u001b[0m\u001b[0;34m.\u001b[0m\u001b[0malpha\u001b[0m \u001b[0;34m=\u001b[0m \u001b[0malpha\u001b[0m\u001b[0;34m\u001b[0m\u001b[0;34m\u001b[0m\u001b[0m\n",
      "\u001b[0;32m~/.local/lib/python3.7/site-packages/seaborn/_core.py\u001b[0m in \u001b[0;36m__init__\u001b[0;34m(self, data, variables)\u001b[0m\n\u001b[1;32m    602\u001b[0m     \u001b[0;32mdef\u001b[0m \u001b[0m__init__\u001b[0m\u001b[0;34m(\u001b[0m\u001b[0mself\u001b[0m\u001b[0;34m,\u001b[0m \u001b[0mdata\u001b[0m\u001b[0;34m=\u001b[0m\u001b[0;32mNone\u001b[0m\u001b[0;34m,\u001b[0m \u001b[0mvariables\u001b[0m\u001b[0;34m=\u001b[0m\u001b[0;34m{\u001b[0m\u001b[0;34m}\u001b[0m\u001b[0;34m)\u001b[0m\u001b[0;34m:\u001b[0m\u001b[0;34m\u001b[0m\u001b[0;34m\u001b[0m\u001b[0m\n\u001b[1;32m    603\u001b[0m \u001b[0;34m\u001b[0m\u001b[0m\n\u001b[0;32m--> 604\u001b[0;31m         \u001b[0mself\u001b[0m\u001b[0;34m.\u001b[0m\u001b[0massign_variables\u001b[0m\u001b[0;34m(\u001b[0m\u001b[0mdata\u001b[0m\u001b[0;34m,\u001b[0m \u001b[0mvariables\u001b[0m\u001b[0;34m)\u001b[0m\u001b[0;34m\u001b[0m\u001b[0;34m\u001b[0m\u001b[0m\n\u001b[0m\u001b[1;32m    605\u001b[0m \u001b[0;34m\u001b[0m\u001b[0m\n\u001b[1;32m    606\u001b[0m         \u001b[0;32mfor\u001b[0m \u001b[0mvar\u001b[0m\u001b[0;34m,\u001b[0m \u001b[0mcls\u001b[0m \u001b[0;32min\u001b[0m \u001b[0mself\u001b[0m\u001b[0;34m.\u001b[0m\u001b[0m_semantic_mappings\u001b[0m\u001b[0;34m.\u001b[0m\u001b[0mitems\u001b[0m\u001b[0;34m(\u001b[0m\u001b[0;34m)\u001b[0m\u001b[0;34m:\u001b[0m\u001b[0;34m\u001b[0m\u001b[0;34m\u001b[0m\u001b[0m\n",
      "\u001b[0;32m~/.local/lib/python3.7/site-packages/seaborn/_core.py\u001b[0m in \u001b[0;36massign_variables\u001b[0;34m(self, data, variables)\u001b[0m\n\u001b[1;32m    666\u001b[0m             \u001b[0mself\u001b[0m\u001b[0;34m.\u001b[0m\u001b[0minput_format\u001b[0m \u001b[0;34m=\u001b[0m \u001b[0;34m\"long\"\u001b[0m\u001b[0;34m\u001b[0m\u001b[0;34m\u001b[0m\u001b[0m\n\u001b[1;32m    667\u001b[0m             plot_data, variables = self._assign_variables_longform(\n\u001b[0;32m--> 668\u001b[0;31m                 \u001b[0mdata\u001b[0m\u001b[0;34m,\u001b[0m \u001b[0;34m**\u001b[0m\u001b[0mvariables\u001b[0m\u001b[0;34m,\u001b[0m\u001b[0;34m\u001b[0m\u001b[0;34m\u001b[0m\u001b[0m\n\u001b[0m\u001b[1;32m    669\u001b[0m             )\n\u001b[1;32m    670\u001b[0m \u001b[0;34m\u001b[0m\u001b[0m\n",
      "\u001b[0;32m~/.local/lib/python3.7/site-packages/seaborn/_core.py\u001b[0m in \u001b[0;36m_assign_variables_longform\u001b[0;34m(self, data, **kwargs)\u001b[0m\n\u001b[1;32m    924\u001b[0m         \u001b[0;31m# Construct a tidy plot DataFrame. This will convert a number of\u001b[0m\u001b[0;34m\u001b[0m\u001b[0;34m\u001b[0m\u001b[0;34m\u001b[0m\u001b[0m\n\u001b[1;32m    925\u001b[0m         \u001b[0;31m# types automatically, aligning on index in case of pandas objects\u001b[0m\u001b[0;34m\u001b[0m\u001b[0;34m\u001b[0m\u001b[0;34m\u001b[0m\u001b[0m\n\u001b[0;32m--> 926\u001b[0;31m         \u001b[0mplot_data\u001b[0m \u001b[0;34m=\u001b[0m \u001b[0mpd\u001b[0m\u001b[0;34m.\u001b[0m\u001b[0mDataFrame\u001b[0m\u001b[0;34m(\u001b[0m\u001b[0mplot_data\u001b[0m\u001b[0;34m)\u001b[0m\u001b[0;34m\u001b[0m\u001b[0;34m\u001b[0m\u001b[0m\n\u001b[0m\u001b[1;32m    927\u001b[0m \u001b[0;34m\u001b[0m\u001b[0m\n\u001b[1;32m    928\u001b[0m         \u001b[0;31m# Reduce the variables dictionary to fields with valid data\u001b[0m\u001b[0;34m\u001b[0m\u001b[0;34m\u001b[0m\u001b[0;34m\u001b[0m\u001b[0m\n",
      "\u001b[0;32m~/.local/lib/python3.7/site-packages/pandas/core/frame.py\u001b[0m in \u001b[0;36m__init__\u001b[0;34m(self, data, index, columns, dtype, copy)\u001b[0m\n\u001b[1;32m    612\u001b[0m         \u001b[0;32melif\u001b[0m \u001b[0misinstance\u001b[0m\u001b[0;34m(\u001b[0m\u001b[0mdata\u001b[0m\u001b[0;34m,\u001b[0m \u001b[0mdict\u001b[0m\u001b[0;34m)\u001b[0m\u001b[0;34m:\u001b[0m\u001b[0;34m\u001b[0m\u001b[0;34m\u001b[0m\u001b[0m\n\u001b[1;32m    613\u001b[0m             \u001b[0;31m# GH#38939 de facto copy defaults to False only in non-dict cases\u001b[0m\u001b[0;34m\u001b[0m\u001b[0;34m\u001b[0m\u001b[0;34m\u001b[0m\u001b[0m\n\u001b[0;32m--> 614\u001b[0;31m             \u001b[0mmgr\u001b[0m \u001b[0;34m=\u001b[0m \u001b[0mdict_to_mgr\u001b[0m\u001b[0;34m(\u001b[0m\u001b[0mdata\u001b[0m\u001b[0;34m,\u001b[0m \u001b[0mindex\u001b[0m\u001b[0;34m,\u001b[0m \u001b[0mcolumns\u001b[0m\u001b[0;34m,\u001b[0m \u001b[0mdtype\u001b[0m\u001b[0;34m=\u001b[0m\u001b[0mdtype\u001b[0m\u001b[0;34m,\u001b[0m \u001b[0mcopy\u001b[0m\u001b[0;34m=\u001b[0m\u001b[0mcopy\u001b[0m\u001b[0;34m,\u001b[0m \u001b[0mtyp\u001b[0m\u001b[0;34m=\u001b[0m\u001b[0mmanager\u001b[0m\u001b[0;34m)\u001b[0m\u001b[0;34m\u001b[0m\u001b[0;34m\u001b[0m\u001b[0m\n\u001b[0m\u001b[1;32m    615\u001b[0m         \u001b[0;32melif\u001b[0m \u001b[0misinstance\u001b[0m\u001b[0;34m(\u001b[0m\u001b[0mdata\u001b[0m\u001b[0;34m,\u001b[0m \u001b[0mma\u001b[0m\u001b[0;34m.\u001b[0m\u001b[0mMaskedArray\u001b[0m\u001b[0;34m)\u001b[0m\u001b[0;34m:\u001b[0m\u001b[0;34m\u001b[0m\u001b[0;34m\u001b[0m\u001b[0m\n\u001b[1;32m    616\u001b[0m             \u001b[0;32mimport\u001b[0m \u001b[0mnumpy\u001b[0m\u001b[0;34m.\u001b[0m\u001b[0mma\u001b[0m\u001b[0;34m.\u001b[0m\u001b[0mmrecords\u001b[0m \u001b[0;32mas\u001b[0m \u001b[0mmrecords\u001b[0m\u001b[0;34m\u001b[0m\u001b[0;34m\u001b[0m\u001b[0m\n",
      "\u001b[0;32m~/.local/lib/python3.7/site-packages/pandas/core/internals/construction.py\u001b[0m in \u001b[0;36mdict_to_mgr\u001b[0;34m(data, index, columns, dtype, typ, copy)\u001b[0m\n\u001b[1;32m    461\u001b[0m \u001b[0;34m\u001b[0m\u001b[0m\n\u001b[1;32m    462\u001b[0m     return arrays_to_mgr(\n\u001b[0;32m--> 463\u001b[0;31m         \u001b[0marrays\u001b[0m\u001b[0;34m,\u001b[0m \u001b[0mdata_names\u001b[0m\u001b[0;34m,\u001b[0m \u001b[0mindex\u001b[0m\u001b[0;34m,\u001b[0m \u001b[0mcolumns\u001b[0m\u001b[0;34m,\u001b[0m \u001b[0mdtype\u001b[0m\u001b[0;34m=\u001b[0m\u001b[0mdtype\u001b[0m\u001b[0;34m,\u001b[0m \u001b[0mtyp\u001b[0m\u001b[0;34m=\u001b[0m\u001b[0mtyp\u001b[0m\u001b[0;34m,\u001b[0m \u001b[0mconsolidate\u001b[0m\u001b[0;34m=\u001b[0m\u001b[0mcopy\u001b[0m\u001b[0;34m\u001b[0m\u001b[0;34m\u001b[0m\u001b[0m\n\u001b[0m\u001b[1;32m    464\u001b[0m     )\n\u001b[1;32m    465\u001b[0m \u001b[0;34m\u001b[0m\u001b[0m\n",
      "\u001b[0;32m~/.local/lib/python3.7/site-packages/pandas/core/internals/construction.py\u001b[0m in \u001b[0;36marrays_to_mgr\u001b[0;34m(arrays, arr_names, index, columns, dtype, verify_integrity, typ, consolidate)\u001b[0m\n\u001b[1;32m    115\u001b[0m         \u001b[0;31m# figure out the index, if necessary\u001b[0m\u001b[0;34m\u001b[0m\u001b[0;34m\u001b[0m\u001b[0;34m\u001b[0m\u001b[0m\n\u001b[1;32m    116\u001b[0m         \u001b[0;32mif\u001b[0m \u001b[0mindex\u001b[0m \u001b[0;32mis\u001b[0m \u001b[0;32mNone\u001b[0m\u001b[0;34m:\u001b[0m\u001b[0;34m\u001b[0m\u001b[0;34m\u001b[0m\u001b[0m\n\u001b[0;32m--> 117\u001b[0;31m             \u001b[0mindex\u001b[0m \u001b[0;34m=\u001b[0m \u001b[0m_extract_index\u001b[0m\u001b[0;34m(\u001b[0m\u001b[0marrays\u001b[0m\u001b[0;34m)\u001b[0m\u001b[0;34m\u001b[0m\u001b[0;34m\u001b[0m\u001b[0m\n\u001b[0m\u001b[1;32m    118\u001b[0m         \u001b[0;32melse\u001b[0m\u001b[0;34m:\u001b[0m\u001b[0;34m\u001b[0m\u001b[0;34m\u001b[0m\u001b[0m\n\u001b[1;32m    119\u001b[0m             \u001b[0mindex\u001b[0m \u001b[0;34m=\u001b[0m \u001b[0mensure_index\u001b[0m\u001b[0;34m(\u001b[0m\u001b[0mindex\u001b[0m\u001b[0;34m)\u001b[0m\u001b[0;34m\u001b[0m\u001b[0;34m\u001b[0m\u001b[0m\n",
      "\u001b[0;32m~/.local/lib/python3.7/site-packages/pandas/core/internals/construction.py\u001b[0m in \u001b[0;36m_extract_index\u001b[0;34m(data)\u001b[0m\n\u001b[1;32m    621\u001b[0m             \u001b[0mlengths\u001b[0m \u001b[0;34m=\u001b[0m \u001b[0mlist\u001b[0m\u001b[0;34m(\u001b[0m\u001b[0mset\u001b[0m\u001b[0;34m(\u001b[0m\u001b[0mraw_lengths\u001b[0m\u001b[0;34m)\u001b[0m\u001b[0;34m)\u001b[0m\u001b[0;34m\u001b[0m\u001b[0;34m\u001b[0m\u001b[0m\n\u001b[1;32m    622\u001b[0m             \u001b[0;32mif\u001b[0m \u001b[0mlen\u001b[0m\u001b[0;34m(\u001b[0m\u001b[0mlengths\u001b[0m\u001b[0;34m)\u001b[0m \u001b[0;34m>\u001b[0m \u001b[0;36m1\u001b[0m\u001b[0;34m:\u001b[0m\u001b[0;34m\u001b[0m\u001b[0;34m\u001b[0m\u001b[0m\n\u001b[0;32m--> 623\u001b[0;31m                 \u001b[0;32mraise\u001b[0m \u001b[0mValueError\u001b[0m\u001b[0;34m(\u001b[0m\u001b[0;34m\"All arrays must be of the same length\"\u001b[0m\u001b[0;34m)\u001b[0m\u001b[0;34m\u001b[0m\u001b[0;34m\u001b[0m\u001b[0m\n\u001b[0m\u001b[1;32m    624\u001b[0m \u001b[0;34m\u001b[0m\u001b[0m\n\u001b[1;32m    625\u001b[0m             \u001b[0;32mif\u001b[0m \u001b[0mhave_dicts\u001b[0m\u001b[0;34m:\u001b[0m\u001b[0;34m\u001b[0m\u001b[0;34m\u001b[0m\u001b[0m\n",
      "\u001b[0;31mValueError\u001b[0m: All arrays must be of the same length"
     ]
    },
    {
     "data": {
      "image/png": "[encoded data removed]",
      "text/plain": [
       "<Figure size 360x288 with 1 Axes>"
      ]
     },
     "metadata": {
      "needs_background": "light"
     },
     "output_type": "display_data"
    }
   ],
   "source": [
    "x = np.linspace(0.4,0.6,100)\n",
    "y = 2.785*x - 1.151\n",
    "\n",
    "fig,ax = plt.subplots(figsize=(5,4))\n",
    "sc = sns.scatterplot(hits_norm_hydrop, hits_norm_nc, hue=hits_label, alpha=0.5, s=20)\n",
    "ax.plot(x, y, color = 'black')\n",
    "cbar = plt.colorbar(sc)\n",
    "cbar.set_label('Fraction of disorder')\n",
    "ax.set_xlabel('Normalized mean hydropathy')\n",
    "ax.set_ylabel('Normalized net charge')\n",
    "plt.tight_layout()\n",
    "plt.savefig('./plots/Figure2E.png', dpi=300, bbox_inches = \"tight\")\n",
    "plt.show()"
   ]
  },
  {
   "cell_type": "code",
   "execution_count": null,
   "metadata": {},
   "outputs": [],
   "source": []
  }
 ],
 "metadata": {
  "kernelspec": {
   "display_name": "Python 3",
   "language": "python",
   "name": "python3"
  },
  "language_info": {
   "codemirror_mode": {
    "name": "ipython",
    "version": 3
   },
   "file_extension": ".py",
   "mimetype": "text/x-python",
   "name": "python",
   "nbconvert_exporter": "python",
   "pygments_lexer": "ipython3",
   "version": "3.7.5"
  }
 },
 "nbformat": 4,
 "nbformat_minor": 4
}
