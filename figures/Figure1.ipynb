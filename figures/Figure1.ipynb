{
 "cells": [
  {
   "cell_type": "markdown",
   "metadata": {},
   "source": [
    "# Figure 1"
   ]
  },
  {
   "cell_type": "code",
   "execution_count": 1,
   "metadata": {},
   "outputs": [],
   "source": [
    "import sys\n",
    "sys.path.insert(1, '../code/scripts')"
   ]
  },
  {
   "cell_type": "code",
   "execution_count": 2,
   "metadata": {},
   "outputs": [],
   "source": [
    "## Basics\n",
    "import pandas as pd\n",
    "import numpy as np\n",
    "import math\n",
    "import string\n",
    "from scipy.stats import entropy, mannwhitneyu, wilcoxon\n",
    "\n",
    "## Bio functions\n",
    "from Bio import SeqIO\n",
    "from Bio.Seq import Seq\n",
    "\n",
    "## Custom packages\n",
    "import composition as cp\n",
    "\n",
    "## Plotting\n",
    "import matplotlib.pyplot as plt\n",
    "import seaborn as sns\n",
    "plt.rcParams.update({'font.size': 12})\n",
    "plt.rcParams['font.family'] = 'sans-serif'\n",
    "plt.rcParams['font.sans-serif'] = \"Arial\"\n",
    "\n",
    "## Colors\n",
    "cscheme = {'pos':'#0177BB', 'neg':'#CB3627', 'dis':'#828282', 'helix':'#009988', 'sheet':'#EE7733', 'cr':'#AA4499'}"
   ]
  },
  {
   "cell_type": "markdown",
   "metadata": {},
   "source": [
    "## Functions"
   ]
  },
  {
   "cell_type": "code",
   "execution_count": 3,
   "metadata": {},
   "outputs": [],
   "source": [
    "def get_aa_freqs(seq, counts = False, sort_output = True, gaps = False):\n",
    "    \"\"\"\n",
    "    Arguments:\n",
    "    seq: a sequences (string representing a protein, drawn from the 20 naturally-occuring amino acids)\n",
    "    counts: bool, whether to return the counts in each category or the frequencies. False (returns freqs) by default.\n",
    "    sort_output: bool, whether to return the frequencies or counts in alphabetically sorted order. True by default.\n",
    "    If false, the categories will also be returned.\n",
    "    Returns:\n",
    "    aas: if unsorted, an iterable of the categories (amino acids) represented for each sequence\n",
    "    freqs: an interable of the frequency of each category in the sequence.\n",
    "        The indices match the categories in the same index in 'aas'.\n",
    "        If counts is True, this will be raw counts rather than frequency.\n",
    "        If sort_output is True only the frequencies will be returned, the assumed order is the\n",
    "        amino acids in alphabetical order.\n",
    "    \"\"\"\n",
    "    # Amino acids\n",
    "    forbidden = ['B', 'J', 'O', 'U', 'X', 'Z']\n",
    "    aas = []\n",
    "    for a in string.ascii_uppercase:\n",
    "        if a not in forbidden:\n",
    "            aas.append(a)\n",
    "    if gaps:\n",
    "        aas.append('-')\n",
    "    \n",
    "    all_seq_aas = []\n",
    "    all_seq_freqs = []\n",
    "    \n",
    "    # Parse sequence\n",
    "    seq = seq.upper().strip(\"*\")\n",
    "    seq = list(seq)\n",
    "    seq_aas, seq_counts = np.unique(seq, return_counts=True)\n",
    "    zero_freq_aas = np.setxor1d(aas, seq_aas)\n",
    "\n",
    "    seq_aas = np.append(seq_aas, zero_freq_aas)\n",
    "    seq_freqs = np.append(seq_counts, np.zeros(zero_freq_aas.size))\n",
    "    if not counts:\n",
    "        seq_freqs = seq_freqs / len(seq)\n",
    "\n",
    "    if sort_output:\n",
    "        seq_freqs_sorted = seq_freqs[seq_aas.argsort()]\n",
    "        all_seq_freqs.append(seq_freqs_sorted)\n",
    "\n",
    "    else:\n",
    "        all_seq_aas.append(seq_aas)\n",
    "        all_seq_freqs.append(seq_freqs)\n",
    "    \n",
    "    if sort_output:\n",
    "        return(all_seq_freqs)\n",
    "    else:\n",
    "        return(all_seq_aas, all_seq_freqs)"
   ]
  },
  {
   "cell_type": "code",
   "execution_count": 4,
   "metadata": {},
   "outputs": [],
   "source": [
    "def calculate_seq_complexity(seq, typ='k1', norm=False, test=False):\n",
    "    \"\"\"\n",
    "    Given a sequence (seq; str), return the sequence complexity in terms of 'Complexity' (type='k1', default)\n",
    "    or entropy (type='k2')\n",
    "    Entropy normalization (only valid for type='k2') can be to the yeast proteome frequencies (norm='yeast')\n",
    "        or equiprobable amino acids (norm='uniform') \n",
    "    Assumes natural log base (could switch to base 20 later)\n",
    "    \"\"\"\n",
    "    L = len(seq)\n",
    "    yeast_H_lang = 2.8947654337060476\n",
    "    uniform_H_lang = 2.3261019050474445\n",
    "    charged_H_lang = entropy([0.125]*4 + [0.03125]*16)\n",
    "    #charged_H_lang = 2.8910826448010822\n",
    "    \n",
    "    \n",
    "    # Calculate complexity vector\n",
    "    sj = get_aa_freqs(seq, counts=True)[0]\n",
    "    sj[::-1].sort()\n",
    "    \n",
    "    if typ == \"k1\":\n",
    "        num = math.factorial(L)\n",
    "        denom = 1\n",
    "        for n in sj:\n",
    "            denom *= math.factorial(n)\n",
    "        omega = num / denom\n",
    "        complexity = (1 / L) * np.log(omega)\n",
    "        \n",
    "    if typ == \"k2\":\n",
    "        complexity = 0\n",
    "        for n in sj:\n",
    "            if n != 0:\n",
    "                complexity += (n / L) * (np.log(n / L))\n",
    "        complexity = -1*complexity\n",
    "        \n",
    "        if norm == 'yeast':\n",
    "            complexity = complexity / yeast_H_lang\n",
    "        elif norm == 'uniform':\n",
    "            complexity = complexity / uniform_H_lang\n",
    "        elif norm == 'charged':\n",
    "            complexity = complexity / charged_H_lang\n",
    "        else:\n",
    "            raise ValueError(\"Normalization ('norm') can be 'yeast', 'charged', or 'uniform'\")\n",
    "        \n",
    "        if test:\n",
    "            print(sj)\n",
    "            print(complexity)\n",
    "            \n",
    "            cj = get_aa_freqs(seq)[0]\n",
    "            cj[::-1].sort()\n",
    "            print(cj)\n",
    "            print(entropy(cj))\n",
    "\n",
    "    \n",
    "    return(complexity)"
   ]
  },
  {
   "cell_type": "code",
   "execution_count": 5,
   "metadata": {},
   "outputs": [],
   "source": [
    "def get_comp(seq, states):\n",
    "    dcomp = {}\n",
    "    for state in states:\n",
    "        dcomp[state] = 0\n",
    "    for aa in seq:\n",
    "        dcomp[aa] += 1\n",
    "    comp = []\n",
    "    for k,v in dcomp.items():\n",
    "        comp.append(v / len(seq))\n",
    "    return comp"
   ]
  },
  {
   "cell_type": "markdown",
   "metadata": {},
   "source": [
    "## Data"
   ]
  },
  {
   "cell_type": "code",
   "execution_count": 6,
   "metadata": {},
   "outputs": [],
   "source": [
    "charged_hits = pd.read_table(\"../data/charged_regions/cr_trimmed_filtered.csv\",\n",
    "                           sep = ',', skiprows = 0, comment='#')\n",
    "charged_hits = charged_hits[charged_hits['orf_label']!='dubious'] # Filter out dubious orfs"
   ]
  },
  {
   "cell_type": "code",
   "execution_count": 7,
   "metadata": {
    "scrolled": true
   },
   "outputs": [
    {
     "name": "stdout",
     "output_type": "stream",
     "text": [
      "1047 regions in 800 proteins\n"
     ]
    }
   ],
   "source": [
    "print(\"{0} regions in {1} proteins\".format(len(charged_hits), len(charged_hits['gene'].unique())))"
   ]
  },
  {
   "cell_type": "code",
   "execution_count": 8,
   "metadata": {},
   "outputs": [],
   "source": [
    "df_codons = pd.read_csv(\"../data/misc/codons.txt\")"
   ]
  },
  {
   "cell_type": "code",
   "execution_count": 9,
   "metadata": {},
   "outputs": [],
   "source": [
    "scerprot = []\n",
    "fullseqs = {}\n",
    "for seq_record in SeqIO.parse(\"../data/ref_proteomes/Saccharomyces_cerevisiae.fasta\", \"fasta\"):\n",
    "    scerprot.append(seq_record)\n",
    "    fullseqs[seq_record.id] = str(seq_record.seq)"
   ]
  },
  {
   "cell_type": "code",
   "execution_count": 10,
   "metadata": {},
   "outputs": [],
   "source": [
    "scergen = []\n",
    "for record in SeqIO.parse(\"../data/misc/sc_ref_genome_coding.fasta\", \"fasta\"):\n",
    "    scergen.append(record)"
   ]
  },
  {
   "cell_type": "markdown",
   "metadata": {},
   "source": [
    "## 1A: Amino acid usage"
   ]
  },
  {
   "cell_type": "code",
   "execution_count": 11,
   "metadata": {},
   "outputs": [],
   "source": [
    "all_aa = ['E', 'D', 'K', 'R', 'H', 'Q', 'N', 'S', 'T', 'G',\n",
    "          'M', 'V', 'I', 'L', 'F', 'Y', 'W', 'P', 'A', 'C']"
   ]
  },
  {
   "cell_type": "code",
   "execution_count": 12,
   "metadata": {},
   "outputs": [],
   "source": [
    "codons = {}\n",
    "for aa in all_aa:\n",
    "    codons[aa] = []\n",
    "    for index, row in df_codons[df_codons.aa == aa].iterrows():\n",
    "        codons[aa].append(row['codon'])"
   ]
  },
  {
   "cell_type": "code",
   "execution_count": 13,
   "metadata": {},
   "outputs": [],
   "source": [
    "scercomp = np.zeros(20)\n",
    "for orf in scerprot:\n",
    "    seq = str(orf.seq).replace('*', '')\n",
    "    scercomp = np.add(scercomp, get_comp(seq, all_aa))\n",
    "scercomp = np.divide(scercomp, len(scerprot))"
   ]
  },
  {
   "cell_type": "code",
   "execution_count": 14,
   "metadata": {},
   "outputs": [],
   "source": [
    "nt_cnt = {'A': 0, 'T':0, 'C':0, 'G':0}\n",
    "for seq in scergen:\n",
    "    for NT in seq.seq:\n",
    "        nt_cnt[NT] += 1\n",
    "\n",
    "nt_tot = 0\n",
    "for k,v in nt_cnt.items():\n",
    "    nt_tot += v        \n",
    "        \n",
    "nt_freq = {}\n",
    "for k,v in nt_cnt.items():\n",
    "    nt_freq[k] = v / nt_tot"
   ]
  },
  {
   "cell_type": "code",
   "execution_count": 15,
   "metadata": {},
   "outputs": [],
   "source": [
    "nullcomp = []\n",
    "for k,v in codons.items():\n",
    "    total_freq = 0\n",
    "    for codon in v:\n",
    "        freq = 1\n",
    "        for nt in codon:\n",
    "            freq *= nt_freq[nt]\n",
    "        total_freq += freq\n",
    "    nullcomp.append(total_freq)\n",
    "nullcomp = nullcomp / np.sum(nullcomp)"
   ]
  },
  {
   "cell_type": "code",
   "execution_count": 16,
   "metadata": {},
   "outputs": [],
   "source": [
    "diff = abs(scercomp - nullcomp)"
   ]
  },
  {
   "cell_type": "code",
   "execution_count": 17,
   "metadata": {},
   "outputs": [
    {
     "data": {
      "image/png": "[encoded data removed]",
      "text/plain": [
       "<Figure size 360x201.6 with 2 Axes>"
      ]
     },
     "metadata": {
      "needs_background": "light"
     },
     "output_type": "display_data"
    }
   ],
   "source": [
    "fig, axes = plt.subplots(2, 1, figsize=(5, 2.8))\n",
    "ax1, ax2 = axes[0], axes[1]\n",
    "\n",
    "ax1.plot(all_aa, scercomp, color='dimgrey', zorder=2, marker='s')\n",
    "ax1.plot(all_aa, nullcomp, color='silver', linestyle='dashed', marker='o')\n",
    "ax1.set_ylim(0, 0.11)\n",
    "ax1.set_yticks(np.arange(0, 0.11, 0.05))\n",
    "ax1.set_ylabel('Proportion')\n",
    "ax1.legend(['S. cerevisiae', 'Expected frequency based on\\naverage nucleotide frequency'], ncol=2,\n",
    "           bbox_to_anchor=(1, 1.55), frameon=False, fontsize=10)\n",
    "\n",
    "ax2.stem(all_aa, diff,\n",
    "         linefmt='dimgrey',\n",
    "         use_line_collection=True)\n",
    "ax2.set_ylabel('Abs difference')\n",
    "ax2.set_ylim(-0.002, 0.041)\n",
    "ax2.set_yticks(np.arange(0, 0.041, 0.02))\n",
    "\n",
    "for i in range(20):\n",
    "    aa = all_aa[i]\n",
    "    if aa == 'K' or aa == 'R':\n",
    "        color = cscheme['pos']\n",
    "    elif aa == 'D' or aa == 'E':\n",
    "        color = cscheme['neg']\n",
    "    else:\n",
    "        color = 'dimgrey'\n",
    "    ax1.scatter(aa, scercomp[i], marker='s', color=color, zorder=3)\n",
    "    ax2.scatter(aa, diff[i], color=color, zorder=3)\n",
    "\n",
    "#ax1.tick_params(axis='both', which='major', labelsize=12)\n",
    "#ax2.tick_params(axis='both', which='major', labelsize=12)\n",
    "fig.subplots_adjust(hspace=.4)\n",
    "plt.savefig('./plots/Figure1A.png', dpi=300, bbox_inches = \"tight\")\n",
    "plt.show()"
   ]
  },
  {
   "cell_type": "markdown",
   "metadata": {},
   "source": [
    "## 1C: Data Summary"
   ]
  },
  {
   "cell_type": "code",
   "execution_count": 18,
   "metadata": {},
   "outputs": [
    {
     "data": {
      "text/html": [
       "<div>\n",
       "<style scoped>\n",
       "    .dataframe tbody tr th:only-of-type {\n",
       "        vertical-align: middle;\n",
       "    }\n",
       "\n",
       "    .dataframe tbody tr th {\n",
       "        vertical-align: top;\n",
       "    }\n",
       "\n",
       "    .dataframe thead th {\n",
       "        text-align: right;\n",
       "    }\n",
       "</style>\n",
       "<table border=\"1\" class=\"dataframe\">\n",
       "  <thead>\n",
       "    <tr style=\"text-align: right;\">\n",
       "      <th></th>\n",
       "      <th>orf</th>\n",
       "      <th>gene</th>\n",
       "      <th>seq.len</th>\n",
       "      <th>left.bound</th>\n",
       "      <th>right.bound</th>\n",
       "      <th>region.seq</th>\n",
       "      <th>region.len</th>\n",
       "      <th>charge.asymmetry</th>\n",
       "      <th>frac.charge</th>\n",
       "      <th>uni_id</th>\n",
       "      <th>orf_label</th>\n",
       "      <th>kappa</th>\n",
       "      <th>n_K</th>\n",
       "      <th>n_R</th>\n",
       "      <th>n_E</th>\n",
       "      <th>n_D</th>\n",
       "      <th>net_charge</th>\n",
       "      <th>net_charge_per_len</th>\n",
       "    </tr>\n",
       "  </thead>\n",
       "  <tbody>\n",
       "    <tr>\n",
       "      <th>0</th>\n",
       "      <td>YAL011W</td>\n",
       "      <td>SWC3</td>\n",
       "      <td>626</td>\n",
       "      <td>5</td>\n",
       "      <td>53</td>\n",
       "      <td>RTRSKESSIEQKPASRTRTRSRRGKRGRDDDDDDDDEESDDAYDEVGND</td>\n",
       "      <td>49</td>\n",
       "      <td>0.017593</td>\n",
       "      <td>0.591837</td>\n",
       "      <td>P31376</td>\n",
       "      <td>verified</td>\n",
       "      <td>0.539053</td>\n",
       "      <td>3</td>\n",
       "      <td>9</td>\n",
       "      <td>5</td>\n",
       "      <td>12</td>\n",
       "      <td>-5</td>\n",
       "      <td>-0.102041</td>\n",
       "    </tr>\n",
       "    <tr>\n",
       "      <th>1</th>\n",
       "      <td>YAL011W</td>\n",
       "      <td>SWC3</td>\n",
       "      <td>626</td>\n",
       "      <td>169</td>\n",
       "      <td>261</td>\n",
       "      <td>RLFILKNDKIEQKWQDEQELKKKEKELKRKNDAEAKRLRMEERKRQ...</td>\n",
       "      <td>93</td>\n",
       "      <td>0.052936</td>\n",
       "      <td>0.559140</td>\n",
       "      <td>P31376</td>\n",
       "      <td>verified</td>\n",
       "      <td>0.098538</td>\n",
       "      <td>27</td>\n",
       "      <td>7</td>\n",
       "      <td>15</td>\n",
       "      <td>3</td>\n",
       "      <td>16</td>\n",
       "      <td>0.172043</td>\n",
       "    </tr>\n",
       "    <tr>\n",
       "      <th>2</th>\n",
       "      <td>YAL011W</td>\n",
       "      <td>SWC3</td>\n",
       "      <td>626</td>\n",
       "      <td>361</td>\n",
       "      <td>424</td>\n",
       "      <td>KTAATEPEPKKADDENAEKQQSKEAKTTAESTQVDVKKEEEDVKEK...</td>\n",
       "      <td>64</td>\n",
       "      <td>0.007812</td>\n",
       "      <td>0.500000</td>\n",
       "      <td>P31376</td>\n",
       "      <td>verified</td>\n",
       "      <td>0.089231</td>\n",
       "      <td>14</td>\n",
       "      <td>0</td>\n",
       "      <td>12</td>\n",
       "      <td>6</td>\n",
       "      <td>-4</td>\n",
       "      <td>-0.062500</td>\n",
       "    </tr>\n",
       "    <tr>\n",
       "      <th>3</th>\n",
       "      <td>YAL011W</td>\n",
       "      <td>SWC3</td>\n",
       "      <td>626</td>\n",
       "      <td>470</td>\n",
       "      <td>525</td>\n",
       "      <td>KSVVEFLEDTDEIIISWIVIHNSKEIEKFKTKKIKAKLKADQKLNK...</td>\n",
       "      <td>56</td>\n",
       "      <td>0.000714</td>\n",
       "      <td>0.428571</td>\n",
       "      <td>P31376</td>\n",
       "      <td>verified</td>\n",
       "      <td>0.265395</td>\n",
       "      <td>12</td>\n",
       "      <td>0</td>\n",
       "      <td>7</td>\n",
       "      <td>5</td>\n",
       "      <td>0</td>\n",
       "      <td>0.000000</td>\n",
       "    </tr>\n",
       "    <tr>\n",
       "      <th>4</th>\n",
       "      <td>YAL013W</td>\n",
       "      <td>DEP1</td>\n",
       "      <td>406</td>\n",
       "      <td>84</td>\n",
       "      <td>159</td>\n",
       "      <td>ESLKRPHEDEKEAIDEAKKMKVPGENEDESKEEEKSQELEEAIDSK...</td>\n",
       "      <td>76</td>\n",
       "      <td>0.138444</td>\n",
       "      <td>0.592105</td>\n",
       "      <td>P31385</td>\n",
       "      <td>verified</td>\n",
       "      <td>0.219047</td>\n",
       "      <td>9</td>\n",
       "      <td>2</td>\n",
       "      <td>25</td>\n",
       "      <td>9</td>\n",
       "      <td>-23</td>\n",
       "      <td>-0.302632</td>\n",
       "    </tr>\n",
       "  </tbody>\n",
       "</table>\n",
       "</div>"
      ],
      "text/plain": [
       "       orf  gene  seq.len  left.bound  right.bound  \\\n",
       "0  YAL011W  SWC3      626           5           53   \n",
       "1  YAL011W  SWC3      626         169          261   \n",
       "2  YAL011W  SWC3      626         361          424   \n",
       "3  YAL011W  SWC3      626         470          525   \n",
       "4  YAL013W  DEP1      406          84          159   \n",
       "\n",
       "                                          region.seq  region.len  \\\n",
       "0  RTRSKESSIEQKPASRTRTRSRRGKRGRDDDDDDDDEESDDAYDEVGND          49   \n",
       "1  RLFILKNDKIEQKWQDEQELKKKEKELKRKNDAEAKRLRMEERKRQ...          93   \n",
       "2  KTAATEPEPKKADDENAEKQQSKEAKTTAESTQVDVKKEEEDVKEK...          64   \n",
       "3  KSVVEFLEDTDEIIISWIVIHNSKEIEKFKTKKIKAKLKADQKLNK...          56   \n",
       "4  ESLKRPHEDEKEAIDEAKKMKVPGENEDESKEEEKSQELEEAIDSK...          76   \n",
       "\n",
       "   charge.asymmetry  frac.charge  uni_id orf_label     kappa  n_K  n_R  n_E  \\\n",
       "0          0.017593     0.591837  P31376  verified  0.539053    3    9    5   \n",
       "1          0.052936     0.559140  P31376  verified  0.098538   27    7   15   \n",
       "2          0.007812     0.500000  P31376  verified  0.089231   14    0   12   \n",
       "3          0.000714     0.428571  P31376  verified  0.265395   12    0    7   \n",
       "4          0.138444     0.592105  P31385  verified  0.219047    9    2   25   \n",
       "\n",
       "   n_D  net_charge  net_charge_per_len  \n",
       "0   12          -5           -0.102041  \n",
       "1    3          16            0.172043  \n",
       "2    6          -4           -0.062500  \n",
       "3    5           0            0.000000  \n",
       "4    9         -23           -0.302632  "
      ]
     },
     "execution_count": 18,
     "metadata": {},
     "output_type": "execute_result"
    }
   ],
   "source": [
    "charged_hits['n_K'] = charged_hits.apply(lambda row: row['region.seq'].count('K'), axis=1)\n",
    "charged_hits['n_R'] = charged_hits.apply(lambda row: row['region.seq'].count('R'), axis=1)\n",
    "charged_hits['n_E'] = charged_hits.apply(lambda row: row['region.seq'].count('E'), axis=1)\n",
    "charged_hits['n_D'] = charged_hits.apply(lambda row: row['region.seq'].count('D'), axis=1)\n",
    "\n",
    "charged_hits['net_charge'] = charged_hits.apply(lambda row: (row['n_K'] + row['n_R']) - (row['n_D'] + row['n_E']), axis=1)\n",
    "charged_hits['net_charge_per_len'] = charged_hits.apply(lambda row: row['net_charge'] / row['region.len'], axis=1)\n",
    "charged_hits.head()"
   ]
  },
  {
   "cell_type": "code",
   "execution_count": 19,
   "metadata": {},
   "outputs": [
    {
     "data": {
      "text/plain": [
       "0.4285714285714285"
      ]
     },
     "execution_count": 19,
     "metadata": {},
     "output_type": "execute_result"
    }
   ],
   "source": [
    "np.min(charged_hits['frac.charge'])"
   ]
  },
  {
   "cell_type": "code",
   "execution_count": 20,
   "metadata": {},
   "outputs": [
    {
     "data": {
      "image/png": "[encoded data removed]",
      "text/plain": [
       "<Figure size 234x244.8 with 1 Axes>"
      ]
     },
     "metadata": {
      "needs_background": "light"
     },
     "output_type": "display_data"
    }
   ],
   "source": [
    "plt.figure(figsize=(3.25, 3.4))\n",
    "sns.scatterplot(x = charged_hits['frac.charge'], y = charged_hits['net_charge_per_len'],\\\n",
    "                s=40, color=\"dimgrey\", edgecolor='none', alpha=0.3)\n",
    "plt.axhline(0, linestyle='--', color='black')\n",
    "plt.annotate(\"n = {}\".format(len(charged_hits)), xy=(0.47,-0.8), xycoords='data')\n",
    "plt.xlabel('Fraction of charged residues (FCR)')\n",
    "plt.ylabel('Net charge normalized by length')\n",
    "plt.yticks(np.arange(-0.8, 0.4, 0.2))\n",
    "plt.xticks(np.arange(0.4, 0.81, 0.2))\n",
    "plt.savefig('./plots/Figure1C.png', dpi=500, bbox_inches='tight')\n",
    "plt.show()"
   ]
  },
  {
   "cell_type": "markdown",
   "metadata": {},
   "source": [
    "## 1D: Sequence complexity"
   ]
  },
  {
   "cell_type": "code",
   "execution_count": 21,
   "metadata": {},
   "outputs": [],
   "source": [
    "fullseqs = {}\n",
    "for seq_record in SeqIO.parse(\"../data/ref_proteomes/Saccharomyces_cerevisiae.fasta\", \"fasta\"):\n",
    "    fullseqs[seq_record.id] = str(seq_record.seq)\n",
    "# Calculate complexity of charged regions and compare to randomly drawn:"
   ]
  },
  {
   "cell_type": "code",
   "execution_count": 22,
   "metadata": {},
   "outputs": [],
   "source": [
    "# Calculate complexity of charged regions and compare to randomly drawn:\n",
    "\n",
    "cr_seqs = list(charged_hits[\"region.seq\"])\n",
    "cr_complexities = []\n",
    "cr_charge_norm = []\n",
    "rd_complexities = []\n",
    "for seq in cr_seqs:\n",
    "    cr_complexities.append(calculate_seq_complexity(seq, typ='k2', norm='yeast'))\n",
    "    cr_charge_norm.append(calculate_seq_complexity(seq, typ='k2', norm='charged'))\n",
    "    seq_L = len(seq)\n",
    "    \n",
    "    random_orf = np.random.choice(list(fullseqs.keys()))\n",
    "    random_seq = fullseqs[random_orf]\n",
    "    while len(random_seq) <= seq_L+1:\n",
    "        random_orf = np.random.choice(list(fullseqs.keys()))\n",
    "        random_seq = fullseqs[random_orf]\n",
    "    try:\n",
    "        start = np.random.randint(0, high=(len(random_seq) - (seq_L + 1)))\n",
    "    except ValueError:\n",
    "        print(len(random_seq) - (seq_L + 1))\n",
    "    end = start+seq_L\n",
    "    random_region = random_seq[start:end]\n",
    "    rd_complexities.append(calculate_seq_complexity(random_region, typ='k2', norm='yeast'))"
   ]
  },
  {
   "cell_type": "code",
   "execution_count": 23,
   "metadata": {},
   "outputs": [
    {
     "data": {
      "text/plain": [
       "WilcoxonResult(statistic=63845.0, pvalue=1.385505443030021e-102)"
      ]
     },
     "execution_count": 23,
     "metadata": {},
     "output_type": "execute_result"
    }
   ],
   "source": [
    "wilcoxon(cr_charge_norm, rd_complexities)"
   ]
  },
  {
   "cell_type": "code",
   "execution_count": 24,
   "metadata": {},
   "outputs": [
    {
     "data": {
      "text/plain": [
       "MannwhitneyuResult(statistic=214762.0, pvalue=1.3820752608474529e-128)"
      ]
     },
     "execution_count": 24,
     "metadata": {},
     "output_type": "execute_result"
    }
   ],
   "source": [
    "mannwhitneyu(cr_charge_norm, rd_complexities, alternative=\"less\")"
   ]
  },
  {
   "cell_type": "code",
   "execution_count": 25,
   "metadata": {},
   "outputs": [
    {
     "name": "stdout",
     "output_type": "stream",
     "text": [
      "0.7959440135238849\n",
      "0.7065693164263049\n",
      "0.8082157483689584\n",
      "0.9791109563270282\n"
     ]
    }
   ],
   "source": [
    "#Adding LCR references\n",
    "\n",
    "# Riback and Katanski 2017 \n",
    "Pab1_lcr = \"YQQATAAAAAAAAGMPGQFMPPMFYGVMPPRGVPFNGPNPQQMNPMGGMPKNGMPPQFRNGPVYGVPPQGGFPRNANDNNQFYQQ\"\n",
    "Pab1_complexity = calculate_seq_complexity(Pab1_lcr, typ='k2', norm='yeast')\n",
    "print(Pab1_complexity)\n",
    "\n",
    "# https://www.uniprot.org/uniprot/P05453\n",
    "Sup35_prd = \"NQGNNQQNYQQYSQNGNQQQGNNRYQGYQAYNAQAQPAGGYYQNYQGYSGYQQGGYQQYNPDAGYQQQYNPQGGYQQYNPQGGYQQQFNPQGGRGNYKNFNYNNNLQGYQAGFQPQSQGMSLNDFQKQQKQ\"\n",
    "Sup35_prd_complexity = calculate_seq_complexity(Sup35_prd, typ='k2', norm='yeast')\n",
    "print(Sup35_prd_complexity)\n",
    "Sup35_charged = \"KPKKTLKLVSSSGIKLANATKKVGTKPAESDKKEEEKSAETKEPTKEPTKVEEPVKKEEKPVQTEEKTEEKSELPKVEDLKISESTHNTNNANVTSADALIKEQEEEVDDE\"\n",
    "Sup35_charged_complexity = calculate_seq_complexity(Sup35_charged, typ='k2', norm=\"yeast\")\n",
    "print(Sup35_charged_complexity)\n",
    "\n",
    "# https://www.uniprot.org/uniprot/P60010\n",
    "actin = \"MDSEVAALVIDNGSGMCKAGFAGDDAPRAVFPSIVGRPRHQGIMVGMGQKDSYVGDEAQSKRGILTLRYPIEHGIVTNWDDMEKIWHHTFYNELRVAPEEHPVLLTEAPMNPKSNREKMTQIMFETFNVPAFYVSIQAVLSLYSSGRTTGIVLDSGDGVTHVVPIYAGFSLPHAILRIDLAGRDLTDYLMKILSERGYSFSTTAEREIVRDIKEKLCYVALDFEQEMQTAAQSSSIEKSYELPDGQVITIGNERFRAPEALFHPSVLGLESAGIDQTTYNSIMKCDVDVRKELYGNIVMSGGTTMFPGIAERMQKEITALAPSSMKVKIIAPPERKYSVWIGGSILASLTTFQQMWISKQEYDESGPSIVHHKCF\"\n",
    "start = np.random.choice(np.arange(len(actin)-len(Sup35_prd)-1))\n",
    "actin_sub = actin[start:start+len(Sup35_prd)]\n",
    "actin_complexity = calculate_seq_complexity(actin_sub, typ='k2', norm='yeast')\n",
    "print(actin_complexity)"
   ]
  },
  {
   "cell_type": "code",
   "execution_count": 34,
   "metadata": {},
   "outputs": [
    {
     "data": {
      "image/png": "[encoded data removed]",
      "text/plain": [
       "<Figure size 237.6x158.4 with 1 Axes>"
      ]
     },
     "metadata": {
      "needs_background": "light"
     },
     "output_type": "display_data"
    }
   ],
   "source": [
    "fig, ax = plt.subplots(figsize=(3.3, 2.2))\n",
    "\n",
    "ax.plot(np.sort(rd_complexities), np.linspace(0, 1, len(rd_complexities), endpoint=False),\n",
    "        label='Random,\\nproteome-\\nnormalized', linewidth=2, color = cscheme['dis'])\n",
    "ax.plot(np.sort(cr_complexities), np.linspace(0, 1, len(cr_complexities), endpoint=False),\n",
    "        label=\"Charged,\\nproteome-\\nnormalized\", linewidth=2, color = 'black')\n",
    "ax.plot(np.sort(cr_charge_norm), np.linspace(0, 1, len(cr_charge_norm), endpoint=False),\n",
    "        label=\"Charged,\\ncharged-\\nnormalized\", linewidth=2, color = cscheme['cr'])\n",
    "\n",
    "ax.annotate('Pab1\\nLCR', ha='center', va='center',\n",
    "            xy=(Pab1_complexity, 1.18), annotation_clip=False)\n",
    "ax.axvline(Pab1_complexity, linestyle='--', color='black')\n",
    "\n",
    "ax.annotate('Sup35\\nPrD', ha='center', va='center',\n",
    "            xy=(Sup35_prd_complexity, 1.18), annotation_clip=False)\n",
    "ax.axvline(Sup35_prd_complexity, linestyle='--', color='black')\n",
    "\n",
    "ax.annotate('Actin', ha='center', va='center',\n",
    "            xy=(actin_complexity, 1.14), annotation_clip=False)\n",
    "ax.axvline(actin_complexity, linestyle='--', color='black')\n",
    "\n",
    "plt.legend(handlelength=0.8, columnspacing=1, ncol=3,\n",
    "           bbox_to_anchor=(-0.16, 1.6), loc='upper left', fontsize=10, frameon=False)\n",
    "plt.xlabel(\"Complexity (Shannon entropy)\")\n",
    "plt.ylabel(\"Cumulative proportion\")\n",
    "plt.xlim((.6, 1))\n",
    "plt.savefig('./plots/Figure1D.png', dpi=500, bbox_inches='tight')\n",
    "plt.show()"
   ]
  },
  {
   "cell_type": "markdown",
   "metadata": {},
   "source": [
    "## 1E: Hydropathy"
   ]
  },
  {
   "cell_type": "code",
   "execution_count": 27,
   "metadata": {},
   "outputs": [],
   "source": [
    "# Calculate scaled hydropathy\n",
    "kd_scale = {\"A\": 1.8, \"R\": -4.5, \"N\": -3.5, \"D\": -3.5, \"C\": 2.5, \"E\": -3.5,\n",
    "            \"Q\": -3.5, \"G\": -0.4, \"H\": -3.2, \"I\": 4.5, \"L\": 3.8, \"K\": -3.9,\n",
    "            \"M\": 1.9, \"F\": 2.8, \"P\": -1.6, \"S\": -0.8, \"T\": -0.7, \"W\": -0.9,\n",
    "            \"Y\": -1.3, \"V\": 4.2}\n",
    "\n",
    "vals = list(kd_scale.values())\n",
    "scaled_vals = [v-np.min(vals) for v in vals]\n",
    "\n",
    "\n",
    "kd_scale_norm = {}\n",
    "for k in kd_scale.keys():\n",
    "    kd_scale_norm[k] = (kd_scale[k] - np.min(vals)) / np.max(scaled_vals)"
   ]
  },
  {
   "cell_type": "code",
   "execution_count": 28,
   "metadata": {},
   "outputs": [],
   "source": [
    "# Calculate hydropathy of charged regions and compare to randomly drawn:\n",
    "\n",
    "cr_seqs = list(charged_hits[\"region.seq\"])\n",
    "cr_hydropathy = []\n",
    "rd_hydropathy = []\n",
    "for seq in cr_seqs:\n",
    "    cr_hydropathy.append(cp.calculate_hydropathy(seq, scale=\"kd_norm\"))\n",
    "    seq_L = len(seq)\n",
    "    \n",
    "    random_orf = np.random.choice(list(fullseqs.keys()))\n",
    "    random_seq = fullseqs[random_orf]\n",
    "    while len(random_seq) <= seq_L+1:\n",
    "        random_orf = np.random.choice(list(fullseqs.keys()))\n",
    "        random_seq = fullseqs[random_orf]\n",
    "    try:\n",
    "        start = np.random.randint(0, high=(len(random_seq) - (seq_L + 1)))\n",
    "    except ValueError:\n",
    "        print(len(random_seq) - (seq_L + 1))\n",
    "    end = start+seq_L\n",
    "    random_region = random_seq[start:end]\n",
    "    rd_hydropathy.append(cp.calculate_hydropathy(random_region, scale=\"kd_norm\"))"
   ]
  },
  {
   "cell_type": "code",
   "execution_count": 29,
   "metadata": {},
   "outputs": [
    {
     "name": "stdout",
     "output_type": "stream",
     "text": [
      "0.4256209150326798\n",
      "0.28507209499575914\n",
      "0.4842239185750637\n"
     ]
    }
   ],
   "source": [
    "#Adding LCR references\n",
    "\n",
    "# Riback and Katanski 2017 \n",
    "Pab1_lcr = \"YQQATAAAAAAAAGMPGQFMPPMFYGVMPPRGVPFNGPNPQQMNPMGGMPKNGMPPQFRNGPVYGVPPQGGFPRNANDNNQFYQQ\"\n",
    "Pab1_hydropathy = cp.calculate_hydropathy(Pab1_lcr, scale=\"kd_norm\")\n",
    "print(Pab1_hydropathy)\n",
    "\n",
    "# https://www.uniprot.org/uniprot/P05453\n",
    "Sup35_prd = \"NQGNNQQNYQQYSQNGNQQQGNNRYQGYQAYNAQAQPAGGYYQNYQGYSGYQQGGYQQYNPDAGYQQQYNPQGGYQQYNPQGGYQQQFNPQGGRGNYKNFNYNNNLQGYQAGFQPQSQGMSLNDFQKQQKQ\"\n",
    "Sup35_prd_hydropathy = cp.calculate_hydropathy(Sup35_prd, scale=\"kd_norm\")\n",
    "print(Sup35_prd_hydropathy)\n",
    "\n",
    "# https://www.uniprot.org/uniprot/P60010\n",
    "actin = \"MDSEVAALVIDNGSGMCKAGFAGDDAPRAVFPSIVGRPRHQGIMVGMGQKDSYVGDEAQSKRGILTLRYPIEHGIVTNWDDMEKIWHHTFYNELRVAPEEHPVLLTEAPMNPKSNREKMTQIMFETFNVPAFYVSIQAVLSLYSSGRTTGIVLDSGDGVTHVVPIYAGFSLPHAILRIDLAGRDLTDYLMKILSERGYSFSTTAEREIVRDIKEKLCYVALDFEQEMQTAAQSSSIEKSYELPDGQVITIGNERFRAPEALFHPSVLGLESAGIDQTTYNSIMKCDVDVRKELYGNIVMSGGTTMFPGIAERMQKEITALAPSSMKVKIIAPPERKYSVWIGGSILASLTTFQQMWISKQEYDESGPSIVHHKCF\"\n",
    "start = np.random.choice(np.arange(len(actin)-len(Sup35_prd)-1))\n",
    "actin_sub = actin[start:start+len(Sup35_prd)]\n",
    "actin_hydropathy = cp.calculate_hydropathy(actin_sub, scale=\"kd_norm\")\n",
    "print(actin_hydropathy)"
   ]
  },
  {
   "cell_type": "code",
   "execution_count": 40,
   "metadata": {},
   "outputs": [
    {
     "data": {
      "image/png": "[encoded data removed]",
      "text/plain": [
       "<Figure size 237.6x158.4 with 1 Axes>"
      ]
     },
     "metadata": {
      "needs_background": "light"
     },
     "output_type": "display_data"
    }
   ],
   "source": [
    "fig, ax = plt.subplots(figsize=(3.3,2.2))\n",
    "\n",
    "ax.plot(np.sort(rd_hydropathy), np.linspace(0, 1, len(rd_hydropathy), endpoint=False),\n",
    "        label='Random regions', linewidth=2, color = cscheme['dis'])\n",
    "ax.plot(np.sort(cr_hydropathy), np.linspace(0, 1, len(cr_hydropathy), endpoint=False),\n",
    "        label=\"Charged regions\", linewidth=2, color = cscheme['cr'])\n",
    "#ax.plot(np.sort(cr_charge_norm), np.linspace(0, 1, len(cr_charge_norm), endpoint=False),\n",
    "#        label=\"Charged regions\\n(charged-normalized)\", linewidth=2, color = cscheme['cr'])\n",
    "ax.annotate('Pab1\\nLCR', ha='center', va='center',\n",
    "            xy=(Pab1_hydropathy-0.011, 1.18), annotation_clip=False)\n",
    "ax.axvline(Pab1_hydropathy, linestyle='--', color='black')\n",
    "\n",
    "ax.annotate('Sup35\\nPrD', ha='center', va='center',\n",
    "            xy=(Sup35_prd_hydropathy, 1.18), annotation_clip=False)\n",
    "ax.axvline(Sup35_prd_hydropathy, linestyle='--', color='black')\n",
    "\n",
    "ax.annotate('Actin', ha='center', va='center',\n",
    "            xy=(actin_hydropathy+0.02, 1.13), annotation_clip=False)\n",
    "ax.axvline(actin_hydropathy, linestyle='--', color='black')\n",
    "\n",
    "plt.legend(handlelength=1, ncol=2,\n",
    "           bbox_to_anchor=(-0.14, 1.45), loc='upper left', fontsize=10, frameon=False)\n",
    "plt.xlabel(\"Normalized mean hydropathy\")\n",
    "plt.ylabel(\"Cumulative proportion\")\n",
    "#plt.xlim((0.65, 1))\n",
    "plt.savefig('./plots/Figure1E.png', dpi=500, bbox_inches='tight')\n",
    "plt.show()"
   ]
  },
  {
   "cell_type": "code",
   "execution_count": null,
   "metadata": {},
   "outputs": [],
   "source": []
  }
 ],
 "metadata": {
  "kernelspec": {
   "display_name": "Python 3.9.12 ('env_hcr')",
   "language": "python",
   "name": "python3"
  },
  "language_info": {
   "codemirror_mode": {
    "name": "ipython",
    "version": 3
   },
   "file_extension": ".py",
   "mimetype": "text/x-python",
   "name": "python",
   "nbconvert_exporter": "python",
   "pygments_lexer": "ipython3",
   "version": "3.9.12"
  },
  "vscode": {
   "interpreter": {
    "hash": "cf9c92407ea329efb8c9016a715d7811f432985378f61b50691b48c8c409138b"
   }
  }
 },
 "nbformat": 4,
 "nbformat_minor": 4
}
