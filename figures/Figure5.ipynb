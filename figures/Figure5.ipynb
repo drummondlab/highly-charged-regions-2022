{
 "cells": [
  {
   "cell_type": "markdown",
   "metadata": {},
   "source": [
    "# Figure 5"
   ]
  },
  {
   "cell_type": "code",
   "execution_count": 61,
   "metadata": {},
   "outputs": [],
   "source": [
    "import sys\n",
    "sys.path.insert(1, '../../code/scripts')"
   ]
  },
  {
   "cell_type": "code",
   "execution_count": 2,
   "metadata": {},
   "outputs": [],
   "source": [
    "## Basics\n",
    "import numpy as np\n",
    "import pandas as pd\n",
    "import glob\n",
    "import mdtraj as md\n",
    "import random\n",
    "from scipy import stats\n",
    "from scipy.special import logit\n",
    "from sklearn.neighbors import KernelDensity\n",
    "from statsmodels.distributions.empirical_distribution import ECDF\n",
    "\n",
    "## Bio functions\n",
    "from Bio import AlignIO\n",
    "from Bio import SeqIO\n",
    "\n",
    "## Local functions\n",
    "import sys\n",
    "sys.path.append(\"../code/scripts\")\n",
    "import alignment_quality as aq\n",
    "import chargepatterns as cp\n",
    "import composition as comp\n",
    "import crutil\n",
    "import fractional_charge as fc\n",
    "\n",
    "## Plotting\n",
    "import matplotlib.pyplot as plt\n",
    "import seaborn as sns\n",
    "plt.rcParams.update({'font.size': 14})\n",
    "plt.rcParams['font.family'] = 'sans-serif'\n",
    "plt.rcParams['font.sans-serif'] = \"Arial\"\n",
    "\n",
    "## Colors\n",
    "cscheme = {'pos':'#0177BB', 'neg':'#CB3627', 'dis':'#828282', 'helix':'#009988', 'sheet':'#EE7733', 'cr':'#AA4499',\n",
    "          'null':\"black\"}\n",
    "\n",
    "## Set seed for consistency\n",
    "### In the future when writing code with random remember to use new methods which explicitly create generators\n",
    "seed = 212121"
   ]
  },
  {
   "cell_type": "code",
   "execution_count": 3,
   "metadata": {},
   "outputs": [],
   "source": [
    "def comp_to_dict(c):\n",
    "    d = {}\n",
    "    for i,aa in enumerate(comp.aas):\n",
    "        d[aa] = c[i]\n",
    "    return d"
   ]
  },
  {
   "cell_type": "markdown",
   "metadata": {},
   "source": [
    "## A"
   ]
  },
  {
   "cell_type": "code",
   "execution_count": 4,
   "metadata": {},
   "outputs": [],
   "source": [
    "df = pd.read_csv('../data/aln_quality/aln_quality_hits.csv')\n",
    "df_random = pd.read_csv('../data/aln_quality/aln_quality_random.csv')\n",
    "df_disprot = pd.read_csv('../data/aln_quality/aln_quality_disprot.csv')"
   ]
  },
  {
   "cell_type": "code",
   "execution_count": 5,
   "metadata": {},
   "outputs": [],
   "source": [
    "hits_aq = np.asarray(df['gappiness'].tolist())\n",
    "idr_aq = np.asarray(df_disprot['gappiness'].tolist())\n",
    "rand_aq = np.asarray(df['gappiness_null'].tolist())\n",
    "rand_aq2 = np.asarray(df_random['gappiness'].tolist())"
   ]
  },
  {
   "cell_type": "code",
   "execution_count": 6,
   "metadata": {},
   "outputs": [],
   "source": [
    "hits_sd = np.asarray(df['seq_div'].tolist())\n",
    "idr_sd = np.asarray(df_disprot['seq_div'].tolist())\n",
    "rand_sd = np.asarray(df['seq_div_null'].tolist())\n",
    "rand_sd2 = np.asarray(df_random['seq_div'].tolist())"
   ]
  },
  {
   "cell_type": "code",
   "execution_count": 43,
   "metadata": {},
   "outputs": [
    {
     "data": {
      "image/png": "[encoded data removed]",
      "text/plain": [
       "<Figure size 360x180 with 2 Axes>"
      ]
     },
     "metadata": {
      "needs_background": "light"
     },
     "output_type": "display_data"
    }
   ],
   "source": [
    "fig, axes = plt.subplots(1, 2, sharey=True, figsize=(5,2.5))\n",
    "ax1, ax2 = axes[0], axes[1]\n",
    "\n",
    "sns.ecdfplot(hits_aq, color=cscheme['cr'],\n",
    "             label='Highly charged', ax=ax1)\n",
    "sns.ecdfplot(idr_aq, color=cscheme['dis'],\n",
    "             label='DisProt', ax=ax1)\n",
    "sns.ecdfplot(rand_aq, color=cscheme['null'],\n",
    "             label='Random', ax=ax1)\n",
    "ax1.set_xlabel('Mean frequency of gaps')\n",
    "ax1.set_ylabel('Cumulative proportion')\n",
    "ax1.set_yticks(np.arange(0, 1.1, 0.2))\n",
    "\n",
    "sns.ecdfplot(hits_sd, color=cscheme['cr'], \n",
    "             label='Highly charged', ax=ax2)\n",
    "sns.ecdfplot(idr_sd, color=cscheme['dis'], \n",
    "             label='DisProt', ax=ax2)\n",
    "sns.ecdfplot(rand_sd, color=cscheme['null'],\n",
    "             label='Random', ax=ax2)\n",
    "ax2.set_xlabel('Sequence divergence')\n",
    "\n",
    "ax1.legend(ncol=3, frameon=False, handletextpad=0.5, handlelength=1, columnspacing=1,\n",
    "           bbox_to_anchor=(2.32, 1.25))\n",
    "plt.savefig('./plots/Figure4A.png', dpi=300, bbox_inches='tight')\n",
    "plt.show()"
   ]
  },
  {
   "cell_type": "markdown",
   "metadata": {},
   "source": [
    "## B"
   ]
  },
  {
   "cell_type": "code",
   "execution_count": 8,
   "metadata": {},
   "outputs": [],
   "source": [
    "aybrah = ['Rhodotorula graminis',\n",
    "        'Saitoella complicata',\n",
    "        'Schizosaccharomyces pombe',\n",
    "        'Aspergillus niger',\n",
    "        'Neurospora crassa',\n",
    "        'Trichoderma reesei',\n",
    "        'Lipomyces starkeyi',\n",
    "        'Yarrowia lipolytica',\n",
    "        'Blastobotrys adeninivorans',\n",
    "        'Nadsonia fulvescens',\n",
    "        'Ascoidea rubescens',\n",
    "        'Pachysolen tannophilus',\n",
    "        'Komagataella phaffii',\n",
    "        'Kuraishia capsulata',\n",
    "        'Ogataea arabinofermentans',\n",
    "        'Ogataea parapolymorpha',\n",
    "        'Dekkera bruxellensis',\n",
    "        'Pichia membranifaciens',\n",
    "        'Pichia kudriavzevii',\n",
    "        'Babjeviella inositovora',\n",
    "        'Metschnikowia bicuspidata',\n",
    "        'Meyerozyma guilliermondii',\n",
    "        'Debaryomyces hansenii',\n",
    "        'Scheffersomyces stipitis',\n",
    "        'Spathaspora passalidarum',\n",
    "        'Wickerhamomyces anomalus',\n",
    "        'Cyberlindnera jadinii',\n",
    "        'Hanseniaspora valbyensis',\n",
    "        'Kluyveromyces lactis',\n",
    "        'Lachancea thermotolerans',\n",
    "        'Zygosaccharomyces rouxii',\n",
    "        'Saccharomyces cerevisiae',\n",
    "        'Vanderwaltozyma polyspora']"
   ]
  },
  {
   "cell_type": "code",
   "execution_count": 9,
   "metadata": {},
   "outputs": [],
   "source": [
    "AA_groups = {'charged': ['R', 'K', 'D', 'E'],\n",
    "             'polar': ['Q', 'N', 'S', 'T', 'G', 'H'],\n",
    "             'nonpolar': ['M', 'V', 'I', 'L'],\n",
    "             'aromatic': ['F', 'Y', 'W'],\n",
    "             'small': ['P', 'A', 'C']}"
   ]
  },
  {
   "cell_type": "code",
   "execution_count": 10,
   "metadata": {},
   "outputs": [],
   "source": [
    "comp_dict = {}\n",
    "for species in aybrah:\n",
    "    name = species.split(' ')\n",
    "    filepath = '../data/ref_proteomes/' + name[0] + '_' + name[1] + '.fasta'\n",
    "    prot = []\n",
    "    for record in SeqIO.parse(filepath, \"fasta\"):\n",
    "        prot.append(record)\n",
    "    \n",
    "    c = np.zeros(20)\n",
    "    for orf in prot:\n",
    "        seq = str(orf.seq).replace('*', '').replace('X', '')\n",
    "        c = np.add(c, comp.get_composition(seq, comp.aas))\n",
    "    c = np.divide(c, len(prot))\n",
    "    d = comp_to_dict(c)\n",
    "    comp_dict[species] = d"
   ]
  },
  {
   "cell_type": "code",
   "execution_count": 11,
   "metadata": {},
   "outputs": [],
   "source": [
    "df_dict = []\n",
    "for species in aybrah:\n",
    "    c = comp_dict[species]\n",
    "    for group, AAs in AA_groups.items():\n",
    "        rv = {}\n",
    "        rv['AA_group'] = group\n",
    "        rv['proportion'] = 0\n",
    "        for AA in AAs:\n",
    "            rv['proportion'] += c[AA]\n",
    "        rv['log.odds'] = logit(rv['proportion'])\n",
    "        df_dict.append(rv)"
   ]
  },
  {
   "cell_type": "code",
   "execution_count": 12,
   "metadata": {},
   "outputs": [],
   "source": [
    "df = pd.DataFrame.from_records(df_dict)"
   ]
  },
  {
   "cell_type": "code",
   "execution_count": 13,
   "metadata": {},
   "outputs": [
    {
     "data": {
      "text/html": [
       "<div>\n",
       "<style scoped>\n",
       "    .dataframe tbody tr th:only-of-type {\n",
       "        vertical-align: middle;\n",
       "    }\n",
       "\n",
       "    .dataframe tbody tr th {\n",
       "        vertical-align: top;\n",
       "    }\n",
       "\n",
       "    .dataframe thead tr th {\n",
       "        text-align: left;\n",
       "    }\n",
       "</style>\n",
       "<table border=\"1\" class=\"dataframe\">\n",
       "  <thead>\n",
       "    <tr>\n",
       "      <th></th>\n",
       "      <th>AA_group</th>\n",
       "      <th>proportion</th>\n",
       "      <th>log.odds</th>\n",
       "    </tr>\n",
       "    <tr>\n",
       "      <th></th>\n",
       "      <th></th>\n",
       "      <th>var</th>\n",
       "      <th>var</th>\n",
       "    </tr>\n",
       "  </thead>\n",
       "  <tbody>\n",
       "    <tr>\n",
       "      <th>0</th>\n",
       "      <td>aromatic</td>\n",
       "      <td>0.000036</td>\n",
       "      <td>0.006177</td>\n",
       "    </tr>\n",
       "    <tr>\n",
       "      <th>1</th>\n",
       "      <td>charged</td>\n",
       "      <td>0.000058</td>\n",
       "      <td>0.001766</td>\n",
       "    </tr>\n",
       "    <tr>\n",
       "      <th>2</th>\n",
       "      <td>nonpolar</td>\n",
       "      <td>0.000081</td>\n",
       "      <td>0.002603</td>\n",
       "    </tr>\n",
       "    <tr>\n",
       "      <th>3</th>\n",
       "      <td>polar</td>\n",
       "      <td>0.000071</td>\n",
       "      <td>0.001533</td>\n",
       "    </tr>\n",
       "    <tr>\n",
       "      <th>4</th>\n",
       "      <td>small</td>\n",
       "      <td>0.000538</td>\n",
       "      <td>0.040027</td>\n",
       "    </tr>\n",
       "  </tbody>\n",
       "</table>\n",
       "</div>"
      ],
      "text/plain": [
       "   AA_group proportion  log.odds\n",
       "                   var       var\n",
       "0  aromatic   0.000036  0.006177\n",
       "1   charged   0.000058  0.001766\n",
       "2  nonpolar   0.000081  0.002603\n",
       "3     polar   0.000071  0.001533\n",
       "4     small   0.000538  0.040027"
      ]
     },
     "execution_count": 13,
     "metadata": {},
     "output_type": "execute_result"
    }
   ],
   "source": [
    "df_agg = df.groupby('AA_group').agg([\"var\"]).reset_index()\n",
    "df_agg"
   ]
  },
  {
   "cell_type": "code",
   "execution_count": 14,
   "metadata": {},
   "outputs": [],
   "source": [
    "sorter = ['charged', 'polar', 'nonpolar', 'aromatic', 'small']"
   ]
  },
  {
   "cell_type": "code",
   "execution_count": 15,
   "metadata": {},
   "outputs": [
    {
     "name": "stderr",
     "output_type": "stream",
     "text": [
      "/Users/rosalindpan/opt/anaconda3/envs/env_hcr/lib/python3.9/site-packages/pandas/core/arrays/categorical.py:2747: FutureWarning: The `inplace` parameter in pandas.Categorical.set_categories is deprecated and will be removed in a future version. Removing unused categories will always return a new Categorical object.\n",
      "  res = method(*args, **kwargs)\n"
     ]
    }
   ],
   "source": [
    "df_agg.AA_group = df.AA_group.astype(\"category\")\n",
    "df_agg.AA_group.cat.set_categories(sorter, inplace=True)"
   ]
  },
  {
   "cell_type": "code",
   "execution_count": 44,
   "metadata": {},
   "outputs": [
    {
     "data": {
      "image/png": "[encoded data removed]",
      "text/plain": [
       "<Figure size 252x230.4 with 1 Axes>"
      ]
     },
     "metadata": {
      "needs_background": "light"
     },
     "output_type": "display_data"
    }
   ],
   "source": [
    "fig, ax = plt.subplots(figsize=(3.5,3.2))\n",
    "\n",
    "ax.hlines(y=range(1,6), xmin=0, xmax=df_agg.iloc[:, 2]*1e2, color='black')\n",
    "ax.plot(df_agg.iloc[:, 2]*1e2, range(1,6), \"o\", color='black')\n",
    "ax.axvline(0, color='red')\n",
    "\n",
    "ax.set_yticks(range(1, 6))\n",
    "ax.set_yticklabels(['aromatic (FYW)', 'charged (RKED)', 'aliphatic (MVIL)', 'polar (QNSTG)', 'small (PAC)'])\n",
    "plt.xlabel('Variability (variance of\\n log odds frequency, $\\\\times 10^{-2}$)')\n",
    "\n",
    "plt.gca().get_yticklabels()[1].set_color(cscheme['cr'])\n",
    "plt.gca().get_yticklabels()[1].set_fontweight('bold')\n",
    "\n",
    "plt.tight_layout()\n",
    "plt.savefig('./plots/Figure4B.png', dpi=300, bbox_inches='tight')\n",
    "plt.show()"
   ]
  },
  {
   "cell_type": "markdown",
   "metadata": {},
   "source": [
    "## C"
   ]
  },
  {
   "cell_type": "code",
   "execution_count": 17,
   "metadata": {},
   "outputs": [],
   "source": [
    "# Data and filepaths\n",
    "df = pd.read_csv(\"../data/charged_regions/cr_trimmed_filtered_goodmsa.csv\", comment='#')\n",
    "\n",
    "aybrah_path = '/Users/rosalindpan/drummondlab/hcrpaper_data/aybrah-all/'"
   ]
  },
  {
   "cell_type": "code",
   "execution_count": 18,
   "metadata": {},
   "outputs": [],
   "source": [
    "# Helper functions\n",
    "\n",
    "def filter_msa(msa, cutoff, how=\"length\"):\n",
    "    \"\"\"\n",
    "    Given an msa, filter out all the entries that are less than a certain length.\n",
    "    \"\"\"\n",
    "    filtered_msa = []\n",
    "    for record in msa:\n",
    "        rlen = len(str(record.seq).replace('-', ''))\n",
    "        if rlen > cutoff:\n",
    "            filtered_msa.append(record)\n",
    "            \n",
    "    return(filtered_msa)\n",
    "\n",
    "def COV(x, absolute=True):\n",
    "    \"\"\"\n",
    "    Given a interable of values, return the coefficient of variation of those values.\n",
    "    \"\"\"\n",
    "    std = np.sqrt(np.nanvar(x))\n",
    "    if not absolute:\n",
    "        return(std / np.nanmean(x))\n",
    "    else:\n",
    "        return(std / np.abs(np.nanmean(x)))"
   ]
  },
  {
   "cell_type": "code",
   "execution_count": 19,
   "metadata": {},
   "outputs": [],
   "source": [
    "def compute_region_fcr(msa):\n",
    "    \"\"\"\n",
    "    Given an msa, extract the mean fraction of charged residues (FCR) of all the sequences in the msa\n",
    "    \"\"\"\n",
    "    fcrs = []\n",
    "    for record in msa:\n",
    "        seq = str(record.seq).replace('-',\"\")\n",
    "        fcrs.append(cp.fraction_charged(seq))\n",
    "    return np.mean(fcrs)\n",
    "\n",
    "def compute_region_fcr_var(msa, cov=False):\n",
    "    \"\"\"\n",
    "    Given an msa, extract the variance in the fraction of charged residues (FCR) of all the sequences in the msa\n",
    "    \"\"\"\n",
    "    fcrs = []\n",
    "    for record in msa:\n",
    "        seq = str(record.seq).replace('-',\"\")\n",
    "        fcrs.append(cp.fraction_charged(seq))\n",
    "    if not cov:\n",
    "        return np.var(fcrs)\n",
    "    else:\n",
    "        return COV(fcrs)\n",
    "    \n",
    "def get_row_charge_props(row, filter_cutoff=30):\n",
    "    orf = row['orf']  \n",
    "    refseq = row['region.seq']\n",
    "    left_bound = row['left.bound']\n",
    "    right_bound = row['right.bound']\n",
    "    # Read MSA for the orf in question\n",
    "    msa = AlignIO.read(open(aybrah_path+str(orf)+'-aybrah.fa'), \"fasta\")\n",
    "    # Get just the region in question\n",
    "    region_msa = aq.extract_region_msa(msa, left_bound, right_bound, refseq=refseq)\n",
    "    # Filter the msa for very short and empty regions\n",
    "    region_msa = filter_msa(region_msa, cutoff=filter_cutoff)\n",
    "    msa_len = len(region_msa)\n",
    "    if msa_len < 10:\n",
    "        out = np.empty(3)\n",
    "        out[:] = np.NaN\n",
    "        return pd.Series(out)\n",
    "    \n",
    "    # Calculate charge properties\n",
    "    region_mean_fcr = compute_region_fcr(region_msa)\n",
    "    region_fcr_var = compute_region_fcr_var(region_msa)\n",
    "    region_fcr_cov = compute_region_fcr_var(region_msa, cov=True)\n",
    "    \n",
    "    return pd.Series([region_mean_fcr, region_fcr_var, region_fcr_cov])"
   ]
  },
  {
   "cell_type": "code",
   "execution_count": 20,
   "metadata": {},
   "outputs": [
    {
     "data": {
      "text/html": [
       "<div>\n",
       "<style scoped>\n",
       "    .dataframe tbody tr th:only-of-type {\n",
       "        vertical-align: middle;\n",
       "    }\n",
       "\n",
       "    .dataframe tbody tr th {\n",
       "        vertical-align: top;\n",
       "    }\n",
       "\n",
       "    .dataframe thead th {\n",
       "        text-align: right;\n",
       "    }\n",
       "</style>\n",
       "<table border=\"1\" class=\"dataframe\">\n",
       "  <thead>\n",
       "    <tr style=\"text-align: right;\">\n",
       "      <th></th>\n",
       "      <th>orf</th>\n",
       "      <th>gene</th>\n",
       "      <th>seq.len</th>\n",
       "      <th>left.bound</th>\n",
       "      <th>right.bound</th>\n",
       "      <th>region.seq</th>\n",
       "      <th>region.len</th>\n",
       "      <th>charge.asymmetry</th>\n",
       "      <th>frac.charge</th>\n",
       "      <th>uni_id</th>\n",
       "      <th>orf_label</th>\n",
       "      <th>kappa</th>\n",
       "      <th>aybrah.mean.fcr</th>\n",
       "      <th>aybrah.fcr.var</th>\n",
       "      <th>aybrah.fcr.cov</th>\n",
       "    </tr>\n",
       "  </thead>\n",
       "  <tbody>\n",
       "    <tr>\n",
       "      <th>0</th>\n",
       "      <td>YAL011W</td>\n",
       "      <td>SWC3</td>\n",
       "      <td>626</td>\n",
       "      <td>5</td>\n",
       "      <td>53</td>\n",
       "      <td>RTRSKESSIEQKPASRTRTRSRRGKRGRDDDDDDDDEESDDAYDEVGND</td>\n",
       "      <td>49</td>\n",
       "      <td>0.017593</td>\n",
       "      <td>0.591837</td>\n",
       "      <td>P31376</td>\n",
       "      <td>verified</td>\n",
       "      <td>0.539053</td>\n",
       "      <td>0.347933</td>\n",
       "      <td>0.016456</td>\n",
       "      <td>0.368693</td>\n",
       "    </tr>\n",
       "    <tr>\n",
       "      <th>1</th>\n",
       "      <td>YAL011W</td>\n",
       "      <td>SWC3</td>\n",
       "      <td>626</td>\n",
       "      <td>169</td>\n",
       "      <td>261</td>\n",
       "      <td>RLFILKNDKIEQKWQDEQELKKKEKELKRKNDAEAKRLRMEERKRQ...</td>\n",
       "      <td>93</td>\n",
       "      <td>0.052936</td>\n",
       "      <td>0.559140</td>\n",
       "      <td>P31376</td>\n",
       "      <td>verified</td>\n",
       "      <td>0.098538</td>\n",
       "      <td>0.414206</td>\n",
       "      <td>0.020280</td>\n",
       "      <td>0.343808</td>\n",
       "    </tr>\n",
       "    <tr>\n",
       "      <th>2</th>\n",
       "      <td>YAL011W</td>\n",
       "      <td>SWC3</td>\n",
       "      <td>626</td>\n",
       "      <td>361</td>\n",
       "      <td>424</td>\n",
       "      <td>KTAATEPEPKKADDENAEKQQSKEAKTTAESTQVDVKKEEEDVKEK...</td>\n",
       "      <td>64</td>\n",
       "      <td>0.007812</td>\n",
       "      <td>0.500000</td>\n",
       "      <td>P31376</td>\n",
       "      <td>verified</td>\n",
       "      <td>0.089231</td>\n",
       "      <td>0.391627</td>\n",
       "      <td>0.016703</td>\n",
       "      <td>0.330008</td>\n",
       "    </tr>\n",
       "    <tr>\n",
       "      <th>3</th>\n",
       "      <td>YAL011W</td>\n",
       "      <td>SWC3</td>\n",
       "      <td>626</td>\n",
       "      <td>470</td>\n",
       "      <td>525</td>\n",
       "      <td>KSVVEFLEDTDEIIISWIVIHNSKEIEKFKTKKIKAKLKADQKLNK...</td>\n",
       "      <td>56</td>\n",
       "      <td>0.000714</td>\n",
       "      <td>0.428571</td>\n",
       "      <td>P31376</td>\n",
       "      <td>verified</td>\n",
       "      <td>0.265395</td>\n",
       "      <td>0.461596</td>\n",
       "      <td>0.007704</td>\n",
       "      <td>0.190149</td>\n",
       "    </tr>\n",
       "    <tr>\n",
       "      <th>4</th>\n",
       "      <td>YAL013W</td>\n",
       "      <td>DEP1</td>\n",
       "      <td>406</td>\n",
       "      <td>84</td>\n",
       "      <td>159</td>\n",
       "      <td>ESLKRPHEDEKEAIDEAKKMKVPGENEDESKEEEKSQELEEAIDSK...</td>\n",
       "      <td>76</td>\n",
       "      <td>0.138444</td>\n",
       "      <td>0.592105</td>\n",
       "      <td>P31385</td>\n",
       "      <td>verified</td>\n",
       "      <td>0.219047</td>\n",
       "      <td>0.502212</td>\n",
       "      <td>0.008961</td>\n",
       "      <td>0.188490</td>\n",
       "    </tr>\n",
       "  </tbody>\n",
       "</table>\n",
       "</div>"
      ],
      "text/plain": [
       "       orf  gene  seq.len  left.bound  right.bound  \\\n",
       "0  YAL011W  SWC3      626           5           53   \n",
       "1  YAL011W  SWC3      626         169          261   \n",
       "2  YAL011W  SWC3      626         361          424   \n",
       "3  YAL011W  SWC3      626         470          525   \n",
       "4  YAL013W  DEP1      406          84          159   \n",
       "\n",
       "                                          region.seq  region.len  \\\n",
       "0  RTRSKESSIEQKPASRTRTRSRRGKRGRDDDDDDDDEESDDAYDEVGND          49   \n",
       "1  RLFILKNDKIEQKWQDEQELKKKEKELKRKNDAEAKRLRMEERKRQ...          93   \n",
       "2  KTAATEPEPKKADDENAEKQQSKEAKTTAESTQVDVKKEEEDVKEK...          64   \n",
       "3  KSVVEFLEDTDEIIISWIVIHNSKEIEKFKTKKIKAKLKADQKLNK...          56   \n",
       "4  ESLKRPHEDEKEAIDEAKKMKVPGENEDESKEEEKSQELEEAIDSK...          76   \n",
       "\n",
       "   charge.asymmetry  frac.charge  uni_id orf_label     kappa  aybrah.mean.fcr  \\\n",
       "0          0.017593     0.591837  P31376  verified  0.539053         0.347933   \n",
       "1          0.052936     0.559140  P31376  verified  0.098538         0.414206   \n",
       "2          0.007812     0.500000  P31376  verified  0.089231         0.391627   \n",
       "3          0.000714     0.428571  P31376  verified  0.265395         0.461596   \n",
       "4          0.138444     0.592105  P31385  verified  0.219047         0.502212   \n",
       "\n",
       "   aybrah.fcr.var  aybrah.fcr.cov  \n",
       "0        0.016456        0.368693  \n",
       "1        0.020280        0.343808  \n",
       "2        0.016703        0.330008  \n",
       "3        0.007704        0.190149  \n",
       "4        0.008961        0.188490  "
      ]
     },
     "execution_count": 20,
     "metadata": {},
     "output_type": "execute_result"
    }
   ],
   "source": [
    "newcols = df.apply(get_row_charge_props, axis=1)\n",
    "newcols.columns = ['aybrah.mean.fcr', 'aybrah.fcr.var', 'aybrah.fcr.cov']\n",
    "newdf = df.join(newcols)\n",
    "newdf.head()"
   ]
  },
  {
   "cell_type": "code",
   "execution_count": 21,
   "metadata": {},
   "outputs": [],
   "source": [
    "verified_orfs_with_msa = pd.read_csv('../data/sc_orfs/verified_orfs_with_msa.csv')\n",
    "valid_orfs = verified_orfs_with_msa['systematic_name'].tolist()\n",
    "\n",
    "np.random.seed(seed)\n",
    "\n",
    "def extract_random_region_from_proteome(fdir, regionlen, valid_orfs):\n",
    "    msa = None\n",
    "    cnt = 0\n",
    "    while msa is None:\n",
    "        orf_i = random.randrange(len(valid_orfs))\n",
    "        orf = valid_orfs[orf_i]\n",
    "        msa = AlignIO.read(open(fdir+str(orf)+'-aybrah.fa'), \"fasta\")\n",
    "        if len(msa[0].seq) <= regionlen:\n",
    "            msa = None\n",
    "        cnt += 1\n",
    "        if cnt >= 20:\n",
    "            print(regionlen)\n",
    "    starti = random.randrange(len(msa[0].seq) - regionlen)\n",
    "    random_msa = msa[:, starti:(starti + regionlen)]    \n",
    "    return random_msa\n",
    "\n",
    "ranges_dict = {}\n",
    "for index, row in df.iterrows():\n",
    "    orf = row['orf']\n",
    "    msa = AlignIO.read(open(aybrah_path+str(orf)+'-aybrah.fa'), \"fasta\")\n",
    "    if orf not in ranges_dict:\n",
    "        ranges_dict[orf] = []\n",
    "    refseq = row['region.seq']\n",
    "    left_bound = row['left.bound']\n",
    "    right_bound = row['right.bound']\n",
    "    msa_left_bound, msa_right_bound = aq.get_region_range(msa, left_bound, right_bound, refseq=refseq)\n",
    "    ranges_dict[orf].append((msa_left_bound, msa_right_bound))"
   ]
  },
  {
   "cell_type": "code",
   "execution_count": 22,
   "metadata": {},
   "outputs": [],
   "source": [
    "# add dist of randomly draw regions msas to above\n",
    "np.random.seed(seed)\n",
    "fcr_random = []\n",
    "\n",
    "for k,v in ranges_dict.items():\n",
    "    for charged_region in v:\n",
    "        regionlen = charged_region[1] - charged_region[0] + 1\n",
    "        \n",
    "        # Draw a random msa and ensure there is an S. cer sequence in it\n",
    "        redraw = True\n",
    "        while redraw:\n",
    "            #random_msa = extract_random_region_from_proteome(fdir, regionlen, valid_orfs)\n",
    "            length = 0\n",
    "            while length < 10:\n",
    "                random_msa = extract_random_region_from_proteome(aybrah_path, regionlen, valid_orfs)\n",
    "                # Filter out empty and very short sequences as we did for the charged regions themselves\n",
    "                random_msa = filter_msa(random_msa, 25)\n",
    "                # Calculate how many sequences are in the resulting alignment and redraw if there are fewer than the cutoff\n",
    "                length = len(random_msa)\n",
    "            for record in random_msa:\n",
    "                if record.id == \"Saccharomyces\":\n",
    "                    redraw=False\n",
    "                    refseq=str(record.seq).replace(\"-\", \"\")\n",
    "        \n",
    "        random_fcr = compute_region_fcr(random_msa)\n",
    "        fcr_random.append(random_fcr)"
   ]
  },
  {
   "cell_type": "code",
   "execution_count": 26,
   "metadata": {},
   "outputs": [],
   "source": [
    "ecdf = ECDF(fcr_random)\n",
    "\n",
    "mindiff = 1e99\n",
    "midpoint = 0\n",
    "for i in np.arange(0, 0.4, 1e-6):\n",
    "    res = ecdf(i)\n",
    "    diff = abs(res - 0.5)\n",
    "    if diff < mindiff:\n",
    "        mindiff = diff\n",
    "        midpoint = i\n",
    "\n",
    "std = np.sqrt(np.var(fcr_random))"
   ]
  },
  {
   "cell_type": "code",
   "execution_count": 62,
   "metadata": {},
   "outputs": [
    {
     "data": {
      "image/png": "[encoded data removed]",
      "text/plain": [
       "<Figure size 302.4x230.4 with 1 Axes>"
      ]
     },
     "metadata": {
      "needs_background": "light"
     },
     "output_type": "display_data"
    }
   ],
   "source": [
    "fig, ax = plt.subplots(figsize=(4.2,3.2))\n",
    "sns.ecdfplot(data=newdf, x='aybrah.mean.fcr', color = cscheme['cr'],\n",
    "             label = 'Highly charged', ax=ax)\n",
    "sns.ecdfplot(fcr_random, color=cscheme['null'],\n",
    "             label='Random', ax=ax)\n",
    "ax.errorbar(midpoint, 0.5, xerr=std, color=cscheme['null'], capsize=5)\n",
    "ax.errorbar(midpoint, 0.5, xerr=2*std, color=cscheme['null'], capsize=5)\n",
    "ax.annotate(xy=(0.14, 0.55), text='$\\sigma$')\n",
    "ax.annotate(xy=(0.045, 0.55), text='$2\\sigma$')\n",
    "ax.annotate(xy=(0.305, 0.55), text='$\\sigma$')\n",
    "ax.annotate(xy=(0.375, 0.55), text='$2\\sigma$')\n",
    "\n",
    "plt.xlabel(\"Fraction of charged residues\\n(Averaged across alignment)\")\n",
    "plt.ylabel(\"Cumulative proportion\")\n",
    "plt.legend(ncol=2, bbox_to_anchor=(1.05, 1.2), handlelength=1.5,\n",
    "           columnspacing=1.5, frameon=False)\n",
    "plt.savefig('./plots/Figure4C.png', dpi=300, bbox_inches='tight')\n",
    "plt.show()"
   ]
  },
  {
   "cell_type": "markdown",
   "metadata": {},
   "source": [
    "## D"
   ]
  },
  {
   "cell_type": "code",
   "execution_count": 45,
   "metadata": {},
   "outputs": [],
   "source": [
    "enriched_data_path = \"../../data/null-regions-output/trimmed/\""
   ]
  },
  {
   "cell_type": "code",
   "execution_count": 53,
   "metadata": {},
   "outputs": [],
   "source": [
    "def compute_region_enriched_fraction(msa, target_aas):\n",
    "    \"\"\"\n",
    "    Given an msa, extract the mean fraction of amino acids in a subset (target_aaas)\n",
    "    for each sequences in the msa and return the mean\n",
    "    \"\"\"\n",
    "    fracs = []\n",
    "    for record in msa:\n",
    "        seq = str(record.seq).replace('-',\"\")\n",
    "        fracs.append(fc.get_enriched_fraction(seq, target_aas))\n",
    "    return np.mean(fracs)\n",
    "\n",
    "def read_and_filter_enrichment_data(fdir, file):\n",
    "    data = pd.read_csv(file, comment=\"#\")\n",
    "    \n",
    "    # # Filter MSA\n",
    "    wrong_seq = []\n",
    "    for index, row in data.iterrows():\n",
    "        orf = row['orf']\n",
    "        try:\n",
    "            msa = AlignIO.read(open(fdir+str(orf)+'-aybrah.fa'), \"fasta\")\n",
    "        # These are all empty / not in the Aybrah database\n",
    "        except ValueError:\n",
    "            wrong_seq.append(index)\n",
    "            continue       \n",
    "        contains_seq = False\n",
    "        for record in msa:\n",
    "            seq = crutil.remove_gaps(record.seq)\n",
    "            if row['region.seq'] in seq:\n",
    "                contains_seq = True\n",
    "        if not contains_seq:\n",
    "            wrong_seq.append(index)\n",
    "\n",
    "    data.drop(data.index[wrong_seq], inplace=True)\n",
    "    return data\n",
    "\n",
    "def get_row_comp_conservation(row, fdir, target_aas, filter_cutoff=30):\n",
    "    orf = row['orf']  \n",
    "    refseq = row['region.seq']\n",
    "    left_bound = row['left.bound']\n",
    "    right_bound = row['right.bound']\n",
    "    # Read MSA for the orf in question\n",
    "    msa = AlignIO.read(open(fdir+str(orf)+'-aybrah.fa'), \"fasta\")\n",
    "    # Get just the region in question\n",
    "    # There are a small number of problematic sequences where the alignment boundaries are incorrect\n",
    "    # This skips these; I still don't understand why they happen\n",
    "    try:\n",
    "        region_msa = aq.extract_region_msa(msa, left_bound, right_bound, refseq=refseq)\n",
    "    except KeyError:\n",
    "        return(np.nan)\n",
    "    # Filter the msa for very short and empty regions\n",
    "    region_msa = filter_msa(region_msa, cutoff=filter_cutoff)\n",
    "\n",
    "    region_enrichment = compute_region_enriched_fraction(region_msa, target_aas)\n",
    "    \n",
    "    return pd.Series(region_enrichment)\n",
    "\n",
    "def get_comp(seq, states):\n",
    "    dcomp = {}\n",
    "    for state in states:\n",
    "        dcomp[state] = 0\n",
    "    for aa in seq:\n",
    "        dcomp[aa] += 1\n",
    "    comp = []\n",
    "    for k,v in dcomp.items():\n",
    "        comp.append(v / len(seq))\n",
    "    return comp\n",
    "\n",
    "def get_proteome_freqs(prot_filepath):\n",
    "    \"\"\"\n",
    "    Given a .fa formattted proteome file (located at prot_filepath), generate a frequency vector of the natural 20 amino acids (in alphabetical order)\n",
    "    \"\"\"\n",
    "    scerprot = []\n",
    "    for record in SeqIO.parse(prot_filepath, \"fasta\"):\n",
    "        scerprot.append(record)\n",
    "    \n",
    "    scercomp = np.zeros(20)\n",
    "    for orf in scerprot:\n",
    "        seq = str(orf.seq).replace('*', '')\n",
    "        scercomp = np.add(scercomp, get_comp(seq, comp.aas))\n",
    "    scercomp = np.divide(scercomp, len(scerprot))\n",
    "\n",
    "    return(dict(zip(comp.aas, scercomp)))\n",
    "\n",
    "def scale_to_unit(value, zer_val, one_val):\n",
    "    \"\"\"\n",
    "    Given a value (float), convert to a scaled value within a given range onto the 0->1 scale.\n",
    "    \"\"\"\n",
    "    span = one_val - zer_val\n",
    "    scaled_value = (value-zer_val) / span\n",
    "    return scaled_value"
   ]
  },
  {
   "cell_type": "code",
   "execution_count": 52,
   "metadata": {},
   "outputs": [],
   "source": [
    "aa_freqs = get_proteome_freqs(\"../data/ref_proteomes/Saccharomyces_cerevisiae.fasta\")"
   ]
  },
  {
   "cell_type": "code",
   "execution_count": 17,
   "metadata": {},
   "outputs": [
    {
     "name": "stdout",
     "output_type": "stream",
     "text": [
      "Processing file 0 / 209\n"
     ]
    },
    {
     "name": "stderr",
     "output_type": "stream",
     "text": [
      "/Users/triandafillou/opt/anaconda3/lib/python3.8/site-packages/numpy/core/fromnumeric.py:3372: RuntimeWarning: Mean of empty slice.\n",
      "  return _methods._mean(a, axis=axis, dtype=dtype,\n",
      "/Users/triandafillou/opt/anaconda3/lib/python3.8/site-packages/numpy/core/_methods.py:170: RuntimeWarning: invalid value encountered in double_scalars\n",
      "  ret = ret.dtype.type(ret / rcount)\n"
     ]
    },
    {
     "name": "stdout",
     "output_type": "stream",
     "text": [
      "Processing file 5 / 209\n",
      "Processing file 10 / 209\n",
      "Processing file 15 / 209\n",
      "Processing file 20 / 209\n",
      "Processing file 25 / 209\n",
      "Processing file 30 / 209\n",
      "Processing file 35 / 209\n",
      "Processing file 40 / 209\n",
      "Processing file 45 / 209\n",
      "Processing file 50 / 209\n",
      "Processing file 55 / 209\n",
      "Processing file 60 / 209\n",
      "Processing file 65 / 209\n",
      "Processing file 70 / 209\n",
      "Processing file 75 / 209\n",
      "Processing file 80 / 209\n",
      "Processing file 85 / 209\n",
      "Processing file 90 / 209\n",
      "Processing file 95 / 209\n",
      "Processing file 100 / 209\n",
      "Processing file 105 / 209\n",
      "Processing file 110 / 209\n",
      "Processing file 115 / 209\n",
      "Processing file 120 / 209\n",
      "Processing file 125 / 209\n",
      "Processing file 130 / 209\n",
      "Processing file 135 / 209\n",
      "Processing file 140 / 209\n",
      "Processing file 145 / 209\n",
      "Processing file 150 / 209\n",
      "Processing file 155 / 209\n",
      "Processing file 160 / 209\n",
      "Processing file 165 / 209\n",
      "Processing file 170 / 209\n",
      "Processing file 175 / 209\n",
      "Processing file 180 / 209\n",
      "Processing file 185 / 209\n",
      "Processing file 190 / 209\n",
      "Processing file 195 / 209\n",
      "Processing file 200 / 209\n",
      "Processing file 205 / 209\n"
     ]
    }
   ],
   "source": [
    "## Only uncomment if you want to regenerate data -- it takes a long time!\n",
    "\n",
    "files = glob.glob(enriched_data_path+\"*.csv\")\n",
    "\n",
    "all_drifts = []\n",
    "\n",
    "for f, file in enumerate(files):\n",
    "    if f % 5 == 0:\n",
    "        print(\"Processing file {} / {}\".format(f, len(files)))\n",
    "    data = read_and_filter_enrichment_data(file)\n",
    "    targets = list(data.keys()[-1][-4:])\n",
    "    try:\n",
    "        data[\"aybrah.avg.enrichment\"] = data.apply(get_row_comp_conservation, args=(targets, ), axis=1)\n",
    "    except KeyError:\n",
    "        print(file)\n",
    "        continue\n",
    "\n",
    "    proteome_freq = np.sum([aa_freqs[aa] for aa in targets])\n",
    "    enriched_freq = np.nanmean(data[\"fraction.enriched.{}\".format(''.join(targets))])\n",
    "    scaled_drift = scale_to_unit(np.nanmean(data['aybrah.avg.enrichment']), proteome_freq, enriched_freq)\n",
    "    all_drifts.append(1-scaled_drift)"
   ]
  },
  {
   "cell_type": "code",
   "execution_count": 49,
   "metadata": {},
   "outputs": [],
   "source": [
    "#np.savetxt(\"../../data/null-regions-output/trimmed/all_mean_drift_values.npy\", all_drifts)\n",
    "to_plot = np.loadtxt(\"../data/null-regions-output/trimmed/all_mean_drift_values.npy\")"
   ]
  },
  {
   "cell_type": "code",
   "execution_count": 54,
   "metadata": {},
   "outputs": [
    {
     "name": "stderr",
     "output_type": "stream",
     "text": [
      "/Users/rosalindpan/opt/anaconda3/envs/env_hcr/lib/python3.9/site-packages/numpy/core/fromnumeric.py:3474: RuntimeWarning: Mean of empty slice.\n",
      "  return _methods._mean(a, axis=axis, dtype=dtype,\n",
      "/Users/rosalindpan/opt/anaconda3/envs/env_hcr/lib/python3.9/site-packages/numpy/core/_methods.py:189: RuntimeWarning: invalid value encountered in double_scalars\n",
      "  ret = ret.dtype.type(ret / rcount)\n"
     ]
    },
    {
     "name": "stdout",
     "output_type": "stream",
     "text": [
      "0.44761022025899866\n"
     ]
    }
   ],
   "source": [
    "#calculate charge drift\n",
    "fdir = '/Users/rosalindpan/drummondlab/hcrpaper_data/aybrah-all/'\n",
    "data = read_and_filter_enrichment_data(fdir, \"../data/charged_regions/cr_trimmed_filtered.csv\")\n",
    "targets = [\"E\", \"R\", \"K\", \"D\"]\n",
    "data[\"aybrah.avg.enrichment\"] = data.apply(get_row_comp_conservation, args=(targets, ), axis=1)\n",
    "print(np.nanmean(data['aybrah.avg.enrichment']))\n",
    "\n",
    "proteome_freq = np.sum([aa_freqs[aa] for aa in targets])\n",
    "enriched_freq = np.nanmean(data[\"frac.charge\"])\n",
    "charged_drift = scale_to_unit(np.nanmean(data['aybrah.avg.enrichment']), proteome_freq, enriched_freq)"
   ]
  },
  {
   "cell_type": "code",
   "execution_count": 60,
   "metadata": {},
   "outputs": [
    {
     "data": {
      "image/png": "[encoded data removed]",
      "text/plain": [
       "<Figure size 309.6x282.96 with 1 Axes>"
      ]
     },
     "metadata": {
      "needs_background": "light"
     },
     "output_type": "display_data"
    }
   ],
   "source": [
    "# Another (inverse) version with different labels\n",
    "fig, ax = plt.subplots(figsize=(4.3,3.93))\n",
    "\n",
    "# I am doing 1- the value here because I already inverted them while saving, but I actually want the raw value\n",
    "# (more intuitive that higher=more conservation)\n",
    "ax.plot(np.sort(1-to_plot), np.linspace(0, 1, len(to_plot)), linewidth=2, color = 'black')\n",
    "\n",
    "ax.annotate('Charged residues', weight='bold',\n",
    "            xy=(0.6, 1.05), annotation_clip=False, color=cscheme[\"cr\"])\n",
    "ax.axvline(charged_drift, linestyle='--', color=cscheme[\"cr\"])\n",
    "ax.set_ylim(0, 1)\n",
    "\n",
    "#ax.annotate('Charged\\namino acids',\n",
    "#            xy=(1-0.24, 0.98), xycoords='data', size=14, weight='bold',\n",
    "#            xytext=(0.45, 0.95), textcoords='data',\n",
    "#            arrowprops=dict(color=cscheme['cr'], arrowstyle='-|>', connectionstyle=\"arc3,rad=-0.2\"),\n",
    "#            horizontalalignment='center', verticalalignment='top', color=cscheme[\"cr\"])\n",
    "plt.xlabel(\"Mean conservation (normalized\\ncompositional enrichment across MSA)\")\n",
    "plt.ylabel(\"Cumulative proportion\")\n",
    "plt.tight_layout()\n",
    "plt.savefig('./plots/Figure4D.png', dpi=300)\n",
    "plt.show()"
   ]
  }
 ],
 "metadata": {
  "kernelspec": {
   "display_name": "Python 3",
   "language": "python",
   "name": "python3"
  },
  "language_info": {
   "codemirror_mode": {
    "name": "ipython",
    "version": 3
   },
   "file_extension": ".py",
   "mimetype": "text/x-python",
   "name": "python",
   "nbconvert_exporter": "python",
   "pygments_lexer": "ipython3",
   "version": "3.9.12"
  },
  "vscode": {
   "interpreter": {
    "hash": "cf9c92407ea329efb8c9016a715d7811f432985378f61b50691b48c8c409138b"
   }
  }
 },
 "nbformat": 4,
 "nbformat_minor": 4
}
