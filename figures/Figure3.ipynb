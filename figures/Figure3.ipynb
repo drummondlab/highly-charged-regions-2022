{
 "cells": [
  {
   "cell_type": "markdown",
   "metadata": {},
   "source": [
    "# Figure 3"
   ]
  },
  {
   "cell_type": "code",
   "execution_count": 1,
   "metadata": {},
   "outputs": [],
   "source": [
    "## Tree figure rendering\n",
    "import os\n",
    "from os import path\n",
    "os.environ['QT_QPA_PLATFORM'] = 'offscreen'"
   ]
  },
  {
   "cell_type": "code",
   "execution_count": 2,
   "metadata": {},
   "outputs": [],
   "source": [
    "import sys\n",
    "sys.path.insert(1, '../code/scripts')"
   ]
  },
  {
   "cell_type": "code",
   "execution_count": 4,
   "metadata": {},
   "outputs": [],
   "source": [
    "## Basics\n",
    "from scipy import stats\n",
    "import numpy as np\n",
    "import pandas as pd\n",
    "import seaborn as sns\n",
    "import mdtraj as md\n",
    "import parseaf as pa\n",
    "#import tempparse as paf\n",
    "\n",
    "## Logistic regression\n",
    "from sklearn import metrics\n",
    "from sklearn.model_selection import train_test_split\n",
    "from sklearn.linear_model import LogisticRegression\n",
    "\n",
    "## Plotting\n",
    "import matplotlib.pyplot as plt\n",
    "from matplotlib.lines import Line2D\n",
    "import seaborn as sns\n",
    "plt.rcParams.update({'font.size': 14})\n",
    "plt.rcParams['font.family'] = 'sans-serif'\n",
    "plt.rcParams['font.sans-serif'] = \"Arial\"\n",
    "\n",
    "## Colors\n",
    "cscheme = {'pos':'#0177BB', 'neg':'#CB3627', 'dis':'#828282', 'helix':'#009988', 'sheet':'#EE7733', 'cr':'#AA4499'}"
   ]
  },
  {
   "cell_type": "code",
   "execution_count": 5,
   "metadata": {},
   "outputs": [],
   "source": [
    "import warnings\n",
    "warnings.filterwarnings('ignore')"
   ]
  },
  {
   "cell_type": "markdown",
   "metadata": {},
   "source": [
    "## Functions"
   ]
  },
  {
   "cell_type": "code",
   "execution_count": 6,
   "metadata": {},
   "outputs": [],
   "source": [
    "def get_aa_freq(seq, aa):\n",
    "    cnt = 0\n",
    "    for i in seq:\n",
    "        if i == aa:\n",
    "            cnt += 1\n",
    "    aa_freq = cnt / len(seq)\n",
    "    return aa_freq"
   ]
  },
  {
   "cell_type": "code",
   "execution_count": 7,
   "metadata": {},
   "outputs": [],
   "source": [
    "def append_percent_aa(row, aa):\n",
    "    seq = row['region_seq']\n",
    "    if len(seq) == 0:\n",
    "        print(row['uni_id'])\n",
    "    return get_aa_freq(seq, aa)"
   ]
  },
  {
   "cell_type": "code",
   "execution_count": 8,
   "metadata": {},
   "outputs": [],
   "source": [
    "def get_cnf_freq(cnf_mat):\n",
    "    cnf_freq = cnf_mat / cnf_mat.sum(axis=1)[:, np.newaxis]\n",
    "    return cnf_freq"
   ]
  },
  {
   "cell_type": "markdown",
   "metadata": {},
   "source": [
    "## Data"
   ]
  },
  {
   "cell_type": "code",
   "execution_count": 9,
   "metadata": {},
   "outputs": [],
   "source": [
    "allregions = pd.read_csv('../data/af_regions/sc_af_regions_all.csv')"
   ]
  },
  {
   "cell_type": "code",
   "execution_count": 10,
   "metadata": {},
   "outputs": [
    {
     "data": {
      "text/html": [
       "<div>\n",
       "<style scoped>\n",
       "    .dataframe tbody tr th:only-of-type {\n",
       "        vertical-align: middle;\n",
       "    }\n",
       "\n",
       "    .dataframe tbody tr th {\n",
       "        vertical-align: top;\n",
       "    }\n",
       "\n",
       "    .dataframe thead th {\n",
       "        text-align: right;\n",
       "    }\n",
       "</style>\n",
       "<table border=\"1\" class=\"dataframe\">\n",
       "  <thead>\n",
       "    <tr style=\"text-align: right;\">\n",
       "      <th></th>\n",
       "      <th>region_seq</th>\n",
       "      <th>start</th>\n",
       "      <th>end</th>\n",
       "      <th>uni_id</th>\n",
       "      <th>len_region</th>\n",
       "      <th>label</th>\n",
       "    </tr>\n",
       "  </thead>\n",
       "  <tbody>\n",
       "    <tr>\n",
       "      <th>0</th>\n",
       "      <td>VQDLKQLLLNVFNTYKLERSLSELIQKIIEDSSQDLVQQYRKF</td>\n",
       "      <td>1143</td>\n",
       "      <td>1185</td>\n",
       "      <td>P39702</td>\n",
       "      <td>43</td>\n",
       "      <td>helix</td>\n",
       "    </tr>\n",
       "    <tr>\n",
       "      <th>1</th>\n",
       "      <td>KEDIEKMVAEAEKFKEEDEKESQRIASKNQLESIAYSLKNTISE</td>\n",
       "      <td>508</td>\n",
       "      <td>551</td>\n",
       "      <td>P10591</td>\n",
       "      <td>44</td>\n",
       "      <td>helix</td>\n",
       "    </tr>\n",
       "    <tr>\n",
       "      <th>2</th>\n",
       "      <td>DIIANNAVEEIDRNLNKITKTLNYLRAREWRNMSTVNSTESRLTWL...</td>\n",
       "      <td>138</td>\n",
       "      <td>208</td>\n",
       "      <td>P39704</td>\n",
       "      <td>71</td>\n",
       "      <td>helix</td>\n",
       "    </tr>\n",
       "    <tr>\n",
       "      <th>3</th>\n",
       "      <td>KQMFLGSLFGVVLGVTVAKISILFMYVGITSMLLCEWLRY</td>\n",
       "      <td>103</td>\n",
       "      <td>142</td>\n",
       "      <td>P18411</td>\n",
       "      <td>40</td>\n",
       "      <td>helix</td>\n",
       "    </tr>\n",
       "    <tr>\n",
       "      <th>4</th>\n",
       "      <td>PASMIFRNLLILEDDLRRQAHEQKILKWQFTLFLASMAGVGAFTFYELY</td>\n",
       "      <td>45</td>\n",
       "      <td>93</td>\n",
       "      <td>P18410</td>\n",
       "      <td>49</td>\n",
       "      <td>helix</td>\n",
       "    </tr>\n",
       "  </tbody>\n",
       "</table>\n",
       "</div>"
      ],
      "text/plain": [
       "                                          region_seq  start   end  uni_id  \\\n",
       "0        VQDLKQLLLNVFNTYKLERSLSELIQKIIEDSSQDLVQQYRKF   1143  1185  P39702   \n",
       "1       KEDIEKMVAEAEKFKEEDEKESQRIASKNQLESIAYSLKNTISE    508   551  P10591   \n",
       "2  DIIANNAVEEIDRNLNKITKTLNYLRAREWRNMSTVNSTESRLTWL...    138   208  P39704   \n",
       "3           KQMFLGSLFGVVLGVTVAKISILFMYVGITSMLLCEWLRY    103   142  P18411   \n",
       "4  PASMIFRNLLILEDDLRRQAHEQKILKWQFTLFLASMAGVGAFTFYELY     45    93  P18410   \n",
       "\n",
       "   len_region  label  \n",
       "0          43  helix  \n",
       "1          44  helix  \n",
       "2          71  helix  \n",
       "3          40  helix  \n",
       "4          49  helix  "
      ]
     },
     "execution_count": 10,
     "metadata": {},
     "output_type": "execute_result"
    }
   ],
   "source": [
    "allregions.head(5)"
   ]
  },
  {
   "cell_type": "code",
   "execution_count": 11,
   "metadata": {},
   "outputs": [],
   "source": [
    "cnf_df = pd.read_csv('../misc/cp_cnf_matrices.csv')"
   ]
  },
  {
   "cell_type": "code",
   "execution_count": 12,
   "metadata": {},
   "outputs": [
    {
     "data": {
      "text/html": [
       "<div>\n",
       "<style scoped>\n",
       "    .dataframe tbody tr th:only-of-type {\n",
       "        vertical-align: middle;\n",
       "    }\n",
       "\n",
       "    .dataframe tbody tr th {\n",
       "        vertical-align: top;\n",
       "    }\n",
       "\n",
       "    .dataframe thead th {\n",
       "        text-align: right;\n",
       "    }\n",
       "</style>\n",
       "<table border=\"1\" class=\"dataframe\">\n",
       "  <thead>\n",
       "    <tr style=\"text-align: right;\">\n",
       "      <th></th>\n",
       "      <th>n</th>\n",
       "      <th>FP</th>\n",
       "      <th>TN</th>\n",
       "      <th>FN</th>\n",
       "      <th>TP</th>\n",
       "    </tr>\n",
       "  </thead>\n",
       "  <tbody>\n",
       "    <tr>\n",
       "      <th>0</th>\n",
       "      <td>16464</td>\n",
       "      <td>183</td>\n",
       "      <td>2258</td>\n",
       "      <td>127</td>\n",
       "      <td>1548</td>\n",
       "    </tr>\n",
       "    <tr>\n",
       "      <th>1</th>\n",
       "      <td>3915</td>\n",
       "      <td>128</td>\n",
       "      <td>2422</td>\n",
       "      <td>385</td>\n",
       "      <td>980</td>\n",
       "    </tr>\n",
       "    <tr>\n",
       "      <th>2</th>\n",
       "      <td>783</td>\n",
       "      <td>21</td>\n",
       "      <td>489</td>\n",
       "      <td>74</td>\n",
       "      <td>199</td>\n",
       "    </tr>\n",
       "    <tr>\n",
       "      <th>3</th>\n",
       "      <td>16464</td>\n",
       "      <td>1884</td>\n",
       "      <td>7698</td>\n",
       "      <td>2181</td>\n",
       "      <td>4701</td>\n",
       "    </tr>\n",
       "    <tr>\n",
       "      <th>4</th>\n",
       "      <td>3915</td>\n",
       "      <td>602</td>\n",
       "      <td>1948</td>\n",
       "      <td>529</td>\n",
       "      <td>836</td>\n",
       "    </tr>\n",
       "  </tbody>\n",
       "</table>\n",
       "</div>"
      ],
      "text/plain": [
       "       n    FP    TN    FN    TP\n",
       "0  16464   183  2258   127  1548\n",
       "1   3915   128  2422   385   980\n",
       "2    783    21   489    74   199\n",
       "3  16464  1884  7698  2181  4701\n",
       "4   3915   602  1948   529   836"
      ]
     },
     "execution_count": 12,
     "metadata": {},
     "output_type": "execute_result"
    }
   ],
   "source": [
    "cnf_df.head(5)"
   ]
  },
  {
   "cell_type": "markdown",
   "metadata": {},
   "source": [
    "## 3A: Logistic regression model coefficients"
   ]
  },
  {
   "cell_type": "code",
   "execution_count": 13,
   "metadata": {},
   "outputs": [],
   "source": [
    "states = ['A', 'C', 'D', 'E', 'F', 'G', 'H', 'I', 'K', 'L',\n",
    "          'M', 'N', 'P', 'Q', 'R', 'S', 'T', 'V', 'W', 'Y']"
   ]
  },
  {
   "cell_type": "code",
   "execution_count": 14,
   "metadata": {},
   "outputs": [],
   "source": [
    "for aa in states:\n",
    "    allregions['freq_'+aa] = allregions.apply(lambda row: append_percent_aa(row, aa), axis=1)"
   ]
  },
  {
   "cell_type": "code",
   "execution_count": 15,
   "metadata": {},
   "outputs": [
    {
     "data": {
      "text/plain": [
       "0.9246841593780369"
      ]
     },
     "execution_count": 15,
     "metadata": {},
     "output_type": "execute_result"
    }
   ],
   "source": [
    "featurecol = []\n",
    "for aa in states:\n",
    "    featurecol.append('freq_'+aa)\n",
    "X = allregions[featurecol]\n",
    "y = allregions['label']\n",
    "X_train, X_test, y_train, y_test = train_test_split(X, y, test_size=0.25, random_state=0)\n",
    "logreg = LogisticRegression()\n",
    "logreg.fit(X_train, y_train)\n",
    "y_pred = logreg.predict(X_test)\n",
    "cnf_all = metrics.confusion_matrix(y_test, y_pred)\n",
    "metrics.accuracy_score(y_test, y_pred)"
   ]
  },
  {
   "cell_type": "code",
   "execution_count": 16,
   "metadata": {},
   "outputs": [
    {
     "data": {
      "text/plain": [
       "array(['disordered', 'helix'], dtype=object)"
      ]
     },
     "execution_count": 16,
     "metadata": {},
     "output_type": "execute_result"
    }
   ],
   "source": [
    "logreg.classes_"
   ]
  },
  {
   "cell_type": "code",
   "execution_count": 17,
   "metadata": {},
   "outputs": [],
   "source": [
    "df_lr = pd.DataFrame(columns=['aa','coef'])\n",
    "for i in range(20):\n",
    "    df_lr = df_lr.append({'aa': states[i], 'coef': logreg.coef_[0][i]}, ignore_index=True)\n",
    "df_lr = df_lr.sort_values(by='coef', ascending=False, key=abs)"
   ]
  },
  {
   "cell_type": "code",
   "execution_count": 68,
   "metadata": {},
   "outputs": [
    {
     "data": {
      "image/png": "[encoded data removed]",
      "text/plain": [
       "<Figure size 417.6x201.6 with 1 Axes>"
      ]
     },
     "metadata": {
      "needs_background": "light"
     },
     "output_type": "display_data"
    }
   ],
   "source": [
    "plt.figure(figsize=(5.8,2.8))\n",
    "plt.stem(df_lr['aa'], df_lr['coef'],\n",
    "         linefmt='dimgrey')\n",
    "\n",
    "for index,row in df_lr.iterrows():\n",
    "    aa = row['aa']\n",
    "    if aa == 'K' or aa == 'R':\n",
    "        color = cscheme['pos']\n",
    "    elif aa == 'D' or aa == 'E':\n",
    "        color = cscheme['neg']\n",
    "    else:\n",
    "        color = 'dimgrey'\n",
    "    plt.scatter(aa, row['coef'], marker='o', color=color, zorder=3)\n",
    "    \n",
    "plt.ylabel('Coefficients in\\nLR model')\n",
    "plt.tight_layout()\n",
    "plt.savefig('./plots/Figure3A.png', dpi=300)\n",
    "plt.show()"
   ]
  },
  {
   "cell_type": "markdown",
   "metadata": {},
   "source": [
    "## 3B: LR coefficients against helix propensity"
   ]
  },
  {
   "cell_type": "code",
   "execution_count": 26,
   "metadata": {},
   "outputs": [],
   "source": [
    "df_hp = pd.read_csv('../data/misc/helix_propensity_pace1998.txt')\n",
    "h_propensity = {}\n",
    "for index, row in df_hp.iterrows():\n",
    "    h_propensity[row['aa']] = row['hp']"
   ]
  },
  {
   "cell_type": "code",
   "execution_count": 27,
   "metadata": {},
   "outputs": [],
   "source": [
    "from sklearn.linear_model import LinearRegression\n",
    "from sklearn.metrics import r2_score"
   ]
  },
  {
   "cell_type": "code",
   "execution_count": 33,
   "metadata": {},
   "outputs": [
    {
     "data": {
      "image/png": "[encoded data removed]",
      "text/plain": [
       "<Figure size 244.8x217.44 with 1 Axes>"
      ]
     },
     "metadata": {
      "needs_background": "light"
     },
     "output_type": "display_data"
    }
   ],
   "source": [
    "plt.figure(figsize=(3.4,3.02))\n",
    "\n",
    "coefs = logreg.coef_.tolist()[0]\n",
    "for i in range(20):\n",
    "    aa = states[i]\n",
    "    if aa == 'K' or aa == 'R':\n",
    "        color = cscheme['pos']\n",
    "    elif aa == 'D' or aa == 'E':\n",
    "        color = cscheme['neg']\n",
    "    else:\n",
    "        color = 'dimgrey'\n",
    "    plt.scatter(h_propensity[aa], coefs[i],\n",
    "                color=color, zorder=3)\n",
    "\n",
    "plt.xlabel('Helix propensity (kcal/mol)')\n",
    "plt.ylabel('Coefficient in\\nLR model')\n",
    "corr = stats.spearmanr(list(h_propensity.values()), logreg.coef_[0].tolist())\n",
    "reg = LinearRegression().fit(np.asarray(list(h_propensity.values())).reshape(-1, 1),\n",
    "                             np.asarray(logreg.coef_[0].tolist()).reshape(-1, 1))\n",
    "x = np.arange(0, 3.5, 0.01).reshape(-1, 1)\n",
    "plt.plot(x, reg.predict(x), color='black', linestyle='--')\n",
    "\n",
    "plt.text(1.5, 7, \"Spearman r\\n = \" + '{0:.3g}'.format(corr.correlation))\n",
    "plt.tight_layout()\n",
    "#plt.savefig('./fig.png', dpi=300)\n",
    "plt.savefig('./plots/Figure3B.png', dpi=300)\n",
    "plt.show()"
   ]
  },
  {
   "cell_type": "code",
   "execution_count": 22,
   "metadata": {},
   "outputs": [
    {
     "data": {
      "text/plain": [
       "0.4848926200472953"
      ]
     },
     "execution_count": 22,
     "metadata": {},
     "output_type": "execute_result"
    }
   ],
   "source": [
    "r2_score(np.asarray(logreg.coef_[0].tolist()).reshape(-1, 1),\n",
    "         reg.predict(np.asarray(list(h_propensity.values())).reshape(-1, 1)))"
   ]
  },
  {
   "cell_type": "markdown",
   "metadata": {},
   "source": [
    "## 3C: Uversky plot for all regions"
   ]
  },
  {
   "cell_type": "code",
   "execution_count": 34,
   "metadata": {},
   "outputs": [],
   "source": [
    "df = pd.read_csv('../data/uversky/uversky_all.csv')"
   ]
  },
  {
   "cell_type": "code",
   "execution_count": 35,
   "metadata": {},
   "outputs": [],
   "source": [
    "from matplotlib.lines import Line2D\n",
    "\n",
    "legend_elements = [Line2D([0], [0], marker='o', color='w', label='Helix',\n",
    "                          markerfacecolor=cscheme['helix'], markersize=10),\n",
    "                   Line2D([0], [0], marker='o', color='w', label='Disordered',\n",
    "                          markerfacecolor=cscheme['dis'], markersize=10)]"
   ]
  },
  {
   "cell_type": "code",
   "execution_count": 36,
   "metadata": {},
   "outputs": [],
   "source": [
    "X = np.asarray(df['norm_hydrop'].tolist())\n",
    "Y = np.asarray(df['norm_nc'].tolist())"
   ]
  },
  {
   "cell_type": "code",
   "execution_count": 37,
   "metadata": {},
   "outputs": [],
   "source": [
    "plot_idx = np.random.permutation(len(df))\n",
    "labels = np.asarray(df['label'].tolist())\n",
    "colors = pd.factorize(labels)"
   ]
  },
  {
   "cell_type": "code",
   "execution_count": 67,
   "metadata": {},
   "outputs": [
    {
     "data": {
      "text/plain": [
       "<Figure size 432x288 with 0 Axes>"
      ]
     },
     "metadata": {},
     "output_type": "display_data"
    },
    {
     "data": {
      "image/png": "[encoded data removed]",
      "text/plain": [
       "<Figure size 180x180 with 3 Axes>"
      ]
     },
     "metadata": {
      "needs_background": "light"
     },
     "output_type": "display_data"
    }
   ],
   "source": [
    "plt.figure()\n",
    "g = sns.jointplot(X[plot_idx], Y[plot_idx], hue=labels[plot_idx],\n",
    "                  palette={'disordered': cscheme['dis'], 'helix': cscheme['helix']},\n",
    "                  alpha=0.2, s=7, height=2.5, legend=False)\n",
    "x = np.linspace(0.4,0.65,100)\n",
    "y = 2.785*x - 1.151\n",
    "g.ax_joint.plot(x, y, 'black', linewidth = 1)\n",
    "g.ax_joint.set_xlabel('Norm mean hydropathy')\n",
    "g.ax_joint.set_ylabel('Norm net charge')\n",
    "g.ax_joint.set_xlim(0, 0.9)\n",
    "#g.legend.set_title(None)\n",
    "\n",
    "#h,l = g.get_legend_handles_labels()\n",
    "#plt.legend(h[1:],l[1:])\n",
    "\n",
    "plt.legend(handles=legend_elements,handletextpad=0, columnspacing=0.5, ncol=2,\n",
    "           bbox_to_anchor=(1.5, 1.45), frameon=False)\n",
    "plt.savefig('./plots/Figure3C.png', dpi=300, bbox_inches = \"tight\")\n",
    "plt.show()"
   ]
  },
  {
   "cell_type": "markdown",
   "metadata": {},
   "source": [
    "## 3D: Accuracy of logistic regression model"
   ]
  },
  {
   "cell_type": "code",
   "execution_count": 71,
   "metadata": {},
   "outputs": [],
   "source": [
    "cnf_matrices = []\n",
    "sample_size = []\n",
    "for index, row in cnf_df.iterrows():\n",
    "    mat = np.array([[row['TN'], row['FP']], [row['FN'], row['TP']]])\n",
    "    cnf_matrices.append(mat)\n",
    "    if index < 3:\n",
    "        sample_size.append(row['n'])"
   ]
  },
  {
   "cell_type": "code",
   "execution_count": 72,
   "metadata": {},
   "outputs": [],
   "source": [
    "titles = ['Purely helical\\nand disordered\\nregions',\n",
    "          'Randomly\\ndrawn\\nregions',\n",
    "          'Highly\\ncharged\\nregions']\n",
    "#for i, title in enumerate(titles):\n",
    "#    titles[i] = title + '\\nn = ' + str(sample_size[i])"
   ]
  },
  {
   "cell_type": "code",
   "execution_count": 73,
   "metadata": {
    "scrolled": true
   },
   "outputs": [
    {
     "data": {
      "text/plain": [
       "[array([[2258,  183],\n",
       "        [ 127, 1548]]), array([[2422,  128],\n",
       "        [ 385,  980]]), array([[489,  21],\n",
       "        [ 74, 199]]), array([[7698, 1884],\n",
       "        [2181, 4701]]), array([[1948,  602],\n",
       "        [ 529,  836]]), array([[510,   0],\n",
       "        [271,   2]])]"
      ]
     },
     "execution_count": 73,
     "metadata": {},
     "output_type": "execute_result"
    }
   ],
   "source": [
    "cnf_matrices"
   ]
  },
  {
   "cell_type": "code",
   "execution_count": 31,
   "metadata": {},
   "outputs": [
    {
     "data": {
      "image/png": "[encoded data removed]",
      "text/plain": [
       "<Figure size 367.2x288 with 7 Axes>"
      ]
     },
     "metadata": {
      "needs_background": "light"
     },
     "output_type": "display_data"
    }
   ],
   "source": [
    "fig, axes = plt.subplots(2, 3, figsize=(5.1, 4))\n",
    "cbar_ax = fig.add_axes([1, .2, .03, .45])\n",
    "\n",
    "for i, ax in enumerate(axes.flat):\n",
    "    g = sns.heatmap(pd.DataFrame(get_cnf_freq(cnf_matrices[i])), ax=ax,\n",
    "                    square=True, annot=True, fmt=\".2f\",\n",
    "                    xticklabels=['', ''], yticklabels=['', ''],\n",
    "                    cmap=\"Greys\", cbar= (i == 0),\n",
    "                    vmin=0, vmax=1,\n",
    "                    cbar_ax=None if i else cbar_ax)\n",
    "    g.tick_params(left=False, bottom=False)\n",
    "    if i < 3:\n",
    "        g.set_title(titles[i], fontsize=14.5, pad=15)\n",
    "    #ax.title.set_position([.5, 0.8])\n",
    "    if i == 0:\n",
    "        ax.set_ylabel('LR model')\n",
    "        ax.yaxis.labelpad = 5\n",
    "    elif i == 3:\n",
    "        ax.set_ylabel('Uversky plot')\n",
    "        ax.yaxis.labelpad = 5\n",
    "    bottom, top = ax.get_ylim()\n",
    "    ax.set_ylim(bottom + 0.5, top - 0.5)\n",
    "\n",
    "plt.tight_layout()\n",
    "plt.savefig('./plots/Figure3D.png', dpi=300)"
   ]
  },
  {
   "cell_type": "markdown",
   "metadata": {},
   "source": [
    "## 3E: Summary of prediction accuracy for 3D"
   ]
  },
  {
   "cell_type": "code",
   "execution_count": 74,
   "metadata": {},
   "outputs": [],
   "source": [
    "l_acc = []\n",
    "for i in range(6):\n",
    "    cnf = cnf_matrices[i]\n",
    "    accuracy = (cnf[0, 0] + cnf[1, 1]) / np.sum(cnf)\n",
    "    l_acc.append(accuracy)\n",
    "sc_acc = np.mean(l_acc[:3])"
   ]
  },
  {
   "cell_type": "code",
   "execution_count": 75,
   "metadata": {},
   "outputs": [],
   "source": [
    "ticks = ['LR model,\\nall regions',\n",
    "         'LR model,\\nrandomly drawn regions',\n",
    "         'LR model,\\nhighly charged regions',\n",
    "         'Uversky plot,\\nall regions',\n",
    "         'Uversky plot,\\nrandomly drawn regions',\n",
    "         'Uversky plot,\\nhighly charged regions']"
   ]
  },
  {
   "cell_type": "code",
   "execution_count": 76,
   "metadata": {},
   "outputs": [],
   "source": [
    "df_cnf = pd.DataFrame(columns=['model', 'dataset', 'l_acc'])"
   ]
  },
  {
   "cell_type": "code",
   "execution_count": 77,
   "metadata": {},
   "outputs": [],
   "source": [
    "datasets = ['All regions', 'Random', 'Highly\\ncharged']"
   ]
  },
  {
   "cell_type": "code",
   "execution_count": 78,
   "metadata": {},
   "outputs": [],
   "source": [
    "for i in range(3):\n",
    "    df_cnf = df_cnf.append({'model': 'LR', 'dataset':datasets[i], 'l_acc': l_acc[i]},\n",
    "                           ignore_index=True)"
   ]
  },
  {
   "cell_type": "code",
   "execution_count": 79,
   "metadata": {},
   "outputs": [],
   "source": [
    "for i in range(3):\n",
    "    df_cnf = df_cnf.append({'model': 'Uversky', 'dataset':datasets[i], 'l_acc': l_acc[i+3]},\n",
    "                           ignore_index=True)"
   ]
  },
  {
   "cell_type": "code",
   "execution_count": 84,
   "metadata": {},
   "outputs": [
    {
     "data": {
      "text/plain": [
       "<Figure size 144x360 with 0 Axes>"
      ]
     },
     "metadata": {},
     "output_type": "display_data"
    },
    {
     "data": {
      "image/png": "[encoded data removed]",
      "text/plain": [
       "<Figure size 288x288 with 1 Axes>"
      ]
     },
     "metadata": {
      "needs_background": "light"
     },
     "output_type": "display_data"
    }
   ],
   "source": [
    "plt.figure(figsize=(2,5))\n",
    "g = sns.catplot(data=df_cnf, y='dataset', x='l_acc', hue='model',\n",
    "                kind='bar', legend=False,\n",
    "                height=4, palette=['black', 'darkgrey'])\n",
    "plt.xlabel('Accuracy of classification')\n",
    "plt.ylabel('')\n",
    "#ax.set_xlim(0, 1)\n",
    "#ax.set_xlabel('Accuracy of classification')\n",
    "plt.legend(bbox_to_anchor=(1.02, 1.2),\n",
    "           ncol = 2, frameon=False)\n",
    "plt.tight_layout()\n",
    "plt.savefig('./plots/Figure3E.png', dpi=300)\n",
    "plt.show()"
   ]
  },
  {
   "cell_type": "markdown",
   "metadata": {},
   "source": [
    "## 3F: Prediction accuracy for other training or testing data"
   ]
  },
  {
   "cell_type": "code",
   "execution_count": 88,
   "metadata": {},
   "outputs": [],
   "source": [
    "d_acc = {'sc_onlyP': 0.7468415937803693,\n",
    "'sc_onlyG': 0.5930515063168125,\n",
    " 'sc_onlyPG': 0.7560738581146744,\n",
    " 'sc_top5': 0.8965014577259475}"
   ]
  },
  {
   "cell_type": "code",
   "execution_count": 109,
   "metadata": {},
   "outputs": [],
   "source": [
    "d_acc2 = {'sc': sc_acc,\n",
    "    'pombe': 0.9080121057661675,\n",
    "'human': 0.9397504456327985}"
   ]
  },
  {
   "cell_type": "code",
   "execution_count": 110,
   "metadata": {},
   "outputs": [
    {
     "data": {
      "text/plain": [
       "{'sc': 0.8907738172809719,\n",
       " 'pombe': 0.9080121057661675,\n",
       " 'human': 0.9397504456327985}"
      ]
     },
     "execution_count": 110,
     "metadata": {},
     "output_type": "execute_result"
    }
   ],
   "source": [
    "d_acc2"
   ]
  },
  {
   "cell_type": "code",
   "execution_count": 137,
   "metadata": {},
   "outputs": [
    {
     "data": {
      "image/png": "[encoded data removed]",
      "text/plain": [
       "<Figure size 252x216 with 1 Axes>"
      ]
     },
     "metadata": {
      "needs_background": "light"
     },
     "output_type": "display_data"
    }
   ],
   "source": [
    "fig, ax = plt.subplots(figsize=(3.5,3))\n",
    "keys = list(d_acc.keys())\n",
    "vals = [d_acc[k] for k in keys]\n",
    "ax = sns.barplot(y=keys, x=vals, color='dimgrey')\n",
    "ax.set_yticklabels(['P only', 'G only', 'P and G','P, L, I, S, D\\n(Top 5)'])\n",
    "ax.set_xlabel('Accuracy of classification')\n",
    "ax.set_xlim(0, 1)\n",
    "plt.axvline(sc_acc, color='red', linestyle='dashed')\n",
    "plt.legend([Line2D([0], [0], color='red', lw=2, ls='dashed')],\n",
    "           ['All AAs'],\n",
    "          bbox_to_anchor=(0.9, 1.3), frameon=False)\n",
    "\n",
    "plt.tight_layout()\n",
    "plt.savefig('./plots/Figure3F.png', dpi=300, bbox_inches='tight')\n",
    "plt.show()"
   ]
  },
  {
   "cell_type": "code",
   "execution_count": 122,
   "metadata": {},
   "outputs": [
    {
     "data": {
      "text/plain": [
       "[0.8907738172809719, 0.9080121057661675, 0.9397504456327985]"
      ]
     },
     "execution_count": 122,
     "metadata": {},
     "output_type": "execute_result"
    }
   ],
   "source": [
    "vals"
   ]
  },
  {
   "cell_type": "code",
   "execution_count": 135,
   "metadata": {},
   "outputs": [
    {
     "data": {
      "image/png": "[encoded data removed]",
      "text/plain": [
       "<Figure size 252x180 with 1 Axes>"
      ]
     },
     "metadata": {
      "needs_background": "light"
     },
     "output_type": "display_data"
    }
   ],
   "source": [
    "fig, ax = plt.subplots(figsize=(3.5,2.5))\n",
    "keys = list(d_acc2.keys())\n",
    "vals = [d_acc2[k] for k in keys]\n",
    "ax.bar(np.arange(3), vals, color='dimgrey', width=0.6)\n",
    "ax.axis('off')\n",
    "\n",
    "plt.savefig('./plots/Figure3G.png', dpi=300, bbox_inches='tight')\n",
    "plt.show()"
   ]
  },
  {
   "cell_type": "markdown",
   "metadata": {},
   "source": [
    "## 3G: Time Tree"
   ]
  },
  {
   "cell_type": "code",
   "execution_count": 56,
   "metadata": {},
   "outputs": [
    {
     "ename": "ModuleNotFoundError",
     "evalue": "No module named 'ete3'",
     "output_type": "error",
     "traceback": [
      "\u001b[0;31m---------------------------------------------------------------------------\u001b[0m",
      "\u001b[0;31mModuleNotFoundError\u001b[0m                       Traceback (most recent call last)",
      "\u001b[0;32m<ipython-input-56-f13abcb00a29>\u001b[0m in \u001b[0;36m<module>\u001b[0;34m\u001b[0m\n\u001b[1;32m      1\u001b[0m \u001b[0;32mfrom\u001b[0m \u001b[0mBio\u001b[0m \u001b[0;32mimport\u001b[0m \u001b[0mPhylo\u001b[0m\u001b[0;34m\u001b[0m\u001b[0;34m\u001b[0m\u001b[0m\n\u001b[0;32m----> 2\u001b[0;31m \u001b[0;32mfrom\u001b[0m \u001b[0mete3\u001b[0m \u001b[0;32mimport\u001b[0m \u001b[0mTree\u001b[0m\u001b[0;34m,\u001b[0m \u001b[0mNodeStyle\u001b[0m\u001b[0;34m,\u001b[0m \u001b[0mTreeStyle\u001b[0m\u001b[0;34m\u001b[0m\u001b[0;34m\u001b[0m\u001b[0m\n\u001b[0m",
      "\u001b[0;31mModuleNotFoundError\u001b[0m: No module named 'ete3'"
     ]
    }
   ],
   "source": [
    "from Bio import Phylo\n",
    "from ete3 import Tree, NodeStyle, TreeStyle"
   ]
  },
  {
   "cell_type": "code",
   "execution_count": 57,
   "metadata": {},
   "outputs": [
    {
     "ename": "NameError",
     "evalue": "name 'Tree' is not defined",
     "output_type": "error",
     "traceback": [
      "\u001b[0;31m---------------------------------------------------------------------------\u001b[0m",
      "\u001b[0;31mNameError\u001b[0m                                 Traceback (most recent call last)",
      "\u001b[0;32m<ipython-input-57-c9cad6dd7c41>\u001b[0m in \u001b[0;36m<module>\u001b[0;34m\u001b[0m\n\u001b[0;32m----> 1\u001b[0;31m \u001b[0mt\u001b[0m \u001b[0;34m=\u001b[0m \u001b[0mTree\u001b[0m\u001b[0;34m(\u001b[0m\u001b[0;34m'../data/misc/timetree.nwk'\u001b[0m\u001b[0;34m,\u001b[0m \u001b[0mformat\u001b[0m\u001b[0;34m=\u001b[0m\u001b[0;36m1\u001b[0m\u001b[0;34m)\u001b[0m\u001b[0;34m\u001b[0m\u001b[0;34m\u001b[0m\u001b[0m\n\u001b[0m",
      "\u001b[0;31mNameError\u001b[0m: name 'Tree' is not defined"
     ]
    }
   ],
   "source": [
    "t = Tree('../data/misc/timetree.nwk', format=1)"
   ]
  },
  {
   "cell_type": "code",
   "execution_count": 31,
   "metadata": {},
   "outputs": [],
   "source": [
    "for n in t.traverse(\"postorder\"):\n",
    "    if len(n.name) > 4:\n",
    "        n.name = n.name.replace(\"_\", \" \")"
   ]
  },
  {
   "cell_type": "code",
   "execution_count": 32,
   "metadata": {},
   "outputs": [],
   "source": [
    "ts = TreeStyle()\n",
    "ts.show_leaf_name = True\n",
    "ts.scale_length = 300"
   ]
  },
  {
   "cell_type": "markdown",
   "metadata": {},
   "source": [
    "I plan to make this in inkscape instead because for some reason the branches don't align in"
   ]
  }
 ],
 "metadata": {
  "kernelspec": {
   "display_name": "Python 3",
   "language": "python",
   "name": "python3"
  },
  "language_info": {
   "codemirror_mode": {
    "name": "ipython",
    "version": 3
   },
   "file_extension": ".py",
   "mimetype": "text/x-python",
   "name": "python",
   "nbconvert_exporter": "python",
   "pygments_lexer": "ipython3",
   "version": "3.7.5"
  }
 },
 "nbformat": 4,
 "nbformat_minor": 4
}
