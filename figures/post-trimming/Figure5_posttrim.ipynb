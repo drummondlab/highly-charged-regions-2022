{
 "cells": [
  {
   "cell_type": "markdown",
   "metadata": {},
   "source": [
    "# Figure 5"
   ]
  },
  {
   "cell_type": "code",
   "execution_count": 2,
   "metadata": {},
   "outputs": [],
   "source": [
    "import sys\n",
    "sys.path.insert(1, '../../code/scripts')"
   ]
  },
  {
   "cell_type": "code",
   "execution_count": 3,
   "metadata": {},
   "outputs": [],
   "source": [
    "## Basics\n",
    "import numpy as np\n",
    "import pandas as pd\n",
    "import glob\n",
    "import mdtraj as md\n",
    "import random\n",
    "from scipy import stats\n",
    "from scipy.special import logit\n",
    "from sklearn.neighbors import KernelDensity\n",
    "\n",
    "## Bio functions\n",
    "from Bio import AlignIO\n",
    "from Bio import SeqIO\n",
    "\n",
    "## Local functions\n",
    "import sys\n",
    "sys.path.append(\"../code/scripts\")\n",
    "import alignment_quality as aq\n",
    "import chargepatterns as cp\n",
    "import composition as comp\n",
    "import crutil\n",
    "import fractional_charge as fc\n",
    "\n",
    "## Plotting\n",
    "import matplotlib.pyplot as plt\n",
    "import seaborn as sns\n",
    "plt.rcParams.update({'font.size': 14})\n",
    "plt.rcParams['font.family'] = 'sans-serif'\n",
    "plt.rcParams['font.sans-serif'] = \"Arial\"\n",
    "\n",
    "## Colors\n",
    "cscheme = {'pos':'#0177BB', 'neg':'#CB3627', 'dis':'#828282', 'helix':'#009988', 'sheet':'#EE7733', 'cr':'#AA4499',\n",
    "          'null':\"black\"}\n",
    "\n",
    "## Set seed for consistency\n",
    "### In the future when writing code with random remember to use new methods which explicitly create generators\n",
    "seed = 212121"
   ]
  },
  {
   "cell_type": "code",
   "execution_count": 4,
   "metadata": {},
   "outputs": [],
   "source": [
    "def comp_to_dict(c):\n",
    "    d = {}\n",
    "    for i,aa in enumerate(comp.aas):\n",
    "        d[aa] = c[i]\n",
    "    return d"
   ]
  },
  {
   "cell_type": "markdown",
   "metadata": {},
   "source": [
    "## A"
   ]
  },
  {
   "cell_type": "code",
   "execution_count": 5,
   "metadata": {},
   "outputs": [],
   "source": [
    "df = pd.read_csv('../../data/aln_quality/aln_quality_hits.csv')\n",
    "df_random = pd.read_csv('../../data/aln_quality/aln_quality_random.csv')\n",
    "df_disprot = pd.read_csv('../../data/aln_quality/aln_quality_disprot.csv')"
   ]
  },
  {
   "cell_type": "code",
   "execution_count": 6,
   "metadata": {},
   "outputs": [],
   "source": [
    "hits_aq = np.asarray(df['gappiness'].tolist())\n",
    "idr_aq = np.asarray(df_disprot['gappiness'].tolist())\n",
    "rand_aq = np.asarray(df['gappiness_null'].tolist())\n",
    "rand_aq2 = np.asarray(df_random['gappiness'].tolist())"
   ]
  },
  {
   "cell_type": "code",
   "execution_count": 7,
   "metadata": {},
   "outputs": [],
   "source": [
    "hits_sd = np.asarray(df['seq_div'].tolist())\n",
    "idr_sd = np.asarray(df_disprot['seq_div'].tolist())\n",
    "rand_sd = np.asarray(df['seq_div_null'].tolist())\n",
    "rand_sd2 = np.asarray(df_random['seq_div'].tolist())"
   ]
  },
  {
   "cell_type": "code",
   "execution_count": 24,
   "metadata": {},
   "outputs": [
    {
     "data": {
      "text/html": [
       "<div>\n",
       "<style scoped>\n",
       "    .dataframe tbody tr th:only-of-type {\n",
       "        vertical-align: middle;\n",
       "    }\n",
       "\n",
       "    .dataframe tbody tr th {\n",
       "        vertical-align: top;\n",
       "    }\n",
       "\n",
       "    .dataframe thead th {\n",
       "        text-align: right;\n",
       "    }\n",
       "</style>\n",
       "<table border=\"1\" class=\"dataframe\">\n",
       "  <thead>\n",
       "    <tr style=\"text-align: right;\">\n",
       "      <th></th>\n",
       "      <th>region_type</th>\n",
       "      <th>metric</th>\n",
       "      <th>value</th>\n",
       "    </tr>\n",
       "  </thead>\n",
       "  <tbody>\n",
       "    <tr>\n",
       "      <th>0</th>\n",
       "      <td>Highly\\ncharged</td>\n",
       "      <td>Mean gap\\nfrequency</td>\n",
       "      <td>0.353896</td>\n",
       "    </tr>\n",
       "    <tr>\n",
       "      <th>1</th>\n",
       "      <td>Highly\\ncharged</td>\n",
       "      <td>Mean gap\\nfrequency</td>\n",
       "      <td>0.360933</td>\n",
       "    </tr>\n",
       "    <tr>\n",
       "      <th>2</th>\n",
       "      <td>Highly\\ncharged</td>\n",
       "      <td>Mean gap\\nfrequency</td>\n",
       "      <td>0.551905</td>\n",
       "    </tr>\n",
       "    <tr>\n",
       "      <th>3</th>\n",
       "      <td>Highly\\ncharged</td>\n",
       "      <td>Mean gap\\nfrequency</td>\n",
       "      <td>0.300412</td>\n",
       "    </tr>\n",
       "    <tr>\n",
       "      <th>4</th>\n",
       "      <td>Highly\\ncharged</td>\n",
       "      <td>Mean gap\\nfrequency</td>\n",
       "      <td>0.358588</td>\n",
       "    </tr>\n",
       "    <tr>\n",
       "      <th>...</th>\n",
       "      <td>...</td>\n",
       "      <td>...</td>\n",
       "      <td>...</td>\n",
       "    </tr>\n",
       "    <tr>\n",
       "      <th>4355</th>\n",
       "      <td>Random</td>\n",
       "      <td>Sequence\\ndivergence</td>\n",
       "      <td>1.259739</td>\n",
       "    </tr>\n",
       "    <tr>\n",
       "      <th>4356</th>\n",
       "      <td>Random</td>\n",
       "      <td>Sequence\\ndivergence</td>\n",
       "      <td>0.733688</td>\n",
       "    </tr>\n",
       "    <tr>\n",
       "      <th>4357</th>\n",
       "      <td>Random</td>\n",
       "      <td>Sequence\\ndivergence</td>\n",
       "      <td>1.107804</td>\n",
       "    </tr>\n",
       "    <tr>\n",
       "      <th>4358</th>\n",
       "      <td>Random</td>\n",
       "      <td>Sequence\\ndivergence</td>\n",
       "      <td>1.234553</td>\n",
       "    </tr>\n",
       "    <tr>\n",
       "      <th>4359</th>\n",
       "      <td>Random</td>\n",
       "      <td>Sequence\\ndivergence</td>\n",
       "      <td>1.633620</td>\n",
       "    </tr>\n",
       "  </tbody>\n",
       "</table>\n",
       "<p>4360 rows × 3 columns</p>\n",
       "</div>"
      ],
      "text/plain": [
       "          region_type                metric     value\n",
       "0     Highly\\ncharged   Mean gap\\nfrequency  0.353896\n",
       "1     Highly\\ncharged   Mean gap\\nfrequency  0.360933\n",
       "2     Highly\\ncharged   Mean gap\\nfrequency  0.551905\n",
       "3     Highly\\ncharged   Mean gap\\nfrequency  0.300412\n",
       "4     Highly\\ncharged   Mean gap\\nfrequency  0.358588\n",
       "...               ...                   ...       ...\n",
       "4355           Random  Sequence\\ndivergence  1.259739\n",
       "4356           Random  Sequence\\ndivergence  0.733688\n",
       "4357           Random  Sequence\\ndivergence  1.107804\n",
       "4358           Random  Sequence\\ndivergence  1.234553\n",
       "4359           Random  Sequence\\ndivergence  1.633620\n",
       "\n",
       "[4360 rows x 3 columns]"
      ]
     },
     "execution_count": 24,
     "metadata": {},
     "output_type": "execute_result"
    }
   ],
   "source": [
    "df_data = []\n",
    "region_type = ['Highly\\ncharged', 'DisProt', 'Random']\n",
    "for i, aq in enumerate([hits_aq, idr_aq, rand_aq]):\n",
    "    for j in aq:\n",
    "        rv = {}\n",
    "        rv['region_type'] = region_type[i]\n",
    "        rv['metric'] = 'Mean gap\\nfrequency'\n",
    "        rv['value'] = j\n",
    "        df_data.append(rv)\n",
    "\n",
    "for i, aq in enumerate([hits_sd, idr_sd, rand_sd]):\n",
    "    for j in aq:\n",
    "        rv = {}\n",
    "        rv['region_type'] = region_type[i]\n",
    "        rv['metric'] = 'Sequence\\ndivergence'\n",
    "        rv['value'] = j\n",
    "        df_data.append(rv)\n",
    "\n",
    "df = pd.DataFrame.from_records(df_data)\n",
    "df\n"
   ]
  },
  {
   "cell_type": "code",
   "execution_count": 33,
   "metadata": {},
   "outputs": [
    {
     "data": {
      "image/png": "[encoded data removed]",
      "text/plain": [
       "<Figure size 288x288 with 1 Axes>"
      ]
     },
     "metadata": {
      "needs_background": "light"
     },
     "output_type": "display_data"
    }
   ],
   "source": [
    "fig, axes = plt.subplots(figsize=(4, 4))\n",
    "\n",
    "sns.barplot(data=df, x='metric', y='value', ci='sd', hue='region_type',\n",
    "            palette=[cscheme['cr'], cscheme['dis'], cscheme['null']],\n",
    "            edgecolor=\"white\", capsize=0.1)\n",
    "plt.legend(title=None, ncol=1, bbox_to_anchor=(1.05, 0.7), frameon=False,\n",
    "           columnspacing=1.5)\n",
    "plt.xlabel('')\n",
    "plt.ylabel('Value')\n",
    "\n",
    "plt.savefig('./plots/Figure4A.png', dpi=300, bbox_inches='tight')\n",
    "plt.show()"
   ]
  },
  {
   "cell_type": "markdown",
   "metadata": {},
   "source": [
    "## C"
   ]
  },
  {
   "cell_type": "code",
   "execution_count": 21,
   "metadata": {},
   "outputs": [],
   "source": [
    "# Data and filepaths\n",
    "df = pd.read_csv(\"../data/charged_regions/cr_filtered.csv\", comment='#')\n",
    "\n",
    "#aybrah_path = '/Volumes/DATA/aybrah/hits_outputs/20210218/'\n",
    "aybrah_path = '/mnt/d/research/drummond-lab/data/aybrah-all/'\n",
    "#aybrah_path = \"/Volumes/DATA/aybrah/aybrah-all/\"\n",
    "\n",
    "#fdir = \"/Volumes/DATA/aybrah/aybrah-all/\"\n",
    "fdir = '/mnt/d/research/drummond-lab/data/aybrah-all/'"
   ]
  },
  {
   "cell_type": "code",
   "execution_count": 22,
   "metadata": {},
   "outputs": [],
   "source": [
    "# Helper functions\n",
    "\n",
    "def filter_msa(msa, cutoff, how=\"length\"):\n",
    "    \"\"\"\n",
    "    Given an msa, filter out all the entries that are less than a certain length.\n",
    "    \"\"\"\n",
    "    filtered_msa = []\n",
    "    for record in msa:\n",
    "        rlen = len(str(record.seq).replace('-', ''))\n",
    "        if rlen > cutoff:\n",
    "            filtered_msa.append(record)\n",
    "            \n",
    "    return(filtered_msa)\n",
    "\n",
    "def COV(x, absolute=True):\n",
    "    \"\"\"\n",
    "    Given a interable of values, return the coefficient of variation of those values.\n",
    "    \"\"\"\n",
    "    std = np.sqrt(np.nanvar(x))\n",
    "    if not absolute:\n",
    "        return(std / np.nanmean(x))\n",
    "    else:\n",
    "        return(std / np.abs(np.nanmean(x)))"
   ]
  },
  {
   "cell_type": "code",
   "execution_count": 23,
   "metadata": {},
   "outputs": [],
   "source": [
    "def compute_region_fcr(msa):\n",
    "    \"\"\"\n",
    "    Given an msa, extract the mean fraction of charged residues (FCR) of all the sequences in the msa\n",
    "    \"\"\"\n",
    "    fcrs = []\n",
    "    for record in msa:\n",
    "        seq = str(record.seq).replace('-',\"\")\n",
    "        fcrs.append(cp.fraction_charged(seq))\n",
    "    return np.mean(fcrs)\n",
    "\n",
    "def compute_region_fcr_var(msa, cov=False):\n",
    "    \"\"\"\n",
    "    Given an msa, extract the variance in the fraction of charged residues (FCR) of all the sequences in the msa\n",
    "    \"\"\"\n",
    "    fcrs = []\n",
    "    for record in msa:\n",
    "        seq = str(record.seq).replace('-',\"\")\n",
    "        fcrs.append(cp.fraction_charged(seq))\n",
    "    if not cov:\n",
    "        return np.var(fcrs)\n",
    "    else:\n",
    "        return COV(fcrs)\n",
    "    \n",
    "def get_row_charge_props(row, filter_cutoff=30):\n",
    "    orf = row['orf']  \n",
    "    refseq = row['region.seq']\n",
    "    left_bound = row['left.bound']\n",
    "    right_bound = row['right.bound']\n",
    "    # Read MSA for the orf in question\n",
    "    msa = AlignIO.read(open(aybrah_path+str(orf)+'-aybrah.fa'), \"fasta\")\n",
    "    # Get just the region in question\n",
    "    region_msa = aq.extract_region_msa(msa, left_bound, right_bound, refseq=refseq)\n",
    "    # Filter the msa for very short and empty regions\n",
    "    region_msa = filter_msa(region_msa, cutoff=filter_cutoff)\n",
    "    msa_len = len(region_msa)\n",
    "    if msa_len < 10:\n",
    "        out = np.empty(3)\n",
    "        out[:] = np.NaN\n",
    "        return pd.Series(out)\n",
    "    \n",
    "    # Calculate charge properties\n",
    "    region_mean_fcr = compute_region_fcr(region_msa)\n",
    "    region_fcr_var = compute_region_fcr_var(region_msa)\n",
    "    region_fcr_cov = compute_region_fcr_var(region_msa, cov=True)\n",
    "    \n",
    "    return pd.Series([region_mean_fcr, region_fcr_var, region_fcr_cov])"
   ]
  },
  {
   "cell_type": "code",
   "execution_count": 24,
   "metadata": {},
   "outputs": [
    {
     "data": {
      "text/html": [
       "<div>\n",
       "<style scoped>\n",
       "    .dataframe tbody tr th:only-of-type {\n",
       "        vertical-align: middle;\n",
       "    }\n",
       "\n",
       "    .dataframe tbody tr th {\n",
       "        vertical-align: top;\n",
       "    }\n",
       "\n",
       "    .dataframe thead th {\n",
       "        text-align: right;\n",
       "    }\n",
       "</style>\n",
       "<table border=\"1\" class=\"dataframe\">\n",
       "  <thead>\n",
       "    <tr style=\"text-align: right;\">\n",
       "      <th></th>\n",
       "      <th>orf</th>\n",
       "      <th>gene</th>\n",
       "      <th>seq.len</th>\n",
       "      <th>left.bound</th>\n",
       "      <th>right.bound</th>\n",
       "      <th>region.seq</th>\n",
       "      <th>region.len</th>\n",
       "      <th>charge.asymmetry</th>\n",
       "      <th>frac.charge</th>\n",
       "      <th>kappa1</th>\n",
       "      <th>kappa2</th>\n",
       "      <th>uni_id</th>\n",
       "      <th>orf_label</th>\n",
       "      <th>aybrah.mean.fcr</th>\n",
       "      <th>aybrah.fcr.var</th>\n",
       "      <th>aybrah.fcr.cov</th>\n",
       "    </tr>\n",
       "  </thead>\n",
       "  <tbody>\n",
       "    <tr>\n",
       "      <th>0</th>\n",
       "      <td>YAL011W</td>\n",
       "      <td>SWC3</td>\n",
       "      <td>626</td>\n",
       "      <td>0</td>\n",
       "      <td>54</td>\n",
       "      <td>MPAVLRTRSKESSIEQKPASRTRTRSRRGKRGRDDDDDDDDEESDD...</td>\n",
       "      <td>55</td>\n",
       "      <td>0.015674</td>\n",
       "      <td>0.527273</td>\n",
       "      <td>0.297167</td>\n",
       "      <td>0.616928</td>\n",
       "      <td>P31376</td>\n",
       "      <td>verified</td>\n",
       "      <td>0.334740</td>\n",
       "      <td>0.010555</td>\n",
       "      <td>0.306915</td>\n",
       "    </tr>\n",
       "    <tr>\n",
       "      <th>1</th>\n",
       "      <td>YAL011W</td>\n",
       "      <td>SWC3</td>\n",
       "      <td>626</td>\n",
       "      <td>169</td>\n",
       "      <td>265</td>\n",
       "      <td>RLFILKNDKIEQKWQDEQELKKKEKELKRKNDAEAKRLRMEERKRQ...</td>\n",
       "      <td>97</td>\n",
       "      <td>0.050753</td>\n",
       "      <td>0.536082</td>\n",
       "      <td>0.051716</td>\n",
       "      <td>0.110243</td>\n",
       "      <td>P31376</td>\n",
       "      <td>verified</td>\n",
       "      <td>0.406444</td>\n",
       "      <td>0.019036</td>\n",
       "      <td>0.339458</td>\n",
       "    </tr>\n",
       "    <tr>\n",
       "      <th>2</th>\n",
       "      <td>YAL011W</td>\n",
       "      <td>SWC3</td>\n",
       "      <td>626</td>\n",
       "      <td>361</td>\n",
       "      <td>424</td>\n",
       "      <td>KTAATEPEPKKADDENAEKQQSKEAKTTAESTQVDVKKEEEDVKEK...</td>\n",
       "      <td>64</td>\n",
       "      <td>0.007812</td>\n",
       "      <td>0.500000</td>\n",
       "      <td>0.044964</td>\n",
       "      <td>0.096912</td>\n",
       "      <td>P31376</td>\n",
       "      <td>verified</td>\n",
       "      <td>0.391627</td>\n",
       "      <td>0.016703</td>\n",
       "      <td>0.330008</td>\n",
       "    </tr>\n",
       "    <tr>\n",
       "      <th>3</th>\n",
       "      <td>YAL011W</td>\n",
       "      <td>SWC3</td>\n",
       "      <td>626</td>\n",
       "      <td>470</td>\n",
       "      <td>525</td>\n",
       "      <td>KSVVEFLEDTDEIIISWIVIHNSKEIEKFKTKKIKAKLKADQKLNK...</td>\n",
       "      <td>56</td>\n",
       "      <td>0.000000</td>\n",
       "      <td>0.428571</td>\n",
       "      <td>0.114622</td>\n",
       "      <td>0.300249</td>\n",
       "      <td>P31376</td>\n",
       "      <td>verified</td>\n",
       "      <td>0.461596</td>\n",
       "      <td>0.007704</td>\n",
       "      <td>0.190149</td>\n",
       "    </tr>\n",
       "    <tr>\n",
       "      <th>4</th>\n",
       "      <td>YAL013W</td>\n",
       "      <td>DEP1</td>\n",
       "      <td>406</td>\n",
       "      <td>81</td>\n",
       "      <td>163</td>\n",
       "      <td>TLTESLKRPHEDEKEAIDEAKKMKVPGENEDESKEEEKSQELEEAI...</td>\n",
       "      <td>83</td>\n",
       "      <td>0.141633</td>\n",
       "      <td>0.542169</td>\n",
       "      <td>0.093375</td>\n",
       "      <td>0.239955</td>\n",
       "      <td>P31385</td>\n",
       "      <td>verified</td>\n",
       "      <td>0.499872</td>\n",
       "      <td>0.008329</td>\n",
       "      <td>0.182575</td>\n",
       "    </tr>\n",
       "  </tbody>\n",
       "</table>\n",
       "</div>"
      ],
      "text/plain": [
       "       orf  gene  seq.len  left.bound  right.bound  \\\n",
       "0  YAL011W  SWC3      626           0           54   \n",
       "1  YAL011W  SWC3      626         169          265   \n",
       "2  YAL011W  SWC3      626         361          424   \n",
       "3  YAL011W  SWC3      626         470          525   \n",
       "4  YAL013W  DEP1      406          81          163   \n",
       "\n",
       "                                          region.seq  region.len  \\\n",
       "0  MPAVLRTRSKESSIEQKPASRTRTRSRRGKRGRDDDDDDDDEESDD...          55   \n",
       "1  RLFILKNDKIEQKWQDEQELKKKEKELKRKNDAEAKRLRMEERKRQ...          97   \n",
       "2  KTAATEPEPKKADDENAEKQQSKEAKTTAESTQVDVKKEEEDVKEK...          64   \n",
       "3  KSVVEFLEDTDEIIISWIVIHNSKEIEKFKTKKIKAKLKADQKLNK...          56   \n",
       "4  TLTESLKRPHEDEKEAIDEAKKMKVPGENEDESKEEEKSQELEEAI...          83   \n",
       "\n",
       "   charge.asymmetry  frac.charge    kappa1    kappa2  uni_id orf_label  \\\n",
       "0          0.015674     0.527273  0.297167  0.616928  P31376  verified   \n",
       "1          0.050753     0.536082  0.051716  0.110243  P31376  verified   \n",
       "2          0.007812     0.500000  0.044964  0.096912  P31376  verified   \n",
       "3          0.000000     0.428571  0.114622  0.300249  P31376  verified   \n",
       "4          0.141633     0.542169  0.093375  0.239955  P31385  verified   \n",
       "\n",
       "   aybrah.mean.fcr  aybrah.fcr.var  aybrah.fcr.cov  \n",
       "0         0.334740        0.010555        0.306915  \n",
       "1         0.406444        0.019036        0.339458  \n",
       "2         0.391627        0.016703        0.330008  \n",
       "3         0.461596        0.007704        0.190149  \n",
       "4         0.499872        0.008329        0.182575  "
      ]
     },
     "execution_count": 24,
     "metadata": {},
     "output_type": "execute_result"
    }
   ],
   "source": [
    "newcols = df.apply(get_row_charge_props, axis=1)\n",
    "newcols.columns = ['aybrah.mean.fcr', 'aybrah.fcr.var', 'aybrah.fcr.cov']\n",
    "newdf = df.join(newcols)\n",
    "newdf.head()"
   ]
  },
  {
   "cell_type": "code",
   "execution_count": 25,
   "metadata": {},
   "outputs": [],
   "source": [
    "verified_orfs_with_msa = pd.read_csv('../data/sc_orfs/verified_orfs_with_msa.csv')\n",
    "valid_orfs = verified_orfs_with_msa['systematic_name'].tolist()\n",
    "\n",
    "np.random.seed(seed)\n",
    "\n",
    "def extract_random_region_from_proteome(fdir, regionlen, valid_orfs):\n",
    "    msa = None\n",
    "    cnt = 0\n",
    "    while msa is None:\n",
    "        orf_i = random.randrange(len(valid_orfs))\n",
    "        orf = valid_orfs[orf_i]\n",
    "        msa = AlignIO.read(open(fdir+str(orf)+'-aybrah.fa'), \"fasta\")\n",
    "        if len(msa[0].seq) <= regionlen:\n",
    "            msa = None\n",
    "        cnt += 1\n",
    "        if cnt >= 20:\n",
    "            print(regionlen)\n",
    "    starti = random.randrange(len(msa[0].seq) - regionlen)\n",
    "    random_msa = msa[:, starti:(starti + regionlen)]    \n",
    "    return random_msa\n",
    "\n",
    "ranges_dict = {}\n",
    "for index, row in df.iterrows():\n",
    "    orf = row['orf']\n",
    "    msa = AlignIO.read(open(aybrah_path+str(orf)+'-aybrah.fa'), \"fasta\")\n",
    "    if orf not in ranges_dict:\n",
    "        ranges_dict[orf] = []\n",
    "    refseq = row['region.seq']\n",
    "    left_bound = row['left.bound']\n",
    "    right_bound = row['right.bound']\n",
    "    msa_left_bound, msa_right_bound = aq.get_region_range(msa, left_bound, right_bound, refseq=refseq)\n",
    "    ranges_dict[orf].append((msa_left_bound, msa_right_bound))"
   ]
  },
  {
   "cell_type": "code",
   "execution_count": 26,
   "metadata": {},
   "outputs": [],
   "source": [
    "# add dist of randomly draw regions msas to above\n",
    "np.random.seed(seed)\n",
    "fcr_random = []\n",
    "\n",
    "for k,v in ranges_dict.items():\n",
    "    for charged_region in v:\n",
    "        regionlen = charged_region[1] - charged_region[0] + 1\n",
    "        \n",
    "        # Draw a random msa and ensure there is an S. cer sequence in it\n",
    "        redraw = True\n",
    "        while redraw:\n",
    "            #random_msa = extract_random_region_from_proteome(fdir, regionlen, valid_orfs)\n",
    "            length = 0\n",
    "            while length < 10:\n",
    "                random_msa = extract_random_region_from_proteome(fdir, regionlen, valid_orfs)\n",
    "                # Filter out empty and very short sequences as we did for the charged regions themselves\n",
    "                random_msa = filter_msa(random_msa, 25)\n",
    "                # Calculate how many sequences are in the resulting alignment and redraw if there are fewer than the cutoff\n",
    "                length = len(random_msa)\n",
    "            for record in random_msa:\n",
    "                if record.id == \"Saccharomyces\":\n",
    "                    redraw=False\n",
    "                    refseq=str(record.seq).replace(\"-\", \"\")\n",
    "        \n",
    "        random_fcr = compute_region_fcr(random_msa)\n",
    "        fcr_random.append(random_fcr)"
   ]
  },
  {
   "cell_type": "code",
   "execution_count": 27,
   "metadata": {},
   "outputs": [],
   "source": [
    "from statsmodels.distributions.empirical_distribution import ECDF"
   ]
  },
  {
   "cell_type": "code",
   "execution_count": 28,
   "metadata": {},
   "outputs": [],
   "source": [
    "ecdf = ECDF(fcr_random)"
   ]
  },
  {
   "cell_type": "code",
   "execution_count": 29,
   "metadata": {},
   "outputs": [],
   "source": [
    "mindiff = 1e99\n",
    "midpoint = 0\n",
    "for i in np.arange(0, 0.4, 1e-6):\n",
    "    res = ecdf(i)\n",
    "    diff = abs(res - 0.5)\n",
    "    if diff < mindiff:\n",
    "        mindiff = diff\n",
    "        midpoint = i"
   ]
  },
  {
   "cell_type": "code",
   "execution_count": 30,
   "metadata": {},
   "outputs": [
    {
     "data": {
      "text/plain": [
       "0.241663"
      ]
     },
     "execution_count": 30,
     "metadata": {},
     "output_type": "execute_result"
    }
   ],
   "source": [
    "midpoint"
   ]
  },
  {
   "cell_type": "code",
   "execution_count": 31,
   "metadata": {},
   "outputs": [],
   "source": [
    "std = np.sqrt(np.var(fcr_random))"
   ]
  },
  {
   "cell_type": "code",
   "execution_count": 39,
   "metadata": {},
   "outputs": [
    {
     "data": {
      "image/png": "[encoded data removed]",
      "text/plain": [
       "<Figure size 302.4x230.4 with 1 Axes>"
      ]
     },
     "metadata": {
      "needs_background": "light"
     },
     "output_type": "display_data"
    }
   ],
   "source": [
    "fig, ax = plt.subplots(figsize=(4.2,3.2))\n",
    "sns.ecdfplot(data=newdf, x='aybrah.mean.fcr', color = cscheme['cr'],\n",
    "             label = 'Highly charged', ax=ax)\n",
    "sns.ecdfplot(fcr_random, color=cscheme['null'],\n",
    "             label='Random', ax=ax)\n",
    "ax.errorbar(midpoint, 0.5, xerr=std, color=cscheme['null'], capsize=5)\n",
    "ax.errorbar(midpoint, 0.5, xerr=2*std, color=cscheme['null'], capsize=5)\n",
    "\n",
    "plt.xlabel(\"FCR (Averaged across alignment)\")\n",
    "plt.ylabel(\"ECDF\")\n",
    "plt.legend(ncol=2, bbox_to_anchor=(1.05, 1.2), handlelength=1.5,\n",
    "           columnspacing=1.5, frameon=False)\n",
    "plt.savefig('./plots/Figure4C.png', dpi=300, bbox_inches='tight')\n",
    "plt.show()"
   ]
  },
  {
   "cell_type": "markdown",
   "metadata": {},
   "source": [
    "## E"
   ]
  },
  {
   "cell_type": "code",
   "execution_count": 59,
   "metadata": {},
   "outputs": [],
   "source": [
    "ranges_dict = {}\n",
    "for index, row in df.iterrows():\n",
    "    orf = row['orf']\n",
    "    msa = AlignIO.read(open(aybrah_path+str(orf)+'-aybrah.fa'), \"fasta\")\n",
    "    if orf not in ranges_dict:\n",
    "        ranges_dict[orf] = []\n",
    "    refseq = row['region.seq']\n",
    "    left_bound = row['left.bound']\n",
    "    right_bound = row['right.bound']\n",
    "    msa_left_bound, msa_right_bound = aq.get_region_range(msa, left_bound, right_bound, refseq=refseq)\n",
    "    ranges_dict[orf].append((msa_left_bound, msa_right_bound))"
   ]
  },
  {
   "cell_type": "code",
   "execution_count": 60,
   "metadata": {},
   "outputs": [],
   "source": [
    "def get_uncharged_region_ranges(charged_regions, msa_len):\n",
    "    uncharged_regions = []\n",
    "    \n",
    "    if charged_regions[0][0] != 0:\n",
    "        uncharged_regions.append((0, charged_regions[0][0] - 1))\n",
    "        \n",
    "    start = charged_regions[0][1] + 1\n",
    "    for region in charged_regions[1:]:\n",
    "        uncharged_regions.append((start, region[0]-1))\n",
    "        start = region[1] + 1\n",
    "\n",
    "    if charged_regions[-1][1] != (msa_len - 1):\n",
    "        uncharged_regions.append((charged_regions[-1][1], msa_len-1))\n",
    "        \n",
    "    return uncharged_regions"
   ]
  },
  {
   "cell_type": "code",
   "execution_count": 61,
   "metadata": {},
   "outputs": [],
   "source": [
    "def extract_uncharged_region_msa(msa, charged_regions):\n",
    "    uncharged_regions = get_uncharged_region_ranges(charged_regions, len(msa[0]))\n",
    "    for record in msa:\n",
    "        uncharged_seq = ''\n",
    "        for region in uncharged_regions:\n",
    "            uncharged_seq += record.seq[region[0]:(region[1]+1)]\n",
    "        record.seq = uncharged_seq\n",
    "    return msa"
   ]
  },
  {
   "cell_type": "code",
   "execution_count": 62,
   "metadata": {},
   "outputs": [],
   "source": [
    "# Robust versions of functions to handle empty and short strings when looking at the rest of the protein\n",
    "def fraction_charged2(sequence):\n",
    "    \"\"\"\n",
    "    Given a string of single-letter amino acids (sequence), return the fraction of charged residues.\n",
    "    \"\"\"\n",
    "    sequence = sequence.upper()\n",
    "    n = len(sequence)\n",
    "    try:\n",
    "        fc = (sequence.count('E') + sequence.count('K') + sequence.count('R') + sequence.count('D')) / n\n",
    "    except ZeroDivisionError:\n",
    "        return(np.nan)\n",
    "\n",
    "    return(fc)\n",
    "\n",
    "def compute_region_fcr2(msa):\n",
    "    \"\"\"\n",
    "    Given an msa, extract the mean fraction of charged residues (FCR) of all the sequences in the msa\n",
    "    \"\"\"\n",
    "    fcrs = []\n",
    "    for record in msa:\n",
    "        seq = str(record.seq).replace('-',\"\")\n",
    "        if len(seq) == 0:\n",
    "            continue\n",
    "        fcrs.append(fraction_charged2(seq))\n",
    "    return np.nanmean(fcrs)"
   ]
  },
  {
   "cell_type": "code",
   "execution_count": 63,
   "metadata": {},
   "outputs": [],
   "source": [
    "def append_null_fcr(row):\n",
    "    orf = row['orf']\n",
    "    refseq = row['region.seq']\n",
    "    left_bound = row['left.bound']\n",
    "    right_bound = row['right.bound']\n",
    "    charged_regions = ranges_dict[orf]\n",
    "    msa = AlignIO.read(open(aybrah_path+str(orf)+'-aybrah.fa'), \"fasta\")\n",
    "    msa_left_bound, msa_right_bound = aq.get_region_range(msa, left_bound, right_bound, refseq=refseq)\n",
    "    regionlen = msa_right_bound - msa_left_bound\n",
    "    uncharged_region_msa = extract_uncharged_region_msa(msa, charged_regions)\n",
    "    random_region_msa = aq.extract_random_region_from_msa(uncharged_region_msa, regionlen)\n",
    "    \n",
    "    # Here I should filter with the same criteria as the charged regions but I'm not sure how to do that yet\n",
    "    mean_fcr = compute_region_fcr2(random_region_msa)\n",
    "    return mean_fcr"
   ]
  },
  {
   "cell_type": "code",
   "execution_count": 64,
   "metadata": {},
   "outputs": [],
   "source": [
    "np.random.seed(4044)\n",
    "newdf['nonregion.aybrah.fcr'] = df.apply(lambda row: append_null_fcr(row), axis=1)"
   ]
  },
  {
   "cell_type": "code",
   "execution_count": 65,
   "metadata": {},
   "outputs": [],
   "source": [
    "def p_to_logodds(p):\n",
    "    o = p / (1-p)\n",
    "    lo = np.log(o)\n",
    "    if np.isinf(lo):\n",
    "        return(np.nan)\n",
    "    else:\n",
    "        return lo"
   ]
  },
  {
   "cell_type": "code",
   "execution_count": 66,
   "metadata": {},
   "outputs": [
    {
     "name": "stderr",
     "output_type": "stream",
     "text": [
      "/home/rosalindpan/.local/lib/python3.7/site-packages/ipykernel_launcher.py:3: RuntimeWarning: divide by zero encountered in log\n",
      "  This is separate from the ipykernel package so we can avoid doing imports until\n"
     ]
    }
   ],
   "source": [
    "region_logodds = [p_to_logodds(i) for i in newdf['aybrah.mean.fcr'].dropna()]\n",
    "random_logodds = [p_to_logodds(i) for i in fcr_random]\n",
    "rest_logodds = [p_to_logodds(i) for i in newdf['nonregion.aybrah.fcr'].dropna()]"
   ]
  },
  {
   "cell_type": "code",
   "execution_count": 67,
   "metadata": {},
   "outputs": [
    {
     "name": "stdout",
     "output_type": "stream",
     "text": [
      "Standard deviation of log odds:\n",
      "Regions: 0.326903360543112\n",
      "Rest:    0.49035132933212494\n"
     ]
    },
    {
     "name": "stderr",
     "output_type": "stream",
     "text": [
      "/home/rosalindpan/.local/lib/python3.7/site-packages/ipykernel_launcher.py:3: RuntimeWarning: divide by zero encountered in log\n",
      "  This is separate from the ipykernel package so we can avoid doing imports until\n"
     ]
    }
   ],
   "source": [
    "print('Standard deviation of log odds:')\n",
    "print(\"Regions: {}\".format(np.sqrt(np.nanvar([p_to_logodds(i) for i in newdf['aybrah.mean.fcr']]))))\n",
    "print(\"Rest:    {}\".format(np.sqrt(np.nanvar([p_to_logodds(i) for i in newdf['nonregion.aybrah.fcr']]))))"
   ]
  },
  {
   "cell_type": "code",
   "execution_count": 41,
   "metadata": {},
   "outputs": [
    {
     "data": {
      "image/png": "[encoded data removed]",
      "text/plain": [
       "<Figure size 360x288 with 1 Axes>"
      ]
     },
     "metadata": {
      "needs_background": "light"
     },
     "output_type": "display_data"
    }
   ],
   "source": [
    "plt.figure(figsize=(5,4))\n",
    "plt.hist(region_logodds, bins=24, alpha = 0.5, label = 'Charged regions', color=cscheme['cr'])\n",
    "plt.hist(rest_logodds, bins=25, alpha = 0.5, color = cscheme['null'], label = 'Rest of the protein')\n",
    "plt.xlabel(\"FCR (mean across alignment) log odds\")\n",
    "plt.ylabel(\"Count\")\n",
    "plt.legend()\n",
    "plt.tight_layout()\n",
    "plt.savefig('./plots/Figure4D.png', dpi=300)\n",
    "plt.show()"
   ]
  },
  {
   "cell_type": "code",
   "execution_count": 42,
   "metadata": {},
   "outputs": [
    {
     "data": {
      "text/plain": [
       "BartlettResult(statistic=78.62791550234161, pvalue=7.498231644731047e-19)"
      ]
     },
     "execution_count": 42,
     "metadata": {},
     "output_type": "execute_result"
    }
   ],
   "source": [
    "stats.bartlett(region_logodds, rest_logodds)"
   ]
  },
  {
   "cell_type": "code",
   "execution_count": 43,
   "metadata": {},
   "outputs": [
    {
     "data": {
      "image/png": "[encoded data removed]",
      "text/plain": [
       "<Figure size 504x288 with 1 Axes>"
      ]
     },
     "metadata": {
      "needs_background": "light"
     },
     "output_type": "display_data"
    }
   ],
   "source": [
    "random_2sigma = np.mean(fcr_random) + (2*np.sqrt(np.var(fcr_random)))\n",
    "\n",
    "plt.figure(figsize=(7,4))\n",
    "plt.hist(newdf['aybrah.mean.fcr'], bins=25, label = 'Charged\\nregions', color = cscheme['cr'], alpha=0.5)\n",
    "plt.hist(fcr_random, bins=25, label='Random\\nregions', color=cscheme['null'], alpha=0.5)\n",
    "plt.hist(newdf['nonregion.aybrah.fcr'], bins=25, alpha = 0.5, color = 'mediumseagreen', label = 'Rest of the protein')\n",
    "plt.vlines(x=np.mean(newdf['aybrah.mean.fcr']), ymin=0, ymax=200, color=cscheme['cr'])\n",
    "plt.vlines(x=random_2sigma, ymin=0, ymax=200, color=\"black\")\n",
    "plt.xlabel(\"FCR (mean across alignment)\")\n",
    "plt.ylabel(\"Count\")\n",
    "plt.ylim((0, 200))\n",
    "plt.legend(bbox_to_anchor=(1, 0.8))\n",
    "plt.tight_layout()\n",
    "plt.savefig('./plots/Figure4C.png', dpi=300)\n",
    "plt.show()"
   ]
  },
  {
   "cell_type": "code",
   "execution_count": 44,
   "metadata": {},
   "outputs": [
    {
     "data": {
      "text/plain": [
       "LeveneResult(statistic=47.38547128833426, pvalue=8.168452731601378e-12)"
      ]
     },
     "execution_count": 44,
     "metadata": {},
     "output_type": "execute_result"
    }
   ],
   "source": [
    "stats.levene(region_logodds, rest_logodds, center=\"mean\")"
   ]
  },
  {
   "cell_type": "markdown",
   "metadata": {},
   "source": [
    "## E"
   ]
  },
  {
   "cell_type": "code",
   "execution_count": 40,
   "metadata": {},
   "outputs": [],
   "source": [
    "enriched_data_path = \"../data/null-regions-output/\""
   ]
  },
  {
   "cell_type": "code",
   "execution_count": 41,
   "metadata": {},
   "outputs": [],
   "source": [
    "def compute_region_enriched_fraction(msa, target_aas):\n",
    "    \"\"\"\n",
    "    Given an msa, extract the mean fraction of amino acids in a subset (target_aaas)\n",
    "    for each sequences in the msa and return the mean\n",
    "    \"\"\"\n",
    "    fracs = []\n",
    "    for record in msa:\n",
    "        seq = str(record.seq).replace('-',\"\")\n",
    "        fracs.append(fc.get_enriched_fraction(seq, target_aas))\n",
    "    return np.mean(fracs)\n",
    "\n",
    "def read_and_filter_enrichment_data(file):\n",
    "    data = pd.read_csv(file, comment=\"#\")\n",
    "    \n",
    "    # # Filter MSA\n",
    "    wrong_seq = []\n",
    "    for index, row in data.iterrows():\n",
    "        orf = row['orf']\n",
    "        try:\n",
    "            msa = AlignIO.read(open(fdir+str(orf)+'-aybrah.fa'), \"fasta\")\n",
    "        # These are all empty / not in the Aybrah database\n",
    "        except ValueError:\n",
    "            wrong_seq.append(index)\n",
    "            continue       \n",
    "        contains_seq = False\n",
    "        for record in msa:\n",
    "            seq = crutil.remove_gaps(record.seq)\n",
    "            if row['region.seq'] in seq:\n",
    "                contains_seq = True\n",
    "        if not contains_seq:\n",
    "            wrong_seq.append(index)\n",
    "\n",
    "    data.drop(data.index[wrong_seq], inplace=True)\n",
    "    return data\n",
    "\n",
    "def get_row_comp_conservation(row, target_aas, filter_cutoff=30):\n",
    "    orf = row['orf']  \n",
    "    refseq = row['region.seq']\n",
    "    left_bound = row['left.bound']\n",
    "    right_bound = row['right.bound']\n",
    "    # Read MSA for the orf in question\n",
    "    msa = AlignIO.read(open(fdir+str(orf)+'-aybrah.fa'), \"fasta\")\n",
    "    # Get just the region in question\n",
    "    # There are a small number of problematic sequences where the alignment boundaries are incorrect\n",
    "    # This skips these; I still don't understand why they happen\n",
    "    try:\n",
    "        region_msa = aq.extract_region_msa(msa, left_bound, right_bound, refseq=refseq)\n",
    "    except KeyError:\n",
    "        return(np.nan)\n",
    "    # Filter the msa for very short and empty regions\n",
    "    region_msa = filter_msa(region_msa, cutoff=filter_cutoff)\n",
    "\n",
    "    region_enrichment = compute_region_enriched_fraction(region_msa, target_aas)\n",
    "    \n",
    "    return pd.Series(region_enrichment)\n",
    "\n",
    "def get_comp(seq, states):\n",
    "    dcomp = {}\n",
    "    for state in states:\n",
    "        dcomp[state] = 0\n",
    "    for aa in seq:\n",
    "        dcomp[aa] += 1\n",
    "    comp = []\n",
    "    for k,v in dcomp.items():\n",
    "        comp.append(v / len(seq))\n",
    "    return comp\n",
    "\n",
    "def get_proteome_freqs(prot_filepath):\n",
    "    \"\"\"\n",
    "    Given a .fa formattted proteome file (located at prot_filepath), generate a frequency vector of the natural 20 amino acids (in alphabetical order)\n",
    "    \"\"\"\n",
    "    scerprot = []\n",
    "    for record in SeqIO.parse(prot_filepath, \"fasta\"):\n",
    "        scerprot.append(record)\n",
    "    \n",
    "    scercomp = np.zeros(20)\n",
    "    for orf in scerprot:\n",
    "        seq = str(orf.seq).replace('*', '')\n",
    "        scercomp = np.add(scercomp, get_comp(seq, comp.aas))\n",
    "    scercomp = np.divide(scercomp, len(scerprot))\n",
    "\n",
    "    return(dict(zip(comp.aas, scercomp)))\n",
    "\n",
    "def scale_to_unit(value, zer_val, one_val):\n",
    "    \"\"\"\n",
    "    Given a value (float), convert to a scaled value within a given range onto the 0->1 scale.\n",
    "    \"\"\"\n",
    "    span = one_val - zer_val\n",
    "    scaled_value = (value-zer_val) / span\n",
    "    return scaled_value"
   ]
  },
  {
   "cell_type": "code",
   "execution_count": 42,
   "metadata": {},
   "outputs": [],
   "source": [
    "aa_freqs = get_proteome_freqs(\"../data/ref_proteomes/Saccharomyces_cerevisiae.fasta\")"
   ]
  },
  {
   "cell_type": "code",
   "execution_count": 43,
   "metadata": {},
   "outputs": [],
   "source": [
    "## Only uncomment if you want to regenerate data -- it takes a long time!\n",
    "\n",
    "# files = glob.glob(enriched_data_path+\"*_enriched.csv\")\n",
    "\n",
    "# all_drifts = []\n",
    "\n",
    "# for f, file in enumerate(files):\n",
    "#     if f % 5 == 0:\n",
    "#         print(\"Processing file {} / {}\".format(f, len(files)))\n",
    "#     data = read_and_filter_enrichment_data(file)\n",
    "#     targets = list(data.keys()[-1][-4:])\n",
    "#     try:\n",
    "#         data[\"aybrah.avg.enrichment\"] = data.apply(get_row_comp_conservation, args=(targets, ), axis=1)\n",
    "#     except KeyError:\n",
    "#         print(file)\n",
    "#         continue\n",
    "\n",
    "#     proteome_freq = np.sum([aa_freqs[aa] for aa in targets])\n",
    "#     enriched_freq = np.nanmean(data[\"fraction.enriched.{}\".format(''.join(targets))])\n",
    "#     scaled_drift = scale_to_unit(np.nanmean(data['aybrah.avg.enrichment']), proteome_freq, enriched_freq)\n",
    "#     all_drifts.append(1-scaled_drift)"
   ]
  },
  {
   "cell_type": "code",
   "execution_count": 44,
   "metadata": {},
   "outputs": [],
   "source": [
    "#np.savetxt(\"../data/null-regions-output/all_mean_drift_values_30.npy\", all_drifts)\n",
    "to_plot = np.loadtxt(\"../data/null-regions-output/all_mean_drift_values_30.npy\")"
   ]
  },
  {
   "cell_type": "code",
   "execution_count": 45,
   "metadata": {},
   "outputs": [],
   "source": [
    "#plt.figure(figsize=(6,4))\n",
    "#sns.kdeplot(to_plot, color='black')\n",
    "#plt.vlines(x=(1-0.7627), ymax=5, ymin=0, color=cscheme[\"cr\"])\n",
    "#plt.vlines(np.mean(to_plot), ymax=5, ymin=0)\n",
    "#plt.vlines((np.mean(to_plot)+np.std(to_plot)), ymax=5, ymin=0, color='gray', linestyle=\"dashed\", alpha=0.5)\n",
    "#plt.vlines((np.mean(to_plot)-np.std(to_plot)), ymax=5, ymin=0, color='gray', linestyle=\"dashed\", alpha=0.5)\n",
    "#plt.vlines((np.mean(to_plot)+2*np.std(to_plot)), ymax=5, ymin=0, color='gray', linestyle=\"dashed\", alpha=0.5)\n",
    "#plt.vlines((np.mean(to_plot)-2*np.std(to_plot)), ymax=5, ymin=0, color='gray', linestyle=\"dashed\", alpha=0.5)\n",
    "#plt.annotate('ERKD',\n",
    "#            xy=(0.24, 2.5), xycoords='data', size=14, weight='bold',\n",
    "#            xytext=(0.1, 3.5), textcoords='data',\n",
    "#            arrowprops=dict(color=\"black\", arrowstyle='-|>', connectionstyle=\"arc3,rad=0.1\"),\n",
    "#            horizontalalignment='center', verticalalignment='top', color=cscheme[\"cr\"])\n",
    "#plt.ylim(0, 4)\n",
    "#plt.xlabel(\"Average distance from S. cerevisiae frequency\\nacross MSA\")\n",
    "#plt.ylabel(\"Number of 4-aa combinations\")\n",
    "#plt.tight_layout()\n",
    "#plt.show()"
   ]
  },
  {
   "cell_type": "code",
   "execution_count": 52,
   "metadata": {},
   "outputs": [
    {
     "data": {
      "image/png": "[encoded data removed]",
      "text/plain": [
       "<Figure size 309.6x280.8 with 1 Axes>"
      ]
     },
     "metadata": {
      "needs_background": "light"
     },
     "output_type": "display_data"
    }
   ],
   "source": [
    "# Another (inverse) version with different labels\n",
    "fig, ax = plt.subplots(figsize=(4.3,3.9))\n",
    "\n",
    "ax.plot(np.sort(1-to_plot), np.linspace(0, 1, len(to_plot)), linewidth=2, color = 'black')\n",
    "\n",
    "ax.annotate('Charged residues', weight='bold',\n",
    "            xy=(0.6, 1.1), annotation_clip=False, color=cscheme[\"cr\"])\n",
    "ax.axvline(1-0.24, linestyle='--', color=cscheme[\"cr\"])\n",
    "\n",
    "#ax.annotate('Charged\\namino acids',\n",
    "#            xy=(1-0.24, 0.98), xycoords='data', size=14, weight='bold',\n",
    "#            xytext=(0.45, 0.95), textcoords='data',\n",
    "#            arrowprops=dict(color=cscheme['cr'], arrowstyle='-|>', connectionstyle=\"arc3,rad=-0.2\"),\n",
    "#            horizontalalignment='center', verticalalignment='top', color=cscheme[\"cr\"])\n",
    "plt.xlabel(\"Mean conservation (normalized\\ncompositional enrichment across MSA)\")\n",
    "plt.ylabel(\"Cumulative proportion\")\n",
    "plt.tight_layout()\n",
    "plt.savefig('./plots/Figure4E.png', dpi=300)\n",
    "plt.show()"
   ]
  },
  {
   "cell_type": "code",
   "execution_count": 25,
   "metadata": {},
   "outputs": [
    {
     "data": {
      "image/png": "[encoded data removed]",
      "text/plain": [
       "<Figure size 288x288 with 1 Axes>"
      ]
     },
     "metadata": {
      "needs_background": "light"
     },
     "output_type": "display_data"
    }
   ],
   "source": [
    "fig, ax = plt.subplots(figsize=(4,4))\n",
    "\n",
    "ax.plot(np.sort(to_plot), np.linspace(0, 1, len(to_plot)), linewidth=2, color = 'black')\n",
    "ax.annotate('Charged\\namino acids',\n",
    "            xy=(0.24, 0.05), xycoords='data', size=14, weight='bold',\n",
    "            xytext=(0.3, 0.8), textcoords='data',\n",
    "            arrowprops=dict(color=cscheme['cr'], arrowstyle='-|>', connectionstyle=\"arc3,rad=0.1\"),\n",
    "            horizontalalignment='center', verticalalignment='top', color=cscheme[\"cr\"])\n",
    "plt.xlabel(\"Mean distance from S. cerevisiae\\nfrequency across MSA\")\n",
    "plt.ylabel(\"Cumulative proportion\")\n",
    "plt.tight_layout()\n",
    "plt.show()"
   ]
  },
  {
   "cell_type": "code",
   "execution_count": 27,
   "metadata": {},
   "outputs": [
    {
     "data": {
      "text/plain": [
       "209"
      ]
     },
     "execution_count": 27,
     "metadata": {},
     "output_type": "execute_result"
    }
   ],
   "source": [
    "len(to_plot)"
   ]
  },
  {
   "cell_type": "code",
   "execution_count": null,
   "metadata": {},
   "outputs": [],
   "source": []
  }
 ],
 "metadata": {
  "kernelspec": {
   "display_name": "Python 3.9.12 ('env_hcr')",
   "language": "python",
   "name": "python3"
  },
  "language_info": {
   "codemirror_mode": {
    "name": "ipython",
    "version": 3
   },
   "file_extension": ".py",
   "mimetype": "text/x-python",
   "name": "python",
   "nbconvert_exporter": "python",
   "pygments_lexer": "ipython3",
   "version": "3.9.12"
  },
  "vscode": {
   "interpreter": {
    "hash": "cf9c92407ea329efb8c9016a715d7811f432985378f61b50691b48c8c409138b"
   }
  }
 },
 "nbformat": 4,
 "nbformat_minor": 4
}
