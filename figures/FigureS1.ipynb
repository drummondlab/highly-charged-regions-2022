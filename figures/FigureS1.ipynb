{
 "cells": [
  {
   "cell_type": "code",
   "execution_count": 1,
   "metadata": {},
   "outputs": [],
   "source": [
    "# Imports\n",
    "import numpy as np\n",
    "import scipy as sp\n",
    "import pandas as pd\n",
    "import random\n",
    "\n",
    "import sys\n",
    "sys.path.append(\"../code/scripts/\")\n",
    "import chargepatterns as cp\n",
    "\n",
    "from Bio import SeqIO\n",
    "from Bio.Seq import Seq\n",
    "from Bio.SeqRecord import SeqRecord\n",
    "#from Bio.Alphabet import IUPAC\n",
    "\n",
    "import matplotlib.pyplot as plt\n",
    "import seaborn as sns\n",
    "from IPython.display import Image\n",
    "\n",
    "plt.rcParams.update({'font.size': 14})\n",
    "plt.rcParams['font.family'] = 'sans-serif'\n",
    "plt.rcParams['font.sans-serif'] = \"Arial\"\n",
    "\n",
    "## Colors\n",
    "cscheme = {'pos':'#0177BB', 'neg':'#CB3627', 'dis':'#828282', 'helix':'#009988', 'sheet':'#EE7733', 'cr':'#AA4499'}\n",
    "\n",
    "## Set seed for consistency\n",
    "### In the future when writing code with random remember to use new methods which explicitly create generators\n",
    "seed = 212121"
   ]
  },
  {
   "cell_type": "code",
   "execution_count": 3,
   "metadata": {},
   "outputs": [],
   "source": [
    "# Import proteome data\n",
    "scerprot = []\n",
    "#for record in SeqIO.parse(\"../data/orf_trans_all_R64-2-1_20150113.fasta\", \"fasta\"):\n",
    "for record in SeqIO.parse(\"../data/ref_proteomes/Saccharomyces_cerevisiae.fasta\", \"fasta\"):\n",
    "    scerprot.append(record)"
   ]
  },
  {
   "cell_type": "markdown",
   "metadata": {},
   "source": [
    "### Data\n",
    "\n",
    "#### Window size 50"
   ]
  },
  {
   "cell_type": "code",
   "execution_count": 4,
   "metadata": {},
   "outputs": [],
   "source": [
    "scer_fclist50 = []\n",
    "for orf in scerprot:\n",
    "    seq = str(orf.seq).replace('*', '')\n",
    "    windowsize = 50\n",
    "    i = 0\n",
    "    while (i + windowsize < (len(seq)+5)):\n",
    "        blob = seq[i: i+windowsize]\n",
    "        fraccharge = cp.fraction_charged(blob)\n",
    "        scer_fclist50.append(fraccharge)\n",
    "        i += 5"
   ]
  },
  {
   "cell_type": "code",
   "execution_count": 5,
   "metadata": {},
   "outputs": [
    {
     "data": {
      "text/plain": [
       "0.42130804856614906"
      ]
     },
     "execution_count": 5,
     "metadata": {},
     "output_type": "execute_result"
    }
   ],
   "source": [
    "fc50_mean = np.mean(scer_fclist50)\n",
    "fc50_sigma = np.std(scer_fclist50)\n",
    "\n",
    "fc50_2sigma = fc50_mean + 2*fc50_sigma\n",
    "fc50_2sigma"
   ]
  },
  {
   "cell_type": "code",
   "execution_count": 7,
   "metadata": {},
   "outputs": [],
   "source": [
    "df = pd.read_csv('../data/charged_regions/cr_trimmed_raw.csv',\n",
    "                comment=\"#\")"
   ]
  },
  {
   "cell_type": "code",
   "execution_count": 8,
   "metadata": {},
   "outputs": [
    {
     "data": {
      "text/plain": [
       "2.079771865494243"
      ]
     },
     "execution_count": 8,
     "metadata": {},
     "output_type": "execute_result"
    }
   ],
   "source": [
    "(np.min(df['frac.charge']) - fc50_mean) / fc50_sigma"
   ]
  },
  {
   "cell_type": "markdown",
   "metadata": {},
   "source": [
    "#### Window size 100"
   ]
  },
  {
   "cell_type": "code",
   "execution_count": 9,
   "metadata": {},
   "outputs": [],
   "source": [
    "scer_fclist100 = []\n",
    "for orf in scerprot:\n",
    "    seq = str(orf.seq).replace('*', '')\n",
    "    windowsize = 100\n",
    "    i = 0\n",
    "    while (i + windowsize < (len(seq)+5)):\n",
    "        blob = seq[i: i+windowsize]\n",
    "        fraccharge = cp.fraction_charged(blob)\n",
    "        scer_fclist100.append(fraccharge)\n",
    "        i += 5"
   ]
  },
  {
   "cell_type": "code",
   "execution_count": 10,
   "metadata": {},
   "outputs": [
    {
     "data": {
      "text/plain": [
       "0.39078439419686906"
      ]
     },
     "execution_count": 10,
     "metadata": {},
     "output_type": "execute_result"
    }
   ],
   "source": [
    "fc100_mean = np.mean(scer_fclist100)\n",
    "fc100_sigma = np.std(scer_fclist100)\n",
    "\n",
    "fc100_2sigma = fc100_mean + 2*fc100_sigma\n",
    "fc100_2sigma"
   ]
  },
  {
   "cell_type": "markdown",
   "metadata": {},
   "source": [
    "#### Randomized"
   ]
  },
  {
   "cell_type": "code",
   "execution_count": 11,
   "metadata": {},
   "outputs": [],
   "source": [
    "import string\n",
    "\n",
    "def get_aa_freqs(seq, counts = False, sort_output = True, gaps = False):\n",
    "    \"\"\"\n",
    "    Arguments:\n",
    "    seq: a sequences (string representing a protein, drawn from the 20 naturally-occuring amino acids)\n",
    "    counts: bool, whether to return the counts in each category or the frequencies. False (returns freqs) by default.\n",
    "    sort_output: bool, whether to return the frequencies or counts in alphabetically sorted order. True by default.\n",
    "    If false, the categories will also be returned.\n",
    "    Returns:\n",
    "    aas: if unsorted, an iterable of the categories (amino acids) represented for each sequence\n",
    "    freqs: an interable of the frequency of each category in the sequence.\n",
    "        The indices match the categories in the same index in 'aas'.\n",
    "        If counts is True, this will be raw counts rather than frequency.\n",
    "        If sort_output is True only the frequencies will be returned, the assumed order is the\n",
    "        amino acids in alphabetical order.\n",
    "    \"\"\"\n",
    "    # Amino acids\n",
    "    forbidden = ['B', 'J', 'O', 'U', 'X', 'Z']\n",
    "    aas = []\n",
    "    for a in string.ascii_uppercase:\n",
    "        if a not in forbidden:\n",
    "            aas.append(a)\n",
    "    if gaps:\n",
    "        aas.append('-')\n",
    "    \n",
    "    all_seq_aas = []\n",
    "    all_seq_freqs = []\n",
    "    \n",
    "    # Parse sequence\n",
    "    seq = list(seq)\n",
    "    seq_aas, seq_counts = np.unique(seq, return_counts=True)\n",
    "    zero_freq_aas = np.setxor1d(aas, seq_aas)\n",
    "\n",
    "    seq_aas = np.append(seq_aas, zero_freq_aas)\n",
    "    seq_freqs = np.append(seq_counts, np.zeros(zero_freq_aas.size))\n",
    "    if not counts:\n",
    "        seq_freqs = seq_freqs / len(seq)\n",
    "\n",
    "    if sort_output:\n",
    "        seq_freqs_sorted = seq_freqs[seq_aas.argsort()]\n",
    "        all_seq_freqs.append(seq_freqs_sorted)\n",
    "\n",
    "    else:\n",
    "        all_seq_aas.append(seq_aas)\n",
    "        all_seq_freqs.append(seq_freqs)\n",
    "    \n",
    "    if sort_output:\n",
    "        return(all_seq_freqs)\n",
    "    else:\n",
    "        return(all_seq_aas, all_seq_freqs)"
   ]
  },
  {
   "cell_type": "code",
   "execution_count": 12,
   "metadata": {},
   "outputs": [],
   "source": [
    "# Average aa composition of yeast proteome\n",
    "scercomp = np.zeros(20)\n",
    "for orf in scerprot:\n",
    "    seq = str(orf.seq).replace('*', '')\n",
    "    scercomp = np.add(scercomp, get_aa_freqs(seq))\n",
    "scercomp = np.divide(scercomp, len(scerprot))[0]"
   ]
  },
  {
   "cell_type": "code",
   "execution_count": 13,
   "metadata": {},
   "outputs": [],
   "source": [
    "# Amino acids\n",
    "forbidden = ['B', 'J', 'O', 'U', 'X', 'Z']\n",
    "aas = []\n",
    "for a in string.ascii_uppercase:\n",
    "    if a not in forbidden:\n",
    "        aas.append(a)    \n",
    "\n",
    "np.random.seed(seed)        \n",
    "        \n",
    "scernull = []\n",
    "for orf in scerprot:\n",
    "    seq = str(orf.seq).replace('*', '')\n",
    "    seqlen = len(seq)\n",
    "    nullseq = \"\".join(np.random.choice(aas, size=seqlen, p=scercomp))\n",
    "    scernull.append(nullseq)"
   ]
  },
  {
   "cell_type": "code",
   "execution_count": 14,
   "metadata": {},
   "outputs": [],
   "source": [
    "scernull_fclist = []\n",
    "for seq in scernull:\n",
    "    windowsize = 50\n",
    "    i = 0\n",
    "    while (i + windowsize < (len(seq)+5)):\n",
    "        blob = seq[i: i+windowsize]\n",
    "        fraccharge = cp.fraction_charged(blob)\n",
    "        scernull_fclist.append(fraccharge)\n",
    "        i += 5"
   ]
  },
  {
   "cell_type": "code",
   "execution_count": 15,
   "metadata": {},
   "outputs": [
    {
     "data": {
      "text/plain": [
       "0.3515990563845538"
      ]
     },
     "execution_count": 15,
     "metadata": {},
     "output_type": "execute_result"
    }
   ],
   "source": [
    "fcnull50_mean = np.mean(scernull_fclist)\n",
    "fcnull50_sigma = np.std(scernull_fclist)\n",
    "\n",
    "fcnull50_2sigma = fcnull50_mean + 2*fcnull50_sigma\n",
    "fcnull50_2sigma"
   ]
  },
  {
   "cell_type": "markdown",
   "metadata": {},
   "source": [
    "## Figure S1"
   ]
  },
  {
   "cell_type": "code",
   "execution_count": 23,
   "metadata": {},
   "outputs": [
    {
     "data": {
      "image/png": "[encoded data removed]",
      "text/plain": [
       "<Figure size 288x288 with 1 Axes>"
      ]
     },
     "metadata": {
      "needs_background": "light"
     },
     "output_type": "display_data"
    }
   ],
   "source": [
    "fig, ax = plt.subplots(figsize=(4,4))\n",
    "\n",
    "sns.kdeplot(scer_fclist100, bw_method=0.5, color = 'black', label = \"window=100,\\nproteome\")\n",
    "sns.kdeplot(scer_fclist50, bw_method=0.5, color = cscheme[\"cr\"], label = \"window=50,\\nproteome\")\n",
    "sns.kdeplot(scernull_fclist, bw_method=0.5, color=cscheme[\"dis\"], label = \"window=50,\\nrandom\")\n",
    "\n",
    "ax.axvline(x=fc100_2sigma, ymin=0, ymax=100000, color = \"black\")\n",
    "ax.axvline(x=fc50_2sigma, ymin=0, ymax=100000, color=cscheme[\"cr\"])\n",
    "ax.axvline(x=fcnull50_2sigma, ymin=0, ymax=100000, color = cscheme[\"dis\"])\n",
    "ax.axvline(x=np.min(df['frac.charge']), ymin=0, ymax=100000, color = \"red\", ls='--', label=\"Minimum FCR\\nof hits\")\n",
    "\n",
    "ax.set_xlabel('Fraction of charged residues (FCR)')\n",
    "ax.set_xlim((0,1))\n",
    "ax.set_ylabel('Density')\n",
    "plt.legend(bbox_to_anchor=(1.7, 0.88), frameon=False)\n",
    "\n",
    "#plt.tight_layout()\n",
    "plt.savefig('./plots/FigureS1A.png', dpi=300, bbox_inches='tight')\n",
    "plt.show()"
   ]
  },
  {
   "cell_type": "markdown",
   "metadata": {},
   "source": [
    "## Figure S2"
   ]
  },
  {
   "cell_type": "code",
   "execution_count": 24,
   "metadata": {},
   "outputs": [],
   "source": [
    "charged_hits = pd.read_table(\"../data/charged_regions/cr_raw.csv\",\n",
    "                           sep = ',', skiprows = 0, comment='#')"
   ]
  },
  {
   "cell_type": "code",
   "execution_count": 26,
   "metadata": {},
   "outputs": [
    {
     "data": {
      "image/png": "[encoded data removed]",
      "text/plain": [
       "<Figure size 324x288 with 1 Axes>"
      ]
     },
     "metadata": {
      "needs_background": "light"
     },
     "output_type": "display_data"
    }
   ],
   "source": [
    "plt.figure(figsize=(4.5,4))\n",
    "sns.kdeplot(charged_hits[\"region.len\"], color=cscheme[\"cr\"])\n",
    "plt.xlim((0,310))\n",
    "plt.xlabel(\"Region length (amino acids)\")\n",
    "plt.ylabel(\"Count\")\n",
    "plt.tight_layout()\n",
    "plt.savefig('./plots/FigureS1C.png', dpi=300)\n",
    "plt.show()"
   ]
  }
 ],
 "metadata": {
  "kernelspec": {
   "display_name": "Python 3.9.12 ('env_hcr')",
   "language": "python",
   "name": "python3"
  },
  "language_info": {
   "codemirror_mode": {
    "name": "ipython",
    "version": 3
   },
   "file_extension": ".py",
   "mimetype": "text/x-python",
   "name": "python",
   "nbconvert_exporter": "python",
   "pygments_lexer": "ipython3",
   "version": "3.9.12"
  },
  "toc": {
   "base_numbering": 1,
   "nav_menu": {},
   "number_sections": false,
   "sideBar": true,
   "skip_h1_title": true,
   "title_cell": "Table of Contents",
   "title_sidebar": "Contents",
   "toc_cell": true,
   "toc_position": {},
   "toc_section_display": true,
   "toc_window_display": false
  },
  "vscode": {
   "interpreter": {
    "hash": "cf9c92407ea329efb8c9016a715d7811f432985378f61b50691b48c8c409138b"
   }
  }
 },
 "nbformat": 4,
 "nbformat_minor": 2
}
