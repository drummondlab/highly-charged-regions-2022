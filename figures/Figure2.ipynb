{
 "cells": [
  {
   "cell_type": "markdown",
   "metadata": {},
   "source": [
    "# Figure 2"
   ]
  },
  {
   "cell_type": "code",
   "execution_count": 18,
   "metadata": {},
   "outputs": [],
   "source": [
    "## Basics\n",
    "import numpy as np\n",
    "import pandas as pd\n",
    "import glob\n",
    "import mdtraj as md\n",
    "import gzip\n",
    "\n",
    "## Bio functions\n",
    "from Bio.Seq import Seq\n",
    "from Bio import SeqIO\n",
    "from Bio import AlignIO\n",
    "from Bio.Seq import Seq\n",
    "from Bio import SeqIO\n",
    "from Bio.SeqRecord import SeqRecord\n",
    "\n",
    "## Plotting\n",
    "import matplotlib.pyplot as plt\n",
    "import seaborn as sns\n",
    "plt.rcParams.update({'font.size': 14})\n",
    "plt.rcParams['font.family'] = 'sans-serif'\n",
    "plt.rcParams['font.sans-serif'] = \"Arial\"\n",
    "\n",
    "## Colors\n",
    "cscheme = {'pos':'#0177BB', 'neg':'#CB3627', 'dis':'#828282', 'helix':'#009988', 'sheet':'#EE7733', 'cr':'#AA4499',\n",
    "          'null':\"black\"}"
   ]
  },
  {
   "cell_type": "code",
   "execution_count": 3,
   "metadata": {},
   "outputs": [],
   "source": [
    "import sys\n",
    "sys.path.append(\"../code/scripts\")\n",
    "import parseaf as paf"
   ]
  },
  {
   "cell_type": "code",
   "execution_count": 4,
   "metadata": {},
   "outputs": [],
   "source": [
    "# Filepaths\n",
    "path_to_af_data = \"/Volumes/DATA/alphafold/UP000002311_559292_YEAST/\""
   ]
  },
  {
   "cell_type": "markdown",
   "metadata": {},
   "source": [
    "### Local functions"
   ]
  },
  {
   "cell_type": "code",
   "execution_count": 5,
   "metadata": {},
   "outputs": [],
   "source": [
    "def get_ss_freqs(seq, counts = False, sort_output = True, gaps = False):\n",
    "    ss_types = ['C', 'E', 'H']\n",
    "    \n",
    "    all_seq_ss = []\n",
    "    all_seq_freqs = []\n",
    "    \n",
    "    # Parse sequence\n",
    "    seq = list(seq)\n",
    "    seq_ss, seq_counts = np.unique(seq, return_counts=True)\n",
    "    zero_freq_ss = np.setxor1d(ss_types, seq_ss)\n",
    "\n",
    "    seq_ss = np.append(seq_ss, zero_freq_ss)\n",
    "    seq_freqs = np.append(seq_counts, np.zeros(zero_freq_ss.size))\n",
    "    if not counts:\n",
    "        seq_freqs = seq_freqs / len(seq)\n",
    "\n",
    "    if sort_output:\n",
    "        seq_freqs_sorted = seq_freqs[seq_ss.argsort()]\n",
    "        all_seq_freqs.append(seq_freqs_sorted)\n",
    "\n",
    "    else:\n",
    "        all_seq_ss.append(seq_ss)\n",
    "        all_seq_freqs.append(seq_freqs)\n",
    "    \n",
    "    if sort_output:\n",
    "        return(all_seq_freqs)\n",
    "    else:\n",
    "        return(all_seq_ss, all_seq_freqs)"
   ]
  },
  {
   "cell_type": "markdown",
   "metadata": {},
   "source": [
    "### Data"
   ]
  },
  {
   "cell_type": "code",
   "execution_count": 6,
   "metadata": {},
   "outputs": [],
   "source": [
    "df = pd.read_csv('../data/charged_regions/cr_raw.csv',\n",
    "                comment=\"#\")"
   ]
  },
  {
   "cell_type": "code",
   "execution_count": 8,
   "metadata": {},
   "outputs": [
    {
     "name": "stderr",
     "output_type": "stream",
     "text": [
      "/Users/triandafillou/opt/anaconda3/lib/python3.8/site-packages/mdtraj/formats/pdb/pdbfile.py:196: UserWarning: Unlikely unit cell vectors detected in PDB file likely resulting from a dummy CRYST1 record. Discarding unit cell vectors.\n",
      "  warnings.warn('Unlikely unit cell vectors detected in PDB file likely '\n"
     ]
    },
    {
     "name": "stdout",
     "output_type": "stream",
     "text": [
      "/Volumes/DATA/alphafold/UP000002311_559292_YEAST/AF-P53288-F1-model_v1.pdb.gz\n",
      "/Volumes/DATA/alphafold/UP000002311_559292_YEAST/AF-P38811-F1-model_v1.pdb.gz\n",
      "/Volumes/DATA/alphafold/UP000002311_559292_YEAST/AF-P38811-F1-model_v1.pdb.gz\n",
      "/Volumes/DATA/alphafold/UP000002311_559292_YEAST/AF-P36022-F1-model_v1.pdb.gz\n",
      "/Volumes/DATA/alphafold/UP000002311_559292_YEAST/AF-Q12019-F1-model_v1.pdb.gz\n",
      "/Volumes/DATA/alphafold/UP000002311_559292_YEAST/AF-Q12019-F1-model_v1.pdb.gz\n",
      "/Volumes/DATA/alphafold/UP000002311_559292_YEAST/AF-Q12019-F1-model_v1.pdb.gz\n",
      "/Volumes/DATA/alphafold/UP000002311_559292_YEAST/AF-Q12019-F1-model_v1.pdb.gz\n",
      "/Volumes/DATA/alphafold/UP000002311_559292_YEAST/AF-Q6B0X1-F1-model_v1.pdb.gz\n",
      "/Volumes/DATA/alphafold/UP000002311_559292_YEAST/AF-Q08428-F1-model_v1.pdb.gz\n",
      "/Volumes/DATA/alphafold/UP000002311_559292_YEAST/AF-Q12444-F1-model_v1.pdb.gz\n"
     ]
    }
   ],
   "source": [
    "# Calculate normalized hydropathy, net charge, and percent disordered for each sequence\n",
    "hits_disordered_frac = []\n",
    "hits_conf = []\n",
    "hits_ss = []\n",
    "\n",
    "for index, row in df.iterrows():\n",
    "    orf = row['orf']\n",
    "    uid = row['uni_id']\n",
    "    seq = row['region.seq']\n",
    "    \n",
    "    # Read alphafold pLDDT scoress for the sequence\n",
    "    af_fp = paf.get_alphafold_fp(uid, path_to_af_data)+'.gz'\n",
    "    try:\n",
    "        pLDDTs = paf.read_bfactor_from_pdb(af_fp)[row['left.bound']:row['right.bound']+1]\n",
    "    except FileNotFoundError:\n",
    "        print(af_fp)\n",
    "        continue\n",
    "    \n",
    "    \n",
    "    #disordered = np.sum([1 for i in pLDDTs if i < 70.])\n",
    "    \n",
    "    # Get confidence scores mask\n",
    "    conf = [True if i > 70. else False for i in pLDDTs]\n",
    "    \n",
    "    # Secondary structure prediction for each region\n",
    "    structure = md.load(af_fp)\n",
    "    ss = md.compute_dssp(structure, simplified=True)\n",
    "    region_ss = ss[0][row['left.bound']:row['right.bound']+1]\n",
    "    hits_ss.append(region_ss)\n",
    "    \n",
    "    # Score each residue as disordered or ordered based on pLDDT value\n",
    "    ### UPDATE\n",
    "    disordered = 0\n",
    "    for r, resid in enumerate(pLDDTs):\n",
    "        if resid < 70.:\n",
    "            disordered += 1\n",
    "        elif region_ss[r] == 'C':\n",
    "            disordered += 1\n",
    "        \n",
    "    # Calculate fraction disorder for the region\n",
    "    hits_disordered_frac.append(disordered / row['region.len'])\n",
    "    hits_conf.append(conf)"
   ]
  },
  {
   "cell_type": "code",
   "execution_count": 12,
   "metadata": {},
   "outputs": [
    {
     "name": "stderr",
     "output_type": "stream",
     "text": [
      "/Users/triandafillou/opt/anaconda3/lib/python3.8/site-packages/mdtraj/formats/pdb/pdbfile.py:196: UserWarning: Unlikely unit cell vectors detected in PDB file likely resulting from a dummy CRYST1 record. Discarding unit cell vectors.\n",
      "  warnings.warn('Unlikely unit cell vectors detected in PDB file likely '\n"
     ]
    }
   ],
   "source": [
    "# Compare to random regions of the same length\n",
    "all_af_predictions = glob.glob(path_to_af_data+'*.pdb.gz')\n",
    "\n",
    "rand_disordered_frac = []\n",
    "rand_conf = []\n",
    "rand_ss = []\n",
    "\n",
    "\n",
    "for index, row in df.iterrows():\n",
    "    # Choose random alphafold output\n",
    "    rfile = np.random.choice(all_af_predictions)\n",
    "    raf = paf.read_bfactor_from_pdb(rfile)\n",
    "    # If the length of the protein is less than the region, redraw\n",
    "    while row['region.len'] > len(raf):\n",
    "        rfile = np.random.choice(all_af_predictions)\n",
    "        raf = paf.read_bfactor_from_pdb(rfile)\n",
    "    \n",
    "    rstart = np.random.choice(np.arange(len(raf) - row['region.len']+1))\n",
    "    rend = rstart+row['region.len']+1\n",
    "    \n",
    "    # Get the sequence of this random region\n",
    "    rseq = paf.read_seq_from_pdb(rfile)[rstart:rend]\n",
    "    if len(rseq) == 0:\n",
    "        continue\n",
    "    rpLDDTs = raf[rstart:rend]\n",
    "    \n",
    "    \n",
    "    # Score each residue as disordered or ordered based on pLDDT value\n",
    "    #disordered = np.sum([1 for i in rpLDDTs if i < 70.])\n",
    "    conf = [True if i > 70. else False for i in rpLDDTs]\n",
    "    \n",
    "\n",
    "    \n",
    "    # Secondary structure prediction for each region\n",
    "    structure = md.load(rfile)\n",
    "    ss = md.compute_dssp(structure, simplified=True)\n",
    "    region_ss = ss[0][rstart:rend]\n",
    "    rand_ss.append(region_ss)\n",
    "    \n",
    "    # Score each residue as disordered or ordered based on pLDDT value\n",
    "    ### UPDATE\n",
    "    disordered = 0\n",
    "    for r, resid in enumerate(rpLDDTs):\n",
    "        if resid < 70.:\n",
    "            disordered += 1\n",
    "        elif region_ss[r] == 'C':\n",
    "            disordered += 1\n",
    "            \n",
    "    # Calculate fraction disorder for the region\n",
    "    rand_disordered_frac.append(disordered / row['region.len'])\n",
    "    rand_conf.append(conf)"
   ]
  },
  {
   "cell_type": "code",
   "execution_count": 13,
   "metadata": {},
   "outputs": [],
   "source": [
    "# Compare to regions from disprot:\n",
    "yeast_disprot = pd.read_csv(\"../data/misc/search_in_disprot.tsv\", sep = \"\\t\")\n",
    "uniprot_to_sgid = pd.read_table(\"../data/misc/uniprot-acc_to_sgid.txt\", sep = \"\\t\")\n",
    "sgid_to_orf_names = [\"SGID\", \"orf\", \"gene\", \"gene_name\", \"sgd_alias\", \"brief_description\", \"organism\", \"gene_type\"]\n",
    "sgid_to_orf = pd.read_csv(\"../data/misc/all-sgd-orfs-w-sgid-and-systematic.tsv\", sep = \"\\t\", names=sgid_to_orf_names)"
   ]
  },
  {
   "cell_type": "code",
   "execution_count": 15,
   "metadata": {},
   "outputs": [],
   "source": [
    "mapping = pd.merge(uniprot_to_sgid, sgid_to_orf, how=\"left\", on=\"SGID\")\n",
    "mapping = mapping.drop([\"gene_name\", \"sgd_alias\", \"brief_description\", \"organism\", \"gene_type\"], axis=1)\n",
    "yeast_disprot_w_orfs = pd.merge(yeast_disprot, mapping, how='left', on=[\"acc\"])\n",
    "#yeast_disprot_w_orfs.head()"
   ]
  },
  {
   "cell_type": "code",
   "execution_count": 16,
   "metadata": {},
   "outputs": [
    {
     "name": "stderr",
     "output_type": "stream",
     "text": [
      "/Users/triandafillou/opt/anaconda3/lib/python3.8/site-packages/mdtraj/formats/pdb/pdbfile.py:196: UserWarning: Unlikely unit cell vectors detected in PDB file likely resulting from a dummy CRYST1 record. Discarding unit cell vectors.\n",
      "  warnings.warn('Unlikely unit cell vectors detected in PDB file likely '\n"
     ]
    }
   ],
   "source": [
    "idr_disordered_frac = []\n",
    "idr_conf = []\n",
    "idr_ss = []\n",
    "\n",
    "\n",
    "for index, row in yeast_disprot_w_orfs.iterrows():\n",
    "    orf = row['orf']\n",
    "    uid = row['acc']\n",
    "    seq = row['region_sequence']\n",
    "    start = row['start']\n",
    "    end = row['end']\n",
    "\n",
    "    # Pull the alphafold prediction for this region\n",
    "    af_fp = paf.get_alphafold_fp(uid, path_to_af_data)+'.gz'\n",
    "    try:\n",
    "        pLDDTs = paf.read_bfactor_from_pdb(af_fp)[start:end]\n",
    "    except FileNotFoundError:\n",
    "        print(\"File {} not found\".format(af_fp))\n",
    "        continue\n",
    "        \n",
    "    # Check that region matches af prediction\n",
    "    af_seq = paf.read_seq_from_pdb(af_fp)[start-1:end]\n",
    "    if af_seq != seq:\n",
    "        print(\"Sequences don't match for Uniprot ID {} (orf {})\".format(uid,orf))\n",
    "        continue\n",
    "\n",
    "    # Binarize confidence scores\n",
    "    conf = [True if i > 70. else False for i in pLDDTs]\n",
    "    \n",
    "    # Secondary structure prediction for each region\n",
    "    structure = md.load(af_fp)\n",
    "    ss = md.compute_dssp(structure, simplified=True)\n",
    "    region_ss = ss[0][start:end]\n",
    "    idr_ss.append(region_ss)\n",
    "    \n",
    "    # Score each residue as disordered or ordered based on pLDDT value\n",
    "    ### UPDATE\n",
    "    disordered = 0\n",
    "    for r, resid in enumerate(pLDDTs):\n",
    "        if resid < 70.:\n",
    "            disordered += 1\n",
    "        elif region_ss[r] == 'C':\n",
    "            disordered += 1\n",
    "    \n",
    "    # Calculate fraction disorder for the region\n",
    "    idr_disordered_frac.append(disordered / len(seq))\n",
    "    idr_conf.append(conf)"
   ]
  },
  {
   "cell_type": "code",
   "execution_count": 19,
   "metadata": {},
   "outputs": [
    {
     "data": {
      "image/png": "[encoded data removed]",
      "text/plain": [
       "<Figure size 360x306 with 1 Axes>"
      ]
     },
     "metadata": {
      "needs_background": "light"
     },
     "output_type": "display_data"
    }
   ],
   "source": [
    "plt.figure(figsize=(5,4.25))\n",
    "sns.kdeplot(idr_disordered_frac, label='Disprot regions (yeast)', color=cscheme['dis'], linewidth=2)\n",
    "sns.kdeplot(rand_disordered_frac, label='Randomly-drawn\\nregions', color=cscheme['null'], linewidth=2)\n",
    "sns.kdeplot(hits_disordered_frac, label='Highly charged regions', color=cscheme['cr'], linewidth=2)\n",
    "plt.xlabel('Fraction of disordered residues in region')\n",
    "plt.ylabel('Density')\n",
    "plt.legend()\n",
    "plt.tight_layout()\n",
    "plt.show()"
   ]
  },
  {
   "cell_type": "code",
   "execution_count": null,
   "metadata": {},
   "outputs": [],
   "source": []
  }
 ],
 "metadata": {
  "kernelspec": {
   "display_name": "Python 3",
   "language": "python",
   "name": "python3"
  },
  "language_info": {
   "codemirror_mode": {
    "name": "ipython",
    "version": 3
   },
   "file_extension": ".py",
   "mimetype": "text/x-python",
   "name": "python",
   "nbconvert_exporter": "python",
   "pygments_lexer": "ipython3",
   "version": "3.8.5"
  }
 },
 "nbformat": 4,
 "nbformat_minor": 4
}
